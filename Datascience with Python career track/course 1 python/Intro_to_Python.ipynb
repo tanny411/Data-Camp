{
  "nbformat": 4,
  "nbformat_minor": 0,
  "metadata": {
    "colab": {
      "name": "Intro to Python.ipynb",
      "version": "0.3.2",
      "provenance": [],
      "collapsed_sections": []
    },
    "kernelspec": {
      "name": "python3",
      "display_name": "Python 3"
    }
  },
  "cells": [
    {
      "cell_type": "markdown",
      "metadata": {
        "id": "aHJBZkuzz18X",
        "colab_type": "text"
      },
      "source": [
        "# Datascience career track: course 1 : Intro to Python"
      ]
    },
    {
      "cell_type": "markdown",
      "metadata": {
        "id": "QVkKkfWX2yYh",
        "colab_type": "text"
      },
      "source": [
        "### lists"
      ]
    },
    {
      "cell_type": "code",
      "metadata": {
        "id": "ZgmGEuiNzx7R",
        "colab_type": "code",
        "outputId": "931117fb-68fe-4259-e07e-a43d3ea89518",
        "colab": {
          "base_uri": "https://localhost:8080/",
          "height": 51
        }
      },
      "source": [
        "x = [1,2,3,4,'x','y',[9,0,'z']]\n",
        "print(x)\n",
        "y = x\n",
        "y[0]=101\n",
        "print(x,y) #x also changes"
      ],
      "execution_count": 0,
      "outputs": [
        {
          "output_type": "stream",
          "text": [
            "[1, 2, 3, 4, 'x', 'y', [9, 0, 'z']]\n",
            "[101, 2, 3, 4, 'x', 'y', [9, 0, 'z']] [101, 2, 3, 4, 'x', 'y', [9, 0, 'z']]\n"
          ],
          "name": "stdout"
        }
      ]
    },
    {
      "cell_type": "code",
      "metadata": {
        "id": "3raytWWL0FJN",
        "colab_type": "code",
        "outputId": "075a91da-0597-495e-d1df-8c44bde5e8e8",
        "colab": {
          "base_uri": "https://localhost:8080/",
          "height": 68
        }
      },
      "source": [
        "print(x)\n",
        "\n",
        "z=list(x) #x wont change\n",
        "z[0]=99\n",
        "print(z,x)\n",
        "\n",
        "w=x[:] #x wont change\n",
        "w[0]=78\n",
        "print(w,x)"
      ],
      "execution_count": 0,
      "outputs": [
        {
          "output_type": "stream",
          "text": [
            "[101, 2, 3, 4, 'x', 'y', [9, 0, 'z']]\n",
            "[99, 2, 3, 4, 'x', 'y', [9, 0, 'z']] [101, 2, 3, 4, 'x', 'y', [9, 0, 'z']]\n",
            "[78, 2, 3, 4, 'x', 'y', [9, 0, 'z']] [101, 2, 3, 4, 'x', 'y', [9, 0, 'z']]\n"
          ],
          "name": "stdout"
        }
      ]
    },
    {
      "cell_type": "markdown",
      "metadata": {
        "id": "Tdg2TMIj20hZ",
        "colab_type": "text"
      },
      "source": [
        "### + operator"
      ]
    },
    {
      "cell_type": "code",
      "metadata": {
        "id": "WoWAUvno0Vty",
        "colab_type": "code",
        "outputId": "e90a9dbe-cfb6-41f6-947b-34301faff215",
        "colab": {
          "base_uri": "https://localhost:8080/",
          "height": 34
        }
      },
      "source": [
        "#various ways + operator works\n",
        "i = 98\n",
        "s = \"aysha\"\n",
        "l = [1,2,0]\n",
        "\n",
        "print(i+i,s+s,l+l)"
      ],
      "execution_count": 0,
      "outputs": [
        {
          "output_type": "stream",
          "text": [
            "196 ayshaaysha [1, 2, 0, 1, 2, 0]\n"
          ],
          "name": "stdout"
        }
      ]
    },
    {
      "cell_type": "markdown",
      "metadata": {
        "id": "5RfJW2Fc25UT",
        "colab_type": "text"
      },
      "source": [
        "### list del"
      ]
    },
    {
      "cell_type": "code",
      "metadata": {
        "id": "UKvo5HQh1bGd",
        "colab_type": "code",
        "outputId": "f0ec7cb6-1257-428a-8048-663c4c436974",
        "colab": {
          "base_uri": "https://localhost:8080/",
          "height": 51
        }
      },
      "source": [
        "print(l)\n",
        "del(l[2])\n",
        "print(l)"
      ],
      "execution_count": 0,
      "outputs": [
        {
          "output_type": "stream",
          "text": [
            "[1, 2, 0]\n",
            "[1, 2]\n"
          ],
          "name": "stdout"
        }
      ]
    },
    {
      "cell_type": "markdown",
      "metadata": {
        "id": "FxbLnCn826vx",
        "colab_type": "text"
      },
      "source": [
        "### functions"
      ]
    },
    {
      "cell_type": "code",
      "metadata": {
        "id": "4MgUu6BH110Z",
        "colab_type": "code",
        "outputId": "93236d17-dbd4-4ac9-cf1e-6140b495138d",
        "colab": {
          "base_uri": "https://localhost:8080/",
          "height": 34
        }
      },
      "source": [
        "#closest integer or to number of digits specified\n",
        "round(1.235) , round(1.235,1) , round(1.235,2) , round(1.235,3)"
      ],
      "execution_count": 0,
      "outputs": [
        {
          "output_type": "execute_result",
          "data": {
            "text/plain": [
              "(1, 1.2, 1.24, 1.235)"
            ]
          },
          "metadata": {
            "tags": []
          },
          "execution_count": 9
        }
      ]
    },
    {
      "cell_type": "code",
      "metadata": {
        "id": "7jFeGJTl3ClC",
        "colab_type": "code",
        "outputId": "a41ba551-d75d-46a1-8502-4195cd97e805",
        "colab": {
          "base_uri": "https://localhost:8080/",
          "height": 170
        }
      },
      "source": [
        "help(round)"
      ],
      "execution_count": 0,
      "outputs": [
        {
          "output_type": "stream",
          "text": [
            "Help on built-in function round in module builtins:\n",
            "\n",
            "round(...)\n",
            "    round(number[, ndigits]) -> number\n",
            "    \n",
            "    Round a number to a given precision in decimal digits (default 0 digits).\n",
            "    This returns an int when called with one argument, otherwise the\n",
            "    same type as the number. ndigits may be negative.\n",
            "\n"
          ],
          "name": "stdout"
        }
      ]
    },
    {
      "cell_type": "code",
      "metadata": {
        "id": "8-7-0gfz3VMk",
        "colab_type": "code",
        "colab": {}
      },
      "source": [
        "# [, ndigits] is optional arguments\n",
        "?round"
      ],
      "execution_count": 0,
      "outputs": []
    },
    {
      "cell_type": "markdown",
      "metadata": {
        "id": "pEIivsdk-cpl",
        "colab_type": "text"
      },
      "source": [
        "### methods: functions that belong to specific objects"
      ]
    },
    {
      "cell_type": "code",
      "metadata": {
        "id": "53OB941H4-Tp",
        "colab_type": "code",
        "outputId": "c0129bfd-4039-4ac3-dd34-6a990066efd0",
        "colab": {
          "base_uri": "https://localhost:8080/",
          "height": 34
        }
      },
      "source": [
        "ls = [\"aysha\",\"aysha\",90,90,91]\n",
        "\n",
        "ls.index(\"aysha\") , ls.count(\"aysha\") , ls.count(90)\n"
      ],
      "execution_count": 0,
      "outputs": [
        {
          "output_type": "execute_result",
          "data": {
            "text/plain": [
              "(0, 2, 2)"
            ]
          },
          "metadata": {
            "tags": []
          },
          "execution_count": 14
        }
      ]
    },
    {
      "cell_type": "code",
      "metadata": {
        "id": "AvjeIc9D-8A1",
        "colab_type": "code",
        "outputId": "b3ad4e7e-1b76-40db-bf8a-f5256f85e467",
        "colab": {
          "base_uri": "https://localhost:8080/",
          "height": 34
        }
      },
      "source": [
        "st = \"aysha\"\n",
        "\n",
        "st.capitalize() , st.replace(\"a\",\"ok\"), st.index('y') , st.upper()"
      ],
      "execution_count": 0,
      "outputs": [
        {
          "output_type": "execute_result",
          "data": {
            "text/plain": [
              "('Aysha', 'okyshok', 1, 'AYSHA')"
            ]
          },
          "metadata": {
            "tags": []
          },
          "execution_count": 17
        }
      ]
    },
    {
      "cell_type": "markdown",
      "metadata": {
        "id": "JKKh54ycDkvH",
        "colab_type": "text"
      },
      "source": [
        "### numpy"
      ]
    },
    {
      "cell_type": "code",
      "metadata": {
        "id": "jSvvylZk_Mru",
        "colab_type": "code",
        "outputId": "340d8484-9a84-4dd3-9489-ca84c6adf74c",
        "colab": {
          "base_uri": "https://localhost:8080/",
          "height": 34
        }
      },
      "source": [
        "## python list = numpy array\n",
        "## can perform calculations over entire arrays , and fast\n",
        "\n",
        "import numpy as np\n",
        "ls = [1,5.7,7,22,3.9]\n",
        "npls=np.array(ls)\n",
        "\n",
        "ls, npls"
      ],
      "execution_count": 0,
      "outputs": [
        {
          "output_type": "execute_result",
          "data": {
            "text/plain": [
              "([1, 5.7, 7, 22, 3.9], array([ 1. ,  5.7,  7. , 22. ,  3.9]))"
            ]
          },
          "metadata": {
            "tags": []
          },
          "execution_count": 2
        }
      ]
    },
    {
      "cell_type": "code",
      "metadata": {
        "id": "ZcuEaCLjD-dq",
        "colab_type": "code",
        "outputId": "00711f77-9679-44e6-d0ed-178929486f2a",
        "colab": {
          "base_uri": "https://localhost:8080/",
          "height": 34
        }
      },
      "source": [
        "npls2=np.array([90,79.9,89,7,78])\n",
        "\n",
        "npls.shape , npls2.shape"
      ],
      "execution_count": 0,
      "outputs": [
        {
          "output_type": "execute_result",
          "data": {
            "text/plain": [
              "((5,), (5,))"
            ]
          },
          "metadata": {
            "tags": []
          },
          "execution_count": 19
        }
      ]
    },
    {
      "cell_type": "code",
      "metadata": {
        "id": "YfWhz7iyEO6v",
        "colab_type": "code",
        "outputId": "077d8efd-47a1-4aa5-aa56-1e38dcf6ea90",
        "colab": {
          "base_uri": "https://localhost:8080/",
          "height": 51
        }
      },
      "source": [
        "npls/npls2**2 ##tadaa"
      ],
      "execution_count": 0,
      "outputs": [
        {
          "output_type": "execute_result",
          "data": {
            "text/plain": [
              "array([1.23456790e-04, 8.92855744e-04, 8.83726802e-04, 4.48979592e-01,\n",
              "       6.41025641e-04])"
            ]
          },
          "metadata": {
            "tags": []
          },
          "execution_count": 20
        }
      ]
    },
    {
      "cell_type": "code",
      "metadata": {
        "id": "jzM_F7lQESe1",
        "colab_type": "code",
        "outputId": "bd4439c1-4308-47e5-effd-2c44c5cd5413",
        "colab": {
          "base_uri": "https://localhost:8080/",
          "height": 34
        }
      },
      "source": [
        "## arrays can contain a SINGLE type only\n",
        "\n",
        "np.array([16,'aysha',True]) #all turned to string"
      ],
      "execution_count": 0,
      "outputs": [
        {
          "output_type": "execute_result",
          "data": {
            "text/plain": [
              "array(['16', 'aysha', 'True'], dtype='<U21')"
            ]
          },
          "metadata": {
            "tags": []
          },
          "execution_count": 21
        }
      ]
    },
    {
      "cell_type": "code",
      "metadata": {
        "id": "gPGi22nkEk2e",
        "colab_type": "code",
        "outputId": "e1a9dc77-d69d-4299-cd4f-15e19fc2bb99",
        "colab": {
          "base_uri": "https://localhost:8080/",
          "height": 34
        }
      },
      "source": [
        "# + doesnt act like in lists, its actually adds\n",
        "npls+npls2"
      ],
      "execution_count": 0,
      "outputs": [
        {
          "output_type": "execute_result",
          "data": {
            "text/plain": [
              "array([91. , 85.6, 96. , 29. , 81.9])"
            ]
          },
          "metadata": {
            "tags": []
          },
          "execution_count": 22
        }
      ]
    },
    {
      "cell_type": "code",
      "metadata": {
        "id": "G7gcUgoLE3Kn",
        "colab_type": "code",
        "outputId": "9a32904b-476e-4b1f-d28d-35a2cd72df21",
        "colab": {
          "base_uri": "https://localhost:8080/",
          "height": 34
        }
      },
      "source": [
        "#slicing\n",
        "npls[:2]"
      ],
      "execution_count": 0,
      "outputs": [
        {
          "output_type": "execute_result",
          "data": {
            "text/plain": [
              "array([1. , 5.7])"
            ]
          },
          "metadata": {
            "tags": []
          },
          "execution_count": 23
        }
      ]
    },
    {
      "cell_type": "code",
      "metadata": {
        "id": "4dMngdUTFApY",
        "colab_type": "code",
        "outputId": "988c3d4b-b92e-4fb2-f050-b5437386573b",
        "colab": {
          "base_uri": "https://localhost:8080/",
          "height": 34
        }
      },
      "source": [
        "#conditionals / masking\n",
        "npls[npls>9] , npls>9"
      ],
      "execution_count": 0,
      "outputs": [
        {
          "output_type": "execute_result",
          "data": {
            "text/plain": [
              "(array([22.]), array([False, False, False,  True, False]))"
            ]
          },
          "metadata": {
            "tags": []
          },
          "execution_count": 26
        }
      ]
    },
    {
      "cell_type": "markdown",
      "metadata": {
        "id": "iupyHI69ev1S",
        "colab_type": "text"
      },
      "source": [
        "### numpt attributes : .att --> no () at the end"
      ]
    },
    {
      "cell_type": "code",
      "metadata": {
        "id": "qjAy6JPSFTj8",
        "colab_type": "code",
        "outputId": "f26eeba1-bdc2-404f-9297-d73748888c81",
        "colab": {
          "base_uri": "https://localhost:8080/",
          "height": 34
        }
      },
      "source": [
        "## e.g\n",
        "ls=[[1,5,6],\n",
        "   [9,0,9],\n",
        "   [9,8,2]]\n",
        "nl = np.array(ls)\n",
        "nl.shape"
      ],
      "execution_count": 12,
      "outputs": [
        {
          "output_type": "execute_result",
          "data": {
            "text/plain": [
              "(3, 3)"
            ]
          },
          "metadata": {
            "tags": []
          },
          "execution_count": 12
        }
      ]
    },
    {
      "cell_type": "code",
      "metadata": {
        "id": "_PQFTvqffGkZ",
        "colab_type": "code",
        "outputId": "baf3592c-870c-41d7-ef2c-564e7eefcc56",
        "colab": {
          "base_uri": "https://localhost:8080/",
          "height": 34
        }
      },
      "source": [
        "nl[0][1] , nl[0,1]  #ways to index"
      ],
      "execution_count": 0,
      "outputs": [
        {
          "output_type": "execute_result",
          "data": {
            "text/plain": [
              "(5, 5)"
            ]
          },
          "metadata": {
            "tags": []
          },
          "execution_count": 6
        }
      ]
    },
    {
      "cell_type": "code",
      "metadata": {
        "id": "m8eSPVW3fkrb",
        "colab_type": "code",
        "outputId": "96c21700-9323-4f9b-b96e-59c6e7c4ab69",
        "colab": {
          "base_uri": "https://localhost:8080/",
          "height": 68
        }
      },
      "source": [
        "nl[:,1:3]"
      ],
      "execution_count": 0,
      "outputs": [
        {
          "output_type": "execute_result",
          "data": {
            "text/plain": [
              "array([[5, 6],\n",
              "       [0, 9],\n",
              "       [8, 2]])"
            ]
          },
          "metadata": {
            "tags": []
          },
          "execution_count": 10
        }
      ]
    },
    {
      "cell_type": "markdown",
      "metadata": {
        "id": "0-vLmnk2jCR3",
        "colab_type": "text"
      },
      "source": [
        "### numpy stats"
      ]
    },
    {
      "cell_type": "code",
      "metadata": {
        "id": "NuSOn3WdjX9m",
        "colab_type": "code",
        "colab": {}
      },
      "source": [
        "import numpy as np"
      ],
      "execution_count": 0,
      "outputs": []
    },
    {
      "cell_type": "code",
      "metadata": {
        "id": "9I2kSgFRjyX_",
        "colab_type": "code",
        "colab": {}
      },
      "source": [
        "nl = np.array([[1,5,6],\n",
        "               [9,0,9],\n",
        "               [9,8,2]])"
      ],
      "execution_count": 0,
      "outputs": []
    },
    {
      "cell_type": "code",
      "metadata": {
        "id": "AGby2pmDfvxO",
        "colab_type": "code",
        "colab": {
          "base_uri": "https://localhost:8080/",
          "height": 34
        },
        "outputId": "a2b2a547-2105-4c81-f486-ef46d62c3135"
      },
      "source": [
        "np.mean(nl[:,0]) , np.median(nl[:,0]) , np.std(nl[:,0])"
      ],
      "execution_count": 18,
      "outputs": [
        {
          "output_type": "execute_result",
          "data": {
            "text/plain": [
              "(6.333333333333333, 9.0, 3.7712361663282534)"
            ]
          },
          "metadata": {
            "tags": []
          },
          "execution_count": 18
        }
      ]
    },
    {
      "cell_type": "code",
      "metadata": {
        "id": "e8FmTaAKjn6r",
        "colab_type": "code",
        "colab": {
          "base_uri": "https://localhost:8080/",
          "height": 51
        },
        "outputId": "52ca2db4-4257-482e-c9ef-13594ade753a"
      },
      "source": [
        "np.corrcoef(nl[:,1],nl[:,0])"
      ],
      "execution_count": 19,
      "outputs": [
        {
          "output_type": "execute_result",
          "data": {
            "text/plain": [
              "array([[ 1.        , -0.14285714],\n",
              "       [-0.14285714,  1.        ]])"
            ]
          },
          "metadata": {
            "tags": []
          },
          "execution_count": 19
        }
      ]
    },
    {
      "cell_type": "code",
      "metadata": {
        "id": "XJKy3J5ok2SA",
        "colab_type": "code",
        "colab": {
          "base_uri": "https://localhost:8080/",
          "height": 102
        },
        "outputId": "a94e892d-e756-462f-b8b8-37cde90b4e3c"
      },
      "source": [
        "height = np.round(np.random.normal(1.75,0.02,5000),2) #mean, std, size\n",
        "weight = np.round(np.random.normal(60.32,15,5000),2)\n",
        "city = np.column_stack((height, weight))\n",
        "height[:3] , weight[:3] , city[:3]"
      ],
      "execution_count": 20,
      "outputs": [
        {
          "output_type": "execute_result",
          "data": {
            "text/plain": [
              "(array([1.75, 1.76, 1.75]),\n",
              " array([57.93, 62.99, 89.93]),\n",
              " array([[ 1.75, 57.93],\n",
              "        [ 1.76, 62.99],\n",
              "        [ 1.75, 89.93]]))"
            ]
          },
          "metadata": {
            "tags": []
          },
          "execution_count": 20
        }
      ]
    }
  ]
}