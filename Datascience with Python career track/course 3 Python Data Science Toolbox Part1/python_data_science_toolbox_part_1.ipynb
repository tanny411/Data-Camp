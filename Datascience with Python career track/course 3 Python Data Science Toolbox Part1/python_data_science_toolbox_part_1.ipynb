{
  "nbformat": 4,
  "nbformat_minor": 0,
  "metadata": {
    "colab": {
      "name": "python-data-science-toolbox-part-1.ipynb",
      "version": "0.3.2",
      "provenance": []
    },
    "kernelspec": {
      "name": "python3",
      "display_name": "Python 3"
    }
  },
  "cells": [
    {
      "cell_type": "markdown",
      "metadata": {
        "id": "4gvx39OdBzdd",
        "colab_type": "text"
      },
      "source": [
        "### functions"
      ]
    },
    {
      "cell_type": "code",
      "metadata": {
        "id": "XQCNYNqcBNQ1",
        "colab_type": "code",
        "colab": {
          "base_uri": "https://localhost:8080/",
          "height": 34
        },
        "outputId": "6c269880-95a0-4347-fc90-a94125db43e6"
      },
      "source": [
        "def shout(word):\n",
        "    \"\"\"this is the docstring, tells that this function returns a word with !!!\"\"\"\n",
        "    return word+\"!\"*3\n",
        "\n",
        "shout(\"aysha\")"
      ],
      "execution_count": 1,
      "outputs": [
        {
          "output_type": "execute_result",
          "data": {
            "text/plain": [
              "'aysha!!!'"
            ]
          },
          "metadata": {
            "tags": []
          },
          "execution_count": 1
        }
      ]
    },
    {
      "cell_type": "code",
      "metadata": {
        "id": "rNA_Or1IFA-M",
        "colab_type": "code",
        "colab": {
          "base_uri": "https://localhost:8080/",
          "height": 34
        },
        "outputId": "a67f1f18-419d-473b-b089-294df56cfee9"
      },
      "source": [
        "def ase():\n",
        "    print(y)\n",
        "    \n",
        "y=4\n",
        "ase()\n",
        "\n",
        "##  global ta access kora jabe"
      ],
      "execution_count": 9,
      "outputs": [
        {
          "output_type": "stream",
          "text": [
            "4\n"
          ],
          "name": "stdout"
        }
      ]
    },
    {
      "cell_type": "code",
      "metadata": {
        "id": "iWSrnakDFQFN",
        "colab_type": "code",
        "colab": {
          "base_uri": "https://localhost:8080/",
          "height": 34
        },
        "outputId": "1b1d6e65-94a4-41f8-db4f-007f14d435a2"
      },
      "source": [
        "def ase():\n",
        "    global y\n",
        "    y+=1\n",
        "    print(y)\n",
        "    \n",
        "y=8\n",
        "ase()\n",
        "\n",
        "##  but global ta alter kora jabe na"
      ],
      "execution_count": 12,
      "outputs": [
        {
          "output_type": "stream",
          "text": [
            "9\n"
          ],
          "name": "stdout"
        }
      ]
    },
    {
      "cell_type": "code",
      "metadata": {
        "id": "VcPhTfR8HHm6",
        "colab_type": "code",
        "colab": {
          "base_uri": "https://localhost:8080/",
          "height": 1000
        },
        "outputId": "400a229e-1b30-4ea9-ba5e-556d7f5fad3e"
      },
      "source": [
        "import builtins\n",
        "dir(builtins)"
      ],
      "execution_count": 14,
      "outputs": [
        {
          "output_type": "execute_result",
          "data": {
            "text/plain": [
              "['ArithmeticError',\n",
              " 'AssertionError',\n",
              " 'AttributeError',\n",
              " 'BaseException',\n",
              " 'BlockingIOError',\n",
              " 'BrokenPipeError',\n",
              " 'BufferError',\n",
              " 'BytesWarning',\n",
              " 'ChildProcessError',\n",
              " 'ConnectionAbortedError',\n",
              " 'ConnectionError',\n",
              " 'ConnectionRefusedError',\n",
              " 'ConnectionResetError',\n",
              " 'DeprecationWarning',\n",
              " 'EOFError',\n",
              " 'Ellipsis',\n",
              " 'EnvironmentError',\n",
              " 'Exception',\n",
              " 'False',\n",
              " 'FileExistsError',\n",
              " 'FileNotFoundError',\n",
              " 'FloatingPointError',\n",
              " 'FutureWarning',\n",
              " 'GeneratorExit',\n",
              " 'IOError',\n",
              " 'ImportError',\n",
              " 'ImportWarning',\n",
              " 'IndentationError',\n",
              " 'IndexError',\n",
              " 'InterruptedError',\n",
              " 'IsADirectoryError',\n",
              " 'KeyError',\n",
              " 'KeyboardInterrupt',\n",
              " 'LookupError',\n",
              " 'MemoryError',\n",
              " 'ModuleNotFoundError',\n",
              " 'NameError',\n",
              " 'None',\n",
              " 'NotADirectoryError',\n",
              " 'NotImplemented',\n",
              " 'NotImplementedError',\n",
              " 'OSError',\n",
              " 'OverflowError',\n",
              " 'PendingDeprecationWarning',\n",
              " 'PermissionError',\n",
              " 'ProcessLookupError',\n",
              " 'RecursionError',\n",
              " 'ReferenceError',\n",
              " 'ResourceWarning',\n",
              " 'RuntimeError',\n",
              " 'RuntimeWarning',\n",
              " 'StopAsyncIteration',\n",
              " 'StopIteration',\n",
              " 'SyntaxError',\n",
              " 'SyntaxWarning',\n",
              " 'SystemError',\n",
              " 'SystemExit',\n",
              " 'TabError',\n",
              " 'TimeoutError',\n",
              " 'True',\n",
              " 'TypeError',\n",
              " 'UnboundLocalError',\n",
              " 'UnicodeDecodeError',\n",
              " 'UnicodeEncodeError',\n",
              " 'UnicodeError',\n",
              " 'UnicodeTranslateError',\n",
              " 'UnicodeWarning',\n",
              " 'UserWarning',\n",
              " 'ValueError',\n",
              " 'Warning',\n",
              " 'ZeroDivisionError',\n",
              " '__IPYTHON__',\n",
              " '__build_class__',\n",
              " '__debug__',\n",
              " '__doc__',\n",
              " '__import__',\n",
              " '__loader__',\n",
              " '__name__',\n",
              " '__package__',\n",
              " '__spec__',\n",
              " 'abs',\n",
              " 'all',\n",
              " 'any',\n",
              " 'ascii',\n",
              " 'bin',\n",
              " 'bool',\n",
              " 'bytearray',\n",
              " 'bytes',\n",
              " 'callable',\n",
              " 'chr',\n",
              " 'classmethod',\n",
              " 'compile',\n",
              " 'complex',\n",
              " 'copyright',\n",
              " 'credits',\n",
              " 'delattr',\n",
              " 'dict',\n",
              " 'dir',\n",
              " 'display',\n",
              " 'divmod',\n",
              " 'dreload',\n",
              " 'enumerate',\n",
              " 'eval',\n",
              " 'exec',\n",
              " 'filter',\n",
              " 'float',\n",
              " 'format',\n",
              " 'frozenset',\n",
              " 'get_ipython',\n",
              " 'getattr',\n",
              " 'globals',\n",
              " 'hasattr',\n",
              " 'hash',\n",
              " 'help',\n",
              " 'hex',\n",
              " 'id',\n",
              " 'input',\n",
              " 'int',\n",
              " 'isinstance',\n",
              " 'issubclass',\n",
              " 'iter',\n",
              " 'len',\n",
              " 'license',\n",
              " 'list',\n",
              " 'locals',\n",
              " 'map',\n",
              " 'max',\n",
              " 'memoryview',\n",
              " 'min',\n",
              " 'next',\n",
              " 'object',\n",
              " 'oct',\n",
              " 'open',\n",
              " 'ord',\n",
              " 'pow',\n",
              " 'print',\n",
              " 'property',\n",
              " 'range',\n",
              " 'repr',\n",
              " 'reversed',\n",
              " 'round',\n",
              " 'set',\n",
              " 'setattr',\n",
              " 'slice',\n",
              " 'sorted',\n",
              " 'staticmethod',\n",
              " 'str',\n",
              " 'sum',\n",
              " 'super',\n",
              " 'tuple',\n",
              " 'type',\n",
              " 'vars',\n",
              " 'zip']"
            ]
          },
          "metadata": {
            "tags": []
          },
          "execution_count": 14
        }
      ]
    },
    {
      "cell_type": "markdown",
      "metadata": {
        "id": "b6sxJo3rFei3",
        "colab_type": "text"
      },
      "source": [
        "**Type of scope:**\n",
        "\n",
        "- global scope\n",
        "- local scope\n",
        "- builtin scope : print, scan\n",
        "\n",
        "==> python searches for a **l**ocal variable in the inner functions -> then the **e**nclosing function -> then **g**lobal scope -> them **b**uiltin scope [**LEGB** rule] "
      ]
    },
    {
      "cell_type": "markdown",
      "metadata": {
        "id": "HJIYgkS8HdKV",
        "colab_type": "text"
      },
      "source": [
        "### inner-enclosing functions"
      ]
    },
    {
      "cell_type": "code",
      "metadata": {
        "id": "FdNh7KtbHhaP",
        "colab_type": "code",
        "colab": {
          "base_uri": "https://localhost:8080/",
          "height": 34
        },
        "outputId": "9233eb63-d948-4067-d182-31f59b3fa87d"
      },
      "source": [
        "#way 1 to use inner function\n",
        "\n",
        "def sumit(ls):\n",
        "    \n",
        "    def mod(x):\n",
        "        return x%5 + 1\n",
        "    \n",
        "    sum=0\n",
        "    for i in ls:\n",
        "        sum+=mod(i)\n",
        "        \n",
        "    return sum\n",
        "\n",
        "\n",
        "sumit([1,4,50,10])"
      ],
      "execution_count": 15,
      "outputs": [
        {
          "output_type": "execute_result",
          "data": {
            "text/plain": [
              "9"
            ]
          },
          "metadata": {
            "tags": []
          },
          "execution_count": 15
        }
      ]
    },
    {
      "cell_type": "code",
      "metadata": {
        "id": "tIr8NEDdIgzt",
        "colab_type": "code",
        "colab": {
          "base_uri": "https://localhost:8080/",
          "height": 34
        },
        "outputId": "f696685d-af27-4b1e-bcbd-bf431e9f765d"
      },
      "source": [
        "#way 2 to use inner funtions\n",
        "\n",
        "def raise_val(n):\n",
        "    \"\"\"return the inner function\"\"\"\n",
        "    \n",
        "    def inner(x):\n",
        "        \"\"\"x raise to the power of n\"\"\"\n",
        "        return x**n\n",
        "    \n",
        "    return inner\n",
        "\n",
        "inn=raise_val(3)\n",
        "inn(2) ,inn(3), inn(1)#anything^3"
      ],
      "execution_count": 16,
      "outputs": [
        {
          "output_type": "execute_result",
          "data": {
            "text/plain": [
              "(8, 27, 1)"
            ]
          },
          "metadata": {
            "tags": []
          },
          "execution_count": 16
        }
      ]
    },
    {
      "cell_type": "code",
      "metadata": {
        "id": "2Wat6NC2JZwt",
        "colab_type": "code",
        "colab": {
          "base_uri": "https://localhost:8080/",
          "height": 34
        },
        "outputId": "f67feb87-e9db-44a6-e512-820bec9e99a8"
      },
      "source": [
        "square=raise_val(2)\n",
        "cube=raise_val(3)\n",
        "\n",
        "square(2), cube(2)"
      ],
      "execution_count": 18,
      "outputs": [
        {
          "output_type": "execute_result",
          "data": {
            "text/plain": [
              "(4, 8)"
            ]
          },
          "metadata": {
            "tags": []
          },
          "execution_count": 18
        }
      ]
    },
    {
      "cell_type": "code",
      "metadata": {
        "id": "EzyzhxKhJ63F",
        "colab_type": "code",
        "colab": {
          "base_uri": "https://localhost:8080/",
          "height": 68
        },
        "outputId": "76bb896a-1149-4e01-a151-69ae11b197bc"
      },
      "source": [
        "# to change value of variables in enclosing function inside inner function , use 'nonlocal'\n",
        "def enc():\n",
        "    x=3\n",
        "    print(3)\n",
        "    def inn():\n",
        "        nonlocal x\n",
        "        x+=1\n",
        "        print(x)\n",
        "    inn()\n",
        "    print(x)\n",
        "        \n",
        "enc()"
      ],
      "execution_count": 21,
      "outputs": [
        {
          "output_type": "stream",
          "text": [
            "3\n",
            "4\n",
            "4\n"
          ],
          "name": "stdout"
        }
      ]
    },
    {
      "cell_type": "code",
      "metadata": {
        "id": "khgxFzH0J6ps",
        "colab_type": "code",
        "colab": {
          "base_uri": "https://localhost:8080/",
          "height": 51
        },
        "outputId": "1b44c152-a2d6-40b5-ec53-e8c1ecdfb50b"
      },
      "source": [
        "# to change value of variables in enclosing function inside inner function , use 'nonlocal'\n",
        "def enc():\n",
        "    x=3\n",
        "    def inn():\n",
        "        nonlocal x\n",
        "        x+=1\n",
        "        def inn2():\n",
        "            nonlocal x\n",
        "            x+=1\n",
        "        inn2()\n",
        "        print(x)\n",
        "    inn()\n",
        "    print(x)\n",
        "        \n",
        "enc()"
      ],
      "execution_count": 23,
      "outputs": [
        {
          "output_type": "stream",
          "text": [
            "5\n",
            "5\n"
          ],
          "name": "stdout"
        }
      ]
    },
    {
      "cell_type": "markdown",
      "metadata": {
        "id": "kFXhdCakT3Vh",
        "colab_type": "text"
      },
      "source": [
        "### unknows number of parameters = *args = tuple of parameters"
      ]
    },
    {
      "cell_type": "code",
      "metadata": {
        "id": "9HLU6kvaT_W5",
        "colab_type": "code",
        "colab": {
          "base_uri": "https://localhost:8080/",
          "height": 34
        },
        "outputId": "f0db8206-e5f8-4d12-b477-8a2e1d93dde6"
      },
      "source": [
        "def ase(*args):\n",
        "    sum=0\n",
        "    for i in args:\n",
        "        sum+=i\n",
        "    return sum\n",
        "\n",
        "ase(2,4,6)"
      ],
      "execution_count": 26,
      "outputs": [
        {
          "output_type": "execute_result",
          "data": {
            "text/plain": [
              "12"
            ]
          },
          "metadata": {
            "tags": []
          },
          "execution_count": 26
        }
      ]
    },
    {
      "cell_type": "markdown",
      "metadata": {
        "id": "3N15qUwpUSre",
        "colab_type": "text"
      },
      "source": [
        "### atribtrary number of keyword arguments = **kwargs = dict of keyword and value"
      ]
    },
    {
      "cell_type": "code",
      "metadata": {
        "id": "d2Qzc41CUb1V",
        "colab_type": "code",
        "colab": {
          "base_uri": "https://localhost:8080/",
          "height": 68
        },
        "outputId": "0b3da4ae-b2b6-4a16-cff5-776bca8f4de5"
      },
      "source": [
        "def ase(**kwargs):\n",
        "    for key,value in kwargs.items():\n",
        "        print(key+\" : \"+str(value))\n",
        "        \n",
        "ase(name='aysha', reg=2015331042, dept='cse')"
      ],
      "execution_count": 27,
      "outputs": [
        {
          "output_type": "stream",
          "text": [
            "name : aysha\n",
            "reg : 2015331042\n",
            "dept : cse\n"
          ],
          "name": "stdout"
        }
      ]
    },
    {
      "cell_type": "markdown",
      "metadata": {
        "id": "hGSxhRq2BtNx",
        "colab_type": "text"
      },
      "source": [
        "### tuples - immutable"
      ]
    },
    {
      "cell_type": "code",
      "metadata": {
        "id": "cE9xOARDBf_d",
        "colab_type": "code",
        "colab": {
          "base_uri": "https://localhost:8080/",
          "height": 34
        },
        "outputId": "309828e7-d3ed-4c3b-a1d8-8838eb074484"
      },
      "source": [
        "t = (2,3,4) ## assign\n",
        "t"
      ],
      "execution_count": 2,
      "outputs": [
        {
          "output_type": "execute_result",
          "data": {
            "text/plain": [
              "(2, 3, 4)"
            ]
          },
          "metadata": {
            "tags": []
          },
          "execution_count": 2
        }
      ]
    },
    {
      "cell_type": "code",
      "metadata": {
        "id": "JInqmHdKB2B3",
        "colab_type": "code",
        "colab": {
          "base_uri": "https://localhost:8080/",
          "height": 68
        },
        "outputId": "d020d33d-4c2d-44a5-df39-b4dd910e2a58"
      },
      "source": [
        "a,b,c=t ## unpack\n",
        "print(a)\n",
        "print(b)\n",
        "print(c)"
      ],
      "execution_count": 4,
      "outputs": [
        {
          "output_type": "stream",
          "text": [
            "2\n",
            "3\n",
            "4\n"
          ],
          "name": "stdout"
        }
      ]
    },
    {
      "cell_type": "code",
      "metadata": {
        "id": "LwcyupcIB3Mr",
        "colab_type": "code",
        "colab": {
          "base_uri": "https://localhost:8080/",
          "height": 68
        },
        "outputId": "66b13deb-6980-4613-933a-100d477c2e8e"
      },
      "source": [
        "## can access tuples like lists\n",
        "print(t[2])\n",
        "print(t[1])\n",
        "print(t[0])"
      ],
      "execution_count": 5,
      "outputs": [
        {
          "output_type": "stream",
          "text": [
            "4\n",
            "3\n",
            "2\n"
          ],
          "name": "stdout"
        }
      ]
    },
    {
      "cell_type": "markdown",
      "metadata": {
        "id": "OBbpEpShcrXs",
        "colab_type": "text"
      },
      "source": [
        "### lambda functions"
      ]
    },
    {
      "cell_type": "code",
      "metadata": {
        "id": "-QJxdU0WctRY",
        "colab_type": "code",
        "colab": {
          "base_uri": "https://localhost:8080/",
          "height": 34
        },
        "outputId": "a6143735-449a-4e4d-adad-2f45b6f3cf87"
      },
      "source": [
        "powr = lambda x,y:x**y\n",
        "\n",
        "powr(2,3)"
      ],
      "execution_count": 31,
      "outputs": [
        {
          "output_type": "execute_result",
          "data": {
            "text/plain": [
              "8"
            ]
          },
          "metadata": {
            "tags": []
          },
          "execution_count": 31
        }
      ]
    },
    {
      "cell_type": "markdown",
      "metadata": {
        "id": "arfv-XvAdVX6",
        "colab_type": "text"
      },
      "source": [
        "### anonymous function :  map(func,sequence) where func is a lambda function  \n",
        "seqs = lists, pd.series etc"
      ]
    },
    {
      "cell_type": "code",
      "metadata": {
        "id": "zezkrq5Vc609",
        "colab_type": "code",
        "colab": {
          "base_uri": "https://localhost:8080/",
          "height": 51
        },
        "outputId": "a1b77b4b-8093-466f-fe89-5e0500b8af2c"
      },
      "source": [
        "x = map(lambda x : x**2 , [1,2,3,4] )\n",
        "\n",
        "print(x)\n",
        "print(list(x))"
      ],
      "execution_count": 32,
      "outputs": [
        {
          "output_type": "stream",
          "text": [
            "<map object at 0x7fbe348c2fd0>\n",
            "[1, 4, 9, 16]\n"
          ],
          "name": "stdout"
        }
      ]
    },
    {
      "cell_type": "markdown",
      "metadata": {
        "id": "fCc8aE2LgVlV",
        "colab_type": "text"
      },
      "source": [
        "### filter + lambda : checking if certain conditions are satisfied"
      ]
    },
    {
      "cell_type": "code",
      "metadata": {
        "id": "CpP3fjpHdxzK",
        "colab_type": "code",
        "colab": {
          "base_uri": "https://localhost:8080/",
          "height": 51
        },
        "outputId": "7e1d2151-1962-4091-ea42-7c646e4ac38b"
      },
      "source": [
        "fellowship = ['frodo', 'samwise', 'merry', 'pippin', 'aragorn', 'boromir', 'legolas', 'gimli', 'gandalf']\n",
        "result = filter(lambda x:len(x)>6, fellowship)\n",
        "\n",
        "print(result)\n",
        "print(list(result))"
      ],
      "execution_count": 33,
      "outputs": [
        {
          "output_type": "stream",
          "text": [
            "<filter object at 0x7fbe348c2e80>\n",
            "['samwise', 'aragorn', 'boromir', 'legolas', 'gandalf']\n"
          ],
          "name": "stdout"
        }
      ]
    },
    {
      "cell_type": "markdown",
      "metadata": {
        "id": "z2sPtkKNg3KH",
        "colab_type": "text"
      },
      "source": [
        "### reduce + lambda"
      ]
    },
    {
      "cell_type": "code",
      "metadata": {
        "id": "Fj9-Rhaff8XR",
        "colab_type": "code",
        "colab": {
          "base_uri": "https://localhost:8080/",
          "height": 34
        },
        "outputId": "5c258bc7-0a00-4c10-fe66-e71d81d331e1"
      },
      "source": [
        "from functools import reduce \n",
        "\n",
        "# Create a list of strings: stark\n",
        "stark = ['robb', 'sansa', 'arya', 'brandon', 'rickon']\n",
        "\n",
        "# Use reduce() to apply a lambda function over stark: result\n",
        "result = reduce(lambda x,y:x+y, stark)\n",
        "\n",
        "# Print the result\n",
        "print(result)"
      ],
      "execution_count": 36,
      "outputs": [
        {
          "output_type": "stream",
          "text": [
            "robbsansaaryabrandonrickon\n"
          ],
          "name": "stdout"
        }
      ]
    },
    {
      "cell_type": "markdown",
      "metadata": {
        "id": "okZNiZxjic-X",
        "colab_type": "text"
      },
      "source": [
        "### error handling:\n",
        "\n",
        "- try-__except__\n",
        "\n",
        "- except TypeError etc\n",
        "\n",
        "- raise ValueError('msg')"
      ]
    },
    {
      "cell_type": "code",
      "metadata": {
        "id": "Quwv5xMThQjr",
        "colab_type": "code",
        "colab": {
          "base_uri": "https://localhost:8080/",
          "height": 51
        },
        "outputId": "672a990c-b060-4b57-acd1-3cc5e8e1002a"
      },
      "source": [
        "def shout_echo(word1, echo=1):\n",
        "    \"\"\"Concatenate echo copies of word1 and three\n",
        "    exclamation marks at the end of the string.\"\"\"\n",
        "\n",
        "    echo_word=\"\"\n",
        "    shout_words=\"\"\n",
        "\n",
        "    try:\n",
        "        echo_word = word1*echo\n",
        "\n",
        "        shout_words = echo_word+\"!!!\"\n",
        "    except:\n",
        "        print(\"word1 must be a string and echo must be an integer.\")\n",
        "\n",
        "    return shout_words\n",
        "\n",
        "shout_echo(\"particle\", echo=\"accelerator\")"
      ],
      "execution_count": 40,
      "outputs": [
        {
          "output_type": "stream",
          "text": [
            "word1 must be a string and echo must be an integer.\n"
          ],
          "name": "stdout"
        },
        {
          "output_type": "execute_result",
          "data": {
            "text/plain": [
              "''"
            ]
          },
          "metadata": {
            "tags": []
          },
          "execution_count": 40
        }
      ]
    },
    {
      "cell_type": "code",
      "metadata": {
        "id": "CAqvVPVPjl4r",
        "colab_type": "code",
        "colab": {
          "base_uri": "https://localhost:8080/",
          "height": 34
        },
        "outputId": "0974bbc9-c572-425d-8b25-9b9156bf9b49"
      },
      "source": [
        "def shout_echo(word1, echo=1):\n",
        "    \"\"\"Concatenate echo copies of word1 and three\n",
        "    exclamation marks at the end of the string.\"\"\"\n",
        "\n",
        "    if echo<0:\n",
        "        raise ValueError('echo must be greater than 0')\n",
        "\n",
        "    echo_word = word1 * echo\n",
        "\n",
        "    shout_word = echo_word + '!!!'\n",
        "\n",
        "    return shout_word\n",
        "\n",
        "shout_echo(\"particle\", echo=5)"
      ],
      "execution_count": 38,
      "outputs": [
        {
          "output_type": "execute_result",
          "data": {
            "text/plain": [
              "'particleparticleparticleparticleparticle!!!'"
            ]
          },
          "metadata": {
            "tags": []
          },
          "execution_count": 38
        }
      ]
    },
    {
      "cell_type": "code",
      "metadata": {
        "id": "UuX8PdZij4Ga",
        "colab_type": "code",
        "colab": {}
      },
      "source": [
        ""
      ],
      "execution_count": 0,
      "outputs": []
    }
  ]
}