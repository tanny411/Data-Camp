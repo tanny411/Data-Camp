{
  "nbformat": 4,
  "nbformat_minor": 0,
  "metadata": {
    "colab": {
      "name": "interactive data visualization with bokeh.ipynb",
      "version": "0.3.2",
      "provenance": [],
      "collapsed_sections": []
    },
    "kernelspec": {
      "name": "python3",
      "display_name": "Python 3"
    }
  },
  "cells": [
    {
      "cell_type": "markdown",
      "metadata": {
        "id": "Si5QbV1eS4sc",
        "colab_type": "text"
      },
      "source": [
        "### A simple scatter plot\n",
        "In this example, you're going to make a scatter plot of female literacy vs fertility using data from the European Environmental Agency. This dataset highlights that countries with low female literacy have high birthrates. The x-axis data has been loaded for you as fertility and the y-axis data has been loaded as female_literacy.\n",
        "\n",
        "Your job is to create a figure, assign x-axis and y-axis labels, and plot female_literacy vs fertility using the circle glyph.\n",
        "\n",
        "After you have created the figure, in this exercise and the ones to follow, play around with it! Explore the different options available to you on the tab to the right, such as \"Pan\", \"Box Zoom\", and \"Wheel Zoom\". You can click on the question mark sign for more details on any of these tools.\n",
        "\n",
        "Note: You may have to scroll down to view the lower portion of the figure."
      ]
    },
    {
      "cell_type": "code",
      "metadata": {
        "id": "mYLG2cfPS39Q",
        "colab_type": "code",
        "colab": {}
      },
      "source": [
        "# Import figure from bokeh.plotting\n",
        "from bokeh.plotting import figure\n",
        "\n",
        "# Import output_file and show from bokeh.io\n",
        "from bokeh.io import output_file, show\n",
        "\n",
        "# Create the figure: p\n",
        "p = figure(x_axis_label='fertility (children per woman)', y_axis_label='female_literacy (% population)')\n",
        "\n",
        "# Add a circle glyph to the figure p\n",
        "p.circle(fertility, female_literacy)\n",
        "\n",
        "# Call the output_file() function and specify the name of the file\n",
        "output_file('fert_lit.html')\n",
        "\n",
        "# Display the plot\n",
        "show(p)"
      ],
      "execution_count": 0,
      "outputs": []
    },
    {
      "cell_type": "markdown",
      "metadata": {
        "id": "L7CkAvd5TBkX",
        "colab_type": "text"
      },
      "source": [
        "### A scatter plot with different shapes\n",
        "By calling multiple glyph functions on the same figure object, we can overlay multiple data sets in the same figure.\n",
        "\n",
        "In this exercise, you will plot female literacy vs fertility for two different regions, Africa and Latin America. Each set of x and y data has been loaded separately for you as fertility_africa, female_literacy_africa, fertility_latinamerica, and female_literacy_latinamerica.\n",
        "\n",
        "Your job is to plot the Latin America data with the circle() glyph, and the Africa data with the x() glyph.\n",
        "\n",
        "figure has already been imported for you from bokeh.plotting."
      ]
    },
    {
      "cell_type": "code",
      "metadata": {
        "id": "RhY9vD6rS_PU",
        "colab_type": "code",
        "colab": {}
      },
      "source": [
        "# Create the figure: p\n",
        "p = figure(x_axis_label='fertility', y_axis_label='female_literacy (% population)')\n",
        "\n",
        "# Add a circle glyph to the figure p\n",
        "p.circle(fertility_latinamerica,female_literacy_latinamerica)\n",
        "\n",
        "# Add an x glyph to the figure p\n",
        "p.x(fertility_africa,female_literacy_africa)\n",
        "\n",
        "# Specify the name of the file\n",
        "output_file('fert_lit_separate.html')\n",
        "\n",
        "# Display the plot\n",
        "show(p)"
      ],
      "execution_count": 0,
      "outputs": []
    },
    {
      "cell_type": "markdown",
      "metadata": {
        "id": "sddhpv4yTEnx",
        "colab_type": "text"
      },
      "source": [
        "### Customizing your scatter plots\n",
        "The three most important arguments to customize scatter glyphs are color, size, and alpha. Bokeh accepts colors as hexadecimal strings, tuples of RGB values between 0 and 255, and any of the 147 CSS color names. Size values are supplied in screen space units with 100 meaning the size of the entire figure.\n",
        "\n",
        "The alpha parameter controls transparency. It takes in floating point numbers between 0.0, meaning completely transparent, and 1.0, meaning completely opaque.\n",
        "\n",
        "In this exercise, you'll plot female literacy vs fertility for Africa and Latin America as red and blue circle glyphs, respectively."
      ]
    },
    {
      "cell_type": "code",
      "metadata": {
        "id": "BSzYw62XTFO-",
        "colab_type": "code",
        "colab": {}
      },
      "source": [
        "# Create the figure: p\n",
        "p = figure(x_axis_label='fertility (children per woman)', y_axis_label='female_literacy (% population)')\n",
        "\n",
        "# Add a blue circle glyph to the figure p\n",
        "p.circle(fertility_latinamerica, female_literacy_latinamerica, color='blue', size=10, alpha=0.8)\n",
        "\n",
        "# Add a red circle glyph to the figure p\n",
        "p.circle(fertility_africa, female_literacy_africa, color='red', size=10, alpha=0.8)\n",
        "\n",
        "# Specify the name of the file\n",
        "output_file('fert_lit_separate_colors.html')\n",
        "\n",
        "# Display the plot\n",
        "show(p)"
      ],
      "execution_count": 0,
      "outputs": []
    },
    {
      "cell_type": "markdown",
      "metadata": {
        "id": "8o4tiYj0TFn-",
        "colab_type": "text"
      },
      "source": [
        "### Lines\n",
        "We can draw lines on Bokeh plots with the line() glyph function.\n",
        "\n",
        "In this exercise, you'll plot the daily adjusted closing price of Apple Inc.'s stock (AAPL) from 2000 to 2013.\n",
        "\n",
        "The data points are provided for you as lists. date is a list of datetime objects to plot on the x-axis and price is a list of prices to plot on the y-axis.\n",
        "\n",
        "Since we are plotting dates on the x-axis, you must add x_axis_type='datetime' when creating the figure object."
      ]
    },
    {
      "cell_type": "code",
      "metadata": {
        "id": "4vxKGnFpTF_t",
        "colab_type": "code",
        "colab": {}
      },
      "source": [
        "# Import figure from bokeh.plotting\n",
        "from bokeh.plotting import figure\n",
        "\n",
        "# Create a figure with x_axis_type=\"datetime\": p\n",
        "p = figure(x_axis_type='datetime', x_axis_label='Date', y_axis_label='US Dollars')\n",
        "\n",
        "# Plot date along the x axis and price along the y axis\n",
        "p.line(date,price)\n",
        "\n",
        "# Specify the name of the output file and show the result\n",
        "output_file('line.html')\n",
        "show(p)"
      ],
      "execution_count": 0,
      "outputs": []
    },
    {
      "cell_type": "markdown",
      "metadata": {
        "id": "oLQKm_1SVCyM",
        "colab_type": "text"
      },
      "source": [
        "### Lines and markers\n",
        "Lines and markers can be combined by plotting them separately using the same data points.\n",
        "\n",
        "In this exercise, you'll plot a line and circle glyph for the AAPL stock prices. Further, you'll adjust the fill_color keyword argument of the circle() glyph function while leaving the line_color at the default value.\n",
        "\n",
        "The date and price lists are provided. The Bokeh figure object p that you created in the previous exercise has also been provided."
      ]
    },
    {
      "cell_type": "code",
      "metadata": {
        "id": "VHphULAEVDVq",
        "colab_type": "code",
        "colab": {}
      },
      "source": [
        "# Import figure from bokeh.plotting\n",
        "from bokeh.plotting import figure\n",
        "\n",
        "# Create a figure with x_axis_type='datetime': p\n",
        "p = figure(x_axis_type='datetime', x_axis_label='Date', y_axis_label='US Dollars')\n",
        "\n",
        "# Plot date along the x-axis and price along the y-axis\n",
        "p.line(date,price)\n",
        "\n",
        "# With date on the x-axis and price on the y-axis, add a white circle glyph of size 4\n",
        "p.circle(date,price, fill_color='white', size=4)\n",
        "\n",
        "# Specify the name of the output file and show the result\n",
        "output_file('line.html')\n",
        "show(p)"
      ],
      "execution_count": 0,
      "outputs": []
    },
    {
      "cell_type": "markdown",
      "metadata": {
        "id": "A93LP4SaVCvR",
        "colab_type": "text"
      },
      "source": [
        "### Patches\n",
        "In Bokeh, extended geometrical shapes can be plotted by using the patches() glyph function. The patches glyph takes as input a list-of-lists collection of numeric values specifying the vertices in x and y directions of each distinct patch to plot.\n",
        "\n",
        "In this exercise, you will plot the state borders of Arizona, Colorado, New Mexico and Utah. The latitude and longitude vertices for each state have been prepared as lists.\n",
        "\n",
        "Your job is to plot longitude on the x-axis and latitude on the y-axis. The figure object has been created for you as p."
      ]
    },
    {
      "cell_type": "code",
      "metadata": {
        "id": "Yt1ZPodLVxpe",
        "colab_type": "code",
        "colab": {}
      },
      "source": [
        "# Create a list of az_lons, co_lons, nm_lons and ut_lons: x\n",
        "x = [az_lons, co_lons, nm_lons, ut_lons]\n",
        "\n",
        "# Create a list of az_lats, co_lats, nm_lats and ut_lats: y\n",
        "y = [az_lats, co_lats, nm_lats , ut_lats]\n",
        "\n",
        "# Add patches to figure p with line_color=white for x and y\n",
        "p.patches(x,y,line_color='white')\n",
        "\n",
        "# Specify the name of the output file and show the result\n",
        "output_file('four_corners.html')\n",
        "show(p)"
      ],
      "execution_count": 0,
      "outputs": []
    },
    {
      "cell_type": "markdown",
      "metadata": {
        "id": "d-c3nE5yVCsQ",
        "colab_type": "text"
      },
      "source": [
        "### Plotting data from NumPy arrays\n",
        "In the previous exercises, you made plots using data stored in lists. You learned that Bokeh can plot both numbers and datetime objects.\n",
        "\n",
        "In this exercise, you'll generate NumPy arrays using np.linspace() and np.cos() and plot them using the circle glyph.\n",
        "\n",
        "np.linspace() is a function that returns an array of evenly spaced numbers over a specified interval. For example, np.linspace(0, 10, 5) returns an array of 5 evenly spaced samples calculated over the interval [0, 10]. np.cos(x) calculates the element-wise cosine of some array x.\n",
        "\n",
        "For more information on NumPy functions, you can refer to the NumPy User Guide and NumPy Reference.\n",
        "\n",
        "The figure p has been provided for you."
      ]
    },
    {
      "cell_type": "code",
      "metadata": {
        "id": "w28JH9RIXVS3",
        "colab_type": "code",
        "colab": {}
      },
      "source": [
        "import numpy as np\n",
        "\n",
        "# Create array using np.linspace: x\n",
        "x = np.linspace(0, 5, 100)\n",
        "\n",
        "# Create array using np.cos: y\n",
        "y = np.cos(x)\n",
        "\n",
        "# Add circles at x and y\n",
        "p.circle(x,y)\n",
        "\n",
        "# Specify the name of the output file and show the result\n",
        "output_file('numpy.html')\n",
        "show(p)"
      ],
      "execution_count": 0,
      "outputs": []
    },
    {
      "cell_type": "markdown",
      "metadata": {
        "id": "osLkllpzVCpp",
        "colab_type": "text"
      },
      "source": [
        "### Plotting data from Pandas DataFrames\n",
        "You can create Bokeh plots from Pandas DataFrames by passing column selections to the glyph functions.\n",
        "\n",
        "Bokeh can plot floating point numbers, integers, and datetime data types. In this example, you will read a CSV file containing information on 392 automobiles manufactured in the US, Europe and Asia from 1970 to 1982.\n",
        "\n",
        "The CSV file is provided for you as 'auto.csv'.\n",
        "\n",
        "Your job is to plot miles-per-gallon (mpg) vs horsepower (hp) by passing Pandas column selections into the p.circle() function. Additionally, each glyph will be colored according to values in the color column."
      ]
    },
    {
      "cell_type": "code",
      "metadata": {
        "id": "nX0vNh_HXYNA",
        "colab_type": "code",
        "colab": {}
      },
      "source": [
        "import pandas as pd\n",
        "\n",
        "# Read in the CSV file: df\n",
        "df = pd.read_csv('auto.csv')\n",
        "\n",
        "from bokeh.plotting import figure \n",
        "\n",
        "# Create the figure: p\n",
        "p = figure(x_axis_label ='HP', y_axis_label ='MPG')\n",
        "\n",
        "# Plot mpg vs hp by color\n",
        "p.circle(df['hp'],df['mpg'],color=df['color'],size=10)\n",
        "\n",
        "# Specify the name of the output file and show the result\n",
        "output_file('auto-df.html')\n",
        "show(p)"
      ],
      "execution_count": 0,
      "outputs": []
    },
    {
      "cell_type": "markdown",
      "metadata": {
        "id": "s1p4NQHRVCVA",
        "colab_type": "text"
      },
      "source": [
        "### The Bokeh ColumnDataSource (continued)\n",
        "You can create a ColumnDataSource object directly from a Pandas DataFrame by passing the DataFrame to the class initializer.\n",
        "\n",
        "In this exercise, we have imported pandas as pd and read in a data set containing all Olympic medals awarded in the 100 meter sprint from 1896 to 2012. A color column has been added indicating the CSS colorname we wish to use in the plot for every data point.\n",
        "\n",
        "Your job is to import the ColumnDataSource class, create a new ColumnDataSource object from the DataFrame df, and plot circle glyphs with 'Year' on the x-axis and 'Time' on the y-axis. Color each glyph by the color column.\n",
        "\n",
        "The figure object p has already been created for you."
      ]
    },
    {
      "cell_type": "code",
      "metadata": {
        "id": "OsCfT1U1YhZq",
        "colab_type": "code",
        "colab": {}
      },
      "source": [
        "# Import the ColumnDataSource class from bokeh.plotting\n",
        "from bokeh.plotting import ColumnDataSource\n",
        "\n",
        "# Create a ColumnDataSource from df: source\n",
        "source = ColumnDataSource(df)\n",
        "\n",
        "# Add circle glyphs to the figure p\n",
        "p.circle('Year','Time',size=8,source=source,color='color')\n",
        "\n",
        "# Specify the name of the output file and show the result\n",
        "output_file('sprint.html')\n",
        "show(p)"
      ],
      "execution_count": 0,
      "outputs": []
    },
    {
      "cell_type": "markdown",
      "metadata": {
        "id": "sw4ziyvfVCSg",
        "colab_type": "text"
      },
      "source": [
        "### Selection and non-selection glyphs\n",
        "In this exercise, you're going to add the box_select tool to a figure and change the selected and non-selected circle glyph properties so that selected glyphs are red and non-selected glyphs are transparent blue.\n",
        "\n",
        "You'll use the ColumnDataSource object of the Olympic Sprint dataset you made in the last exercise. It is provided to you with the name source.\n",
        "\n",
        "After you have created the figure, be sure to experiment with the Box Select tool you added! As in previous exercises, you may have to scroll down to view the lower portion of the figure."
      ]
    },
    {
      "cell_type": "code",
      "metadata": {
        "id": "8CQrD5rKaL4v",
        "colab_type": "code",
        "colab": {}
      },
      "source": [
        "# Create a figure with the \"box_select\" tool: p\n",
        "p = figure(x_axis_label='Year',y_axis_label='Time',tools='box_select' )\n",
        "\n",
        "# Add circle glyphs to the figure p with the selected and non-selected properties\n",
        "p.circle(x='Year',y='Time',source=source,selection_color='red',nonselection_alpha=0.1)\n",
        "\n",
        "# Specify the name of the output file and show the result\n",
        "output_file('selection_glyph.html')\n",
        "show(p)"
      ],
      "execution_count": 0,
      "outputs": []
    },
    {
      "cell_type": "markdown",
      "metadata": {
        "id": "AVUoWjvjVCPz",
        "colab_type": "text"
      },
      "source": [
        "### Hover glyphs\n",
        "Now let's practice using and customizing the hover tool.\n",
        "\n",
        "In this exercise, you're going to plot the blood glucose levels for an unknown patient. The blood glucose levels were recorded every 5 minutes on October 7th starting at 3 minutes past midnight.\n",
        "\n",
        "The date and time of each measurement are provided to you as x and the blood glucose levels in mg/dL are provided as y.\n",
        "\n",
        "A bokeh figure is also provided in the workspace as p.\n",
        "\n",
        "Your job is to add a circle glyph that will appear red when the mouse is hovered near the data points. You will also add a customized hover tool object to the plot.\n",
        "\n",
        "When you're done, play around with the hover tool you just created! Notice how the points where your mouse hovers over turn red."
      ]
    },
    {
      "cell_type": "code",
      "metadata": {
        "id": "hpJdw6mrdyoN",
        "colab_type": "code",
        "colab": {}
      },
      "source": [
        "# import the HoverTool\n",
        "from bokeh.models import HoverTool\n",
        "\n",
        "# Add circle glyphs to figure p\n",
        "p.circle(x, y, size=10,\n",
        "         fill_color='grey', alpha=0.1, line_color=None,\n",
        "         hover_fill_color='firebrick', hover_alpha=0.5,\n",
        "         hover_line_color='white')\n",
        "\n",
        "# Create a HoverTool: hover\n",
        "hover = HoverTool(tooltips=None, mode='vline')\n",
        "\n",
        "# Add the hover tool to the figure p\n",
        "p.add_tools(hover)\n",
        "\n",
        "# Specify the name of the output file and show the result\n",
        "output_file('hover_glyph.html')\n",
        "show(p)"
      ],
      "execution_count": 0,
      "outputs": []
    },
    {
      "cell_type": "markdown",
      "metadata": {
        "id": "_6DO3-DyVCNb",
        "colab_type": "text"
      },
      "source": [
        "### Colormapping\n",
        "The final glyph customization we'll practice is using the CategoricalColorMapper to color each glyph by a categorical property.\n",
        "\n",
        "Here, you're going to use the automobile dataset to plot miles-per-gallon vs weight and color each circle glyph by the region where the automobile was manufactured.\n",
        "\n",
        "The origin column will be used in the ColorMapper to color automobiles manufactured in the US as blue, Europe as red and Asia as green.\n",
        "\n",
        "The automobile data set is provided to you as a Pandas DataFrame called df. The figure is provided for you as p."
      ]
    },
    {
      "cell_type": "code",
      "metadata": {
        "id": "LggYE_6Fe1-a",
        "colab_type": "code",
        "colab": {}
      },
      "source": [
        "#Import CategoricalColorMapper from bokeh.models\n",
        "from bokeh.models import CategoricalColorMapper\n",
        "\n",
        "# Convert df to a ColumnDataSource: source\n",
        "source = ColumnDataSource(df)\n",
        "\n",
        "# Make a CategoricalColorMapper object: color_mapper\n",
        "color_mapper = CategoricalColorMapper(factors=['Europe', 'Asia', 'US'],\n",
        "                                      palette=['red', 'green', 'blue'])\n",
        "\n",
        "# Add a circle glyph to the figure p\n",
        "p.circle('weight', 'mpg', source=source,\n",
        "            color=dict(field='origin', transform=color_mapper),\n",
        "            legend='origin')\n",
        "\n",
        "# Specify the name of the output file and show the result\n",
        "output_file('colormap.html')\n",
        "show(p)"
      ],
      "execution_count": 0,
      "outputs": []
    },
    {
      "cell_type": "markdown",
      "metadata": {
        "id": "mzre9IwAVCKK",
        "colab_type": "text"
      },
      "source": [
        "### Creating rows of plots\n",
        "Layouts are collections of Bokeh figure objects.\n",
        "\n",
        "In this exercise, you're going to create two plots from the Literacy and Birth Rate data set to plot fertility vs female literacy and population vs female literacy.\n",
        "\n",
        "By using the row() method, you'll create a single layout of the two figures.\n",
        "\n",
        "Remember, as in the previous chapter, once you have created your figures, you can interact with them in various ways.\n",
        "\n",
        "In this exercise, you may have to scroll sideways to view both figures in the row layout. Alternatively, you can view the figures in a new window by clicking on the expand icon to the right of the \"Bokeh plot\" tab."
      ]
    },
    {
      "cell_type": "code",
      "metadata": {
        "id": "I74fTw6-gksh",
        "colab_type": "code",
        "colab": {}
      },
      "source": [
        "# Import row from bokeh.layouts\n",
        "from bokeh.layouts import row\n",
        "\n",
        "# Create the first figure: p1\n",
        "p1 = figure(x_axis_label='fertility (children per woman)', y_axis_label='female_literacy (% population)')\n",
        "\n",
        "# Add a circle glyph to p1\n",
        "p1.circle('fertility', 'female_literacy', source=source)\n",
        "\n",
        "# Create the second figure: p2\n",
        "p2 = figure(x_axis_label='population', y_axis_label='female_literacy (% population)')\n",
        "\n",
        "# Add a circle glyph to p2\n",
        "p2.circle('population', 'female_literacy', source=source)\n",
        "\n",
        "# Put p1 and p2 into a horizontal row: layout\n",
        "layout = row(p1,p2)\n",
        "\n",
        "# Specify the name of the output_file and show the result\n",
        "output_file('fert_row.html')\n",
        "show(layout)"
      ],
      "execution_count": 0,
      "outputs": []
    },
    {
      "cell_type": "markdown",
      "metadata": {
        "id": "7ZqlKOziglxH",
        "colab_type": "text"
      },
      "source": [
        "### Creating columns of plots\n",
        "In this exercise, you're going to use the column() function to create a single column layout of the two plots you created in the previous exercise.\n",
        "\n",
        "Figure p1 has been created for you.\n",
        "\n",
        "In this exercise and the ones to follow, you may have to scroll down to view the lower portion of the figure."
      ]
    },
    {
      "cell_type": "code",
      "metadata": {
        "id": "mfwJCFlOjDXt",
        "colab_type": "code",
        "colab": {}
      },
      "source": [
        "# Import column from the bokeh.layouts module\n",
        "from bokeh.layouts import column\n",
        "\n",
        "# Create a blank figure: p1\n",
        "p1 = figure(x_axis_label='fertility (children per woman)', y_axis_label='female_literacy (% population)')\n",
        "\n",
        "# Add circle scatter to the figure p1\n",
        "p1.circle('fertility', 'female_literacy', source=source)\n",
        "\n",
        "# Create a new blank figure: p2\n",
        "p2 = figure(x_axis_label='population',y_axis_label='female_literacy (% population)')\n",
        "\n",
        "# Add circle scatter to the figure p2\n",
        "p2.circle('population', 'female_literacy', source=source)\n",
        "\n",
        "# Put plots p1 and p2 in a column: layout\n",
        "layout = column(p1,p2)\n",
        "\n",
        "# Specify the name of the output_file and show the result\n",
        "output_file('fert_column.html')\n",
        "show(layout)"
      ],
      "execution_count": 0,
      "outputs": []
    },
    {
      "cell_type": "markdown",
      "metadata": {
        "id": "7yECbkgkglsl",
        "colab_type": "text"
      },
      "source": [
        "### Nesting rows and columns of plots\n",
        "You can create nested layouts of plots by combining row and column layouts.\n",
        "\n",
        "In this exercise, you'll make a 3-plot layout in two rows using the auto-mpg data set.\n",
        "\n",
        "Three plots have been created for you of average mpg vs year, mpg vs hp, and mpg vs weight.\n",
        "\n",
        "Your job is to use the column() and row() functions to make a two-row layout where the first row will have only the average mpg vs year plot and the second row will have mpg vs hp and mpg vs weight plots as columns.\n",
        "\n",
        "By using the sizing_mode argument, you can scale the widths to fill the whole figure."
      ]
    },
    {
      "cell_type": "code",
      "metadata": {
        "id": "hKLxjfjfkR0q",
        "colab_type": "code",
        "colab": {}
      },
      "source": [
        "# Import column and row from bokeh.layouts\n",
        "from bokeh.layouts import row,column\n",
        "\n",
        "# Make a column layout that will be used as the second row: row2\n",
        "row2 = column([mpg_hp, mpg_weight], sizing_mode='scale_width')\n",
        "\n",
        "# Make a row layout that includes the above column layout: layout\n",
        "layout = row([avg_mpg, row2], sizing_mode='scale_width')\n",
        "\n",
        "# Specify the name of the output_file and show the result\n",
        "output_file('layout_custom.html')\n",
        "show(layout)"
      ],
      "execution_count": 0,
      "outputs": []
    },
    {
      "cell_type": "markdown",
      "metadata": {
        "id": "3hV8bzNVglp2",
        "colab_type": "text"
      },
      "source": [
        "### Creating gridded layouts\n",
        "Regular grids of Bokeh plots can be generated with gridplot.\n",
        "\n",
        "In this example, you're going to display four plots of fertility vs female literacy for four regions: Latin America, Africa, Asia and Europe.\n",
        "\n",
        "Your job is to create a list-of-lists for the four Bokeh plots that have been provided to you as p1, p2, p3 and p4. The list-of-lists defines the row and column placement of each plot."
      ]
    },
    {
      "cell_type": "code",
      "metadata": {
        "id": "clHZuY43mD3B",
        "colab_type": "code",
        "colab": {}
      },
      "source": [
        "# Import gridplot from bokeh.layouts\n",
        "from bokeh.layouts import gridplot\n",
        "\n",
        "# Create a list containing plots p1 and p2: row1\n",
        "row1=[p1,p2]\n",
        "\n",
        "# Create a list containing plots p3 and p4: row2\n",
        "row2=[p3,p4]\n",
        "\n",
        "# Create a gridplot using row1 and row2: layout\n",
        "layout = gridplot([row1,row2])\n",
        "\n",
        "# Specify the name of the output_file and show the result\n",
        "output_file('grid.html')\n",
        "show(layout)"
      ],
      "execution_count": 0,
      "outputs": []
    },
    {
      "cell_type": "markdown",
      "metadata": {
        "id": "lcLv7pdqglnh",
        "colab_type": "text"
      },
      "source": [
        "### Starting tabbed layouts\n",
        "Tabbed layouts can be created in Bokeh by placing plots or layouts in Panels.\n",
        "\n",
        "In this exercise, you'll take the four fertility vs female literacy plots from the last exercise and make a Panel() for each.\n",
        "\n",
        "No figure will be generated in this exercise. Instead, you will use these panels in the next exercise to build and display a tabbed layout."
      ]
    },
    {
      "cell_type": "code",
      "metadata": {
        "id": "17tl2yJNmXAW",
        "colab_type": "code",
        "colab": {}
      },
      "source": [
        "# Import Panel from bokeh.models.widgets\n",
        "from bokeh.models.widgets import Panel\n",
        "\n",
        "# Create tab1 from plot p1: tab1\n",
        "tab1 = Panel(child=p1, title='Latin America')\n",
        "\n",
        "# Create tab2 from plot p2: tab2\n",
        "tab2 = Panel(child=p2, title='Africa')\n",
        "\n",
        "# Create tab3 from plot p3: tab3\n",
        "tab3 = Panel(child=p3, title='Asia')\n",
        "\n",
        "# Create tab4 from plot p4: tab4\n",
        "tab4 = Panel(child=p4, title='Europe')"
      ],
      "execution_count": 0,
      "outputs": []
    },
    {
      "cell_type": "markdown",
      "metadata": {
        "id": "6EsdizSqglki",
        "colab_type": "text"
      },
      "source": [
        "### Displaying tabbed layouts\n",
        "Tabbed layouts are collections of Panel objects. Using the figures and Panels from the previous two exercises, you'll create a tabbed layout to change the region in the fertility vs female literacy plots.\n",
        "\n",
        "Your job is to create the layout using Tabs() and assign the tabs keyword argument to your list of Panels. The Panels have been created for you as tab1, tab2, tab3 and tab4.\n",
        "\n",
        "After you've displayed the figure, explore the tabs you just added! The \"Pan\", \"Box Zoom\" and \"Wheel Zoom\" tools are also all available as before."
      ]
    },
    {
      "cell_type": "code",
      "metadata": {
        "id": "MojF58Xcmw5o",
        "colab_type": "code",
        "colab": {}
      },
      "source": [
        "# Import Tabs from bokeh.models.widgets\n",
        "from bokeh.models.widgets import Tabs\n",
        "\n",
        "# Create a Tabs layout: layout\n",
        "layout = Tabs(tabs=[tab1, tab2, tab3, tab4])\n",
        "\n",
        "# Specify the name of the output_file and show the result\n",
        "output_file('tabs.html')\n",
        "show(layout)"
      ],
      "execution_count": 0,
      "outputs": []
    },
    {
      "cell_type": "markdown",
      "metadata": {
        "id": "dkHl-XTvnHl7",
        "colab_type": "text"
      },
      "source": [
        "### Linked axes\n",
        "Linking axes between plots is achieved by sharing range objects.\n",
        "\n",
        "In this exercise, you'll link four plots of female literacy vs fertility so that when one plot is zoomed or dragged, one or more of the other plots will respond.\n",
        "\n",
        "The four plots p1, p2, p3 and p4 along with the layout that you created in the last section have been provided for you.\n",
        "\n",
        "Your job is link p1 with the three other plots by assignment of the .x_range and .y_range attributes.\n",
        "\n",
        "After you have linked the axes, explore the plots by clicking and dragging along the x or y axes of any of the plots, and notice how the linked plots change together."
      ]
    },
    {
      "cell_type": "code",
      "metadata": {
        "id": "3Q3eBDAHnH6U",
        "colab_type": "code",
        "colab": {}
      },
      "source": [
        "# Link the x_range of p2 to p1: p2.x_range\n",
        "p2.x_range = p1.x_range\n",
        "\n",
        "# Link the y_range of p2 to p1: p2.y_range\n",
        "p2.y_range = p1.y_range\n",
        "\n",
        "# Link the x_range of p3 to p1: p3.x_range\n",
        "p3.x_range = p1.x_range\n",
        "\n",
        "# Link the y_range of p4 to p1: p4.y_range\n",
        "p4.y_range = p1.y_range\n",
        "\n",
        "# Specify the name of the output_file and show the result\n",
        "output_file('linked_range.html')\n",
        "show(layout)"
      ],
      "execution_count": 0,
      "outputs": []
    },
    {
      "cell_type": "markdown",
      "metadata": {
        "id": "bor9xMYXnI3Y",
        "colab_type": "text"
      },
      "source": [
        "### Linked brushing\n",
        "By sharing the same ColumnDataSource object between multiple plots, selection tools like BoxSelect and LassoSelect will highlight points in both plots that share a row in the ColumnDataSource.\n",
        "\n",
        "In this exercise, you'll plot female literacy vs fertility and population vs fertility in two plots using the same ColumnDataSource.\n",
        "\n",
        "After you have built the figure, experiment with the Lasso Select and Box Select tools. Use your mouse to drag a box or lasso around points in one figure, and notice how points in the other figure that share a row in the ColumnDataSource also get highlighted.\n",
        "\n",
        "Before experimenting with the Lasso Select, however, click the Bokeh plot pop-out icon to pop out the figure so that you can definitely see everything that you're doing."
      ]
    },
    {
      "cell_type": "code",
      "metadata": {
        "id": "TcTVR2QiqpOp",
        "colab_type": "code",
        "colab": {}
      },
      "source": [
        "# Create ColumnDataSource: source\n",
        "source = ColumnDataSource(data)\n",
        "\n",
        "# Create the first figure: p1\n",
        "p1 = figure(x_axis_label='fertility (children per woman)', y_axis_label='female literacy (% population)',tools='box_select,lasso_select')\n",
        "\n",
        "# Add a circle glyph to p1\n",
        "p1.circle('fertility','female literacy',source=source)\n",
        "\n",
        "# Create the second figure: p2\n",
        "p2 = figure(x_axis_label='fertility (children per woman)', y_axis_label='population (millions)',tools='box_select,lasso_select')\n",
        "\n",
        "# Add a circle glyph to p2\n",
        "p2.circle('fertility','population',source=source)\n",
        "\n",
        "# Create row layout of figures p1 and p2: layout\n",
        "layout = row(p1,p2)\n",
        "\n",
        "# Specify the name of the output_file and show the result\n",
        "output_file('linked_brush.html')\n",
        "show(layout)"
      ],
      "execution_count": 0,
      "outputs": []
    },
    {
      "cell_type": "markdown",
      "metadata": {
        "id": "I0ympYA2nIzW",
        "colab_type": "text"
      },
      "source": [
        "### How to create legends\n",
        "Legends can be added to any glyph by using the legend keyword argument.\n",
        "\n",
        "In this exercise, you will plot two circle glyphs for female literacy vs fertility in Africa and Latin America.\n",
        "\n",
        "Two ColumnDataSources called latin_america and africa have been provided.\n",
        "\n",
        "Your job is to plot two circle glyphs for these two objects with fertility on the x axis and female_literacy on the y axis and add the legend values. The figure p has been provided for you."
      ]
    },
    {
      "cell_type": "code",
      "metadata": {
        "id": "qNiSc5DtnKSg",
        "colab_type": "code",
        "colab": {}
      },
      "source": [
        "# Add the first circle glyph to the figure p\n",
        "p.circle('fertility', 'female_literacy', source=latin_america, size=10, color='red', legend='Latin America')\n",
        "\n",
        "# Add the second circle glyph to the figure p\n",
        "p.circle('fertility', 'female_literacy', source=africa, size=10, color='blue', legend='Africa')\n",
        "\n",
        "# Specify the name of the output_file and show the result\n",
        "output_file('fert_lit_groups.html')\n",
        "show(p)"
      ],
      "execution_count": 0,
      "outputs": []
    },
    {
      "cell_type": "markdown",
      "metadata": {
        "id": "4IUKhvoqnIwn",
        "colab_type": "text"
      },
      "source": [
        "### Positioning and styling legends\n",
        "Properties of the legend can be changed by using the legend member attribute of a Bokeh figure after the glyphs have been plotted.\n",
        "\n",
        "In this exercise, you'll adjust the background color and legend location of the female literacy vs fertility plot from the previous exercise.\n",
        "\n",
        "The figure object p has been created for you along with the circle glyphs."
      ]
    },
    {
      "cell_type": "code",
      "metadata": {
        "id": "BHAmPp5qnKzl",
        "colab_type": "code",
        "colab": {}
      },
      "source": [
        "# Assign the legend to the bottom left: p.legend.location\n",
        "p.legend.location='bottom_left'\n",
        "\n",
        "# Fill the legend background with the color 'lightgray': p.legend.background_fill_color\n",
        "p.legend.background_fill_color='lightgray'\n",
        "\n",
        "# Specify the name of the output_file and show the result\n",
        "output_file('fert_lit_groups.html')\n",
        "show(p)"
      ],
      "execution_count": 0,
      "outputs": []
    },
    {
      "cell_type": "markdown",
      "metadata": {
        "id": "upd1w1JinIts",
        "colab_type": "text"
      },
      "source": [
        "### Adding a hover tooltip\n",
        "Working with the HoverTool is easy for data stored in a ColumnDataSource.\n",
        "\n",
        "In this exercise, you will create a HoverTool object and display the country for each circle glyph in the figure that you created in the last exercise. This is done by assigning the tooltips keyword argument to a list-of-tuples specifying the label and the column of values from the ColumnDataSource using the @ operator.\n",
        "\n",
        "The figure object has been prepared for you as p.\n",
        "\n",
        "After you have added the hover tooltip to the figure, be sure to interact with it by hovering your mouse over each point to see which country it represents."
      ]
    },
    {
      "cell_type": "code",
      "metadata": {
        "id": "vUpXkn_gnLPZ",
        "colab_type": "code",
        "colab": {}
      },
      "source": [
        "from bokeh.models import HoverTool\n",
        "\n",
        "# Create a HoverTool object: hover\n",
        "hover = HoverTool(tooltips=[('Country','@Country')])\n",
        "\n",
        "# Add the HoverTool object to figure p\n",
        "p.add_tools(hover)\n",
        "\n",
        "# Specify the name of the output_file and show the result\n",
        "output_file('hover.html')\n",
        "show(p)"
      ],
      "execution_count": 0,
      "outputs": []
    },
    {
      "cell_type": "markdown",
      "metadata": {
        "id": "9_Q2_d4wnIqq",
        "colab_type": "text"
      },
      "source": [
        "### Using the current document\n",
        "Let's get started with building an interactive Bokeh app. This typically begins with importing the curdoc, or \"current document\", function from bokeh.io. This current document will eventually hold all the plots, controls, and layouts that you create. Your job in this exercise is to use this function to add a single plot to your application.\n",
        "\n",
        "In the video, Bryan described the process for running a Bokeh app using the bokeh serve command line tool. In this chapter and the one that follows, the DataCamp environment does this for you behind the scenes. Notice that your code is part of a script.py file. When you hit 'Submit Answer', you'll see in the IPython Shell that we call `bokeh serve script.py` for you.\n",
        "\n",
        "`bokeh serve --show script.py`\n",
        "\n",
        "Remember, as in the previous chapters, that there are different options available for you to interact with your plots, and as before, you may have to scroll down to view the lower portion of the plots."
      ]
    },
    {
      "cell_type": "code",
      "metadata": {
        "id": "Vnb8ej77nLzH",
        "colab_type": "code",
        "colab": {}
      },
      "source": [
        "# Perform necessary imports\n",
        "from bokeh.io import curdoc\n",
        "from bokeh.plotting import figure\n",
        "\n",
        "# Create a new plot: plot\n",
        "plot = figure()\n",
        "\n",
        "# Add a line to the plot\n",
        "plot.line([1,2,3,4,5],[2,5,4,6,7])\n",
        "\n",
        "# Add the plot to the current document\n",
        "curdoc().add_root(plot)"
      ],
      "execution_count": 0,
      "outputs": []
    },
    {
      "cell_type": "markdown",
      "metadata": {
        "id": "I0KLy8OwnIm5",
        "colab_type": "text"
      },
      "source": [
        "### Add a single slider\n",
        "In the previous exercise, you added a single plot to the \"current document\" of your application. In this exercise, you'll practice adding a layout to your current document.\n",
        "\n",
        "Your job here is to create a single slider, use it to create a widgetbox layout, and then add this layout to the current document.\n",
        "\n",
        "The slider you create here cannot be used for much, but in the later exercises, you'll use it to update your plots!"
      ]
    },
    {
      "cell_type": "code",
      "metadata": {
        "id": "vN0nsX1knMKf",
        "colab_type": "code",
        "colab": {}
      },
      "source": [
        "# Perform the necessary imports\n",
        "from bokeh.io import curdoc\n",
        "from bokeh.layouts import widgetbox\n",
        "from bokeh.models import Slider\n",
        "\n",
        "# Create a slider: slider\n",
        "slider = Slider(title='my slider', start=0, end=10,step=0.1, value=2)\n",
        "\n",
        "# Create a widgetbox layout: layout\n",
        "layout = widgetbox(slider)\n",
        "\n",
        "# Add the layout to the current document\n",
        "curdoc().add_root(layout)"
      ],
      "execution_count": 0,
      "outputs": []
    },
    {
      "cell_type": "markdown",
      "metadata": {
        "id": "ggaPMd9Jxdck",
        "colab_type": "text"
      },
      "source": [
        "### Multiple sliders in one document\n",
        "Having added a single slider in a widgetbox layout to your current document, you'll now add multiple sliders into the current document.\n",
        "\n",
        "Your job in this exercise is to create two sliders, add them to a widgetbox layout, and then add the layout into the current document."
      ]
    },
    {
      "cell_type": "code",
      "metadata": {
        "id": "LwPxWZFSxh6y",
        "colab_type": "code",
        "colab": {}
      },
      "source": [
        "# Perform necessary imports\n",
        "from bokeh.io import curdoc\n",
        "from bokeh.layouts import widgetbox\n",
        "from bokeh.models import Slider\n",
        "\n",
        "# Create first slider: slider1\n",
        "slider1 = Slider(title='slider1', start=0, end=10,step=0.1, value=2)\n",
        "\n",
        "# Create second slider: slider2\n",
        "slider2 = Slider(title='slider2', start=10, end=100,step=1, value=20)\n",
        "\n",
        "# Add slider1 and slider2 to a widgetbox\n",
        "layout = widgetbox(slider1,slider2)\n",
        "\n",
        "# Add the layout to the current document\n",
        "curdoc().add_root(layout)"
      ],
      "execution_count": 0,
      "outputs": []
    },
    {
      "cell_type": "markdown",
      "metadata": {
        "id": "wsy2LDOExdZ0",
        "colab_type": "text"
      },
      "source": [
        "### How to combine Bokeh models into layouts\n",
        "Let's begin making a Bokeh application that has a simple slider and plot, that also updates the plot based on the slider.\n",
        "\n",
        "In this exercise, your job is to first explicitly create a ColumnDataSource. You'll then combine a plot and a slider into a single column layout, and add it to the current document.\n",
        "\n",
        "After you are done, notice how in the figure you generate, the slider will not actually update the plot, because a widget callback has not been defined. You'll learn how to update the plot using widget callbacks in the next exercise.\n",
        "\n",
        "All the necessary modules have been imported for you. The plot is available in the workspace as plot, and the slider is available as slider."
      ]
    },
    {
      "cell_type": "code",
      "metadata": {
        "id": "JoEbffahy9Uf",
        "colab_type": "code",
        "colab": {}
      },
      "source": [
        "# Create ColumnDataSource: source\n",
        "source = ColumnDataSource(data={'x': x, 'y': y})\n",
        "\n",
        "# Add a line to the plot\n",
        "plot.line('x', 'y', source=source)\n",
        "\n",
        "# Create a column layout: layout\n",
        "layout = column(widgetbox(slider), plot)\n",
        "\n",
        "# Add the layout to the current document\n",
        "curdoc().add_root(layout)"
      ],
      "execution_count": 0,
      "outputs": []
    },
    {
      "cell_type": "markdown",
      "metadata": {
        "id": "joMqxMiTxdWo",
        "colab_type": "text"
      },
      "source": [
        "### Learn about widget callbacks\n",
        "You'll now learn how to use widget callbacks to update the state of a Bokeh application, and in turn, the data that is presented to the user.\n",
        "\n",
        "Your job in this exercise is to use the slider's on_change() function to update the plot's data from the previous example. NumPy's sin() function will be used to update the y-axis data of the plot.\n",
        "\n",
        "Now that you have added a widget callback, notice how as you move the slider of your app, the figure also updates!"
      ]
    },
    {
      "cell_type": "code",
      "metadata": {
        "id": "LU-a0Q2Qzchr",
        "colab_type": "code",
        "colab": {}
      },
      "source": [
        "# Define a callback function: callback\n",
        "def callback(attr, old, new):\n",
        "\n",
        "    # Read the current value of the slider: scale\n",
        "    scale = slider.value\n",
        "\n",
        "    # Compute the updated y using np.sin(scale/x): new_y\n",
        "    new_y = np.sin(scale/x)\n",
        "\n",
        "    # Update source with the new data values\n",
        "    source.data = {'x': x, 'y': new_y}\n",
        "\n",
        "# Attach the callback to the 'value' property of slider\n",
        "slider.on_change('value',callback)\n",
        "\n",
        "# Create layout and add to current document\n",
        "layout = column(widgetbox(slider), plot)\n",
        "curdoc().add_root(layout)"
      ],
      "execution_count": 0,
      "outputs": []
    },
    {
      "cell_type": "markdown",
      "metadata": {
        "id": "O9ArrHs8xdSR",
        "colab_type": "text"
      },
      "source": [
        "### Updating data sources from dropdown callbacks\n",
        "You'll now learn to update the plot's data using a drop down menu instead of a slider. This would allow users to do things like select between different data sources to view.\n",
        "\n",
        "The ColumnDataSource source has been created for you along with the plot. Your job in this exercise is to add a drop down menu to update the plot's data.\n",
        "\n",
        "All necessary modules have been imported for you."
      ]
    },
    {
      "cell_type": "code",
      "metadata": {
        "id": "F8m4azx91RgT",
        "colab_type": "code",
        "colab": {}
      },
      "source": [
        "# Perform necessary imports\n",
        "from bokeh.models import ColumnDataSource, Select\n",
        "\n",
        "# Create ColumnDataSource: source\n",
        "source = ColumnDataSource(data={\n",
        "    'x' : fertility,\n",
        "    'y' : female_literacy\n",
        "})\n",
        "\n",
        "# Create a new plot: plot\n",
        "plot = figure()\n",
        "\n",
        "# Add circles to the plot\n",
        "plot.circle('x', 'y', source=source)\n",
        "\n",
        "# Define a callback function: update_plot\n",
        "def update_plot(attr, old, new):\n",
        "    # If the new Selection is 'female_literacy', update 'y' to female_literacy\n",
        "    if new == 'female_literacy': \n",
        "        source.data = {\n",
        "            'x' : fertility,\n",
        "            'y' : female_literacy\n",
        "        }\n",
        "    # Else, update 'y' to population\n",
        "    else:\n",
        "        source.data = {\n",
        "            'x' : fertility,\n",
        "            'y' : population\n",
        "        }\n",
        "\n",
        "# Create a dropdown Select widget: select    \n",
        "select = Select(title=\"distribution\", options=['female_literacy', 'population'], value='female_literacy')\n",
        "\n",
        "# Attach the update_plot callback to the 'value' property of select\n",
        "select.on_change('value', update_plot)\n",
        "\n",
        "# Create layout and add to current document\n",
        "layout = row(select, plot)\n",
        "curdoc().add_root(layout)"
      ],
      "execution_count": 0,
      "outputs": []
    },
    {
      "cell_type": "markdown",
      "metadata": {
        "id": "WGga2B632HPx",
        "colab_type": "text"
      },
      "source": [
        "### Synchronize two dropdowns\n",
        "Here, you'll practice using a dropdown callback to update another dropdown's options. This will allow you to customize your applications even further and is a powerful addition to your toolbox.\n",
        "\n",
        "Your job in this exercise is to create two dropdown select widgets and then define a callback such that one dropdown is used to update the other dropdown.\n",
        "\n",
        "All modules necessary have been imported."
      ]
    },
    {
      "cell_type": "code",
      "metadata": {
        "id": "XXTiLHS42Nq7",
        "colab_type": "code",
        "colab": {}
      },
      "source": [
        "# Create two dropdown Select widgets: select1, select2\n",
        "select1 = Select(title='First', options=['A', 'B'], value='A')\n",
        "select2 = Select(title='Second', options=['1', '2', '3'], value='1')\n",
        "\n",
        "# Define a callback function: callback\n",
        "def callback(attr, old, new):\n",
        "    # If select1 is 'A' \n",
        "    if select1.value == 'A':\n",
        "        # Set select2 options to ['1', '2', '3']\n",
        "        select2.options = ['1', '2', '3']\n",
        "\n",
        "        # Set select2 value to '1'\n",
        "        select2.value = '1'\n",
        "    else:\n",
        "        # Set select2 options to ['100', '200', '300']\n",
        "        select2.options = ['100', '200', '300']\n",
        "\n",
        "        # Set select2 value to '100'\n",
        "        select2.value = '100'\n",
        "\n",
        "# Attach the callback to the 'value' property of select1\n",
        "select1.on_change('value', callback)\n",
        "\n",
        "# Create layout and add to current document\n",
        "layout = widgetbox(select1, select2)\n",
        "curdoc().add_root(layout)"
      ],
      "execution_count": 0,
      "outputs": []
    },
    {
      "cell_type": "markdown",
      "metadata": {
        "id": "h7qJd24I3Rhj",
        "colab_type": "text"
      },
      "source": [
        "### Button widgets\n",
        "It's time to practice adding buttons to your interactive visualizations. Your job in this exercise is to create a button and use its on_click() method to update a plot.\n",
        "\n",
        "All necessary modules have been imported for you. In addition, the ColumnDataSource with data x and y as well as the figure have been created for you and are available in the workspace as source and plot.\n",
        "\n",
        "When you're done, be sure to interact with the button you just added to your plot, and notice how it updates the data!"
      ]
    },
    {
      "cell_type": "code",
      "metadata": {
        "id": "_BGXW_K18LDD",
        "colab_type": "code",
        "colab": {}
      },
      "source": [
        "# Create a Button with label 'Update Data'\n",
        "button = Button(label='Update Data')\n",
        "\n",
        "# Define an update callback with no arguments: update\n",
        "def update():\n",
        "\n",
        "    # Compute new y values: y\n",
        "    y = np.sin(x) + np.random.random(N)\n",
        "\n",
        "    # Update the ColumnDataSource data dictionary\n",
        "    source.data = {'x':x,'y':y}\n",
        "\n",
        "# Add the update callback to the button\n",
        "button.on_click(update)\n",
        "# Create layout and add to current document\n",
        "layout = column(widgetbox(button), plot)\n",
        "curdoc().add_root(layout)"
      ],
      "execution_count": 0,
      "outputs": []
    },
    {
      "cell_type": "markdown",
      "metadata": {
        "id": "NGpNppjE3Rdm",
        "colab_type": "text"
      },
      "source": [
        "### Button styles\n",
        "You can also get really creative with your Button widgets.\n",
        "\n",
        "In this exercise, you'll practice using CheckboxGroup, RadioGroup, and Toggle to add multiple Button widgets with different styles.\n",
        "\n",
        "curdoc and widgetbox have already been imported for you."
      ]
    },
    {
      "cell_type": "code",
      "metadata": {
        "id": "SU1j4Y8i8yO5",
        "colab_type": "code",
        "colab": {}
      },
      "source": [
        "from bokeh.models import CheckboxGroup, RadioGroup, Toggle \n",
        "\n",
        "# Add a Toggle: toggle\n",
        "toggle = Toggle(button_type='success' , label='Toggle button')\n",
        "\n",
        "# Add a CheckboxGroup: checkbox\n",
        "checkbox = CheckboxGroup(labels=['Option 1', 'Option 2', 'Option 3'])\n",
        "\n",
        "# Add a RadioGroup: radio\n",
        "radio = RadioGroup(labels=['Option 1', 'Option 2', 'Option 3'])\n",
        "\n",
        "# Add widgetbox(toggle, checkbox, radio) to the current document\n",
        "curdoc().add_root(widgetbox(toggle, checkbox, radio))"
      ],
      "execution_count": 0,
      "outputs": []
    },
    {
      "cell_type": "markdown",
      "metadata": {
        "id": "SKmeNf3x3Rap",
        "colab_type": "text"
      },
      "source": [
        "#### Bokeh Applications can be easily hosted online using anacnoda, other ways also available"
      ]
    },
    {
      "cell_type": "markdown",
      "metadata": {
        "id": "xmu_aWzd3RXF",
        "colab_type": "text"
      },
      "source": [
        "## Case Study"
      ]
    },
    {
      "cell_type": "markdown",
      "metadata": {
        "id": "3Hhr45mI3RSs",
        "colab_type": "text"
      },
      "source": [
        "### Introducing the project dataset\n",
        "For the final chapter, you'll be looking at some of the Gapminder datasets combined into one tidy file called \"gapminder_tidy.csv\". This data set is available as a pandas DataFrame under the variable name data.\n",
        "\n",
        "It is always a good idea to begin with some Exploratory Data Analysis. Pandas has a number of built-in methods that help with this. For example, data.head() displays the first five rows/entries of data, while data.tail() displays the last five rows/entries. data.shape gives you information about how many rows and columns there are in the data set. Another particularly useful method is data.info(), which provides a concise summary of data, including information about the number of entries, columns, data type of each column, and number of non-null entries in each column."
      ]
    },
    {
      "cell_type": "markdown",
      "metadata": {
        "id": "e7VEqy8e2HLk",
        "colab_type": "text"
      },
      "source": [
        "### Some exploratory plots of the data\n",
        "Here, you'll continue your Exploratory Data Analysis by making a simple plot of Life Expectancy vs Fertility for the year 1970.\n",
        "\n",
        "Your job is to import the relevant Bokeh modules and then prepare a ColumnDataSource object with the fertility, life and Country columns, where you only select the rows with the index value 1970.\n",
        "\n",
        "Remember, as with the figures you generated in previous chapters, you can interact with your figures here with a variety of tools."
      ]
    },
    {
      "cell_type": "code",
      "metadata": {
        "id": "1OA7Dogg-cvP",
        "colab_type": "code",
        "colab": {}
      },
      "source": [
        "# Perform necessary imports\n",
        "from bokeh.io import output_file, show\n",
        "from bokeh.plotting import figure\n",
        "from bokeh.models import ColumnDataSource,HoverTool\n",
        "\n",
        "# Make the ColumnDataSource: source\n",
        "source = ColumnDataSource(data={\n",
        "    'x'       : data.loc[1970]['fertility'],\n",
        "    'y'       : data.loc[1970]['life'],\n",
        "    'country' : data.loc[1970]['Country'],\n",
        "})\n",
        "\n",
        "# Create the figure: p\n",
        "p = figure(title='1970', x_axis_label='Fertility (children per woman)', y_axis_label='Life Expectancy (years)',\n",
        "           plot_height=400, plot_width=700,\n",
        "           tools=[HoverTool(tooltips='@country')])\n",
        "\n",
        "# Add a circle glyph to the figure p\n",
        "p.circle(x='x', y='y', source=source)\n",
        "\n",
        "# Output the file and show the figure\n",
        "output_file('gapminder.html')\n",
        "show(p)"
      ],
      "execution_count": 0,
      "outputs": []
    },
    {
      "cell_type": "markdown",
      "metadata": {
        "id": "wkTXq2jF_W9O",
        "colab_type": "text"
      },
      "source": [
        "### Beginning with just a plot\n",
        "Let's get started on the Gapminder app. Your job is to make the ColumnDataSource object, prepare the plot, and add circles for Life expectancy vs Fertility. You'll also set x and y ranges for the axes.\n",
        "\n",
        "As in the previous chapter, the DataCamp environment executes the bokeh serve command to run the app for you. When you hit 'Submit Answer', you'll see in the IPython Shell that bokeh serve script.py gets called to run the app. This is something to keep in mind when you are creating your own interactive visualizations outside of the DataCamp environment."
      ]
    },
    {
      "cell_type": "code",
      "metadata": {
        "id": "5680yL5e_xSn",
        "colab_type": "code",
        "colab": {}
      },
      "source": [
        "# Import the necessary modules\n",
        "from bokeh.io import curdoc\n",
        "from bokeh.models import ColumnDataSource\n",
        "from bokeh.plotting import figure\n",
        "\n",
        "# Make the ColumnDataSource: source\n",
        "source = ColumnDataSource(data={\n",
        "    'x'       : data.loc[1970].fertility,\n",
        "    'y'       : data.loc[1970].life,\n",
        "    'country'      : data.loc[1970].Country,\n",
        "    'pop'      : (data.loc[1970].population / 20000000) + 2,\n",
        "    'region'      : data.loc[1970].region,\n",
        "})\n",
        "\n",
        "# Save the minimum and maximum values of the fertility column: xmin, xmax\n",
        "xmin, xmax = min(data.fertility), max(data.fertility)\n",
        "\n",
        "# Save the minimum and maximum values of the life expectancy column: ymin, ymax\n",
        "ymin, ymax = min(data.life), max(data.life)\n",
        "\n",
        "# Create the figure: plot\n",
        "plot = figure(title='Gapminder Data for 1970', plot_height=400, plot_width=700,x_range=(xmin, xmax), y_range=(ymin, ymax))\n",
        "\n",
        "# Add circle glyphs to the plot\n",
        "plot.circle(x='x', y='y', fill_alpha=0.8, source=source)\n",
        "\n",
        "# Set the x-axis label\n",
        "plot.xaxis.axis_label ='Fertility (children per woman)'\n",
        "\n",
        "# Set the y-axis label\n",
        "plot.yaxis.axis_label = 'Life Expectancy (years)'\n",
        "\n",
        "# Add the plot to the current document and add a title\n",
        "curdoc().add_root(plot)\n",
        "curdoc().title = 'Gapminder'"
      ],
      "execution_count": 0,
      "outputs": []
    },
    {
      "cell_type": "markdown",
      "metadata": {
        "id": "A4MXMvzs_nfA",
        "colab_type": "text"
      },
      "source": [
        "### Enhancing the plot with some shading\n",
        "Now that you have the base plot ready, you can enhance it by coloring each circle glyph by continent.\n",
        "\n",
        "Your job is to make a list of the unique regions from the data frame, prepare a ColorMapper, and add it to the circle glyph."
      ]
    },
    {
      "cell_type": "code",
      "metadata": {
        "id": "tvCxmoHG_mbC",
        "colab_type": "code",
        "colab": {}
      },
      "source": [
        "# Make a list of the unique values from the region column: regions_list\n",
        "regions_list = data.region.unique().tolist()\n",
        "\n",
        "# Import CategoricalColorMapper from bokeh.models and the Spectral6 palette from bokeh.palettes\n",
        "from bokeh.models import CategoricalColorMapper\n",
        "from bokeh.palettes import Spectral6\n",
        "\n",
        "# Make a color mapper: color_mapper\n",
        "color_mapper = CategoricalColorMapper(factors=regions_list, palette=Spectral6)\n",
        "\n",
        "# Add the color mapper to the circle glyph\n",
        "plot.circle(x='x', y='y', fill_alpha=0.8, source=source,\n",
        "            color=dict(field='region', transform=color_mapper), legend='region')\n",
        "\n",
        "# Set the legend.location attribute of the plot to 'top_right'\n",
        "plot.legend.location = 'top_right'\n",
        "\n",
        "# Add the plot to the current document and add the title\n",
        "curdoc().add_root(plot)\n",
        "curdoc().title = 'Gapminder'"
      ],
      "execution_count": 0,
      "outputs": []
    },
    {
      "cell_type": "markdown",
      "metadata": {
        "id": "2Giv84VTBqxO",
        "colab_type": "text"
      },
      "source": [
        "### Adding a slider to vary the year\n",
        "Until now, we've been plotting data only for 1970. In this exercise, you'll add a slider to your plot to change the year being plotted. To do this, you'll create an update_plot() function and associate it with a slider to select values between 1970 and 2010.\n",
        "\n",
        "After you are done, you may have to scroll to the right to view the entire plot. As you play around with the slider, notice that the title of the plot is not updated along with the year. This is something you'll fix in the next exercise!"
      ]
    },
    {
      "cell_type": "code",
      "metadata": {
        "id": "SK20zGAFBsjO",
        "colab_type": "code",
        "colab": {}
      },
      "source": [
        "# Import the necessary modules\n",
        "from bokeh.layouts import widgetbox,row\n",
        "from bokeh.models import Slider\n",
        "\n",
        "# Define the callback function: update_plot\n",
        "def update_plot(attr, old, new):\n",
        "    # Set the yr name to slider.value and new_data to source.data\n",
        "    yr = slider.value\n",
        "    new_data = {\n",
        "        'x'       : data.loc[yr].fertility,\n",
        "        'y'       : data.loc[yr].life,\n",
        "        'country' : data.loc[yr].Country,\n",
        "        'pop'     : (data.loc[yr].population / 20000000) + 2,\n",
        "        'region'  : data.loc[yr].region,\n",
        "    }\n",
        "    source.data = new_data\n",
        "\n",
        "\n",
        "# Make a slider object: slider\n",
        "slider = Slider(start=1970,end=2010,step=1,value=1970,title='Year')\n",
        "\n",
        "# Attach the callback to the 'value' property of slider\n",
        "slider.on_change('value',update_plot)\n",
        "\n",
        "# Make a row layout of widgetbox(slider) and plot and add it to the current document\n",
        "layout = row(widgetbox(slider), plot)\n",
        "curdoc().add_root(layout)"
      ],
      "execution_count": 0,
      "outputs": []
    },
    {
      "cell_type": "markdown",
      "metadata": {
        "id": "fQtd3lezCbiq",
        "colab_type": "text"
      },
      "source": [
        "### Customizing based on user input\n",
        "Remember how in the plot from the previous exercise, the title did not update along with the slider? In this exercise, you'll fix this.\n",
        "\n",
        "In Python, you can format strings by specifying placeholders with the % keyword. For example, if you have a string company = 'DataCamp', you can use print('%s' % company) to print DataCamp. Placeholders are useful when you are printing values that are not static, such as the value of the year slider. You can specify a placeholder for a number with %d. Here, when you're updating the plot title inside your callback function, you should make use of a placeholder so that the year displayed is in accordance with the value of the year slider.\n",
        "\n",
        "In addition to updating the plot title, you'll also create the callback function and slider as you did in the previous exercise, so you get a chance to practice these concepts further."
      ]
    },
    {
      "cell_type": "code",
      "metadata": {
        "id": "Ahi9xv1JCb7F",
        "colab_type": "code",
        "colab": {}
      },
      "source": [
        "# Define the callback function: update_plot\n",
        "def update_plot(attr, old, new):\n",
        "    # Assign the value of the slider: yr\n",
        "    yr = slider.value\n",
        "    # Set new_data\n",
        "    new_data = {\n",
        "        'x'       : data.loc[yr].fertility,\n",
        "        'y'       : data.loc[yr].life,\n",
        "        'country' : data.loc[yr].Country,\n",
        "        'pop'     : (data.loc[yr].population / 20000000) + 2,\n",
        "        'region'  : data.loc[yr].region,\n",
        "    }\n",
        "    # Assign new_data to: source.data\n",
        "    source.data = new_data\n",
        "\n",
        "    # Add title to figure: plot.title.text\n",
        "    plot.title.text = 'Gapminder data for %d' % yr\n",
        "\n",
        "# Make a slider object: slider\n",
        "slider = Slider(start=1970, end=2010, step=1, value=1970,title='Year') \n",
        "\n",
        "# Attach the callback to the 'value' property of slider\n",
        "slider.on_change('value',update_plot)\n",
        "\n",
        "# Make a row layout of widgetbox(slider) and plot and add it to the current document\n",
        "layout = row(widgetbox(slider), plot)\n",
        "curdoc().add_root(layout)"
      ],
      "execution_count": 0,
      "outputs": []
    },
    {
      "cell_type": "markdown",
      "metadata": {
        "id": "UKpaJvhCDLa9",
        "colab_type": "text"
      },
      "source": [
        "### Adding a hover tool\n",
        "In this exercise, you'll practice adding a hover tool to drill down into data column values and display more detailed information about each scatter point.\n",
        "\n",
        "After you're done, experiment with the hover tool and see how it displays the name of the country when your mouse hovers over a point!\n",
        "\n",
        "The figure and slider have been created for you and are available in the workspace as plot and slider."
      ]
    },
    {
      "cell_type": "code",
      "metadata": {
        "id": "DE8KN0b5DkoC",
        "colab_type": "code",
        "colab": {}
      },
      "source": [
        "from bokeh.models import HoverTool\n",
        "\n",
        "# Create a HoverTool: hover\n",
        "hover = HoverTool(tooltips=[('Country', '@country')])\n",
        "\n",
        "# Add the HoverTool to the plot\n",
        "plot.add_tools(hover)\n",
        "\n",
        "# Create layout: layout\n",
        "layout = row(widgetbox(slider), plot)\n",
        "\n",
        "# Add layout to current document\n",
        "curdoc().add_root(layout)"
      ],
      "execution_count": 0,
      "outputs": []
    },
    {
      "cell_type": "markdown",
      "metadata": {
        "id": "9xyVo7F-DLKK",
        "colab_type": "text"
      },
      "source": [
        "### Adding dropdowns to the app\n",
        "As a final step in enhancing your application, in this exercise you'll add dropdowns for interactively selecting different data features. In combination with the hover tool you added in the previous exercise, as well as the slider to change the year, you'll have a powerful app that allows you to interactively and quickly extract some great insights from the dataset!\n",
        "\n",
        "All necessary modules have been imported, and the previous code you wrote is taken care of. In the provided sample code, the dropdown for selecting features on the x-axis has been added for you. Using this as a reference, your job in this final exercise is to add a dropdown menu for selecting features on the y-axis.\n",
        "\n",
        "Take a moment, after you are done, to enjoy exploring the visualization by experimenting with the hover tools, sliders, and dropdown menus that you have learned how to implement in this course."
      ]
    },
    {
      "cell_type": "code",
      "metadata": {
        "id": "lZHXYe24ECLS",
        "colab_type": "code",
        "colab": {}
      },
      "source": [
        "# Define the callback: update_plot\n",
        "def update_plot(attr, old, new):\n",
        "    # Read the current value off the slider and 2 dropdowns: yr, x, y\n",
        "    yr = slider.value\n",
        "    x = x_select.value\n",
        "    y = y_select.value\n",
        "    # Label axes of plot\n",
        "    plot.xaxis.axis_label = x\n",
        "    plot.yaxis.axis_label = y\n",
        "    # Set new_data\n",
        "    new_data = {\n",
        "        'x'       : data.loc[yr][x],\n",
        "        'y'       : data.loc[yr][y],\n",
        "        'country' : data.loc[yr].Country,\n",
        "        'pop'     : (data.loc[yr].population / 20000000) + 2,\n",
        "        'region'  : data.loc[yr].region,\n",
        "    }\n",
        "    # Assign new_data to source.data\n",
        "    source.data = new_data\n",
        "\n",
        "    # Set the range of all axes\n",
        "    plot.x_range.start = min(data[x])\n",
        "    plot.x_range.end = max(data[x])\n",
        "    plot.y_range.start = min(data[y])\n",
        "    plot.y_range.end = max(data[y])\n",
        "\n",
        "    # Add title to plot\n",
        "    plot.title.text = 'Gapminder data for %d' % yr\n",
        "\n",
        "# Create a dropdown slider widget: slider\n",
        "slider = Slider(start=1970, end=2010, step=1, value=1970, title='Year')\n",
        "\n",
        "# Attach the callback to the 'value' property of slider\n",
        "slider.on_change('value', update_plot)\n",
        "\n",
        "# Create a dropdown Select widget for the x data: x_select\n",
        "x_select = Select(\n",
        "    options=['fertility', 'life', 'child_mortality', 'gdp'],\n",
        "    value='fertility',\n",
        "    title='x-axis data'\n",
        ")\n",
        "\n",
        "# Attach the update_plot callback to the 'value' property of x_select\n",
        "x_select.on_change('value', update_plot)\n",
        "\n",
        "# Create a dropdown Select widget for the y data: y_select\n",
        "y_select = Select(\n",
        "    options=['fertility', 'life', 'child_mortality', 'gdp'],\n",
        "    value='life',\n",
        "    title='y-axis data'\n",
        ")\n",
        "\n",
        "# Attach the update_plot callback to the 'value' property of y_select\n",
        "y_select.on_change('value', update_plot)\n",
        "\n",
        "# Create layout and add to current document\n",
        "layout = row(widgetbox(slider, x_select, y_select), plot)\n",
        "curdoc().add_root(layout)"
      ],
      "execution_count": 0,
      "outputs": []
    }
  ]
}