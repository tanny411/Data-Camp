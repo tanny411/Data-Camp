{
  "nbformat": 4,
  "nbformat_minor": 0,
  "metadata": {
    "colab": {
      "name": "statistical-thinking-in-python-part-2.ipynb",
      "version": "0.3.2",
      "provenance": [],
      "collapsed_sections": []
    },
    "kernelspec": {
      "name": "python3",
      "display_name": "Python 3"
    }
  },
  "cells": [
    {
      "cell_type": "markdown",
      "metadata": {
        "id": "dWEf7-3-oHnS",
        "colab_type": "text"
      },
      "source": [
        "# Parameter estimation by optimization"
      ]
    },
    {
      "cell_type": "markdown",
      "metadata": {
        "id": "ljXbWH35oVjC",
        "colab_type": "text"
      },
      "source": [
        "- how do we know the mean and std calculated from the data were the appropriate values for the parameters of the normal distribution?\n",
        "- if we assume our data DOES give a normal distribution, its mean and std are infact the optimal parameters."
      ]
    },
    {
      "cell_type": "markdown",
      "metadata": {
        "id": "uZo8jdWCrZN2",
        "colab_type": "text"
      },
      "source": [
        "### How often do we get no-hitters?\n",
        "The number of games played between each no-hitter in the modern era (1901-2015) of Major League Baseball is stored in the array nohitter_times.\n",
        "\n",
        "If you assume that no-hitters are described as a Poisson process, then the time between no-hitters is Exponentially distributed. As you have seen, the Exponential distribution has a single parameter, which we will call ττ, the typical interval time. The value of the parameter ττ that makes the exponential distribution best match the data is the mean interval time (where time is in units of number of games) between no-hitters.\n",
        "\n",
        "Compute the value of this parameter from the data. Then, use np.random.exponential() to \"repeat\" the history of Major League Baseball by drawing inter-no-hitter times from an exponential distribution with the ττ you found and plot the histogram as an approximation to the PDF.\n",
        "\n",
        "NumPy, pandas, matlotlib.pyplot, and seaborn have been imported for you as np, pd, plt, and sns, respectively."
      ]
    },
    {
      "cell_type": "code",
      "metadata": {
        "id": "qbX5Ow9Rrc_l",
        "colab_type": "code",
        "colab": {}
      },
      "source": [
        "import numpy as np\n",
        "import pandas as pd\n",
        "import matplotlib.pyplot as plt\n",
        "import seaborn as sns"
      ],
      "execution_count": 0,
      "outputs": []
    },
    {
      "cell_type": "code",
      "metadata": {
        "id": "c636fkmDsQxn",
        "colab_type": "code",
        "colab": {}
      },
      "source": [
        "nohitter_times=[ 843, 1613, 1101,  215,  684,  814,  278,  324,  161,  219,  545,\n",
        "        715,  966,  624,   29,  450,  107,   20,   91, 1325,  124, 1468,\n",
        "        104, 1309,  429,   62, 1878, 1104,  123,  251,   93,  188,  983,\n",
        "        166,   96,  702,   23,  524,   26,  299,   59,   39,   12,    2,\n",
        "        308, 1114,  813,  887,  645, 2088,   42, 2090,   11,  886, 1665,\n",
        "       1084, 2900, 2432,  750, 4021, 1070, 1765, 1322,   26,  548, 1525,\n",
        "         77, 2181, 2752,  127, 2147,  211,   41, 1575,  151,  479,  697,\n",
        "        557, 2267,  542,  392,   73,  603,  233,  255,  528,  397, 1529,\n",
        "       1023, 1194,  462,  583,   37,  943,  996,  480, 1497,  717,  224,\n",
        "        219, 1531,  498,   44,  288,  267,  600,   52,  269, 1086,  386,\n",
        "        176, 2199,  216,   54,  675, 1243,  463,  650,  171,  327,  110,\n",
        "        774,  509,    8,  197,  136,   12, 1124,   64,  380,  811,  232,\n",
        "        192,  731,  715,  226,  605,  539, 1491,  323,  240,  179,  702,\n",
        "        156,   82, 1397,  354,  778,  603, 1001,  385,  986,  203,  149,\n",
        "        576,  445,  180, 1403,  252,  675, 1351, 2983, 1568,   45,  899,\n",
        "       3260, 1025,   31,  100, 2055, 4043,   79,  238, 3931, 2351,  595,\n",
        "        110,  215,    0,  563,  206,  660,  242,  577,  179,  157,  192,\n",
        "        192, 1848,  792, 1693,   55,  388,  225, 1134, 1172, 1555,   31,\n",
        "       1582, 1044,  378, 1687, 2915,  280,  765, 2819,  511, 1521,  745,\n",
        "       2491,  580, 2072, 6450,  578,  745, 1075, 1103, 1549, 1520,  138,\n",
        "       1202,  296,  277,  351,  391,  950,  459,   62, 1056, 1128,  139,\n",
        "        420,   87,   71,  814,  603, 1349,  162, 1027,  783,  326,  101,\n",
        "        876,  381,  905,  156,  419,  239,  119,  129,  467]"
      ],
      "execution_count": 0,
      "outputs": []
    },
    {
      "cell_type": "code",
      "metadata": {
        "id": "2GPu283PrlXr",
        "colab_type": "code",
        "outputId": "aa064eb1-5d2e-4b5c-ad0d-f605419c98c4",
        "colab": {
          "base_uri": "https://localhost:8080/",
          "height": 334
        }
      },
      "source": [
        "# Seed random number generator\n",
        "np.random.seed(42)\n",
        "\n",
        "# Compute mean no-hitter time: tau\n",
        "tau = np.mean(nohitter_times)\n",
        "\n",
        "# Draw out of an exponential distribution with parameter tau: inter_nohitter_time\n",
        "inter_nohitter_time = np.random.exponential(tau, 100000)\n",
        "\n",
        "# Plot the PDF and label axes\n",
        "_ = plt.hist(inter_nohitter_time,\n",
        "             bins=50, normed=True, histtype='step')\n",
        "_ = plt.xlabel('Games between no-hitters')\n",
        "_ = plt.ylabel('PDF')\n",
        "\n",
        "# Show the plot\n",
        "plt.show()"
      ],
      "execution_count": 4,
      "outputs": [
        {
          "output_type": "stream",
          "text": [
            "/usr/local/lib/python3.6/dist-packages/matplotlib/axes/_axes.py:6521: MatplotlibDeprecationWarning: \n",
            "The 'normed' kwarg was deprecated in Matplotlib 2.1 and will be removed in 3.1. Use 'density' instead.\n",
            "  alternative=\"'density'\", removal=\"3.1\")\n"
          ],
          "name": "stderr"
        },
        {
          "output_type": "display_data",
          "data": {
            "image/png": "[encoded data removed]",
            "text/plain": [
              "<Figure size 432x288 with 1 Axes>"
            ]
          },
          "metadata": {
            "tags": []
          }
        }
      ]
    },
    {
      "cell_type": "markdown",
      "metadata": {
        "id": "2fgmik-asf9q",
        "colab_type": "text"
      },
      "source": [
        "### Do the data follow our story?\n",
        "You have modeled no-hitters using an Exponential distribution. Create an ECDF of the real data. Overlay the theoretical CDF with the ECDF from the data. This helps you to verify that the Exponential distribution describes the observed data."
      ]
    },
    {
      "cell_type": "code",
      "metadata": {
        "id": "rjaTKkxAsh3Q",
        "colab_type": "code",
        "colab": {}
      },
      "source": [
        "def ecdf(data):\n",
        "    \"\"\"Compute ECDF for a one-dimensional array of measurements.\"\"\"\n",
        "    # Number of data points: n\n",
        "    n = len(data)\n",
        "\n",
        "    # x-data for the ECDF: x\n",
        "    x = np.sort(data)\n",
        "\n",
        "    # The yy data of the ECDF go from 1/n to 1 in equally spaced increments. You can construct this using np.arange(). Remember, however, that the end value in np.arange() is not inclusive. Therefore, np.arange() will need to go from 1 to n+1. Be sure to divide this by n.\n",
        "    \n",
        "    # y-data for the ECDF: y\n",
        "    y = np.arange(1, n+1) / n\n",
        "\n",
        "    return x, y"
      ],
      "execution_count": 0,
      "outputs": []
    },
    {
      "cell_type": "code",
      "metadata": {
        "id": "KIA5Hj68svGH",
        "colab_type": "code",
        "outputId": "6384614a-3172-49fd-f351-f52d1cb1a758",
        "colab": {
          "base_uri": "https://localhost:8080/",
          "height": 283
        }
      },
      "source": [
        "\n",
        "# Create an ECDF from real data: x, y\n",
        "x, y = ecdf(nohitter_times)\n",
        "\n",
        "# Create a CDF from theoretical samples: x_theor, y_theor\n",
        "x_theor, y_theor = ecdf(inter_nohitter_time)\n",
        "\n",
        "# Overlay the plots\n",
        "plt.plot(x_theor, y_theor)\n",
        "plt.plot(x, y,marker='.',linestyle='none')\n",
        "\n",
        "# Margins and axis labels\n",
        "plt.margins(0.02)\n",
        "plt.xlabel('Games between no-hitters')\n",
        "plt.ylabel('CDF')\n",
        "\n",
        "# Show the plot\n",
        "plt.show()"
      ],
      "execution_count": 6,
      "outputs": [
        {
          "output_type": "display_data",
          "data": {
            "image/png": "[encoded data removed]",
            "text/plain": [
              "<Figure size 432x288 with 1 Axes>"
            ]
          },
          "metadata": {
            "tags": []
          }
        }
      ]
    },
    {
      "cell_type": "markdown",
      "metadata": {
        "id": "GOipeGz5tN66",
        "colab_type": "text"
      },
      "source": [
        "### How is this parameter optimal?\n",
        "Now sample out of an exponential distribution with ττ being twice as large as the optimal ττ. Do it again for ττ half as large. Make CDFs of these samples and overlay them with your data. You can see that they do not reproduce the data as well. Thus, the ττ you computed from the mean inter-no-hitter times is optimal in that it best reproduces the data."
      ]
    },
    {
      "cell_type": "code",
      "metadata": {
        "id": "KhkJ9OyTtNCj",
        "colab_type": "code",
        "outputId": "2c8669fc-5030-42df-9b24-dc7803f16d5f",
        "colab": {
          "base_uri": "https://localhost:8080/",
          "height": 283
        }
      },
      "source": [
        "# Plot the theoretical CDFs\n",
        "plt.plot(x_theor, y_theor)\n",
        "plt.plot(x, y, marker='.', linestyle='none')\n",
        "plt.margins(0.02)\n",
        "plt.xlabel('Games between no-hitters')\n",
        "plt.ylabel('CDF')\n",
        "\n",
        "# Take samples with half tau: samples_half\n",
        "samples_half = np.random.exponential(tau/2,10000)\n",
        "\n",
        "# Take samples with double tau: samples_double\n",
        "samples_double = np.random.exponential(tau*2,10000)\n",
        "\n",
        "# Generate CDFs from these samples\n",
        "x_half, y_half = ecdf(samples_half)\n",
        "x_double, y_double = ecdf(samples_double)\n",
        "\n",
        "# Plot these CDFs as lines\n",
        "_ = plt.plot(x_half, y_half)\n",
        "_ = plt.plot(x_double, y_double)\n",
        "\n",
        "# Show the plot\n",
        "plt.show()"
      ],
      "execution_count": 7,
      "outputs": [
        {
          "output_type": "display_data",
          "data": {
            "image/png": "[encoded data removed]",
            "text/plain": [
              "<Figure size 432x288 with 1 Axes>"
            ]
          },
          "metadata": {
            "tags": []
          }
        }
      ]
    },
    {
      "cell_type": "markdown",
      "metadata": {
        "id": "aySYaD7QtjL8",
        "colab_type": "text"
      },
      "source": [
        "### Linear regression"
      ]
    },
    {
      "cell_type": "code",
      "metadata": {
        "id": "3ReuylQZwBn1",
        "colab_type": "code",
        "outputId": "fd2939a8-a4b2-4feb-ee55-24c5b433abdb",
        "colab": {
          "base_uri": "https://localhost:8080/",
          "height": 204
        }
      },
      "source": [
        "url='https://assets.datacamp.com/production/repositories/470/datasets/f1e7f8a98c18da5c60b625cb8af04c3217f4a5c3/female_literacy_fertility.csv'\n",
        "df = pd.read_csv(url)\n",
        "df.head()"
      ],
      "execution_count": 8,
      "outputs": [
        {
          "output_type": "execute_result",
          "data": {
            "text/html": [
              "<div>\n",
              "<style scoped>\n",
              "    .dataframe tbody tr th:only-of-type {\n",
              "        vertical-align: middle;\n",
              "    }\n",
              "\n",
              "    .dataframe tbody tr th {\n",
              "        vertical-align: top;\n",
              "    }\n",
              "\n",
              "    .dataframe thead th {\n",
              "        text-align: right;\n",
              "    }\n",
              "</style>\n",
              "<table border=\"1\" class=\"dataframe\">\n",
              "  <thead>\n",
              "    <tr style=\"text-align: right;\">\n",
              "      <th></th>\n",
              "      <th>Country</th>\n",
              "      <th>Continent</th>\n",
              "      <th>female literacy</th>\n",
              "      <th>fertility</th>\n",
              "      <th>population</th>\n",
              "    </tr>\n",
              "  </thead>\n",
              "  <tbody>\n",
              "    <tr>\n",
              "      <th>0</th>\n",
              "      <td>Chine</td>\n",
              "      <td>ASI</td>\n",
              "      <td>90.5</td>\n",
              "      <td>1.769</td>\n",
              "      <td>1,324,655,000</td>\n",
              "    </tr>\n",
              "    <tr>\n",
              "      <th>1</th>\n",
              "      <td>Inde</td>\n",
              "      <td>ASI</td>\n",
              "      <td>50.8</td>\n",
              "      <td>2.682</td>\n",
              "      <td>1,139,964,932</td>\n",
              "    </tr>\n",
              "    <tr>\n",
              "      <th>2</th>\n",
              "      <td>USA</td>\n",
              "      <td>NAM</td>\n",
              "      <td>99.0</td>\n",
              "      <td>2.077</td>\n",
              "      <td>304,060,000</td>\n",
              "    </tr>\n",
              "    <tr>\n",
              "      <th>3</th>\n",
              "      <td>Indonésie</td>\n",
              "      <td>ASI</td>\n",
              "      <td>88.8</td>\n",
              "      <td>2.132</td>\n",
              "      <td>227,345,082</td>\n",
              "    </tr>\n",
              "    <tr>\n",
              "      <th>4</th>\n",
              "      <td>Brésil</td>\n",
              "      <td>LAT</td>\n",
              "      <td>90.2</td>\n",
              "      <td>1.827</td>\n",
              "      <td>191,971,506</td>\n",
              "    </tr>\n",
              "  </tbody>\n",
              "</table>\n",
              "</div>"
            ],
            "text/plain": [
              "    Country  Continent  female literacy  fertility     population\n",
              "0      Chine       ASI             90.5      1.769  1,324,655,000\n",
              "1       Inde       ASI             50.8      2.682  1,139,964,932\n",
              "2        USA       NAM             99.0      2.077    304,060,000\n",
              "3  Indonésie       ASI             88.8      2.132    227,345,082\n",
              "4     Brésil       LAT             90.2      1.827    191,971,506"
            ]
          },
          "metadata": {
            "tags": []
          },
          "execution_count": 8
        }
      ]
    },
    {
      "cell_type": "code",
      "metadata": {
        "id": "xYtI__7JwSjV",
        "colab_type": "code",
        "colab": {}
      },
      "source": [
        "illiteracy, fertility = 100-df['female literacy'], df['fertility']"
      ],
      "execution_count": 0,
      "outputs": []
    },
    {
      "cell_type": "code",
      "metadata": {
        "id": "ZAvx_gAXwGEo",
        "colab_type": "code",
        "colab": {}
      },
      "source": [
        "def pearson_r(x,y):\n",
        "    \"\"\"Compute Pearson correlation coefficient between two arrays.\"\"\"\n",
        "    # Compute correlation matrix: corr_mat\n",
        "    corr_mat = np.corrcoef(x,y)\n",
        "\n",
        "    # Return entry [0,1]\n",
        "    return corr_mat[0,1]"
      ],
      "execution_count": 0,
      "outputs": []
    },
    {
      "cell_type": "code",
      "metadata": {
        "id": "4qdcqWUNwSgc",
        "colab_type": "code",
        "outputId": "2d7283e7-4253-496e-a176-ab19e79d786f",
        "colab": {
          "base_uri": "https://localhost:8080/",
          "height": 300
        }
      },
      "source": [
        "# Plot the illiteracy rate versus fertility\n",
        "_ = plt.plot(illiteracy, fertility, marker='.', linestyle='none')\n",
        "\n",
        "# Set the margins and label axes\n",
        "plt.margins(0.02)\n",
        "_ = plt.xlabel('percent illiterate')\n",
        "_ = plt.ylabel('fertility')\n",
        "\n",
        "# Show the plot\n",
        "plt.show()\n",
        "\n",
        "# Show the Pearson correlation coefficient\n",
        "print(pearson_r(illiteracy, fertility))"
      ],
      "execution_count": 11,
      "outputs": [
        {
          "output_type": "display_data",
          "data": {
            "image/png": "[encoded data removed]",
            "text/plain": [
              "<Figure size 432x288 with 1 Axes>"
            ]
          },
          "metadata": {
            "tags": []
          }
        },
        {
          "output_type": "stream",
          "text": [
            "0.8041324026815344\n"
          ],
          "name": "stdout"
        }
      ]
    },
    {
      "cell_type": "markdown",
      "metadata": {
        "id": "9tT6R3hExA_w",
        "colab_type": "text"
      },
      "source": [
        "We will assume that fertility is a linear function of the female illiteracy rate. That is, f=ai+bf=ai+b, where aa is the slope and bb is the intercept. We can think of the intercept as the minimal fertility rate, probably somewhere between one and two. The slope tells us how the fertility rate varies with illiteracy. We can find the best fit line using np.polyfit().\n",
        "\n",
        "Plot the data and the best fit line. Print out the slope and intercept. (Think: what are their units?)"
      ]
    },
    {
      "cell_type": "code",
      "metadata": {
        "id": "auXi2vWFxrwa",
        "colab_type": "code",
        "colab": {}
      },
      "source": [
        "sns.set()"
      ],
      "execution_count": 0,
      "outputs": []
    },
    {
      "cell_type": "code",
      "metadata": {
        "id": "3HXVN2KLxB7L",
        "colab_type": "code",
        "outputId": "bcc7e396-7350-48ef-e29c-adea86dff1ce",
        "colab": {
          "base_uri": "https://localhost:8080/",
          "height": 325
        }
      },
      "source": [
        "# Plot the illiteracy rate versus fertility\n",
        "_ = plt.plot(illiteracy, fertility, marker='.', linestyle='none')\n",
        "plt.margins(0.02)\n",
        "_ = plt.xlabel('percent illiterate')\n",
        "_ = plt.ylabel('fertility')\n",
        "\n",
        "# Perform a linear regression using np.polyfit(): a, b\n",
        "a, b = np.polyfit(illiteracy,fertility,deg=1)\n",
        "\n",
        "# Print the results to the screen\n",
        "print('slope =', a, 'children per woman / percent illiterate')\n",
        "print('intercept =', b, 'children per woman')\n",
        "\n",
        "# Make theoretical line to plot\n",
        "x = np.array([0,100])\n",
        "y = x * a + b\n",
        "\n",
        "# Add regression line to your plot\n",
        "_ = plt.plot(x, y)\n",
        "\n",
        "# Draw the plot\n",
        "plt.show()"
      ],
      "execution_count": 13,
      "outputs": [
        {
          "output_type": "stream",
          "text": [
            "slope = 0.04979854809063423 children per woman / percent illiterate\n",
            "intercept = 1.888050610636557 children per woman\n"
          ],
          "name": "stdout"
        },
        {
          "output_type": "display_data",
          "data": {
            "image/png": "[encoded data removed]",
            "text/plain": [
              "<Figure size 432x288 with 1 Axes>"
            ]
          },
          "metadata": {
            "tags": []
          }
        }
      ]
    },
    {
      "cell_type": "markdown",
      "metadata": {
        "id": "vXwOrOIlyH7P",
        "colab_type": "text"
      },
      "source": [
        "### How is it optimal?\n",
        "The function np.polyfit() that you used to get your regression parameters finds the optimal slope and intercept. It is optimizing the sum of the squares of the residuals, also known as RSS (for residual sum of squares). In this exercise, you will plot the function that is being optimized, the RSS, versus the slope parameter a. To do this, fix the intercept to be what you found in the optimization. Then, plot the RSS vs. the slope. Where is it minimal?"
      ]
    },
    {
      "cell_type": "code",
      "metadata": {
        "id": "JNztMTrJyI-g",
        "colab_type": "code",
        "outputId": "e88ee35f-d193-4e99-b5ac-60d9df1145ab",
        "colab": {
          "base_uri": "https://localhost:8080/",
          "height": 291
        }
      },
      "source": [
        "# Specify slopes to consider: a_vals\n",
        "a_vals = np.linspace(0,0.1,200)\n",
        "\n",
        "# Initialize sum of square of residuals: rss\n",
        "rss = np.empty_like(a_vals)\n",
        "\n",
        "# Compute sum of square of residuals for each value of a_vals\n",
        "for i, a in enumerate(a_vals):\n",
        "    rss[i] = np.sum((fertility - a * illiteracy - b)**2)\n",
        "\n",
        "# Plot the RSS\n",
        "plt.plot(a_vals, rss, '-')\n",
        "plt.xlabel('slope (children per woman / percent illiterate)')\n",
        "plt.ylabel('sum of square of residuals')\n",
        "\n",
        "plt.show()"
      ],
      "execution_count": 14,
      "outputs": [
        {
          "output_type": "display_data",
          "data": {
            "image/png": "[encoded data removed]",
            "text/plain": [
              "<Figure size 432x288 with 1 Axes>"
            ]
          },
          "metadata": {
            "tags": []
          }
        }
      ]
    },
    {
      "cell_type": "markdown",
      "metadata": {
        "id": "RbjG1xCh0zMF",
        "colab_type": "text"
      },
      "source": [
        "### The importance of EDA: Anscombe's quartet\n",
        "- x mean, y mean, linear regression line and even  rss of some datasaet can be same, but dataset can be differet, which may have been better represented by some other functions\n",
        "- for this EDA first"
      ]
    },
    {
      "cell_type": "markdown",
      "metadata": {
        "id": "Uc1YMZEBoJf4",
        "colab_type": "text"
      },
      "source": [
        "# Bootstrap confidence intervals"
      ]
    },
    {
      "cell_type": "markdown",
      "metadata": {
        "id": "JouQ6wvOF9xo",
        "colab_type": "text"
      },
      "source": [
        "- Bootstraping: to resample datat, to perform statistical inference.\n",
        "- each resampled array is called a 'bootstrap sample'\n",
        "- summary statistic computed from the bootstrap sample is called 'bootstrap replicate'"
      ]
    },
    {
      "cell_type": "markdown",
      "metadata": {
        "id": "hHzdaJdZHf5W",
        "colab_type": "text"
      },
      "source": [
        "### Visualizing bootstrap samples\n",
        "In this exercise, you will generate bootstrap samples from the set of annual rainfall data measured at the Sheffield Weather Station in the UK from 1883 to 2015. The data are stored in the NumPy array rainfall in units of millimeters (mm). By graphically displaying the bootstrap samples with an ECDF, you can get a feel for how bootstrap sampling allows probabilistic descriptions of data."
      ]
    },
    {
      "cell_type": "code",
      "metadata": {
        "id": "WK3aVCq6KZfl",
        "colab_type": "code",
        "outputId": "d425ceb9-b9d0-41bf-eb50-ff54dd2593b1",
        "colab": {
          "base_uri": "https://localhost:8080/",
          "height": 204
        }
      },
      "source": [
        "import pandas as pd\n",
        "url='https://assets.datacamp.com/production/repositories/470/datasets/129cba08c45749a82701fbe02180c5b69eb9adaf/sheffield_weather_station.csv'\n",
        "df = pd.read_csv(url,comment='#',sep='\\s+')\n",
        "df.head()"
      ],
      "execution_count": 15,
      "outputs": [
        {
          "output_type": "execute_result",
          "data": {
            "text/html": [
              "<div>\n",
              "<style scoped>\n",
              "    .dataframe tbody tr th:only-of-type {\n",
              "        vertical-align: middle;\n",
              "    }\n",
              "\n",
              "    .dataframe tbody tr th {\n",
              "        vertical-align: top;\n",
              "    }\n",
              "\n",
              "    .dataframe thead th {\n",
              "        text-align: right;\n",
              "    }\n",
              "</style>\n",
              "<table border=\"1\" class=\"dataframe\">\n",
              "  <thead>\n",
              "    <tr style=\"text-align: right;\">\n",
              "      <th></th>\n",
              "      <th>yyyy</th>\n",
              "      <th>mm</th>\n",
              "      <th>tmax</th>\n",
              "      <th>tmin</th>\n",
              "      <th>af</th>\n",
              "      <th>rain</th>\n",
              "      <th>sun</th>\n",
              "    </tr>\n",
              "  </thead>\n",
              "  <tbody>\n",
              "    <tr>\n",
              "      <th>0</th>\n",
              "      <td>1883</td>\n",
              "      <td>1</td>\n",
              "      <td>6.3</td>\n",
              "      <td>1.7</td>\n",
              "      <td>6</td>\n",
              "      <td>122.1</td>\n",
              "      <td>---</td>\n",
              "    </tr>\n",
              "    <tr>\n",
              "      <th>1</th>\n",
              "      <td>1883</td>\n",
              "      <td>2</td>\n",
              "      <td>8.0</td>\n",
              "      <td>2.8</td>\n",
              "      <td>2</td>\n",
              "      <td>69.8</td>\n",
              "      <td>---</td>\n",
              "    </tr>\n",
              "    <tr>\n",
              "      <th>2</th>\n",
              "      <td>1883</td>\n",
              "      <td>3</td>\n",
              "      <td>4.8</td>\n",
              "      <td>-1.6</td>\n",
              "      <td>23</td>\n",
              "      <td>29.6</td>\n",
              "      <td>---</td>\n",
              "    </tr>\n",
              "    <tr>\n",
              "      <th>3</th>\n",
              "      <td>1883</td>\n",
              "      <td>4</td>\n",
              "      <td>12.2</td>\n",
              "      <td>3.8</td>\n",
              "      <td>2</td>\n",
              "      <td>74.0</td>\n",
              "      <td>---</td>\n",
              "    </tr>\n",
              "    <tr>\n",
              "      <th>4</th>\n",
              "      <td>1883</td>\n",
              "      <td>5</td>\n",
              "      <td>14.7</td>\n",
              "      <td>6.2</td>\n",
              "      <td>0</td>\n",
              "      <td>31.2</td>\n",
              "      <td>---</td>\n",
              "    </tr>\n",
              "  </tbody>\n",
              "</table>\n",
              "</div>"
            ],
            "text/plain": [
              "   yyyy  mm  tmax  tmin  af   rain  sun\n",
              "0  1883   1   6.3   1.7   6  122.1  ---\n",
              "1  1883   2   8.0   2.8   2   69.8  ---\n",
              "2  1883   3   4.8  -1.6  23   29.6  ---\n",
              "3  1883   4  12.2   3.8   2   74.0  ---\n",
              "4  1883   5  14.7   6.2   0   31.2  ---"
            ]
          },
          "metadata": {
            "tags": []
          },
          "execution_count": 15
        }
      ]
    },
    {
      "cell_type": "code",
      "metadata": {
        "id": "FDpI8xxMOeoY",
        "colab_type": "code",
        "outputId": "0fd9b09b-9d43-4ea9-9ba0-a1da6c3c9fd6",
        "colab": {
          "base_uri": "https://localhost:8080/",
          "height": 34
        }
      },
      "source": [
        "df.columns"
      ],
      "execution_count": 16,
      "outputs": [
        {
          "output_type": "execute_result",
          "data": {
            "text/plain": [
              "Index(['yyyy', 'mm', 'tmax', 'tmin', 'af', 'rain', 'sun'], dtype='object')"
            ]
          },
          "metadata": {
            "tags": []
          },
          "execution_count": 16
        }
      ]
    },
    {
      "cell_type": "code",
      "metadata": {
        "id": "s5Y3qWgSOju9",
        "colab_type": "code",
        "colab": {}
      },
      "source": [
        "rainfall = df['rain']"
      ],
      "execution_count": 0,
      "outputs": []
    },
    {
      "cell_type": "code",
      "metadata": {
        "id": "PPk-7c0TKGUp",
        "colab_type": "code",
        "outputId": "d5d09a2d-2650-4252-d6f1-6a0991b2c456",
        "colab": {
          "base_uri": "https://localhost:8080/",
          "height": 291
        }
      },
      "source": [
        "for _ in range(50):\n",
        "    # Generate bootstrap sample: bs_sample\n",
        "    bs_sample = np.random.choice(rainfall, size=len(rainfall))\n",
        "\n",
        "    # Compute and plot ECDF from bootstrap sample\n",
        "    x, y = ecdf(bs_sample)\n",
        "    _ = plt.plot(x, y,marker='.',linestyle='none',\n",
        "                 color='gray', alpha=0.1)\n",
        "\n",
        "# Compute and plot ECDF from original data\n",
        "x, y = ecdf(rainfall)\n",
        "_ = plt.plot(x, y, marker='.')\n",
        "\n",
        "# Make margins and label axes\n",
        "plt.margins(0.02)\n",
        "_ = plt.xlabel('yearly rainfall (mm)')\n",
        "_ = plt.ylabel('ECDF')\n",
        "\n",
        "# Show the plot\n",
        "plt.show()"
      ],
      "execution_count": 18,
      "outputs": [
        {
          "output_type": "display_data",
          "data": {
            "image/png": "[encoded data removed]",
            "text/plain": [
              "<Figure size 432x288 with 1 Axes>"
            ]
          },
          "metadata": {
            "tags": []
          }
        }
      ]
    },
    {
      "cell_type": "markdown",
      "metadata": {
        "id": "gds5R9jBPRnK",
        "colab_type": "text"
      },
      "source": [
        "**Confidence Interval** : If we repeat measurements over and over again, p% of the observed values would lie between 'p% confidence interval'"
      ]
    },
    {
      "cell_type": "code",
      "metadata": {
        "id": "ALlluBczPiGu",
        "colab_type": "code",
        "colab": {}
      },
      "source": [
        "def bootstrap_replicate_1d(data, func):\n",
        "    return func(np.random.choice(data, size=len(data)))"
      ],
      "execution_count": 0,
      "outputs": []
    },
    {
      "cell_type": "code",
      "metadata": {
        "id": "PylC4G7YQTsB",
        "colab_type": "code",
        "colab": {}
      },
      "source": [
        "def draw_bs_reps(data, func, size=1):\n",
        "    \"\"\"Draw bootstrap replicates.\"\"\"\n",
        "\n",
        "    # Initialize array of replicates: bs_replicates\n",
        "    bs_replicates = np.empty(size)\n",
        "\n",
        "    # Generate replicates\n",
        "    for i in range(size):\n",
        "        bs_replicates[i] = bootstrap_replicate_1d(data,func)\n",
        "\n",
        "    return bs_replicates"
      ],
      "execution_count": 0,
      "outputs": []
    },
    {
      "cell_type": "markdown",
      "metadata": {
        "id": "oVjCq5JNRD-L",
        "colab_type": "text"
      },
      "source": [
        "### Bootstrap replicates of the mean and the SEM\n",
        "In this exercise, you will compute a bootstrap estimate of the probability density function of the mean annual rainfall at the Sheffield Weather Station. Remember, we are estimating the mean annual rainfall we would get if the Sheffield Weather Station could repeat all of the measurements from 1883 to 2015 over and over again. This is a probabilistic estimate of the mean. You will plot the PDF as a histogram, and you will see that it is Normal.\n",
        "\n",
        "In fact, it can be shown theoretically that under not-too-restrictive conditions, the value of the mean will always be Normally distributed. (This does not hold in general, just for the mean and a few other statistics.) The standard deviation of this distribution, called the standard error of the mean, or SEM, is given by the standard deviation of the data divided by the square root of the number of data points. I.e., for a data set, `sem = np.std(data) / np.sqrt(len(data))`. Using hacker statistics, you get this same result without the need to derive it, but you will verify this result from your bootstrap replicates."
      ]
    },
    {
      "cell_type": "code",
      "metadata": {
        "id": "olNflHODQTpM",
        "colab_type": "code",
        "outputId": "28f55e46-77e2-4b1c-dfdb-bd4334daadc9",
        "colab": {
          "base_uri": "https://localhost:8080/",
          "height": 376
        }
      },
      "source": [
        "# Take 10,000 bootstrap replicates of the mean: bs_replicates\n",
        "bs_replicates = draw_bs_reps(rainfall,np.mean,10000)\n",
        "\n",
        "# Compute and print SEM\n",
        "sem = np.std(rainfall) / np.sqrt(len(rainfall))\n",
        "print(sem)\n",
        "\n",
        "# Compute and print standard deviation of bootstrap replicates\n",
        "bs_std = np.std(bs_replicates)\n",
        "print(bs_std)\n",
        "\n",
        "# Make a histogram of the results\n",
        "_ = plt.hist(bs_replicates, bins=50, normed=True)\n",
        "_ = plt.xlabel('mean annual rainfall (mm)')\n",
        "_ = plt.ylabel('PDF')\n",
        "\n",
        "# Show the plot\n",
        "plt.show()"
      ],
      "execution_count": 21,
      "outputs": [
        {
          "output_type": "stream",
          "text": [
            "0.9488593574676786\n",
            "0.9427722398781045\n"
          ],
          "name": "stdout"
        },
        {
          "output_type": "stream",
          "text": [
            "/usr/local/lib/python3.6/dist-packages/matplotlib/axes/_axes.py:6521: MatplotlibDeprecationWarning: \n",
            "The 'normed' kwarg was deprecated in Matplotlib 2.1 and will be removed in 3.1. Use 'density' instead.\n",
            "  alternative=\"'density'\", removal=\"3.1\")\n"
          ],
          "name": "stderr"
        },
        {
          "output_type": "display_data",
          "data": {
            "image/png": "[encoded data removed]",
            "text/plain": [
              "<Figure size 432x288 with 1 Axes>"
            ]
          },
          "metadata": {
            "tags": []
          }
        }
      ]
    },
    {
      "cell_type": "markdown",
      "metadata": {
        "id": "IpumOaOBRx9b",
        "colab_type": "text"
      },
      "source": [
        "### Confidence intervals of rainfall data\n",
        "A confidence interval gives upper and lower bounds on the range of parameter values you might expect to get if we repeat our measurements. For named distributions, you can compute them analytically or look them up, but one of the many beautiful properties of the bootstrap method is that you can take percentiles of your bootstrap replicates to get your confidence interval. Conveniently, you can use the np.percentile() function.\n",
        "\n",
        "Use the bootstrap replicates you just generated to compute the 95% confidence interval. That is, give the 2.5th and 97.5th percentile of your bootstrap replicates stored as bs_replicates. What is the 95% confidence interval?"
      ]
    },
    {
      "cell_type": "code",
      "metadata": {
        "id": "ArbccVOZRvpI",
        "colab_type": "code",
        "outputId": "df1aa1f1-c8ed-48b6-e093-00623f6c393f",
        "colab": {
          "base_uri": "https://localhost:8080/",
          "height": 34
        }
      },
      "source": [
        "np.percentile(bs_replicates,[2.5,97.5])"
      ],
      "execution_count": 22,
      "outputs": [
        {
          "output_type": "execute_result",
          "data": {
            "text/plain": [
              "array([64.93900125, 68.62402154])"
            ]
          },
          "metadata": {
            "tags": []
          },
          "execution_count": 22
        }
      ]
    },
    {
      "cell_type": "markdown",
      "metadata": {
        "id": "Nlau7Jw3SejG",
        "colab_type": "text"
      },
      "source": [
        "### Bootstrap replicates of other statistics\n",
        "We saw in a previous exercise that the mean is Normally distributed. This does not necessarily hold for other statistics, but no worry: as hackers, we can always take bootstrap replicates! In this exercise, you'll generate bootstrap replicates for the variance of the annual rainfall at the Sheffield Weather Station and plot the histogram of the replicates."
      ]
    },
    {
      "cell_type": "code",
      "metadata": {
        "id": "yIQIIw8vSf0r",
        "colab_type": "code",
        "outputId": "bc00bb89-fd4d-44d2-fde0-48b12c5bf12f",
        "colab": {
          "base_uri": "https://localhost:8080/",
          "height": 342
        }
      },
      "source": [
        "# Generate 10,000 bootstrap replicates of the variance: bs_replicates\n",
        "bs_replicates = draw_bs_reps(rainfall,np.var,10000)\n",
        "\n",
        "# Put the variance in units of square centimeters\n",
        "bs_replicates/=100\n",
        "\n",
        "# Make a histogram of the results\n",
        "_ = plt.hist(bs_replicates, bins=50,normed=True)\n",
        "_ = plt.xlabel('variance of annual rainfall (sq. cm)')\n",
        "_ = plt.ylabel('PDF')\n",
        "\n",
        "# Show the plot\n",
        "plt.show()"
      ],
      "execution_count": 23,
      "outputs": [
        {
          "output_type": "stream",
          "text": [
            "/usr/local/lib/python3.6/dist-packages/matplotlib/axes/_axes.py:6521: MatplotlibDeprecationWarning: \n",
            "The 'normed' kwarg was deprecated in Matplotlib 2.1 and will be removed in 3.1. Use 'density' instead.\n",
            "  alternative=\"'density'\", removal=\"3.1\")\n"
          ],
          "name": "stderr"
        },
        {
          "output_type": "display_data",
          "data": {
            "image/png": "[encoded data removed]",
            "text/plain": [
              "<Figure size 432x288 with 1 Axes>"
            ]
          },
          "metadata": {
            "tags": []
          }
        }
      ]
    },
    {
      "cell_type": "markdown",
      "metadata": {
        "id": "ejrEr7zMS68V",
        "colab_type": "text"
      },
      "source": [
        "Great work! This is not normally distributed, as it has a longer tail to the right. Note that you can also compute a confidence interval on the variance, or any other statistic, using np.percentile() with your bootstrap replicates."
      ]
    },
    {
      "cell_type": "markdown",
      "metadata": {
        "id": "SLq95594UCA4",
        "colab_type": "text"
      },
      "source": [
        "### Pair Bootstraping\n",
        "- for >1 variables, consider them pairs and bootstrap on integers\n",
        "- will apply this now to linear regression"
      ]
    },
    {
      "cell_type": "code",
      "metadata": {
        "id": "UXJNx-faSfph",
        "colab_type": "code",
        "colab": {}
      },
      "source": [
        "def draw_bs_pairs_linreg(x, y, size=1):\n",
        "    \"\"\"Perform pairs bootstrap for linear regression.\"\"\"\n",
        "\n",
        "    # Set up array of indices to sample from: inds\n",
        "    inds = np.arange(0,len(x))\n",
        "\n",
        "    # Initialize replicates: bs_slope_reps, bs_intercept_reps\n",
        "    bs_slope_reps = np.empty(size)\n",
        "    bs_intercept_reps = np.empty(size)\n",
        "\n",
        "    # Generate replicates\n",
        "    for i in range(size):\n",
        "        bs_inds = np.random.choice(inds, size=len(x))\n",
        "        bs_x, bs_y = x[bs_inds], y[bs_inds]\n",
        "        bs_slope_reps[i], bs_intercept_reps[i] = np.polyfit(bs_x, bs_y,deg=1)\n",
        "\n",
        "    return bs_slope_reps, bs_intercept_reps"
      ],
      "execution_count": 0,
      "outputs": []
    },
    {
      "cell_type": "code",
      "metadata": {
        "id": "Z6PfEaRFt-sN",
        "colab_type": "code",
        "outputId": "bf76be20-6cfe-40a3-d25b-7c50faa96326",
        "colab": {
          "base_uri": "https://localhost:8080/",
          "height": 359
        }
      },
      "source": [
        "# Generate replicates of slope and intercept using pairs bootstrap\n",
        "bs_slope_reps, bs_intercept_reps = draw_bs_pairs_linreg(illiteracy,fertility,1000)\n",
        "\n",
        "# Compute and print 95% CI for slope\n",
        "print(np.percentile(bs_slope_reps, [2.5,97.5]))\n",
        "\n",
        "# Plot the histogram\n",
        "_ = plt.hist(bs_slope_reps, bins=50, normed=True)\n",
        "_ = plt.xlabel('slope')\n",
        "_ = plt.ylabel('PDF')\n",
        "plt.show()"
      ],
      "execution_count": 25,
      "outputs": [
        {
          "output_type": "stream",
          "text": [
            "[0.04419698 0.05539483]\n"
          ],
          "name": "stdout"
        },
        {
          "output_type": "stream",
          "text": [
            "/usr/local/lib/python3.6/dist-packages/matplotlib/axes/_axes.py:6521: MatplotlibDeprecationWarning: \n",
            "The 'normed' kwarg was deprecated in Matplotlib 2.1 and will be removed in 3.1. Use 'density' instead.\n",
            "  alternative=\"'density'\", removal=\"3.1\")\n"
          ],
          "name": "stderr"
        },
        {
          "output_type": "display_data",
          "data": {
            "image/png": "[encoded data removed]",
            "text/plain": [
              "<Figure size 432x288 with 1 Axes>"
            ]
          },
          "metadata": {
            "tags": []
          }
        }
      ]
    },
    {
      "cell_type": "code",
      "metadata": {
        "id": "KCXseJzkt-pK",
        "colab_type": "code",
        "outputId": "f2e33db5-dcb3-44c8-ba60-1825f604f8c0",
        "colab": {
          "base_uri": "https://localhost:8080/",
          "height": 291
        }
      },
      "source": [
        "# Generate array of x-values for bootstrap lines: x\n",
        "x = np.array([0,100])\n",
        "\n",
        "# Plot the bootstrap lines\n",
        "for i in range(100):\n",
        "    _ = plt.plot(x, \n",
        "                 bs_slope_reps[i]*x + bs_intercept_reps[i],\n",
        "                 linewidth=0.5, alpha=0.2, color='red')\n",
        "\n",
        "# Plot the data\n",
        "_ = plt.plot(illiteracy,fertility,marker='.',linestyle='none')\n",
        "\n",
        "# the one we got from the data\n",
        "a, b = np.polyfit(illiteracy,fertility,deg=1);\n",
        "plt.plot(np.array([0,100]),x*a+b, color='green',linewidth=0.6)\n",
        "\n",
        "# Label axes, set the margins, and show the plot\n",
        "_ = plt.xlabel('illiteracy')\n",
        "_ = plt.ylabel('fertility')\n",
        "plt.margins(0.02)\n",
        "plt.show()"
      ],
      "execution_count": 26,
      "outputs": [
        {
          "output_type": "display_data",
          "data": {
            "image/png": "[encoded data removed]",
            "text/plain": [
              "<Figure size 432x288 with 1 Axes>"
            ]
          },
          "metadata": {
            "tags": []
          }
        }
      ]
    },
    {
      "cell_type": "markdown",
      "metadata": {
        "id": "3eJ_6ArqoJb4",
        "colab_type": "text"
      },
      "source": [
        "# Introduction to hypothesis testing"
      ]
    },
    {
      "cell_type": "markdown",
      "metadata": {
        "id": "sWDRYz9hwc2-",
        "colab_type": "text"
      },
      "source": [
        "- the hypothesis we are testing is typically called the null hypothesis\n",
        "- if we assume two quantities are identically distributed, we combine them, permute them and form two quantities frmo them (as if there was no difference of we combined and permuted them)"
      ]
    },
    {
      "cell_type": "markdown",
      "metadata": {
        "id": "fl20DXPOxcJy",
        "colab_type": "text"
      },
      "source": [
        "### Generating a permutation sample\n",
        "In the video, you learned that permutation sampling is a great way to simulate the hypothesis that two variables have identical probability distributions. This is often a hypothesis you want to test, so in this exercise, you will write a function to generate a permutation sample from two data sets.\n",
        "\n",
        "Remember, a permutation sample of two arrays having respectively n1 and n2 entries is constructed by concatenating the arrays together, scrambling the contents of the concatenated array, and then taking the first n1 entries as the permutation sample of the first array and the last n2 entries as the permutation sample of the second array."
      ]
    },
    {
      "cell_type": "code",
      "metadata": {
        "id": "bu2gzr6K0ZvO",
        "colab_type": "code",
        "colab": {}
      },
      "source": [
        "def permutation_sample(data1, data2):\n",
        "    \"\"\"Generate a permutation sample from two data sets.\"\"\"\n",
        "\n",
        "    # Concatenate the data sets: data\n",
        "    data = np.concatenate((data1, data2))\n",
        "\n",
        "    # Permute the concatenated array: permuted_data\n",
        "    permuted_data = np.random.permutation(data)\n",
        "\n",
        "    # Split the permuted array into two: perm_sample_1, perm_sample_2\n",
        "    perm_sample_1 = permuted_data[:len(data1)]\n",
        "    perm_sample_2 = permuted_data[len(data1):]\n",
        "\n",
        "    return perm_sample_1, perm_sample_2"
      ],
      "execution_count": 0,
      "outputs": []
    },
    {
      "cell_type": "markdown",
      "metadata": {
        "id": "ox8T7P6V1Q07",
        "colab_type": "text"
      },
      "source": [
        "### Visualizing permutation sampling\n",
        "To help see how permutation sampling works, in this exercise you will generate permutation samples and look at them graphically.\n",
        "\n",
        "We will use the Sheffield Weather Station data again, this time considering the monthly rainfall in June (a dry month) and November (a wet month). We expect these might be differently distributed, so we will take permutation samples to see how their ECDFs would look if they were identically distributed.\n",
        "\n",
        "The data are stored in the Numpy arrays rain_june and rain_november."
      ]
    },
    {
      "cell_type": "code",
      "metadata": {
        "id": "Vq2STL9bArGx",
        "colab_type": "code",
        "outputId": "fc4391bf-ed3c-45b3-a70a-5f5762c7002b",
        "colab": {
          "base_uri": "https://localhost:8080/",
          "height": 204
        }
      },
      "source": [
        "df.head()"
      ],
      "execution_count": 28,
      "outputs": [
        {
          "output_type": "execute_result",
          "data": {
            "text/html": [
              "<div>\n",
              "<style scoped>\n",
              "    .dataframe tbody tr th:only-of-type {\n",
              "        vertical-align: middle;\n",
              "    }\n",
              "\n",
              "    .dataframe tbody tr th {\n",
              "        vertical-align: top;\n",
              "    }\n",
              "\n",
              "    .dataframe thead th {\n",
              "        text-align: right;\n",
              "    }\n",
              "</style>\n",
              "<table border=\"1\" class=\"dataframe\">\n",
              "  <thead>\n",
              "    <tr style=\"text-align: right;\">\n",
              "      <th></th>\n",
              "      <th>yyyy</th>\n",
              "      <th>mm</th>\n",
              "      <th>tmax</th>\n",
              "      <th>tmin</th>\n",
              "      <th>af</th>\n",
              "      <th>rain</th>\n",
              "      <th>sun</th>\n",
              "    </tr>\n",
              "  </thead>\n",
              "  <tbody>\n",
              "    <tr>\n",
              "      <th>0</th>\n",
              "      <td>1883</td>\n",
              "      <td>1</td>\n",
              "      <td>6.3</td>\n",
              "      <td>1.7</td>\n",
              "      <td>6</td>\n",
              "      <td>122.1</td>\n",
              "      <td>---</td>\n",
              "    </tr>\n",
              "    <tr>\n",
              "      <th>1</th>\n",
              "      <td>1883</td>\n",
              "      <td>2</td>\n",
              "      <td>8.0</td>\n",
              "      <td>2.8</td>\n",
              "      <td>2</td>\n",
              "      <td>69.8</td>\n",
              "      <td>---</td>\n",
              "    </tr>\n",
              "    <tr>\n",
              "      <th>2</th>\n",
              "      <td>1883</td>\n",
              "      <td>3</td>\n",
              "      <td>4.8</td>\n",
              "      <td>-1.6</td>\n",
              "      <td>23</td>\n",
              "      <td>29.6</td>\n",
              "      <td>---</td>\n",
              "    </tr>\n",
              "    <tr>\n",
              "      <th>3</th>\n",
              "      <td>1883</td>\n",
              "      <td>4</td>\n",
              "      <td>12.2</td>\n",
              "      <td>3.8</td>\n",
              "      <td>2</td>\n",
              "      <td>74.0</td>\n",
              "      <td>---</td>\n",
              "    </tr>\n",
              "    <tr>\n",
              "      <th>4</th>\n",
              "      <td>1883</td>\n",
              "      <td>5</td>\n",
              "      <td>14.7</td>\n",
              "      <td>6.2</td>\n",
              "      <td>0</td>\n",
              "      <td>31.2</td>\n",
              "      <td>---</td>\n",
              "    </tr>\n",
              "  </tbody>\n",
              "</table>\n",
              "</div>"
            ],
            "text/plain": [
              "   yyyy  mm  tmax  tmin  af   rain  sun\n",
              "0  1883   1   6.3   1.7   6  122.1  ---\n",
              "1  1883   2   8.0   2.8   2   69.8  ---\n",
              "2  1883   3   4.8  -1.6  23   29.6  ---\n",
              "3  1883   4  12.2   3.8   2   74.0  ---\n",
              "4  1883   5  14.7   6.2   0   31.2  ---"
            ]
          },
          "metadata": {
            "tags": []
          },
          "execution_count": 28
        }
      ]
    },
    {
      "cell_type": "code",
      "metadata": {
        "id": "c6Xt2OgvAxoo",
        "colab_type": "code",
        "colab": {}
      },
      "source": [
        "rain_june = df[df['mm']==6]['rain']\n",
        "rain_november = df[df['mm']==11]['rain']"
      ],
      "execution_count": 0,
      "outputs": []
    },
    {
      "cell_type": "code",
      "metadata": {
        "id": "pdf1Y60v0ZrH",
        "colab_type": "code",
        "outputId": "8faba9b6-a8a9-434d-fddf-3042830593a0",
        "colab": {
          "base_uri": "https://localhost:8080/",
          "height": 291
        }
      },
      "source": [
        "for _ in range(50):\n",
        "    # Generate permutation samples\n",
        "    perm_sample_1, perm_sample_2 = permutation_sample(rain_june,rain_november)\n",
        "\n",
        "\n",
        "    # Compute ECDFs\n",
        "    x_1, y_1 = ecdf(perm_sample_1)\n",
        "    x_2, y_2 = ecdf(perm_sample_2)\n",
        "\n",
        "    # Plot ECDFs of permutation sample\n",
        "    _ = plt.plot(x_1, y_1, marker='.', linestyle='none',\n",
        "                 color='red', alpha=0.02)\n",
        "    _ = plt.plot(x_2, y_2, marker='.', linestyle='none',\n",
        "                 color='blue', alpha=0.02)\n",
        "\n",
        "# Create and plot ECDFs from original data\n",
        "x_1, y_1 = ecdf(rain_june)\n",
        "x_2, y_2 = ecdf(rain_november)\n",
        "_ = plt.plot(x_1, y_1, marker='.', linestyle='none', color='red')\n",
        "_ = plt.plot(x_2, y_2, marker='.', linestyle='none', color='blue')\n",
        "\n",
        "# Label axes, set margin, and show plot\n",
        "plt.margins(0.02)\n",
        "_ = plt.xlabel('monthly rainfall (mm)')\n",
        "_ = plt.ylabel('ECDF')\n",
        "plt.show()"
      ],
      "execution_count": 30,
      "outputs": [
        {
          "output_type": "display_data",
          "data": {
            "image/png": "[encoded data removed]",
            "text/plain": [
              "<Figure size 432x288 with 1 Axes>"
            ]
          },
          "metadata": {
            "tags": []
          }
        }
      ]
    },
    {
      "cell_type": "markdown",
      "metadata": {
        "id": "1erGmyxPAp2k",
        "colab_type": "text"
      },
      "source": [
        "Great work! Notice that the permutation samples ECDFs overlap and give a purple haze. None of the ECDFs from the permutation samples overlap with the observed data, suggesting that the hypothesis is not commensurate with the data. June and November rainfall are **not** identically distributed."
      ]
    },
    {
      "cell_type": "markdown",
      "metadata": {
        "id": "BQcIyFrCBHgC",
        "colab_type": "text"
      },
      "source": [
        "### Test statistics and p-values\n",
        "- test statistic: single number computed from observed data and the data you simulate under the null hypothesis\n",
        "- Its a basis of comparison between the two data\n",
        "- e.g test statistic: difference of mean\n",
        "- we make a histogram of 1000s of generated permutation replicates(test statistic from sampling) and the %of values > than the actual mean, is called the p-value\n",
        "- p-value: the probability of obtaining a value of your test statistic that is atleast as extreme as what was observed, under the assumption that the null hypothesis is true. **Its is NOT the probability that the null hypothesis is true**\n",
        "- p-value small? then the data are probably different."
      ]
    },
    {
      "cell_type": "code",
      "metadata": {
        "id": "nlzSjBsED5lG",
        "colab_type": "code",
        "colab": {}
      },
      "source": [
        "def draw_perm_reps(data_1, data_2, func, size=1):\n",
        "    \"\"\"Generate multiple permutation replicates.\"\"\"\n",
        "\n",
        "    # Initialize array of replicates: perm_replicates\n",
        "    perm_replicates = np.empty(size)\n",
        "\n",
        "    for i in range(size):\n",
        "        # Generate permutation sample\n",
        "        perm_sample_1, perm_sample_2 = permutation_sample(data_1, data_2)\n",
        "\n",
        "        # Compute the test statistic\n",
        "        perm_replicates[i] = func(perm_sample_1,perm_sample_2)\n",
        "\n",
        "    return perm_replicates"
      ],
      "execution_count": 0,
      "outputs": []
    },
    {
      "cell_type": "markdown",
      "metadata": {
        "id": "VWMTUuMTE3OA",
        "colab_type": "text"
      },
      "source": [
        "### Look before you leap: EDA before hypothesis testing\n",
        "Kleinteich and Gorb (Sci. Rep., 4, 5225, 2014) performed an interesting experiment with South American horned frogs. They held a plate connected to a force transducer, along with a bait fly, in front of them. They then measured the impact force and adhesive force of the frog's tongue when it struck the target.\n",
        "\n",
        "Frog A is an adult and Frog B is a juvenile. The researchers measured the impact force of 20 strikes for each frog. In the next exercise, we will test the hypothesis that the two frogs have the same distribution of impact forces. But, remember, it is important to do EDA first! Let's make a bee swarm plot for the data. They are stored in a Pandas data frame, df, where column ID is the identity of the frog and column impact_force is the impact force in Newtons (N)."
      ]
    },
    {
      "cell_type": "code",
      "metadata": {
        "id": "MR5XLHPKFEVn",
        "colab_type": "code",
        "outputId": "cc64f90e-0e01-4379-82f7-c40e57bd9df4",
        "colab": {
          "base_uri": "https://localhost:8080/",
          "height": 272
        }
      },
      "source": [
        "url='https://assets.datacamp.com/production/repositories/470/datasets/df6e0479c0f292ce9d2b951385f64df8e2a8e6ac/frog_tongue.csv'\n",
        "df = pd.read_csv(url,comment='#')\n",
        "df.head()"
      ],
      "execution_count": 32,
      "outputs": [
        {
          "output_type": "execute_result",
          "data": {
            "text/html": [
              "<div>\n",
              "<style scoped>\n",
              "    .dataframe tbody tr th:only-of-type {\n",
              "        vertical-align: middle;\n",
              "    }\n",
              "\n",
              "    .dataframe tbody tr th {\n",
              "        vertical-align: top;\n",
              "    }\n",
              "\n",
              "    .dataframe thead th {\n",
              "        text-align: right;\n",
              "    }\n",
              "</style>\n",
              "<table border=\"1\" class=\"dataframe\">\n",
              "  <thead>\n",
              "    <tr style=\"text-align: right;\">\n",
              "      <th></th>\n",
              "      <th>date</th>\n",
              "      <th>ID</th>\n",
              "      <th>trial number</th>\n",
              "      <th>impact force (mN)</th>\n",
              "      <th>impact time (ms)</th>\n",
              "      <th>impact force / body weight</th>\n",
              "      <th>adhesive force (mN)</th>\n",
              "      <th>time frog pulls on target (ms)</th>\n",
              "      <th>adhesive force / body weight</th>\n",
              "      <th>adhesive impulse (N-s)</th>\n",
              "      <th>total contact area (mm2)</th>\n",
              "      <th>contact area without mucus (mm2)</th>\n",
              "      <th>contact area with mucus / contact area without mucus</th>\n",
              "      <th>contact pressure (Pa)</th>\n",
              "      <th>adhesive strength (Pa)</th>\n",
              "    </tr>\n",
              "  </thead>\n",
              "  <tbody>\n",
              "    <tr>\n",
              "      <th>0</th>\n",
              "      <td>2013_02_26</td>\n",
              "      <td>I</td>\n",
              "      <td>3</td>\n",
              "      <td>1205</td>\n",
              "      <td>46</td>\n",
              "      <td>1.95</td>\n",
              "      <td>-785</td>\n",
              "      <td>884</td>\n",
              "      <td>1.27</td>\n",
              "      <td>-0.290</td>\n",
              "      <td>387</td>\n",
              "      <td>70</td>\n",
              "      <td>0.82</td>\n",
              "      <td>3117</td>\n",
              "      <td>-2030</td>\n",
              "    </tr>\n",
              "    <tr>\n",
              "      <th>1</th>\n",
              "      <td>2013_02_26</td>\n",
              "      <td>I</td>\n",
              "      <td>4</td>\n",
              "      <td>2527</td>\n",
              "      <td>44</td>\n",
              "      <td>4.08</td>\n",
              "      <td>-983</td>\n",
              "      <td>248</td>\n",
              "      <td>1.59</td>\n",
              "      <td>-0.181</td>\n",
              "      <td>101</td>\n",
              "      <td>94</td>\n",
              "      <td>0.07</td>\n",
              "      <td>24923</td>\n",
              "      <td>-9695</td>\n",
              "    </tr>\n",
              "    <tr>\n",
              "      <th>2</th>\n",
              "      <td>2013_03_01</td>\n",
              "      <td>I</td>\n",
              "      <td>1</td>\n",
              "      <td>1745</td>\n",
              "      <td>34</td>\n",
              "      <td>2.82</td>\n",
              "      <td>-850</td>\n",
              "      <td>211</td>\n",
              "      <td>1.37</td>\n",
              "      <td>-0.157</td>\n",
              "      <td>83</td>\n",
              "      <td>79</td>\n",
              "      <td>0.05</td>\n",
              "      <td>21020</td>\n",
              "      <td>-10239</td>\n",
              "    </tr>\n",
              "    <tr>\n",
              "      <th>3</th>\n",
              "      <td>2013_03_01</td>\n",
              "      <td>I</td>\n",
              "      <td>2</td>\n",
              "      <td>1556</td>\n",
              "      <td>41</td>\n",
              "      <td>2.51</td>\n",
              "      <td>-455</td>\n",
              "      <td>1025</td>\n",
              "      <td>0.74</td>\n",
              "      <td>-0.170</td>\n",
              "      <td>330</td>\n",
              "      <td>158</td>\n",
              "      <td>0.52</td>\n",
              "      <td>4718</td>\n",
              "      <td>-1381</td>\n",
              "    </tr>\n",
              "    <tr>\n",
              "      <th>4</th>\n",
              "      <td>2013_03_01</td>\n",
              "      <td>I</td>\n",
              "      <td>3</td>\n",
              "      <td>493</td>\n",
              "      <td>36</td>\n",
              "      <td>0.80</td>\n",
              "      <td>-974</td>\n",
              "      <td>499</td>\n",
              "      <td>1.57</td>\n",
              "      <td>-0.423</td>\n",
              "      <td>245</td>\n",
              "      <td>216</td>\n",
              "      <td>0.12</td>\n",
              "      <td>2012</td>\n",
              "      <td>-3975</td>\n",
              "    </tr>\n",
              "  </tbody>\n",
              "</table>\n",
              "</div>"
            ],
            "text/plain": [
              "         date ID  ...  contact pressure (Pa)  adhesive strength (Pa)\n",
              "0  2013_02_26  I  ...                   3117                   -2030\n",
              "1  2013_02_26  I  ...                  24923                   -9695\n",
              "2  2013_03_01  I  ...                  21020                  -10239\n",
              "3  2013_03_01  I  ...                   4718                   -1381\n",
              "4  2013_03_01  I  ...                   2012                   -3975\n",
              "\n",
              "[5 rows x 15 columns]"
            ]
          },
          "metadata": {
            "tags": []
          },
          "execution_count": 32
        }
      ]
    },
    {
      "cell_type": "code",
      "metadata": {
        "id": "vzipZUqXFi1A",
        "colab_type": "code",
        "colab": {}
      },
      "source": [
        "df = df[(df['ID']=='II') | (df['ID']=='IV')]"
      ],
      "execution_count": 0,
      "outputs": []
    },
    {
      "cell_type": "code",
      "metadata": {
        "id": "f8D3dUZ9FUiU",
        "colab_type": "code",
        "outputId": "140cb207-de70-4213-ab2d-ab50199bd30a",
        "colab": {
          "base_uri": "https://localhost:8080/",
          "height": 34
        }
      },
      "source": [
        "len(df)"
      ],
      "execution_count": 34,
      "outputs": [
        {
          "output_type": "execute_result",
          "data": {
            "text/plain": [
              "40"
            ]
          },
          "metadata": {
            "tags": []
          },
          "execution_count": 34
        }
      ]
    },
    {
      "cell_type": "code",
      "metadata": {
        "id": "kz7zMQpYEWRC",
        "colab_type": "code",
        "outputId": "35f76c89-f7d7-4c48-b8b8-7e3a16c7aeb5",
        "colab": {
          "base_uri": "https://localhost:8080/",
          "height": 291
        }
      },
      "source": [
        "# Make bee swarm plot\n",
        "_ = sns.swarmplot(x='ID',y='impact force (mN)',data=df)\n",
        "\n",
        "# Label axes\n",
        "_ = plt.xlabel('frog')\n",
        "_ = plt.ylabel('impact force (mN)')\n",
        "\n",
        "# Show the plot\n",
        "plt.show()\n"
      ],
      "execution_count": 35,
      "outputs": [
        {
          "output_type": "display_data",
          "data": {
            "image/png": "[encoded data removed]",
            "text/plain": [
              "<Figure size 432x288 with 1 Axes>"
            ]
          },
          "metadata": {
            "tags": []
          }
        }
      ]
    },
    {
      "cell_type": "markdown",
      "metadata": {
        "id": "8LfZ2_xSE0in",
        "colab_type": "text"
      },
      "source": [
        "Eyeballing it, it does not look like they come from the same distribution. Frog A, the adult, has three or four very hard strikes, and Frog B, the juvenile, has a couple weak ones. However, it is possible that with only 20 samples it might be too difficult to tell if they have difference distributions, so we should proceed with the hypothesis test."
      ]
    },
    {
      "cell_type": "markdown",
      "metadata": {
        "id": "DzUotQ_mGDJn",
        "colab_type": "text"
      },
      "source": [
        "Permutation test on frog data\n",
        "The average strike force of Frog A was 0.71 Newtons (N), and that of Frog B was 0.42 N for a difference of 0.29 N. It is possible the frogs strike with the same force and this observed difference was by chance. You will compute the probability of getting at least a 0.29 N difference in mean strike force under the hypothesis that the distributions of strike forces for the two frogs are identical. We use a permutation test with a test statistic of the difference of means to test this hypothesis.\n",
        "\n",
        "For your convenience, the data has been stored in the arrays force_a and force_b"
      ]
    },
    {
      "cell_type": "code",
      "metadata": {
        "id": "dgVJWAqSEWNS",
        "colab_type": "code",
        "outputId": "e797cb4b-a1c1-4c0a-ac70-3405136e9a13",
        "colab": {
          "base_uri": "https://localhost:8080/",
          "height": 34
        }
      },
      "source": [
        "force_a=df[df['ID']=='II']['impact force (mN)']\n",
        "force_b=df[df['ID']=='IV']['impact force (mN)']\n",
        "len(force_a), len(force_b)"
      ],
      "execution_count": 36,
      "outputs": [
        {
          "output_type": "execute_result",
          "data": {
            "text/plain": [
              "(20, 20)"
            ]
          },
          "metadata": {
            "tags": []
          },
          "execution_count": 36
        }
      ]
    },
    {
      "cell_type": "code",
      "metadata": {
        "id": "E1SlqSnGGQuI",
        "colab_type": "code",
        "outputId": "bd59235b-01f9-4b38-ade5-755502cd7039",
        "colab": {
          "base_uri": "https://localhost:8080/",
          "height": 34
        }
      },
      "source": [
        "def diff_of_means(data_1, data_2):\n",
        "    \"\"\"Difference in means of two arrays.\"\"\"\n",
        "\n",
        "    # The difference of means of data_1, data_2: diff\n",
        "    diff = np.mean(data_1)-np.mean(data_2)\n",
        "\n",
        "    return diff\n",
        "\n",
        "# Compute difference of mean impact force from experiment: empirical_diff_means\n",
        "empirical_diff_means = diff_of_means(force_a,force_b)\n",
        "\n",
        "# Draw 10,000 permutation replicates: perm_replicates\n",
        "perm_replicates = draw_perm_reps(force_a,force_b,\n",
        "                                 diff_of_means, size=10000)\n",
        "\n",
        "# Compute p-value: p\n",
        "p = np.sum(perm_replicates >= empirical_diff_means) / float(len(perm_replicates))\n",
        "\n",
        "# Print the result\n",
        "print('p-value =', p)"
      ],
      "execution_count": 50,
      "outputs": [
        {
          "output_type": "stream",
          "text": [
            "p-value = 0.0053\n"
          ],
          "name": "stdout"
        }
      ]
    },
    {
      "cell_type": "markdown",
      "metadata": {
        "id": "Mfm37NW6HEvO",
        "colab_type": "text"
      },
      "source": [
        "The p-value tells you that there is about a 0.6% chance that you would get the difference of means observed in the experiment if frogs were exactly the same. A p-value below 0.01 is typically said to be \"statistically significant,\" but: warning! warning! warning! You have computed a p-value; it is a number. I encourage you not to distill it to a yes-or-no phrase. p = 0.006 and p = 0.000000006 are both said to be \"statistically significant,\" but they are definitely not the same!"
      ]
    },
    {
      "cell_type": "markdown",
      "metadata": {
        "id": "8kGLUAZGLcKU",
        "colab_type": "text"
      },
      "source": [
        "### A one-sample bootstrap hypothesis test\n",
        "Another juvenile frog was studied, Frog C, and you want to see if Frog B and Frog C have similar impact forces. Unfortunately, you do not have Frog C's impact forces available, but you know they have a mean of 0.55 N. Because you don't have the original data, you cannot do a permutation test, and you cannot assess the hypothesis that the forces from Frog B and Frog C come from the same distribution. You will therefore test another, less restrictive hypothesis: The mean strike force of Frog B is equal to that of Frog C.\n",
        "\n",
        "To set up the bootstrap hypothesis test, you will take the mean as our test statistic. Remember, your goal is to calculate the probability of getting a mean impact force less than or equal to what was observed for Frog B if the hypothesis that the true mean of Frog B's impact forces is equal to that of Frog C is true. You first translate all of the data of Frog B such that the mean is 0.55 N. This involves adding the mean force of Frog C and subtracting the mean force of Frog B from each measurement of Frog B. This leaves other properties of Frog B's distribution, such as the variance, unchanged."
      ]
    },
    {
      "cell_type": "code",
      "metadata": {
        "id": "Gwk-IEvmL56u",
        "colab_type": "code",
        "outputId": "7b665649-6e3c-419c-ac35-bb5eef55088f",
        "colab": {
          "base_uri": "https://localhost:8080/",
          "height": 204
        }
      },
      "source": [
        "force_a/=1000\n",
        "force_b/=1000\n",
        "force_a[:5], force_b[:5] #(to make it identical to the exercises)"
      ],
      "execution_count": 38,
      "outputs": [
        {
          "output_type": "execute_result",
          "data": {
            "text/plain": [
              "(20    1.612\n",
              " 21    0.605\n",
              " 22    0.327\n",
              " 23    0.946\n",
              " 24    0.541\n",
              " Name: impact force (mN), dtype: float64, 60    0.172\n",
              " 61    0.142\n",
              " 62    0.037\n",
              " 63    0.453\n",
              " 64    0.355\n",
              " Name: impact force (mN), dtype: float64)"
            ]
          },
          "metadata": {
            "tags": []
          },
          "execution_count": 38
        }
      ]
    },
    {
      "cell_type": "code",
      "metadata": {
        "id": "_d8CJQv4MvyX",
        "colab_type": "code",
        "outputId": "344b9ba0-7953-4366-f94e-686dcfe675dd",
        "colab": {
          "base_uri": "https://localhost:8080/",
          "height": 34
        }
      },
      "source": [
        "# Make an array of translated impact forces: translated_force_b\n",
        "translated_force_b = force_b-np.mean(force_b)+0.55\n",
        "\n",
        "# Take bootstrap replicates of Frog B's translated impact forces: bs_replicates\n",
        "bs_replicates = draw_bs_reps(translated_force_b, np.mean, 10000)\n",
        "\n",
        "# Compute fraction of replicates that are less than the observed Frog B force: p\n",
        "p = np.sum(bs_replicates <= np.mean(force_b)) / 10000\n",
        "\n",
        "# Print the p-value\n",
        "print('p = ', p)"
      ],
      "execution_count": 39,
      "outputs": [
        {
          "output_type": "stream",
          "text": [
            "p =  0.0058\n"
          ],
          "name": "stdout"
        }
      ]
    },
    {
      "cell_type": "markdown",
      "metadata": {
        "id": "5epOax1ONCAL",
        "colab_type": "text"
      },
      "source": [
        "Great work! The low p-value suggests that the null hypothesis that Frog B and Frog C have the same mean impact force is false."
      ]
    },
    {
      "cell_type": "markdown",
      "metadata": {
        "id": "C1UFK8v8NF3e",
        "colab_type": "text"
      },
      "source": [
        "### A two-sample bootstrap hypothesis test for difference of means\n",
        "We now want to test the hypothesis that Frog A and Frog B have the **same mean impact force, but not necessarily the same distribution, which is also impossible with a permutation test.**\n",
        "\n",
        "To do the two-sample bootstrap test, we shift both arrays to have the same mean, since we are simulating the hypothesis that their means are, in fact, equal. We then draw bootstrap samples out of the shifted arrays and compute the difference in means. This constitutes a bootstrap replicate, and we generate many of them. The p-value is the fraction of replicates with a difference in means greater than or equal to what was observed.\n",
        "\n",
        "The objects forces_concat and empirical_diff_means are already in your namespace."
      ]
    },
    {
      "cell_type": "code",
      "metadata": {
        "id": "v3uiWYRbNWdA",
        "colab_type": "code",
        "colab": {}
      },
      "source": [
        "forces_concat = np.concatenate((force_a.to_numpy(),force_b.to_numpy()))"
      ],
      "execution_count": 0,
      "outputs": []
    },
    {
      "cell_type": "code",
      "metadata": {
        "id": "s34WJKGrN9G0",
        "colab_type": "code",
        "colab": {}
      },
      "source": [
        "empirical_diff_means = diff_of_means(force_a,force_b)"
      ],
      "execution_count": 0,
      "outputs": []
    },
    {
      "cell_type": "code",
      "metadata": {
        "id": "CpJObXSsN9Co",
        "colab_type": "code",
        "outputId": "10d36dbb-c888-423e-e5dc-9e8ef853ee46",
        "colab": {
          "base_uri": "https://localhost:8080/",
          "height": 34
        }
      },
      "source": [
        "# Compute mean of all forces: mean_force\n",
        "mean_force = np.mean(forces_concat)\n",
        "\n",
        "# Generate shifted arrays\n",
        "force_a_shifted = force_a - np.mean(force_a) + mean_force\n",
        "force_b_shifted = force_b - np.mean(force_b) + mean_force \n",
        "\n",
        "# Compute 10,000 bootstrap replicates from shifted arrays\n",
        "bs_replicates_a = draw_bs_reps(force_a_shifted, np.mean, 10000)\n",
        "bs_replicates_b = draw_bs_reps(force_b_shifted, np.mean, 10000)\n",
        "\n",
        "# Get replicates of difference of means: bs_replicates\n",
        "bs_replicates = bs_replicates_a-bs_replicates_b\n",
        "\n",
        "# Compute and print p-value: p\n",
        "p = np.sum(bs_replicates >= empirical_diff_means) / len(bs_replicates)\n",
        "print('p-value =', p)"
      ],
      "execution_count": 42,
      "outputs": [
        {
          "output_type": "stream",
          "text": [
            "p-value = 0.0053\n"
          ],
          "name": "stdout"
        }
      ]
    },
    {
      "cell_type": "markdown",
      "metadata": {
        "id": "mdIUTkEkOpcM",
        "colab_type": "text"
      },
      "source": [
        "Nice work! You got a similar result as when you did the permutation test. Nonetheless, remember that it is important to carefully think about what question you want to ask. Are you only interested in the mean impact force, or in the distribution of impact forces?"
      ]
    },
    {
      "cell_type": "markdown",
      "metadata": {
        "id": "OlvWYiKDoJZ3",
        "colab_type": "text"
      },
      "source": [
        "# Hypothesis test examples"
      ]
    },
    {
      "cell_type": "markdown",
      "metadata": {
        "id": "DiPLtFR4qFmI",
        "colab_type": "text"
      },
      "source": [
        "### The vote for the Civil Rights Act in 1964\n",
        "The Civil Rights Act of 1964 was one of the most important pieces of legislation ever passed in the USA. Excluding \"present\" and \"abstain\" votes, 153 House Democrats and 136 Republicans voted yea. However, 91 Democrats and 35 Republicans voted nay. Did party affiliation make a difference in the vote?\n",
        "\n",
        "To answer this question, you will evaluate the hypothesis that the party of a House member has no bearing on his or her vote. You will use the fraction of Democrats voting in favor as your test statistic and evaluate the probability of observing a fraction of Democrats voting in favor at least as small as the observed fraction of 153/244. (That's right, at least as small as. In 1964, it was the Democrats who were less progressive on civil rights issues.) To do this, permute the party labels of the House voters and then arbitrarily divide them into \"Democrats\" and \"Republicans\" and compute the fraction of Democrats voting yea."
      ]
    },
    {
      "cell_type": "code",
      "metadata": {
        "id": "vnvK45vnrkql",
        "colab_type": "code",
        "colab": {
          "base_uri": "https://localhost:8080/",
          "height": 34
        },
        "outputId": "c9861586-2f83-4cc5-a025-456488378ca7"
      },
      "source": [
        "# Construct arrays of data: dems, reps\n",
        "dems = np.array([True] * 153 + [False] * 91)\n",
        "reps = np.array([True] * 136 + [False] * 35)\n",
        "\n",
        "def frac_yea_dems(dems, reps):\n",
        "    \"\"\"Compute fraction of Democrat yea votes.\"\"\"\n",
        "    frac = np.sum(dems) / len(dems)\n",
        "    return frac\n",
        "\n",
        "# Acquire permutation samples: perm_replicates\n",
        "perm_replicates = draw_perm_reps(dems, reps, frac_yea_dems, 10000 )\n",
        "\n",
        "# Compute and print p-value: p\n",
        "p = np.sum(perm_replicates <= 153/244) / len(perm_replicates)\n",
        "print('p-value =', p)"
      ],
      "execution_count": 43,
      "outputs": [
        {
          "output_type": "stream",
          "text": [
            "p-value = 0.0001\n"
          ],
          "name": "stdout"
        }
      ]
    },
    {
      "cell_type": "markdown",
      "metadata": {
        "id": "IVV0OSOurljc",
        "colab_type": "text"
      },
      "source": [
        "Great work! This small p-value suggests that party identity had a lot to do with the voting. Importantly, the South had a higher fraction of Democrat representatives, and consequently also a more racist bias."
      ]
    },
    {
      "cell_type": "markdown",
      "metadata": {
        "id": "wQno-fXhuBRv",
        "colab_type": "text"
      },
      "source": [
        "### Hypothesis test on Pearson correlation\n",
        "The observed correlation between female illiteracy and fertility may just be by chance; the fertility of a given country may actually be totally independent of its illiteracy. You will test this hypothesis. To do so, permute the illiteracy values but leave the fertility values fixed. This simulates the hypothesis that they are totally independent of each other. For each permutation, compute the Pearson correlation coefficient and assess how many of your permutation replicates have a Pearson correlation coefficient greater than the observed one.\n",
        "\n",
        "The function pearson_r() that you wrote in the prequel to this course for computing the Pearson correlation coefficient is already in your name space."
      ]
    },
    {
      "cell_type": "code",
      "metadata": {
        "id": "duMj5Yosx1Sk",
        "colab_type": "code",
        "colab": {
          "base_uri": "https://localhost:8080/",
          "height": 34
        },
        "outputId": "e186dabf-6773-4148-c101-acf0660faae2"
      },
      "source": [
        "# Compute observed correlation: r_obs\n",
        "r_obs = pearson_r(illiteracy,fertility)\n",
        "\n",
        "# Initialize permutation replicates: perm_replicates\n",
        "perm_replicates = np.empty(10000)\n",
        "\n",
        "# Draw replicates\n",
        "for i in range(10000):\n",
        "    # Permute illiteracy measurments: illiteracy_permuted\n",
        "    illiteracy_permuted = np.random.permutation(illiteracy)\n",
        "\n",
        "    # Compute Pearson correlation\n",
        "    perm_replicates[i] = pearson_r(illiteracy_permuted,fertility)\n",
        "\n",
        "# Compute p-value: p\n",
        "p = np.sum(perm_replicates>=r_obs)/np.sum(perm_replicates)\n",
        "print('p-val =', p)"
      ],
      "execution_count": 44,
      "outputs": [
        {
          "output_type": "stream",
          "text": [
            "p-val = 0.0\n"
          ],
          "name": "stdout"
        }
      ]
    },
    {
      "cell_type": "markdown",
      "metadata": {
        "id": "iQiobzYWx6rm",
        "colab_type": "text"
      },
      "source": [
        "You got a p-value of zero. In hacker statistics, this means that your p-value is very low, since you never got a single replicate in the 10,000 you took that had a Pearson correlation greater than the observed one. You could try increasing the number of replicates you take to continue to move the upper bound on your p-value lower and lower."
      ]
    },
    {
      "cell_type": "markdown",
      "metadata": {
        "id": "wsVPAtAaoUVh",
        "colab_type": "text"
      },
      "source": [
        "# Putting it all together: a case study"
      ]
    },
    {
      "cell_type": "code",
      "metadata": {
        "id": "Nix6gSLT1_Nl",
        "colab_type": "code",
        "colab": {}
      },
      "source": [
        "finch_beaks_1975 = 'https://assets.datacamp.com/production/repositories/470/datasets/eb228490f7d823bfa6458b93db075ca5ccd3ec3d/finch_beaks_1975.csv'\n",
        "finch_beaks_2012 = 'https://assets.datacamp.com/production/repositories/470/datasets/b28d5bf65e38460dca7b3c5c0e4d53bdfc1eb905/finch_beaks_2012.csv'\n",
        "fortis_beak_depth_heredity = 'https://assets.datacamp.com/production/repositories/470/datasets/532cb2fecd1bffb006c79a28f344af2290d643f3/fortis_beak_depth_heredity.csv'\n",
        "scandens_beak_depth_heredity = 'https://assets.datacamp.com/production/repositories/470/datasets/7ff772e1f4e99ed93685296063b6e604a334236d/scandens_beak_depth_heredity.csv'"
      ],
      "execution_count": 0,
      "outputs": []
    },
    {
      "cell_type": "code",
      "metadata": {
        "id": "A5tjjPEf2Scz",
        "colab_type": "code",
        "colab": {}
      },
      "source": [
        "finch_beaks_1975 = pd.read_csv(finch_beaks_1975)\n",
        "finch_beaks_2012 = pd.read_csv(finch_beaks_2012)"
      ],
      "execution_count": 0,
      "outputs": []
    },
    {
      "cell_type": "code",
      "metadata": {
        "id": "Rld4uXe026sK",
        "colab_type": "code",
        "colab": {}
      },
      "source": [
        "finch_beaks_1975['year']=1975\n",
        "finch_beaks_2012['year']=2012\n",
        "finch_beaks_1975.rename(columns = {'Beak depth, mm':'beak_depth','Beak length, mm':'beak_length'}, inplace = True)\n",
        "finch_beaks_2012.rename(columns = {'bdepth':'beak_depth','blength':'beak_length'}, inplace = True)"
      ],
      "execution_count": 0,
      "outputs": []
    },
    {
      "cell_type": "code",
      "metadata": {
        "id": "tXyB_sLH2mSt",
        "colab_type": "code",
        "colab": {
          "base_uri": "https://localhost:8080/",
          "height": 204
        },
        "outputId": "5f49feea-b108-4710-b2c9-a0cfaaf4aed0"
      },
      "source": [
        "finch_beaks_1975.head()"
      ],
      "execution_count": 73,
      "outputs": [
        {
          "output_type": "execute_result",
          "data": {
            "text/html": [
              "<div>\n",
              "<style scoped>\n",
              "    .dataframe tbody tr th:only-of-type {\n",
              "        vertical-align: middle;\n",
              "    }\n",
              "\n",
              "    .dataframe tbody tr th {\n",
              "        vertical-align: top;\n",
              "    }\n",
              "\n",
              "    .dataframe thead th {\n",
              "        text-align: right;\n",
              "    }\n",
              "</style>\n",
              "<table border=\"1\" class=\"dataframe\">\n",
              "  <thead>\n",
              "    <tr style=\"text-align: right;\">\n",
              "      <th></th>\n",
              "      <th>band</th>\n",
              "      <th>species</th>\n",
              "      <th>beak_length</th>\n",
              "      <th>beak_depth</th>\n",
              "      <th>year</th>\n",
              "    </tr>\n",
              "  </thead>\n",
              "  <tbody>\n",
              "    <tr>\n",
              "      <th>0</th>\n",
              "      <td>2</td>\n",
              "      <td>fortis</td>\n",
              "      <td>9.4</td>\n",
              "      <td>8.0</td>\n",
              "      <td>1975</td>\n",
              "    </tr>\n",
              "    <tr>\n",
              "      <th>1</th>\n",
              "      <td>9</td>\n",
              "      <td>fortis</td>\n",
              "      <td>9.2</td>\n",
              "      <td>8.3</td>\n",
              "      <td>1975</td>\n",
              "    </tr>\n",
              "    <tr>\n",
              "      <th>2</th>\n",
              "      <td>12</td>\n",
              "      <td>fortis</td>\n",
              "      <td>9.5</td>\n",
              "      <td>7.5</td>\n",
              "      <td>1975</td>\n",
              "    </tr>\n",
              "    <tr>\n",
              "      <th>3</th>\n",
              "      <td>15</td>\n",
              "      <td>fortis</td>\n",
              "      <td>9.5</td>\n",
              "      <td>8.0</td>\n",
              "      <td>1975</td>\n",
              "    </tr>\n",
              "    <tr>\n",
              "      <th>4</th>\n",
              "      <td>305</td>\n",
              "      <td>fortis</td>\n",
              "      <td>11.5</td>\n",
              "      <td>9.9</td>\n",
              "      <td>1975</td>\n",
              "    </tr>\n",
              "  </tbody>\n",
              "</table>\n",
              "</div>"
            ],
            "text/plain": [
              "   band species  beak_length  beak_depth  year\n",
              "0     2  fortis          9.4         8.0  1975\n",
              "1     9  fortis          9.2         8.3  1975\n",
              "2    12  fortis          9.5         7.5  1975\n",
              "3    15  fortis          9.5         8.0  1975\n",
              "4   305  fortis         11.5         9.9  1975"
            ]
          },
          "metadata": {
            "tags": []
          },
          "execution_count": 73
        }
      ]
    },
    {
      "cell_type": "code",
      "metadata": {
        "id": "3SR4cV2N4tso",
        "colab_type": "code",
        "colab": {
          "base_uri": "https://localhost:8080/",
          "height": 204
        },
        "outputId": "411c39a9-9717-45dd-9b6c-426a0d62ff90"
      },
      "source": [
        "finch_beaks_2012.head()"
      ],
      "execution_count": 74,
      "outputs": [
        {
          "output_type": "execute_result",
          "data": {
            "text/html": [
              "<div>\n",
              "<style scoped>\n",
              "    .dataframe tbody tr th:only-of-type {\n",
              "        vertical-align: middle;\n",
              "    }\n",
              "\n",
              "    .dataframe tbody tr th {\n",
              "        vertical-align: top;\n",
              "    }\n",
              "\n",
              "    .dataframe thead th {\n",
              "        text-align: right;\n",
              "    }\n",
              "</style>\n",
              "<table border=\"1\" class=\"dataframe\">\n",
              "  <thead>\n",
              "    <tr style=\"text-align: right;\">\n",
              "      <th></th>\n",
              "      <th>band</th>\n",
              "      <th>species</th>\n",
              "      <th>beak_length</th>\n",
              "      <th>beak_depth</th>\n",
              "      <th>year</th>\n",
              "    </tr>\n",
              "  </thead>\n",
              "  <tbody>\n",
              "    <tr>\n",
              "      <th>0</th>\n",
              "      <td>19022</td>\n",
              "      <td>fortis</td>\n",
              "      <td>10.0</td>\n",
              "      <td>8.5</td>\n",
              "      <td>2012</td>\n",
              "    </tr>\n",
              "    <tr>\n",
              "      <th>1</th>\n",
              "      <td>19028</td>\n",
              "      <td>fortis</td>\n",
              "      <td>12.5</td>\n",
              "      <td>8.9</td>\n",
              "      <td>2012</td>\n",
              "    </tr>\n",
              "    <tr>\n",
              "      <th>2</th>\n",
              "      <td>19032</td>\n",
              "      <td>fortis</td>\n",
              "      <td>9.3</td>\n",
              "      <td>7.5</td>\n",
              "      <td>2012</td>\n",
              "    </tr>\n",
              "    <tr>\n",
              "      <th>3</th>\n",
              "      <td>19041</td>\n",
              "      <td>fortis</td>\n",
              "      <td>10.3</td>\n",
              "      <td>9.6</td>\n",
              "      <td>2012</td>\n",
              "    </tr>\n",
              "    <tr>\n",
              "      <th>4</th>\n",
              "      <td>19044</td>\n",
              "      <td>fortis</td>\n",
              "      <td>11.0</td>\n",
              "      <td>9.2</td>\n",
              "      <td>2012</td>\n",
              "    </tr>\n",
              "  </tbody>\n",
              "</table>\n",
              "</div>"
            ],
            "text/plain": [
              "    band species  beak_length  beak_depth  year\n",
              "0  19022  fortis         10.0         8.5  2012\n",
              "1  19028  fortis         12.5         8.9  2012\n",
              "2  19032  fortis          9.3         7.5  2012\n",
              "3  19041  fortis         10.3         9.6  2012\n",
              "4  19044  fortis         11.0         9.2  2012"
            ]
          },
          "metadata": {
            "tags": []
          },
          "execution_count": 74
        }
      ]
    },
    {
      "cell_type": "code",
      "metadata": {
        "id": "GuO47BBm4GHu",
        "colab_type": "code",
        "colab": {
          "base_uri": "https://localhost:8080/",
          "height": 204
        },
        "outputId": "8c62ecd1-dc31-4f6d-d9e6-e2dca1f49c69"
      },
      "source": [
        "df = finch_beaks_1975[['year','beak_depth']].append(finch_beaks_2012[['year','beak_depth']],ignore_index=True)\n",
        "df.head()"
      ],
      "execution_count": 78,
      "outputs": [
        {
          "output_type": "execute_result",
          "data": {
            "text/html": [
              "<div>\n",
              "<style scoped>\n",
              "    .dataframe tbody tr th:only-of-type {\n",
              "        vertical-align: middle;\n",
              "    }\n",
              "\n",
              "    .dataframe tbody tr th {\n",
              "        vertical-align: top;\n",
              "    }\n",
              "\n",
              "    .dataframe thead th {\n",
              "        text-align: right;\n",
              "    }\n",
              "</style>\n",
              "<table border=\"1\" class=\"dataframe\">\n",
              "  <thead>\n",
              "    <tr style=\"text-align: right;\">\n",
              "      <th></th>\n",
              "      <th>year</th>\n",
              "      <th>beak_depth</th>\n",
              "    </tr>\n",
              "  </thead>\n",
              "  <tbody>\n",
              "    <tr>\n",
              "      <th>0</th>\n",
              "      <td>1975</td>\n",
              "      <td>8.0</td>\n",
              "    </tr>\n",
              "    <tr>\n",
              "      <th>1</th>\n",
              "      <td>1975</td>\n",
              "      <td>8.3</td>\n",
              "    </tr>\n",
              "    <tr>\n",
              "      <th>2</th>\n",
              "      <td>1975</td>\n",
              "      <td>7.5</td>\n",
              "    </tr>\n",
              "    <tr>\n",
              "      <th>3</th>\n",
              "      <td>1975</td>\n",
              "      <td>8.0</td>\n",
              "    </tr>\n",
              "    <tr>\n",
              "      <th>4</th>\n",
              "      <td>1975</td>\n",
              "      <td>9.9</td>\n",
              "    </tr>\n",
              "  </tbody>\n",
              "</table>\n",
              "</div>"
            ],
            "text/plain": [
              "   year  beak_depth\n",
              "0  1975         8.0\n",
              "1  1975         8.3\n",
              "2  1975         7.5\n",
              "3  1975         8.0\n",
              "4  1975         9.9"
            ]
          },
          "metadata": {
            "tags": []
          },
          "execution_count": 78
        }
      ]
    },
    {
      "cell_type": "code",
      "metadata": {
        "id": "1-SVhm1C5L1b",
        "colab_type": "code",
        "colab": {
          "base_uri": "https://localhost:8080/",
          "height": 204
        },
        "outputId": "ac2f90fa-e949-457c-af47-45de26026440"
      },
      "source": [
        "df.tail()"
      ],
      "execution_count": 79,
      "outputs": [
        {
          "output_type": "execute_result",
          "data": {
            "text/html": [
              "<div>\n",
              "<style scoped>\n",
              "    .dataframe tbody tr th:only-of-type {\n",
              "        vertical-align: middle;\n",
              "    }\n",
              "\n",
              "    .dataframe tbody tr th {\n",
              "        vertical-align: top;\n",
              "    }\n",
              "\n",
              "    .dataframe thead th {\n",
              "        text-align: right;\n",
              "    }\n",
              "</style>\n",
              "<table border=\"1\" class=\"dataframe\">\n",
              "  <thead>\n",
              "    <tr style=\"text-align: right;\">\n",
              "      <th></th>\n",
              "      <th>year</th>\n",
              "      <th>beak_depth</th>\n",
              "    </tr>\n",
              "  </thead>\n",
              "  <tbody>\n",
              "    <tr>\n",
              "      <th>646</th>\n",
              "      <td>2012</td>\n",
              "      <td>9.3</td>\n",
              "    </tr>\n",
              "    <tr>\n",
              "      <th>647</th>\n",
              "      <td>2012</td>\n",
              "      <td>9.8</td>\n",
              "    </tr>\n",
              "    <tr>\n",
              "      <th>648</th>\n",
              "      <td>2012</td>\n",
              "      <td>8.9</td>\n",
              "    </tr>\n",
              "    <tr>\n",
              "      <th>649</th>\n",
              "      <td>2012</td>\n",
              "      <td>9.8</td>\n",
              "    </tr>\n",
              "    <tr>\n",
              "      <th>650</th>\n",
              "      <td>2012</td>\n",
              "      <td>9.1</td>\n",
              "    </tr>\n",
              "  </tbody>\n",
              "</table>\n",
              "</div>"
            ],
            "text/plain": [
              "     year  beak_depth\n",
              "646  2012         9.3\n",
              "647  2012         9.8\n",
              "648  2012         8.9\n",
              "649  2012         9.8\n",
              "650  2012         9.1"
            ]
          },
          "metadata": {
            "tags": []
          },
          "execution_count": 79
        }
      ]
    },
    {
      "cell_type": "markdown",
      "metadata": {
        "id": "zawoqZie1Rp8",
        "colab_type": "text"
      },
      "source": [
        "### EDA of beak depths of Darwin's finches\n",
        "For your first foray into the Darwin finch data, you will study how the beak depth (the distance, top to bottom, of a closed beak) of the finch species Geospiza scandens has changed over time. The Grants have noticed some changes of beak geometry depending on the types of seeds available on the island, and they also noticed that there was some interbreeding with another major species on Daphne Major, Geospiza fortis. These effects can lead to changes in the species over time.\n",
        "\n",
        "In the next few problems, you will look at the beak depth of G. scandens on Daphne Major in 1975 and in 2012. To start with, let's plot all of the beak depth measurements in 1975 and 2012 in a bee swarm plot.\n",
        "\n",
        "The data are stored in a pandas DataFrame called df with columns 'year' and 'beak_depth'. The units of beak depth are millimeters (mm)."
      ]
    },
    {
      "cell_type": "code",
      "metadata": {
        "id": "JGHVCws32kGr",
        "colab_type": "code",
        "colab": {
          "base_uri": "https://localhost:8080/",
          "height": 291
        },
        "outputId": "b55e13d9-3c58-48db-fa11-973cc1ccfcab"
      },
      "source": [
        "# Create bee swarm plot\n",
        "_ = sns.swarmplot('year','beak_depth',data=df)\n",
        "\n",
        "# Label the axes\n",
        "_ = plt.xlabel('year')\n",
        "_ = plt.ylabel('beak depth (mm)')\n",
        "\n",
        "# Show the plot\n",
        "plt.show()"
      ],
      "execution_count": 80,
      "outputs": [
        {
          "output_type": "display_data",
          "data": {
            "image/png": "[encoded data removed]",
            "text/plain": [
              "<Figure size 432x288 with 1 Axes>"
            ]
          },
          "metadata": {
            "tags": []
          }
        }
      ]
    },
    {
      "cell_type": "markdown",
      "metadata": {
        "id": "CCdBdxK_5U-P",
        "colab_type": "text"
      },
      "source": [
        "It is kind of hard to see if there is a clear difference between the 1975 and 2012 data set. Eyeballing it, it appears as though the mean of the 2012 data set might be slightly higher, and it might have a bigger variance."
      ]
    },
    {
      "cell_type": "markdown",
      "metadata": {
        "id": "vPQmtyDy5YHi",
        "colab_type": "text"
      },
      "source": [
        "### ECDFs of beak depths\n",
        "While bee swarm plots are useful, we found that ECDFs are often even better when doing EDA. Plot the ECDFs for the 1975 and 2012 beak depth measurements on the same plot.\n",
        "\n",
        "For your convenience, the beak depths for the respective years has been stored in the NumPy arrays bd_1975 and bd_2012."
      ]
    },
    {
      "cell_type": "code",
      "metadata": {
        "id": "_t3uBrzk5OZ2",
        "colab_type": "code",
        "colab": {}
      },
      "source": [
        "bd_1975 , bd_2012 = finch_beaks_1975['beak_depth'], finch_beaks_2012['beak_depth']\n",
        "bl_1975 , bl_2012 = finch_beaks_1975['beak_length'], finch_beaks_2012['beak_length']"
      ],
      "execution_count": 0,
      "outputs": []
    },
    {
      "cell_type": "code",
      "metadata": {
        "id": "XwwRyN1D5mG-",
        "colab_type": "code",
        "colab": {
          "base_uri": "https://localhost:8080/",
          "height": 291
        },
        "outputId": "05fe00c2-3c15-446e-c093-00147d823d83"
      },
      "source": [
        "# Compute ECDFs\n",
        "x_1975, y_1975 = ecdf(bd_1975)\n",
        "x_2012, y_2012 = ecdf(bd_2012)\n",
        "\n",
        "# Plot the ECDFs\n",
        "_ = plt.plot(x_1975, y_1975, marker='.', linestyle='none')\n",
        "_ = plt.plot(x_2012, y_2012, marker='.', linestyle='none')\n",
        "\n",
        "# Set margins\n",
        "plt.margins(0.02)\n",
        "\n",
        "# Add axis labels and legend\n",
        "_ = plt.xlabel('beak depth (mm)')\n",
        "_ = plt.ylabel('ECDF')\n",
        "_ = plt.legend(('1975', '2012'), loc='lower right')\n",
        "\n",
        "# Show the plot\n",
        "plt.show()"
      ],
      "execution_count": 90,
      "outputs": [
        {
          "output_type": "display_data",
          "data": {
            "image/png": "[encoded data removed]",
            "text/plain": [
              "<Figure size 432x288 with 1 Axes>"
            ]
          },
          "metadata": {
            "tags": []
          }
        }
      ]
    },
    {
      "cell_type": "markdown",
      "metadata": {
        "id": "FVRi_Lyj6F5B",
        "colab_type": "text"
      },
      "source": [
        "The differences are much clearer in the ECDF. The mean is larger in the 2012 data, and the variance does appear larger as well."
      ]
    },
    {
      "cell_type": "markdown",
      "metadata": {
        "id": "NfahcsF96XGH",
        "colab_type": "text"
      },
      "source": [
        "### Parameter estimates of beak depths\n",
        "Estimate the difference of the mean beak depth of the G. scandens samples from 1975 and 2012 and report a 95% confidence interval."
      ]
    },
    {
      "cell_type": "code",
      "metadata": {
        "id": "O8hWYFVm6Cqm",
        "colab_type": "code",
        "colab": {
          "base_uri": "https://localhost:8080/",
          "height": 51
        },
        "outputId": "09fb2109-2275-4554-89a2-6d1cb2283c4c"
      },
      "source": [
        "# Compute the difference of the sample means: mean_diff\n",
        "mean_diff = diff_of_means(bd_2012,bd_1975)\n",
        "\n",
        "# Get bootstrap replicates of means\n",
        "bs_replicates_1975 = draw_bs_reps(bd_1975,np.mean,10000)\n",
        "bs_replicates_2012 = draw_bs_reps(bd_2012,np.mean,10000)\n",
        "\n",
        "# Compute samples of difference of means: bs_diff_replicates\n",
        "bs_diff_replicates = bs_replicates_2012-bs_replicates_1975\n",
        "\n",
        "# Compute 95% confidence interval: conf_int\n",
        "conf_int = np.percentile(bs_diff_replicates,[2.5,97.5])\n",
        "\n",
        "# Print the results\n",
        "print('difference of means =', mean_diff, 'mm')\n",
        "print('95% confidence interval =', conf_int, 'mm')"
      ],
      "execution_count": 91,
      "outputs": [
        {
          "output_type": "stream",
          "text": [
            "difference of means = -0.22313275434242108 mm\n",
            "95% confidence interval = [-0.34151559 -0.10631382] mm\n"
          ],
          "name": "stdout"
        }
      ]
    },
    {
      "cell_type": "markdown",
      "metadata": {
        "id": "SE_sd5_V7hwX",
        "colab_type": "text"
      },
      "source": [
        "### Hypothesis test: Are beaks deeper in 2012?\n",
        "Your plot of the ECDF and determination of the confidence interval make it pretty clear that the beaks of G. scandens on Daphne Major have gotten deeper. But is it possible that this effect is just due to random chance? In other words, what is the probability that we would get the observed difference in mean beak depth if the means were the same?\n",
        "\n",
        "Be careful! The hypothesis we are testing is not that the beak depths come from the same distribution. For that we could use a permutation test. The hypothesis is that the means are equal. To perform this hypothesis test, we need to shift the two data sets so that they have the same mean and then use bootstrap sampling to compute the difference of means."
      ]
    },
    {
      "cell_type": "code",
      "metadata": {
        "id": "79XBcz_X7ckW",
        "colab_type": "code",
        "colab": {
          "base_uri": "https://localhost:8080/",
          "height": 34
        },
        "outputId": "493feb82-b72b-4e58-b3b2-0af44429171e"
      },
      "source": [
        "# Compute mean of combined data set: combined_mean\n",
        "combined_mean = np.mean(np.concatenate((bd_1975, bd_2012)))\n",
        "\n",
        "# Shift the samples\n",
        "bd_1975_shifted = bd_1975-np.mean(bd_1975)+combined_mean\n",
        "bd_2012_shifted = bd_2012-np.mean(bd_2012)+combined_mean\n",
        "\n",
        "# Get bootstrap replicates of shifted data sets\n",
        "bs_replicates_1975 = draw_bs_reps(bd_1975_shifted,np.mean,10000)\n",
        "bs_replicates_2012 = draw_bs_reps(bd_2012_shifted,np.mean,10000)\n",
        "\n",
        "# Compute replicates of difference of means: bs_diff_replicates\n",
        "bs_diff_replicates = bs_replicates_2012-bs_replicates_1975\n",
        "\n",
        "# Compute the p-value\n",
        "p = np.sum(bs_diff_replicates >= mean_diff) / len(bs_diff_replicates)\n",
        "\n",
        "# Print p-value\n",
        "print('p =', p)\n"
      ],
      "execution_count": 92,
      "outputs": [
        {
          "output_type": "stream",
          "text": [
            "p = 0.9999\n"
          ],
          "name": "stdout"
        }
      ]
    },
    {
      "cell_type": "code",
      "metadata": {
        "id": "_YXRuTaP-kQf",
        "colab_type": "code",
        "colab": {
          "base_uri": "https://localhost:8080/",
          "height": 34
        },
        "outputId": "5981c278-028a-42bc-ec4d-840ac043e140"
      },
      "source": [
        "len(bd_1975), len(bd_2012)"
      ],
      "execution_count": 93,
      "outputs": [
        {
          "output_type": "execute_result",
          "data": {
            "text/plain": [
              "(403, 248)"
            ]
          },
          "metadata": {
            "tags": []
          },
          "execution_count": 93
        }
      ]
    },
    {
      "cell_type": "markdown",
      "metadata": {
        "id": "YBA0YybH9E6u",
        "colab_type": "text"
      },
      "source": [
        "We get a p-value of 0.0034**(my dataset is different and results also appear to be vastly different!!)**, which suggests that there is a statistically significant difference. But remember: it is very important to know how different they are! In the previous exercise, you got a difference of 0.2 mm between the means. You should combine this with the statistical significance. Changing by 0.2 mm in 37 years is substantial by evolutionary standards. If it kept changing at that rate, the beak depth would double in only 400 years."
      ]
    },
    {
      "cell_type": "code",
      "metadata": {
        "id": "GgKdRkmG88HG",
        "colab_type": "code",
        "colab": {
          "base_uri": "https://localhost:8080/",
          "height": 291
        },
        "outputId": "1966f68c-311f-47eb-afdb-37a4e4691cc4"
      },
      "source": [
        "# Make scatter plot of 1975 data\n",
        "_ = plt.plot(bl_1975, bd_1975, marker='.',\n",
        "             linestyle='None', color='blue', alpha=0.5)\n",
        "\n",
        "# Make scatter plot of 2012 data\n",
        "_ = plt.plot(bl_2012, bd_2012, marker='.',\n",
        "            linestyle='None', color='red', alpha=0.5)\n",
        "\n",
        "# Label axes and make legend\n",
        "_ = plt.xlabel('beak length (mm)')\n",
        "_ = plt.ylabel('beak depth (mm)')\n",
        "_ = plt.legend(('1975', '2012'), loc='upper left')\n",
        "\n",
        "# Show the plot\n",
        "plt.show()"
      ],
      "execution_count": 95,
      "outputs": [
        {
          "output_type": "display_data",
          "data": {
            "image/png": "[encoded data removed]",
            "text/plain": [
              "<Figure size 432x288 with 1 Axes>"
            ]
          },
          "metadata": {
            "tags": []
          }
        }
      ]
    },
    {
      "cell_type": "markdown",
      "metadata": {
        "id": "8Kk4bx4T_97q",
        "colab_type": "text"
      },
      "source": [
        "**fyi** notice the increase in beak depth as seen by sampling earlier!"
      ]
    },
    {
      "cell_type": "markdown",
      "metadata": {
        "id": "to32HTOp_z6c",
        "colab_type": "text"
      },
      "source": [
        "Great work! In looking at the plot, we see that beaks got deeper (the red points are higher up in the y-direction), but not really longer. If anything, they got a bit shorter, since the red dots are to the left of the blue dots. So, it does not look like the beaks kept the same shape; they became shorter and deeper."
      ]
    },
    {
      "cell_type": "markdown",
      "metadata": {
        "id": "aOA4A5K5AbBr",
        "colab_type": "text"
      },
      "source": [
        "### Linear regressions\n",
        "Perform a linear regression for both the 1975 and 2012 data. Then, perform pairs bootstrap estimates for the regression parameters. Report 95% confidence intervals on the slope and intercept of the regression line."
      ]
    },
    {
      "cell_type": "code",
      "metadata": {
        "id": "yjISx-4w_rZv",
        "colab_type": "code",
        "colab": {
          "base_uri": "https://localhost:8080/",
          "height": 85
        },
        "outputId": "5bcaa2f4-076c-43af-fcc8-0605bffad84a"
      },
      "source": [
        "# Compute the linear regressions\n",
        "slope_1975, intercept_1975 = np.polyfit(bl_1975, bd_1975,deg=1)\n",
        "slope_2012, intercept_2012 = np.polyfit(bl_2012, bd_2012,deg=1)\n",
        "\n",
        "# Perform pairs bootstrap for the linear regressions\n",
        "bs_slope_reps_1975, bs_intercept_reps_1975 = draw_bs_pairs_linreg(bl_1975, bd_1975, 1000)\n",
        "bs_slope_reps_2012, bs_intercept_reps_2012 = draw_bs_pairs_linreg(bl_2012, bd_2012, 1000)\n",
        "# Compute confidence intervals of slopes\n",
        "slope_conf_int_1975 = np.percentile(bs_slope_reps_1975,[2.5,97.5])\n",
        "slope_conf_int_2012 = np.percentile(bs_slope_reps_2012,[2.5,97.5])\n",
        "intercept_conf_int_1975 = np.percentile(bs_intercept_reps_1975,[2.5,97.5])\n",
        "intercept_conf_int_2012 = np.percentile(bs_intercept_reps_2012,[2.5,97.5])\n",
        "\n",
        "\n",
        "# Print the results\n",
        "print('1975: slope =', slope_1975,\n",
        "      'conf int =', slope_conf_int_1975)\n",
        "print('1975: intercept =', intercept_1975,\n",
        "      'conf int =', intercept_conf_int_1975)\n",
        "print('2012: slope =', slope_2012,\n",
        "      'conf int =', slope_conf_int_2012)\n",
        "print('2012: intercept =', intercept_2012,\n",
        "      'conf int =', intercept_conf_int_2012)"
      ],
      "execution_count": 96,
      "outputs": [
        {
          "output_type": "stream",
          "text": [
            "1975: slope = 0.09459683208921148 conf int = [0.05777638 0.13352027]\n",
            "1975: intercept = 8.053907980716426 conf int = [7.61150451 8.47732622]\n",
            "2012: slope = 0.279421483961125 conf int = [0.24232755 0.32357243]\n",
            "2012: intercept = 5.548559204612315 conf int = [5.04701008 5.99692852]\n"
          ],
          "name": "stdout"
        }
      ]
    },
    {
      "cell_type": "code",
      "metadata": {
        "id": "A_IOBu5BBbQO",
        "colab_type": "code",
        "colab": {
          "base_uri": "https://localhost:8080/",
          "height": 291
        },
        "outputId": "c03abf74-a68a-48ed-969e-da81e9aa59ef"
      },
      "source": [
        "# Make scatter plot of 1975 data\n",
        "_ = plt.plot(bl_1975, bd_1975, marker='.',\n",
        "             linestyle='none', color='blue', alpha=0.5)\n",
        "\n",
        "# Make scatter plot of 2012 data\n",
        "_ = plt.plot(bl_2012, bd_2012, marker='.',\n",
        "             linestyle='none', color='red', alpha=0.5)\n",
        "\n",
        "# Label axes and make legend\n",
        "_ = plt.xlabel('beak length (mm)')\n",
        "_ = plt.ylabel('beak depth (mm)')\n",
        "_ = plt.legend(('1975', '2012'), loc='upper left')\n",
        "\n",
        "# Generate x-values for bootstrap lines: x\n",
        "x = np.array([10,17])\n",
        "\n",
        "# Plot the bootstrap lines\n",
        "for i in range(100):\n",
        "    plt.plot(x, bs_slope_reps_1975[i]*x+bs_intercept_reps_1975[i],\n",
        "             linewidth=0.5, alpha=0.2, color='blue')\n",
        "    plt.plot(x, bs_slope_reps_2012[i]*x+bs_intercept_reps_2012[i],\n",
        "             linewidth=0.5, alpha=0.2, color='red')\n",
        "\n",
        "# Draw the plot again\n",
        "plt.show()"
      ],
      "execution_count": 97,
      "outputs": [
        {
          "output_type": "display_data",
          "data": {
            "image/png": "[encoded data removed]",
            "text/plain": [
              "<Figure size 432x288 with 1 Axes>"
            ]
          },
          "metadata": {
            "tags": []
          }
        }
      ]
    },
    {
      "cell_type": "markdown",
      "metadata": {
        "id": "4f0VXwSlC6BR",
        "colab_type": "text"
      },
      "source": [
        "### Beak length to depth ratio\n",
        "The linear regressions showed interesting information about the beak geometry. The slope was the same in 1975 and 2012, suggesting that for every millimeter gained in beak length, the birds gained about half a millimeter in depth in both years. However, if we are interested in the shape of the beak, we want to compare the ratio of beak length to beak depth. Let's make that comparison.\n",
        "**In my result, slopes arent the same!**"
      ]
    },
    {
      "cell_type": "code",
      "metadata": {
        "id": "K2zQfeEOCpSn",
        "colab_type": "code",
        "colab": {
          "base_uri": "https://localhost:8080/",
          "height": 51
        },
        "outputId": "586e8f11-2ef1-4bc0-a68d-bb44125eaa17"
      },
      "source": [
        "# Compute length-to-depth ratios\n",
        "ratio_1975 = bl_1975/bd_1975\n",
        "ratio_2012 = bl_2012/bd_2012\n",
        "\n",
        "# Compute means\n",
        "mean_ratio_1975 = np.mean(ratio_1975)\n",
        "mean_ratio_2012 = np.mean(ratio_2012)\n",
        "\n",
        "# Generate bootstrap replicates of the means\n",
        "bs_replicates_1975 = draw_bs_reps(ratio_1975,np.mean,10000)\n",
        "bs_replicates_2012 = draw_bs_reps(ratio_2012,np.mean,10000)\n",
        "\n",
        "# Compute the 99% confidence intervals\n",
        "conf_int_1975 = np.percentile(bs_replicates_1975,[0.5,99.5])\n",
        "conf_int_2012 = np.percentile(bs_replicates_2012,[0.5,99.5])\n",
        "\n",
        "# Print the results\n",
        "print('1975: mean ratio =', mean_ratio_1975,\n",
        "      'conf int =', conf_int_1975)\n",
        "print('2012: mean ratio =', mean_ratio_2012,\n",
        "      'conf int =', conf_int_2012)\n"
      ],
      "execution_count": 98,
      "outputs": [
        {
          "output_type": "stream",
          "text": [
            "1975: mean ratio = 1.2461609991094325 conf int = [1.22302606 1.27081553]\n",
            "2012: mean ratio = 1.3483617710027846 conf int = [1.32444998 1.3726059 ]\n"
          ],
          "name": "stdout"
        }
      ]
    },
    {
      "cell_type": "markdown",
      "metadata": {
        "id": "OnKMjGpfE9oF",
        "colab_type": "text"
      },
      "source": [
        "### EDA of heritability\n",
        "The array bd_parent_scandens contains the average beak depth (in mm) of two parents of the species G. scandens. The array bd_offspring_scandens contains the average beak depth of the offspring of the respective parents. The arrays bd_parent_fortis and bd_offspring_fortis contain the same information about measurements from G. fortis birds.\n",
        "\n",
        "Make a scatter plot of the average offspring beak depth (y-axis) versus average parental beak depth (x-axis) for both species. Use the alpha=0.5 keyword argument to help you see overlapping points."
      ]
    },
    {
      "cell_type": "code",
      "metadata": {
        "id": "rpBIPgQqGBEd",
        "colab_type": "code",
        "colab": {}
      },
      "source": [
        "fortis_beak_depth_heredity_df=pd.read_csv(fortis_beak_depth_heredity)\n",
        "scandens_beak_depth_heredity_df=pd.read_csv(scandens_beak_depth_heredity)"
      ],
      "execution_count": 0,
      "outputs": []
    },
    {
      "cell_type": "code",
      "metadata": {
        "id": "JaxSmrXREg-M",
        "colab_type": "code",
        "colab": {}
      },
      "source": [
        "# Make scatter plots\n",
        "_ = plt.plot(bd_parent_fortis, bd_offspring_fortis,\n",
        "             marker='.', linestyle='none', color='blue', alpha=0.5)\n",
        "_ = plt.plot(bd_parent_scandens, bd_offspring_scandens,\n",
        "             marker='.', linestyle='none', color='red', alpha=0.5)\n",
        "\n",
        "# Label axes\n",
        "_ = plt.xlabel('parental beak depth (mm)')\n",
        "_ = plt.ylabel('offspring beak depth (mm)')\n",
        "\n",
        "# Add legend\n",
        "_ = plt.legend(('G. fortis', 'G. scandens'), loc='lower right')\n",
        "\n",
        "# Show plot\n",
        "plt.show()"
      ],
      "execution_count": 0,
      "outputs": []
    },
    {
      "cell_type": "markdown",
      "metadata": {
        "id": "0jtYwxPmFlRv",
        "colab_type": "text"
      },
      "source": [
        "![image.png](data:image/png;base64,iVBORw0KGgoAAAANSUhEUgAAAhUAAAEnCAYAAAAevrFFAAAgAElEQVR4Aey9CXRc1Zk1umsuzbJGS7Jsy6NsPI8gGwzYhhgI2JAQ0wngbtIhYUi/Xt0rgbD+TrrXSgj9+v/79R+gm/5f+tngTgiJbQgEEgYTwBiP4EHG8mzJtkZb1mBJNd+39rk6VVelKo1X8zlryffWrXvPPXdXuc4+37A/i6ZpH0I1hYBCQCGgEFAIKAQUAv1EwKJpmtbPPtTlCgGFgEJAIaAQUAgoBGBVGCgEFAIKAYWAQkAhoBAwAwFFKsxAUfWhEFAIKAQUAgoBhYCyVKjvgEJAIaAQUAgoBBQC5iCgLBXm4Kh6UQgoBBQCCgGFwJhHQJGKMf8VUAAoBBQCCgGFgELAHAQUqTAHR9WLQkAhoBBQCCgExjwCilSM+a+AAkAhoBBQCCgEFALmIKBIhTk4ql4UAgoBhYBCQCEw5hFQpGLMfwUUAAoBhYBCQCGgEDAHAUUqzMFR9aIQUAgoBBQCCoExj4AiFWP+K6AAUAgoBBQCCgGFgDkIKFJhDo6qF4WAQkAhoBBQCIx5BBSpGPNfAQWAQkAhoBBQCCgEzEFAkQpzcFS9KAQUAgoBhYBCYMwjoEjFmP8KKAAUAgoBhYBCQCFgDgJ2c7oZOb34/UH4fIGRM+ARPlKr1QKbzQrirtrQIOBw2BAMhhAKaUMzgDF+V+JP7PkZqDb4CPD3h79D6jeoa+yJk9vt6PqkHrw75kgFCUVrq68H0KhTzEDA6bQjLc2JxsY2M7pTffQSAYsFSEpKQWNjK3w+Rex6CZ8pp48bl4RAQP3umAJmHzpJTnbBYrGq3/1usCP5NYNUKPdHN0CrtxUCCgGFgEJAIaAQ6BkCilT0DCd1lkJAIaAQUAgoBBQC3SCgSEU3AKm3FQIKAYWAQkAhoBDoGQKKVPQMJ3WWQkAhoBBQCCgEFALdIKBIRTcAqbcVAgoBhYBCQCGgEOgZAopU9AwndZZCQCGgEFAIKAQUAt0gMOZSSrvBQ72tEFAIKAQUAoOEQG2tBTt36tPQihVBFBYqLY9Bgn7AbqNIxYBBqzpWCCgEFAIKgXgIeL3Aq6864fHoomy1tQ48/LAPaWlKpC0eZiPhuHJ/jIRPSY1RIaAQGJEIcOIsLwdqaiwjcvwDOejaWmuYUPA+JBdNTQqngcR8MPpWlorBQFndQyGgEBhzCMiVOCfKYNCKmTPtWLdOlQiQX4ScnBDcbkuYWHA/NVVZKSQ+I3WrLBUj9ZNT41YIKASGNQKnTtlQUxMZ4tGjVpBoqKYj4HIBGzf6MHGiJv42bPAL1wcxOnXKigsX1PQ0Er8rylIxEj81NWaFgEJAITAKEMjJ0bBxoz/8JNK6I8nY3LkhZd0JozMydhQVHBmfkxqlQkAhMMIQmDMniNzcyKBXrgyBq3PV4iOgrDvxsRkp7wx7UvGtb30Le/fujYnn9u3bwfdVUwgoBBQCwxEBZjM8/LCGb387hJISFU8xHD8jNSZzERi2pKKpqQlPPfUU9u/fH/OJSSiefvrpmO+pgwoBhYBCYLggMGkSkJurAhB78nnQusMYC9mUdUciMXK2wzKm4uLFi3jooYdQXFws/qLh/OEPf4h9+/Zh9erVIPlQTSGgEFAIKARGBwKMsaAoFl1FSrNi5H2mw9ZS8eyzz+LFF19ESkpKJ1TXrl2LN954A7Nmzer0njqgEFAIKAQUAiMbAQZwKkIxMj/DYWmpmDBhAvgXr61ZsybeW90edzhsSE9P7PY8dYI5CFgsupiNwtwcPPvaS1KSC4nqa99X+Pp1nc3GVbcd/O1RbfARIP78HVK/QV1jHwyaI5E+LElF14/ev3dDIQ3BYLB/naire4yAzWaF3W6Fz6eC1HoMmoknktNxMgsEQjDrR8PE4Y2Jrmw2J/i7o/4PDM3H7XTaYbVC4d8N/HIB2M1p3b495kgFf1hbW33dAqNOMAcB/od2ux0Kc3Pg7HUvJBWJiS54vX74fIpM9xpAEy5wuRzw+4Pq/4AJWPalC6vVArvdpvDvBjwuPhITnd2c1f3bY45UdA+JOkMhoBBQCCgERgMCFNP68ksrAgELJk2yqDiNQfhQFakYBJDVLRQCCgGFgEJg8BFgFdSrVy3C/QE48eijXiVANsAfw7AnFffeey8KCgpiwrBs2bK478W8QB1UCCgEFAIKgTGBANNSKfftbLfoswoqFTuphaHawCFgOqmgxsQHH3wgdCSMGhLLly8XuhK9TQMlqYjX2KdqCgGFgEJAIaAQiEYgVkoqK6OqNrAImKZTQTJBBUwKUlHtMjk5GbQk8E/TNGzbtg3r16/Hgw8+GFd2e2AfVfWuEFAIKAQUAmMFAYpn3XFHEAkJ+hMvWRIC9S9UG1gETLFUkET84he/AK0KlNVOTU3tMOonn3xSvKblYsuWLXjsscdw/fXX44UXXuhwnnqhEFAIKAQUAhEEGGioipBF8OjtHl0d118fFNkfDQ0qrb23+PXlfFNIBUkEFS6jyUT0gPg+CQb/SERUUwgoBBQCCoHOCFy4YMWOHQ4wDoC1MDZs8Cty0RkmdWQYImCK+4MKl90Riuhn7ypWIvpc9VohoBBQCIwlBN55xy4IBZ+5osKC0lKlxjmWPv+R/KymWCqiAXj//fdRVlYWfVi8fuKJJ2IeVwcVAgoBhYBCQEegoaEjEl6vLnff8ah6pRAYfgiYTioYW/H8889j6dKlMZ9WkYqYsKiDCgGFgEIgjACDCg8ciBiSp01TaZBhcNTOsEbAdFKxd+9ePP3009i0adOwfnA1OIWAQkAhMFwQOHjQhlOnrJgzJyR0FG69NYCcHBuamiy47rqgUoIcLh/UII6DcTX8XqSmalixIjBiYmpMJxWMreiqwuggfibqVgoBhYBCYNgjsHu3Hbt26VaJigqdSJSUBJRI07D/5AZugCQUv/61nJ4tqK11YONG/8Dd0MSeI/Y1kzplZsfmzZuVFoVJeKpuFAIKgdGNAAMxjS36tfE9tT82ECCpMLaR9J2QVMg4/n7vV1ZW4qGHHorZz4kTJ2IeVwcVAgoBhcBYREBXfowQi1hKkGMRl7H8zHR5GFt6uvHV8N43nVQwUDMlJUUIW3GrmkJAIaAQUAjER4DxE16vAxUVVkyfHgRf97dxpcuJSRGU/iI5NNdTtIvxNKWlVhFLsW7dyHB9EC3TSQVVM3/0ox9B1eUYmi+juqtCQCEwshCgYub69eZMGlTgZGVOFtJio0z1cCmg1dhowe7dNnC7eHEQ06erOhxdfVMZV1NS0tUZw/O9jo4bE8ZIMrFv3z4TelJdKAQUAgqBwUeAgZOvvuoABag4SY+kdvCgPUwoOO6dO01fN/YZjtdfd+DoUasQ89qxw47ouIE+d6wuHFYImP6NYwExppSSWMSyViidimH1+avBKAQUAgYEqFwpMzEAxjnYsW5d/90RhlsM6i5lvodLk9YTOR6SisJCZa2QeIyWremkgmqa+fn5ojLpnj17OuGkSEUnSNQBhYBCYJggQB+2sZ06ZRtRpIKaFgcO2MIS36tXDx/RLAYbGpVCs7PNJRR0q3z4IeXNIVwrdLGoNvgImE4qnnnmmcF/CnVHhYBCQCFgAgL081MrQraJE82d+GS/A7VlYOajj3pRW8sAP21Ylfpm3AhdS3LSNzumgu4qmXrJz5CBqmbfY6A+t9HUr+mkguBcvHgRTCuN1egeUU0hoBBQCEQjQEVJKgiy6YqSg2+65+qWK97aWovInOhLJgbjMBjLwH5ycjTceSdg7WgAiX70Hr3mmGSMRFeBjgz87KtbgfdgnZGcnJDpCo7EwqyA1FiASUIh36urYzbNyCKFcuwjeWs6qaD74/HHH4+LidKpiAuNekMhMGYR4ATM4D3ZmMHAFTcnyMFufSESxjFy4mdAIhsnuqwsC264wXhG3/aJiYyRqKiwY9Mmv6mWCI5b1hvJzQU2bvQNCf59QweiRLyRWJjtXunruMbadZH/xSY9OdU0169fj+eee86kHlU3CgGFwGhHIDoTgJMnTfh9XXEPJV4kSMZWXo5+kwriIwmF7Jv45OT0LW6A1pR33nEIawoxZm0JSSjYP4MqGbQaKy6B11JTg64WWh+GS2NArTGmQlkphuaTMZ1U8DHWrl07NE+j7qoQUAiMSAR08hCJZXC7LSOSUBB8TrTGFfOkSf3/SIhPdKBjfwgXCcXJkzr5qamxIiEhgr0cbSwrEQnFSy+5wgSH1VT7a9mR9+vvliRnIN0r/R3fWLneBE9fR6hYnZTWCopgqaYQUAiMXgQsXg9sFypgrW1XWurHo3JCeOCBgDBhz5ihCdN7P7ob0ku56udkO3GihpUrQ1i1ypzVPCdMYsN+iRUx62uThEJeT2LBscpG9wfVPaMbdTCMFhOjdSP6XPV6bCJguqWCgZiU6l66dCliBWW+8sorYxNp9dQKgVGEAAlFwpb/CucIBpYsg+/WNf16Qq68N26MTGz96mwIL+YKv+PqvevAEBnYKXUbeG1sK4FFuCt4Pl0shYWxH5IZFkyNpcWEqoyxXBRz54bCcR/sZdo0veT6tGl6oGY8KwgzSoJB4MoVK+x2DRkZfSc2sUevjo50BEwnFT/96U9F9ofSoxjpXw01foVAfAQcBw+ECQXPsh/Y129SEf9uo/sdY2BnQwONx7EFt3bscIStBG+/bRMZGtGEwSje1dCgl8z+znd8nQAkcUlL01Mw58zRCQVP0vuLTxRovfjFL1xoaOA5FtxzT2drRqebdXGAGT8kQSRKJSXDR1K8iyGrt7pBwHRScenSJRGkuWZN/1Yt3Yxbva0QUAgMIQJarKX0EI5nJN86OrAz+jWfLVagJo9FB2qyCJWxGcWmjMf58fWltkRpqR2zZwdEsSv2UVdn7LV3+3xOZvww4JTt8mU9FbY/bp3ejUCdPRAImE4qCgoKVDzFQHxSqk+FwDBCIDBnLuylR2GpqRaj8q9WwdmxPh6uwo8ds8DhsGHFiti6CYyRMAZ28nV0iw7UZCArXRbRTXdbRELlYvUVfU1vXtP9wRZdmrs3fchzSYAOH7ahpUU/kpRkw+XL/YsVkX2r7dAhYDqpYObHz372M5SVlSGWtSJWnMXQPb66s0JAIdAXBDSXG20P/5UI1AylpkFLS+tLN6P6GloSWEckIQFi4mTGxfTpnSuU0WLgctlAVwDTIGOlcRKob3yDipR6lgZdFrFW9CQVGzYEcOyYrijJoFEzGyuecpySBLEKal+bzwchtAXoRIWiW/xTbWQjYNE0rTMt7sczfetb38L+/fvj9jDU4lctLV60tnb2McYdsHqjXwg4nXakpSWgrq65X/2oi/uGgMUCZGWloLGxFT5fzycA+ualeiMnpngTXd9GNTyv4jNz9cz6GbEmbOOoqTzJqpt0L8RLq6Q66Acf2JCQ4EQwGILPFzBdsMo4psHcl4qj/fGCsY+XXnLiwgWdSOTlaXj8cV/MwNL+PFtysgt2uw0NDa396WbUX0trWnp6Yr+f03RLxdatW/s9KNWBQkAhMHQI0NfNQEC5guTEyBVwdFDg0I3Q/DuTIMg0SxbkevhhX5fEwqhuybTKnBwbuIo3NronPv008hPLNM3uMGTAItM26WZgf/2ZtI1j6ck+LRC0pjBlNB5Rkv109xzyvK627IMFz2RVWGakmNFvV/dU7w08ApFvfD/utXfv3phlzrvqsi/XdNWfek8hoBAwB4HoYD/2qpulTTVqmjNYk3qRhILdcVKl+4BuiXjNqNXAc2JhRmsHpa5PnHDAZtOweHHXFlISCqOwFCf5jRv98YZg+nFJKNgxiVJhYewYEDNvTIwXL9Z7HEwCZeYzqL46IhCJ6Ol4vFev9u3bh1tuuQU7duzo9rrt27fjnnvuEVoW3Z6sTlAIKAQGHQEZFChvzKBAFpgazY3PaGzGQESa6bdsceKf/9mJV191iPTH6ADIadM6WilkX1x53323hrVruy/QxTLrRrLCuAXeu69Nt3rYRMpmrIwSunsYSMrYD75vvDfvyYJcg9FIJhShGAykB+ceplgqnnzySSF0RdEr6lQsX74cs2bNCj8B1TWPHz8u/lJSUsDz77333vD7akchoBAYXgjQ/K+rJ0LEU4z2H33qNjCGhBMrVSuNrgxOvKyFwcaJnudt2OAXtTE4GTO40gyzvcysMH4TuovtMJ4bvU9dCxlQGe3S4TNE1DCtYTVTeT5JFmNLVFMI9BYBU0gFb0oiwT+6NVipdM+ePYJE8D0SDKaaPvzwwzEzQno7aHW+QkAhMLAIkER0Zf7vyd1tp07CVleLYOFE8deTa4bqHJIII5EwjuPsWb0ku9erISkJYEAh8elL8CqtB3Ky58RN94gkJCQnjGWQkz0zK4xkTgbPkvh0F/NAsiMJAp+F15w+bQ2PmX3JmJmWFgt+9zsHrr8+gOnTdVcXLS/xCA2tJ6dP24Yk7sP4uaj94YmAaaRCPp4kF/K12ioEFAJjDwHn7l2w7/pYPDh/ZLwPfKtPxEIGUHICpnVA12EYXDwDAU60ejwJNRV8vr67JDiZy8meEz2fj6mi3NIawmDORx/1d5rQSUaMwbMkHnPm0C0VO86FhICY8R6yGV06fN/jYaortSKsKCrS4PfbhJWmq6JcJCubNztklyK9tKdxH8ZAUFqDurpP+AZqZ8QhYDqpGHEIqAErBBQCpiNgLz3SoU/Hwf29JhVMyZQBlJwcucL//vc76zx0uNEAvEhP1zBtmiZiKZKSaK2ITNS9vV10jITHYxHluqV7hVuW746ecDmZR7fuSp8bXTq0bBhLga9bpxMZpnOmpjIrRY+ZkXjLe0k3CclHKGQRKbTV1TqZcTohUmXlud1tjYGgvA8/375Ye7q7j3p/aBFQpGJo8Vd3VwiMSgQojmWcBimQ1dsWLYRkXHX3tq/+nE+hKaPcdX8mQvZ19GgkAJIuFxINEgRaI+jumDixcywDLRK0YkjyQStErCqixufsyqXD/lgTRGppyOvYr2wcl3TF0HVCK01mpga6g2prNYwbp6G5uXPJdHm9cctni/78oj9f4/lqf+QioEjFyP3s1MgVAsMWAe+6O+F+fZsoOqbljod/xcoejZWTDxsnV/r1pYYBj9FkPhSNsSXZ2VaRDUH3S1cuGOP4Y42V127a5BcxCXRHcOLfvNmJ06cjk/nChbGuhIi/oPuEkzGDKI3xFrGv6P4oCRKzP2g5kC4meZVx0g8EOD4NmmZBSooGvrbbgfHjOxMgeb3cShfW2bM2JCdrYatIvIwZeZ3ajkwEFKkYmZ+bGrVCYFgjEMrJRet3HgNLpNNq0ZP2zjv28Cqeokic8OQEzMyI/lgIenL/rs6h64BxCPFiGHgts0QkCeoqkJJ95ORENDDcbg3Z2SwnbhGWAFucxT9JxEBgEO1qkTjQJZKerhej5X59vUWUOq+vhyBDJEVGy4a8zrglCZIulSlTgqJk+sqVoR6plhr7UfsjBwFFKkbOZ6VGqhAYcQj0lFBwtWx0C1DFk4qU0RPwUABAN4BU0OQky8DK6MwIniMJBcfYXSCl8TkqKmgF4RFNbKuqIu4R43mDvU8Sw9RiPVMkiIQEDSzNzjiM8nKLIByMzeiqScuNPCczk7VNWOtEHlHb0YaA6aTi4sWLeOihh8AS6LFab2t/UPuChcmidS+ef/55kbLKbBPeL5XRRqopBBQCIxIBZiJEt+gJKfr93r7mxM8YAraSkvgpk9H9Sv0KHmdsBYt6rVsXsTTwuHQVyC0tK/p+Z5cNsyCo2ElXCN0feXm0glCACmBdtqysgRMakxhIq0c0OYp+dnle5HjvxialymU8BV1YilBE0ByNe6aTCpIACly98MILYtsf0DZv3gySh+jKpg8++CCKi4vxxBNPiIqo1MZ45ZVX+nMrda1CQCEwhAhMnBgxtXMYVKw0uhpsFyqguVygW6WrZq2tgcXr7ZRpQoIirQ28nuqVjz7q7dEEJ4mCvG/0a3n8yhUrTpzQYyM4ecqMCvm+fl8rduzQf3ZPnrSJIM2sLK2D0BRfD0RjBokRAwZf0hIxkJM8SQvvwXvxPiRRqo1uBEwnFbRQUDEzVtnznkJJBc7HH38c3Obn53e4jDLfPP7cc8+J4yQTS5cuFVYLozWjw0XqhUKglwjwB5gTkXFi62UXI+p0PiufeaielxOONLVHTz7uV/8b1opygWdw7jx4193VCVuO3/fa28itOiTeC82YCc/6+8LnMbtCrpZ5kPs81lXQpbyYcQy6RoR+xBjXwPtSwvvSJYvQbCCRoEBWenoo3H91NcA4CQY20s1jbHT5/M3f+HDtmkPoRXQVi8HPh1YSkhqOoSdjN96LVgojBrS6RGMwEN97EgsjZsYxqf3Rh4DppILKmZz0+9NITGidoALnY4891qErvmckD3R7kFTQWmE83uEi9UIh0AsEjAF3Y0Gkhz5zOWkybZEqjwO5eo33UfCe0ZMPVTkloeB1tqNHcCTpZnxZOU5YM5iZQXfCJ7+tx6J9R3HRxWqhIbhOngCtG1TzZDMKP8n7xzom3zNuubomWaCKZHRZdFYh5eQcDAKhkCbEpGRWA106rBVSV2dBMGjDsmX2TrEYtMhwImccBcfD+Ip45O43v9FLrXNsJ0/aY4pkGccdvR/t6mCQpREDuobeftsOin3NmhUa1GJm0WNVr7tGgASRbagWAV2NzhRSwTiKyspKcZ+1a9fiqaeegsViEdLc0TePdmVEv8/XJAfxCEK86qbNzc2xuup0zGazIjHR2em4OjAwCBBvtpGCOX/Q9+61wtEuGnjuHHDxonXI0hn7+6lY2jMVXS4H7PbYaQW7dtnhcOgmd0b2nz7txtKlvfOd93ec8a63Jjhgc0TGTTXKTz91wOO2o6oK0DQ7Tp60CmEmq9UKv5+rbwumTNHAa0Pt/9cTE4F777Xik0/07+PatYxliChDxru/PD5uHJCUxN8O/smj3NrEdyUzE8jIoDUE4vX48YDFYkVVlUW8tlr5vXLg7/4uCI9HD0olobjxxhDef98tSAm/cyQnBw648bWvdXQT8LlbWiLfS96Z30vGY/S0TZ4cwYAZJ7y3xEAnQHacOaN/Yfi9X7LEhnnzet5/T8cx2Ofxe0/8R8pvUHf4vPWWDYcP62fNnw/cdVfH70p318d7n3O2Gc0UUsHqpIx9MDYSi1itt4Ga0X30NyCTwDmdpjx29NDU6xgIyC/qSME8FKKpuuN/LofDCqdzYPzcMSAbkEN2uxWS4EXfgLLTxmfmxOZ0djTTR18zWK8PB+fAd3E30j1VmDpVw/n0RfAnZUDSDKZh0q3QnJqPK9mzkH2lTBAMW8F4WKZN7TDMJUs4UcpDsgf5Ov52924Lnn3WirY2DQkJ3GedEP38FSuAM2f09xYsAPgjP3myFTNnajhxgpjr5/H/AfGnKuXq1YwtsIigzPR0mzjO0uiyUQPC6ez4HZw2DUhO1u8jz6PKZ6zP6fBhSm8zO0PDbbcx7VNeoT+/jgH7j2DQ2gqcO2eFtf1j5+uyMruoMRK5emTu8bs9Wn73KX5WWsrvkv5ZlJbSumfFpEmR709fP6Vg0BwCacrsyhgK/g1GowWjP+6VQCCI1lbfYAxV3QOcnGjyTUBDQ+uIwIMm+IkTHeHceroD0tN9HRQVR8SDtA+Si4+srBS0tHjh88Ve0cyZE6lYSZP4pEl83v7/SHWFE60JdDNxhbxiRez4ALo1RFBj7l8io6kcOckuJC/IgedAJI3R4Qhh4UJNuG/2T70XeRMq8NWv+lG/oBCI+s4xnuHTT21ikqXbpKem41/8IgHNzfoPLg2iW7aE8MwzukoXvy/3388CW3p8huyTz0VrRVqaE01NTiFnPXOmD42NQfznf0bcGCwaNmuWJiZwidfChQE0NHT+gb/nHgsodc1GN5HLFez0vQxjBr2ux1tvWbBoka75YZTplveSW8aGZGS4w6XW+VzV1UH8x3/oAbMrVozcNNDkZJew0o2U3yD5mcTa6rFBHaftpqbY35dY13d1zOHg/42eW+/i9dVxdPHO6sVxlj5nWfNo9wVLn//sZz/rd5YGM0tYBdXY2PdgkRrjfdX+6ESAYkCcgDgxMCuBP7AjtXGyOH8ewvybkBD7KVgjgitn/mBR+nkgn5fj4X1ee82BYFAnLhUVseMD6uqswr/f2mpBi20y6hs0/M0KH7xeu+iDcQ4cO8fLfT0WIS8ct0DiwqBGBjTyPdYOkYGKFRVOERgaHWcQG6GORzkeYzMGIspATN5TjosTe0qKBbfdFhIprUbJbwZeUi6bRcR4La+TY5Lj57PpfemZFMZ7RxMlYiZbWRmDOjVkZbFiaWyM5bnsf8OGgCBdrEeiabTA0GXAa/k52QXW8vzB3jLeg4SJ2MjPfLDHMBzux+8H3WayKB0XPTw2nJoppIKWg7KyMvFc+/btw4QJExAd40AiwPf620hYmLbKLBC5T5cI9SpUUwiYhcBw+4/al+fipPSb3ziFSdvjsePuuzsWlTL2yRV2Tk5sS4bxvP7sy0wJ/iCWllpFkS5OmGxc6UcHadLvf/iwPVwhdPFiXeMgWiOC1+vjj1hXjMG2/OFduTIQJhQ8n+SiqYkuiMg1YiAx/rnvPj+ef15fwYVCViQlBURV0Whrh1ERlAG++flB/N3fueH38x4WnDyZiH/6p46CHJzA2TiOtLQI/sbgWQpuxUr9JFH69a8jP+EkSpxw2VgATJZqFwcAoY3BMcdrxL+y0irqixw6ZIPPp8Futwi5dH6XhqoRC4qh6Y3P5ehUcG2oxjYU92VVWLno6cr6NBRj4z0j38h+jICTOi0UkljQIhHdkpOTha5E9PHuXtPiYYyj4P7WrVtFMOjTTz8t9CpefPHF7rpR7ysExhwCXN1x8pSBhZxop0831/XHPkkS6LenuiJXvPHawYN6pgQzDjhZnT/PFFadVMQicZxwpQWCcRNUnOxJI3kxqlvSD33pkrVDKfDozIeu+meWJyoAACAASURBVF2zJoCZM0NgpkdpaQh2uybcY7W1DmFl4LWcdI2KoJSmfvNNN3w+BmzqvTO1lHUzeG9pMZEkIPr+FNySz0vLBrGLJgTSKiKvZZ8kJ5TB5mdSU2NFQYGOLy02iYl6pokkUiQlJFbSEsIaHbwXCV5tLYOrOXBNTGCrVkUIj7zfYG2p4GlsUvbbeGys7cf6/zJcMDCFVPBh3njjDfFM8dwffX3gZ555ptOlJBryfp3eVAcUAgqBmAhwsjWzcQVpnLw9HkeP0xCZmnnpkk2YcrlClrEI0ePjj2dhYfTR3r9mufING/zCvM+rGSMgJ9ee9MZx0BXGlE/ZOAFzYo7Xz5QpIXz0UeR8EqOZM4OYN4+VSSkGpccr8HMhYSExIQ4cW0+aPrHIFTwEWSFB4PGSEgirBUkfrQ+0XLz7Ls+1CTcHSYZMIybJITZGtwyJn8tFIgJRHTUe+enJOPt7TmGhhqNHI73Q/K/a8EXANFIhH1GSAKNLhOqXRmuDPFdtFQIKgYFDgJM1tRVku+WWnk1W8vzuttErSOnnjXcdiQTdHpy8OMl/73veTi4P47WsEVFa6gxPdiwy1pNGawlFpGTZbro/qDXB4xs39t3/rE/iEZLArAKu9OmmIRmgy0Pek1oZd9zhwf79SaJUOLMq6LaR1QT0vvSn+fOf7di2jUGrFoEL02JJLKTJn+4PYhfdSGYYByGlx2+9taOliGNifBAtENeuRVb7PJ/jlo0WDsYryOJhHFtTkw2zZwfFeHiPrixQsp++bGVMCK/l9zWWOZ+fHcdrtIj15V7qmsFBwKJpDMkxt9Fa8fLLL3folAqbzz777JCTC0bBq+yPDh/NgL6Q2R91dT3TERnQwYzBzml+9/tTYLW2ISHBXFJh9PsTWq4g6e/tqnFVzlU6syj+/GcHWlqA1asDIkMh1nXyfLmq5zm0DshVfbSVwOiOYQ0Nlupetsy8SZGTLydlugg4+ZMcyZgHZmZIUjFhAp/LL8hGZWUi3O4QioraYj0innnGjWPHIpP8/Pka/vEfPeIZaVGQ7omYF/fgoCw9Lk/l58RJ2miZIAnj5E38GKBMdw/lwmmxiMZY9tPfLT9HqpFKVxD7Y8Cq2fcbTdkf/cW8q+uZ/ZGe3kGEpavT475nuqVCBlGSQEipbgZo8jjJhpTXjjsi9YZCQCFgGgJcYRYUcCLWhH/ftI6hr/456Ruj8rvrn+PhSviJJxJw8aJ+9qFDTjz3nAcTJnRe38jzZb9c2f761w4x4XLyIYmRq1uOQ7pjqLlQX28Xq9/jx/VMDzNW27wX//75n51wtmvocXL+4AM9DZmTMEuE//GPVly86EBODrBpE4RIFQlUrKbHi3R+R3cJdcak85ldH2EsBoM4OXnT1UErCCd0o/uDVgLiGa8Metd36Nu7JDZGQsFeeMxsUtG30amr+oqA6aSCipckDpJQcGDcp5Im5bQVqejrR6WuUwgMPwQ4GfEvVmNxL/vpU6IQmH/x0vApX35pCxMKHuRkyxXy/fd3tnLwOF0mnGA5Ob77rh27d0sXBGWmHfibv9GDRWQ6JWWmqWQpGyd9WlVijVMnRTYxkRldEvLanm51cTT9ngwKra+naqYF2dkafvUrK776VSoMx+6Nz1VbawdTVUlKzI5fIHYsnkYLkbQ8ME5Fd3P03xIS+6m6P0oLjDFolfscn2ojGwHTSUU8OFRMRTxk1HGFwOhDgITCvfmX4QdjHQ5Z4IsZCQwCZMqjbNLaIF9zawwEbWigy8Mh3A5UnGxro6S1Be+9R+VIpyAcOimwCoVNXs/CXrJJKwWtGWy8HwnFSy+5wqvlrop50d1CKwlLeXMlTdGq3/7WLgIgWSfjxhsD8PvtIgOE5IbKrPQsf/aZDZ9+CrBuxwMPhMLZInJc3N58cwApKRAxA3RNRGd5GM/t6360xYf96K4lTuQWETTa276JCbNUaF1gDElvx80xsc4MiSMbY2iUlaK3n8LwO9/2k5/85CdmDovkga6OKVOmCL0K9s2gzR//+MfCWnHTTTeZebte9+X3B8E/1QYHAUoTU6VNxbEMDt7Rd2E6Y2KiC16vPyw2FX1OT1+7X98G5+9fh+PgAYTyC6ClpcW91HH4ULgQGDMPzu2/ii3lq8OTMOMQKG9NQa4bbwzi7rs7x3swyNQY/ElfP6/jRM0+KdFNvz9jJ86ft2H58qCI6+CKf/x4xjpoQqODgZqrVgWE//6Pf7SLmAgW8GK8wtmzEYtGZaUFS5YEw6REPhzJDQkEXSqMp+DET4JBiwTxpaQ2J1X+kazQtcA/kgtOvA4H76GB2g+0xhhls3kPuj9IiHi9TozknQduy4n897/Xn+nYMTuKivTqqr254y9/6cKVK9T80AkRLSKZmRGi2JO+SPyKi0Pib6AIBeO6WBfG4+lsCevJGHt7DskahcdoGdJdWL3tYWjOl7/V/b276ZYKuj9YSfShhx4SY2PVUr6WTQZw0hVCvQnVFAIKgeGDACdDBiHyx9A4wTkO7of15Al9oJ42uHZsQ+v3/zbuwDVpGmgXtqppTMC5c5xsdVfD2rV+EUDJH+B4P7y8v9drEzEKDNRcsCAkAjyZYshxsl5GQoI+idE3zxUz++LETqEs7sv+SQJ27iQZ0YdcVWVDdnbnTBDDsMPPJrMr5AG+plYCx8TzOakeO2YTK3Xek8SEaqE7dzrE+7I4XSCgCW0OFvaKhbHsfzC2Bw4wKyiCHZ8plqhYvLEQ1+h4CJKoWBaneH2M1uOvvuoUAmJ8PuJK4bKx1EwnFVS5NMZTxANTuUPiIaOOKwSGBgGuqjdvjmj/U0RJmrQtnEWMzRM7k0GewhgKujxIRM5VJWKH6xuoOqe7EK67jpO+Hhgoz4+1pX+drg4SCE7e48bpxbGuvz6Ay5dJfmzC0sFr6Y9naqcxm8DozqBVQxIKns99WjlodZDWELo0YjWSBypiypZXcxhZJ0vRGnLhTOFNaE7K7eA+YEyE282aNwH88pcOWK2akL1mAbC8PA3/8A9uXLqkp49+4xsBkSXCzBESFaaldiciJsfRny2xIhmSLRaZku/F2vJ8WoAoLCabLPkuX4/FLcmrERPu85iRoI92XEwnFdE1P0Y7gOr5FAKjBYHoFTlXs5JUBKZNh33Xx+FHDc2YGd6PtyNjKF4tSwBLqrNxte5r8sC580NYmxrhv24ugtNndOhC+upZ/IsuiuJifbI/fNgqUg4ZW8FVdnp6CFOm6OSkpCQorAXG1TPTO2+9Ve86Pz8kLBfsm42T++TJISxbRiEqPeMg3sRKksDVJ/uejHKU1L6BxnSSGgtSWmpQvuFxkY5pfAjixj+Spx07EpCdHcT993tE/ZHycp5JawuwfbsDFouu0MmjugXE3iurgfG+Pd2nZgmJDJ+J5KCnglvG/hkPQdEuWoj4nPEsTsZrRvu+TkA7PmWsYx3PGF2vTCcVhId1PijVTbfHE088ARYB279//7DQqRhdH596GoWAeQhET6pczcoWysmFZ9MjMbM55DnxtlOmaEI9k9YBrthurn4N9tpz4nTXyRPwbviaIBYkNZykjh9nfQ1KeXOVx4BLq0jJpDWCfncW4DKu/kgKWHdj717dvcH4AJaGbmy0iiBACkdxwrvrrgD+9CfdEsMYDjkJym288fP973/fK+459cIZ2HfprpXMTLoArqBk3WVortjxJcuXB/CVr4REhdiWlpCwvBjv09ysu3KMx2iZ6arRaMR4huPHLaLC6SOPeDuIUzF4koSK8SdMEY31fHRTTJ/OjBDdZdTV/eK9x++L2Zkq8e41Uo4T67lzQ2HJdlrLYuE/Up6nL+M0nVQwpuKHP/whNm3ahIvtiegs9rVjxw6lU9GXT0hdoxAYJAS4Wr1wQfcHcwKnGd7YSCx8ObnGQz3a50qcNS8Y/0BlSff5E7D7ztBsIYI9bXW1qEqb2a4gqaGqisGLVsyfH8CVK6xfors35ARmO3US0w/uh9/mxuFxq/DWgQKEQpqIkaiv1wPk2tosSE7WhG4FLS5cVV+9asX48XocRXW1TEvt0SOIk0iIAq6IxYbEJakgDa1dBKxG937LLX7s3u0S7hfWP7nttkAHFwzPp0umq7Z1qxPvvquPn6qmwaALTz6pu6dIzKQAF1NpKXxFEhavjbUJLx4OZh5nbEpJie6OiybqZt5nuPZlOqnYsmWLKENOUsEsEDa6RF544QWsXr1a6VQM12+CGteYR4A/gAwq68/q1V56FM6d7wOeNtBFQheIw6G1B2XqwY2J+y7BErgi8LY0NcJSW4vG7Mjq/EbHXqRcOgF7xgy45izF2rVBQRBorv/kt5dxb+12UYej9JANnuAlHMBTQthr0iQ9e4JxCSzexQwPWjQ4cZJY0L8tTdFGX7elsVG4YkKpaYLk8Br+6XEH+riY7kh8rrrGo6JoI7LP7MXkYie8t6zp1fdm9uwQfvITrwjgo7VAyoenptpAgsAgVB7rqlG3Qzamru7ZQzeVTVxHdxEzYyjApU9onYNR5bVqO3AIDFQmy8CN2LyeTScVTB+NFVfBcuiqKQQUAsMfgf6sXiWh4FMySJMkY8aMReFsCR63T8yF1uCBpaUFoZwcaDk5giTQOlJw6iNM9X8Eb5oFhTgDZ/5lZC1cjf/9v3U9idymciFs5XQyJZRlltuQFyzH7srJ8Pv1Il233+7Hxx87RLYJJ10aEpiREd1IMBhMykwWkiC4E3Bu+dfx0ptTcfUqq6hawaJgtFB8+KELCxeGBBlwuYoBazEmejRsTItYc5h6StcD4xRYpySW2BbHoLseOk72JBJz5kSPMPZrEg9m0vDZSJxoCWKdEN5//vwgGHsiW3JyhKzJY2qrEBhIBEwnFUwhpauDLg9j2759O/Lz842H1L5CQCEw2hCIygphMCb9+jTLM1aAE2rip7MQqIjUGAhm54hVNa0k9f/rPFKhIT8/KOIiQvZq1DRG5JxrM2Zi5rk/CUJB6Npc41DeNknEKly7piEpySIyK5jtwQBCTrz8o6uB/m3pGmBmC8mT49VPdELBzjxtOPtfn6K0ZroIEKXFJhDQC7LRilBerpcELy62ICNDzxrhM3FVyq0ue627LjjJk4z0h6DF+2o88ogPzc0unDhBKwywYIFOmGh9YVYJ9S74/NTD0JU+4/WkjisEzEfAdFLx5JNP4p577umgTfHUU08JokEXiGoKAYXA6EWALo+wnoU7QWR38GmNq3bvhvuEi8R27iyCk4vC2R+cnLNXZcF+4GwYoD1lmXi3woEvv7RjwoQgkJqG4/O/gfmTd+PapQR85r8ZjX+mCFZIxG1QorumxioICZU7+ZqS2S+/bBciW5s2xQ5clDeU1TwpasXW2soCaPoLunGYWspS4hkZQZHGyjHTVULSpIsdRSwQdEVILQjZvxlb3vPHP9YLjhlTgNl3cjKE1LWUu6b1RzWFwGAiMCCKmnfeeSeOHz8ulDSbm5vh9Xrx85//HEOtpklglaLmYH69AKnSphQ1Bxd3eTczFTVln11tA8WzGVUJrWACfMtLYIEGLSm54yV2OxzHjsJSVQVrbS0YqCmuAxDKz4e1tQVWnxcnrcV4K3A7QlY7MjJCaG214rbbgsicOQ4VGQtgmz8bd37DBQZd0ioRJOdI1dMjWUacgZkkFNSJmDlTE+TgD39wiBU+V/H5+Rq0tHSR0SLYhzsBF+avw+HyDGHd4ITMwE6qflKhc8IEinFRBpyWFD3zgcTh17+2C8tAWZmu0qnraViEiqcj6EHCwf3A+fPwJaYIbDqC0fNXdPfs22cXJIakgeqVvD+VQNmos8EUWYpQ6ZYKCzZsML/qZ89HPDzOHGxFzeHx1L0fhfyt7v2VHa8YkNLnHW8xvF6p0ueD+3mMtNLn/OEeiohtms+pysgmgwLN+KRIKrKyUtDY2CrSGvvTJ1fs9NtzpcwYgITGGmFxoDAWxa4Cc+aK7nlO0ntvIa/mkHATBOfOg3fdXeI9ruqvHLyAoo9eEWmicjzeB76F+tRJHTA4eNAuXArEhumleXkhMXG+8IJDkAWmnX77236RHSLdGuzvgQcCwnLw6qsOIWzFyXfRoqA45vdTYCoI6lY88ohutQgHaubkwAM3/uM/nCBBGD8e+N739KyKf/93Fy5f1jMzmF4qvyNMZT16VI9hIKlhtsq99/rBNFbilLDlv+Csr4fFEoLP6kDbo9+D5nLLx+7VlsJedHGwkfDQXcR7qNY1Aqr0edf4yHeHVelzppFSh6InjboVqikEhhsCJBM7duiTEH+wucKjT3wwGu9tVIIsLTWvVHdX42ctD+GqcCfAd+uaMCmIdQ0ndikAxfdJHL7X+KtwPILz7TdF0OWu0wU4/Kc63HD4CBphRVGRhjwcgW3OPJzHZLGqz2iyInSGMQp25ObqcQchX0cMTp1yiqBDY6ZDYqIVr7xiBUWx6Naw2Zjh4MS//3srcnJswlrBz4x/771Sj78PvAx/igdHrxThyKWvo6YmSbhIGB9RW2tDc7OuVcEaJsH2tNCKU9ZwhVNZ3ZRWjYQE9ssiYaxzEZGjNsZMMMV07txgWDCMQaBnPq0VJdg1zYKiIi/ST53qEudY2PMYCZ0kFHzNYFAStLS0zgGo8fpQxxUCg4GAKTEVFLnas2dPeLwkGMnJyeEsEL5fWVmJ4uJiIYYVPlHtKASGCQKcJKVcM3+wuQLtKr/fzGHTF897ysbJjMe6IzUkI2xy1Syv78mWWRkkFMzAYNQjszakpSHW9axVYRxj69katMDToRIoy5xXVEwATf6y0Qyfl6e/4iTIRovE7tZFyK06hCtXrPiirRi5TUXIPbcXztYGNI6bhBrMFNkX8+eHRHokLRVpaczCYHG6SJwAFSjZaDkhHsSNhbIKPvktrI424bqYbz2HtJTDOJdTItJbxQXtstscEyuXSuvL++/bhZVCPwd44w2HsDrI19wyfoIBp2y8L6/nd4diU7fe6hfj4Gdysmk8mmt1KwvPpQLnIkZW9qFxfCS7xs+ApcNVUwgMNwRMIRWs98E/ts2bN4vtiy++CGN9D2pW7Nu3b7g9vxqPQkAgwJW4sXFiH6wmtROM95OBdsZjxn2pmshjxhoXxnO62rddqYPj8Bd6EQzGMhRN6er0TlkM/szxSHKnAQagKLntrgUqUifhatpkjGs8D6c1AK3Fh7I9zfi8hjEOun7C9mvrkZVwPXKTQ2i8locfvfM2sg/uExoLmdiPugX3I/fGKSKbg4SCGHHSZuVRZnL4/Xp1z9TUkFjF04pCCwTjCzjRz2324HKI2RF69c3b5l3CmWy/SMHkg+blBeF0QlhO5IOTHDQ3698Dn88iMicovEVrBEuvy2a0TpA8bNyop5Wy8ucrr+iKnddfzxLpNhyfdg/mXPwANn8rzhSuQqY3D4XQK5n2xnXB+1D8S6asyuwVOSa1VQgMFwRMIRXGh6FENzNAjISC7/PYzJnd1wsw9qX2FQKDhQAnIqNfnhP1YDVOUtQ1oEQ1GycPaYWINQaawo1j5f6cOb2TW9a4UjfchHEFXTVaTWRKJlfMVNtsy/kmXB9S6MoD/4obhXAUa0p4PHbsx4NYZDuCG66+jBMX0tBy+C3MyDiNI/aNQlnTYrFAy83BFc7BAQ0pZw6j2QahuMlxFDUextSpk/Hmm8z8oDqmRViOEhP9OH7cJdwfnGhXrQrhtdec+PhjmyjDTSVNxlrMnjsXCSf3CTEpEgvtzsW4/QIx1snBrbcGhfvA+My0NjD2glaqpibGLVjBaqqs4dHY6BDuB6pdxqqTwc+EAZskNmwsxf4//ocHn06cj08mLUFlZQh1dcDJrQFUVtoEqeEzEUdp9TCOJdY+v6P8U00hMJwRMJ1U8GGZ+RGtU8FjqikEhisCnNgffdQvAgVpJejvjzcnGZrJOfExnbK7VSnP4R+vk7ELLPREeWn2YWx6qqLxCPkBJ7OIC6Xju51facnJCMxfCGttjQgcpAiVxeuJGUTI56CbYNq0EH7wg4jks4Y0oZhp7J3PKVfujoPNsHyQjPpS/Yzxl0vxUPKLmGGvweeTpuBEXSam1X4Oa0Y60vPcaLniCeN0onAijhyxCfntjAwSBV14ihkY8+YFxaTPTI+cnCD2vH4Fd556TbhO9lmvR3ntbThRchuKMsZj9Z2XRVor4yYW53QUpKLLy9hIlhhsydohLIDG/jVNr/PBoEhjIx8zFtOim+fcOVo6eI0FPp8mXDu8rrzcgddeY4CoX+DIeiaUIbfb6c6xY/r0jn3L+/AetKAZLSPyPbVVCAxXBEwnFZTnfvzxx0UMhSyBTkJB98dDDz00XHFQ41IIiAlNVuXsDxzRQY2MR+hpfIasHMn7MzCPE5eseSHHRKuBsew09+PFXzBYEKV1sGbmAuMjqrbn0+djeu5+BNsZS2DJsk6EgiTj04PJon4G7332S8YLODpoTsgxGbeSnMgsB96irQ3Iqj0p0kNducDtSZ9gcV0raibNRF7eFeSnWlCeNR72y9WozSiGddFcUDOCWRhsdJsQV2aAGAkfszluKX8ZTU0e+ELAfG0PXK25SE+/Dqs2zYIvJz7RYj8kcXv22EXF0699zScKkMmqqLwvXSSxmgzq5XsnT9pRUqK7NKhrwRYM6pLkJFmrVmnYuVMTUuIMMGWTW6a+xmokPNLVEY9cxrpOHVMIDDUCppMKEgmKXJFEsA4IG5U0H374YeECGeoHVvdXCAw0ApyojAF1DDvgSt848XOC5Eo0ehVq8EiIYUa/lmOnBYMTDyfs6dNjm8RZeMv1+u+ARBccHj+CN6/GpcJl7ZYQJ7KSv4sH1p5BUkEqWCxMNhIR7dfbcO64DzX1U6DNvgvLKn8vYiSSz7ph+/EGBAsnytM7bF3vvAXb0SPimO+Or4LppFnlpdhzKBlnWuaj0MOMiyCcAT/SCloxaU5A1N2wllVi+bppODzuEeSPz8Vtc4J47z1dCZPl0tno1qA1p6Ii8rMlXmttoDuF6bOMv1g6vR5f76KIlhwwseVnRYvBtWt6kCf7I0mQbc6czm4wXsP4C2MszOXLFqFjwS0VPPm5csvP/b33LMLiQWsSj1M/QwZZxpIP570loeA+ySXTa80gvPK51FYhMFAIRP73mHgHEgtppTCxW9WVQmBYIkCCsHu3TbggOClFuzpoVpeTCB+A7gTKOLPRRy/dBXzNSWzXrkjtBvYX3T/JCckE3+uqOSi6ZGgkGTtPlYQJz+Vrbvy5ehbWLWxfPrefa3vzLbz/R8YRWOFvO4+kit8jpaCchTaQaG0DiUPVNx4Pp3DKW7B/SSh4jGmmrT/4Ef5p+1ex25OIG7SP8JXzb6E+oRJ549qgpaeDGhe20qPQMjLhOncCy67WoHXNY6JLWiVYy0IP7tTAEuqMP2AQJGMoFi3SrRbHMicjxXteuC4cDqB2fM9it4wZP7whZbbp3pFuMOJsJII8R2pfMNWV4lkcIxvFsebNC+HQIauwUkydqn9GjLOgeBYJDyu06iXX/YLMkGBE9y86a08ZlfvcMmBUNYXASEBgQEjFSHhwNUaFgFkI/OY3jnASBFe5nJSobkiiwcm/pMQfjos4c8aKt9+2h1e5DA7k5CZN+lyNTptmCccwkKAYRY9k/zzOFTNbtLUj/FwUWDA2txveqCyXWPEZdRd8kHGb7CKnrUKU6p4+XRPxBrUnm/DSS3qWg9E0zzofxkaVy3d/1YoPP8sRqZzHHPNxd+urqKyyIHdqJrQJExBKS0eo/gpY/0O0hgZR5IuWEOmeID4kZXQDMcOi4velmOVtwJmD87HTnYLg1+/DyTdLEbjmhS9/Iu6+I5MOCONQYu7HenZaL4htLKuAkYQUF4dAt1ZREWuKBLFwYUAEeDJrhI1xFefO6doZZ89aYLXqqbUkETqZiDmk8EFmd0hySVLaHYEMX6h2FAJDjIAiFUP8AfTl9pxM+IMYb5XTlz7VNX1DgJ+FIatSdMLJhpOAJAo8yMmKAZgkEQcPMuiRAYCdTes8l5MOXQTyOqPoEY9ReZOTvlRynDs3hHXrOlobxLW3rEECJ/rmq8zFhK9kJRbXBtsLX4nuxTg5NprbaRHhuFNmzoP1/YPCfM8V9r7CDfiHOb9DYqKG48dteK/5BlFFlOZ/rsyPHXNj+fIgvrp2LtI/3YULp7xCJvpIUxHOpqaLG7Ec9wrnYdTZxiMrJwehnAAYZOC9825Y6mr1wfBfd4IQ0ZIHSCSMMSVVz27FnHPl4u1JVftwYcK3ced9SfgwY7EQpSLmVCRlYxAqs1ro2mGgJj8rkhI2kgaed+CAXv2Ux5jdQhIYrxEnNpIlCl3RivLoo3ogLd0cVVV6YCfPqaqyiCwXWjQo603RrKYmkqP4MR567/q/scil8X213z0CtAjSTZWba8W6dd2fr84wBwFFKszBcdB6McoCz5ihiQqQg3ZzdaNOCHCS4ErSGEMRi+zRJ05ywIm4aFwDPGVNsGdkIrPAHTcmgjfjJEd9BiNx4YR2/Asfplbtgz3gwfmW+ahdnCFIAX9IaV1game62wWNHVwNiEmVgZOcdElmZDZHtCWE8QoPPLAGVaVTcHrXZXzpnI/rFqfC8lgO3vjnL9GWk453mhbCVQoUFGhC3TI5WROlzc+fT8OSOU+i+lwpqpwJ+LN9AQovaLjuuhBOnLCgPnES0v10E7RbEdoJhHfD1+DcvUsfq9OFhH/7X+KhKe1tjN0gQRjvOY+qduEqe6ANhS1lSEtb1On/AV0/jg/e0z8vdwJqNjyCV3dkhz+nigonHn3UK/5OndKlx6M/NwqEiVLurBm0YiWmT18KXa5bJwZMZ5UkxOfTC5fJDBxmj1B5k+Sxulp3fRQV6YGhPSUWRnLZ6Ys3hAc4URu/Z/wODbdGq5J0MVZXkwRacNNNw22Uo3M8g0oqmpqaOulXjE5YB+apuNKSq1PegWqC0QGAA3PnMvWNcQAAIABJREFU0dsrJyquYvvTGDTJlT6tR1zpdzVp5NcewW1X34A3aEGxPxUJGzbB2U0tCJYOl/3rpEDD0mOvwFmvF4IoqDuCi6WP4P0D48KPQV2F7+S8CWtFuQjUtJSXC00Jz/r7OlhCeEG0JeTsWStaJ84Ebp6J2UIoKgRWCz1TqP8qF3o1UFEz7YuTmOUdhys5es2Pzz6zoaAgARV5y9CSagEa9FU9LQLTp1uxZEk+vqLNQfqf34K1+hp8q26B7WIF/PuPouWqBa5xNiRVnNSfoaEBrh3b0Pr9vw0/Ez+niTNcCAa9gkBxMhtforthwie17zg+3RU55GlDaPd+eDyR5SpJoFQtNVqUeBGtGTUnmrD8sz8Idw9JHAlKdUsRpkzJR3q6FW63Br8/MpkyS2TatIj2BQnK7NlBXLwITJrEbBBNxFR09d2IDHh47tGSVVbGrBSrECkjLvyeRafbDofRS70QOZZDh6BIhQRjgLemk4qf/vSnMcWvKIrFEugHDhwY4EcaW92rAK6+fd7hVSgnnImT4Nn4zb511O6uMAZbxuqIBaYOHLCh+Py74m1qPuQl1CNQekC4JWJdI49xIjL2T7P++epa1LarPGZmepBRcQL19TeIstzMgPB6Q7C4OsY4xIv2M1pCaPlIrTyPxNoEZGRMEkMg8ZrsqcTplgxcCo7HZHc1brH9J7Rk4GKDBUeuVmHvuNtEXQ2meLIxU4Or9CSbB/NdZzH9Vicc0yfCdiYFwYICEfFgqaqE9o//N768WghmeGRdq0DBdSkiG0V04mnrpJ0RXLsG02wU3GoTmSXeRTqhEecb/3G7wnVJeDhhnAvQvSbiLFqXpGopA0xFUKvbjX0Zt2PXngxkNDUKwk5rA/GfODGEwDWPyC6hpYcEkhPs1q0OzJoVEmSSAaQZGTrRYKzJggVBcf7x43pWyooV8fUomDrMRQPvRXEtaQExPtJQ7tM6sWOHXUinHz5sF5LpTqeGpiYNDz88lCOLfe/CQg1Hj0bemzw5dupu5Ay1ZxYCppMK1vl48MEH8corrwirBK0TTz/9NEgqlE5F/z42/uDQ5SHrHfCHq6dqfP278+i7Wpi1PW3iwbia56TCSpsD1biqprnd2hiCPUDp6PZVbh9Y4YXmcWKSdDr1lAC6VC7aJ4c1HfgMoZANwTtmwF72JeBrA9xJgjzFej5aQrg69zd7sPL0K5h8vhKOMjsqMuajPG+ZsIpMD7ag+QsbXsd6uLVqZGZpKCgIoaLCgelX9mJf0yxkpThw4UI2GhqYmRHAguJruOvif6L+bBNOf2hBZc4CVNoaUJKvazhQrKH5dC0Cabp+RoM7F+4z1WFSQbIntS7kuFmfhH9SC0Mej956b1mDxi1vi2fKnJoK16ol2FCkVy/luZy4+ZmQoLl2/C58ufPsZWDKk7hsH4/zDRlICV4VVonS00mY8N1s5Nbplh3qZ5CUUBacCpncJ460HLJJVwqtIDfeSI2KIFpaIpaN8A2ha5FIhVTG3DDNxhhHYjxX7tNqwNgO3ncw3A8yFoVkilYeWikyMhAuuy7HNVy2xJ34kAzxd3PDhlA8Tj1chjxqxmE6qfj5z38uSAWJBaW5aZ1ISUnByy+/3Ellc9SgOIgPEuuHaxBvP3pu1U4o5AMxtXGgG1efjjtWdPD195TI0FrgOHZUxB2EcpajdNpXMfPce6J415m8ZbAl54qKoEy/5A9+YWFQpGty8kWLD9ZsF/yLl4hHjJ6Q5Ko4o/YkEpuqYUsCKACVWHEIeS0tmDWtRQhREaLrmj7GqcxlqKlhbQwLxo0LIaWuHH/h24yUUxqsKfNwsPBukW65XDsEe1kDzp/nz4yG/NpDOJ9/A2przwn5bC7jmzKLACkIZXfhaMl3kb+ySTxnVwXOjGTDGGjKFF0GOf7LW3Px2ZGZyPTXAL5JeM7bJmJNoj9jFkEztryEq0jwNqImkI5t2X+NGyx70VYYQmXOfKzXEoTCKd0mDDwNE0MAdXV65VJJJox9drdPC4WxRb82vsd9EheKb3Fyp8VlMCrqyv8eJDGsv8LUXZKKvjxv9PMM1Gt+D0pKAFn6vA/8faCGNqr7NZ1UsOYHrRQkFVTWZKlzkgvVzENgOP9HNu8pB7YnijKFNRXcCULKeWDvqPdOEsHgQ5IYSmMbJ8fo+0uzvMXnhbW8XA9kBDB9RgUOXr8Rn2Toegy0XjGWgxYsWRGULg37ro8RysgUMRUhjx90+RxyL8e//ZtLZKPwnGee8YAqnoyryKl3I/McrQiRyppyTIHqK2g8Y0OlLR9vexciRTuJlJQz8DV60WhLR9DL2mQWTL5wGBeqb8DbLdmosSVjA9NHDO3shJUozk9Ggfu4sJxYbp8J60+3IqnhEmoKFmLGfcXwTY0jY2nox7jL8UvrHVf6gYANH31kBaxuVLkmAVUQ9UFY3VQG1NbW6rEA46ZNFzjJ/vKKXFi8JAUnTrCImBuegpU4Y2MdEFoF9EwP/v+jZoYxFiU7O3Ymj+y3qy1X0rqFQj+Lr42NVgK+LwNwWfpdPge3fL1xY9/vb7xXvH0G/tL9wefMy7Ni6tSgIFVMfVVNIWBEwBRScfHiRSHLbexYWinoDjFWJ122bJnxNLWvEBgSBJhZYC+cJMzogWkz+h2s2ZuHMKpXRl9Hy4LrnT/A9sXnwnURKJ4Na/0VYaaXVg2WLF//g86mdmpjMIWRk8+tJdeAzRRNsoDS0ZzbKbe1ZYsLte0ZnExL3byZE7g+idVmzBTVRZubz6GmxooTeTehMm0+xr/7JlK9dZjqd6DSUgCvxY3tKQ8haW0QX1y7iNUXNovYAaZO0griKtBEbME5zMOxqkOYOvm8KPt9ouh2JGe5kbdhMTxpi8SjT9y9CwVzPfB6MzHDVQFb+cfwTV0TDUuXryWhkCfV1XUkMjxOmXA5EfM192keTyvMBZU/7aVHyBxEfEtJjr7CXbPGKiZsni/dJfIetBiybgdXv3RB9scNyb7p8jDGVMj7MItB6lXo4zblJ1t23+Mtn4/6KwKzNOqY6Iqi0QSoxx2qE0ctAqZ8Q3fs2IHnn38+Jkh8j3+ynThxQu6qrUJgSBHoyrw+VAOjNYGkgUSC5gTGRITyC8Q+rRsiRdSdIIYXbbGiXDfjK+hjT81x4fK05Tj7q4OCUDS485Hpn4U5p3+PhVXnUeWajD3pt+HyZReuuy6y6t5/3YNIKq7C3sOJaHOlIaOpHDWZxbAmjMepQCrGBT1YOO48mjMnYsaMAN52TUK9Mw/ZtiqhKuktmonCydlh+E4u+joW3XAOhZYcZDrTkZPjg9vTCBYjI4GynT0Nu0sLByaGavWMlnAHPdihENXrrzuE9YXmeZKrO+4I4e239fgGWm/oIti+3RkmFsZATRmnIW/FTBu6GIgjr5PuIfk+t3yPxMKMxv7jxVBwEjc2WiweeCAAWlpIjPgcOikxnjUw+3xm/rGx5LxqCoFYCJhCKmiVUC6OWPCqYwqB3iHAwEE2ui2sLAbm9SKYlw9LwB8mFN4N93XqlD7vl17qKOTkTbgd5XMWIcURwmV7JuZs+zOWuz7H6ZAVyS2HROzFtFXrsHJlsMOqe86cTOw5z+wJfQKx2y3In52KqjabsHKk5Tqx4S/8CAQsmDQphE9S/hqFwXJQmnrNt/NxaIfuZihqPIINTTvgqtKQP3eeCIR1b9kmRDdsdbUIpaYJCwwDNoNFU8Qz9SW9l8GDzHhhhVE98wX4zne8WLmSVUOtWL5cD9ogQaCrgC3a8iABpf6CDJpk3AjgMI08yHv0Zqu7VSKy7YwZIZlkGicJx2AFavZmzOrcsY2AKaSipxCyWumsWbN6ero6TyEwqhEggWDWCeMqKK7EbWCOHuuhJSUhOG0GczMRmjET1zY90qHoVzQwNJMbzfucGLmCb07KRTDRhYDHj3RPjRCeSkrS9SPmzr6CyXfqEy6D2hiAqFs79JLr27Y50GibjII758BVd0gEQNbkLcCC22lx0CWzWftCj+OYAH86A/d8YsK7dtmLKa9tF8SFY2X8iu38eaC5CZaWFgSPncQlbzZqM2ZguqMcyePGITihEL5bu3d90MVC1VJOrjS/nztnERoREhNaGRhjMns2V9ORFTXP7y72gNkCsjG9tvloLSy3JAyqe0zen1u6HVavDoosBloJpEXDaDUwnq/2FQJDjYDppILxFUwhNcZRGB9SuT+MaKj9gUCAEwNXcUwrizZd0299+rQN1I2QptyBGEN3fTKbw/3qr8JaCqwM2vbwX4kgTu8D3xL1L+jqkHEU8fojKaFbxBFYACCjw2mrVgVRXW2F3w9R1KrwxgmwnT+DwuxWNKQkIHGx7qaguV+uzt1uuyAFPNbczO40/N66HpseXSH6TklLQ0p7DAZFrUpLnWG1z5ISXSmTuKajLUwo5KAsrS3iSkswgJo6K/yOANr8dhzxT8XkpXchfUGhPDXulrVTnnvOifp6PaXz7//eC8qUG0XhqAHCxu8BrRiSKMXqlEGQjEPh92TdOr8o6FZRYRMZIEtKX8GktHokvBQScRdD5S4jQeKfagqBkYCA6aSCJc+pTSHLn2/YsEHgwDLozzzzjGmYUPeirKwMq1evVtYP01Ad+R0ZJ0gKCtFMLMkDJxlGsLMx+G3DBio9Rlayg/n09tMnw4SC97XUVAtXAIM4mR1ilKeONy73q/+tK2YCWOrYjy9Tv4uKJl0dlHEFfG7Wprh2zYXERD+sTXNw9ek/oPFQOZqS8/Fe6iLctcAaJhS8D60dDEBkTQ8WxGLjCv9kyTghAFV6UNdkIG6ciL/zHZ+IP5BmeLph9GyMbNx3MQtzcQSW7ExoaenwrbwRjvffRQPS4bEloSGlQPTfnDQeZ4KTsbgHRcBeftnZXkhNA6Ww/8//ceF//vVhzD34OWqb3Ei+ayVmzMkSxb0k0SBRokZINMHk98EYBMnaLN//vp5a3PzbvZiRU4/8fP374f3TLuxtWjjkZFQApv5RCAxjBEwnFcz2YHwFS5+/956uvb9p0yYx8f/sZz/rd0l0Ehamq7LxHtTBYEaJmYRlGH9eamjdICBX3DyNEySLb9G0z0Z/ubHxdV9IBc3r/OvK2sHJlS4JTmTRMtAcQ6cMEFEHI9c4vA777It9Gq0vQoK7/Sybvw0bFx7E+4GbkZzc8Z6TJ1NOGbB++D5ONqahJWeeuGrqhY9x8ODXkGz3IvPCYYxrLEdlzjxYrTOENYcql2ynT1tw9aoF77wTidmQJdsZWDrtQjmChZMQSJsr5MSZjUE58uaKq7jkcmBiwjW0/cW3EJg6Xbg4Ek+fwvbUv4SvtkH035Q/E9+cFhKuIFps/NfNRXD6DPFe9D/M4jA2V1sDkt/6HWY4gRlZAMoqcXX5Y9izxyZcJLRU0EVD/KJX+9SWMDZ+XyTGztoA7Ad0QkG30NELNuwK6iSEgZIkWqopBBQCnREwnVTwFhS7YpswYQIYR8G2fPlyYVkQL/rxz/bt24Ul5MMPPxS9PPzww7jllltw7733KotFP3AdLZcyGt4YW8BsCNmYamls0a+N78XbN1pCKLvNuh/RaXWcmLjqlToGNK8bZbbZNy0RgZU3wX5gPyx+Hzzr7ox3yw6rblpfwqtuZoG0i3hx8vzte1k4l6ZPlFev6qqMtDqcOQPk5tpxz1VvB5eEI+gR2SL3Jb2DqnO6pnGRtwxJyffhvbw5kPUT+HyXL1s74MosBN+7u5B46GMxbsZMsPR5Y+Mt4jUJC9tV13gUZAZhO3lCkAqSKV9OLm6/jhVDJwj3xKrFQWQffBf2A/vENa6TJ8AiY7GIxW23BVBe7oTXq4EBpOsnfy6uCf/T0IDE2gocO1YspL/pvuFzNLRLmofPg16rw2ipoEKttGbQ7UTCRHxZcVTWPeH1JKOKVBiRVPsKgQgCppOKgoKCsHomgzJlOiljLcxojNUggZCNYlu8z969exWpkKCM4S0D2d5+W7dIcDVttBLQYsHqlCQdFH6SFozewBVtCeEKWAbPyX5YL0ISCh7jBCw1COQ53HJFTn0EzdMmtCk8aWmdLBgkKNKMz2s4drnqZlCjlBs/nbwAOysXoO6EVRCHpqagKLfNqpqskpmW5kDwxhKsy3oVhw7ZhXbFocmL8X/NDaLo6CFMXM6+dZVIz7UyzJ07Gzk5ejoj663J1b5x/Im1hmIaLDVeUQ5izucN2F2AV0+9pCjWx+86sPeoU8Q/sEw7XTPGcu32HUdRVaVbgGw2DVkJx5A9fQb+9V9dQsgqPd2CH/zAgzVrAiJ19eOPbaLc+tLCKcBmfYEhxuZOQGvOREyeHBIWFh7j+BP0LFzj8AUZpNWBJIHuG2NqJrNQ2h79Hqy1tTienozKhvHha41ENXxQ7SgEFAICAdNJBV0f99xzD374wx/iueeeAwuM3XrrreJmS5f2v7YCCUQ0QaHLpVmPKuv2Y7VaKS9s+mN3e9+xeoLdrk/wg4X5okUQpbaZIaBbECKf9YQJwN//vbH8dEd3SE8+o8xMazgwkednZaHT9yklxQJNs7b7/iHGkZJiBwswGZtj325Ym5sAmxWWa41I/elP0JQ5GYdr8vBJwf2YvjQNt888i3RPssjiSPA2CI2HdKTC6UwBFi1EYNFC0eWh39hxbWcTcoKNaLal4ezZcWhutqGyUi+7zdLpWw/Mwbnr/ha+rCM44yhGU2Iutm/X8KMpU2ArPw9W2gQscE/Ox4NrNRw4YEHGvncxt2EPkj9zI5hxOz5qZEAocNddIbgqMmCtuSBeiyszM3DzzZRFBupzbsfcz/4nMttq8MWxKTi2aBVsNiu+/NKKggJWLA2JWA4SmaVLg2jOLML5D/UKpcGgBZ9VTUXTVjc+/tgqdDbovvmXf0nA1q1eZGVZsGSJRfRjn1AA7RsbYdu/D3C7hPWHWC9cCGRnayLNlNaHhQtj/7+fOhWYOlV+LpHvingoZzKQkoyb7rfg4q9saGvTyejNN2udPvMwCDF2LBZKp1t7dU2MbtShPiJA7NXvfvfgESMzWtT/ov53SZcHXROMfWCjZLe0VtBV0d/GOIr169dj9uzZwjIh3SE97ZdfsLS03skA97RvdV58BNLSYiwV45/e73dycuJ30Z9K5+vXA6+/zlU9MH489Q6EEGOHm02fDly9SguFfpjEY+LEGCW6rSHAbtE7u1AOXLuGC63TYG2owzz/H+E41YK28dV4xA7sOVGE5OYqZCV7sOCQGyjeCDBYor3NSz2PhOZXEWzxwGd149LkDciu+ALzm88LAvFRwlcQDLpR7cnCpcxbkeGrRqvdhqoqIOHxrwJ//COESWPBAmD1KiQBmNhaBhw5ALjtgBbAOssHuOGppUKxU7iOPHcDfIayMhYLAdbfLcBYvZpmmDNAy3igwY3WQynIbbuE6jQ924S1SaiHxwxTNlaTvHvZWnjeb4Hb04DLWcW4ULACoau67kT7I4pslKqqBGzbph/Zvx/4yleA66+fDyyZL08T2+9+F9izR0higI8UE/8OV8R/we/Lj3+sw8PPnNoVbOyf3wP2T8tXV81ms8PlMv3ntqtbqveiEBjs36Co2w/7l36/ORlGFk3TJE03/aEZT8H4ChINMxtdHcwyYWOsBi0XvEdPBLhaWrxobY1dgtjMMaq+dARooeB/5ro6kZ84amChJURmlUQ/lMwyoRgTGyfRWMF9zvffRcLz/484x9rcjMC8+fjswkQRC6BZbLBoQVG0icW96N9vnTIbzkTduhJdrl37/36Fw29cEIJUlMvOdVyFJTMdn3xiQyBgxZHE5ch5aDXSXB5YX96KTH+1IB8pT34Ttz3UMRVVHzVE4KTjAz3YWh7zxNHLoJtGDya1gKmm417613C8B0uEl6EYh4q/Lrq57bYg3n03YiWiHsSDwS2oOVwHD9yiWJpvykzMnx/Cs89GyBiVP+fODXaokyEDRqnOSVcQU3WJja9kpRxyeEs3xwcf6Pel9kN04Gb4xB7sUMFTyoMzjseYZRR9+bhxSfD5AuBvj2qDj4AsKNbQ0Dr4Nx9Bd3Q4bEhPT+z3iAeEOnPCZwopXRIsKMbGFFBZDr0/oyaBYBzF1q1bw93Q3bJ27drwa7UzthHg5MHAxWnTgp2CKM1CJhah4ITGYMUMK5etWR2CIrMvHUbijvfFRBtYskyIPNm/PIbA4qVCkjvUntZABUUGBtanTUZmwxnk5ESyDKLdJ8ZnSUjQxCTM2A1aEfKD19CYmiZcAKz9cV1qNaYsD2JB9U58nlwlAhcLs9uwwv86/PgrEVcQjRlrojg+3RUmB5ysO2WttA/CGJh64IALf5s3Ea5zuiQ/SVEwOxv2SXqNDD6TkVQwqDMlrRrj57OUdisKLX9C+sNFImjyH77fiKb/3IZCRxWmTczG+45voALjwo8ug21ZL4Xy5myM7aBap1FXgrhIQsFzuM9gy+gg23DHcXZIJplR9NFHNlFciwqejHMxZhnFuXRADsvAYRIbxvYYY4gG5IaqU4VANwiYTipIHjZv3iziKWhRYKNWBfdZtZTEoj+N2hRMTd25c6fohu4PEg1VqKw/qI6ea40rSEb2b9rk7/XE0Rc0mArp2rFNTMCF7gSsmnQ/PiovEl1xVZzxqU4oeIBZDkKHwtMmpLcpw82mFU1BYcEEXK3Ngz1hEqYeeQUZWpVQuvzCeS8SPq8SwlVFs1zwr7hRXCP/Ea/PbYPd7kXI6YZ3XgkqP7ggylRnZwPliTPwb//mwOrmEGZpzMzSycrpUh++MKy6JWbjUS0IhGfjN5Hw31tgra5CqGiKqNdhrKzKSqpNJ2uhHS8AMmYKMnf4sBXPZN6Jv754AMXWk7AsnIup912HolQ9tZdjpo4GA2pJZHxNPpRVWSkeKlRAXWltaHXpT3aD90PYFrUHeTdW45aUP+Ji7gNoPVuDefUfoyR4Fs7UuWFCQasI9StOHa5CWfFSuFwhEb8RK3WY95bF1CSOXW1JKLZs0QN9mVLMMvNMK2YbiuBNEiUZOExiQzy7Evrq6tnUewoBsxAwnVSQUFAzgrEPMp2UrokXX3wRZgRqsl8SCQZ/MtPkyy+/FFYLWi9UUwhIk7REguqZlJQe6Ob49JPwip5piKu0P2P5D3RxJ1ow8IEusEBLBgmIJRQS9S6s5e2BBe4EeG5bJ+SgiwHwD7f/JbwXKvDaK6m4nJMjVB4PeRuwclkKiguTOzxSfeok/Mb2XVjTGtDmSscEn4aF+dvhu9aEo4W3Y/fJQszV9qI2lIW8BpY3Z4CphtMTVoXN+OwwwdsI7V+3wD2uHnAnIDh1KjS/H8HMLFjPndWzVNbrtUeo5kn3SKrXggVlVrAK6Z8ab0BLC7AUf8KVUDqOpy9DsSMIko/Q4kigNlfU/Pvtbx24HFiKomNlaGlpw7lzVkz7duQ8gZ3hSROtHuFqcL/6dlj4Cwf2wWK3o/JCSBAKnn7wShFOH7Zi2TI9IDQ9XRMBpMePW5HfdAIzJ7UhN40xKVF5xoZ7Re/SGsHJm41WMH63SEyo6NkfV0r0fXr6mvoZ0Y3HVLprNCrq9WAiYDqp4OA52Uc3Myd9EhQSFgaDMqZCNYWARKArnQp5zmBs29os+Gy3/t9r8eI0uCZOEhOrjdoHtJn7/bDW1MC39iuwhILCVG+0AMgxkixctutxBawayr/6EK0MEaLEyT2w+QMsu2AREztJReEf/l/MXHwN10I2aKfO4O7KdzAptxVtXuBQ4lzUTciHN28i1tydiY+3WnHsmFXEctzh2wX3TF2UiuTI9ce3ESicKIcDq4w+ZazIKT1bg6v0adM0XK07gSBuQF6ehrw6Pd000D5MIWplIBWyQ8adsD7JZ/P/Gjn1J5AwayImlkRiPFgLxVkRSV2V2hVG4S/2FbhuDuotFlytb0JNwmSUVc8D2sW7+L6s9llS8Rrym8qQ3aYh5ZdO+B77nqi5IsfT1ZZpp7JlZGi46aZgWIFTHh/MLa0SVAuVRIc6G4pQDOYnoO4VCwHTSQVTPl9++eVOkz1TS/PzdTNvrIH09hjvo5pCIBoBVqLcsUMvCz1jhtbrFSQDDqUAUnTfXb2m+8FVWyusFUFHArZevBVV7YqNrI/x6MP3wfnBe2EpblHCnO6PrKwOkzbvwZgQmto5QdBsL7Uf+B5JE03uH/0pAO9v/oDCmgOY6roE9yRW+XRg5rk/IfVaFdzwiD44qd/a+iaO2icKC8K4cRpK/EfR+s2vCglq9k+OE6+FsiJlzFkIjD4KkhiKQ4ngjfYLGSexbqUdqYU+Ea9wCfMwvXwnJgTqYKuyidoZse7B+7PWBslSed4yrBY1LiJR6IyLIFasahrMzgkLYgXn6oXXZJ+BKdOQtHAm9vt1ApbWpgfI8n1ixtiJA+834rqmMnFJa6sFLVc8cJ861SH2QvYXa0vLinQ5yBiGWOcN1jF+TxkgSgsKiZ2Kpxgs5NV9ukKgi5+Tri6L/57UqZDaFMz+kHU6SDZUUwgMJAKciGX9ht7ch2SCZITCTZwwSE56suqTWSCMkWh84K+EjsTpy+NQ9V5m+PbUiKioTcTEFTfBdvp0xE0ipLk75r4y8O7szgtg8CIjCVyPrMDGjRME0WARrWXL/EJKumXbB8ivL4M1FISnvAZZyRry8maKIE+HUw9SlebxgDNRWA8oQsVnyp/ihHdVxNLBuAO6CdhYHyTQeDA8ds9994t9Egnboc8RJKn44D3hwvHesgbuxkZRt0TLHQ++XpwWFEJSzafmYta2bUjTriFgyUTFu6dRVrtQkCQjrpwIaQGgZDaDVGPFPtA6IS0UcmAU/rLn5IpxSFnvHGgihqbmozP4pn8vLAluVBffhKkrskQ66udfJmFGo56LT37EJsid7LQHWwZDtsvu9ODsgT+FAcN9EXHr78jk976//ajrRx8CppMKujneeOMNEfdA9UvpomCBMbNTS0ffx6GeaKgQYDokCQUxfVUKAAAgAElEQVQbzcnvvGMXxbLijcdIQhobrQgGNWRkZGPu3ExhHWGaJIkBYxQq8pchNTVfxEt4N9wHEX8BiAyQo6eShIw0V9L0y58+0IxFZb+FPaDHYIR+VY0y5yP44GPdJdDSYhfnUQiLzev4/9s78zipqjPvP1VdvUE3IEKzCkE2UVADLgkKEdBMAI2gY4JxI3knkiiYz4yZieAfw+SNmJlJ5v0Eje8kmTeuibgCMRE/UUM0aGRTEBUEIiI7AtI0Sy9VXe/ne4pTdet2Vdet6lvV2/N8Pk3d5ZznnPO7RZ3nPmtXiYTKJFpbJ0NGN8qQz/eQ2llflNKle+XEiYNy8FgX2XDubDljx1qpiBBGWi7VX5yc5EmARsf6opys+pzIN++QhqMfGmdSG+2BLwhFzywRaRGdcb2prGqv2U8Eg5JPN0toZD8JSz9Tg+Pg61tlXThWvIzwWjYlm/kUnwSyaxIWGtx10Gz0ZLQkmyVRHBy7yZSLH3dxkyquOJh+bseSWCqJsMiw7R/LyWn/KMeOBSVSXCrPhmfKl08uk169onJq5AUSSlNjxD0e2iO0FFRATSX4uNt35PMlSxLCt0acdOQnndvafBcqmAaCBUXE+FNSBNoDAmxyTkK70BxZIQSfgPffD0gohBYhbFJqs/GQd2HPvoOmPsX4npulUr4rUeluNurIrJsMa3jYjZULOP2dV7teeh/eIg2hMjnetY+cUX5Knvl9jUi3mFDB5j9oUECigweLvPuxNAZDcuTssTJgUk+jxm8Yd5HxEaCMevcpB+RvbwyU/fvL5MVD42TkwL3GhFC2JiBzPp+o2knJ7/r6YtmzJ2jSYJ85tJs0SMJZkrk1eaOn7kgz5GzPZhwOJdp/9FFQVq9OOBmShnzEoHr53EsPy6Ht1RKqPSH9e5yUon4xbU/9tGs8myhC27clz6r2lNFm1NR8zmh46s4eI79rHC4ljbUyfHy5VEoiZDe5Y+LMhm1yhbkSudJZTQ0IV07hG2w6KxaJb4geORHIi1BBBAimDtJnQ5hAMIv4kVHTOXk9VgT8QoAfRhueB0/SSDdHsXBEMcmm8Js8dIhqnkWmRkZ030EZXLpPBo9PcAi/v6lJQiYKjTnp8Bvb5JqTL0ttwx6pPxaWqspaOaP/cDlVm5yukXR1l937Bdn9bLGUH/hE+l4xTE6OHeNkZY6Le3eXW4a/KcdH9ZcHwkMlEomZWnbsCMgTT5SY2hmsmwiM1atjVVAPHw7Jd795SoZuesGki7SJpPChwNnS5IIoKxc0Lm4yJhKcN8vK5KMRX5azR8TahyrKZd3nYomv6NPQ4O4pEv3rOtn81xqDZ9WRvfJZ7X7p9feXmYYlb/7Fs1Bh6qmsihUzM5179DCCXOUuIjaiRmuCtmbQiFIpKfGWBI/wUSfx3DrrRmq/9xYP6yRqz/VTEfBdqCDck+RXaCls7giECxw1MYV4yXqpj0URKDQCmB/mzGkwTm/Y+DNtGoQUUqWUPAc1NUEhMS1+mseOFckZc3uLbEhUEGUtJi+Fa1GxBFoJDcnQT1dLl16lUnHFOWYDly51cnzW9XLW+m6yNRZoYfw9mBtOekNvGici/DUlTAnlv/i/Eqg7JWcGS+W8bWPk3bOvNiGbJNfq1i0ghw/Hskv+8Y8hOZ1V36j4q3/xvAR7fWSYOhNJ1Z4OJW06WiwSBF8L/DZwHPys9Hn5/Ze+LTPIE4IL6YpikQNiwi8pCnboUEyFDi98WEjedfx0tEZjsEjCkVjEhjPiItW47muYSqhwioCDcGMza+JIGqttEIvgoM6J07fDzcd5znM6cCDxnHCc7ayEkzDfeytMYLpSUgScCORFqEBwcJs+iNagZocKFU749bgtIZCN0xtCCJ73lCI/ciRs3rAxhVRVkUY6KH1mfcPkdGBz5y0/lVCBPXr79lJZuzYo557bKEO+2FtObNghR6rPkOpoT6k8d4T0PmuQzDirQd56q0iOHw/IhAnhZqNTMDUgcPTaHivbLQGzt8qXur8jeyuulK0NFcYvoGvX2MbIW3fs7TOxUZbu20lC0DgV7dqZUVNAdAbEW304HJWSEwdM4bU33wzJjBkNBqs4QxFTCj6W1luMAPfhxkvkVOn7Ul73mRytGCANXXpI79NzxAE0E+HjYnM0pHLsxLx1xhkRGTIkVsW1srLRCFA8x0w0aVJYamtDRu0fy0mRcHLN1Lej3ef/CN/77duD5nuWSfjuaOvX9WRGwHehgiFThXumupZ5etpCEWi7CPADO21agxEMamsTb2y8AePgiF9Dc7R+fchUvuSHGdPJDz6aIuM/OSJVJ3dI8Vl95L1DV8iE92LaBEp9Q7zhz5rV1H7gdByl3ddGdJFzHYOzeX7rjqD0XNYgH31QJ6O3vCDFkVoZ0GOQ7L30Clm/PiZcEIHR7dwRIqc2x3u/feRs2bSk2DgopkvyRLgnPyZEVeCb8WlRX1mzJiQ9eqTfgFk3QtAvflEqtbUlcnLI7TKoZL+U9SiVS/+uq4S77Zf6NI6a8cmJCLVWVqyIhRFT2OvrX29oUpcFwYkaLJRwt+QWpux19yfPORXm7nad5Rw80n0POgsGus70CBQtXLhwYfrb2d/BSfOnP/2pTJ8+XUodAf+YP4YMGdLqNTqoxOZXNbbs0el8PagKW1ZW3KGLuJEI6bPPglJcTNXSiOfogDfeiOWjIDETfg5hKZZNRRfKX0u/JCfPHSvRrl2FstlvvZWw6cdC+WLl1J3fpo0bi2TDhkS79w/3k4mDdphaJMXFIan9ynQJ96qSIUMapccry6XntjUypGy/DKvYK0PHVcq7BwdINBqQq66KyCXfGCTBkyeMiuMt+aKs+PQiE61BtkvmM3TbH6X0mSWxKJayMmnsP0CiZ55p2n/4flQ+ONJPXu/5VamuK5f6+oAEg7H52jodznm//HKxHDgQu1JcXiQDR3eTG75ZIj2rimJRH6k6ORmIyHPPFVPg1RBVQ5kj63QSGyGCmw0lJVHUxInpBR5n35Yel5eXSCTSqL87LQUyx/4UNQwGg1Jb21QYz5Flh+xmf6tbujhfNBX4Udjy5kwIHwryVFjtBOf8nUN5ZCVFoIMhQIjh8OHenP6cS0d7gGBx4EDQ+DT06tVoVMrUrgjW10rPyH7p02egbN0a01LYvmglnIT/QOX6sAQ/GSKbamKFuNCWVM+8yYS0dhk6UCLVJ0XqY0mlRr37tESqq6WsVqS0pKd8+Nk46dUrIpRo37EjllPjrKlXmyE2LymW8oPVQogsmS8PvXdQQkfXxIfHj4LCY/gyYObZOWm8fNo3KF33B+ToHlPN3URMYBa5/famGCEEOMl97rzn9diNj+03a1a9bNsWw1LV9hYV/VQE/EXAF6GCtNzWKZPpOY/9na5yUwTaBwJsoggMvGiTnCiV7Z43eDbAQCAqgUDM1j94cER6HfqbXPLmcvlc3xMyblOlnBx6m6z/W6wyJ06Nzg2xbNlzJiJj8GcBGbV6lWzuNlt2lw6WXr1ivhXRsuQcDxuW7ZHBnxXjA2rGlh1H5HBpcZIPBXO3ToxDqjfKOetfMKDXdO0r5dMmiBwKC6GbgUjY5JEgh0XkdC4J1OKEHHbpQpgtCbliGgNCdJ187VOMtU/8DOWiVh8/PlacDJ7gk44HilMndnYO+qkIKAL+IZD439wCntTf0BocLQBQu7YLBNgUSYdsBQQEApwDnddYCCYKmyqc808+KZE5cxJ5Iexi9++PJVOKnRPRETBFr0ZU/kkqgyfMpn9w6zGZNmWljLjxq4avuwqlLffNmMbMcPJjCQREQrsbZdeufjJoULIZYN++oBR3GylnRkImlXdt5Zlyakhyynv8KixNPLJMdlQFzdhVXfdJ/4H7pHjVTpEjh02TYDgsFP0KVNWaZFUju5fKnDl9hUqlr70WilfvZLO3gorlzSdaHqJurMCBmSJbQlAgusM6aubCI9sxtb1/COBXg39Lqu+Hf6Mop0Ih4ItQUajJ6jiKQGshQMlra/snAoDIDa7ZJFnOhEj8SNqQO+bLsd3wnPN31vTg+ogREWMqCIVj9o2amoC8+25AulSEZMj4aOofXTwTjx41uR+iDWGZFF0hx2rKpf6TgGz632Nk5eXXyJ13JkY9XDlY9p0YIwPri40QMuji0XLF7P7y5pvMES1IcsZInBtJ5mUpXByV8KDBEqTIWSgkjVVVUrTjIyn5U6K0+5nTrpGJE8dIz56xOiYIXZMnp7dnIwR0756o92HHyuYTQY/IG6X2hQCZa0koBpHZlUghpfaNgAoV7fv56ewLgADRBVagYDh+BIuKQnGBgmvOzIJWk2Gnxls6b9JuGjcuFqrIZs7GiqBSV1csfzs4UYZu+p0cPRqQrmeWycbopbJxWXGTsEz4kTsCE0hFxTGRfn1FPjskkVrMD1E5e9drcmB5sTy08wLp+4V+pqomfd4Z+TX54LP9Risy9pxeMqaqIe2PefiiSyS07rQPRVm5kLGT3BXRosRPR7D6aKKeiYgRMCgEhgZBzQ3up67nFgG+91ag4BrZYq3GyrbRz/aHQOKXof3NXWesCLRJBBAQZs4MmyJgTJC3dEcgVHzOXEOQcBIps1fIGFlb0k9O7DkqFcOqTAXPmtMREs62HBO6evL2O6SsTuTUT3bI0LVPS11dUAaG9kuvXR9K/+Jy6Xb8Hdl26u/lT+GhpiIpibtEYtVHi4ubNzdQuAsBgTockeHDTQpwsmmimcDsQU4IPkN7Y9lzmdOpaJnZHEhcpaYI9xPTc0WgYyOgQkXHfr66Oh8QwO5PCKLVVmD+uPTSiHz8cTCurbjssmThIBYR0lQ7kWk6CBqogLedd4YsXdpbYmXFxIzfXF/6Xf39IRL5f4Ok9zufSPH7+2V/aKA0lpQZjcSgvatl667hQiKnpUtj/+3RoIwf37y6ueTNVRJaR3bKUqkrLTVCBMW86k5HhzAnI1Rs32rMMITHLo1Okh1PhrKq9trc2vRex0QAjZ6zmB3mQPWraP/POhAlv7CPRHjp3r1703IkUuTiiy9utYqlJ07UdeicCWmBb6UbxIh3714un35a00oz8G9Yr46auYzIxlz8/iYTTYFmAKJ4E6YXIki+POIj6XF0p1DbIlXVTjumqfR58KDULX9FDmw8aNJLl5aGZNeZYyR67TRTDRSnTjb/TJqEA6t3S/eljwt5OAyVlcvJu/7RDpX0acd99pVesu3TRK0SNgqbOIo2CCStSTxDqJCb1xlndJX6+rDw26PUFIF8P5OKilIJhYrk6NGTTQfXK3EEiouLpEePLvHzXA9811Rs3rzZFBOrqKiI56ng2vHjx40wQb6Kmpoaefzxx+P3c5289lMEComAeyNCO+C+lst8ECjKH/113C+BtNhoAgiN5M9oC34fK5IVWvW61F9/g4TWrjG+DUJxr6nTJVBXJyUvxkI/I2POl+jXpsvwkuekbNMx+ay0r5RPmCBfOG1qwSSRySyxbFmx1L12SEbuCErXriIXXBAx8wsePGBMLu51IiyQiryuvNh9y5Q0L136XHy+tbO+kZJHk44tvMBmRd4LImB4Vk5nW6ew08Jhmu1OKvLNmwmvLZLLLsO3xtd3uGbHbi83/fg/1F7W2hnm6btQQWjpmjVrjNBAdk2IQmL33HOPESKo/UHBMc6XL1/eGTDWNXYgBD74ICi/+U2JSUVNfoTbb2/52ycaCqm1hg6Rok3vijjMC6H33k1CsHT5UomGT5tbak9J6QvLRcIJMwb9w6PPN74Wvetr5ZwBvaW6+qTUn05+lcTMcYImoXj9Ojm6v072bRwr4Z4jZeiu1+XEiVNGs1E5vE9GYYCMogcPxlJmY17BLARPnDsNMd8Vf8iYwtwxrZwOnVEFBMhMmRKOm69gSC4NhI58bmg4IlLavrxchLowu3aVyF13tfz7khMg2kkRKBACiby+Pg1I2XMEBytQwJZjyp6/8sorZhSOt2zZ4tOIykYRKBwCv/pVibzzTlB27RL53e+KhDf6llKU12gnlZU7z5qYDKIlye0DRF+4CO0HlI25oWzJbwVNSPnGNXLx+4+b/mvPu0V29rtUjl80UdAwZCI2aQpO3Xhj2Hxy7p6fnVsmXrneJ3+IM6qAsN8PP0zOSgpvQl3zSaQFd1IstDhR7dR5T48VgY6CgO9CBcCgmXATJg9Lqe7be/qpCPiJAOr6om1bjQreD77U16AMNuGefG7alLxx5DIG6a0bBw2OdS0rl/0XXmn8KfB9gDBvYOaAon36St2MmfFzrjV8aVKiPxfKyk2khung8R82+sCB/aY1FUz79zwpVUc+NKm5o393lfSYcZlnAQXTCsKENbGgNXFS+KKLnae+H7tlNAbABOIs081xvk0RlAl3EhqTfI/pHE+PFYHWQMB388d1110nixYtMn4TztofFBRDQ4FAcf/998uUKVNaY706ZidCgJoY1KYwVFZuVO7NOTl6gaakJPGm2dgo0rVr6ggP3pazqTNRO+smI/i8sb5CVq2KyfqUVadeRRVho3f9o7lvNQ9UQHU7drJeCEdP287LmmhjcEFwOW2GIeFVly+fKfX9Y2YVSpizSVpBwStf2uFrcWrOnU3ma3kgPL3/fpEQ6urXpjtlSkRefTUm8OE/EcuZITJuXOz5NTcO86G0N4JRc+3s/NN9ghUamy1bSqSoiMqeCROVuw+mEjQbfmLgHkPPFYFCIOB79AeTxmcCMwjOmRBOm7NnzzZmEaJDMIMsWLCgVSJANPqjEF+rxBitGf3RZfH/iW+SzIhETuRdaAn953+Wyl//GqsuSgbMW24Jm9oeTp4IFEuWJDJwZnIKdEZF/PKXiSyd8OSNeurU5HBV51iZjknZ3atXpRw7eMT4VDQnbKDRKV1JZsw6QZtQP/5ywdEQvwBL5N8gXNYvIrrFhrjC00/+CAc8i2wEA/wsnnwy8a6FcJKulohXDDJFf+QTA69z7MjtNPrD29Nts9EfTB+fCv6I+qisrEwSHtBk8KekCBQcAQ9ltDPNiRwSqNexj5O7gqyYbvrkk+QMnDgF8iZqNzc2LhwJa2sDMr3oJRlz4q+GRfjyiVJaOjmJXSpVflIDLycvvSQlf/6LFEUahTEQFlIRiaxODh+RdOu995ItpIS5+ilUwM9JfvLPRauSar0tFSqc60t1nE8MUo2n1xSBfCKQEMl9HGX37t3xXBX4UjjzVmgFUx+B7kSseOMkFTYOeLz5k4nSbtLpYEArYcMspUcPk2I6XVuv19lQBw2qixXYShMemEp2cQoHtthY5Yn9UrNxjRwbHcsZgZPkxKsukBf+0isutLiTanmdp22HT4m89ZY9NY6Y4WHDM0Zx2A7utbjPbbtcP9383Oe58s21n/M5wcN9nivf5vq51+w+b66v3lME2hoCvgsVq1evlltvvTXtOj/88MO09/SGIpAOAdTw1qOfN39s/JmKD+FbQGppk2L6rEHpWGd9nY2mOYEGWzxmCzvfyy9POC2isbDFxoojtWbsEydiQgUnw3p9JnfdVZmk2ch6go4O5K9wEtUgf/9sRN47XmKEs5kzU6cQt30o206VVeaMoyEZOf0k+BOCSoQG/C8bd1wCddGsfUL8mhNaCTRJZE8lJHbq1Hq/WKfl48aAcyVFoL0i4LtPxc0332xCSB966KE2iYn6VCQeCxscIZH8oLfUdp/gmnzkh08F6uFXXw0Z+7gNA+QHv63H/GPTLyuLNnnbtUmYQuFaGb/1Cbls6B4T3khkBw6YCFBkvPTDac/4VDz7G6n9eJdEIo3yzr4Bsrzft81D2rEjZtoYNSoq1BxpzqzhNN8kP2F/zsCq1/Y1ccdaEng5U4HnMgrfG4SoXBxM/VxvJp8KuzYwyMVkY/vrZ2oE1KciNS7uq23ap4IoD6W2j4AVKJgpb9VVVUUtdkrze9XMkeqFR46I8Y4nsyOCRUurX/IDTsSB5ZUPNXe6DYKIjvXrQ1JdXSJDb/m6BA++K/VkpBw+3GhgbPQHn0QPoPloEc2eLZE33pKGhkZZt2GcyGGRI0cCsm8fmxj+IY2yYkWxDB+erNVwjtmcZsbZLtfjHnI0LlDAgwReRaPPN5EjufBcsqTYJLii77p1RSZnRrrnkYp/vtebasxs5peqv15TBNoCAsleWD7MiIyaNsmVD+yURR4RQEPhJDbatkYIFBD1J/r0aZRjx4IyZEjMpyLXuWIRQFvApk3YIT4OhSQEGFTcRHX0PqtUyFNhw0DZAJ3kdhx03vN8XFYmJ8ZcIq/VfVFORMpNdkdMLlDv3rEEUJg3WvP5EwHjpOCxail5/c8Sem+T87KnY9aBicwSayNEVEkRUATyj4DvPhVXXnml3HLLLSZPxcCBA5usYO7cuU2u6YXWQcBp92cGzam/W2eGMbs2mwJv1nv2BIxAsWNHzKciV9sz5gV4WmIDYiPK9k3RalEwxeCb0GKNgoiZA/UqLPmhQYHfr39dLIcPo/GISn19UCZPjsiGDUXxPBs4v2a7fjtHPz4p4U4CMNJ5I1AUbdsmjV26Ssme3eY8XcRKqrFZB8/E+Yz9wDHVWHpNEVAEkhHwXaggD8U555wjRIDw5yYVKtyItN45b8qYPLA7syH6sSn6vRqiPIj6OHgwKD17ivTrFzMF8AY/fnxuo1Gd0034PmRD2OutFoXNixDR22/P7NRHLgiSVpEQCg2Fm/BtIMcFPNnoWxr9Af/9+01V8vhQ5eWNctFFEcObhEvWBBRv0EoHJABDM1Hy51eNQCGh2M8TpdezESqYvv3egCPCc0vNZa0EiQ6rCLQ7BHwXKu699952B0JnnnC+Y/Bbim0sE2LECBZ//GOR8cznrXPQoOQUyNmMg0bmoosaZd06yooHzAaU7k3WOk327t2YpMlBEHNSKlMSPhsQuSzgbzbM05VEg1s/FFJju5NxYcvP1QH1scdKZO3aoHTpEpCvf71exo6NYZQqRBFBgrGqqtpWpAFmIMJgQ+vWxOHNJQuq/d7EmeiBIqAIFAQBX4QKm5eCHBQkvHLW+XCvQvNUuBHRcy8I9O3bKHv3FgtlZdigc9VS2LF4k52cnGfK3op/vvZaSB56qNhEnVD++/bbG+RLX4ptwkRmWIdKOvA2bMn6bFj1+7ZtJcZR0F1tFCHDLVRYHtl+vvVWSJ5/PuGP8dBDpfI//3PSsOnbV+SqqyLy0ksxQYgska3hiOh1TQ2XXW4EC1PZtEePWO0Tr521nSKgCLQqAr4IFUuXLpUHH3xQyEFBjY+1a2M1CFKtTPNUpEJFr2VCYOvWoiQV9u7d+Xe8+8MfYmGszO3ECZE//i4sk8/+RBq7dZeqqu4ye3aDiUjhrd+p8SGjphUo6EvOA3IfDD3tM2DX2jjIv9wZW9fUSL+6Gjlc3Efqg2Vy6FCyOQfNzPnn567dsXMuxCepxDGFKCkCikD7Q8AXocKm5Wb5TzzxRPtDQWfc5hHgzdr6MDBZqk4Wks5s2C9f/uAxKX2yxlQBrZt5vVSdNSil+SCVwyN+HA3jLjJlwAmXxCmxblLL6pDY9eOncfX25+XMQ0VSK2WytM/tUjGwh72tn3lAAG0UpjHyWYwe3Tb9kfKwbGWpCGREoGjhwoULM7bKosEdd9whGzZskIkTJ2bRq3BNGxoiwp9SYRAoKsJvoVhOnszsxNjcjKqqGmXfvqCJ0qDmBuYLTBJeiMgOMnCS7Imy3l77VVaSvwNHVpGr6l6UyefukcrKqEg4bCIS3CW97Vzgjx8D4+Gz8eUvR2JCUCgk1NdouGyCmL6pnB0skyw+y597SrqVnJLi4oDUncD5NiC3/NtZJpqD5FddupRKXV2DRCLJ2osshmgTTQk7Jcy0ePVfJXjsWM45LNyL4fsBTqf9Qt23U54/+2yxbNgQNEIFTsP46aT7XpWXl5jEY/q7kxLKvF8kAV8wiPYwfZXYvE+iHQxgf6tbOlVfNBXOSVDafMCAAc5LelxgBPzMBuj31NmgKenNZzZvePhRzJqV24/CU0/FsoayFt4u58ypa5LlMtU6v/CFsAwY0GhMFxdsbpDeJiQzVcum1zCHOE0iTVvErjAfW2bbS/t0fLhO1dQRI0QiY45JXUsTZjU3UCvdK/nTKyYpFsMbfwuRrKNC3FN3JsmaNi2SZGJzt3WeO/NgcJ0omrbm9Oqcrx4rAoVCwHehggqk+FcEAgEhZ4Wb1FHTjYh/52xQhF9iz+dtnsyN6aIa/Bs1O07OkuBk8ZwzpyGv+RHwZXBGZoANPg9ec3LYUNuisy4SWbozXko9VThodkiIxNKPx5wr8RnhjRkNTLZUP35ConBaWXnKUNVsebbF9kTLOMkIFmkqrjrbpTsGf6dwwP8dr6Gn1Clxfq9ShSmnG1evKwIdGQHfhQryVOzZs0ceffRR8+cGzy9HTTQiW7ZsMTkxunXr5h6mU55bgYLF4xyIkNHSt18/gUQ7wbycRNhlrkmsnHzSHaf6sU/l85Cuv71OXgnqcpCYCUfNXMIcLS/7uW1bsrMpAlAuZAqnnTUoNreqqlYrxpXL3LPp48Ycv5SWkDssGIGT76gXQZxidqQ2RxDU8NWWPAXt29EQ8F2oKISj5gMPPCCPPPKIjBo1yggwOIqiIens5Iw4AAv3j2Zr48OPtTvTYb4TbiFAzJwZlpUrY1/18eNzD6dkU4tQLMMnwvnU+aaci7Bjp+L33CzftvRpStmLmPweZODMNiGWey0UGiMtuv1/Q1iwF4ECPjy7225rmZ+Qez56rgh0BAR8r1JqQSFfxZo1a0zOCkwefpk94Dtjxgx59dVXhTTgttS6Vw1IR65SiqaChE4Qmzc/ei3ZqOyzbMmnu0op/h72DY+sjvnUUqSaN2+iZOfE8dPrBpKKT0uvkeDpVPc+xlyFGWjEiFilUL/nZKqU9qqU6uqTUl+f2kEZTPju8NaNZsuraailGLSF/qwdjR4arXyt22uV0raAR0ecg90Nr+YAACAASURBVFYp9fZU22yVUswSd955pxEoWEpFRYWgWSB1989//nMjCHhbYupW8IdsXRG0FRDChj02FzrhP9jjhw+PeaQPG9bY6gJFqkeQ7RseG92bb8b8DVq64SHQ2BTYCF34nDCf5oioEbQJpMz2QwAigqFsyW8lcGC/lJWVy9VTp8vUqSOam0Le7zn9XD75JORPZdS8z9qfARDi2pKJ0J9VKRdFoPUQyM2I28x88aVg40eTgPZg/fr15hihYv78+c309HaLKqjwsoILPNFcdHaBwqKHOYEfydbWUNj5tPSTol28ybOxL10aMpEYufJ0+pyg8kZgaI5oT9ZMxuYzU/vmeNl7xevXGYHCnNeektKVr9hbrfbp9nPJ1bej1RagAysCikCbQaD5X9Ucpok5YsGCBXFNAizQKlAT5OKLmxZQymEIY0qhvPrixYuNT8X111/vmQ0qnt69Kz2314b+IJAr5sePS1L8/7FjpdK7d25zIu+EM5dAcTGlv8vSMjt1Krn9Z5/RPm1zbzdKAyJdSxNti6LStQDfx+7duyTGdB0RAe6MZBg50od1usbo7KehUIl06VLS2WFo1fXn+hvUqpMu4OB+5VHxXaggEqO52h8txQgHTQSK5cuXC2OhFZk0aZL079/fk7NmONwop9gtlAqCQChEee0Sqa7ODfOyslDShldR0SjV1bll0xw9OihbtsSUc+Xl+A+Epbo6vfmjpAQnvkThMOzu1dWp/RK8ghkceo6UrF4n0dPfwcjF4yWcIzZex+zevVzwJeK7n4qmT49pYg4cCMiYMVHp1y8irujNVN30mkcEKirKJByOaPIlj3j53ay8vFhI7HT8eJ3frDsUv2AwILx0t5R8FyqIxCCrJoLFlClTzMaPEIBfBXkrcN6EKisrczJZwItIDxtGyicmEcJYvVA0GpX6+uxzAXjhrW3SI5Ar5tdcEzFmh9paMY50gwdHpD5Hp/vBg0X+4R8CJgsivhSYiJrjNXFiWMLhmAMjbS+5JNxs+/Srd9zpcabU3TRbQtu3moyQRDFIHr+POGpCbGrpHDXJuXD11Yk5NodJopUeeUWA35xIpFF/d7wC5nM7Xg7Im5Trb5DP02mz7PwQKFic70IFBcX27t0r99xzTxPwyCuBUABhCskl/BTBBH8NJ+Gk6Vd0iZOvHscQeOWVkFBcC/r2t+vl3HNTv/HmAy82f3ICeCUcOwkftUKI2wkP4cCrvwlOfFOn+i+AEv7pR/Isr5hoO0VAEVAECoWA7yGlbPA2QqO5RaBhyMW5Et633HKL0VSgocCHgzcBrwJKRw4pbQ7vXO/htDdvXsIHgKiJX/7ypHjNN+YOKc11Hl77PfpoSVKCLXJU5CtU0OucWrOdl5DS1pxfZxhbQ0pb9ylrSKk3/NtsSKlbUEAIQEOBz4MNA/W2xNStEEbwp0DjgQBz2223pUwHnrq3Xs0Wgb17kwOEiJrYvDkkl17q/xt8tnNL1d4dyfDpp95Tcqfip9cUAUVAEVAEvCOQvGN475e2pdUkkK4bQqvAH/4V9lrazlncwAyC/0aq+iJZsNGmGRDo3z/Z1IGmYtQo/wUKUla701ZnmFrK29Q8cVLv3snzd97TY0VAEVAEFAF/EciLTwWCBT4OaBPQUixbtsxoFXDW1HTa/j7AfHMj78X8+Q2yZElIunQRuemmOs+mD69zc5osEApakv4Y/wunT0VnNn14xV/bKQKKgCLgFwK+CxVEYdg8FTaTJiYR/vxIfuXXwpWPdwQwdeTL3IHPhtNkwTHXcq0JghNmNo6d3lHQloqAIqAIKAKZEPDd/MGANk8F4aPWPIH2QkkRcCNQWto0T0Sqa+5+eq4IKAKKAAi8/fY6eeed9bJt24dZA1JTcyznvs7BLB/ntc567LumgogMNBSYPggtnTlzpjF9LFq0yLeMmp31YXXEdRMySnVIUnFDHGeqx9ERcdA1KQKKQHYIPPXUb+Xhh39l6kv17dtPtm3baqICFy36Txk+fKQnZvPmfUeOH6+RCRO+JN/7nrc+lvHrr//Z9J027Roz9l13fUdWrVpnb3faT9+FCpwnIUI9bQExsmCS7OrHP/5xpwVaF55AAIfMY8cCMnp0xFQKJRfEuHGxLE0qUCRw0iNFQBFIjQACxa9//Uu5//6fyNixF8Ub/ehH/yoLFvyzPPPM7+LX0h3s3btHtm/fKitW/EkqK7ula5b2+tNP/zY+9vDhI2Tx4v9O27Yz3ShauHDhwpYu+OabbzYZLdFSEOGByWP27Nly9tlnG9YXXnihTJ8+XUr9ruucw8TJb+5XjvMchu90XUiPW1ZWLCdPxtJgrlgRktdeK5IdO4KycWNILrwwIqFQrMaGsy5HpwMqTwsmT0WXLqVSV9cgkUhTU1OehlW2DgTKy0tMRs2O/rtDavf164uMTxQvB/y/zhfdffc8+d737paJEyclDcH566+vlAsvHBsXFMiVEwwGk9KkI1Cg5UCoYF/q06evaY8p5ZlnnpRXXvmj4Tt48OfMJ+3/8pfXjEbi6aeflLq6WjMOWg6oZ88zZdWq1+Xznx9nztFiPPHEI/LSS7+Xw4cPy3nnjTHX2/I/9re6pXP0zaeCKA8IocJryuyWTl77ty8E6uokbuZg5uS8eO89b7nm6YtA8h//USJLlhSbVNvta/U6W0Wg4yJABluiuKjkyx/H+SI2/hMnjhuTRaoxHnzwl9K//4BUt5KukTTRSS+++ILMn/996dOnnxEOFi/+qfzsZz8xTfbv3yeLF/+X0KaiosJco7/lwX00JxDzu+++hYbHV75ytelj+ZgGHfwfX2RJtBKUIh9JeUMRufXWW9PCRjl0pc6JQCpFVaprqdBB+LB+F5Qi54dLozxSIaXXFIHCI3DwYEDq6hLF9zBv8v900KDkjdvPmTlNFmzkGza8HWePpsJpFonfOH2A0IEvxEsv/UG+9a3bzdVvfvMmo/3gOgSPr33tWrnhhhvNOVoJzC123OXLnzdj0J7xLTGPfv36G6GHtv369bO3OsWnL0IF5g7qcaChwCET50x3Zs1OgaYuMiMC06ZF5MUXY9oJfnDwq/BChJk66ZNPks+d9/Q4gQC4vfeeSEVFUCjGpqQI5AOBsrKmXL3W2GnaM/sraArsxo7DJtScUOEegegNt/bDajvgDQ0bNiIuULj7O89vuGGW0U5MnTrZaCsmTLhCpk6d7mzSoY99ESqoSkqyKzQWo0ePlvPOO08jPTr01yb3xSFE8Efhr2x+dM47LyJbtya+rl6Fkdxn2v57IlDYpGW1tUXyxS9GZfx4/7Ohtn+kdAUtRQAfikmTwibxHCHhkyeHpXv3lnJN3R+nSAi/hYkTrzDHaAushmHu3JjmIXXv5q+SDsFqItwtrdnDfd19Tv9nn33BhLjih4FDJ2aTRx75rbtphzxP/Eq3YHm2vgcsdu7cKY2Nmhq5BXB2iq7ZCBQAQmZMioOxUdLXXX20U4CW5SJxmnPSe+8FZfx45xU9VgT8Q+CiiyLCX76JTRttwAMP/JcxLTjDR3GoPHBgf9ZTgCdhqZgurIbCaj4QYqz2wwtjIlPQemBWYW6YUQg37Szki1BhfSqWLl1qcFOfis7y9SnsOhEsckm7jT+GNblcfnljp3lb79YNe3bCzu3Vf6WwT1VHUwSyR+B73/u+SbKIHwQRFwgEmClIgsUmjtAB4Ty5cuXL8sILf8g4yF133W0cLIkIqaioFKI85s37p7SaC4SNFSt+L5hOMHFYGjt2nMydO8fksIAPGpWvfKXzmD98K31uS55n8qkg7LQ1SUufFxb9Qpc+d68OM8svflGcdHn27IZOkWCLiJmnniqRmppSKStrkGuuqesU60562G3gREuf5+8h2FBPNANdu1YIG7pTc4GQsXfvTrnpppvl6NGTSROhr9NRk5tOfiTEsry4jhbDmlhoizDx4ou/NzmYEGScvCxv2uGLYc00SRNoYyd+lT73Taiw+BBSin+FH2XOLU8/P1Wo8BPNzLxaW6jAXPLkk8kKuRtvDOdcWyTzittWC/JU9OpVKdXVJ6W+Pv+q6ba1+rYxGxUqWvc5VFSUSihU1ESoaN1Ztb3R/RIqkn9tfVgnVUh3794t99xzTzxfRbdu3UxEiK0D4sMwykIR8IQAhcmofGqLllG6vapKfX48gaeNFAFFQBHIEgHf4/IQKGbMmGEECzQW/OE1Sx4LtBhKCQRQT3dWKuTaZ82qF3wp+Jszp86kBu+suOu6FQFFQBHIJwK+ayooJoYg8dBDDyXN2xYaQ5PR2YkNdcmSEvP2zJszm15nqXmB0+Sf/hQy2TRHjChMmXIcFDWUsrP/r9P1KwKKQCEQ8F1TQQKs2267rcncESaoWqok8sYbISNQnDgRMJvrihXJjoQdGSMrULDGrVsDntN0d2RMdG2KgCKgCHQUBHwXKgCGSBA3YRZRiiFw/LjIxo1FsnFjUNasCcmhQ4mwv46MERoa6n04iXS+SoqAIqAIKAIdAwHfzR/krPjBD34ggUDAmEEoeU6xMcwizeWv6BhwelvFqVMBOXEi1jYcjprskt56tu9WmCEweaChgDD9kClTSRFQBBQBRaBjIOC7UEGEx7x582Tx4sVynFfy04TzJteVREhKNG5co6m0SXbIgQOT397bM0aEcBJxkY4oAoZfBVqLYcMas0rVnY6nXlcEFAFFQBFoGwj4nqfCuSxMHvhYtHbCK+ec2kKeCnfuhI6Q5ZEqhcuWFcvRozENhHU+be08Fc5n3xmPNU9F6z91zVORv2dAkqmNG9+Rffv2msqgl18+sUkGzLacp2Lbtg9NNtB09Ubyh1xTzn7lqciLT4WdLgmw2pJAYefV2p+8yc+Z02BCHEnE1BEiEyhFjkAB4TeBQ6aSIqAIKAL5QuBnP/uJKU3+hz/8zhTvoubGDTdca4p35WtMv/n+7Gc/zaquiN/j54Of/vLnA1UPPDF7dARhIt1S6+rUATMdNnpdEVAEWoYANT2oAPrww7+Jp9KGI4LF4sX/JaTYbgtv/y1bZfvsrUJF+3xubW7WVA11libXKqJt7hHphBSBvCIQ/GSnFK9fa8ZouGyCNFb1ydt4CA/33rswSaBgsK9//RumQmhzJcztpKjd8cwzS0wRMq5RmIzKopYYY9Wq18yp8x4mC4qNUcAMct5De0JxMfpR2ZRAhW9+89vxedL34Yd/ZYqhOYuQ2TERlqhXAlFnZOrUq80xpdMhWzSNY/iOHXuRuU7RsmeeedIcU1yNe7baqrlYwH/yav4o4Dp0qFZGwJp0pk2LCAW7Ro/WqI5WfiQ6vCJQMAQC1UelbNlzEtq+zfyVLfkNdtC8jE9JcgqIpSvShWDgZUNFoGCTZwPmj43bbt5s7lQgveGGG809Nm2EDASRefO+Y4qE0Yf7XLf9ECQWLPjn+P1jx46ZSqkAgf8HVVUvuGCs4bl16xZTpMyChEDCOHY+8GUeEMIEGhjG5/6wYcPNONxjDffdtzA+12g0Kvff/0PLtuCfqqkoOOQdd0BMOt27qzDRcZ+wrkwRSI1A8OBBCThy73McPHhAGgcNTt3B56ts6ggBlnjDd1YUtdedn2zGpD7gzR4hZPHi/47fZkNHE2IFl7vu+qe4ZoJNHY2IpaefHhG/x7WpU6cnjX3XXd8xTaliilnG9qV0OtcsIeQ8/fTyuECEcLRo0b/FtSfMk5LvEBoKKxShlWEdlMPgOnytFsXyLuSnChWFRFvHUgQUAUWgAyLQWFWVtKpoaWlezR8Mxlu79Ztgw8UMASFgeNlU2bRxlPza166Nlye/4YZZhgeaELQBlqyZgXM2bTQD1hQRK7keM0Nw387J9rWfaFicfGhHyXSIexBzSUcIDW5CoIAnggzCS0VFpRFcrNnE3b4Q5ypUFAJlHUMRUAQUgQ6MQLR7D6mdcb0Uv/EXYsqlfvzl5jMfS2YTZSPHUdNqI7hmN2y7QWcae/jwkfLgg780Zgl4oelAe3H//T81XREsLCHAbN++TTAtsHkvWPCvRriAx9y5CT8M2z7VJ4IPfJxkcznhewGtWhUTLpxtvByjwUBIeuedt2XFiheMaeTXv34irvXwwsOvNupT4ReSykcRUAQUgU6MQGT4CKmd/b+kdtZNeTd7sIHiY+AWIDhn8/dC8+ffbXwWMH1gkuDtnjd/aNiwEUZosXxiponfGh8I7iHMIFBYYcO2a+4ToWfVqtfjggUCzPbtW00XeCF0YHaxxPHs2Qkzi73u/sQPg3ZoPjDXIPAcP15j/E7cbQtxrpqKQqCsYygCioAioAj4hoD1S5g///vSrVs3syFjjsAxknvWjIGj48qVL8sLLyR8F+wkcLJE68DGbjUfbMjQvff+q8ydOye+6a9fv04efPAXph2bPeYPtAtvv73emElwwsxECCIIPd/61s1Gy7F1ayzxle3H2Kxn48a3zSXG/N737ra3035+/vMxEwqCxdix44ww9JWvTI9HnKTtmKcbec2omac5t4htW8io2aIFtLPOmlGzdR+YZtRsXfwZXTNq5u8ZoCkg4gKBgjd9/B2cPg1s9vX1J+TCCy+Uo0dPNpkI9+mLGQIfCmfUiOVNJydfrmNmwMeB62g3MJWgbUD7gIBi+Vge1jQDL9rQh/nSj087Z9ue+SAs2OvM045hF4GA4pwX5/Tr1w8cRtpmnj/9yqipQoVnyLVhLgioUJELav71UaHCPyxz5aRCRa7I+dOvLafp9meF/nDxS6hQn4oWPg/qeNgCWS1kpd0VAUVAEVAEFIF2jYD6VLTg8a1YEZJNm2JyWVlZSObMqRPKeyspAoqAIqAIKAKdEQHVVOT41MnzYgUKWFBEC42FkiKgCCgCioAi0FkRUKEixyevGokcgdNuioAioAgoAh0WARUqWvBoqXNhadCgqGgRLYuGfioCioAioAh0RgTanU/F888/L0uXLm3yrGbOnCnXXXddk+v5vEDRrOHDI1JdHZCqqmg+h1LeioAioAgoAopAm0eg3QkVl1xyiQwYMCAO7ObNm+X++++XBQsWxK8V8gAziAoUhURcx1IEFAFFQBFoqwi0O6Fi4MCBwp+lRYsWydy5c2XUqFH2kn4qAoqAIqAIKAKKQCsg0K59Kh544AGTlnXevHmtAJ0OqQgoAoqAIqAIKAJOBNqdpsJOnhzvjz76aNZmD7+yhtl56GfzCARI6SgiPXp0ab6h3s0rAl27lkoXfQR5xTgd86KigJSWhoTfHqXCIwD+/A7pb1Dz2Ecijc038Hi33QoVr7zyiinokq1zZmNjVCKRRNSGR5y0WY4IFBUFJRQKSn19OEcO2q0lCCDTsZmFw43i149GS+bTGfsWFZUIvzv6f6B1nj6lAoJBUfwzwG9fADM0y3i7XQsVV155ZcYFuhvww3ryZL37sp7nCQH+Q5eVFSvmecI3E1uEii5dSqWurkHq61WYzoRXPu6XlhZLQ0NE/w/kA1wPPIPBgIRCRYp/Bqx4+ejSpSRDq8y3261Q8eqrr8pjjz2WeYWuFrw5qxrSBUoeT1E9hsMRxTyPGDfHGqEC/GPf++Za6r18IcCLjNUY5WsM5dscAgFpbGzU36DmIBIxgleGJp5ut0uhgjBS6NJLL/W0SGcj3pr5UyosAmrPLCze7tEqKtSe78ak0Ofl5S1/Cyz0nDvSeGiMlPKPQLuM/qisrDRhpPmHR0dQBBQBRUARUAQUAa8IBKLRqKaC9IqWtlMEFAFFQBFQBBSBtAi0S01F2tXoDUVAEVAEFAFFQBFoNQRUqGg16HVgRUARUAQUAUWgYyGgQkXHep66GkVAEVAEFAFFoNUQUKGi1aDXgRUBRUARUAQUgY6FgAoVHet56moUAUVAEVAEFIFWQ0CFilaDXgdWBBQBRUARUAQ6FgIqVHSs59mmVrN69Wq588475ZZbbpF77rnHVJRtUxPs4JPZvXt3Ev6cKxUGASooP//880mDUQSR/wf2/4M+jyR4fD2hNtR9992XkifPgd8lpfwgoEJFfnDt9FzthnbxxRebRGWkQ9H/yIX7WvDDOWPGDKmoqDD4n3POOXLttdeqYFeAR4BA8eCDD8qePXuSRkOY4P/B3Llzzeett96adF9P/EEAgQLhzWZednLl/wXPgTZK+UGgXabpzg8UytVPBLZs2SIDBgyQ2bNnG7bdunUzm5yfYyiv9Ajwlkzm2X//9383jUhpzw8p1+0zSd9b7+SKwM033yw1NTWCEOcktHYI2suXLzeXeR6TJk0yzySXwohO3nqcQACB7pFHHjElHBAgnGSFjZkzZwq/T0r5QUA1FfnBtdNzRaDgP659W+BHtX///p0el0IBwMbGM3DSqFGjZM2aNc5LeuwzAtddd50RHBDonATu4O8kno/9/+G8rse5IwDGK1eubIK15fjzn/9c7r33Xnuqn3lAQDUVeQBVWYr5Tz1//vy4doIf2ccff1yhKRACVqjjbQ0tEcSbmlvQKNB0Os0wCBVeyS1keO2n7dIj0JzWp7l76TnqnWwRUE1Ftohpe08IsIGhiuTNYO3atXLbbbcJqmG3StITM22UNQJsbggQ+FVg3588eXJcuMiamXbwBQEr3DmZ6f8HJxp63BEQUKGiIzzFNrgG7JrY7nk74Md03rx5MnDgwCYe8W1w6h1mStjvFyxYYJwCEe54FqqpaL3H6xYgMH2kEjRab4Y6siLQcgRUqGg5hsohBQL6Y5kClAJewinw0UcfNYIEAh2qdrRHOAgqFR6BSy65pIn/BNEhagIp/LPQEfOLgAoV+cW303JH/Y62AgdN3tDY4NjosrE5d1rwfFg4Qt3ixYsN7uCPCQRS/H0ANwcWCHM8E0IdrcAHG7Xz5wCmdmnTCKhQ0aYfT/udHD+WhDPiV0FcOMLFE088oereAj1SNrCHHnpIXn75ZYP/rl271FG2QNgzDBoIt6kJcxQCHvla+P/A81HKDwJg35wWiPw5SvlBIBAlG4uSIqAIKAKKgCKgCCgCLURANRUtBFC7KwKKgCKgCCgCikAMARUq9JugCCgCioAioAgoAr4goEKFLzAqE0VAEVAEFAFFQBFQoUK/A4qAIqAIKAKKgCLgCwIqVPgCozJRBBQBRUARUAQUARUq9DugCCgCioAioAgoAr4goEKFLzAqE0Wg/SFw8ODB9jfpdjDjQlYeLeRY7QB6nWIbQECFijbwEHQKioAfCJBozOsms3PnTpkwYYJ8/PHHKYem+Bv88kUkfxo5cmSL2NMfPn6QM+so/Fh7LvNjPvfdd58fU/LEwxbu89RYGykCBUBAhYoCgKxDKAKFQIBU3GyOStkjgDDmhxBFGm5qrRSKqP5LOnxSfyspAm0BgVBbmITOQRFoTwiwAZEGmIJQ/KVKCczmvmXLFrPJkzL7nHPOiacod24Ae/fuTbrHm24gEJDKysqkNMP0qampMddowzE8qfwK2Td2xmQ+9jpzZY6Qs7254OEfxrU8U6U9tvOFFUWz3MR91sic+vfvH5+Xux3ntHXO3d3GzgU8U41leYCN+5m4Maet5WGfFdfWrFljcHKOzbzceDvv2+Pnn3/ePGNbtA2+tmiY5cGYzN+uxT1P2tHfPjf7zODF3Nxr55x6LghEpMVXUgRaGwEVKlr7Cej47Q4B1Nts2nYTZAO46qqr5Mc//rFZC+fUO2HDQDjgHEFh2bJlpt/SpUvNpvLqq6+azer+++83haWoCcFmQz82o3PPPVcoWQ7RB1U3BE/us9E9/vjjRtCwb9lsbNxnfnfccYeZI8IAbREOGMtrUTHG4y2Y/u41ssk1N1/ugwGfdj3MgfXYTdcs5vQ/P/jBD8z8WE8qYl3z588XajbAh83USeDGfOx4zPf66683pd9pB36s/4MPPoivBx6MB5bwhyjCdu+998ZZX3vttfFj2qWbP43Ay1kgjDksWrQo3p+5MXe+JzwvntPatWtl7ty5ce3GrbfeKjNnzjTPjfkxZ9ZNQT5whCffCydOjMnalRSBNoEAtT+UFAFFwDsCN910U/SKK66IVldXm04ffPBBdMSIEdHnnnvOnH/3u9+N8meJdmPHjo0+/PDD5tLixYtNe/pB3P/Rj34U/epXvxrnyTXGoC1k+7z11lvmnH+4/y//8i/xc+Zg7zMXxrRzpBFjMHfo448/NnPYsWNHvL/zgHbO/rt27TLndo2Z5st95uck1mfnyzyZL8Q159qdfewxc7FY2D7O9TJfJ+Z2vi+//LJhYfFzYu7E1zkfOtj2dr1cc49hGDv+cc6Hy5anfe72e8C49rkwzrhx4+Jc4OFcB7hwzc7b8mR9TnKP7bynx4pAIRFQn4o2IdrpJNobArzt27dl3uR5g7aaBKpP2gqUvJ3yttm9e3fzlmrXiVrbmhPgw5sy57RFzc0nb/RoQyxhPnC+5aNK5+05FTG/9evXx+fIGy5mCN6MvZJzjWg+GNuuMdN8edtfuXJlfCir/nfPFx8ENDa8eVs8451OH9D3+PHjgv+AJbffAutifmDHH2vljd5qIOjHM3JizvrQYDRHtLEEf55nKrLPCW2CmywP1sf4Tlx5hmgvnORcJ1oI57zt83fjWFFRYdbt5KPHikBrIKDmj9ZAXcds9wjYzckuhB97u7GwgeM0aTdgNgV3MWBU305i02SDc29yznbuDYuN3r25OHmiYocfbRBIsiX3Js+a7RrTzdeOweaL6h8M2DQRoqqrq5vMA6y4jyDgNB1YPnzaNTrnw9ot2Tk5TQ32HthbshuyPbdmGXvux6dzXpafc972mt+f7u+j3/yVnyLgFQEVKrwipe0UAQcCbIbOTZBzu3ngy8AbKD4U9sfeaZt3sEk6zMbfIaljihMECvwhcN6z8+Qawk6uhN+CXSM8mpsvGgiEAacPAmGqbkJDgb8A7a3PibuNW5hy37cYP/bYY0maHHc75u+kXIUtJw/3MQKOW3hxt8nHudXU5IO38lQEskFAzR/ZoKVt2eIXFwAABCxJREFUFYHTCPBmbYm3cuebNqp3HDftZofAgTmjOZoyZUoTLQWbcKqNuDk+9h5jMr4VKLhu3+htm0yf7jViprD8Ms3XCl12gwUjcHETQgqmDAQHHBJTEetAvY+QZMl5DA80IQgVlhhv8uTJggOoJebPdUuYRhD+/CC7TqtV8YOnVx5WWPJrLV7H1XaKQCoEVFORChW9pghkQIAoAqIb2EzYnNjUrO0clTuqeAQJNrGXX37ZqP2dG5qb/YIFCww/NkL4IACwMT/xxBPupmnP2XjZmIkmgAcRAWgAUMlnK1AwCJsVGhYEJPcaM80X4QMNBKYNNn36O0057kUQETFjxgwjOMyePTvpNv3x0WBtVjgDGyfRHwHMPhPWy3jOSA5MUKyHqBDmY/nCx2pDuO/213CO09wx34HWECrsmFaIbW6Oek8RyDcCRQsXLlyY70GUvyLQkRBgQ7r66qvNWy6CAhuoc/NiQ2cDq6urk169eskPf/hDufDCC805nxAbvXMTYIOjH+3hyQaF6cJpo3f3cfOZPn16nDdzcjoB4vx34403SmlpqdlAe/bsKYMHD5bzzz9fSkpKTD/3P8yHrJtsWhx///vfjzfJNN+JEyeatYABm/vdd98tzA8hw77Vw8Me9+7d28yL9haj+GAica3LoUOHTDvwZi2sET70Z3305w/8aMM9CK0L17nGeujnvE87rsHz7LPPNmMgaNj52bmkegb2HvyfeuqpJIdS5xptO56787m629g12fapxnS2wazFevlOKikCrY1AgFCT1p6Ejq8ItCcEeCNms8n1jbY9rbWjzJWNF+1FNpqfbNeOMDhp0iQT+eMWRrLl5bU9Y6LdwjfFKaR67a/tFAG/EVCfCr8RVX6KgCLQKRFA44B2CQGmUISJiWRZKlAUCnEdJxMC6lORCSG9rwi4EEBt3px/gKu5nrYBBNh4rZNpPqfDGPiioEFAyMg38T105rXI93jKXxHIhICaPzIhpPcVAUVAEVAEFAFFwBMCav7wBJM2UgQUAUVAEVAEFIFMCKhQkQkhva8IKAKKgCKgCCgCnhBQocITTNpIEVAEFAFFQBFQBDIhoEJFJoT0viKgCCgCioAioAh4QkCFCk8waSNFQBFQBBQBRUARyISAChWZENL7ioAioAgoAoqAIuAJARUqPMGkjRQBRUARUAQUAUUgEwIqVGRCSO8rAoqAIqAIKAKKgCcEVKjwBJM2UgQUAUVAEVAEFIFMCKhQkQkhva8IKAKKgCKgCCgCnhBQocITTNpIEVAEFAFFQBFQBDIhoEJFJoT0viKgCCgCioAioAh4QkCFCk8waSNFQBFQBBQBRUARyISAChWZENL7ioAioAgoAoqAIuAJARUqPMGkjRQBRUARUAQUAUUgEwIhEflzpkZ6XxFQBBQBRUARUAQUgUwI/H/pDOKTdPpCdAAAAABJRU5ErkJggg==)"
      ]
    },
    {
      "cell_type": "markdown",
      "metadata": {
        "id": "mrlY9sjVFr0t",
        "colab_type": "text"
      },
      "source": [
        "It appears as though there is a stronger correlation in G. fortis than in G. scandens. This suggests that beak depth is more strongly inherited in G. fortis. We'll quantify this correlation next."
      ]
    },
    {
      "cell_type": "markdown",
      "metadata": {
        "id": "TnxERqKdF1eQ",
        "colab_type": "text"
      },
      "source": [
        "### Correlation of offspring and parental data\n",
        "In an effort to quantify the correlation between offspring and parent beak depths, we would like to compute statistics, such as the Pearson correlation coefficient, between parents and offspring. To get confidence intervals on this, we need to do a pairs bootstrap.\n",
        "\n",
        "You have already written a function to do pairs bootstrap to get estimates for parameters derived from linear regression. Your task in this exercise is to make a new function with call signature draw_bs_pairs(x, y, func, size=1) that performs pairs bootstrap and computes a single statistic on pairs samples defined. The statistic of interest is computed by calling func(bs_x, bs_y). In the next exercise, you will use pearson_r for func."
      ]
    },
    {
      "cell_type": "code",
      "metadata": {
        "id": "-LHJENZrFnLH",
        "colab_type": "code",
        "colab": {}
      },
      "source": [
        "def draw_bs_pairs(x, y, func, size=1):\n",
        "    \"\"\"Perform pairs bootstrap for a single statistic.\"\"\"\n",
        "\n",
        "    # Set up array of indices to sample from: inds\n",
        "    inds = np.arange(len(x))\n",
        "\n",
        "    # Initialize replicates: bs_replicates\n",
        "    bs_replicates = np.empty(size)\n",
        "\n",
        "    # Generate replicates\n",
        "    for i in range(size):\n",
        "        bs_inds = np.random.choice(inds,size=len(inds))\n",
        "        bs_x, bs_y = x[bs_inds],y[bs_inds]\n",
        "        bs_replicates[i] = func(bs_x, bs_y)\n",
        "\n",
        "    return bs_replicates"
      ],
      "execution_count": 0,
      "outputs": []
    },
    {
      "cell_type": "markdown",
      "metadata": {
        "id": "ehc1lZwxHqop",
        "colab_type": "text"
      },
      "source": [
        "### Pearson correlation of offspring and parental data\n",
        "The Pearson correlation coefficient seems like a useful measure of how strongly the beak depth of parents are inherited by their offspring. Compute the Pearson correlation coefficient between parental and offspring beak depths for G. scandens. Do the same for G. fortis. Then, use the function you wrote in the last exercise to compute a 95% confidence interval using pairs bootstrap.\n",
        "\n",
        "Remember, the data are stored in bd_parent_scandens, bd_offspring_scandens, bd_parent_fortis, and bd_offspring_fortis."
      ]
    },
    {
      "cell_type": "code",
      "metadata": {
        "id": "0PJz99WjHoIs",
        "colab_type": "code",
        "colab": {}
      },
      "source": [
        "\n",
        "# Compute the Pearson correlation coefficients\n",
        "r_scandens = pearson_r(bd_parent_scandens,bd_offspring_scandens)\n",
        "r_fortis = pearson_r(bd_parent_fortis, bd_offspring_fortis)\n",
        "\n",
        "# Acquire 1000 bootstrap replicates of Pearson r\n",
        "bs_replicates_scandens = draw_bs_pairs(bd_parent_scandens,bd_offspring_scandens,pearson_r,1000)\n",
        "\n",
        "bs_replicates_fortis = draw_bs_pairs(bd_parent_fortis, bd_offspring_fortis,pearson_r,1000)\n",
        "\n",
        "\n",
        "# Compute 95% confidence intervals\n",
        "conf_int_scandens = np.percentile(bs_replicates_scandens,[2.5,97.5])\n",
        "conf_int_fortis = np.percentile(bs_replicates_fortis,[2.5,97.5])\n",
        "\n",
        "# Print results\n",
        "print('G. scandens:', r_scandens, conf_int_scandens)\n",
        "print('G. fortis:', r_fortis, conf_int_fortis)"
      ],
      "execution_count": 0,
      "outputs": []
    },
    {
      "cell_type": "markdown",
      "metadata": {
        "id": "Rm5ljE6xId70",
        "colab_type": "text"
      },
      "source": [
        "```\n",
        "G. scandens: 0.4117063629401258 [0.26564228 0.54388972]\n",
        "G. fortis: 0.7283412395518487 [0.6694112  0.77840616]\n",
        "```"
      ]
    },
    {
      "cell_type": "markdown",
      "metadata": {
        "id": "FzuINbChIgL3",
        "colab_type": "text"
      },
      "source": [
        "It is clear from the confidence intervals that beak depth of the offspring of G. fortis parents is more strongly correlated with their offspring than their G. scandens counterparts."
      ]
    },
    {
      "cell_type": "markdown",
      "metadata": {
        "id": "AMI0-9gBI4uu",
        "colab_type": "text"
      },
      "source": [
        "### Measuring heritability\n",
        "Remember that the Pearson correlation coefficient is the ratio of the covariance to the geometric mean of the variances of the two data sets. This is a measure of the correlation between parents and offspring, but might not be the best estimate of heritability. If we stop and think, it makes more sense to define heritability as the ratio of the covariance between parent and offspring to the variance of the parents alone. In this exercise, you will estimate the heritability and perform a pairs bootstrap calculation to get the 95% confidence interval.\n",
        "\n",
        "This exercise highlights a very important point. Statistical inference (and data analysis in general) is not a plug-n-chug enterprise. You need to think carefully about the questions you are seeking to answer with your data and analyze them appropriately. If you are interested in how heritable traits are, the quantity we defined as the heritability is more apt than the off-the-shelf statistic, the Pearson correlation coefficient."
      ]
    },
    {
      "cell_type": "code",
      "metadata": {
        "id": "32P-au7-Iey0",
        "colab_type": "code",
        "colab": {}
      },
      "source": [
        "def heritability(parents, offspring):\n",
        "    \"\"\"Compute the heritability from parent and offspring samples.\"\"\"\n",
        "    covariance_matrix = np.cov(parents, offspring)\n",
        "    return covariance_matrix[0,1] / covariance_matrix[0,0]\n",
        "\n",
        "# Compute the heritability\n",
        "heritability_scandens = heritability(bd_parent_scandens, bd_offspring_scandens)\n",
        "heritability_fortis = heritability(bd_parent_fortis, bd_offspring_fortis)\n",
        "\n",
        "# Acquire 1000 bootstrap replicates of heritability\n",
        "replicates_scandens = draw_bs_pairs(\n",
        "        bd_parent_scandens, bd_offspring_scandens, heritability, size=1000)\n",
        "        \n",
        "replicates_fortis = draw_bs_pairs(\n",
        "        bd_parent_fortis, bd_offspring_fortis, heritability, size=1000)\n",
        "\n",
        "\n",
        "# Compute 95% confidence intervals\n",
        "conf_int_scandens = np.percentile(replicates_scandens,[2.5,97.5])\n",
        "conf_int_fortis = np.percentile(replicates_fortis,[2.5,97.5])\n",
        "\n",
        "# Print results\n",
        "print('G. scandens:', heritability_scandens, conf_int_scandens)\n",
        "print('G. fortis:', heritability_fortis, conf_int_fortis)"
      ],
      "execution_count": 0,
      "outputs": []
    },
    {
      "cell_type": "markdown",
      "metadata": {
        "id": "QgDTqdtwK5Zw",
        "colab_type": "text"
      },
      "source": [
        "```\n",
        "    G. scandens: 0.5485340868685982 [0.34395487 0.75638267]\n",
        "    G. fortis: 0.7229051911438159 [0.64655013 0.79688342]\n",
        "```\n",
        "Here again, we see that G. fortis has stronger heritability than G. scandens. This suggests that the traits of G. fortis may be strongly incorporated into G. scandens by introgressive hybridization."
      ]
    },
    {
      "cell_type": "markdown",
      "metadata": {
        "id": "GXPFERmeMEHN",
        "colab_type": "text"
      },
      "source": [
        "### Is beak depth heritable at all in G. scandens?\n",
        "The heritability of beak depth in G. scandens seems low. It could be that this observed heritability was just achieved by chance and beak depth is actually not really heritable in the species. You will test that hypothesis here. To do this, you will do a pairs permutation test."
      ]
    },
    {
      "cell_type": "code",
      "metadata": {
        "id": "Bhgfg-bRK-83",
        "colab_type": "code",
        "colab": {}
      },
      "source": [
        "# Initialize array of replicates: perm_replicates\n",
        "perm_replicates = np.empty(10000)\n",
        "\n",
        "# Draw replicates\n",
        "for i in range(10000):\n",
        "    # Permute parent beak depths\n",
        "    bd_parent_permuted = np.random.permutation(bd_parent_scandens)\n",
        "    perm_replicates[i] = heritability(bd_parent_permuted,bd_offspring_scandens)\n",
        "\n",
        "\n",
        "# Compute p-value: p\n",
        "p = np.sum(perm_replicates >= heritability_scandens) / len(perm_replicates)\n",
        "\n",
        "# Print the p-value\n",
        "print('p-val =', p)"
      ],
      "execution_count": 0,
      "outputs": []
    },
    {
      "cell_type": "markdown",
      "metadata": {
        "id": "jKX_8URuMuP3",
        "colab_type": "text"
      },
      "source": [
        "You get a p-value of zero, which means that none of the 10,000 permutation pairs replicates you drew had a heritability high enough to match that which was observed. This strongly suggests that beak depth is heritable in G. scandens, just not as much as in G. fortis. If you like, you can plot a histogram of the heritability replicates to get a feel for how extreme of a value of heritability you might expect by chance."
      ]
    },
    {
      "cell_type": "code",
      "metadata": {
        "id": "HwVm9g0LMuwF",
        "colab_type": "code",
        "colab": {}
      },
      "source": [
        ""
      ],
      "execution_count": 0,
      "outputs": []
    }
  ]
}