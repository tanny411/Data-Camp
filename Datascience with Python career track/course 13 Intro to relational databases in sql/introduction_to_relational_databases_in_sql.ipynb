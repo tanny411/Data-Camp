{
  "nbformat": 4,
  "nbformat_minor": 0,
  "metadata": {
    "colab": {
      "name": "introduction-to-relational-databases-in-sql.ipynb",
      "version": "0.3.2",
      "provenance": [],
      "collapsed_sections": [
        "3-hVKKrLdnj-",
        "H3OgE1tFd1j4",
        "j4Oywifyd1fG",
        "mwAYqAZrdt64",
        "ZdR3vzq8dt4g"
      ]
    },
    "kernelspec": {
      "name": "python3",
      "display_name": "Python 3"
    }
  },
  "cells": [
    {
      "cell_type": "markdown",
      "metadata": {
        "id": "1YXtVW85KgtJ",
        "colab_type": "text"
      },
      "source": [
        "**No python code still!**"
      ]
    },
    {
      "cell_type": "markdown",
      "metadata": {
        "id": "3-hVKKrLdnj-",
        "colab_type": "text"
      },
      "source": [
        "# Your First Database"
      ]
    },
    {
      "cell_type": "markdown",
      "metadata": {
        "id": "1zTv9_35d1m1",
        "colab_type": "text"
      },
      "source": [
        "## Intro\n",
        "\n",
        "- Databases have advantage over flat files such as csv or excel files\n",
        "- real-life entities become table\n",
        "- redundancy reduced\n",
        "- data integrity by *relations*\n",
        "- use constraints, keys and referential integrity in order to assure data quality."
      ]
    },
    {
      "cell_type": "markdown",
      "metadata": {
        "id": "H3OgE1tFd1j4",
        "colab_type": "text"
      },
      "source": [
        "## Query information_schema with SELECT\n",
        "information_schema is a meta-database that holds information about your current database. information_schema has multiple tables you can query with the known SELECT * FROM syntax:\n",
        "\n",
        "tables: information about all tables in your current database\n",
        "columns: information about all columns in all of the tables in your current database\n",
        "...\n",
        "In this exercise, you'll only need information from the 'public' schema, which is specified as the column table_schema of the tables and columns tables. The 'public' schema holds information about user-defined tables and databases. The other types of table_schema hold system information – for this course, you're only interested in user-defined stuff."
      ]
    },
    {
      "cell_type": "markdown",
      "metadata": {
        "id": "0Gt7dDohd1hh",
        "colab_type": "text"
      },
      "source": [
        "-- Get information on all table names in the current database, while limiting your query to the 'public' table_schema.\n",
        "```\n",
        "SELECT table_name \n",
        "FROM information_schema.tables\n",
        "WHERE table_schema = 'public';\n",
        "```\n",
        "-- Now have a look at the columns in university_professors by selecting all entries in information_schema.columns that correspond to that table.\n",
        "```\n",
        "SELECT column_name, data_type \n",
        "FROM information_schema.columns \n",
        "WHERE table_name = 'university_professors' AND table_schema = 'public';\n",
        "```"
      ]
    },
    {
      "cell_type": "markdown",
      "metadata": {
        "id": "j4Oywifyd1fG",
        "colab_type": "text"
      },
      "source": [
        "## Tables\n",
        "- Multiple entity in a sigle table creates redundancy (professor, organization, university)\n",
        "- We also create an affiliation table to connect professor and organization\n",
        "- Entitiy relationship diagram"
      ]
    },
    {
      "cell_type": "markdown",
      "metadata": {
        "id": "fmv7Ob9Dd1cl",
        "colab_type": "text"
      },
      "source": [
        "### CREATE your first few TABLEs\n",
        "You'll now start implementing a better database model. For this, you'll create tables for the professors and universities entity types. The other tables will be created for you.\n",
        "\n",
        "The syntax for creating simple tables is as follows:\n",
        "```\n",
        "CREATE TABLE table_name (\n",
        " column_a data_type,\n",
        " column_b data_type,\n",
        " column_c data_type\n",
        ");\n",
        "```\n",
        "Attention: Table and columns names, as well as data types, don't need to be surrounded by quotation marks."
      ]
    },
    {
      "cell_type": "markdown",
      "metadata": {
        "id": "XXLikhksd1aP",
        "colab_type": "text"
      },
      "source": [
        "### Add COLUMN\n",
        "To add columns you can use the following SQL query:\n",
        "```\n",
        "ALTER TABLE table_name\n",
        "ADD COLUMN column_name data_type;\n",
        "```"
      ]
    },
    {
      "cell_type": "markdown",
      "metadata": {
        "id": "3RDRcduxj3Vb",
        "colab_type": "text"
      },
      "source": [
        "### INSERT\n",
        "```\n",
        "INSERT INTO organizations \n",
        "SELECT DISTINCT organization, \n",
        "    organization_sector\n",
        "FROM university_professors;\n",
        "```\n",
        "\n",
        "```\n",
        "INSERT INTO table_name (column_a, column_b)\n",
        "VALUES (\"value_a\", \"value_b\");\n",
        "```\n",
        "\n",
        "### RENAME\n",
        "```\n",
        "ALTER TABLE table_name\n",
        "RENAME COLUMN old_name TO new_name;\n",
        "```\n",
        "\n",
        "### DROP COLUMN\n",
        "```\n",
        "ALTER TABLE table_name\n",
        "DROP COLUMN column_name;\n",
        "```\n",
        "\n",
        "### DROP TABLE\n",
        "```\n",
        "DROP TABLE table_name;\n",
        "```"
      ]
    },
    {
      "cell_type": "markdown",
      "metadata": {
        "id": "mwAYqAZrdt64",
        "colab_type": "text"
      },
      "source": [
        "# Enforce data consistency with attribute constraints"
      ]
    },
    {
      "cell_type": "markdown",
      "metadata": {
        "id": "-7H4ZuoEpGXm",
        "colab_type": "text"
      },
      "source": [
        "### Integrity constraints\n",
        "- Attribute constraints, e.g. data types on columns\n",
        "- Key constraints, e.g. primary keys\n",
        "- Referential integrity constraints, enforced through foreign keys\n",
        "\n",
        "### Why constraints?\n",
        "- Constraints give the data structure\n",
        "- Constraints help with consistency, and thus data quality\n",
        "- Data quality is a business advantage / data science prerequisite\n",
        "- Enforcing is difficult, but PostgreSQL helps\n",
        "\n",
        "### Casting\n",
        "```\n",
        "SELECT temperature * CAST(wind_speed AS integer) AS wind_chill\n",
        "FROM weather;\n",
        "```\n",
        "\n",
        "### Working with data types\n",
        "- Enforced on columns (i.e. attributes)\n",
        "- Define the so-called \"domain\" of a column\n",
        "- Define what operations are possible\n",
        "- Enfore consistent storage of values\n",
        "\n",
        "### e.g\n",
        "```\n",
        "CREATE TABLE students (\n",
        " ssn integer, \n",
        " name varchar(64), \n",
        " dob date, \n",
        " average_grade numeric(3, 2), -- e.g. 5.54\n",
        " tuition_paid boolean \n",
        ");\n",
        "\n",
        "ALTER TABLE students\n",
        "ALTER COLUMN name \n",
        "TYPE varchar(128);\n",
        "\n",
        "ALTER TABLE students\n",
        "ALTER COLUMN average_grade\n",
        "TYPE integer\n",
        "-- Turns 5.54 into 6, not 5, before type conversion\n",
        "USING ROUND(average_grade);\n",
        "```\n",
        "\n",
        "### Convert types USING a function\n",
        "If you don't want to reserve too much space for a certain varchar column, you can truncate the values before converting its type.\n",
        "\n",
        "For this, you can use the following syntax:\n",
        "```\n",
        "ALTER TABLE table_name\n",
        "ALTER COLUMN column_name\n",
        "TYPE varchar(x)\n",
        "USING SUBSTRING(column_name FROM 1 FOR x)\n",
        "```\n",
        "You should read it like this: Because you want to reserve only x characters for column_name, you have to retain a SUBSTRING of every value, i.e. the first x characters of it, and throw away the rest. This way, the values will fit the varchar(x) requirement.\n",
        "\n",
        "### The not-null constraint\n",
        "- Disallow NULL values in a certain column\n",
        "- Must hold true for the current state\n",
        "- Must hold true for any future state\n",
        "\n",
        "### e.g\n",
        "```\n",
        "CREATE TABLE students (\n",
        " ssn integer not null,\n",
        " lastname varchar(64) not null,\n",
        " home_phone integer,\n",
        " office_phone integer\n",
        ");\n",
        "```\n",
        "\n",
        "- NULL!=NULL\n",
        "- comparing NULL with NULL always results in a false value.\n",
        "\n",
        "### add or remove NOT NULL\n",
        "```\n",
        "ALTER TABLE students \n",
        "ALTER COLUMN home_phone \n",
        "SET NOT NULL;\n",
        "\n",
        "ALTER TABLE students \n",
        "ALTER COLUMN ssn \n",
        "DROP NOT NULL;\n",
        "```\n",
        "\n",
        "### The UNIQUE constraint\n",
        "- Disallow duplicate values in a certain column\n",
        "- Must hold true for the current state\n",
        "- Must hold true for any future state\n",
        "\n",
        "## e.g\n",
        "```\n",
        "CREATE TABLE table_name (\n",
        " column_name UNIQUE\n",
        ");\n",
        " \n",
        "ALTER TABLE table_name\n",
        "ADD CONSTRAINT some_name UNIQUE(column_name);\n",
        "--you have to give the constraint a name some_name.\n",
        "```"
      ]
    },
    {
      "cell_type": "markdown",
      "metadata": {
        "id": "ZdR3vzq8dt4g",
        "colab_type": "text"
      },
      "source": [
        "# Uniquely identify records with key constraints\n"
      ]
    },
    {
      "cell_type": "markdown",
      "metadata": {
        "id": "-eEixm03-5Tw",
        "colab_type": "text"
      },
      "source": [
        "### What is a key?\n",
        "- Attribute(s) that identify a record uniquely\n",
        "- As long as attributes can be removed: superkey\n",
        "- If no more attributes can be removed: minimal superkey or key\n",
        "\n",
        "### e.g\n",
        "K1 = {license_no}; K2 = {serial_no}; K3 = {model}; K4 = {make, year}\n",
        "- K1 to 3 only consist of one attribute\n",
        "- Removing either \"make\" or \"year\" from K4 would result in duplicates\n",
        "- Only one candidate key can be the chosen key"
      ]
    },
    {
      "cell_type": "markdown",
      "metadata": {
        "id": "ZtNXs2Xu-5Qb",
        "colab_type": "text"
      },
      "source": [
        "### Get to know SELECT COUNT DISTINCT\n",
        "Your database doesn't have any defined keys so far, and you don't know which columns or combinations of columns are suited as keys.\n",
        "\n",
        "There's a simple way of finding out whether a certain column (or a combination) contains only unique values – and thus identifies the records in the table.\n",
        "\n",
        "You already know the SELECT DISTINCT query from the first chapter. Now you just have to wrap everything within the COUNT() function and PostgreSQL will return the number of unique rows for the given columns:\n",
        "```\n",
        "SELECT COUNT(DISTINCT(column_a, column_b, ...))\n",
        "FROM table;\n",
        "```\n",
        "\n",
        "### Identify keys with SELECT COUNT DISTINCT\n",
        "There's a very basic way of finding out what qualifies for a key in an existing, populated table:\n",
        "\n",
        "1. Count the distinct records for all possible combinations of columns. If the resulting number x equals the number of all rows in the table for a combination, you have discovered a superkey.\n",
        "\n",
        "2. Then remove one column after another until you can no longer remove columns without seeing the number x decrease. If that is the case, you have discovered a (candidate) key.\n",
        "\n",
        "The table professors has 551 rows. It has only one possible candidate key, which is a combination of two attributes. You might want to try different combinations using the \"Run code\" button. Once you have found the solution, you can submit your answer."
      ]
    },
    {
      "cell_type": "markdown",
      "metadata": {
        "id": "cVKSYiGo-5OL",
        "colab_type": "text"
      },
      "source": [
        "### Primary keys\n",
        "- One primary key per database table, chosen from candidate keys\n",
        "- Uniquely identifies records, e.g. for referencing in other tables\n",
        "- Unique and not-null constraints both apply\n",
        "- Primary keys are time-invariant: choose columns wisely!\n",
        "\n",
        "### e.g\n",
        "```\n",
        "CREATE TABLE products (\n",
        "    product_no integer PRIMARY KEY,\n",
        "    name text,\n",
        "    price numeric\n",
        ");\n",
        "\n",
        "OR\n",
        "\n",
        "CREATE TABLE example (\n",
        "    a integer,\n",
        "    b integer,\n",
        "    c integer,\n",
        "    PRIMARY KEY (a, c)\n",
        ");\n",
        "```\n",
        "\n",
        "### Add primary key\n",
        "```\n",
        "ALTER TABLE table_name\n",
        "ADD CONSTRAINT some_name PRIMARY KEY (column_name)\n",
        "```"
      ]
    },
    {
      "cell_type": "markdown",
      "metadata": {
        "id": "5x4w_kW3-5Ls",
        "colab_type": "text"
      },
      "source": [
        "### Surrogate key\n",
        "- artificial primary keys\n",
        "- primary keys on column that are there just for being a primary key\n",
        "- e.g incremented numering as id in a table\n",
        "\n",
        "### e.g making a surrogate key\n",
        "```\n",
        "ALTER TABLE cars\n",
        "ADD COLUMN id serial PRIMARY KEY;\n",
        "```\n",
        "serial means increment\n",
        "\n",
        "### with >1 columns\n",
        "```\n",
        "ALTER TABLE table_name\n",
        "ADD COLUMN column_c varchar(256);\n",
        "\n",
        "UPDATE table_name\n",
        "SET column_c = CONCAT(column_a, column_b);\n",
        "ALTER TABLE table_name\n",
        "ADD CONSTRAINT pk PRIMARY KEY (column_c);\n",
        "```"
      ]
    },
    {
      "cell_type": "markdown",
      "metadata": {
        "id": "3lzncHLhdt2M",
        "colab_type": "text"
      },
      "source": [
        "# Glue together tables with foreign keys\n"
      ]
    },
    {
      "cell_type": "markdown",
      "metadata": {
        "id": "n_Aivr_6KfuS",
        "colab_type": "text"
      },
      "source": [
        "### Implementing relationships with foreign keys\n",
        "- A foreign key (FK) points to the primary key (PK) of another table\n",
        "- Domain of FK must be equal to domain of PK\n",
        "- Each value of FK must exist in PK of the other table (FK constraint or \"referential integrity\")\n",
        "- FKs are not actual keys, because duplicates and null values are allowed\n",
        "\n",
        "### e.g\n",
        "```\n",
        "CREATE TABLE manufacturers (\n",
        " name varchar(255) PRIMARY KEY\n",
        ");\n",
        "\n",
        "INSERT INTO manufacturers \n",
        "VALUES ('Ford'), ('VW'), ('GM');\n",
        "CREATE TABLE cars (\n",
        " model varchar(255) PRIMARY KEY,\n",
        " manufacturer_name integer REFERENCES manufacturers (name)\n",
        ");\n",
        "\n",
        "INSERT INTO cars \n",
        "VALUES ('Ranger', 'Ford'), ('Beetle', 'VW');\n",
        "```\n",
        "\n",
        "### Specifying foreign keys to existing tables\n",
        "```\n",
        "ALTER TABLE a \n",
        "ADD CONSTRAINT a_fkey FOREIGN KEY (b_id) REFERENCES b (id);\n",
        "```"
      ]
    },
    {
      "cell_type": "markdown",
      "metadata": {
        "id": "6BrYrINNKfsN",
        "colab_type": "text"
      },
      "source": [
        "### JOIN tables linked by a foreign key\n",
        "While foreign keys and primary keys are not strictly necessary for join queries, they greatly help by telling you what to expect. For instance, you can be sure that records referenced from table A will always be present in table B – so a join from table A will always find something in table B. If not, the foreign key constraint would be violated.\n",
        "\n",
        "```\n",
        "SELECT professors.lastname, universities.id, universities.university_city\n",
        "FROM professors\n",
        "JOIN universities\n",
        "ON professors.university_id = universities.id\n",
        "where universities.university_city = 'Zurich';\n",
        "```"
      ]
    },
    {
      "cell_type": "markdown",
      "metadata": {
        "id": "0OJOO7vTKfpx",
        "colab_type": "text"
      },
      "source": [
        "### n-m relations\n",
        "#### How to implement N:M-relationships\n",
        "- Create a table\n",
        "- Add foreign keys for every connected table\n",
        "- Add additional attributes\n",
        "```\n",
        " CREATE TABLE affiliations (\n",
        " professor_id integer REFERENCES professors (id),\n",
        " organization_id varchar(256) REFERENCES organization (id),\n",
        " function varchar(256)\n",
        ");\n",
        "```\n",
        "- No primary key!\n",
        "- Possible PK = {professor_id, organization_id, function}\n",
        "- But no need to create such a primary key, its a bit over the top."
      ]
    },
    {
      "cell_type": "markdown",
      "metadata": {
        "id": "yoq9akKPKflf",
        "colab_type": "text"
      },
      "source": [
        "### Populate the \"professor_id\" column\n",
        "Here's a way to update columns of a table based on values in another table:\n",
        "```\n",
        "UPDATE table_a\n",
        "SET column_to_update = table_b.column_to_update_from\n",
        "FROM table_b\n",
        "WHERE condition1 AND condition2 AND ...;\n",
        "This query does the following:\n",
        "```\n",
        "For each row in table_a, find the corresponding row in table_b where condition1, condition2, etc., are met.\n",
        "Set the value of column_to_update to the value of column_to_update_from (from that corresponding row).\n",
        "The conditions usually compare other columns of both tables, e.g. table_a.some_column = table_b.some_column. Of course, this query only makes sense if there is only one matching row in table_b"
      ]
    },
    {
      "cell_type": "markdown",
      "metadata": {
        "id": "1hSHM4VuKfiI",
        "colab_type": "text"
      },
      "source": [
        "### Referential integrity violations\n",
        "Referential integrity from table A to table B is violated...\n",
        "\n",
        "- if a record in table B that is referenced from a record in table A is deleted.\n",
        "- if a record in table A referencing a non-existing record from table B is inserted.\n",
        "- Foreign keys prevent violations!\n",
        "\n",
        "### Dealing with violations\n",
        "ON DELETE...(what to do if a referenced row is deleted?)\n",
        "\n",
        "- NO ACTION: Throw an error (this is the default one)\n",
        "- CASCADE: Delete all referencing records\n",
        "- RESTRICT: Throw an error\n",
        "- SET NULL: Set the referencing column to NULL\n",
        "- SET DEFAULT: Set the referencing column to its default value"
      ]
    },
    {
      "cell_type": "markdown",
      "metadata": {
        "id": "y-0VXBbUVDdn",
        "colab_type": "text"
      },
      "source": [
        "### Altering foreing key on delete actions\n",
        "\n",
        "- Altering a key constraint doesn't work with ALTER COLUMN. Instead, you have to delete the key constraint and then add a new one with a different ON DELETE behavior.\n",
        "\n",
        "- For deleting constraints, though, you need to know their name. This information is also stored in information_schema.\n",
        "\n",
        "```\n",
        "-- Identify the correct constraint name\n",
        "SELECT constraint_name, table_name, constraint_type\n",
        "FROM information_schema.table_constraints\n",
        "WHERE constraint_type = 'FOREIGN KEY';\n",
        "\n",
        "-- Drop the right foreign key constraint\n",
        "ALTER TABLE affiliations\n",
        "DROP CONSTRAINT affiliations_organization_id_fkey;\n",
        "\n",
        "-- Add a new foreign key constraint from affiliations to organizations which cascades deletion\n",
        "ALTER TABLE affiliations\n",
        "ADD CONSTRAINT affiliations_organization_id_fkey FOREIGN KEY (organization_id) REFERENCES organizations (id) ON DELETE CASCADE;\n",
        "\n",
        "-- Delete an organization \n",
        "DELETE FROM organizations \n",
        "WHERE id = 'CUREM';\n",
        "\n",
        "-- Check that no more affiliations with this organization exist\n",
        "SELECT * FROM organizations\n",
        "WHERE id = 'CUREM';\n",
        "```"
      ]
    },
    {
      "cell_type": "markdown",
      "metadata": {
        "id": "xAPXy_0UX8_d",
        "colab_type": "text"
      },
      "source": [
        "### task:\n",
        "- Count the number of total affiliations by university.\n",
        "- Sort the result by that count, in descending order.\n",
        "\n",
        "```\n",
        "SELECT count(*), professors.university_id \n",
        "FROM affiliations\n",
        "JOIN professors\n",
        "ON affiliations.professor_id = professors.id\n",
        "GROUP BY professors.university_id\n",
        "order by count DESC;\n",
        "```"
      ]
    },
    {
      "cell_type": "markdown",
      "metadata": {
        "id": "HQg2jbjrYM-Q",
        "colab_type": "text"
      },
      "source": [
        "### Join all the tables together\n",
        "- find the university city of the professor with the most affiliations in the sector \"Media & communication\".\n",
        "\n",
        "For this, you need to join all the tables, group by a column, and then use selection criteria to get only the rows in the correct sector.\n",
        "\n",
        "```\n",
        "-- Filter the table and sort it\n",
        "SELECT COUNT(*), organizations.organization_sector, \n",
        "professors.id, universities.university_city\n",
        "FROM affiliations\n",
        "JOIN professors\n",
        "ON affiliations.professor_id = professors.id\n",
        "JOIN organizations\n",
        "ON affiliations.organization_id = organizations.id\n",
        "JOIN universities\n",
        "ON professors.university_id = universities.id\n",
        "where organizations.organization_sector = 'Media & communication'\n",
        "GROUP BY organizations.organization_sector, \n",
        "professors.id, universities.university_city\n",
        "order by count DESC;\n",
        "```"
      ]
    },
    {
      "cell_type": "code",
      "metadata": {
        "id": "OLgfY-JNTxY1",
        "colab_type": "code",
        "colab": {}
      },
      "source": [
        ""
      ],
      "execution_count": 0,
      "outputs": []
    }
  ]
}