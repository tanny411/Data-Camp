{
  "nbformat": 4,
  "nbformat_minor": 0,
  "metadata": {
    "colab": {
      "name": "importing-data-in-python-part-2.ipynb",
      "version": "0.3.2",
      "provenance": []
    },
    "kernelspec": {
      "name": "python3",
      "display_name": "Python 3"
    },
    "accelerator": "GPU"
  },
  "cells": [
    {
      "cell_type": "markdown",
      "metadata": {
        "id": "mEKTLIXiBPdS",
        "colab_type": "text"
      },
      "source": [
        "# Why do we need data from the web?\n",
        "\n",
        "- not scalable\n",
        "- not reproducible easily\n",
        "- code is always better (automated)\n"
      ]
    },
    {
      "cell_type": "markdown",
      "metadata": {
        "id": "inzNH6eQNES0",
        "colab_type": "text"
      },
      "source": [
        "### csv"
      ]
    },
    {
      "cell_type": "code",
      "metadata": {
        "id": "YAGJrXAt7qJl",
        "colab_type": "code",
        "outputId": "00ac9284-2e87-4f73-dbaa-26f96fdac92b",
        "colab": {
          "base_uri": "https://localhost:8080/",
          "height": 221
        }
      },
      "source": [
        "'''\n",
        "    CSV saved locally, then into Dataframe\n",
        "'''\n",
        "\n",
        "# Import package\n",
        "from urllib.request import urlretrieve\n",
        "\n",
        "# Import pandas\n",
        "import pandas as pd\n",
        "\n",
        "# Assign url of file: url\n",
        "url = 'https://s3.amazonaws.com/assets.datacamp.com/production/course_1606/datasets/winequality-red.csv'\n",
        "\n",
        "# Save file locally\n",
        "urlretrieve(url,'winequality-red.csv')\n",
        "\n",
        "# Read file into a DataFrame and print its head\n",
        "df = pd.read_csv('winequality-red.csv', sep=';')\n",
        "\n",
        "df.head()"
      ],
      "execution_count": 0,
      "outputs": [
        {
          "output_type": "execute_result",
          "data": {
            "text/html": [
              "<div>\n",
              "<style scoped>\n",
              "    .dataframe tbody tr th:only-of-type {\n",
              "        vertical-align: middle;\n",
              "    }\n",
              "\n",
              "    .dataframe tbody tr th {\n",
              "        vertical-align: top;\n",
              "    }\n",
              "\n",
              "    .dataframe thead th {\n",
              "        text-align: right;\n",
              "    }\n",
              "</style>\n",
              "<table border=\"1\" class=\"dataframe\">\n",
              "  <thead>\n",
              "    <tr style=\"text-align: right;\">\n",
              "      <th></th>\n",
              "      <th>fixed acidity</th>\n",
              "      <th>volatile acidity</th>\n",
              "      <th>citric acid</th>\n",
              "      <th>residual sugar</th>\n",
              "      <th>chlorides</th>\n",
              "      <th>free sulfur dioxide</th>\n",
              "      <th>total sulfur dioxide</th>\n",
              "      <th>density</th>\n",
              "      <th>pH</th>\n",
              "      <th>sulphates</th>\n",
              "      <th>alcohol</th>\n",
              "      <th>quality</th>\n",
              "    </tr>\n",
              "  </thead>\n",
              "  <tbody>\n",
              "    <tr>\n",
              "      <th>0</th>\n",
              "      <td>7.4</td>\n",
              "      <td>0.70</td>\n",
              "      <td>0.00</td>\n",
              "      <td>1.9</td>\n",
              "      <td>0.076</td>\n",
              "      <td>11.0</td>\n",
              "      <td>34.0</td>\n",
              "      <td>0.9978</td>\n",
              "      <td>3.51</td>\n",
              "      <td>0.56</td>\n",
              "      <td>9.4</td>\n",
              "      <td>5</td>\n",
              "    </tr>\n",
              "    <tr>\n",
              "      <th>1</th>\n",
              "      <td>7.8</td>\n",
              "      <td>0.88</td>\n",
              "      <td>0.00</td>\n",
              "      <td>2.6</td>\n",
              "      <td>0.098</td>\n",
              "      <td>25.0</td>\n",
              "      <td>67.0</td>\n",
              "      <td>0.9968</td>\n",
              "      <td>3.20</td>\n",
              "      <td>0.68</td>\n",
              "      <td>9.8</td>\n",
              "      <td>5</td>\n",
              "    </tr>\n",
              "    <tr>\n",
              "      <th>2</th>\n",
              "      <td>7.8</td>\n",
              "      <td>0.76</td>\n",
              "      <td>0.04</td>\n",
              "      <td>2.3</td>\n",
              "      <td>0.092</td>\n",
              "      <td>15.0</td>\n",
              "      <td>54.0</td>\n",
              "      <td>0.9970</td>\n",
              "      <td>3.26</td>\n",
              "      <td>0.65</td>\n",
              "      <td>9.8</td>\n",
              "      <td>5</td>\n",
              "    </tr>\n",
              "    <tr>\n",
              "      <th>3</th>\n",
              "      <td>11.2</td>\n",
              "      <td>0.28</td>\n",
              "      <td>0.56</td>\n",
              "      <td>1.9</td>\n",
              "      <td>0.075</td>\n",
              "      <td>17.0</td>\n",
              "      <td>60.0</td>\n",
              "      <td>0.9980</td>\n",
              "      <td>3.16</td>\n",
              "      <td>0.58</td>\n",
              "      <td>9.8</td>\n",
              "      <td>6</td>\n",
              "    </tr>\n",
              "    <tr>\n",
              "      <th>4</th>\n",
              "      <td>7.4</td>\n",
              "      <td>0.70</td>\n",
              "      <td>0.00</td>\n",
              "      <td>1.9</td>\n",
              "      <td>0.076</td>\n",
              "      <td>11.0</td>\n",
              "      <td>34.0</td>\n",
              "      <td>0.9978</td>\n",
              "      <td>3.51</td>\n",
              "      <td>0.56</td>\n",
              "      <td>9.4</td>\n",
              "      <td>5</td>\n",
              "    </tr>\n",
              "  </tbody>\n",
              "</table>\n",
              "</div>"
            ],
            "text/plain": [
              "   fixed acidity  volatile acidity  citric acid  ...  sulphates  alcohol  quality\n",
              "0            7.4              0.70         0.00  ...       0.56      9.4        5\n",
              "1            7.8              0.88         0.00  ...       0.68      9.8        5\n",
              "2            7.8              0.76         0.04  ...       0.65      9.8        5\n",
              "3           11.2              0.28         0.56  ...       0.58      9.8        6\n",
              "4            7.4              0.70         0.00  ...       0.56      9.4        5\n",
              "\n",
              "[5 rows x 12 columns]"
            ]
          },
          "metadata": {
            "tags": []
          },
          "execution_count": 1
        }
      ]
    },
    {
      "cell_type": "code",
      "metadata": {
        "id": "KeyWWKXZLYVa",
        "colab_type": "code",
        "outputId": "960e73f7-ea0d-48d8-b51d-6aaa2c828562",
        "colab": {
          "base_uri": "https://localhost:8080/",
          "height": 221
        }
      },
      "source": [
        "'''\n",
        "    CSV directly into Dataframe\n",
        "'''\n",
        "\n",
        "# Import packages\n",
        "import matplotlib.pyplot as plt\n",
        "import pandas as pd\n",
        "\n",
        "# Assign url of file: url\n",
        "url = 'https://s3.amazonaws.com/assets.datacamp.com/production/course_1606/datasets/winequality-red.csv'\n",
        "\n",
        "# Read file into a DataFrame: df\n",
        "df = pd.read_csv(url,sep=';')\n",
        "\n",
        "# Print the head of the DataFrame\n",
        "df.head()"
      ],
      "execution_count": 0,
      "outputs": [
        {
          "output_type": "execute_result",
          "data": {
            "text/html": [
              "<div>\n",
              "<style scoped>\n",
              "    .dataframe tbody tr th:only-of-type {\n",
              "        vertical-align: middle;\n",
              "    }\n",
              "\n",
              "    .dataframe tbody tr th {\n",
              "        vertical-align: top;\n",
              "    }\n",
              "\n",
              "    .dataframe thead th {\n",
              "        text-align: right;\n",
              "    }\n",
              "</style>\n",
              "<table border=\"1\" class=\"dataframe\">\n",
              "  <thead>\n",
              "    <tr style=\"text-align: right;\">\n",
              "      <th></th>\n",
              "      <th>fixed acidity</th>\n",
              "      <th>volatile acidity</th>\n",
              "      <th>citric acid</th>\n",
              "      <th>residual sugar</th>\n",
              "      <th>chlorides</th>\n",
              "      <th>free sulfur dioxide</th>\n",
              "      <th>total sulfur dioxide</th>\n",
              "      <th>density</th>\n",
              "      <th>pH</th>\n",
              "      <th>sulphates</th>\n",
              "      <th>alcohol</th>\n",
              "      <th>quality</th>\n",
              "    </tr>\n",
              "  </thead>\n",
              "  <tbody>\n",
              "    <tr>\n",
              "      <th>0</th>\n",
              "      <td>7.4</td>\n",
              "      <td>0.70</td>\n",
              "      <td>0.00</td>\n",
              "      <td>1.9</td>\n",
              "      <td>0.076</td>\n",
              "      <td>11.0</td>\n",
              "      <td>34.0</td>\n",
              "      <td>0.9978</td>\n",
              "      <td>3.51</td>\n",
              "      <td>0.56</td>\n",
              "      <td>9.4</td>\n",
              "      <td>5</td>\n",
              "    </tr>\n",
              "    <tr>\n",
              "      <th>1</th>\n",
              "      <td>7.8</td>\n",
              "      <td>0.88</td>\n",
              "      <td>0.00</td>\n",
              "      <td>2.6</td>\n",
              "      <td>0.098</td>\n",
              "      <td>25.0</td>\n",
              "      <td>67.0</td>\n",
              "      <td>0.9968</td>\n",
              "      <td>3.20</td>\n",
              "      <td>0.68</td>\n",
              "      <td>9.8</td>\n",
              "      <td>5</td>\n",
              "    </tr>\n",
              "    <tr>\n",
              "      <th>2</th>\n",
              "      <td>7.8</td>\n",
              "      <td>0.76</td>\n",
              "      <td>0.04</td>\n",
              "      <td>2.3</td>\n",
              "      <td>0.092</td>\n",
              "      <td>15.0</td>\n",
              "      <td>54.0</td>\n",
              "      <td>0.9970</td>\n",
              "      <td>3.26</td>\n",
              "      <td>0.65</td>\n",
              "      <td>9.8</td>\n",
              "      <td>5</td>\n",
              "    </tr>\n",
              "    <tr>\n",
              "      <th>3</th>\n",
              "      <td>11.2</td>\n",
              "      <td>0.28</td>\n",
              "      <td>0.56</td>\n",
              "      <td>1.9</td>\n",
              "      <td>0.075</td>\n",
              "      <td>17.0</td>\n",
              "      <td>60.0</td>\n",
              "      <td>0.9980</td>\n",
              "      <td>3.16</td>\n",
              "      <td>0.58</td>\n",
              "      <td>9.8</td>\n",
              "      <td>6</td>\n",
              "    </tr>\n",
              "    <tr>\n",
              "      <th>4</th>\n",
              "      <td>7.4</td>\n",
              "      <td>0.70</td>\n",
              "      <td>0.00</td>\n",
              "      <td>1.9</td>\n",
              "      <td>0.076</td>\n",
              "      <td>11.0</td>\n",
              "      <td>34.0</td>\n",
              "      <td>0.9978</td>\n",
              "      <td>3.51</td>\n",
              "      <td>0.56</td>\n",
              "      <td>9.4</td>\n",
              "      <td>5</td>\n",
              "    </tr>\n",
              "  </tbody>\n",
              "</table>\n",
              "</div>"
            ],
            "text/plain": [
              "   fixed acidity  volatile acidity  citric acid  ...  sulphates  alcohol  quality\n",
              "0            7.4              0.70         0.00  ...       0.56      9.4        5\n",
              "1            7.8              0.88         0.00  ...       0.68      9.8        5\n",
              "2            7.8              0.76         0.04  ...       0.65      9.8        5\n",
              "3           11.2              0.28         0.56  ...       0.58      9.8        6\n",
              "4            7.4              0.70         0.00  ...       0.56      9.4        5\n",
              "\n",
              "[5 rows x 12 columns]"
            ]
          },
          "metadata": {
            "tags": []
          },
          "execution_count": 4
        }
      ]
    },
    {
      "cell_type": "code",
      "metadata": {
        "id": "NmXUO3uaMHrT",
        "colab_type": "code",
        "outputId": "9afb8575-94d1-4523-c89f-e59ad83cc3c1",
        "colab": {
          "base_uri": "https://localhost:8080/",
          "height": 289
        }
      },
      "source": [
        "# Plot first column of df\n",
        "plt.hist(df['fixed acidity'])\n",
        "plt.xlabel('fixed acidity (g(tartaric acid)/dm$^3$)')\n",
        "plt.ylabel('count')\n",
        "plt.show()"
      ],
      "execution_count": 0,
      "outputs": [
        {
          "output_type": "display_data",
          "data": {
            "image/png": "[encoded data removed]",
            "text/plain": [
              "<Figure size 432x288 with 1 Axes>"
            ]
          },
          "metadata": {
            "tags": []
          }
        }
      ]
    },
    {
      "cell_type": "markdown",
      "metadata": {
        "id": "xptaKe5BNGdr",
        "colab_type": "text"
      },
      "source": [
        "### excel"
      ]
    },
    {
      "cell_type": "code",
      "metadata": {
        "id": "ASDoH3InMwMc",
        "colab_type": "code",
        "outputId": "c6f87959-ed5f-491e-b533-e074e2a4ef2e",
        "colab": {
          "base_uri": "https://localhost:8080/",
          "height": 136
        }
      },
      "source": [
        "# Import package\n",
        "import pandas as pd\n",
        "\n",
        "# Assign url of file: url\n",
        "url = 'http://s3.amazonaws.com/assets.datacamp.com/course/importing_data_into_r/latitude.xls'\n",
        "\n",
        "# Read in all sheets of Excel file: xl\n",
        "xl = pd.read_excel(url, sheet_name=None)\n",
        "#previously we used pd.ExcelFile(), and then xl.parse(sheetname)\n",
        "\n",
        "# Print the sheetnames to the shell\n",
        "print(xl.keys())\n",
        "\n",
        "# Print the head of the first sheet (using its name, NOT its index)\n",
        "print(xl['1700'].head())"
      ],
      "execution_count": 0,
      "outputs": [
        {
          "output_type": "stream",
          "text": [
            "odict_keys(['1700', '1900'])\n",
            "                 country       1700\n",
            "0            Afghanistan  34.565000\n",
            "1  Akrotiri and Dhekelia  34.616667\n",
            "2                Albania  41.312000\n",
            "3                Algeria  36.720000\n",
            "4         American Samoa -14.307000\n"
          ],
          "name": "stdout"
        }
      ]
    },
    {
      "cell_type": "markdown",
      "metadata": {
        "id": "t7MsbfcrO_MU",
        "colab_type": "text"
      },
      "source": [
        "# Http Requests"
      ]
    },
    {
      "cell_type": "markdown",
      "metadata": {
        "id": "P-EMIa0UU6Dg",
        "colab_type": "text"
      },
      "source": [
        "### using urllib"
      ]
    },
    {
      "cell_type": "code",
      "metadata": {
        "id": "nTk_i1GCOGrR",
        "colab_type": "code",
        "outputId": "065e7c89-90c7-48f6-b261-70b40669a096",
        "colab": {
          "base_uri": "https://localhost:8080/",
          "height": 34
        }
      },
      "source": [
        "# Import packages\n",
        "from urllib.request import urlopen,Request\n",
        "\n",
        "# Specify the url\n",
        "url = \"http://www.datacamp.com/teach/documentation\"\n",
        "\n",
        "# This packages the request: request\n",
        "request = Request(url)\n",
        "\n",
        "# Sends the request and catches the response: response\n",
        "response = urlopen(request)\n",
        "\n",
        "# Print the datatype of response\n",
        "print(type(response))\n",
        "\n",
        "html = response.read()\n",
        "\n",
        "# print(html)\n",
        "\n",
        "# Be polite and close the response!\n",
        "response.close()"
      ],
      "execution_count": 0,
      "outputs": [
        {
          "output_type": "stream",
          "text": [
            "<class 'http.client.HTTPResponse'>\n"
          ],
          "name": "stdout"
        }
      ]
    },
    {
      "cell_type": "markdown",
      "metadata": {
        "id": "J3eNF8u2U85e",
        "colab_type": "text"
      },
      "source": [
        "### using requests"
      ]
    },
    {
      "cell_type": "markdown",
      "metadata": {
        "id": "Xw8q-R8eVQA0",
        "colab_type": "text"
      },
      "source": [
        "- Package the request to the URL, send the request and catch the response with a single function - requests.get(), assigning the response to the variable r.\n",
        "- Use the text attribute of the object r to return the HTML of the webpage as a string; store the result in a variable text"
      ]
    },
    {
      "cell_type": "code",
      "metadata": {
        "id": "p-mu0MO9T-46",
        "colab_type": "code",
        "colab": {}
      },
      "source": [
        "# Import package\n",
        "import requests\n",
        "\n",
        "# Specify the url: url\n",
        "url = \"http://www.datacamp.com/teach/documentation\"\n",
        "\n",
        "# Packages the request, send the request and catch the response: r\n",
        "r = requests.get(url)\n",
        "\n",
        "# Extract the response: text\n",
        "text = r.text\n",
        "\n",
        "# Print the html\n",
        "print(text)"
      ],
      "execution_count": 0,
      "outputs": []
    },
    {
      "cell_type": "markdown",
      "metadata": {
        "id": "kXLzaU4CWKnd",
        "colab_type": "text"
      },
      "source": [
        "### Extracting from HTML"
      ]
    },
    {
      "cell_type": "code",
      "metadata": {
        "id": "PN07CoqNUZZN",
        "colab_type": "code",
        "outputId": "3ce8c3f9-96b9-4167-d6e1-7a44784eabc5",
        "colab": {
          "base_uri": "https://localhost:8080/",
          "height": 1000
        }
      },
      "source": [
        "# Import packages\n",
        "import requests\n",
        "from bs4 import BeautifulSoup\n",
        "\n",
        "# Specify url: url\n",
        "url = 'https://www.python.org/~guido/'\n",
        "\n",
        "# Package the request, send the request and catch the response: r\n",
        "r = requests.get(url)\n",
        "\n",
        "# Extracts the response as html: html_doc\n",
        "html_doc = r.text\n",
        "\n",
        "# Create a BeautifulSoup object from the HTML: soup\n",
        "soup = BeautifulSoup(html_doc)\n",
        "\n",
        "# Prettify the BeautifulSoup object: pretty_soup\n",
        "pretty_soup = soup.prettify() ### Indenting the tags\n",
        "\n",
        "# Print the response\n",
        "print(pretty_soup)"
      ],
      "execution_count": 0,
      "outputs": [
        {
          "output_type": "stream",
          "text": [
            "<html>\n",
            " <head>\n",
            "  <title>\n",
            "   Guido's Personal Home Page\n",
            "  </title>\n",
            " </head>\n",
            " <body bgcolor=\"#FFFFFF\" text=\"#000000\">\n",
            "  <h1>\n",
            "   <a href=\"pics.html\">\n",
            "    <img border=\"0\" src=\"images/IMG_2192.jpg\"/>\n",
            "   </a>\n",
            "   Guido van Rossum - Personal Home Page\n",
            "   <a href=\"pics.html\">\n",
            "    <img border=\"0\" height=\"216\" src=\"images/guido-headshot-2019.jpg\" width=\"270\"/>\n",
            "   </a>\n",
            "  </h1>\n",
            "  <p>\n",
            "   <a href=\"http://www.washingtonpost.com/wp-srv/business/longterm/microsoft/stories/1998/raymond120398.htm\">\n",
            "    <i>\n",
            "     \"Gawky and proud of it.\"\n",
            "    </i>\n",
            "   </a>\n",
            "  </p>\n",
            "  <h3>\n",
            "   <a href=\"http://metalab.unc.edu/Dave/Dr-Fun/df200004/df20000406.jpg\">\n",
            "    Who\n",
            "I Am\n",
            "   </a>\n",
            "  </h3>\n",
            "  <p>\n",
            "   Read\n",
            "my\n",
            "   <a href=\"http://neopythonic.blogspot.com/2016/04/kings-day-speech.html\">\n",
            "    \"King's\n",
            "Day Speech\"\n",
            "   </a>\n",
            "   for some inspiration.\n",
            "  </p>\n",
            "  <p>\n",
            "   I am the author of the\n",
            "   <a href=\"http://www.python.org\">\n",
            "    Python\n",
            "   </a>\n",
            "   programming language.  See also my\n",
            "   <a href=\"Resume.html\">\n",
            "    resume\n",
            "   </a>\n",
            "   and my\n",
            "   <a href=\"Publications.html\">\n",
            "    publications list\n",
            "   </a>\n",
            "   , a\n",
            "   <a href=\"bio.html\">\n",
            "    brief bio\n",
            "   </a>\n",
            "   , assorted\n",
            "   <a href=\"http://legacy.python.org/doc/essays/\">\n",
            "    writings\n",
            "   </a>\n",
            "   ,\n",
            "   <a href=\"http://legacy.python.org/doc/essays/ppt/\">\n",
            "    presentations\n",
            "   </a>\n",
            "   and\n",
            "   <a href=\"interviews.html\">\n",
            "    interviews\n",
            "   </a>\n",
            "   (all about Python), some\n",
            "   <a href=\"pics.html\">\n",
            "    pictures of me\n",
            "   </a>\n",
            "   ,\n",
            "   <a href=\"http://neopythonic.blogspot.com\">\n",
            "    my new blog\n",
            "   </a>\n",
            "   , and\n",
            "my\n",
            "   <a href=\"http://www.artima.com/weblogs/index.jsp?blogger=12088\">\n",
            "    old\n",
            "blog\n",
            "   </a>\n",
            "   on Artima.com.  I am\n",
            "   <a href=\"https://twitter.com/gvanrossum\">\n",
            "    @gvanrossum\n",
            "   </a>\n",
            "   on Twitter.\n",
            "  </p>\n",
            "  <p>\n",
            "   In January 2013 I joined\n",
            "   <a href=\"http://www.dropbox.com\">\n",
            "    Dropbox\n",
            "   </a>\n",
            "   .  I work on various Dropbox\n",
            "products and have 50% for my Python work, no strings attached.\n",
            "Previously, I have worked for Google, Elemental Security, Zope\n",
            "Corporation, BeOpen.com, CNRI, CWI, and SARA.  (See\n",
            "my\n",
            "   <a href=\"Resume.html\">\n",
            "    resume\n",
            "   </a>\n",
            "   .)  I created Python while at CWI.\n",
            "  </p>\n",
            "  <h3>\n",
            "   How to Reach Me\n",
            "  </h3>\n",
            "  <p>\n",
            "   You can send email for me to guido (at) python.org.\n",
            "I read everything sent there, but if you ask\n",
            "me a question about using Python, it's likely that I won't have time\n",
            "to answer it, and will instead refer you to\n",
            "help (at) python.org,\n",
            "   <a href=\"http://groups.google.com/groups?q=comp.lang.python\">\n",
            "    comp.lang.python\n",
            "   </a>\n",
            "   or\n",
            "   <a href=\"http://stackoverflow.com\">\n",
            "    StackOverflow\n",
            "   </a>\n",
            "   .  If you need to\n",
            "talk to me on the phone or send me something by snail mail, send me an\n",
            "email and I'll gladly email you instructions on how to reach me.\n",
            "  </p>\n",
            "  <h3>\n",
            "   My Name\n",
            "  </h3>\n",
            "  <p>\n",
            "   My name often poses difficulties for Americans.\n",
            "  </p>\n",
            "  <p>\n",
            "   <b>\n",
            "    Pronunciation:\n",
            "   </b>\n",
            "   in Dutch, the \"G\" in Guido is a hard G,\n",
            "pronounced roughly like the \"ch\" in Scottish \"loch\".  (Listen to the\n",
            "   <a href=\"guido.au\">\n",
            "    sound clip\n",
            "   </a>\n",
            "   .)  However, if you're\n",
            "American, you may also pronounce it as the Italian \"Guido\".  I'm not\n",
            "too worried about the associations with mob assassins that some people\n",
            "have. :-)\n",
            "  </p>\n",
            "  <p>\n",
            "   <b>\n",
            "    Spelling:\n",
            "   </b>\n",
            "   my last name is two words, and I'd like to keep it\n",
            "that way, the spelling on some of my credit cards notwithstanding.\n",
            "Dutch spelling rules dictate that when used in combination with my\n",
            "first name, \"van\" is not capitalized: \"Guido van Rossum\".  But when my\n",
            "last name is used alone to refer to me, it is capitalized, for\n",
            "example: \"As usual, Van Rossum was right.\"\n",
            "  </p>\n",
            "  <p>\n",
            "   <b>\n",
            "    Alphabetization:\n",
            "   </b>\n",
            "   in America, I show up in the alphabet under\n",
            "\"V\".  But in Europe, I show up under \"R\".  And some of my friends put\n",
            "me under \"G\" in their address book...\n",
            "  </p>\n",
            "  <h3>\n",
            "   More Hyperlinks\n",
            "  </h3>\n",
            "  <ul>\n",
            "   <li>\n",
            "    Here's a collection of\n",
            "    <a href=\"http://legacy.python.org/doc/essays/\">\n",
            "     essays\n",
            "    </a>\n",
            "    relating to Python\n",
            "that I've written, including the foreword I wrote for Mark Lutz' book\n",
            "\"Programming Python\".\n",
            "    <p>\n",
            "    </p>\n",
            "   </li>\n",
            "   <li>\n",
            "    I own the official\n",
            "    <a href=\"images/license.jpg\">\n",
            "     <img align=\"center\" border=\"0\" height=\"75\" src=\"images/license_thumb.jpg\" width=\"100\"/>\n",
            "     Python license.\n",
            "    </a>\n",
            "    <p>\n",
            "    </p>\n",
            "   </li>\n",
            "  </ul>\n",
            "  <h3>\n",
            "   The Audio File Formats FAQ\n",
            "  </h3>\n",
            "  <p>\n",
            "   I was the original creator and maintainer of the Audio File Formats\n",
            "FAQ.  It is now maintained by Chris Bagwell\n",
            "at\n",
            "   <a href=\"http://www.cnpbagwell.com/audio-faq\">\n",
            "    http://www.cnpbagwell.com/audio-faq\n",
            "   </a>\n",
            "   .  And here is a link to\n",
            "   <a href=\"http://sox.sourceforge.net/\">\n",
            "    SOX\n",
            "   </a>\n",
            "   , to which I contributed\n",
            "some early code.\n",
            "  </p>\n",
            "  <hr/>\n",
            "  <a href=\"images/internetdog.gif\">\n",
            "   \"On the Internet, nobody knows you're\n",
            "a dog.\"\n",
            "  </a>\n",
            "  <hr/>\n",
            " </body>\n",
            "</html>\n"
          ],
          "name": "stdout"
        }
      ]
    },
    {
      "cell_type": "code",
      "metadata": {
        "id": "iilkO5U6XQwe",
        "colab_type": "code",
        "outputId": "763f24b0-2333-4da7-f3c3-e21f816137c0",
        "colab": {
          "base_uri": "https://localhost:8080/",
          "height": 34
        }
      },
      "source": [
        "guido_title = soup.title\n",
        "\n",
        "# Print the title of Guido's webpage to the shell\n",
        "print(guido_title)"
      ],
      "execution_count": 0,
      "outputs": [
        {
          "output_type": "stream",
          "text": [
            "<title>Guido's Personal Home Page</title>\n"
          ],
          "name": "stdout"
        }
      ]
    },
    {
      "cell_type": "code",
      "metadata": {
        "id": "nere5CUhXzSz",
        "colab_type": "code",
        "outputId": "0d553e10-64c9-4691-cbef-1fb798eb3b79",
        "colab": {
          "base_uri": "https://localhost:8080/",
          "height": 34
        }
      },
      "source": [
        "soup.title.text"
      ],
      "execution_count": 0,
      "outputs": [
        {
          "output_type": "execute_result",
          "data": {
            "text/plain": [
              "\"Guido's Personal Home Page\""
            ]
          },
          "metadata": {
            "tags": []
          },
          "execution_count": 23
        }
      ]
    },
    {
      "cell_type": "code",
      "metadata": {
        "id": "y8t4WO9kXr8r",
        "colab_type": "code",
        "outputId": "a9f55de3-5619-4b0b-e5e1-8d0ec72bc59a",
        "colab": {
          "base_uri": "https://localhost:8080/",
          "height": 1000
        }
      },
      "source": [
        "# Get Guido's text: guido_text\n",
        "guido_text = soup.get_text()\n",
        "\n",
        "# Print Guido's text to the shell\n",
        "print(guido_text)"
      ],
      "execution_count": 0,
      "outputs": [
        {
          "output_type": "stream",
          "text": [
            "\n",
            "\n",
            "Guido's Personal Home Page\n",
            "\n",
            "\n",
            "\n",
            "\n",
            "Guido van Rossum - Personal Home Page\n",
            "\n",
            "\n",
            "\"Gawky and proud of it.\"\n",
            "Who\n",
            "I Am\n",
            "Read\n",
            "my \"King's\n",
            "Day Speech\" for some inspiration.\n",
            "\n",
            "I am the author of the Python\n",
            "programming language.  See also my resume\n",
            "and my publications list, a brief bio, assorted writings, presentations and interviews (all about Python), some\n",
            "pictures of me,\n",
            "my new blog, and\n",
            "my old\n",
            "blog on Artima.com.  I am\n",
            "@gvanrossum on Twitter.\n",
            "\n",
            "In January 2013 I joined\n",
            "Dropbox.  I work on various Dropbox\n",
            "products and have 50% for my Python work, no strings attached.\n",
            "Previously, I have worked for Google, Elemental Security, Zope\n",
            "Corporation, BeOpen.com, CNRI, CWI, and SARA.  (See\n",
            "my resume.)  I created Python while at CWI.\n",
            "\n",
            "How to Reach Me\n",
            "You can send email for me to guido (at) python.org.\n",
            "I read everything sent there, but if you ask\n",
            "me a question about using Python, it's likely that I won't have time\n",
            "to answer it, and will instead refer you to\n",
            "help (at) python.org,\n",
            "comp.lang.python or\n",
            "StackOverflow.  If you need to\n",
            "talk to me on the phone or send me something by snail mail, send me an\n",
            "email and I'll gladly email you instructions on how to reach me.\n",
            "\n",
            "My Name\n",
            "My name often poses difficulties for Americans.\n",
            "\n",
            "Pronunciation: in Dutch, the \"G\" in Guido is a hard G,\n",
            "pronounced roughly like the \"ch\" in Scottish \"loch\".  (Listen to the\n",
            "sound clip.)  However, if you're\n",
            "American, you may also pronounce it as the Italian \"Guido\".  I'm not\n",
            "too worried about the associations with mob assassins that some people\n",
            "have. :-)\n",
            "\n",
            "Spelling: my last name is two words, and I'd like to keep it\n",
            "that way, the spelling on some of my credit cards notwithstanding.\n",
            "Dutch spelling rules dictate that when used in combination with my\n",
            "first name, \"van\" is not capitalized: \"Guido van Rossum\".  But when my\n",
            "last name is used alone to refer to me, it is capitalized, for\n",
            "example: \"As usual, Van Rossum was right.\"\n",
            "\n",
            "Alphabetization: in America, I show up in the alphabet under\n",
            "\"V\".  But in Europe, I show up under \"R\".  And some of my friends put\n",
            "me under \"G\" in their address book...\n",
            "\n",
            "\n",
            "More Hyperlinks\n",
            "\n",
            "Here's a collection of essays relating to Python\n",
            "that I've written, including the foreword I wrote for Mark Lutz' book\n",
            "\"Programming Python\".\n",
            "I own the official \n",
            "Python license.\n",
            "\n",
            "The Audio File Formats FAQ\n",
            "I was the original creator and maintainer of the Audio File Formats\n",
            "FAQ.  It is now maintained by Chris Bagwell\n",
            "at http://www.cnpbagwell.com/audio-faq.  And here is a link to\n",
            "SOX, to which I contributed\n",
            "some early code.\n",
            "\n",
            "\n",
            "\n",
            "\n",
            "\"On the Internet, nobody knows you're\n",
            "a dog.\"\n",
            "\n",
            "\n",
            "\n"
          ],
          "name": "stdout"
        }
      ]
    },
    {
      "cell_type": "code",
      "metadata": {
        "id": "EztoBxgNXxjt",
        "colab_type": "code",
        "outputId": "7788941b-b6f3-4116-811d-972ff2360a09",
        "colab": {
          "base_uri": "https://localhost:8080/",
          "height": 459
        }
      },
      "source": [
        "# Find all 'a' tags (which define hyperlinks): a_tags\n",
        "a_tags = soup.find_all('a')\n",
        "\n",
        "# Print the URLs to the shell\n",
        "for link in a_tags:\n",
        "    print(link.get('href'))"
      ],
      "execution_count": 0,
      "outputs": [
        {
          "output_type": "stream",
          "text": [
            "pics.html\n",
            "pics.html\n",
            "http://www.washingtonpost.com/wp-srv/business/longterm/microsoft/stories/1998/raymond120398.htm\n",
            "http://metalab.unc.edu/Dave/Dr-Fun/df200004/df20000406.jpg\n",
            "http://neopythonic.blogspot.com/2016/04/kings-day-speech.html\n",
            "http://www.python.org\n",
            "Resume.html\n",
            "Publications.html\n",
            "bio.html\n",
            "http://legacy.python.org/doc/essays/\n",
            "http://legacy.python.org/doc/essays/ppt/\n",
            "interviews.html\n",
            "pics.html\n",
            "http://neopythonic.blogspot.com\n",
            "http://www.artima.com/weblogs/index.jsp?blogger=12088\n",
            "https://twitter.com/gvanrossum\n",
            "http://www.dropbox.com\n",
            "Resume.html\n",
            "http://groups.google.com/groups?q=comp.lang.python\n",
            "http://stackoverflow.com\n",
            "guido.au\n",
            "http://legacy.python.org/doc/essays/\n",
            "images/license.jpg\n",
            "http://www.cnpbagwell.com/audio-faq\n",
            "http://sox.sourceforge.net/\n",
            "images/internetdog.gif\n"
          ],
          "name": "stdout"
        }
      ]
    },
    {
      "cell_type": "markdown",
      "metadata": {
        "id": "K3y5M0BdZUqx",
        "colab_type": "text"
      },
      "source": [
        "# JSON"
      ]
    },
    {
      "cell_type": "code",
      "metadata": {
        "id": "0YehvQLfYUjn",
        "colab_type": "code",
        "outputId": "f22ba2b4-9e5d-4165-9f01-dfbc4312026f",
        "colab": {
          "base_uri": "https://localhost:8080/",
          "height": 54
        }
      },
      "source": [
        "import json\n",
        "\n",
        "# Load JSON: json_data\n",
        "with open(\"jj.json\") as json_file:\n",
        "    json_data = json.load(json_file)\n",
        "\n",
        "# Print each key-value pair in json_data\n",
        "for k in json_data.keys():\n",
        "    print(k + ': ', json_data[k])"
      ],
      "execution_count": 0,
      "outputs": [
        {
          "output_type": "stream",
          "text": [
            "menu:  {'id': 'file', 'value': 'File', 'popup': {'menuitem': [{'value': 'New', 'onclick': 'CreateNewDoc()'}, {'value': 'Open', 'onclick': 'OpenDoc()'}, {'value': 'Close', 'onclick': 'CloseDoc()'}]}}\n"
          ],
          "name": "stdout"
        }
      ]
    },
    {
      "cell_type": "code",
      "metadata": {
        "id": "zLat8OoZbWej",
        "colab_type": "code",
        "outputId": "1499e5cd-de75-43c7-f513-0f7896c84088",
        "colab": {
          "base_uri": "https://localhost:8080/",
          "height": 34
        }
      },
      "source": [
        "type(json_data)"
      ],
      "execution_count": 0,
      "outputs": [
        {
          "output_type": "execute_result",
          "data": {
            "text/plain": [
              "dict"
            ]
          },
          "metadata": {
            "tags": []
          },
          "execution_count": 30
        }
      ]
    },
    {
      "cell_type": "code",
      "metadata": {
        "id": "Fw0KOCAwbhMm",
        "colab_type": "code",
        "outputId": "57ad9148-831f-4c0b-8c70-198c7c9a3d52",
        "colab": {
          "base_uri": "https://localhost:8080/",
          "height": 102
        }
      },
      "source": [
        "json_data"
      ],
      "execution_count": 0,
      "outputs": [
        {
          "output_type": "execute_result",
          "data": {
            "text/plain": [
              "{'menu': {'id': 'file',\n",
              "  'popup': {'menuitem': [{'onclick': 'CreateNewDoc()', 'value': 'New'},\n",
              "    {'onclick': 'OpenDoc()', 'value': 'Open'},\n",
              "    {'onclick': 'CloseDoc()', 'value': 'Close'}]},\n",
              "  'value': 'File'}}"
            ]
          },
          "metadata": {
            "tags": []
          },
          "execution_count": 31
        }
      ]
    },
    {
      "cell_type": "markdown",
      "metadata": {
        "id": "VFvUaYPHb0Hq",
        "colab_type": "text"
      },
      "source": [
        "# APIs\n",
        "\n",
        "- everyone has APIs you can use to collect their data\n",
        "- facebook, uber, twitter, intagram etc"
      ]
    },
    {
      "cell_type": "markdown",
      "metadata": {
        "id": "qU7Dr7yofC_L",
        "colab_type": "text"
      },
      "source": [
        "### omdb api"
      ]
    },
    {
      "cell_type": "code",
      "metadata": {
        "id": "tlqcBwozblxk",
        "colab_type": "code",
        "outputId": "66954ae4-ac61-4312-e5b9-6e2f48c2ced4",
        "colab": {
          "base_uri": "https://localhost:8080/",
          "height": 462
        }
      },
      "source": [
        "# Import package\n",
        "import requests\n",
        "\n",
        "# Assign URL to variable: url\n",
        "url = 'http://www.omdbapi.com/?apikey=72bc447a&t=social+network'\n",
        "#movie title(t) = the social network\n",
        "\n",
        "# Package the request, send the request and catch the response: r\n",
        "r = requests.get(url)\n",
        "\n",
        "# Decode the JSON data into a dictionary: json_data\n",
        "json_data = r.json() #instead of our usual r.text\n",
        "\n",
        "# Print each key-value pair in json_data\n",
        "for k in json_data.keys():\n",
        "    print(k + ': ', json_data[k])\n"
      ],
      "execution_count": 0,
      "outputs": [
        {
          "output_type": "stream",
          "text": [
            "Title:  The Social Network\n",
            "Year:  2010\n",
            "Rated:  PG-13\n",
            "Released:  01 Oct 2010\n",
            "Runtime:  120 min\n",
            "Genre:  Biography, Drama\n",
            "Director:  David Fincher\n",
            "Writer:  Aaron Sorkin (screenplay), Ben Mezrich (book)\n",
            "Actors:  Jesse Eisenberg, Rooney Mara, Bryan Barter, Dustin Fitzsimons\n",
            "Plot:  Harvard student Mark Zuckerberg creates the social networking site. That would become known as Facebook but is later sued by two brothers who claimed he stole their idea, and the co-founder who was later squeezed out of the business.\n",
            "Language:  English, French\n",
            "Country:  USA\n",
            "Awards:  Won 3 Oscars. Another 165 wins & 168 nominations.\n",
            "Poster:  https://m.media-amazon.com/images/M/MV5BOGUyZDUxZjEtMmIzMC00MzlmLTg4MGItZWJmMzBhZjE0Mjc1XkEyXkFqcGdeQXVyMTMxODk2OTU@._V1_SX300.jpg\n",
            "Ratings:  [{'Source': 'Internet Movie Database', 'Value': '7.7/10'}, {'Source': 'Rotten Tomatoes', 'Value': '95%'}, {'Source': 'Metacritic', 'Value': '95/100'}]\n",
            "Metascore:  95\n",
            "imdbRating:  7.7\n",
            "imdbVotes:  569,263\n",
            "imdbID:  tt1285016\n",
            "Type:  movie\n",
            "DVD:  11 Jan 2011\n",
            "BoxOffice:  $96,400,000\n",
            "Production:  Columbia Pictures\n",
            "Website:  http://www.thesocialnetwork-movie.com/\n",
            "Response:  True\n"
          ],
          "name": "stdout"
        }
      ]
    },
    {
      "cell_type": "markdown",
      "metadata": {
        "id": "sG1DG4G2fGlQ",
        "colab_type": "text"
      },
      "source": [
        "### wikipedia api"
      ]
    },
    {
      "cell_type": "code",
      "metadata": {
        "id": "CQDFN7G_euLI",
        "colab_type": "code",
        "outputId": "c42dc05b-9486-445c-dce4-a52abbad96e1",
        "colab": {
          "base_uri": "https://localhost:8080/",
          "height": 139
        }
      },
      "source": [
        "# Import package\n",
        "import requests\n",
        "\n",
        "# Assign URL to variable: url\n",
        "url = 'https://en.wikipedia.org/w/api.php?action=query&prop=extracts&format=json&exintro=&titles=pizza'\n",
        "\n",
        "# Package the request, send the request and catch the response: r\n",
        "r = requests.get(url)\n",
        "\n",
        "# Decode the JSON data into a dictionary: json_data\n",
        "json_data = r.json()\n",
        "\n",
        "# Print the Wikipedia page extract\n",
        "pizza_extract = json_data['query']['pages']['24768']['extract']\n",
        "print(pizza_extract)"
      ],
      "execution_count": 0,
      "outputs": [
        {
          "output_type": "stream",
          "text": [
            "<p class=\"mw-empty-elt\">\n",
            "</p>\n",
            "\n",
            "<p><b>Pizza</b> (<small>Italian: </small><span title=\"Representation in the International Phonetic Alphabet (IPA)\">[ˈpittsa]</span>, <small>Neapolitan: </small><span title=\"Representation in the International Phonetic Alphabet (IPA)\">[ˈpittsə]</span>) is a savory dish of Italian origin, consisting of a usually round, flattened base of leavened wheat-based dough topped with tomatoes, cheese, and various other ingredients (anchovies, olives, meat, etc.) baked at a high temperature, traditionally in a wood-fired oven. In formal settings, like a restaurant, pizza is eaten with knife and fork, but in casual settings it is cut into wedges to be eaten while held in the hand. Small pizzas are sometimes called pizzettas.\n",
            "</p><p>The term <i>pizza</i> was first recorded in the 10th century in a Latin manuscript from the Southern Italian town of Gaeta in Lazio, on the border with Campania. Modern pizza was invented in Naples, and the dish and its variants have since become popular in many countries. It has become one of the most popular foods in the world and a common fast food item in Europe and North America, available at pizzerias (restaurants specializing in pizza),  restaurants offering Mediterranean cuisine, and via pizza delivery. Many companies sell ready-baked frozen pizzas to be reheated in an ordinary home oven.\n",
            "</p><p>The <i>Associazione Verace Pizza Napoletana</i> (lit. True Neapolitan Pizza Association) is a non-profit organization founded in 1984 with headquarters in Naples that aims to promote traditional Neapolitan pizza. In 2009, upon Italy's request, Neapolitan pizza was registered with the European Union as a Traditional Speciality Guaranteed dish, and in 2017 the art of its making was included on UNESCO's list of intangible cultural heritage.</p>\n"
          ],
          "name": "stdout"
        }
      ]
    },
    {
      "cell_type": "markdown",
      "metadata": {
        "id": "qMpIlF6_fzgm",
        "colab_type": "text"
      },
      "source": [
        "### Twitter API and Authentication\n",
        "\n",
        "- create an account\n",
        "- create a new app https://developer.twitter.com/apps\n",
        "- will have to use app and access tokens and secrets\n",
        "\n",
        "the following codes are mock runs, my app in under review\n",
        "\n",
        "twitter has a number of APIs\n",
        "1. REST API: programatically read and write tweets, resposes in JSON\n",
        "2. to monitor and process twitter data in real-time: use streaming API\n",
        "    - get statuses/sample : a small random sample of public streams (stream.twitter.com/1.1/statuses/sample.json)\n",
        "3. Firehose API : to access all tweets // not publicly available\n",
        "\n",
        "- checl out what the responses contain in [dev.twitter.com/overview/api/tweets](dev.twitter.com/overview/api/tweets)\n"
      ]
    },
    {
      "cell_type": "markdown",
      "metadata": {
        "id": "FEyUPTckpVan",
        "colab_type": "text"
      },
      "source": [
        "The package tweepy is great at handling all the Twitter API OAuth Authentication details for you. All you need to do is pass it your authentication credentials. In this interactive exercise, we have created some mock authentication credentials (if you wanted to replicate this at home, you would need to create a Twitter App as Hugo detailed in the video). Your task is to pass these credentials to tweepy's OAuth handler."
      ]
    },
    {
      "cell_type": "code",
      "metadata": {
        "id": "o5wtIcG8fyYM",
        "colab_type": "code",
        "colab": {}
      },
      "source": [
        "# Import package\n",
        "import tweepy\n",
        "\n",
        "# Store OAuth authentication credentials in relevant variables\n",
        "access_token = \"1092294848-aHN7DcRP9B4VMTQIhwqOYiB14YkW92fFO8k8EPy\"\n",
        "access_token_secret = \"X4dHmhPfaksHcQ7SCbmZa2oYBBVSD2g8uIHXsp5CTaksx\"\n",
        "consumer_key = \"nZ6EA0FxZ293SxGNg8g8aP0HM\"\n",
        "consumer_secret = \"fJGEodwe3KiKUnsYJC3VRndj7jevVvXbK2D5EiJ2nehafRgA6i\"\n",
        "\n",
        "# Pass OAuth details to tweepy's OAuth handler\n",
        "auth = tweepy.OAuthHandler(consumer_key, consumer_secret)\n",
        "auth.set_access_token(access_token,access_token_secret)"
      ],
      "execution_count": 0,
      "outputs": []
    },
    {
      "cell_type": "code",
      "metadata": {
        "id": "xFEHVdtnpw4C",
        "colab_type": "code",
        "colab": {}
      },
      "source": [
        "class MyStreamListener(tweepy.StreamListener):\n",
        "    def __init__(self, api=None):\n",
        "        super(MyStreamListener, self).__init__()\n",
        "        self.num_tweets = 0\n",
        "        self.file = open(\"tweets.txt\", \"w\")\n",
        "\n",
        "    def on_status(self, status):\n",
        "        tweet = status._json\n",
        "        self.file.write( json.dumps(tweet) + '\\n' )\n",
        "        self.num_tweets += 1\n",
        "        #closes after 100 tweets\n",
        "        if self.num_tweets < 100:\n",
        "            return True\n",
        "        else:\n",
        "            return False\n",
        "        self.file.close()\n",
        "\n",
        "    def on_error(self, status):\n",
        "        print(status)"
      ],
      "execution_count": 0,
      "outputs": []
    },
    {
      "cell_type": "code",
      "metadata": {
        "id": "lFEK5IFpqa4R",
        "colab_type": "code",
        "colab": {}
      },
      "source": [
        "# Initialize Stream listener\n",
        "l = MyStreamListener()\n",
        "\n",
        "# Create your Stream object with authentication\n",
        "stream = tweepy.Stream(auth, l)\n",
        "\n",
        "# Filter Twitter Streams to capture data by the keywords:\n",
        "stream.filter(['clinton', 'trump', 'sanders', 'cruz'])"
      ],
      "execution_count": 0,
      "outputs": []
    },
    {
      "cell_type": "markdown",
      "metadata": {
        "id": "2xKfSOAosRkz",
        "colab_type": "text"
      },
      "source": [
        "Now that you've got your Twitter data sitting locally in a text file, it's time to explore it! This is what you'll do in the next few interactive exercises. In this exercise, you'll read the Twitter data into a list: tweets_data."
      ]
    },
    {
      "cell_type": "code",
      "metadata": {
        "id": "O-nYbdt1rgNh",
        "colab_type": "code",
        "colab": {}
      },
      "source": [
        "# Import package\n",
        "import json\n",
        "\n",
        "# String of path to file: tweets_data_path\n",
        "tweets_data_path = 'tweets.txt'\n",
        "\n",
        "# Initialize empty list to store tweets: tweets_data\n",
        "tweets_data=[]\n",
        "\n",
        "# Open connection to file\n",
        "tweets_file = open(tweets_data_path, \"r\")\n",
        "\n",
        "# Read in tweets and store in list: tweets_data\n",
        "for line in tweets_file:\n",
        "    tweet = json.loads(line)\n",
        "    tweets_data.append(tweet)\n",
        "\n",
        "# Close connection to file\n",
        "tweets_file.close()\n",
        "\n",
        "# Print the keys of the first tweet dict\n",
        "print(tweets_data[0].keys())"
      ],
      "execution_count": 0,
      "outputs": []
    },
    {
      "cell_type": "markdown",
      "metadata": {
        "id": "aSURiNgfsZ4x",
        "colab_type": "text"
      },
      "source": [
        "Now you have the Twitter data in a list of dictionaries, tweets_data, where each dictionary corresponds to a single tweet. Next, you're going to extract the text and language of each tweet. The text in a tweet, t1, is stored as the value t1['text']; similarly, the language is stored in t1['lang']. Your task is to build a DataFrame in which each row is a tweet and the columns are 'text' and 'lang'."
      ]
    }
  ]
}