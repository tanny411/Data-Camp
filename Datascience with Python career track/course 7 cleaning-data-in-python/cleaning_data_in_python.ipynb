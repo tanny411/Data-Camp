{
  "nbformat": 4,
  "nbformat_minor": 0,
  "metadata": {
    "colab": {
      "name": "cleaning-data-in-python.ipynb",
      "version": "0.3.2",
      "provenance": [],
      "collapsed_sections": []
    },
    "kernelspec": {
      "name": "python3",
      "display_name": "Python 3"
    },
    "accelerator": "GPU"
  },
  "cells": [
    {
      "cell_type": "markdown",
      "metadata": {
        "id": "5KHOK3UOul5C",
        "colab_type": "text"
      },
      "source": [
        "# Common Data Problems:\n",
        "\n",
        "- Inconsistent Column Names (e.g capitalization, unwanted space)\n",
        "- Missing data *\n",
        "- Outliers\n",
        "- Duplicate rows **\n",
        "- Untidy\n",
        "- need to process column(s)\n",
        "- unexpected data value\n",
        "- datatype of each column\n",
        "\n",
        "\n",
        "#### funcs : \n",
        "- to check for nulls, **df.info()**\n",
        "- **df.columns** to list the columns\n",
        "- **df.shape** well, see the shape!"
      ]
    },
    {
      "cell_type": "markdown",
      "metadata": {
        "id": "lUMJDyC6zyru",
        "colab_type": "text"
      },
      "source": [
        "### See data"
      ]
    },
    {
      "cell_type": "code",
      "metadata": {
        "id": "FqvMX990yXI8",
        "colab_type": "code",
        "outputId": "9461d5c5-4d41-4659-a973-b6db96c8ceac",
        "colab": {
          "base_uri": "https://localhost:8080/",
          "height": 641
        }
      },
      "source": [
        "import pandas as pd\n",
        "\n",
        "url = 'https://assets.datacamp.com/production/repositories/666/datasets/b54f64ca50c859e38fd68bcc7c932d09976709b8/dob_job_application_filings_subset.csv'\n",
        "df = pd.read_csv(url,index_col=0)\n",
        "df.head()"
      ],
      "execution_count": 1,
      "outputs": [
        {
          "output_type": "stream",
          "text": [
            "/usr/local/lib/python3.6/dist-packages/IPython/core/interactiveshell.py:2718: DtypeWarning: Columns (16) have mixed types. Specify dtype option on import or set low_memory=False.\n",
            "  interactivity=interactivity, compiler=compiler, result=result)\n"
          ],
          "name": "stderr"
        },
        {
          "output_type": "execute_result",
          "data": {
            "text/html": [
              "<div>\n",
              "<style scoped>\n",
              "    .dataframe tbody tr th:only-of-type {\n",
              "        vertical-align: middle;\n",
              "    }\n",
              "\n",
              "    .dataframe tbody tr th {\n",
              "        vertical-align: top;\n",
              "    }\n",
              "\n",
              "    .dataframe thead th {\n",
              "        text-align: right;\n",
              "    }\n",
              "</style>\n",
              "<table border=\"1\" class=\"dataframe\">\n",
              "  <thead>\n",
              "    <tr style=\"text-align: right;\">\n",
              "      <th></th>\n",
              "      <th>Doc #</th>\n",
              "      <th>Borough</th>\n",
              "      <th>House #</th>\n",
              "      <th>Street Name</th>\n",
              "      <th>Block</th>\n",
              "      <th>Lot</th>\n",
              "      <th>Bin #</th>\n",
              "      <th>Job Type</th>\n",
              "      <th>Job Status</th>\n",
              "      <th>Job Status Descrp</th>\n",
              "      <th>Latest Action Date</th>\n",
              "      <th>Building Type</th>\n",
              "      <th>Community - Board</th>\n",
              "      <th>Cluster</th>\n",
              "      <th>Landmarked</th>\n",
              "      <th>Adult Estab</th>\n",
              "      <th>Loft Board</th>\n",
              "      <th>City Owned</th>\n",
              "      <th>Little e</th>\n",
              "      <th>PC Filed</th>\n",
              "      <th>eFiling Filed</th>\n",
              "      <th>Plumbing</th>\n",
              "      <th>Mechanical</th>\n",
              "      <th>Boiler</th>\n",
              "      <th>Fuel Burning</th>\n",
              "      <th>Fuel Storage</th>\n",
              "      <th>Standpipe</th>\n",
              "      <th>Sprinkler</th>\n",
              "      <th>Fire Alarm</th>\n",
              "      <th>Equipment</th>\n",
              "      <th>Fire Suppression</th>\n",
              "      <th>Curb Cut</th>\n",
              "      <th>Other</th>\n",
              "      <th>Other Description</th>\n",
              "      <th>Applicant's First Name</th>\n",
              "      <th>Applicant's Last Name</th>\n",
              "      <th>Applicant Professional Title</th>\n",
              "      <th>Applicant License #</th>\n",
              "      <th>Professional Cert</th>\n",
              "      <th>Pre- Filing Date</th>\n",
              "      <th>...</th>\n",
              "      <th>Fully Paid</th>\n",
              "      <th>Assigned</th>\n",
              "      <th>Approved</th>\n",
              "      <th>Fully Permitted</th>\n",
              "      <th>Initial Cost</th>\n",
              "      <th>Total Est. Fee</th>\n",
              "      <th>Fee Status</th>\n",
              "      <th>Existing Zoning Sqft</th>\n",
              "      <th>Proposed Zoning Sqft</th>\n",
              "      <th>Horizontal Enlrgmt</th>\n",
              "      <th>Vertical Enlrgmt</th>\n",
              "      <th>Enlargement SQ Footage</th>\n",
              "      <th>Street Frontage</th>\n",
              "      <th>ExistingNo. of Stories</th>\n",
              "      <th>Proposed No. of Stories</th>\n",
              "      <th>Existing Height</th>\n",
              "      <th>Proposed Height</th>\n",
              "      <th>Existing Dwelling Units</th>\n",
              "      <th>Proposed Dwelling Units</th>\n",
              "      <th>Existing Occupancy</th>\n",
              "      <th>Proposed Occupancy</th>\n",
              "      <th>Site Fill</th>\n",
              "      <th>Zoning Dist1</th>\n",
              "      <th>Zoning Dist2</th>\n",
              "      <th>Zoning Dist3</th>\n",
              "      <th>Special District 1</th>\n",
              "      <th>Special District 2</th>\n",
              "      <th>Owner Type</th>\n",
              "      <th>Non-Profit</th>\n",
              "      <th>Owner's First Name</th>\n",
              "      <th>Owner's Last Name</th>\n",
              "      <th>Owner's Business Name</th>\n",
              "      <th>Owner's House Number</th>\n",
              "      <th>Owner'sHouse Street Name</th>\n",
              "      <th>City</th>\n",
              "      <th>State</th>\n",
              "      <th>Zip</th>\n",
              "      <th>Owner'sPhone #</th>\n",
              "      <th>Job Description</th>\n",
              "      <th>DOBRunDate</th>\n",
              "    </tr>\n",
              "    <tr>\n",
              "      <th>Job #</th>\n",
              "      <th></th>\n",
              "      <th></th>\n",
              "      <th></th>\n",
              "      <th></th>\n",
              "      <th></th>\n",
              "      <th></th>\n",
              "      <th></th>\n",
              "      <th></th>\n",
              "      <th></th>\n",
              "      <th></th>\n",
              "      <th></th>\n",
              "      <th></th>\n",
              "      <th></th>\n",
              "      <th></th>\n",
              "      <th></th>\n",
              "      <th></th>\n",
              "      <th></th>\n",
              "      <th></th>\n",
              "      <th></th>\n",
              "      <th></th>\n",
              "      <th></th>\n",
              "      <th></th>\n",
              "      <th></th>\n",
              "      <th></th>\n",
              "      <th></th>\n",
              "      <th></th>\n",
              "      <th></th>\n",
              "      <th></th>\n",
              "      <th></th>\n",
              "      <th></th>\n",
              "      <th></th>\n",
              "      <th></th>\n",
              "      <th></th>\n",
              "      <th></th>\n",
              "      <th></th>\n",
              "      <th></th>\n",
              "      <th></th>\n",
              "      <th></th>\n",
              "      <th></th>\n",
              "      <th></th>\n",
              "      <th></th>\n",
              "      <th></th>\n",
              "      <th></th>\n",
              "      <th></th>\n",
              "      <th></th>\n",
              "      <th></th>\n",
              "      <th></th>\n",
              "      <th></th>\n",
              "      <th></th>\n",
              "      <th></th>\n",
              "      <th></th>\n",
              "      <th></th>\n",
              "      <th></th>\n",
              "      <th></th>\n",
              "      <th></th>\n",
              "      <th></th>\n",
              "      <th></th>\n",
              "      <th></th>\n",
              "      <th></th>\n",
              "      <th></th>\n",
              "      <th></th>\n",
              "      <th></th>\n",
              "      <th></th>\n",
              "      <th></th>\n",
              "      <th></th>\n",
              "      <th></th>\n",
              "      <th></th>\n",
              "      <th></th>\n",
              "      <th></th>\n",
              "      <th></th>\n",
              "      <th></th>\n",
              "      <th></th>\n",
              "      <th></th>\n",
              "      <th></th>\n",
              "      <th></th>\n",
              "      <th></th>\n",
              "      <th></th>\n",
              "      <th></th>\n",
              "      <th></th>\n",
              "      <th></th>\n",
              "      <th></th>\n",
              "    </tr>\n",
              "  </thead>\n",
              "  <tbody>\n",
              "    <tr>\n",
              "      <th>121577873</th>\n",
              "      <td>2</td>\n",
              "      <td>MANHATTAN</td>\n",
              "      <td>386</td>\n",
              "      <td>PARK AVENUE SOUTH</td>\n",
              "      <td>857</td>\n",
              "      <td>38</td>\n",
              "      <td>1016890</td>\n",
              "      <td>A2</td>\n",
              "      <td>D</td>\n",
              "      <td>APPLICATION PROCESSED - ENTIRE</td>\n",
              "      <td>04/25/2013</td>\n",
              "      <td>OTHER</td>\n",
              "      <td>105</td>\n",
              "      <td>NaN</td>\n",
              "      <td>NaN</td>\n",
              "      <td>NaN</td>\n",
              "      <td>NaN</td>\n",
              "      <td>NaN</td>\n",
              "      <td>NaN</td>\n",
              "      <td>NaN</td>\n",
              "      <td>Y</td>\n",
              "      <td>X</td>\n",
              "      <td>X</td>\n",
              "      <td></td>\n",
              "      <td></td>\n",
              "      <td></td>\n",
              "      <td></td>\n",
              "      <td></td>\n",
              "      <td></td>\n",
              "      <td></td>\n",
              "      <td></td>\n",
              "      <td></td>\n",
              "      <td></td>\n",
              "      <td></td>\n",
              "      <td>DOUGLAS</td>\n",
              "      <td>MASS</td>\n",
              "      <td>PE</td>\n",
              "      <td>0058375</td>\n",
              "      <td>NaN</td>\n",
              "      <td>04/25/2013</td>\n",
              "      <td>...</td>\n",
              "      <td>04/25/2013</td>\n",
              "      <td>NaN</td>\n",
              "      <td>NaN</td>\n",
              "      <td>NaN</td>\n",
              "      <td>$75000.00</td>\n",
              "      <td>$986.00</td>\n",
              "      <td>STANDARD</td>\n",
              "      <td>0</td>\n",
              "      <td>0</td>\n",
              "      <td>NaN</td>\n",
              "      <td>NaN</td>\n",
              "      <td>0</td>\n",
              "      <td>0</td>\n",
              "      <td>0</td>\n",
              "      <td>0</td>\n",
              "      <td>0</td>\n",
              "      <td>0</td>\n",
              "      <td></td>\n",
              "      <td></td>\n",
              "      <td></td>\n",
              "      <td></td>\n",
              "      <td>NaN</td>\n",
              "      <td>NaN</td>\n",
              "      <td>NaN</td>\n",
              "      <td>NaN</td>\n",
              "      <td>NaN</td>\n",
              "      <td>NaN</td>\n",
              "      <td>NaN</td>\n",
              "      <td>NaN</td>\n",
              "      <td>JAMES</td>\n",
              "      <td>MIGLIORE</td>\n",
              "      <td>MACKLOWE MANAGEMENT</td>\n",
              "      <td>126</td>\n",
              "      <td>EAST 56TH STREET</td>\n",
              "      <td>NEW YORK</td>\n",
              "      <td>NY</td>\n",
              "      <td>10222</td>\n",
              "      <td>2125545837</td>\n",
              "      <td>GENERAL MECHANICAL &amp; PLUMBING MODIFICATIONS AS...</td>\n",
              "      <td>04/26/2013 12:00:00 AM</td>\n",
              "    </tr>\n",
              "    <tr>\n",
              "      <th>520129502</th>\n",
              "      <td>1</td>\n",
              "      <td>STATEN ISLAND</td>\n",
              "      <td>107</td>\n",
              "      <td>KNOX PLACE</td>\n",
              "      <td>342</td>\n",
              "      <td>1</td>\n",
              "      <td>5161350</td>\n",
              "      <td>A3</td>\n",
              "      <td>A</td>\n",
              "      <td>PRE-FILING</td>\n",
              "      <td>04/25/2013</td>\n",
              "      <td>1-2-3 FAMILY</td>\n",
              "      <td>501</td>\n",
              "      <td>NaN</td>\n",
              "      <td>NaN</td>\n",
              "      <td>NaN</td>\n",
              "      <td>NaN</td>\n",
              "      <td>NaN</td>\n",
              "      <td>NaN</td>\n",
              "      <td>NaN</td>\n",
              "      <td>Y</td>\n",
              "      <td></td>\n",
              "      <td></td>\n",
              "      <td></td>\n",
              "      <td></td>\n",
              "      <td></td>\n",
              "      <td></td>\n",
              "      <td></td>\n",
              "      <td></td>\n",
              "      <td></td>\n",
              "      <td></td>\n",
              "      <td></td>\n",
              "      <td>X</td>\n",
              "      <td>BPP</td>\n",
              "      <td>STEVEN</td>\n",
              "      <td>SAVINO</td>\n",
              "      <td>RA</td>\n",
              "      <td>0025259</td>\n",
              "      <td>NaN</td>\n",
              "      <td>04/25/2013</td>\n",
              "      <td>...</td>\n",
              "      <td>NaN</td>\n",
              "      <td>NaN</td>\n",
              "      <td>NaN</td>\n",
              "      <td>NaN</td>\n",
              "      <td>$0.00</td>\n",
              "      <td>$1144.00</td>\n",
              "      <td>STANDARD</td>\n",
              "      <td>0</td>\n",
              "      <td>0</td>\n",
              "      <td>NaN</td>\n",
              "      <td>NaN</td>\n",
              "      <td>0</td>\n",
              "      <td>143</td>\n",
              "      <td>0</td>\n",
              "      <td>0</td>\n",
              "      <td>0</td>\n",
              "      <td>0</td>\n",
              "      <td></td>\n",
              "      <td></td>\n",
              "      <td></td>\n",
              "      <td></td>\n",
              "      <td>NaN</td>\n",
              "      <td>R2</td>\n",
              "      <td>NaN</td>\n",
              "      <td>NaN</td>\n",
              "      <td>NaN</td>\n",
              "      <td>NaN</td>\n",
              "      <td>NaN</td>\n",
              "      <td>NaN</td>\n",
              "      <td>DAVID</td>\n",
              "      <td>BLUMENBERG</td>\n",
              "      <td>NA</td>\n",
              "      <td>107</td>\n",
              "      <td>KNOX PLACE</td>\n",
              "      <td>STATEN ISLAND</td>\n",
              "      <td>NY</td>\n",
              "      <td>10314</td>\n",
              "      <td>3477398892</td>\n",
              "      <td>BUILDERS PAVEMENT PLAN 143 LF.                ...</td>\n",
              "      <td>04/26/2013 12:00:00 AM</td>\n",
              "    </tr>\n",
              "    <tr>\n",
              "      <th>121601560</th>\n",
              "      <td>1</td>\n",
              "      <td>MANHATTAN</td>\n",
              "      <td>63</td>\n",
              "      <td>WEST 131 STREET</td>\n",
              "      <td>1729</td>\n",
              "      <td>9</td>\n",
              "      <td>1053831</td>\n",
              "      <td>A2</td>\n",
              "      <td>Q</td>\n",
              "      <td>PERMIT ISSUED - PARTIAL JOB</td>\n",
              "      <td>04/25/2013</td>\n",
              "      <td>OTHER</td>\n",
              "      <td>110</td>\n",
              "      <td>NaN</td>\n",
              "      <td>NaN</td>\n",
              "      <td>NaN</td>\n",
              "      <td>NaN</td>\n",
              "      <td>NaN</td>\n",
              "      <td>NaN</td>\n",
              "      <td>NaN</td>\n",
              "      <td>Y</td>\n",
              "      <td>X</td>\n",
              "      <td></td>\n",
              "      <td></td>\n",
              "      <td></td>\n",
              "      <td></td>\n",
              "      <td></td>\n",
              "      <td></td>\n",
              "      <td></td>\n",
              "      <td></td>\n",
              "      <td></td>\n",
              "      <td></td>\n",
              "      <td>X</td>\n",
              "      <td>GEN. CONSTR.</td>\n",
              "      <td>ASHRAF</td>\n",
              "      <td>ALI</td>\n",
              "      <td>PE</td>\n",
              "      <td>0084178</td>\n",
              "      <td>Y</td>\n",
              "      <td>04/25/2013</td>\n",
              "      <td>...</td>\n",
              "      <td>04/25/2013</td>\n",
              "      <td>NaN</td>\n",
              "      <td>04/25/2013</td>\n",
              "      <td>NaN</td>\n",
              "      <td>$30000.00</td>\n",
              "      <td>$522.50</td>\n",
              "      <td>STANDARD</td>\n",
              "      <td>0</td>\n",
              "      <td>0</td>\n",
              "      <td>NaN</td>\n",
              "      <td>NaN</td>\n",
              "      <td>0</td>\n",
              "      <td>0</td>\n",
              "      <td>5</td>\n",
              "      <td>5</td>\n",
              "      <td>54</td>\n",
              "      <td>54</td>\n",
              "      <td>20</td>\n",
              "      <td>20</td>\n",
              "      <td>RES</td>\n",
              "      <td>RES</td>\n",
              "      <td>NOT APPLICABLE</td>\n",
              "      <td>R7-2</td>\n",
              "      <td>NaN</td>\n",
              "      <td>NaN</td>\n",
              "      <td>NaN</td>\n",
              "      <td>NaN</td>\n",
              "      <td>NaN</td>\n",
              "      <td>NaN</td>\n",
              "      <td>JEREMIE</td>\n",
              "      <td>MARKOWITZ</td>\n",
              "      <td>635 RIVERSIDE DRIVE NY LLC</td>\n",
              "      <td>619</td>\n",
              "      <td>WEST 54TH STREET</td>\n",
              "      <td>NEW YORK</td>\n",
              "      <td>NY</td>\n",
              "      <td>10016</td>\n",
              "      <td>2127652555</td>\n",
              "      <td>GENERAL CONSTRUCTION TO INCLUDE NEW PARTITIONS...</td>\n",
              "      <td>04/26/2013 12:00:00 AM</td>\n",
              "    </tr>\n",
              "    <tr>\n",
              "      <th>121601203</th>\n",
              "      <td>1</td>\n",
              "      <td>MANHATTAN</td>\n",
              "      <td>48</td>\n",
              "      <td>WEST 25TH STREET</td>\n",
              "      <td>826</td>\n",
              "      <td>69</td>\n",
              "      <td>1015610</td>\n",
              "      <td>A2</td>\n",
              "      <td>D</td>\n",
              "      <td>APPLICATION PROCESSED - ENTIRE</td>\n",
              "      <td>04/25/2013</td>\n",
              "      <td>OTHER</td>\n",
              "      <td>105</td>\n",
              "      <td>NaN</td>\n",
              "      <td>NaN</td>\n",
              "      <td>NaN</td>\n",
              "      <td>NaN</td>\n",
              "      <td>NaN</td>\n",
              "      <td>NaN</td>\n",
              "      <td>NaN</td>\n",
              "      <td>Y</td>\n",
              "      <td></td>\n",
              "      <td></td>\n",
              "      <td></td>\n",
              "      <td></td>\n",
              "      <td></td>\n",
              "      <td></td>\n",
              "      <td></td>\n",
              "      <td></td>\n",
              "      <td></td>\n",
              "      <td></td>\n",
              "      <td></td>\n",
              "      <td>X</td>\n",
              "      <td>STRUCTURAL</td>\n",
              "      <td>J. BUTCH</td>\n",
              "      <td>MACUTAY JR.</td>\n",
              "      <td>PE</td>\n",
              "      <td>0078226</td>\n",
              "      <td>NaN</td>\n",
              "      <td>04/25/2013</td>\n",
              "      <td>...</td>\n",
              "      <td>04/25/2013</td>\n",
              "      <td>NaN</td>\n",
              "      <td>NaN</td>\n",
              "      <td>NaN</td>\n",
              "      <td>$1500.00</td>\n",
              "      <td>$225.00</td>\n",
              "      <td>STANDARD</td>\n",
              "      <td>0</td>\n",
              "      <td>0</td>\n",
              "      <td>NaN</td>\n",
              "      <td>NaN</td>\n",
              "      <td>0</td>\n",
              "      <td>0</td>\n",
              "      <td>12</td>\n",
              "      <td>12</td>\n",
              "      <td>120</td>\n",
              "      <td>120</td>\n",
              "      <td></td>\n",
              "      <td></td>\n",
              "      <td>E</td>\n",
              "      <td>E</td>\n",
              "      <td>NOT APPLICABLE</td>\n",
              "      <td>C6-4X</td>\n",
              "      <td>M1-6</td>\n",
              "      <td>NaN</td>\n",
              "      <td>NaN</td>\n",
              "      <td>NaN</td>\n",
              "      <td>NaN</td>\n",
              "      <td>NaN</td>\n",
              "      <td>CARMINE</td>\n",
              "      <td>CASALE</td>\n",
              "      <td>48 W 25 ST LLC C/O BERNSTEIN</td>\n",
              "      <td>150</td>\n",
              "      <td>WEST 30TH STREET</td>\n",
              "      <td>NEW YORK</td>\n",
              "      <td>NY</td>\n",
              "      <td>10001</td>\n",
              "      <td>2125941414</td>\n",
              "      <td>STRUCTURAL CHANGES ON THE 5TH FLOOR (MOONDOG E...</td>\n",
              "      <td>04/26/2013 12:00:00 AM</td>\n",
              "    </tr>\n",
              "    <tr>\n",
              "      <th>121601338</th>\n",
              "      <td>1</td>\n",
              "      <td>MANHATTAN</td>\n",
              "      <td>45</td>\n",
              "      <td>WEST 29 STREET</td>\n",
              "      <td>831</td>\n",
              "      <td>7</td>\n",
              "      <td>1015754</td>\n",
              "      <td>A3</td>\n",
              "      <td>D</td>\n",
              "      <td>APPLICATION PROCESSED - ENTIRE</td>\n",
              "      <td>04/25/2013</td>\n",
              "      <td>OTHER</td>\n",
              "      <td>105</td>\n",
              "      <td>NaN</td>\n",
              "      <td>NaN</td>\n",
              "      <td>NaN</td>\n",
              "      <td>NaN</td>\n",
              "      <td>NaN</td>\n",
              "      <td>NaN</td>\n",
              "      <td>NaN</td>\n",
              "      <td>Y</td>\n",
              "      <td></td>\n",
              "      <td></td>\n",
              "      <td></td>\n",
              "      <td></td>\n",
              "      <td></td>\n",
              "      <td></td>\n",
              "      <td></td>\n",
              "      <td></td>\n",
              "      <td></td>\n",
              "      <td></td>\n",
              "      <td></td>\n",
              "      <td>X</td>\n",
              "      <td>GEN. CONSTR.</td>\n",
              "      <td>JUNHUI</td>\n",
              "      <td>JIA</td>\n",
              "      <td>PE</td>\n",
              "      <td>0086781</td>\n",
              "      <td>NaN</td>\n",
              "      <td>04/25/2013</td>\n",
              "      <td>...</td>\n",
              "      <td>04/25/2013</td>\n",
              "      <td>NaN</td>\n",
              "      <td>NaN</td>\n",
              "      <td>NaN</td>\n",
              "      <td>$19500.00</td>\n",
              "      <td>$389.50</td>\n",
              "      <td>STANDARD</td>\n",
              "      <td>0</td>\n",
              "      <td>0</td>\n",
              "      <td>NaN</td>\n",
              "      <td>NaN</td>\n",
              "      <td>0</td>\n",
              "      <td>0</td>\n",
              "      <td>6</td>\n",
              "      <td>6</td>\n",
              "      <td>64</td>\n",
              "      <td>64</td>\n",
              "      <td></td>\n",
              "      <td></td>\n",
              "      <td>COM</td>\n",
              "      <td>COM</td>\n",
              "      <td>NaN</td>\n",
              "      <td>C6-4X</td>\n",
              "      <td>M1-6</td>\n",
              "      <td>NaN</td>\n",
              "      <td>NaN</td>\n",
              "      <td>NaN</td>\n",
              "      <td>NaN</td>\n",
              "      <td>NaN</td>\n",
              "      <td>HYUNG RO</td>\n",
              "      <td>LEE</td>\n",
              "      <td>HYUNG-HYANG REALTY CORP</td>\n",
              "      <td>614</td>\n",
              "      <td>8 AVENUE</td>\n",
              "      <td>NEW YORK</td>\n",
              "      <td>NY</td>\n",
              "      <td>10001</td>\n",
              "      <td>2019881222</td>\n",
              "      <td>FILING HEREWITH FACADE REPAIR PLANS. WORK SCOP...</td>\n",
              "      <td>04/26/2013 12:00:00 AM</td>\n",
              "    </tr>\n",
              "  </tbody>\n",
              "</table>\n",
              "<p>5 rows × 81 columns</p>\n",
              "</div>"
            ],
            "text/plain": [
              "           Doc #  ...              DOBRunDate\n",
              "Job #             ...                        \n",
              "121577873      2  ...  04/26/2013 12:00:00 AM\n",
              "520129502      1  ...  04/26/2013 12:00:00 AM\n",
              "121601560      1  ...  04/26/2013 12:00:00 AM\n",
              "121601203      1  ...  04/26/2013 12:00:00 AM\n",
              "121601338      1  ...  04/26/2013 12:00:00 AM\n",
              "\n",
              "[5 rows x 81 columns]"
            ]
          },
          "metadata": {
            "tags": []
          },
          "execution_count": 1
        }
      ]
    },
    {
      "cell_type": "code",
      "metadata": {
        "id": "QKEd2WpcytMx",
        "colab_type": "code",
        "outputId": "445307e8-bfab-42cb-9746-1b8863d107f4",
        "colab": {
          "base_uri": "https://localhost:8080/",
          "height": 34
        }
      },
      "source": [
        "df.shape"
      ],
      "execution_count": 0,
      "outputs": [
        {
          "output_type": "execute_result",
          "data": {
            "text/plain": [
              "(12846, 81)"
            ]
          },
          "metadata": {
            "tags": []
          },
          "execution_count": 8
        }
      ]
    },
    {
      "cell_type": "code",
      "metadata": {
        "id": "eEcgU2tKzFkl",
        "colab_type": "code",
        "outputId": "e6466e76-9c7a-4eb6-c645-ac1df1bbdb32",
        "colab": {
          "base_uri": "https://localhost:8080/",
          "height": 1000
        }
      },
      "source": [
        "df.info()"
      ],
      "execution_count": 0,
      "outputs": [
        {
          "output_type": "stream",
          "text": [
            "<class 'pandas.core.frame.DataFrame'>\n",
            "Int64Index: 12846 entries, 121577873 to 520143951\n",
            "Data columns (total 81 columns):\n",
            "Doc #                           12846 non-null int64\n",
            "Borough                         12846 non-null object\n",
            "House #                         12846 non-null object\n",
            "Street Name                     12846 non-null object\n",
            "Block                           12846 non-null int64\n",
            "Lot                             12846 non-null int64\n",
            "Bin #                           12846 non-null int64\n",
            "Job Type                        12846 non-null object\n",
            "Job Status                      12846 non-null object\n",
            "Job Status Descrp               12846 non-null object\n",
            "Latest Action Date              12846 non-null object\n",
            "Building Type                   12846 non-null object\n",
            "Community - Board               12846 non-null object\n",
            "Cluster                         0 non-null float64\n",
            "Landmarked                      2067 non-null object\n",
            "Adult Estab                     1 non-null object\n",
            "Loft Board                      65 non-null object\n",
            "City Owned                      1419 non-null object\n",
            "Little e                        365 non-null object\n",
            "PC Filed                        0 non-null float64\n",
            "eFiling Filed                   12846 non-null object\n",
            "Plumbing                        12846 non-null object\n",
            "Mechanical                      12846 non-null object\n",
            "Boiler                          12846 non-null object\n",
            "Fuel Burning                    12846 non-null object\n",
            "Fuel Storage                    12846 non-null object\n",
            "Standpipe                       12846 non-null object\n",
            "Sprinkler                       12846 non-null object\n",
            "Fire Alarm                      12846 non-null object\n",
            "Equipment                       12846 non-null object\n",
            "Fire Suppression                12846 non-null object\n",
            "Curb Cut                        12846 non-null object\n",
            "Other                           12846 non-null object\n",
            "Other Description               12846 non-null object\n",
            "Applicant's First Name          12846 non-null object\n",
            "Applicant's Last Name           12846 non-null object\n",
            "Applicant Professional Title    12846 non-null object\n",
            "Applicant License #             12846 non-null object\n",
            "Professional Cert               6908 non-null object\n",
            "Pre- Filing Date                12846 non-null object\n",
            "Paid                            11961 non-null object\n",
            "Fully Paid                      11963 non-null object\n",
            "Assigned                        3817 non-null object\n",
            "Approved                        4062 non-null object\n",
            "Fully Permitted                 1495 non-null object\n",
            "Initial Cost                    12846 non-null object\n",
            "Total Est. Fee                  12846 non-null object\n",
            "Fee Status                      12846 non-null object\n",
            "Existing Zoning Sqft            12846 non-null int64\n",
            "Proposed Zoning Sqft            12846 non-null int64\n",
            "Horizontal Enlrgmt              231 non-null object\n",
            "Vertical Enlrgmt                142 non-null object\n",
            "Enlargement SQ Footage          12846 non-null int64\n",
            "Street Frontage                 12846 non-null int64\n",
            "ExistingNo. of Stories          12846 non-null int64\n",
            "Proposed No. of Stories         12846 non-null int64\n",
            "Existing Height                 12846 non-null int64\n",
            "Proposed Height                 12846 non-null int64\n",
            "Existing Dwelling Units         12846 non-null object\n",
            "Proposed Dwelling Units         12846 non-null object\n",
            "Existing Occupancy              12846 non-null object\n",
            "Proposed Occupancy              12846 non-null object\n",
            "Site Fill                       8641 non-null object\n",
            "Zoning Dist1                    11263 non-null object\n",
            "Zoning Dist2                    1652 non-null object\n",
            "Zoning Dist3                    88 non-null object\n",
            "Special District 1              3062 non-null object\n",
            "Special District 2              848 non-null object\n",
            "Owner Type                      0 non-null float64\n",
            "Non-Profit                      971 non-null object\n",
            "Owner's First Name              12846 non-null object\n",
            "Owner's Last Name               12846 non-null object\n",
            "Owner's Business Name           12846 non-null object\n",
            "Owner's House Number            12846 non-null object\n",
            "Owner'sHouse Street Name        12846 non-null object\n",
            "City                            12846 non-null object\n",
            "State                           12846 non-null object\n",
            "Zip                             12846 non-null int64\n",
            "Owner'sPhone #                  12846 non-null int64\n",
            "Job Description                 12699 non-null object\n",
            "DOBRunDate                      12846 non-null object\n",
            "dtypes: float64(3), int64(14), object(64)\n",
            "memory usage: 8.0+ MB\n"
          ],
          "name": "stdout"
        }
      ]
    },
    {
      "cell_type": "code",
      "metadata": {
        "id": "lDz7GVRJzHH6",
        "colab_type": "code",
        "outputId": "61805202-f068-4090-f320-977afb1ee966",
        "colab": {
          "base_uri": "https://localhost:8080/",
          "height": 408
        }
      },
      "source": [
        "df.columns"
      ],
      "execution_count": 0,
      "outputs": [
        {
          "output_type": "execute_result",
          "data": {
            "text/plain": [
              "Index(['Doc #', 'Borough', 'House #', 'Street Name', 'Block', 'Lot', 'Bin #',\n",
              "       'Job Type', 'Job Status', 'Job Status Descrp', 'Latest Action Date',\n",
              "       'Building Type', 'Community - Board', 'Cluster', 'Landmarked',\n",
              "       'Adult Estab', 'Loft Board', 'City Owned', 'Little e', 'PC Filed',\n",
              "       'eFiling Filed', 'Plumbing', 'Mechanical', 'Boiler', 'Fuel Burning',\n",
              "       'Fuel Storage', 'Standpipe', 'Sprinkler', 'Fire Alarm', 'Equipment',\n",
              "       'Fire Suppression', 'Curb Cut', 'Other', 'Other Description',\n",
              "       'Applicant's First Name', 'Applicant's Last Name',\n",
              "       'Applicant Professional Title', 'Applicant License #',\n",
              "       'Professional Cert', 'Pre- Filing Date', 'Paid', 'Fully Paid',\n",
              "       'Assigned', 'Approved', 'Fully Permitted', 'Initial Cost',\n",
              "       'Total Est. Fee', 'Fee Status', 'Existing Zoning Sqft',\n",
              "       'Proposed Zoning Sqft', 'Horizontal Enlrgmt', 'Vertical Enlrgmt',\n",
              "       'Enlargement SQ Footage', 'Street Frontage', 'ExistingNo. of Stories',\n",
              "       'Proposed No. of Stories', 'Existing Height', 'Proposed Height',\n",
              "       'Existing Dwelling Units', 'Proposed Dwelling Units',\n",
              "       'Existing Occupancy', 'Proposed Occupancy', 'Site Fill', 'Zoning Dist1',\n",
              "       'Zoning Dist2', 'Zoning Dist3', 'Special District 1',\n",
              "       'Special District 2', 'Owner Type', 'Non-Profit', 'Owner's First Name',\n",
              "       'Owner's Last Name', 'Owner's Business Name', 'Owner's House Number',\n",
              "       'Owner'sHouse Street Name', 'City ', 'State', 'Zip', 'Owner'sPhone #',\n",
              "       'Job Description', 'DOBRunDate'],\n",
              "      dtype='object')"
            ]
          },
          "metadata": {
            "tags": []
          },
          "execution_count": 10
        }
      ]
    },
    {
      "cell_type": "markdown",
      "metadata": {
        "id": "fe46bUWcxPH3",
        "colab_type": "text"
      },
      "source": [
        "# Exploratory Data Analysis"
      ]
    },
    {
      "cell_type": "markdown",
      "metadata": {
        "id": "oM2s7g0xxZEB",
        "colab_type": "text"
      },
      "source": [
        "### Frequency Counts"
      ]
    },
    {
      "cell_type": "code",
      "metadata": {
        "id": "1-PGGMEYzOW8",
        "colab_type": "code",
        "outputId": "15610bdf-e9d8-4186-bae3-5b8eff615714",
        "colab": {
          "base_uri": "https://localhost:8080/",
          "height": 119
        }
      },
      "source": [
        "df.Borough.value_counts(dropna=False)"
      ],
      "execution_count": 0,
      "outputs": [
        {
          "output_type": "execute_result",
          "data": {
            "text/plain": [
              "MANHATTAN        6310\n",
              "BROOKLYN         2866\n",
              "QUEENS           2121\n",
              "BRONX             974\n",
              "STATEN ISLAND     575\n",
              "Name: Borough, dtype: int64"
            ]
          },
          "metadata": {
            "tags": []
          },
          "execution_count": 11
        }
      ]
    },
    {
      "cell_type": "code",
      "metadata": {
        "id": "uGbw0p7e0Av-",
        "colab_type": "code",
        "outputId": "66aaeda6-2787-4b74-eb9d-26e3a13ee010",
        "colab": {
          "base_uri": "https://localhost:8080/",
          "height": 68
        }
      },
      "source": [
        "df['Professional Cert'].value_counts(dropna=False)"
      ],
      "execution_count": 0,
      "outputs": [
        {
          "output_type": "execute_result",
          "data": {
            "text/plain": [
              "Y      6908\n",
              "NaN    5938\n",
              "Name: Professional Cert, dtype: int64"
            ]
          },
          "metadata": {
            "tags": []
          },
          "execution_count": 15
        }
      ]
    },
    {
      "cell_type": "markdown",
      "metadata": {
        "id": "qLx8W3id2Ln9",
        "colab_type": "text"
      },
      "source": [
        "### Numerical analysis"
      ]
    },
    {
      "cell_type": "code",
      "metadata": {
        "id": "woYxmEQU0dvX",
        "colab_type": "code",
        "outputId": "f58fb0f9-6a6d-49f2-cf96-718d565f484e",
        "colab": {
          "base_uri": "https://localhost:8080/",
          "height": 351
        }
      },
      "source": [
        "# only numeric types will be retured\n",
        "\n",
        "df.describe()"
      ],
      "execution_count": 0,
      "outputs": [
        {
          "output_type": "execute_result",
          "data": {
            "text/html": [
              "<div>\n",
              "<style scoped>\n",
              "    .dataframe tbody tr th:only-of-type {\n",
              "        vertical-align: middle;\n",
              "    }\n",
              "\n",
              "    .dataframe tbody tr th {\n",
              "        vertical-align: top;\n",
              "    }\n",
              "\n",
              "    .dataframe thead th {\n",
              "        text-align: right;\n",
              "    }\n",
              "</style>\n",
              "<table border=\"1\" class=\"dataframe\">\n",
              "  <thead>\n",
              "    <tr style=\"text-align: right;\">\n",
              "      <th></th>\n",
              "      <th>Doc #</th>\n",
              "      <th>Block</th>\n",
              "      <th>Lot</th>\n",
              "      <th>Bin #</th>\n",
              "      <th>Cluster</th>\n",
              "      <th>PC Filed</th>\n",
              "      <th>Existing Zoning Sqft</th>\n",
              "      <th>Proposed Zoning Sqft</th>\n",
              "      <th>Enlargement SQ Footage</th>\n",
              "      <th>Street Frontage</th>\n",
              "      <th>ExistingNo. of Stories</th>\n",
              "      <th>Proposed No. of Stories</th>\n",
              "      <th>Existing Height</th>\n",
              "      <th>Proposed Height</th>\n",
              "      <th>Owner Type</th>\n",
              "      <th>Zip</th>\n",
              "      <th>Owner'sPhone #</th>\n",
              "    </tr>\n",
              "  </thead>\n",
              "  <tbody>\n",
              "    <tr>\n",
              "      <th>count</th>\n",
              "      <td>12846.000000</td>\n",
              "      <td>12846.000000</td>\n",
              "      <td>12846.000000</td>\n",
              "      <td>1.284600e+04</td>\n",
              "      <td>0.0</td>\n",
              "      <td>0.0</td>\n",
              "      <td>1.284600e+04</td>\n",
              "      <td>1.284600e+04</td>\n",
              "      <td>12846.000000</td>\n",
              "      <td>12846.000000</td>\n",
              "      <td>12846.000000</td>\n",
              "      <td>12846.000000</td>\n",
              "      <td>12846.000000</td>\n",
              "      <td>12846.000000</td>\n",
              "      <td>0.0</td>\n",
              "      <td>1.284600e+04</td>\n",
              "      <td>1.284600e+04</td>\n",
              "    </tr>\n",
              "    <tr>\n",
              "      <th>mean</th>\n",
              "      <td>1.162930</td>\n",
              "      <td>2703.834735</td>\n",
              "      <td>623.303441</td>\n",
              "      <td>2.314997e+06</td>\n",
              "      <td>NaN</td>\n",
              "      <td>NaN</td>\n",
              "      <td>1.439973e+03</td>\n",
              "      <td>2.007286e+03</td>\n",
              "      <td>46.101432</td>\n",
              "      <td>3.069360</td>\n",
              "      <td>8.062354</td>\n",
              "      <td>8.144325</td>\n",
              "      <td>94.022809</td>\n",
              "      <td>94.917562</td>\n",
              "      <td>NaN</td>\n",
              "      <td>1.210268e+06</td>\n",
              "      <td>5.025739e+09</td>\n",
              "    </tr>\n",
              "    <tr>\n",
              "      <th>std</th>\n",
              "      <td>0.514937</td>\n",
              "      <td>3143.002812</td>\n",
              "      <td>2000.934794</td>\n",
              "      <td>1.399062e+06</td>\n",
              "      <td>NaN</td>\n",
              "      <td>NaN</td>\n",
              "      <td>3.860757e+04</td>\n",
              "      <td>4.081570e+04</td>\n",
              "      <td>784.216569</td>\n",
              "      <td>37.246034</td>\n",
              "      <td>11.874080</td>\n",
              "      <td>11.843492</td>\n",
              "      <td>146.917360</td>\n",
              "      <td>146.580666</td>\n",
              "      <td>NaN</td>\n",
              "      <td>1.343588e+07</td>\n",
              "      <td>2.738212e+09</td>\n",
              "    </tr>\n",
              "    <tr>\n",
              "      <th>min</th>\n",
              "      <td>1.000000</td>\n",
              "      <td>1.000000</td>\n",
              "      <td>0.000000</td>\n",
              "      <td>1.000003e+06</td>\n",
              "      <td>NaN</td>\n",
              "      <td>NaN</td>\n",
              "      <td>0.000000e+00</td>\n",
              "      <td>0.000000e+00</td>\n",
              "      <td>0.000000</td>\n",
              "      <td>0.000000</td>\n",
              "      <td>0.000000</td>\n",
              "      <td>0.000000</td>\n",
              "      <td>0.000000</td>\n",
              "      <td>0.000000</td>\n",
              "      <td>NaN</td>\n",
              "      <td>8.300000e+02</td>\n",
              "      <td>0.000000e+00</td>\n",
              "    </tr>\n",
              "    <tr>\n",
              "      <th>25%</th>\n",
              "      <td>1.000000</td>\n",
              "      <td>836.000000</td>\n",
              "      <td>12.000000</td>\n",
              "      <td>1.035728e+06</td>\n",
              "      <td>NaN</td>\n",
              "      <td>NaN</td>\n",
              "      <td>0.000000e+00</td>\n",
              "      <td>0.000000e+00</td>\n",
              "      <td>0.000000</td>\n",
              "      <td>0.000000</td>\n",
              "      <td>1.000000</td>\n",
              "      <td>2.000000</td>\n",
              "      <td>20.000000</td>\n",
              "      <td>21.000000</td>\n",
              "      <td>NaN</td>\n",
              "      <td>1.001900e+04</td>\n",
              "      <td>2.126841e+09</td>\n",
              "    </tr>\n",
              "    <tr>\n",
              "      <th>50%</th>\n",
              "      <td>1.000000</td>\n",
              "      <td>1411.500000</td>\n",
              "      <td>32.000000</td>\n",
              "      <td>2.004234e+06</td>\n",
              "      <td>NaN</td>\n",
              "      <td>NaN</td>\n",
              "      <td>0.000000e+00</td>\n",
              "      <td>0.000000e+00</td>\n",
              "      <td>0.000000</td>\n",
              "      <td>0.000000</td>\n",
              "      <td>4.000000</td>\n",
              "      <td>4.000000</td>\n",
              "      <td>45.000000</td>\n",
              "      <td>45.000000</td>\n",
              "      <td>NaN</td>\n",
              "      <td>1.031000e+04</td>\n",
              "      <td>5.169379e+09</td>\n",
              "    </tr>\n",
              "    <tr>\n",
              "      <th>75%</th>\n",
              "      <td>1.000000</td>\n",
              "      <td>3355.000000</td>\n",
              "      <td>59.000000</td>\n",
              "      <td>3.343823e+06</td>\n",
              "      <td>NaN</td>\n",
              "      <td>NaN</td>\n",
              "      <td>0.000000e+00</td>\n",
              "      <td>0.000000e+00</td>\n",
              "      <td>0.000000</td>\n",
              "      <td>0.000000</td>\n",
              "      <td>9.000000</td>\n",
              "      <td>9.000000</td>\n",
              "      <td>105.000000</td>\n",
              "      <td>107.000000</td>\n",
              "      <td>NaN</td>\n",
              "      <td>1.122100e+04</td>\n",
              "      <td>7.186809e+09</td>\n",
              "    </tr>\n",
              "    <tr>\n",
              "      <th>max</th>\n",
              "      <td>9.000000</td>\n",
              "      <td>99999.000000</td>\n",
              "      <td>9078.000000</td>\n",
              "      <td>5.864852e+06</td>\n",
              "      <td>NaN</td>\n",
              "      <td>NaN</td>\n",
              "      <td>2.873107e+06</td>\n",
              "      <td>2.873107e+06</td>\n",
              "      <td>50384.000000</td>\n",
              "      <td>3160.000000</td>\n",
              "      <td>102.000000</td>\n",
              "      <td>102.000000</td>\n",
              "      <td>4200.000000</td>\n",
              "      <td>4200.000000</td>\n",
              "      <td>NaN</td>\n",
              "      <td>6.063135e+08</td>\n",
              "      <td>9.787266e+09</td>\n",
              "    </tr>\n",
              "  </tbody>\n",
              "</table>\n",
              "</div>"
            ],
            "text/plain": [
              "              Doc #         Block  ...           Zip  Owner'sPhone #\n",
              "count  12846.000000  12846.000000  ...  1.284600e+04    1.284600e+04\n",
              "mean       1.162930   2703.834735  ...  1.210268e+06    5.025739e+09\n",
              "std        0.514937   3143.002812  ...  1.343588e+07    2.738212e+09\n",
              "min        1.000000      1.000000  ...  8.300000e+02    0.000000e+00\n",
              "25%        1.000000    836.000000  ...  1.001900e+04    2.126841e+09\n",
              "50%        1.000000   1411.500000  ...  1.031000e+04    5.169379e+09\n",
              "75%        1.000000   3355.000000  ...  1.122100e+04    7.186809e+09\n",
              "max        9.000000  99999.000000  ...  6.063135e+08    9.787266e+09\n",
              "\n",
              "[8 rows x 17 columns]"
            ]
          },
          "metadata": {
            "tags": []
          },
          "execution_count": 16
        }
      ]
    },
    {
      "cell_type": "markdown",
      "metadata": {
        "id": "7_o5QpST2G3c",
        "colab_type": "text"
      },
      "source": [
        "# Visual Exploratoty Analysis\n",
        "\n",
        "- bar plots for discrete data counts\n",
        "- histogram for continuous data counts\n",
        "- box plots to visualize summary statistics\n",
        "- scatter plots, realte two numeric columns"
      ]
    },
    {
      "cell_type": "markdown",
      "metadata": {
        "id": "i6PrIRE43mfG",
        "colab_type": "text"
      },
      "source": [
        "note that Python will render a plot such that the axis will hold all the information. That is, if you end up with large amounts of whitespace in your plot, it indicates counts or values too small to render."
      ]
    },
    {
      "cell_type": "code",
      "metadata": {
        "id": "4Gp1TSWT0yzp",
        "colab_type": "code",
        "outputId": "222e2ab3-8826-4402-a184-3413fd457a8a",
        "colab": {
          "base_uri": "https://localhost:8080/",
          "height": 281
        }
      },
      "source": [
        "import matplotlib.pyplot as plt\n",
        "\n",
        "# Describe the column\n",
        "df['Existing Zoning Sqft'].describe()\n",
        "\n",
        "# Plot the histogram\n",
        "df['Existing Zoning Sqft'].plot(kind='hist', rot=70, logx=True, logy=True)\n",
        "\n",
        "# Display the histogram\n",
        "plt.show()"
      ],
      "execution_count": 0,
      "outputs": [
        {
          "output_type": "display_data",
          "data": {
            "image/png": "[encoded data removed]",
            "text/plain": [
              "<Figure size 432x288 with 1 Axes>"
            ]
          },
          "metadata": {
            "tags": []
          }
        }
      ]
    },
    {
      "cell_type": "markdown",
      "metadata": {
        "id": "jhd_X-Gl4SOE",
        "colab_type": "text"
      },
      "source": [
        "Histograms are great ways of visualizing single variables. To visualize multiple variables, boxplots are useful, especially when one of the variables is categorical."
      ]
    },
    {
      "cell_type": "code",
      "metadata": {
        "id": "9A8bPZM95JsX",
        "colab_type": "code",
        "colab": {}
      },
      "source": [
        "def func(st):\n",
        "    if st:\n",
        "        if st[0]=='$':\n",
        "            return st[1:]\n",
        "        else :\n",
        "            return st\n",
        "        \n",
        "        \n",
        "df['Initial Cost'] = df['Initial Cost'].apply(func).astype('float64');"
      ],
      "execution_count": 0,
      "outputs": []
    },
    {
      "cell_type": "code",
      "metadata": {
        "id": "I63KzWDh4LWL",
        "colab_type": "code",
        "outputId": "fd900574-9fc5-4d8e-c594-f1bded1d9158",
        "colab": {
          "base_uri": "https://localhost:8080/",
          "height": 370
        }
      },
      "source": [
        "# Import necessary modules\n",
        "import pandas as pd\n",
        "import matplotlib.pyplot as plt\n",
        "\n",
        "# Create the boxplot\n",
        "df.boxplot(column='Initial Cost', by='Borough', rot=90)\n",
        "\n",
        "# Display the plot\n",
        "plt.show()"
      ],
      "execution_count": 0,
      "outputs": [
        {
          "output_type": "display_data",
          "data": {
            "image/png": "[encoded data removed]",
            "text/plain": [
              "<Figure size 432x288 with 1 Axes>"
            ]
          },
          "metadata": {
            "tags": []
          }
        }
      ]
    },
    {
      "cell_type": "code",
      "metadata": {
        "id": "xlgbl89q7-qF",
        "colab_type": "code",
        "colab": {}
      },
      "source": [
        "df['Total Est. Fee'] = df['Total Est. Fee'].apply(func).astype('float64');"
      ],
      "execution_count": 0,
      "outputs": []
    },
    {
      "cell_type": "code",
      "metadata": {
        "id": "99jrnwVv4kxL",
        "colab_type": "code",
        "outputId": "745737d9-5514-43f3-9e1a-698c6a5c85d0",
        "colab": {
          "base_uri": "https://localhost:8080/",
          "height": 299
        }
      },
      "source": [
        "# Create and display the first scatter plot\n",
        "df.plot(kind='scatter', x='Initial Cost', y='Total Est. Fee', rot=70)\n",
        "plt.show()"
      ],
      "execution_count": 0,
      "outputs": [
        {
          "output_type": "display_data",
          "data": {
            "image/png": "[encoded data removed]",
            "text/plain": [
              "<Figure size 432x288 with 1 Axes>"
            ]
          },
          "metadata": {
            "tags": []
          }
        }
      ]
    },
    {
      "cell_type": "code",
      "metadata": {
        "id": "Bi_3DE0l7udv",
        "colab_type": "code",
        "colab": {}
      },
      "source": [
        "df = df[df['Total Est. Fee']<60000]"
      ],
      "execution_count": 0,
      "outputs": []
    },
    {
      "cell_type": "code",
      "metadata": {
        "id": "L9RR2UlK8fAD",
        "colab_type": "code",
        "outputId": "7b99bc83-5dd7-4c2e-d1b7-a2b600699f76",
        "colab": {
          "base_uri": "https://localhost:8080/",
          "height": 317
        }
      },
      "source": [
        "# Create and display the first scatter plot\n",
        "df.plot(kind='scatter', x='Initial Cost', y='Total Est. Fee', rot=70)\n",
        "plt.show()"
      ],
      "execution_count": 0,
      "outputs": [
        {
          "output_type": "display_data",
          "data": {
            "image/png": "[encoded data removed]",
            "text/plain": [
              "<Figure size 432x288 with 1 Axes>"
            ]
          },
          "metadata": {
            "tags": []
          }
        }
      ]
    },
    {
      "cell_type": "markdown",
      "metadata": {
        "id": "1eUIo3lU9VhY",
        "colab_type": "text"
      },
      "source": [
        "# Tidy data\n",
        "\n",
        "- \"tidy data\" paper by Hadley Wickham"
      ]
    },
    {
      "cell_type": "markdown",
      "metadata": {
        "id": "YAB_XLOreWcc",
        "colab_type": "text"
      },
      "source": [
        "### Melting"
      ]
    },
    {
      "cell_type": "code",
      "metadata": {
        "id": "a9Xe2sGt8sP3",
        "colab_type": "code",
        "outputId": "b8f7425d-d877-42ac-c966-1912f6363d16",
        "colab": {
          "base_uri": "https://localhost:8080/",
          "height": 142
        }
      },
      "source": [
        "dc = {\n",
        "    'name' : ['Daniel','John','Jane'],\n",
        "    'Treatment A' : [None,12,24],\n",
        "    'Treatment B' : [42,31,27]\n",
        "}\n",
        "\n",
        "df1 = pd.DataFrame(dc)\n",
        "df1.head()"
      ],
      "execution_count": 2,
      "outputs": [
        {
          "output_type": "execute_result",
          "data": {
            "text/html": [
              "<div>\n",
              "<style scoped>\n",
              "    .dataframe tbody tr th:only-of-type {\n",
              "        vertical-align: middle;\n",
              "    }\n",
              "\n",
              "    .dataframe tbody tr th {\n",
              "        vertical-align: top;\n",
              "    }\n",
              "\n",
              "    .dataframe thead th {\n",
              "        text-align: right;\n",
              "    }\n",
              "</style>\n",
              "<table border=\"1\" class=\"dataframe\">\n",
              "  <thead>\n",
              "    <tr style=\"text-align: right;\">\n",
              "      <th></th>\n",
              "      <th>name</th>\n",
              "      <th>Treatment A</th>\n",
              "      <th>Treatment B</th>\n",
              "    </tr>\n",
              "  </thead>\n",
              "  <tbody>\n",
              "    <tr>\n",
              "      <th>0</th>\n",
              "      <td>Daniel</td>\n",
              "      <td>NaN</td>\n",
              "      <td>42</td>\n",
              "    </tr>\n",
              "    <tr>\n",
              "      <th>1</th>\n",
              "      <td>John</td>\n",
              "      <td>12.0</td>\n",
              "      <td>31</td>\n",
              "    </tr>\n",
              "    <tr>\n",
              "      <th>2</th>\n",
              "      <td>Jane</td>\n",
              "      <td>24.0</td>\n",
              "      <td>27</td>\n",
              "    </tr>\n",
              "  </tbody>\n",
              "</table>\n",
              "</div>"
            ],
            "text/plain": [
              "     name  Treatment A  Treatment B\n",
              "0  Daniel          NaN           42\n",
              "1    John         12.0           31\n",
              "2    Jane         24.0           27"
            ]
          },
          "metadata": {
            "tags": []
          },
          "execution_count": 2
        }
      ]
    },
    {
      "cell_type": "markdown",
      "metadata": {
        "id": "SUOAOx6o-m_y",
        "colab_type": "text"
      },
      "source": [
        "**-->** Treatment types shouldnt be separate columns,  they maybe good for reporting, but not for analysis. so we need to turn them into a sigle column using **pandas melt** . \n",
        "There are two parameters you should be aware of: id_vars and value_vars. The id_vars represent the columns of the data you do not want to melt (i.e., keep it in its current shape), while the value_vars represent the columns you do wish to melt into rows. By default, if no value_vars are provided, all columns not set in the id_vars will be melted. This could save a bit of typing, depending on the number of columns that need to be melted."
      ]
    },
    {
      "cell_type": "code",
      "metadata": {
        "id": "_QbFNSgR-eie",
        "colab_type": "code",
        "outputId": "abf3d957-5972-42ea-fe7c-127e582bc92d",
        "colab": {
          "base_uri": "https://localhost:8080/",
          "height": 235
        }
      },
      "source": [
        "melted = pd.melt(frame=df1,id_vars='name',value_vars=['Treatment A','Treatment B'],var_name='treatment',value_name='result')\n",
        "\n",
        "melted"
      ],
      "execution_count": 4,
      "outputs": [
        {
          "output_type": "execute_result",
          "data": {
            "text/html": [
              "<div>\n",
              "<style scoped>\n",
              "    .dataframe tbody tr th:only-of-type {\n",
              "        vertical-align: middle;\n",
              "    }\n",
              "\n",
              "    .dataframe tbody tr th {\n",
              "        vertical-align: top;\n",
              "    }\n",
              "\n",
              "    .dataframe thead th {\n",
              "        text-align: right;\n",
              "    }\n",
              "</style>\n",
              "<table border=\"1\" class=\"dataframe\">\n",
              "  <thead>\n",
              "    <tr style=\"text-align: right;\">\n",
              "      <th></th>\n",
              "      <th>name</th>\n",
              "      <th>treatment</th>\n",
              "      <th>result</th>\n",
              "    </tr>\n",
              "  </thead>\n",
              "  <tbody>\n",
              "    <tr>\n",
              "      <th>0</th>\n",
              "      <td>Daniel</td>\n",
              "      <td>Treatment A</td>\n",
              "      <td>NaN</td>\n",
              "    </tr>\n",
              "    <tr>\n",
              "      <th>1</th>\n",
              "      <td>John</td>\n",
              "      <td>Treatment A</td>\n",
              "      <td>12.0</td>\n",
              "    </tr>\n",
              "    <tr>\n",
              "      <th>2</th>\n",
              "      <td>Jane</td>\n",
              "      <td>Treatment A</td>\n",
              "      <td>24.0</td>\n",
              "    </tr>\n",
              "    <tr>\n",
              "      <th>3</th>\n",
              "      <td>Daniel</td>\n",
              "      <td>Treatment B</td>\n",
              "      <td>42.0</td>\n",
              "    </tr>\n",
              "    <tr>\n",
              "      <th>4</th>\n",
              "      <td>John</td>\n",
              "      <td>Treatment B</td>\n",
              "      <td>31.0</td>\n",
              "    </tr>\n",
              "    <tr>\n",
              "      <th>5</th>\n",
              "      <td>Jane</td>\n",
              "      <td>Treatment B</td>\n",
              "      <td>27.0</td>\n",
              "    </tr>\n",
              "  </tbody>\n",
              "</table>\n",
              "</div>"
            ],
            "text/plain": [
              "     name    treatment  result\n",
              "0  Daniel  Treatment A     NaN\n",
              "1    John  Treatment A    12.0\n",
              "2    Jane  Treatment A    24.0\n",
              "3  Daniel  Treatment B    42.0\n",
              "4    John  Treatment B    31.0\n",
              "5    Jane  Treatment B    27.0"
            ]
          },
          "metadata": {
            "tags": []
          },
          "execution_count": 4
        }
      ]
    },
    {
      "cell_type": "markdown",
      "metadata": {
        "id": "3Gg7ST3LeVSq",
        "colab_type": "text"
      },
      "source": [
        "### Pivoting\n",
        "\n",
        "Pivoting data is the opposite of melting it. While melting takes a set of columns and turns it into a single column, pivoting will create a new column for each unique value in a specified column. .pivot_table() has an index parameter which you can use to specify the columns that you don't want pivoted: It is similar to the id_vars parameter of pd.melt(). Two other parameters that you have to specify are columns (the name of the column you want to pivot), and values (the values to be used when the column is pivoted). "
      ]
    },
    {
      "cell_type": "code",
      "metadata": {
        "id": "Y_M3EM4N_RM4",
        "colab_type": "code",
        "colab": {
          "base_uri": "https://localhost:8080/",
          "height": 173
        },
        "outputId": "e6a698e6-a526-490d-d7b7-8ee12b54845c"
      },
      "source": [
        "pivoted = melted.pivot_table(index=['name'], columns='treatment', values='result')\n",
        "\n",
        "pivoted"
      ],
      "execution_count": 6,
      "outputs": [
        {
          "output_type": "execute_result",
          "data": {
            "text/html": [
              "<div>\n",
              "<style scoped>\n",
              "    .dataframe tbody tr th:only-of-type {\n",
              "        vertical-align: middle;\n",
              "    }\n",
              "\n",
              "    .dataframe tbody tr th {\n",
              "        vertical-align: top;\n",
              "    }\n",
              "\n",
              "    .dataframe thead th {\n",
              "        text-align: right;\n",
              "    }\n",
              "</style>\n",
              "<table border=\"1\" class=\"dataframe\">\n",
              "  <thead>\n",
              "    <tr style=\"text-align: right;\">\n",
              "      <th>treatment</th>\n",
              "      <th>Treatment A</th>\n",
              "      <th>Treatment B</th>\n",
              "    </tr>\n",
              "    <tr>\n",
              "      <th>name</th>\n",
              "      <th></th>\n",
              "      <th></th>\n",
              "    </tr>\n",
              "  </thead>\n",
              "  <tbody>\n",
              "    <tr>\n",
              "      <th>Daniel</th>\n",
              "      <td>NaN</td>\n",
              "      <td>42.0</td>\n",
              "    </tr>\n",
              "    <tr>\n",
              "      <th>Jane</th>\n",
              "      <td>24.0</td>\n",
              "      <td>27.0</td>\n",
              "    </tr>\n",
              "    <tr>\n",
              "      <th>John</th>\n",
              "      <td>12.0</td>\n",
              "      <td>31.0</td>\n",
              "    </tr>\n",
              "  </tbody>\n",
              "</table>\n",
              "</div>"
            ],
            "text/plain": [
              "treatment  Treatment A  Treatment B\n",
              "name                               \n",
              "Daniel             NaN         42.0\n",
              "Jane              24.0         27.0\n",
              "John              12.0         31.0"
            ]
          },
          "metadata": {
            "tags": []
          },
          "execution_count": 6
        }
      ]
    },
    {
      "cell_type": "code",
      "metadata": {
        "id": "ct0aBtusfhbQ",
        "colab_type": "code",
        "colab": {
          "base_uri": "https://localhost:8080/",
          "height": 34
        },
        "outputId": "3ddd9988-5ab8-4120-c13e-46772e1405bf"
      },
      "source": [
        "pivoted.columns"
      ],
      "execution_count": 7,
      "outputs": [
        {
          "output_type": "execute_result",
          "data": {
            "text/plain": [
              "Index(['Treatment A', 'Treatment B'], dtype='object', name='treatment')"
            ]
          },
          "metadata": {
            "tags": []
          },
          "execution_count": 7
        }
      ]
    },
    {
      "cell_type": "code",
      "metadata": {
        "id": "4uMUjtO_hEzq",
        "colab_type": "code",
        "colab": {
          "base_uri": "https://localhost:8080/",
          "height": 34
        },
        "outputId": "d6221d41-f9d1-4263-dc39-5cb4f04f6c1c"
      },
      "source": [
        "pivoted.index"
      ],
      "execution_count": 9,
      "outputs": [
        {
          "output_type": "execute_result",
          "data": {
            "text/plain": [
              "Index(['Daniel', 'Jane', 'John'], dtype='object', name='name')"
            ]
          },
          "metadata": {
            "tags": []
          },
          "execution_count": 9
        }
      ]
    },
    {
      "cell_type": "markdown",
      "metadata": {
        "id": "_7uqXajTgIla",
        "colab_type": "text"
      },
      "source": [
        "After pivoting airquality_melt in the previous exercise, you didn't quite get back the original DataFrame.\n",
        "\n",
        "What you got back instead was a pandas DataFrame with a hierarchical index (also known as a MultiIndex).\n",
        "\n",
        "Hierarchical indexes are covered in depth in **Manipulating DataFrames with pandas**. In essence, they allow you to group columns or rows by another variable - in this case, by 'Month' as well as 'Day'.\n",
        "\n",
        "There's a very simple method you can use to get back the original DataFrame from the pivoted DataFrame: .reset_index(). "
      ]
    },
    {
      "cell_type": "code",
      "metadata": {
        "id": "gXLgyQrLf0jo",
        "colab_type": "code",
        "colab": {
          "base_uri": "https://localhost:8080/",
          "height": 142
        },
        "outputId": "c303eda4-3e0b-4ce7-fec3-878cb1eba192"
      },
      "source": [
        "new = pivoted.reset_index()\n",
        "\n",
        "new"
      ],
      "execution_count": 12,
      "outputs": [
        {
          "output_type": "execute_result",
          "data": {
            "text/html": [
              "<div>\n",
              "<style scoped>\n",
              "    .dataframe tbody tr th:only-of-type {\n",
              "        vertical-align: middle;\n",
              "    }\n",
              "\n",
              "    .dataframe tbody tr th {\n",
              "        vertical-align: top;\n",
              "    }\n",
              "\n",
              "    .dataframe thead th {\n",
              "        text-align: right;\n",
              "    }\n",
              "</style>\n",
              "<table border=\"1\" class=\"dataframe\">\n",
              "  <thead>\n",
              "    <tr style=\"text-align: right;\">\n",
              "      <th>treatment</th>\n",
              "      <th>name</th>\n",
              "      <th>Treatment A</th>\n",
              "      <th>Treatment B</th>\n",
              "    </tr>\n",
              "  </thead>\n",
              "  <tbody>\n",
              "    <tr>\n",
              "      <th>0</th>\n",
              "      <td>Daniel</td>\n",
              "      <td>NaN</td>\n",
              "      <td>42.0</td>\n",
              "    </tr>\n",
              "    <tr>\n",
              "      <th>1</th>\n",
              "      <td>Jane</td>\n",
              "      <td>24.0</td>\n",
              "      <td>27.0</td>\n",
              "    </tr>\n",
              "    <tr>\n",
              "      <th>2</th>\n",
              "      <td>John</td>\n",
              "      <td>12.0</td>\n",
              "      <td>31.0</td>\n",
              "    </tr>\n",
              "  </tbody>\n",
              "</table>\n",
              "</div>"
            ],
            "text/plain": [
              "treatment    name  Treatment A  Treatment B\n",
              "0          Daniel          NaN         42.0\n",
              "1            Jane         24.0         27.0\n",
              "2            John         12.0         31.0"
            ]
          },
          "metadata": {
            "tags": []
          },
          "execution_count": 12
        }
      ]
    },
    {
      "cell_type": "code",
      "metadata": {
        "id": "hdQ1H20fhhML",
        "colab_type": "code",
        "colab": {
          "base_uri": "https://localhost:8080/",
          "height": 34
        },
        "outputId": "986fa9d0-b226-4405-ff8f-286f0b299ed9"
      },
      "source": [
        "new.index"
      ],
      "execution_count": 13,
      "outputs": [
        {
          "output_type": "execute_result",
          "data": {
            "text/plain": [
              "RangeIndex(start=0, stop=3, step=1)"
            ]
          },
          "metadata": {
            "tags": []
          },
          "execution_count": 13
        }
      ]
    },
    {
      "cell_type": "markdown",
      "metadata": {
        "id": "68NtP2IIh-xz",
        "colab_type": "text"
      },
      "source": [
        "#### aggregate function in pivot_table\n",
        "\n",
        "So far, you've used the .pivot_table() method when there are multiple index values you want to hold constant during a pivot. In the video, Dan showed you how you can also use pivot tables to deal with duplicate values by providing an aggregation function through the aggfunc parameter. Here, you're going to combine both these uses of pivot tables.\n",
        "You'll see that by using .pivot_table() and the aggfunc parameter, you can not only reshape your data, but also remove duplicates. Finally, you can then flatten the columns of the pivoted DataFrame using .reset_index()."
      ]
    },
    {
      "cell_type": "code",
      "metadata": {
        "id": "4K5po5QEi16d",
        "colab_type": "code",
        "colab": {
          "base_uri": "https://localhost:8080/",
          "height": 34
        },
        "outputId": "416924a7-2abe-4993-f45d-9db186596df3"
      },
      "source": [
        "obj = {'name':['Jane'],'treatment':['Treatment B'],'result':[72.0]}\n",
        "\n",
        "obj"
      ],
      "execution_count": 26,
      "outputs": [
        {
          "output_type": "execute_result",
          "data": {
            "text/plain": [
              "{'name': ['Jane'], 'result': [72.0], 'treatment': ['Treatment B']}"
            ]
          },
          "metadata": {
            "tags": []
          },
          "execution_count": 26
        }
      ]
    },
    {
      "cell_type": "code",
      "metadata": {
        "id": "ysRQzU0-i_q8",
        "colab_type": "code",
        "colab": {
          "base_uri": "https://localhost:8080/",
          "height": 80
        },
        "outputId": "07de7b14-27ae-49fe-b618-4fea891e6aa1"
      },
      "source": [
        "temp = pd.DataFrame(obj)\n",
        "\n",
        "temp"
      ],
      "execution_count": 27,
      "outputs": [
        {
          "output_type": "execute_result",
          "data": {
            "text/html": [
              "<div>\n",
              "<style scoped>\n",
              "    .dataframe tbody tr th:only-of-type {\n",
              "        vertical-align: middle;\n",
              "    }\n",
              "\n",
              "    .dataframe tbody tr th {\n",
              "        vertical-align: top;\n",
              "    }\n",
              "\n",
              "    .dataframe thead th {\n",
              "        text-align: right;\n",
              "    }\n",
              "</style>\n",
              "<table border=\"1\" class=\"dataframe\">\n",
              "  <thead>\n",
              "    <tr style=\"text-align: right;\">\n",
              "      <th></th>\n",
              "      <th>name</th>\n",
              "      <th>treatment</th>\n",
              "      <th>result</th>\n",
              "    </tr>\n",
              "  </thead>\n",
              "  <tbody>\n",
              "    <tr>\n",
              "      <th>0</th>\n",
              "      <td>Jane</td>\n",
              "      <td>Treatment B</td>\n",
              "      <td>72.0</td>\n",
              "    </tr>\n",
              "  </tbody>\n",
              "</table>\n",
              "</div>"
            ],
            "text/plain": [
              "   name    treatment  result\n",
              "0  Jane  Treatment B    72.0"
            ]
          },
          "metadata": {
            "tags": []
          },
          "execution_count": 27
        }
      ]
    },
    {
      "cell_type": "code",
      "metadata": {
        "id": "hjcHfLr0hnzu",
        "colab_type": "code",
        "colab": {
          "base_uri": "https://localhost:8080/",
          "height": 266
        },
        "outputId": "c4348abb-d239-4954-855c-109c19adee8b"
      },
      "source": [
        "dup = melted.append(temp,ignore_index=True)\n",
        "\n",
        "dup"
      ],
      "execution_count": 28,
      "outputs": [
        {
          "output_type": "execute_result",
          "data": {
            "text/html": [
              "<div>\n",
              "<style scoped>\n",
              "    .dataframe tbody tr th:only-of-type {\n",
              "        vertical-align: middle;\n",
              "    }\n",
              "\n",
              "    .dataframe tbody tr th {\n",
              "        vertical-align: top;\n",
              "    }\n",
              "\n",
              "    .dataframe thead th {\n",
              "        text-align: right;\n",
              "    }\n",
              "</style>\n",
              "<table border=\"1\" class=\"dataframe\">\n",
              "  <thead>\n",
              "    <tr style=\"text-align: right;\">\n",
              "      <th></th>\n",
              "      <th>name</th>\n",
              "      <th>treatment</th>\n",
              "      <th>result</th>\n",
              "    </tr>\n",
              "  </thead>\n",
              "  <tbody>\n",
              "    <tr>\n",
              "      <th>0</th>\n",
              "      <td>Daniel</td>\n",
              "      <td>Treatment A</td>\n",
              "      <td>NaN</td>\n",
              "    </tr>\n",
              "    <tr>\n",
              "      <th>1</th>\n",
              "      <td>John</td>\n",
              "      <td>Treatment A</td>\n",
              "      <td>12.0</td>\n",
              "    </tr>\n",
              "    <tr>\n",
              "      <th>2</th>\n",
              "      <td>Jane</td>\n",
              "      <td>Treatment A</td>\n",
              "      <td>24.0</td>\n",
              "    </tr>\n",
              "    <tr>\n",
              "      <th>3</th>\n",
              "      <td>Daniel</td>\n",
              "      <td>Treatment B</td>\n",
              "      <td>42.0</td>\n",
              "    </tr>\n",
              "    <tr>\n",
              "      <th>4</th>\n",
              "      <td>John</td>\n",
              "      <td>Treatment B</td>\n",
              "      <td>31.0</td>\n",
              "    </tr>\n",
              "    <tr>\n",
              "      <th>5</th>\n",
              "      <td>Jane</td>\n",
              "      <td>Treatment B</td>\n",
              "      <td>27.0</td>\n",
              "    </tr>\n",
              "    <tr>\n",
              "      <th>6</th>\n",
              "      <td>Jane</td>\n",
              "      <td>Treatment B</td>\n",
              "      <td>72.0</td>\n",
              "    </tr>\n",
              "  </tbody>\n",
              "</table>\n",
              "</div>"
            ],
            "text/plain": [
              "     name    treatment  result\n",
              "0  Daniel  Treatment A     NaN\n",
              "1    John  Treatment A    12.0\n",
              "2    Jane  Treatment A    24.0\n",
              "3  Daniel  Treatment B    42.0\n",
              "4    John  Treatment B    31.0\n",
              "5    Jane  Treatment B    27.0\n",
              "6    Jane  Treatment B    72.0"
            ]
          },
          "metadata": {
            "tags": []
          },
          "execution_count": 28
        }
      ]
    },
    {
      "cell_type": "code",
      "metadata": {
        "id": "3ixUFeyVik3f",
        "colab_type": "code",
        "colab": {
          "base_uri": "https://localhost:8080/",
          "height": 142
        },
        "outputId": "783ea973-ed89-4951-8821-293308401b1d"
      },
      "source": [
        "### doesnt work with duplicates\n",
        "import numpy as np\n",
        "\n",
        "dup.pivot_table(index=['name'], columns='treatment', values='result', aggfunc=np.mean).reset_index() #it means by deafult also!"
      ],
      "execution_count": 31,
      "outputs": [
        {
          "output_type": "execute_result",
          "data": {
            "text/html": [
              "<div>\n",
              "<style scoped>\n",
              "    .dataframe tbody tr th:only-of-type {\n",
              "        vertical-align: middle;\n",
              "    }\n",
              "\n",
              "    .dataframe tbody tr th {\n",
              "        vertical-align: top;\n",
              "    }\n",
              "\n",
              "    .dataframe thead th {\n",
              "        text-align: right;\n",
              "    }\n",
              "</style>\n",
              "<table border=\"1\" class=\"dataframe\">\n",
              "  <thead>\n",
              "    <tr style=\"text-align: right;\">\n",
              "      <th>treatment</th>\n",
              "      <th>name</th>\n",
              "      <th>Treatment A</th>\n",
              "      <th>Treatment B</th>\n",
              "    </tr>\n",
              "  </thead>\n",
              "  <tbody>\n",
              "    <tr>\n",
              "      <th>0</th>\n",
              "      <td>Daniel</td>\n",
              "      <td>NaN</td>\n",
              "      <td>42.0</td>\n",
              "    </tr>\n",
              "    <tr>\n",
              "      <th>1</th>\n",
              "      <td>Jane</td>\n",
              "      <td>24.0</td>\n",
              "      <td>49.5</td>\n",
              "    </tr>\n",
              "    <tr>\n",
              "      <th>2</th>\n",
              "      <td>John</td>\n",
              "      <td>12.0</td>\n",
              "      <td>31.0</td>\n",
              "    </tr>\n",
              "  </tbody>\n",
              "</table>\n",
              "</div>"
            ],
            "text/plain": [
              "treatment    name  Treatment A  Treatment B\n",
              "0          Daniel          NaN         42.0\n",
              "1            Jane         24.0         49.5\n",
              "2            John         12.0         31.0"
            ]
          },
          "metadata": {
            "tags": []
          },
          "execution_count": 31
        }
      ]
    },
    {
      "cell_type": "markdown",
      "metadata": {
        "id": "tqEk7qsLkyMJ",
        "colab_type": "text"
      },
      "source": [
        "## single column representing multiple info"
      ]
    },
    {
      "cell_type": "markdown",
      "metadata": {
        "id": "kmt4N_8zovRX",
        "colab_type": "text"
      },
      "source": [
        "#### gender+age group"
      ]
    },
    {
      "cell_type": "code",
      "metadata": {
        "id": "B-DLAXjWjY3X",
        "colab_type": "code",
        "colab": {
          "base_uri": "https://localhost:8080/",
          "height": 204
        },
        "outputId": "e3d65849-64e7-4931-fd86-90f1e3c4d91b"
      },
      "source": [
        "import pandas as pd\n",
        "\n",
        "url='https://assets.datacamp.com/production/repositories/666/datasets/cf05b5e01009dd5d61d7db5ac5fb790042e7fd09/tb.csv'\n",
        "tb = pd.read_csv(url)\n",
        "tb.head()"
      ],
      "execution_count": 38,
      "outputs": [
        {
          "output_type": "execute_result",
          "data": {
            "text/html": [
              "<div>\n",
              "<style scoped>\n",
              "    .dataframe tbody tr th:only-of-type {\n",
              "        vertical-align: middle;\n",
              "    }\n",
              "\n",
              "    .dataframe tbody tr th {\n",
              "        vertical-align: top;\n",
              "    }\n",
              "\n",
              "    .dataframe thead th {\n",
              "        text-align: right;\n",
              "    }\n",
              "</style>\n",
              "<table border=\"1\" class=\"dataframe\">\n",
              "  <thead>\n",
              "    <tr style=\"text-align: right;\">\n",
              "      <th></th>\n",
              "      <th>country</th>\n",
              "      <th>year</th>\n",
              "      <th>m014</th>\n",
              "      <th>m1524</th>\n",
              "      <th>m2534</th>\n",
              "      <th>m3544</th>\n",
              "      <th>m4554</th>\n",
              "      <th>m5564</th>\n",
              "      <th>m65</th>\n",
              "      <th>mu</th>\n",
              "      <th>f014</th>\n",
              "      <th>f1524</th>\n",
              "      <th>f2534</th>\n",
              "      <th>f3544</th>\n",
              "      <th>f4554</th>\n",
              "      <th>f5564</th>\n",
              "      <th>f65</th>\n",
              "      <th>fu</th>\n",
              "    </tr>\n",
              "  </thead>\n",
              "  <tbody>\n",
              "    <tr>\n",
              "      <th>0</th>\n",
              "      <td>AD</td>\n",
              "      <td>2000</td>\n",
              "      <td>0.0</td>\n",
              "      <td>0.0</td>\n",
              "      <td>1.0</td>\n",
              "      <td>0.0</td>\n",
              "      <td>0.0</td>\n",
              "      <td>0.0</td>\n",
              "      <td>0.0</td>\n",
              "      <td>NaN</td>\n",
              "      <td>NaN</td>\n",
              "      <td>NaN</td>\n",
              "      <td>NaN</td>\n",
              "      <td>NaN</td>\n",
              "      <td>NaN</td>\n",
              "      <td>NaN</td>\n",
              "      <td>NaN</td>\n",
              "      <td>NaN</td>\n",
              "    </tr>\n",
              "    <tr>\n",
              "      <th>1</th>\n",
              "      <td>AE</td>\n",
              "      <td>2000</td>\n",
              "      <td>2.0</td>\n",
              "      <td>4.0</td>\n",
              "      <td>4.0</td>\n",
              "      <td>6.0</td>\n",
              "      <td>5.0</td>\n",
              "      <td>12.0</td>\n",
              "      <td>10.0</td>\n",
              "      <td>NaN</td>\n",
              "      <td>3.0</td>\n",
              "      <td>16.0</td>\n",
              "      <td>1.0</td>\n",
              "      <td>3.0</td>\n",
              "      <td>0.0</td>\n",
              "      <td>0.0</td>\n",
              "      <td>4.0</td>\n",
              "      <td>NaN</td>\n",
              "    </tr>\n",
              "    <tr>\n",
              "      <th>2</th>\n",
              "      <td>AF</td>\n",
              "      <td>2000</td>\n",
              "      <td>52.0</td>\n",
              "      <td>228.0</td>\n",
              "      <td>183.0</td>\n",
              "      <td>149.0</td>\n",
              "      <td>129.0</td>\n",
              "      <td>94.0</td>\n",
              "      <td>80.0</td>\n",
              "      <td>NaN</td>\n",
              "      <td>93.0</td>\n",
              "      <td>414.0</td>\n",
              "      <td>565.0</td>\n",
              "      <td>339.0</td>\n",
              "      <td>205.0</td>\n",
              "      <td>99.0</td>\n",
              "      <td>36.0</td>\n",
              "      <td>NaN</td>\n",
              "    </tr>\n",
              "    <tr>\n",
              "      <th>3</th>\n",
              "      <td>AG</td>\n",
              "      <td>2000</td>\n",
              "      <td>0.0</td>\n",
              "      <td>0.0</td>\n",
              "      <td>0.0</td>\n",
              "      <td>0.0</td>\n",
              "      <td>0.0</td>\n",
              "      <td>0.0</td>\n",
              "      <td>1.0</td>\n",
              "      <td>NaN</td>\n",
              "      <td>1.0</td>\n",
              "      <td>1.0</td>\n",
              "      <td>1.0</td>\n",
              "      <td>0.0</td>\n",
              "      <td>0.0</td>\n",
              "      <td>0.0</td>\n",
              "      <td>0.0</td>\n",
              "      <td>NaN</td>\n",
              "    </tr>\n",
              "    <tr>\n",
              "      <th>4</th>\n",
              "      <td>AL</td>\n",
              "      <td>2000</td>\n",
              "      <td>2.0</td>\n",
              "      <td>19.0</td>\n",
              "      <td>21.0</td>\n",
              "      <td>14.0</td>\n",
              "      <td>24.0</td>\n",
              "      <td>19.0</td>\n",
              "      <td>16.0</td>\n",
              "      <td>NaN</td>\n",
              "      <td>3.0</td>\n",
              "      <td>11.0</td>\n",
              "      <td>10.0</td>\n",
              "      <td>8.0</td>\n",
              "      <td>8.0</td>\n",
              "      <td>5.0</td>\n",
              "      <td>11.0</td>\n",
              "      <td>NaN</td>\n",
              "    </tr>\n",
              "  </tbody>\n",
              "</table>\n",
              "</div>"
            ],
            "text/plain": [
              "  country  year  m014  m1524  m2534  ...  f3544  f4554  f5564   f65  fu\n",
              "0      AD  2000   0.0    0.0    1.0  ...    NaN    NaN    NaN   NaN NaN\n",
              "1      AE  2000   2.0    4.0    4.0  ...    3.0    0.0    0.0   4.0 NaN\n",
              "2      AF  2000  52.0  228.0  183.0  ...  339.0  205.0   99.0  36.0 NaN\n",
              "3      AG  2000   0.0    0.0    0.0  ...    0.0    0.0    0.0   0.0 NaN\n",
              "4      AL  2000   2.0   19.0   21.0  ...    8.0    8.0    5.0  11.0 NaN\n",
              "\n",
              "[5 rows x 18 columns]"
            ]
          },
          "metadata": {
            "tags": []
          },
          "execution_count": 38
        }
      ]
    },
    {
      "cell_type": "markdown",
      "metadata": {
        "id": "-ra7oSQLnLzA",
        "colab_type": "text"
      },
      "source": [
        "The dataset you saw in the video, consisting of case counts of tuberculosis by country, year, gender, and age group, has been pre-loaded into a DataFrame as tb.\n",
        "\n",
        "In this exercise, you're going to tidy the 'm014' column, which represents males aged 0-14 years of age. In order to parse this value, you need to extract the first letter into a new column for gender, and the rest into a column for age_group. Here, since you can parse values by position, you can take advantage of pandas' vectorized string slicing by using the str attribute of columns of type object.\n",
        "\n",
        "Begin by printing the columns of tb in the IPython Shell using its .columns attribute, and take note of the problematic column."
      ]
    },
    {
      "cell_type": "code",
      "metadata": {
        "id": "GTc-d_drm7A0",
        "colab_type": "code",
        "colab": {
          "base_uri": "https://localhost:8080/",
          "height": 204
        },
        "outputId": "191d47a1-cb8f-4282-c17e-0dfaa2efae1b"
      },
      "source": [
        "# Melt tb: tb_melt\n",
        "tb_melt = pd.melt(tb, id_vars=['country' , 'year'])\n",
        "\n",
        "# Create the 'gender' column\n",
        "tb_melt['gender'] = tb_melt.variable.str[0]\n",
        "\n",
        "# Create the 'age_group' column\n",
        "tb_melt['age_group'] =  tb_melt.variable.str[1:]\n",
        "\n",
        "# Print the head of tb_melt\n",
        "tb_melt.head()"
      ],
      "execution_count": 39,
      "outputs": [
        {
          "output_type": "execute_result",
          "data": {
            "text/html": [
              "<div>\n",
              "<style scoped>\n",
              "    .dataframe tbody tr th:only-of-type {\n",
              "        vertical-align: middle;\n",
              "    }\n",
              "\n",
              "    .dataframe tbody tr th {\n",
              "        vertical-align: top;\n",
              "    }\n",
              "\n",
              "    .dataframe thead th {\n",
              "        text-align: right;\n",
              "    }\n",
              "</style>\n",
              "<table border=\"1\" class=\"dataframe\">\n",
              "  <thead>\n",
              "    <tr style=\"text-align: right;\">\n",
              "      <th></th>\n",
              "      <th>country</th>\n",
              "      <th>year</th>\n",
              "      <th>variable</th>\n",
              "      <th>value</th>\n",
              "      <th>gender</th>\n",
              "      <th>age_group</th>\n",
              "    </tr>\n",
              "  </thead>\n",
              "  <tbody>\n",
              "    <tr>\n",
              "      <th>0</th>\n",
              "      <td>AD</td>\n",
              "      <td>2000</td>\n",
              "      <td>m014</td>\n",
              "      <td>0.0</td>\n",
              "      <td>m</td>\n",
              "      <td>014</td>\n",
              "    </tr>\n",
              "    <tr>\n",
              "      <th>1</th>\n",
              "      <td>AE</td>\n",
              "      <td>2000</td>\n",
              "      <td>m014</td>\n",
              "      <td>2.0</td>\n",
              "      <td>m</td>\n",
              "      <td>014</td>\n",
              "    </tr>\n",
              "    <tr>\n",
              "      <th>2</th>\n",
              "      <td>AF</td>\n",
              "      <td>2000</td>\n",
              "      <td>m014</td>\n",
              "      <td>52.0</td>\n",
              "      <td>m</td>\n",
              "      <td>014</td>\n",
              "    </tr>\n",
              "    <tr>\n",
              "      <th>3</th>\n",
              "      <td>AG</td>\n",
              "      <td>2000</td>\n",
              "      <td>m014</td>\n",
              "      <td>0.0</td>\n",
              "      <td>m</td>\n",
              "      <td>014</td>\n",
              "    </tr>\n",
              "    <tr>\n",
              "      <th>4</th>\n",
              "      <td>AL</td>\n",
              "      <td>2000</td>\n",
              "      <td>m014</td>\n",
              "      <td>2.0</td>\n",
              "      <td>m</td>\n",
              "      <td>014</td>\n",
              "    </tr>\n",
              "  </tbody>\n",
              "</table>\n",
              "</div>"
            ],
            "text/plain": [
              "  country  year variable  value gender age_group\n",
              "0      AD  2000     m014    0.0      m       014\n",
              "1      AE  2000     m014    2.0      m       014\n",
              "2      AF  2000     m014   52.0      m       014\n",
              "3      AG  2000     m014    0.0      m       014\n",
              "4      AL  2000     m014    2.0      m       014"
            ]
          },
          "metadata": {
            "tags": []
          },
          "execution_count": 39
        }
      ]
    },
    {
      "cell_type": "code",
      "metadata": {
        "id": "z3ku5ogAoIrg",
        "colab_type": "code",
        "colab": {
          "base_uri": "https://localhost:8080/",
          "height": 204
        },
        "outputId": "23f0bec4-6064-44a8-889a-93ff6e202711"
      },
      "source": [
        "tb_melt.tail()"
      ],
      "execution_count": 40,
      "outputs": [
        {
          "output_type": "execute_result",
          "data": {
            "text/html": [
              "<div>\n",
              "<style scoped>\n",
              "    .dataframe tbody tr th:only-of-type {\n",
              "        vertical-align: middle;\n",
              "    }\n",
              "\n",
              "    .dataframe tbody tr th {\n",
              "        vertical-align: top;\n",
              "    }\n",
              "\n",
              "    .dataframe thead th {\n",
              "        text-align: right;\n",
              "    }\n",
              "</style>\n",
              "<table border=\"1\" class=\"dataframe\">\n",
              "  <thead>\n",
              "    <tr style=\"text-align: right;\">\n",
              "      <th></th>\n",
              "      <th>country</th>\n",
              "      <th>year</th>\n",
              "      <th>variable</th>\n",
              "      <th>value</th>\n",
              "      <th>gender</th>\n",
              "      <th>age_group</th>\n",
              "    </tr>\n",
              "  </thead>\n",
              "  <tbody>\n",
              "    <tr>\n",
              "      <th>3211</th>\n",
              "      <td>YE</td>\n",
              "      <td>2000</td>\n",
              "      <td>fu</td>\n",
              "      <td>NaN</td>\n",
              "      <td>f</td>\n",
              "      <td>u</td>\n",
              "    </tr>\n",
              "    <tr>\n",
              "      <th>3212</th>\n",
              "      <td>YU</td>\n",
              "      <td>2000</td>\n",
              "      <td>fu</td>\n",
              "      <td>NaN</td>\n",
              "      <td>f</td>\n",
              "      <td>u</td>\n",
              "    </tr>\n",
              "    <tr>\n",
              "      <th>3213</th>\n",
              "      <td>ZA</td>\n",
              "      <td>2000</td>\n",
              "      <td>fu</td>\n",
              "      <td>NaN</td>\n",
              "      <td>f</td>\n",
              "      <td>u</td>\n",
              "    </tr>\n",
              "    <tr>\n",
              "      <th>3214</th>\n",
              "      <td>ZM</td>\n",
              "      <td>2000</td>\n",
              "      <td>fu</td>\n",
              "      <td>NaN</td>\n",
              "      <td>f</td>\n",
              "      <td>u</td>\n",
              "    </tr>\n",
              "    <tr>\n",
              "      <th>3215</th>\n",
              "      <td>ZW</td>\n",
              "      <td>2000</td>\n",
              "      <td>fu</td>\n",
              "      <td>NaN</td>\n",
              "      <td>f</td>\n",
              "      <td>u</td>\n",
              "    </tr>\n",
              "  </tbody>\n",
              "</table>\n",
              "</div>"
            ],
            "text/plain": [
              "     country  year variable  value gender age_group\n",
              "3211      YE  2000       fu    NaN      f         u\n",
              "3212      YU  2000       fu    NaN      f         u\n",
              "3213      ZA  2000       fu    NaN      f         u\n",
              "3214      ZM  2000       fu    NaN      f         u\n",
              "3215      ZW  2000       fu    NaN      f         u"
            ]
          },
          "metadata": {
            "tags": []
          },
          "execution_count": 40
        }
      ]
    },
    {
      "cell_type": "code",
      "metadata": {
        "id": "yzQ-Mm9foRd4",
        "colab_type": "code",
        "colab": {
          "base_uri": "https://localhost:8080/",
          "height": 545
        },
        "outputId": "d46a8692-5927-4317-e678-2909d37aa6b2"
      },
      "source": [
        "tb_melt[tb_melt['country']=='AE']"
      ],
      "execution_count": 42,
      "outputs": [
        {
          "output_type": "execute_result",
          "data": {
            "text/html": [
              "<div>\n",
              "<style scoped>\n",
              "    .dataframe tbody tr th:only-of-type {\n",
              "        vertical-align: middle;\n",
              "    }\n",
              "\n",
              "    .dataframe tbody tr th {\n",
              "        vertical-align: top;\n",
              "    }\n",
              "\n",
              "    .dataframe thead th {\n",
              "        text-align: right;\n",
              "    }\n",
              "</style>\n",
              "<table border=\"1\" class=\"dataframe\">\n",
              "  <thead>\n",
              "    <tr style=\"text-align: right;\">\n",
              "      <th></th>\n",
              "      <th>country</th>\n",
              "      <th>year</th>\n",
              "      <th>variable</th>\n",
              "      <th>value</th>\n",
              "      <th>gender</th>\n",
              "      <th>age_group</th>\n",
              "    </tr>\n",
              "  </thead>\n",
              "  <tbody>\n",
              "    <tr>\n",
              "      <th>1</th>\n",
              "      <td>AE</td>\n",
              "      <td>2000</td>\n",
              "      <td>m014</td>\n",
              "      <td>2.0</td>\n",
              "      <td>m</td>\n",
              "      <td>014</td>\n",
              "    </tr>\n",
              "    <tr>\n",
              "      <th>202</th>\n",
              "      <td>AE</td>\n",
              "      <td>2000</td>\n",
              "      <td>m1524</td>\n",
              "      <td>4.0</td>\n",
              "      <td>m</td>\n",
              "      <td>1524</td>\n",
              "    </tr>\n",
              "    <tr>\n",
              "      <th>403</th>\n",
              "      <td>AE</td>\n",
              "      <td>2000</td>\n",
              "      <td>m2534</td>\n",
              "      <td>4.0</td>\n",
              "      <td>m</td>\n",
              "      <td>2534</td>\n",
              "    </tr>\n",
              "    <tr>\n",
              "      <th>604</th>\n",
              "      <td>AE</td>\n",
              "      <td>2000</td>\n",
              "      <td>m3544</td>\n",
              "      <td>6.0</td>\n",
              "      <td>m</td>\n",
              "      <td>3544</td>\n",
              "    </tr>\n",
              "    <tr>\n",
              "      <th>805</th>\n",
              "      <td>AE</td>\n",
              "      <td>2000</td>\n",
              "      <td>m4554</td>\n",
              "      <td>5.0</td>\n",
              "      <td>m</td>\n",
              "      <td>4554</td>\n",
              "    </tr>\n",
              "    <tr>\n",
              "      <th>1006</th>\n",
              "      <td>AE</td>\n",
              "      <td>2000</td>\n",
              "      <td>m5564</td>\n",
              "      <td>12.0</td>\n",
              "      <td>m</td>\n",
              "      <td>5564</td>\n",
              "    </tr>\n",
              "    <tr>\n",
              "      <th>1207</th>\n",
              "      <td>AE</td>\n",
              "      <td>2000</td>\n",
              "      <td>m65</td>\n",
              "      <td>10.0</td>\n",
              "      <td>m</td>\n",
              "      <td>65</td>\n",
              "    </tr>\n",
              "    <tr>\n",
              "      <th>1408</th>\n",
              "      <td>AE</td>\n",
              "      <td>2000</td>\n",
              "      <td>mu</td>\n",
              "      <td>NaN</td>\n",
              "      <td>m</td>\n",
              "      <td>u</td>\n",
              "    </tr>\n",
              "    <tr>\n",
              "      <th>1609</th>\n",
              "      <td>AE</td>\n",
              "      <td>2000</td>\n",
              "      <td>f014</td>\n",
              "      <td>3.0</td>\n",
              "      <td>f</td>\n",
              "      <td>014</td>\n",
              "    </tr>\n",
              "    <tr>\n",
              "      <th>1810</th>\n",
              "      <td>AE</td>\n",
              "      <td>2000</td>\n",
              "      <td>f1524</td>\n",
              "      <td>16.0</td>\n",
              "      <td>f</td>\n",
              "      <td>1524</td>\n",
              "    </tr>\n",
              "    <tr>\n",
              "      <th>2011</th>\n",
              "      <td>AE</td>\n",
              "      <td>2000</td>\n",
              "      <td>f2534</td>\n",
              "      <td>1.0</td>\n",
              "      <td>f</td>\n",
              "      <td>2534</td>\n",
              "    </tr>\n",
              "    <tr>\n",
              "      <th>2212</th>\n",
              "      <td>AE</td>\n",
              "      <td>2000</td>\n",
              "      <td>f3544</td>\n",
              "      <td>3.0</td>\n",
              "      <td>f</td>\n",
              "      <td>3544</td>\n",
              "    </tr>\n",
              "    <tr>\n",
              "      <th>2413</th>\n",
              "      <td>AE</td>\n",
              "      <td>2000</td>\n",
              "      <td>f4554</td>\n",
              "      <td>0.0</td>\n",
              "      <td>f</td>\n",
              "      <td>4554</td>\n",
              "    </tr>\n",
              "    <tr>\n",
              "      <th>2614</th>\n",
              "      <td>AE</td>\n",
              "      <td>2000</td>\n",
              "      <td>f5564</td>\n",
              "      <td>0.0</td>\n",
              "      <td>f</td>\n",
              "      <td>5564</td>\n",
              "    </tr>\n",
              "    <tr>\n",
              "      <th>2815</th>\n",
              "      <td>AE</td>\n",
              "      <td>2000</td>\n",
              "      <td>f65</td>\n",
              "      <td>4.0</td>\n",
              "      <td>f</td>\n",
              "      <td>65</td>\n",
              "    </tr>\n",
              "    <tr>\n",
              "      <th>3016</th>\n",
              "      <td>AE</td>\n",
              "      <td>2000</td>\n",
              "      <td>fu</td>\n",
              "      <td>NaN</td>\n",
              "      <td>f</td>\n",
              "      <td>u</td>\n",
              "    </tr>\n",
              "  </tbody>\n",
              "</table>\n",
              "</div>"
            ],
            "text/plain": [
              "     country  year variable  value gender age_group\n",
              "1         AE  2000     m014    2.0      m       014\n",
              "202       AE  2000    m1524    4.0      m      1524\n",
              "403       AE  2000    m2534    4.0      m      2534\n",
              "604       AE  2000    m3544    6.0      m      3544\n",
              "805       AE  2000    m4554    5.0      m      4554\n",
              "1006      AE  2000    m5564   12.0      m      5564\n",
              "1207      AE  2000      m65   10.0      m        65\n",
              "1408      AE  2000       mu    NaN      m         u\n",
              "1609      AE  2000     f014    3.0      f       014\n",
              "1810      AE  2000    f1524   16.0      f      1524\n",
              "2011      AE  2000    f2534    1.0      f      2534\n",
              "2212      AE  2000    f3544    3.0      f      3544\n",
              "2413      AE  2000    f4554    0.0      f      4554\n",
              "2614      AE  2000    f5564    0.0      f      5564\n",
              "2815      AE  2000      f65    4.0      f        65\n",
              "3016      AE  2000       fu    NaN      f         u"
            ]
          },
          "metadata": {
            "tags": []
          },
          "execution_count": 42
        }
      ]
    },
    {
      "cell_type": "markdown",
      "metadata": {
        "id": "HdKjVWqqo0su",
        "colab_type": "text"
      },
      "source": [
        "#### with delims"
      ]
    },
    {
      "cell_type": "code",
      "metadata": {
        "id": "faKSmhXcod_N",
        "colab_type": "code",
        "colab": {
          "base_uri": "https://localhost:8080/",
          "height": 224
        },
        "outputId": "5d7214e1-0999-4db0-a4e3-525e0ae6fd11"
      },
      "source": [
        "url = 'https://assets.datacamp.com/production/repositories/666/datasets/6da83b3d2017245217d35989960184234a6c4e7f/ebola.csv'\n",
        "ebola = pd.read_csv(url)\n",
        "ebola.head()"
      ],
      "execution_count": 43,
      "outputs": [
        {
          "output_type": "execute_result",
          "data": {
            "text/html": [
              "<div>\n",
              "<style scoped>\n",
              "    .dataframe tbody tr th:only-of-type {\n",
              "        vertical-align: middle;\n",
              "    }\n",
              "\n",
              "    .dataframe tbody tr th {\n",
              "        vertical-align: top;\n",
              "    }\n",
              "\n",
              "    .dataframe thead th {\n",
              "        text-align: right;\n",
              "    }\n",
              "</style>\n",
              "<table border=\"1\" class=\"dataframe\">\n",
              "  <thead>\n",
              "    <tr style=\"text-align: right;\">\n",
              "      <th></th>\n",
              "      <th>Date</th>\n",
              "      <th>Day</th>\n",
              "      <th>Cases_Guinea</th>\n",
              "      <th>Cases_Liberia</th>\n",
              "      <th>Cases_SierraLeone</th>\n",
              "      <th>Cases_Nigeria</th>\n",
              "      <th>Cases_Senegal</th>\n",
              "      <th>Cases_UnitedStates</th>\n",
              "      <th>Cases_Spain</th>\n",
              "      <th>Cases_Mali</th>\n",
              "      <th>Deaths_Guinea</th>\n",
              "      <th>Deaths_Liberia</th>\n",
              "      <th>Deaths_SierraLeone</th>\n",
              "      <th>Deaths_Nigeria</th>\n",
              "      <th>Deaths_Senegal</th>\n",
              "      <th>Deaths_UnitedStates</th>\n",
              "      <th>Deaths_Spain</th>\n",
              "      <th>Deaths_Mali</th>\n",
              "    </tr>\n",
              "  </thead>\n",
              "  <tbody>\n",
              "    <tr>\n",
              "      <th>0</th>\n",
              "      <td>1/5/2015</td>\n",
              "      <td>289</td>\n",
              "      <td>2776.0</td>\n",
              "      <td>NaN</td>\n",
              "      <td>10030.0</td>\n",
              "      <td>NaN</td>\n",
              "      <td>NaN</td>\n",
              "      <td>NaN</td>\n",
              "      <td>NaN</td>\n",
              "      <td>NaN</td>\n",
              "      <td>1786.0</td>\n",
              "      <td>NaN</td>\n",
              "      <td>2977.0</td>\n",
              "      <td>NaN</td>\n",
              "      <td>NaN</td>\n",
              "      <td>NaN</td>\n",
              "      <td>NaN</td>\n",
              "      <td>NaN</td>\n",
              "    </tr>\n",
              "    <tr>\n",
              "      <th>1</th>\n",
              "      <td>1/4/2015</td>\n",
              "      <td>288</td>\n",
              "      <td>2775.0</td>\n",
              "      <td>NaN</td>\n",
              "      <td>9780.0</td>\n",
              "      <td>NaN</td>\n",
              "      <td>NaN</td>\n",
              "      <td>NaN</td>\n",
              "      <td>NaN</td>\n",
              "      <td>NaN</td>\n",
              "      <td>1781.0</td>\n",
              "      <td>NaN</td>\n",
              "      <td>2943.0</td>\n",
              "      <td>NaN</td>\n",
              "      <td>NaN</td>\n",
              "      <td>NaN</td>\n",
              "      <td>NaN</td>\n",
              "      <td>NaN</td>\n",
              "    </tr>\n",
              "    <tr>\n",
              "      <th>2</th>\n",
              "      <td>1/3/2015</td>\n",
              "      <td>287</td>\n",
              "      <td>2769.0</td>\n",
              "      <td>8166.0</td>\n",
              "      <td>9722.0</td>\n",
              "      <td>NaN</td>\n",
              "      <td>NaN</td>\n",
              "      <td>NaN</td>\n",
              "      <td>NaN</td>\n",
              "      <td>NaN</td>\n",
              "      <td>1767.0</td>\n",
              "      <td>3496.0</td>\n",
              "      <td>2915.0</td>\n",
              "      <td>NaN</td>\n",
              "      <td>NaN</td>\n",
              "      <td>NaN</td>\n",
              "      <td>NaN</td>\n",
              "      <td>NaN</td>\n",
              "    </tr>\n",
              "    <tr>\n",
              "      <th>3</th>\n",
              "      <td>1/2/2015</td>\n",
              "      <td>286</td>\n",
              "      <td>NaN</td>\n",
              "      <td>8157.0</td>\n",
              "      <td>NaN</td>\n",
              "      <td>NaN</td>\n",
              "      <td>NaN</td>\n",
              "      <td>NaN</td>\n",
              "      <td>NaN</td>\n",
              "      <td>NaN</td>\n",
              "      <td>NaN</td>\n",
              "      <td>3496.0</td>\n",
              "      <td>NaN</td>\n",
              "      <td>NaN</td>\n",
              "      <td>NaN</td>\n",
              "      <td>NaN</td>\n",
              "      <td>NaN</td>\n",
              "      <td>NaN</td>\n",
              "    </tr>\n",
              "    <tr>\n",
              "      <th>4</th>\n",
              "      <td>12/31/2014</td>\n",
              "      <td>284</td>\n",
              "      <td>2730.0</td>\n",
              "      <td>8115.0</td>\n",
              "      <td>9633.0</td>\n",
              "      <td>NaN</td>\n",
              "      <td>NaN</td>\n",
              "      <td>NaN</td>\n",
              "      <td>NaN</td>\n",
              "      <td>NaN</td>\n",
              "      <td>1739.0</td>\n",
              "      <td>3471.0</td>\n",
              "      <td>2827.0</td>\n",
              "      <td>NaN</td>\n",
              "      <td>NaN</td>\n",
              "      <td>NaN</td>\n",
              "      <td>NaN</td>\n",
              "      <td>NaN</td>\n",
              "    </tr>\n",
              "  </tbody>\n",
              "</table>\n",
              "</div>"
            ],
            "text/plain": [
              "         Date  Day  ...  Deaths_Spain  Deaths_Mali\n",
              "0    1/5/2015  289  ...           NaN          NaN\n",
              "1    1/4/2015  288  ...           NaN          NaN\n",
              "2    1/3/2015  287  ...           NaN          NaN\n",
              "3    1/2/2015  286  ...           NaN          NaN\n",
              "4  12/31/2014  284  ...           NaN          NaN\n",
              "\n",
              "[5 rows x 18 columns]"
            ]
          },
          "metadata": {
            "tags": []
          },
          "execution_count": 43
        }
      ]
    },
    {
      "cell_type": "code",
      "metadata": {
        "id": "oCaPRM4epMAP",
        "colab_type": "code",
        "colab": {
          "base_uri": "https://localhost:8080/",
          "height": 204
        },
        "outputId": "96ffe9e1-2a73-49cb-c0dd-9290ea3ae00e"
      },
      "source": [
        "# Melt ebola: ebola_melt\n",
        "ebola_melt = pd.melt(ebola, id_vars=['Date' , 'Day'], var_name='type_country', value_name='counts')\n",
        "\n",
        "# Create the 'str_split' column\n",
        "ebola_melt['str_split'] = ebola_melt.type_country.str.split('_')\n",
        "\n",
        "ebola_melt.head()"
      ],
      "execution_count": 44,
      "outputs": [
        {
          "output_type": "execute_result",
          "data": {
            "text/html": [
              "<div>\n",
              "<style scoped>\n",
              "    .dataframe tbody tr th:only-of-type {\n",
              "        vertical-align: middle;\n",
              "    }\n",
              "\n",
              "    .dataframe tbody tr th {\n",
              "        vertical-align: top;\n",
              "    }\n",
              "\n",
              "    .dataframe thead th {\n",
              "        text-align: right;\n",
              "    }\n",
              "</style>\n",
              "<table border=\"1\" class=\"dataframe\">\n",
              "  <thead>\n",
              "    <tr style=\"text-align: right;\">\n",
              "      <th></th>\n",
              "      <th>Date</th>\n",
              "      <th>Day</th>\n",
              "      <th>type_country</th>\n",
              "      <th>counts</th>\n",
              "      <th>str_split</th>\n",
              "    </tr>\n",
              "  </thead>\n",
              "  <tbody>\n",
              "    <tr>\n",
              "      <th>0</th>\n",
              "      <td>1/5/2015</td>\n",
              "      <td>289</td>\n",
              "      <td>Cases_Guinea</td>\n",
              "      <td>2776.0</td>\n",
              "      <td>[Cases, Guinea]</td>\n",
              "    </tr>\n",
              "    <tr>\n",
              "      <th>1</th>\n",
              "      <td>1/4/2015</td>\n",
              "      <td>288</td>\n",
              "      <td>Cases_Guinea</td>\n",
              "      <td>2775.0</td>\n",
              "      <td>[Cases, Guinea]</td>\n",
              "    </tr>\n",
              "    <tr>\n",
              "      <th>2</th>\n",
              "      <td>1/3/2015</td>\n",
              "      <td>287</td>\n",
              "      <td>Cases_Guinea</td>\n",
              "      <td>2769.0</td>\n",
              "      <td>[Cases, Guinea]</td>\n",
              "    </tr>\n",
              "    <tr>\n",
              "      <th>3</th>\n",
              "      <td>1/2/2015</td>\n",
              "      <td>286</td>\n",
              "      <td>Cases_Guinea</td>\n",
              "      <td>NaN</td>\n",
              "      <td>[Cases, Guinea]</td>\n",
              "    </tr>\n",
              "    <tr>\n",
              "      <th>4</th>\n",
              "      <td>12/31/2014</td>\n",
              "      <td>284</td>\n",
              "      <td>Cases_Guinea</td>\n",
              "      <td>2730.0</td>\n",
              "      <td>[Cases, Guinea]</td>\n",
              "    </tr>\n",
              "  </tbody>\n",
              "</table>\n",
              "</div>"
            ],
            "text/plain": [
              "         Date  Day  type_country  counts        str_split\n",
              "0    1/5/2015  289  Cases_Guinea  2776.0  [Cases, Guinea]\n",
              "1    1/4/2015  288  Cases_Guinea  2775.0  [Cases, Guinea]\n",
              "2    1/3/2015  287  Cases_Guinea  2769.0  [Cases, Guinea]\n",
              "3    1/2/2015  286  Cases_Guinea     NaN  [Cases, Guinea]\n",
              "4  12/31/2014  284  Cases_Guinea  2730.0  [Cases, Guinea]"
            ]
          },
          "metadata": {
            "tags": []
          },
          "execution_count": 44
        }
      ]
    },
    {
      "cell_type": "code",
      "metadata": {
        "id": "l_tGBck0qQZW",
        "colab_type": "code",
        "colab": {
          "base_uri": "https://localhost:8080/",
          "height": 204
        },
        "outputId": "3dad022d-d3a7-40e7-e189-e017dd23a6db"
      },
      "source": [
        "ebola_melt.tail()"
      ],
      "execution_count": 45,
      "outputs": [
        {
          "output_type": "execute_result",
          "data": {
            "text/html": [
              "<div>\n",
              "<style scoped>\n",
              "    .dataframe tbody tr th:only-of-type {\n",
              "        vertical-align: middle;\n",
              "    }\n",
              "\n",
              "    .dataframe tbody tr th {\n",
              "        vertical-align: top;\n",
              "    }\n",
              "\n",
              "    .dataframe thead th {\n",
              "        text-align: right;\n",
              "    }\n",
              "</style>\n",
              "<table border=\"1\" class=\"dataframe\">\n",
              "  <thead>\n",
              "    <tr style=\"text-align: right;\">\n",
              "      <th></th>\n",
              "      <th>Date</th>\n",
              "      <th>Day</th>\n",
              "      <th>type_country</th>\n",
              "      <th>counts</th>\n",
              "      <th>str_split</th>\n",
              "    </tr>\n",
              "  </thead>\n",
              "  <tbody>\n",
              "    <tr>\n",
              "      <th>1947</th>\n",
              "      <td>3/27/2014</td>\n",
              "      <td>5</td>\n",
              "      <td>Deaths_Mali</td>\n",
              "      <td>NaN</td>\n",
              "      <td>[Deaths, Mali]</td>\n",
              "    </tr>\n",
              "    <tr>\n",
              "      <th>1948</th>\n",
              "      <td>3/26/2014</td>\n",
              "      <td>4</td>\n",
              "      <td>Deaths_Mali</td>\n",
              "      <td>NaN</td>\n",
              "      <td>[Deaths, Mali]</td>\n",
              "    </tr>\n",
              "    <tr>\n",
              "      <th>1949</th>\n",
              "      <td>3/25/2014</td>\n",
              "      <td>3</td>\n",
              "      <td>Deaths_Mali</td>\n",
              "      <td>NaN</td>\n",
              "      <td>[Deaths, Mali]</td>\n",
              "    </tr>\n",
              "    <tr>\n",
              "      <th>1950</th>\n",
              "      <td>3/24/2014</td>\n",
              "      <td>2</td>\n",
              "      <td>Deaths_Mali</td>\n",
              "      <td>NaN</td>\n",
              "      <td>[Deaths, Mali]</td>\n",
              "    </tr>\n",
              "    <tr>\n",
              "      <th>1951</th>\n",
              "      <td>3/22/2014</td>\n",
              "      <td>0</td>\n",
              "      <td>Deaths_Mali</td>\n",
              "      <td>NaN</td>\n",
              "      <td>[Deaths, Mali]</td>\n",
              "    </tr>\n",
              "  </tbody>\n",
              "</table>\n",
              "</div>"
            ],
            "text/plain": [
              "           Date  Day type_country  counts       str_split\n",
              "1947  3/27/2014    5  Deaths_Mali     NaN  [Deaths, Mali]\n",
              "1948  3/26/2014    4  Deaths_Mali     NaN  [Deaths, Mali]\n",
              "1949  3/25/2014    3  Deaths_Mali     NaN  [Deaths, Mali]\n",
              "1950  3/24/2014    2  Deaths_Mali     NaN  [Deaths, Mali]\n",
              "1951  3/22/2014    0  Deaths_Mali     NaN  [Deaths, Mali]"
            ]
          },
          "metadata": {
            "tags": []
          },
          "execution_count": 45
        }
      ]
    },
    {
      "cell_type": "code",
      "metadata": {
        "id": "9yKcWBBjqVnG",
        "colab_type": "code",
        "colab": {
          "base_uri": "https://localhost:8080/",
          "height": 204
        },
        "outputId": "84d1a3af-2930-42af-9efe-eb6f37777cf2"
      },
      "source": [
        "# Create the 'type' column\n",
        "ebola_melt['type'] = ebola_melt.str_split.str.get(0)\n",
        "\n",
        "# Create the 'country' column\n",
        "ebola_melt['country'] = ebola_melt.str_split.str.get(1)\n",
        "\n",
        "# Print the head of ebola_melt\n",
        "ebola_melt.head()"
      ],
      "execution_count": 46,
      "outputs": [
        {
          "output_type": "execute_result",
          "data": {
            "text/html": [
              "<div>\n",
              "<style scoped>\n",
              "    .dataframe tbody tr th:only-of-type {\n",
              "        vertical-align: middle;\n",
              "    }\n",
              "\n",
              "    .dataframe tbody tr th {\n",
              "        vertical-align: top;\n",
              "    }\n",
              "\n",
              "    .dataframe thead th {\n",
              "        text-align: right;\n",
              "    }\n",
              "</style>\n",
              "<table border=\"1\" class=\"dataframe\">\n",
              "  <thead>\n",
              "    <tr style=\"text-align: right;\">\n",
              "      <th></th>\n",
              "      <th>Date</th>\n",
              "      <th>Day</th>\n",
              "      <th>type_country</th>\n",
              "      <th>counts</th>\n",
              "      <th>str_split</th>\n",
              "      <th>type</th>\n",
              "      <th>country</th>\n",
              "    </tr>\n",
              "  </thead>\n",
              "  <tbody>\n",
              "    <tr>\n",
              "      <th>0</th>\n",
              "      <td>1/5/2015</td>\n",
              "      <td>289</td>\n",
              "      <td>Cases_Guinea</td>\n",
              "      <td>2776.0</td>\n",
              "      <td>[Cases, Guinea]</td>\n",
              "      <td>Cases</td>\n",
              "      <td>Guinea</td>\n",
              "    </tr>\n",
              "    <tr>\n",
              "      <th>1</th>\n",
              "      <td>1/4/2015</td>\n",
              "      <td>288</td>\n",
              "      <td>Cases_Guinea</td>\n",
              "      <td>2775.0</td>\n",
              "      <td>[Cases, Guinea]</td>\n",
              "      <td>Cases</td>\n",
              "      <td>Guinea</td>\n",
              "    </tr>\n",
              "    <tr>\n",
              "      <th>2</th>\n",
              "      <td>1/3/2015</td>\n",
              "      <td>287</td>\n",
              "      <td>Cases_Guinea</td>\n",
              "      <td>2769.0</td>\n",
              "      <td>[Cases, Guinea]</td>\n",
              "      <td>Cases</td>\n",
              "      <td>Guinea</td>\n",
              "    </tr>\n",
              "    <tr>\n",
              "      <th>3</th>\n",
              "      <td>1/2/2015</td>\n",
              "      <td>286</td>\n",
              "      <td>Cases_Guinea</td>\n",
              "      <td>NaN</td>\n",
              "      <td>[Cases, Guinea]</td>\n",
              "      <td>Cases</td>\n",
              "      <td>Guinea</td>\n",
              "    </tr>\n",
              "    <tr>\n",
              "      <th>4</th>\n",
              "      <td>12/31/2014</td>\n",
              "      <td>284</td>\n",
              "      <td>Cases_Guinea</td>\n",
              "      <td>2730.0</td>\n",
              "      <td>[Cases, Guinea]</td>\n",
              "      <td>Cases</td>\n",
              "      <td>Guinea</td>\n",
              "    </tr>\n",
              "  </tbody>\n",
              "</table>\n",
              "</div>"
            ],
            "text/plain": [
              "         Date  Day  type_country  counts        str_split   type country\n",
              "0    1/5/2015  289  Cases_Guinea  2776.0  [Cases, Guinea]  Cases  Guinea\n",
              "1    1/4/2015  288  Cases_Guinea  2775.0  [Cases, Guinea]  Cases  Guinea\n",
              "2    1/3/2015  287  Cases_Guinea  2769.0  [Cases, Guinea]  Cases  Guinea\n",
              "3    1/2/2015  286  Cases_Guinea     NaN  [Cases, Guinea]  Cases  Guinea\n",
              "4  12/31/2014  284  Cases_Guinea  2730.0  [Cases, Guinea]  Cases  Guinea"
            ]
          },
          "metadata": {
            "tags": []
          },
          "execution_count": 46
        }
      ]
    },
    {
      "cell_type": "markdown",
      "metadata": {
        "id": "0C6C8sFurE2c",
        "colab_type": "text"
      },
      "source": [
        "### Concatenation"
      ]
    },
    {
      "cell_type": "code",
      "metadata": {
        "id": "28L0GxDIqvE-",
        "colab_type": "code",
        "colab": {}
      },
      "source": [
        ""
      ],
      "execution_count": 0,
      "outputs": []
    }
  ]
}