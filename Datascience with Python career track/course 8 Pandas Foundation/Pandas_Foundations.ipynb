{
  "nbformat": 4,
  "nbformat_minor": 0,
  "metadata": {
    "colab": {
      "name": "Pandas Foundations.ipynb",
      "version": "0.3.2",
      "provenance": [],
      "collapsed_sections": [
        "7CEBDMerNojV",
        "Fa50REGMKMBv",
        "v7_XyjOqOc9W",
        "epujtuSlQEG2"
      ]
    },
    "kernelspec": {
      "name": "python3",
      "display_name": "Python 3"
    }
  },
  "cells": [
    {
      "cell_type": "markdown",
      "metadata": {
        "id": "mCmJtJpa2LD9",
        "colab_type": "text"
      },
      "source": [
        "# Data ingestion & inspection\n"
      ]
    },
    {
      "cell_type": "markdown",
      "metadata": {
        "id": "7CEBDMerNojV",
        "colab_type": "text"
      },
      "source": [
        "## Exploring"
      ]
    },
    {
      "cell_type": "code",
      "metadata": {
        "id": "WJ9bYtWP2EcN",
        "colab_type": "code",
        "colab": {}
      },
      "source": [
        "import pandas as pd"
      ],
      "execution_count": 0,
      "outputs": []
    },
    {
      "cell_type": "code",
      "metadata": {
        "id": "09WQLsEECA5l",
        "colab_type": "code",
        "colab": {}
      },
      "source": [
        "url = \"https://assets.datacamp.com/production/repositories/497/datasets/e280ed94bf4539afb57d8b1cbcc14bcf660d3c63/titanic.csv\""
      ],
      "execution_count": 0,
      "outputs": []
    },
    {
      "cell_type": "code",
      "metadata": {
        "id": "f4e4T9pzCCbJ",
        "colab_type": "code",
        "colab": {}
      },
      "source": [
        "df = pd.read_csv(url)"
      ],
      "execution_count": 0,
      "outputs": []
    },
    {
      "cell_type": "code",
      "metadata": {
        "id": "KDdUIDpDCFYJ",
        "colab_type": "code",
        "outputId": "4b665f17-bf3c-4cbd-a095-9538d0b195f1",
        "colab": {
          "base_uri": "https://localhost:8080/",
          "height": 272
        }
      },
      "source": [
        "df.head()"
      ],
      "execution_count": 0,
      "outputs": [
        {
          "output_type": "execute_result",
          "data": {
            "text/html": [
              "<div>\n",
              "<style scoped>\n",
              "    .dataframe tbody tr th:only-of-type {\n",
              "        vertical-align: middle;\n",
              "    }\n",
              "\n",
              "    .dataframe tbody tr th {\n",
              "        vertical-align: top;\n",
              "    }\n",
              "\n",
              "    .dataframe thead th {\n",
              "        text-align: right;\n",
              "    }\n",
              "</style>\n",
              "<table border=\"1\" class=\"dataframe\">\n",
              "  <thead>\n",
              "    <tr style=\"text-align: right;\">\n",
              "      <th></th>\n",
              "      <th>pclass</th>\n",
              "      <th>survived</th>\n",
              "      <th>name</th>\n",
              "      <th>sex</th>\n",
              "      <th>age</th>\n",
              "      <th>sibsp</th>\n",
              "      <th>parch</th>\n",
              "      <th>ticket</th>\n",
              "      <th>fare</th>\n",
              "      <th>cabin</th>\n",
              "      <th>embarked</th>\n",
              "      <th>boat</th>\n",
              "      <th>body</th>\n",
              "      <th>home.dest</th>\n",
              "    </tr>\n",
              "  </thead>\n",
              "  <tbody>\n",
              "    <tr>\n",
              "      <th>0</th>\n",
              "      <td>1</td>\n",
              "      <td>1</td>\n",
              "      <td>Allen, Miss. Elisabeth Walton</td>\n",
              "      <td>female</td>\n",
              "      <td>29.00</td>\n",
              "      <td>0</td>\n",
              "      <td>0</td>\n",
              "      <td>24160</td>\n",
              "      <td>211.3375</td>\n",
              "      <td>B5</td>\n",
              "      <td>S</td>\n",
              "      <td>2</td>\n",
              "      <td>NaN</td>\n",
              "      <td>St Louis, MO</td>\n",
              "    </tr>\n",
              "    <tr>\n",
              "      <th>1</th>\n",
              "      <td>1</td>\n",
              "      <td>1</td>\n",
              "      <td>Allison, Master. Hudson Trevor</td>\n",
              "      <td>male</td>\n",
              "      <td>0.92</td>\n",
              "      <td>1</td>\n",
              "      <td>2</td>\n",
              "      <td>113781</td>\n",
              "      <td>151.5500</td>\n",
              "      <td>C22 C26</td>\n",
              "      <td>S</td>\n",
              "      <td>11</td>\n",
              "      <td>NaN</td>\n",
              "      <td>Montreal, PQ / Chesterville, ON</td>\n",
              "    </tr>\n",
              "    <tr>\n",
              "      <th>2</th>\n",
              "      <td>1</td>\n",
              "      <td>0</td>\n",
              "      <td>Allison, Miss. Helen Loraine</td>\n",
              "      <td>female</td>\n",
              "      <td>2.00</td>\n",
              "      <td>1</td>\n",
              "      <td>2</td>\n",
              "      <td>113781</td>\n",
              "      <td>151.5500</td>\n",
              "      <td>C22 C26</td>\n",
              "      <td>S</td>\n",
              "      <td>NaN</td>\n",
              "      <td>NaN</td>\n",
              "      <td>Montreal, PQ / Chesterville, ON</td>\n",
              "    </tr>\n",
              "    <tr>\n",
              "      <th>3</th>\n",
              "      <td>1</td>\n",
              "      <td>0</td>\n",
              "      <td>Allison, Mr. Hudson Joshua Creighton</td>\n",
              "      <td>male</td>\n",
              "      <td>30.00</td>\n",
              "      <td>1</td>\n",
              "      <td>2</td>\n",
              "      <td>113781</td>\n",
              "      <td>151.5500</td>\n",
              "      <td>C22 C26</td>\n",
              "      <td>S</td>\n",
              "      <td>NaN</td>\n",
              "      <td>135.0</td>\n",
              "      <td>Montreal, PQ / Chesterville, ON</td>\n",
              "    </tr>\n",
              "    <tr>\n",
              "      <th>4</th>\n",
              "      <td>1</td>\n",
              "      <td>0</td>\n",
              "      <td>Allison, Mrs. Hudson J C (Bessie Waldo Daniels)</td>\n",
              "      <td>female</td>\n",
              "      <td>25.00</td>\n",
              "      <td>1</td>\n",
              "      <td>2</td>\n",
              "      <td>113781</td>\n",
              "      <td>151.5500</td>\n",
              "      <td>C22 C26</td>\n",
              "      <td>S</td>\n",
              "      <td>NaN</td>\n",
              "      <td>NaN</td>\n",
              "      <td>Montreal, PQ / Chesterville, ON</td>\n",
              "    </tr>\n",
              "  </tbody>\n",
              "</table>\n",
              "</div>"
            ],
            "text/plain": [
              "   pclass  survived  ...   body                        home.dest\n",
              "0       1         1  ...    NaN                     St Louis, MO\n",
              "1       1         1  ...    NaN  Montreal, PQ / Chesterville, ON\n",
              "2       1         0  ...    NaN  Montreal, PQ / Chesterville, ON\n",
              "3       1         0  ...  135.0  Montreal, PQ / Chesterville, ON\n",
              "4       1         0  ...    NaN  Montreal, PQ / Chesterville, ON\n",
              "\n",
              "[5 rows x 14 columns]"
            ]
          },
          "metadata": {
            "tags": []
          },
          "execution_count": 4
        }
      ]
    },
    {
      "cell_type": "code",
      "metadata": {
        "id": "BF1VseMLCGAx",
        "colab_type": "code",
        "outputId": "d73008ff-2781-4d28-9887-43a28f8a966c",
        "colab": {
          "base_uri": "https://localhost:8080/",
          "height": 34
        }
      },
      "source": [
        "type(df)"
      ],
      "execution_count": 0,
      "outputs": [
        {
          "output_type": "execute_result",
          "data": {
            "text/plain": [
              "pandas.core.frame.DataFrame"
            ]
          },
          "metadata": {
            "tags": []
          },
          "execution_count": 5
        }
      ]
    },
    {
      "cell_type": "code",
      "metadata": {
        "id": "HzPioVAPCPp1",
        "colab_type": "code",
        "outputId": "501e364b-224e-47b6-9038-84ca707b0e62",
        "colab": {
          "base_uri": "https://localhost:8080/",
          "height": 68
        }
      },
      "source": [
        "df.columns"
      ],
      "execution_count": 0,
      "outputs": [
        {
          "output_type": "execute_result",
          "data": {
            "text/plain": [
              "Index(['pclass', 'survived', 'name', 'sex', 'age', 'sibsp', 'parch', 'ticket',\n",
              "       'fare', 'cabin', 'embarked', 'boat', 'body', 'home.dest'],\n",
              "      dtype='object')"
            ]
          },
          "metadata": {
            "tags": []
          },
          "execution_count": 6
        }
      ]
    },
    {
      "cell_type": "code",
      "metadata": {
        "id": "cYMMY7OyCQ_S",
        "colab_type": "code",
        "outputId": "0b82f268-7ab9-4bcf-d06c-c34e914cb7dc",
        "colab": {
          "base_uri": "https://localhost:8080/",
          "height": 34
        }
      },
      "source": [
        "type(df.columns)"
      ],
      "execution_count": 0,
      "outputs": [
        {
          "output_type": "execute_result",
          "data": {
            "text/plain": [
              "pandas.core.indexes.base.Index"
            ]
          },
          "metadata": {
            "tags": []
          },
          "execution_count": 7
        }
      ]
    },
    {
      "cell_type": "code",
      "metadata": {
        "id": "y3TAvrcwCSsS",
        "colab_type": "code",
        "outputId": "ae54e161-6e4b-472f-a80e-def5209ecb4e",
        "colab": {
          "base_uri": "https://localhost:8080/",
          "height": 34
        }
      },
      "source": [
        "df.shape"
      ],
      "execution_count": 0,
      "outputs": [
        {
          "output_type": "execute_result",
          "data": {
            "text/plain": [
              "(1309, 14)"
            ]
          },
          "metadata": {
            "tags": []
          },
          "execution_count": 8
        }
      ]
    },
    {
      "cell_type": "code",
      "metadata": {
        "id": "wOQS8jHCCWQU",
        "colab_type": "code",
        "outputId": "9d216c39-e871-4489-fd35-eaae12b57533",
        "colab": {
          "base_uri": "https://localhost:8080/",
          "height": 34
        }
      },
      "source": [
        "df.index"
      ],
      "execution_count": 0,
      "outputs": [
        {
          "output_type": "execute_result",
          "data": {
            "text/plain": [
              "RangeIndex(start=0, stop=1309, step=1)"
            ]
          },
          "metadata": {
            "tags": []
          },
          "execution_count": 9
        }
      ]
    },
    {
      "cell_type": "code",
      "metadata": {
        "id": "6JyjBw8ICaGX",
        "colab_type": "code",
        "outputId": "a9aac265-5a77-4da9-a015-e49dfe65ebcc",
        "colab": {
          "base_uri": "https://localhost:8080/",
          "height": 142
        }
      },
      "source": [
        "df.tail(3)"
      ],
      "execution_count": 0,
      "outputs": [
        {
          "output_type": "execute_result",
          "data": {
            "text/html": [
              "<div>\n",
              "<style scoped>\n",
              "    .dataframe tbody tr th:only-of-type {\n",
              "        vertical-align: middle;\n",
              "    }\n",
              "\n",
              "    .dataframe tbody tr th {\n",
              "        vertical-align: top;\n",
              "    }\n",
              "\n",
              "    .dataframe thead th {\n",
              "        text-align: right;\n",
              "    }\n",
              "</style>\n",
              "<table border=\"1\" class=\"dataframe\">\n",
              "  <thead>\n",
              "    <tr style=\"text-align: right;\">\n",
              "      <th></th>\n",
              "      <th>pclass</th>\n",
              "      <th>survived</th>\n",
              "      <th>name</th>\n",
              "      <th>sex</th>\n",
              "      <th>age</th>\n",
              "      <th>sibsp</th>\n",
              "      <th>parch</th>\n",
              "      <th>ticket</th>\n",
              "      <th>fare</th>\n",
              "      <th>cabin</th>\n",
              "      <th>embarked</th>\n",
              "      <th>boat</th>\n",
              "      <th>body</th>\n",
              "      <th>home.dest</th>\n",
              "    </tr>\n",
              "  </thead>\n",
              "  <tbody>\n",
              "    <tr>\n",
              "      <th>1306</th>\n",
              "      <td>3</td>\n",
              "      <td>0</td>\n",
              "      <td>Zakarian, Mr. Mapriededer</td>\n",
              "      <td>male</td>\n",
              "      <td>26.5</td>\n",
              "      <td>0</td>\n",
              "      <td>0</td>\n",
              "      <td>2656</td>\n",
              "      <td>7.225</td>\n",
              "      <td>NaN</td>\n",
              "      <td>C</td>\n",
              "      <td>NaN</td>\n",
              "      <td>304.0</td>\n",
              "      <td>NaN</td>\n",
              "    </tr>\n",
              "    <tr>\n",
              "      <th>1307</th>\n",
              "      <td>3</td>\n",
              "      <td>0</td>\n",
              "      <td>Zakarian, Mr. Ortin</td>\n",
              "      <td>male</td>\n",
              "      <td>27.0</td>\n",
              "      <td>0</td>\n",
              "      <td>0</td>\n",
              "      <td>2670</td>\n",
              "      <td>7.225</td>\n",
              "      <td>NaN</td>\n",
              "      <td>C</td>\n",
              "      <td>NaN</td>\n",
              "      <td>NaN</td>\n",
              "      <td>NaN</td>\n",
              "    </tr>\n",
              "    <tr>\n",
              "      <th>1308</th>\n",
              "      <td>3</td>\n",
              "      <td>0</td>\n",
              "      <td>Zimmerman, Mr. Leo</td>\n",
              "      <td>male</td>\n",
              "      <td>29.0</td>\n",
              "      <td>0</td>\n",
              "      <td>0</td>\n",
              "      <td>315082</td>\n",
              "      <td>7.875</td>\n",
              "      <td>NaN</td>\n",
              "      <td>S</td>\n",
              "      <td>NaN</td>\n",
              "      <td>NaN</td>\n",
              "      <td>NaN</td>\n",
              "    </tr>\n",
              "  </tbody>\n",
              "</table>\n",
              "</div>"
            ],
            "text/plain": [
              "      pclass  survived                       name  ... boat   body  home.dest\n",
              "1306       3         0  Zakarian, Mr. Mapriededer  ...  NaN  304.0        NaN\n",
              "1307       3         0        Zakarian, Mr. Ortin  ...  NaN    NaN        NaN\n",
              "1308       3         0         Zimmerman, Mr. Leo  ...  NaN    NaN        NaN\n",
              "\n",
              "[3 rows x 14 columns]"
            ]
          },
          "metadata": {
            "tags": []
          },
          "execution_count": 10
        }
      ]
    },
    {
      "cell_type": "code",
      "metadata": {
        "id": "pMEtuMfrCoob",
        "colab_type": "code",
        "outputId": "cec6b0ad-7a68-4843-828e-d2cc53e9536e",
        "colab": {
          "base_uri": "https://localhost:8080/",
          "height": 340
        }
      },
      "source": [
        "df.info()"
      ],
      "execution_count": 0,
      "outputs": [
        {
          "output_type": "stream",
          "text": [
            "<class 'pandas.core.frame.DataFrame'>\n",
            "RangeIndex: 1309 entries, 0 to 1308\n",
            "Data columns (total 14 columns):\n",
            "pclass       1309 non-null int64\n",
            "survived     1309 non-null int64\n",
            "name         1309 non-null object\n",
            "sex          1309 non-null object\n",
            "age          1046 non-null float64\n",
            "sibsp        1309 non-null int64\n",
            "parch        1309 non-null int64\n",
            "ticket       1309 non-null object\n",
            "fare         1308 non-null float64\n",
            "cabin        295 non-null object\n",
            "embarked     1307 non-null object\n",
            "boat         486 non-null object\n",
            "body         121 non-null float64\n",
            "home.dest    745 non-null object\n",
            "dtypes: float64(3), int64(4), object(7)\n",
            "memory usage: 143.2+ KB\n"
          ],
          "name": "stdout"
        }
      ]
    },
    {
      "cell_type": "code",
      "metadata": {
        "id": "tkMIvl-0Csr5",
        "colab_type": "code",
        "outputId": "84d6f2ee-247a-488d-c851-30d0555adefa",
        "colab": {
          "base_uri": "https://localhost:8080/",
          "height": 272
        }
      },
      "source": [
        "#supports briadcasting\n",
        "df['body']='lagbena'\n",
        "df.head()"
      ],
      "execution_count": 0,
      "outputs": [
        {
          "output_type": "execute_result",
          "data": {
            "text/html": [
              "<div>\n",
              "<style scoped>\n",
              "    .dataframe tbody tr th:only-of-type {\n",
              "        vertical-align: middle;\n",
              "    }\n",
              "\n",
              "    .dataframe tbody tr th {\n",
              "        vertical-align: top;\n",
              "    }\n",
              "\n",
              "    .dataframe thead th {\n",
              "        text-align: right;\n",
              "    }\n",
              "</style>\n",
              "<table border=\"1\" class=\"dataframe\">\n",
              "  <thead>\n",
              "    <tr style=\"text-align: right;\">\n",
              "      <th></th>\n",
              "      <th>pclass</th>\n",
              "      <th>survived</th>\n",
              "      <th>name</th>\n",
              "      <th>sex</th>\n",
              "      <th>age</th>\n",
              "      <th>sibsp</th>\n",
              "      <th>parch</th>\n",
              "      <th>ticket</th>\n",
              "      <th>fare</th>\n",
              "      <th>cabin</th>\n",
              "      <th>embarked</th>\n",
              "      <th>boat</th>\n",
              "      <th>body</th>\n",
              "      <th>home.dest</th>\n",
              "    </tr>\n",
              "  </thead>\n",
              "  <tbody>\n",
              "    <tr>\n",
              "      <th>0</th>\n",
              "      <td>1</td>\n",
              "      <td>1</td>\n",
              "      <td>Allen, Miss. Elisabeth Walton</td>\n",
              "      <td>female</td>\n",
              "      <td>29.00</td>\n",
              "      <td>0</td>\n",
              "      <td>0</td>\n",
              "      <td>24160</td>\n",
              "      <td>211.3375</td>\n",
              "      <td>B5</td>\n",
              "      <td>S</td>\n",
              "      <td>2</td>\n",
              "      <td>lagbena</td>\n",
              "      <td>St Louis, MO</td>\n",
              "    </tr>\n",
              "    <tr>\n",
              "      <th>1</th>\n",
              "      <td>1</td>\n",
              "      <td>1</td>\n",
              "      <td>Allison, Master. Hudson Trevor</td>\n",
              "      <td>male</td>\n",
              "      <td>0.92</td>\n",
              "      <td>1</td>\n",
              "      <td>2</td>\n",
              "      <td>113781</td>\n",
              "      <td>151.5500</td>\n",
              "      <td>C22 C26</td>\n",
              "      <td>S</td>\n",
              "      <td>11</td>\n",
              "      <td>lagbena</td>\n",
              "      <td>Montreal, PQ / Chesterville, ON</td>\n",
              "    </tr>\n",
              "    <tr>\n",
              "      <th>2</th>\n",
              "      <td>1</td>\n",
              "      <td>0</td>\n",
              "      <td>Allison, Miss. Helen Loraine</td>\n",
              "      <td>female</td>\n",
              "      <td>2.00</td>\n",
              "      <td>1</td>\n",
              "      <td>2</td>\n",
              "      <td>113781</td>\n",
              "      <td>151.5500</td>\n",
              "      <td>C22 C26</td>\n",
              "      <td>S</td>\n",
              "      <td>NaN</td>\n",
              "      <td>lagbena</td>\n",
              "      <td>Montreal, PQ / Chesterville, ON</td>\n",
              "    </tr>\n",
              "    <tr>\n",
              "      <th>3</th>\n",
              "      <td>1</td>\n",
              "      <td>0</td>\n",
              "      <td>Allison, Mr. Hudson Joshua Creighton</td>\n",
              "      <td>male</td>\n",
              "      <td>30.00</td>\n",
              "      <td>1</td>\n",
              "      <td>2</td>\n",
              "      <td>113781</td>\n",
              "      <td>151.5500</td>\n",
              "      <td>C22 C26</td>\n",
              "      <td>S</td>\n",
              "      <td>NaN</td>\n",
              "      <td>lagbena</td>\n",
              "      <td>Montreal, PQ / Chesterville, ON</td>\n",
              "    </tr>\n",
              "    <tr>\n",
              "      <th>4</th>\n",
              "      <td>1</td>\n",
              "      <td>0</td>\n",
              "      <td>Allison, Mrs. Hudson J C (Bessie Waldo Daniels)</td>\n",
              "      <td>female</td>\n",
              "      <td>25.00</td>\n",
              "      <td>1</td>\n",
              "      <td>2</td>\n",
              "      <td>113781</td>\n",
              "      <td>151.5500</td>\n",
              "      <td>C22 C26</td>\n",
              "      <td>S</td>\n",
              "      <td>NaN</td>\n",
              "      <td>lagbena</td>\n",
              "      <td>Montreal, PQ / Chesterville, ON</td>\n",
              "    </tr>\n",
              "  </tbody>\n",
              "</table>\n",
              "</div>"
            ],
            "text/plain": [
              "   pclass  survived  ...     body                        home.dest\n",
              "0       1         1  ...  lagbena                     St Louis, MO\n",
              "1       1         1  ...  lagbena  Montreal, PQ / Chesterville, ON\n",
              "2       1         0  ...  lagbena  Montreal, PQ / Chesterville, ON\n",
              "3       1         0  ...  lagbena  Montreal, PQ / Chesterville, ON\n",
              "4       1         0  ...  lagbena  Montreal, PQ / Chesterville, ON\n",
              "\n",
              "[5 rows x 14 columns]"
            ]
          },
          "metadata": {
            "tags": []
          },
          "execution_count": 12
        }
      ]
    },
    {
      "cell_type": "markdown",
      "metadata": {
        "id": "PuScvRhUEqya",
        "colab_type": "text"
      },
      "source": [
        "**you can use the DataFrame attribute .values to represent a DataFrame df as a NumPy array.  You can also pass pandas data structures to NumPy methods.**"
      ]
    },
    {
      "cell_type": "code",
      "metadata": {
        "id": "Frp15Sk0C-6f",
        "colab_type": "code",
        "colab": {}
      },
      "source": [
        "np_val = df.values"
      ],
      "execution_count": 0,
      "outputs": []
    },
    {
      "cell_type": "code",
      "metadata": {
        "id": "SCaDhiy6F_5h",
        "colab_type": "code",
        "outputId": "63c840a5-122b-494b-99d7-2a5929820faf",
        "colab": {
          "base_uri": "https://localhost:8080/",
          "height": 204
        }
      },
      "source": [
        "np_val"
      ],
      "execution_count": 0,
      "outputs": [
        {
          "output_type": "execute_result",
          "data": {
            "text/plain": [
              "array([[1, 1, 'Allen, Miss. Elisabeth Walton', ..., '2', 'lagbena',\n",
              "        'St Louis, MO'],\n",
              "       [1, 1, 'Allison, Master. Hudson Trevor', ..., '11', 'lagbena',\n",
              "        'Montreal, PQ / Chesterville, ON'],\n",
              "       [1, 0, 'Allison, Miss. Helen Loraine', ..., nan, 'lagbena',\n",
              "        'Montreal, PQ / Chesterville, ON'],\n",
              "       ...,\n",
              "       [3, 0, 'Zakarian, Mr. Mapriededer', ..., nan, 'lagbena', nan],\n",
              "       [3, 0, 'Zakarian, Mr. Ortin', ..., nan, 'lagbena', nan],\n",
              "       [3, 0, 'Zimmerman, Mr. Leo', ..., nan, 'lagbena', nan]],\n",
              "      dtype=object)"
            ]
          },
          "metadata": {
            "tags": []
          },
          "execution_count": 15
        }
      ]
    },
    {
      "cell_type": "code",
      "metadata": {
        "id": "fJq4-zTaGBGo",
        "colab_type": "code",
        "outputId": "eb283781-7d49-4c16-90fa-7f5d9e5d3817",
        "colab": {
          "base_uri": "https://localhost:8080/",
          "height": 34
        }
      },
      "source": [
        "type(np_val)"
      ],
      "execution_count": 0,
      "outputs": [
        {
          "output_type": "execute_result",
          "data": {
            "text/plain": [
              "numpy.ndarray"
            ]
          },
          "metadata": {
            "tags": []
          },
          "execution_count": 17
        }
      ]
    },
    {
      "cell_type": "code",
      "metadata": {
        "id": "YqDOuBKoGFqM",
        "colab_type": "code",
        "outputId": "53e6855a-285b-419f-e9c8-779547b51e6d",
        "colab": {
          "base_uri": "https://localhost:8080/",
          "height": 68
        }
      },
      "source": [
        "np_val[0]"
      ],
      "execution_count": 0,
      "outputs": [
        {
          "output_type": "execute_result",
          "data": {
            "text/plain": [
              "array([1, 1, 'Allen, Miss. Elisabeth Walton', 'female', 29.0, 0, 0,\n",
              "       '24160', 211.3375, 'B5', 'S', '2', 'lagbena', 'St Louis, MO'],\n",
              "      dtype=object)"
            ]
          },
          "metadata": {
            "tags": []
          },
          "execution_count": 20
        }
      ]
    },
    {
      "cell_type": "code",
      "metadata": {
        "id": "IgiSTwspGQmi",
        "colab_type": "code",
        "outputId": "da792481-3af3-477e-8ddb-9a73fc8603cf",
        "colab": {
          "base_uri": "https://localhost:8080/",
          "height": 34
        }
      },
      "source": [
        "type(np_val[0][0])"
      ],
      "execution_count": 0,
      "outputs": [
        {
          "output_type": "execute_result",
          "data": {
            "text/plain": [
              "int"
            ]
          },
          "metadata": {
            "tags": []
          },
          "execution_count": 21
        }
      ]
    },
    {
      "cell_type": "code",
      "metadata": {
        "id": "21cnpCEvGUAL",
        "colab_type": "code",
        "outputId": "ce7cdae9-8eea-4ed8-dd50-56b75569f74b",
        "colab": {
          "base_uri": "https://localhost:8080/",
          "height": 34
        }
      },
      "source": [
        "type(np_val[0][2])"
      ],
      "execution_count": 0,
      "outputs": [
        {
          "output_type": "execute_result",
          "data": {
            "text/plain": [
              "str"
            ]
          },
          "metadata": {
            "tags": []
          },
          "execution_count": 22
        }
      ]
    },
    {
      "cell_type": "code",
      "metadata": {
        "id": "63t5dpQ-Gp86",
        "colab_type": "code",
        "colab": {}
      },
      "source": [
        "url = 'https://assets.datacamp.com/production/repositories/497/datasets/cc1de7b583ec7eb6196df30845d32241fe15d643/world_population.csv'\n",
        "df = pd.read_csv(url)"
      ],
      "execution_count": 0,
      "outputs": []
    },
    {
      "cell_type": "code",
      "metadata": {
        "id": "lWdZ-81-IJp9",
        "colab_type": "code",
        "outputId": "2fa57d54-d78d-4bee-8c22-6c9bbcbffc30",
        "colab": {
          "base_uri": "https://localhost:8080/",
          "height": 204
        }
      },
      "source": [
        "df.head()"
      ],
      "execution_count": 0,
      "outputs": [
        {
          "output_type": "execute_result",
          "data": {
            "text/html": [
              "<div>\n",
              "<style scoped>\n",
              "    .dataframe tbody tr th:only-of-type {\n",
              "        vertical-align: middle;\n",
              "    }\n",
              "\n",
              "    .dataframe tbody tr th {\n",
              "        vertical-align: top;\n",
              "    }\n",
              "\n",
              "    .dataframe thead th {\n",
              "        text-align: right;\n",
              "    }\n",
              "</style>\n",
              "<table border=\"1\" class=\"dataframe\">\n",
              "  <thead>\n",
              "    <tr style=\"text-align: right;\">\n",
              "      <th></th>\n",
              "      <th>Year</th>\n",
              "      <th>Total Population</th>\n",
              "    </tr>\n",
              "  </thead>\n",
              "  <tbody>\n",
              "    <tr>\n",
              "      <th>0</th>\n",
              "      <td>1960</td>\n",
              "      <td>3.034971e+09</td>\n",
              "    </tr>\n",
              "    <tr>\n",
              "      <th>1</th>\n",
              "      <td>1970</td>\n",
              "      <td>3.684823e+09</td>\n",
              "    </tr>\n",
              "    <tr>\n",
              "      <th>2</th>\n",
              "      <td>1980</td>\n",
              "      <td>4.436590e+09</td>\n",
              "    </tr>\n",
              "    <tr>\n",
              "      <th>3</th>\n",
              "      <td>1990</td>\n",
              "      <td>5.282716e+09</td>\n",
              "    </tr>\n",
              "    <tr>\n",
              "      <th>4</th>\n",
              "      <td>2000</td>\n",
              "      <td>6.115974e+09</td>\n",
              "    </tr>\n",
              "  </tbody>\n",
              "</table>\n",
              "</div>"
            ],
            "text/plain": [
              "   Year  Total Population\n",
              "0  1960      3.034971e+09\n",
              "1  1970      3.684823e+09\n",
              "2  1980      4.436590e+09\n",
              "3  1990      5.282716e+09\n",
              "4  2000      6.115974e+09"
            ]
          },
          "metadata": {
            "tags": []
          },
          "execution_count": 24
        }
      ]
    },
    {
      "cell_type": "code",
      "metadata": {
        "id": "e8XLIbVHH6C_",
        "colab_type": "code",
        "outputId": "72709a1c-7786-4e1d-a78f-100ee5c560af",
        "colab": {
          "base_uri": "https://localhost:8080/",
          "height": 102
        }
      },
      "source": [
        "import numpy as np\n",
        "\n",
        "# Create array of DataFrame values: np_vals\n",
        "np_vals = df.values\n",
        "\n",
        "# Create new array of base 10 logarithm values: np_vals_log10\n",
        "np_vals_log10 = np.log10(np_vals)\n",
        "\n",
        "# Create array of new DataFrame by passing df to np.log10(): df_log10\n",
        "df_log10 = np.log10(df)\n",
        "\n",
        "# Print original and new data containers\n",
        "[print(x, 'has type', type(eval(x))) for x in ['np_vals', 'np_vals_log10', 'df', 'df_log10']]"
      ],
      "execution_count": 0,
      "outputs": [
        {
          "output_type": "stream",
          "text": [
            "np_vals has type <class 'numpy.ndarray'>\n",
            "np_vals_log10 has type <class 'numpy.ndarray'>\n",
            "df has type <class 'pandas.core.frame.DataFrame'>\n",
            "df_log10 has type <class 'pandas.core.frame.DataFrame'>\n"
          ],
          "name": "stdout"
        },
        {
          "output_type": "execute_result",
          "data": {
            "text/plain": [
              "[None, None, None, None]"
            ]
          },
          "metadata": {
            "tags": []
          },
          "execution_count": 25
        }
      ]
    },
    {
      "cell_type": "code",
      "metadata": {
        "id": "hXoGjfAaILfQ",
        "colab_type": "code",
        "outputId": "9e44c1fd-dd74-4351-b1b3-94f79407ec45",
        "colab": {
          "base_uri": "https://localhost:8080/",
          "height": 204
        }
      },
      "source": [
        "df_log10.head()"
      ],
      "execution_count": 0,
      "outputs": [
        {
          "output_type": "execute_result",
          "data": {
            "text/html": [
              "<div>\n",
              "<style scoped>\n",
              "    .dataframe tbody tr th:only-of-type {\n",
              "        vertical-align: middle;\n",
              "    }\n",
              "\n",
              "    .dataframe tbody tr th {\n",
              "        vertical-align: top;\n",
              "    }\n",
              "\n",
              "    .dataframe thead th {\n",
              "        text-align: right;\n",
              "    }\n",
              "</style>\n",
              "<table border=\"1\" class=\"dataframe\">\n",
              "  <thead>\n",
              "    <tr style=\"text-align: right;\">\n",
              "      <th></th>\n",
              "      <th>Year</th>\n",
              "      <th>Total Population</th>\n",
              "    </tr>\n",
              "  </thead>\n",
              "  <tbody>\n",
              "    <tr>\n",
              "      <th>0</th>\n",
              "      <td>3.292256</td>\n",
              "      <td>9.482154</td>\n",
              "    </tr>\n",
              "    <tr>\n",
              "      <th>1</th>\n",
              "      <td>3.294466</td>\n",
              "      <td>9.566417</td>\n",
              "    </tr>\n",
              "    <tr>\n",
              "      <th>2</th>\n",
              "      <td>3.296665</td>\n",
              "      <td>9.647049</td>\n",
              "    </tr>\n",
              "    <tr>\n",
              "      <th>3</th>\n",
              "      <td>3.298853</td>\n",
              "      <td>9.722857</td>\n",
              "    </tr>\n",
              "    <tr>\n",
              "      <th>4</th>\n",
              "      <td>3.301030</td>\n",
              "      <td>9.786466</td>\n",
              "    </tr>\n",
              "  </tbody>\n",
              "</table>\n",
              "</div>"
            ],
            "text/plain": [
              "       Year  Total Population\n",
              "0  3.292256          9.482154\n",
              "1  3.294466          9.566417\n",
              "2  3.296665          9.647049\n",
              "3  3.298853          9.722857\n",
              "4  3.301030          9.786466"
            ]
          },
          "metadata": {
            "tags": []
          },
          "execution_count": 26
        }
      ]
    },
    {
      "cell_type": "markdown",
      "metadata": {
        "id": "Fa50REGMKMBv",
        "colab_type": "text"
      },
      "source": [
        "## **Building DataFrames from scratch**"
      ]
    },
    {
      "cell_type": "code",
      "metadata": {
        "id": "4oCk3UUjMHcF",
        "colab_type": "code",
        "colab": {}
      },
      "source": [
        "list_keys=['Country', 'Total']  ##column names\n",
        "list_values=[['United States', 'Soviet Union', 'United Kingdom'],  ##list of list has pandas column values\n",
        "             [1118, 473, 273]]"
      ],
      "execution_count": 0,
      "outputs": []
    },
    {
      "cell_type": "code",
      "metadata": {
        "id": "w7RnHt26IPhu",
        "colab_type": "code",
        "outputId": "90d13d79-6515-4604-e9cd-4dff88f992b3",
        "colab": {
          "base_uri": "https://localhost:8080/",
          "height": 102
        }
      },
      "source": [
        "# Zip the 2 lists together into one list of (key,value) tuples: zipped\n",
        "zipped = list(zip(list_keys,list_values))\n",
        "\n",
        "# Inspect the list using print()\n",
        "print(zipped)\n",
        "\n",
        "# Build a dictionary with the zipped list: data\n",
        "data = dict(zipped)\n",
        "\n",
        "# Build and inspect a DataFrame from the dictionary: df\n",
        "df = pd.DataFrame(data)\n",
        "print(df)"
      ],
      "execution_count": 0,
      "outputs": [
        {
          "output_type": "stream",
          "text": [
            "[('Country', ['United States', 'Soviet Union', 'United Kingdom']), ('Total', [1118, 473, 273])]\n",
            "          Country  Total\n",
            "0   United States   1118\n",
            "1    Soviet Union    473\n",
            "2  United Kingdom    273\n"
          ],
          "name": "stdout"
        }
      ]
    },
    {
      "cell_type": "code",
      "metadata": {
        "id": "l80z7OA5MUId",
        "colab_type": "code",
        "outputId": "607fdc0b-42df-4424-f78a-1c5e92883fdc",
        "colab": {
          "base_uri": "https://localhost:8080/",
          "height": 142
        }
      },
      "source": [
        "df"
      ],
      "execution_count": 0,
      "outputs": [
        {
          "output_type": "execute_result",
          "data": {
            "text/html": [
              "<div>\n",
              "<style scoped>\n",
              "    .dataframe tbody tr th:only-of-type {\n",
              "        vertical-align: middle;\n",
              "    }\n",
              "\n",
              "    .dataframe tbody tr th {\n",
              "        vertical-align: top;\n",
              "    }\n",
              "\n",
              "    .dataframe thead th {\n",
              "        text-align: right;\n",
              "    }\n",
              "</style>\n",
              "<table border=\"1\" class=\"dataframe\">\n",
              "  <thead>\n",
              "    <tr style=\"text-align: right;\">\n",
              "      <th></th>\n",
              "      <th>Country</th>\n",
              "      <th>Total</th>\n",
              "    </tr>\n",
              "  </thead>\n",
              "  <tbody>\n",
              "    <tr>\n",
              "      <th>0</th>\n",
              "      <td>United States</td>\n",
              "      <td>1118</td>\n",
              "    </tr>\n",
              "    <tr>\n",
              "      <th>1</th>\n",
              "      <td>Soviet Union</td>\n",
              "      <td>473</td>\n",
              "    </tr>\n",
              "    <tr>\n",
              "      <th>2</th>\n",
              "      <td>United Kingdom</td>\n",
              "      <td>273</td>\n",
              "    </tr>\n",
              "  </tbody>\n",
              "</table>\n",
              "</div>"
            ],
            "text/plain": [
              "          Country  Total\n",
              "0   United States   1118\n",
              "1    Soviet Union    473\n",
              "2  United Kingdom    273"
            ]
          },
          "metadata": {
            "tags": []
          },
          "execution_count": 29
        }
      ]
    },
    {
      "cell_type": "code",
      "metadata": {
        "id": "CSUjrxDKMXlV",
        "colab_type": "code",
        "outputId": "a078c2e6-db1d-4a39-c184-44d7de4049e1",
        "colab": {
          "base_uri": "https://localhost:8080/",
          "height": 142
        }
      },
      "source": [
        "df.columns = ['Desh','Mot']\n",
        "df"
      ],
      "execution_count": 0,
      "outputs": [
        {
          "output_type": "execute_result",
          "data": {
            "text/html": [
              "<div>\n",
              "<style scoped>\n",
              "    .dataframe tbody tr th:only-of-type {\n",
              "        vertical-align: middle;\n",
              "    }\n",
              "\n",
              "    .dataframe tbody tr th {\n",
              "        vertical-align: top;\n",
              "    }\n",
              "\n",
              "    .dataframe thead th {\n",
              "        text-align: right;\n",
              "    }\n",
              "</style>\n",
              "<table border=\"1\" class=\"dataframe\">\n",
              "  <thead>\n",
              "    <tr style=\"text-align: right;\">\n",
              "      <th></th>\n",
              "      <th>Desh</th>\n",
              "      <th>Mot</th>\n",
              "    </tr>\n",
              "  </thead>\n",
              "  <tbody>\n",
              "    <tr>\n",
              "      <th>0</th>\n",
              "      <td>United States</td>\n",
              "      <td>1118</td>\n",
              "    </tr>\n",
              "    <tr>\n",
              "      <th>1</th>\n",
              "      <td>Soviet Union</td>\n",
              "      <td>473</td>\n",
              "    </tr>\n",
              "    <tr>\n",
              "      <th>2</th>\n",
              "      <td>United Kingdom</td>\n",
              "      <td>273</td>\n",
              "    </tr>\n",
              "  </tbody>\n",
              "</table>\n",
              "</div>"
            ],
            "text/plain": [
              "             Desh   Mot\n",
              "0   United States  1118\n",
              "1    Soviet Union   473\n",
              "2  United Kingdom   273"
            ]
          },
          "metadata": {
            "tags": []
          },
          "execution_count": 30
        }
      ]
    },
    {
      "cell_type": "markdown",
      "metadata": {
        "id": "09Fak38QNIBP",
        "colab_type": "text"
      },
      "source": [
        "**Building DataFrames with broadcasting**\n",
        "You can implicitly use 'broadcasting', a feature of NumPy, when creating pandas DataFrames. In this exercise, you're going to create a DataFrame of cities in Pennsylvania that contains the city name in one column and the state name in the second. We have imported the names of 15 cities as the list cities.\n",
        "\n",
        "Your job is to construct a DataFrame from the list of cities and the string 'PA'."
      ]
    },
    {
      "cell_type": "code",
      "metadata": {
        "id": "k0fINryTNL18",
        "colab_type": "code",
        "colab": {}
      },
      "source": [
        "cities=['Manheim',\n",
        " 'Preston park',\n",
        " 'Biglerville',\n",
        " 'Indiana',\n",
        " 'Curwensville',\n",
        " 'Crown',\n",
        " 'Harveys lake',\n",
        " 'Mineral springs',\n",
        " 'Cassville',\n",
        " 'Hannastown',\n",
        " 'Saltsburg',\n",
        " 'Tunkhannock',\n",
        " 'Pittsburgh',\n",
        " 'Lemasters',\n",
        " 'Great bend']"
      ],
      "execution_count": 0,
      "outputs": []
    },
    {
      "cell_type": "code",
      "metadata": {
        "id": "QE75FeJ5Muii",
        "colab_type": "code",
        "outputId": "374645e7-e7d8-43e6-b366-f1435ec3f424",
        "colab": {
          "base_uri": "https://localhost:8080/",
          "height": 289
        }
      },
      "source": [
        "# Make a string with the value 'PA': state\n",
        "state = 'PA'\n",
        "\n",
        "# Construct a dictionary: data\n",
        "data = {'state': state, 'city': cities}\n",
        "\n",
        "# Construct a DataFrame from dictionary data: df\n",
        "df = pd.DataFrame(data)\n",
        "\n",
        "# Print the DataFrame\n",
        "print(df)"
      ],
      "execution_count": 0,
      "outputs": [
        {
          "output_type": "stream",
          "text": [
            "   state             city\n",
            "0     PA          Manheim\n",
            "1     PA     Preston park\n",
            "2     PA      Biglerville\n",
            "3     PA          Indiana\n",
            "4     PA     Curwensville\n",
            "5     PA            Crown\n",
            "6     PA     Harveys lake\n",
            "7     PA  Mineral springs\n",
            "8     PA        Cassville\n",
            "9     PA       Hannastown\n",
            "10    PA        Saltsburg\n",
            "11    PA      Tunkhannock\n",
            "12    PA       Pittsburgh\n",
            "13    PA        Lemasters\n",
            "14    PA       Great bend\n"
          ],
          "name": "stdout"
        }
      ]
    },
    {
      "cell_type": "code",
      "metadata": {
        "id": "j_-Xb2EZNPSv",
        "colab_type": "code",
        "colab": {}
      },
      "source": [
        ""
      ],
      "execution_count": 0,
      "outputs": []
    },
    {
      "cell_type": "markdown",
      "metadata": {
        "id": "v7_XyjOqOc9W",
        "colab_type": "text"
      },
      "source": [
        "## Importing and Exporting"
      ]
    },
    {
      "cell_type": "markdown",
      "metadata": {
        "id": "A6Q3reyyOowC",
        "colab_type": "text"
      },
      "source": [
        "In previous exercises, we have preloaded the data for you using the pandas function read_csv(). Now, it's your turn! Your job is to read the World Bank population data you saw earlier into a DataFrame using read_csv(). The file is available in the variable data_file.\n",
        "\n",
        "The next step is to reread the same file, but simultaneously rename the columns using the names keyword input parameter, set equal to a list of new column labels. You will also need to set header=0 to rename the column labels.\n",
        "\n",
        "Finish up by inspecting the result with df.head() and df.info() in the IPython Shell (changing df to the name of your DataFrame variable)."
      ]
    },
    {
      "cell_type": "code",
      "metadata": {
        "id": "9bKF3th-OgXT",
        "colab_type": "code",
        "colab": {}
      },
      "source": [
        "data_file = 'https://assets.datacamp.com/production/repositories/497/datasets/cc1de7b583ec7eb6196df30845d32241fe15d643/world_population.csv'"
      ],
      "execution_count": 0,
      "outputs": []
    },
    {
      "cell_type": "code",
      "metadata": {
        "id": "iX-ZmTTcPSXm",
        "colab_type": "code",
        "outputId": "75111f19-1b88-4a17-b7aa-318e1cbd498b",
        "colab": {
          "base_uri": "https://localhost:8080/",
          "height": 255
        }
      },
      "source": [
        "# Read in the file: df1\n",
        "df1 = pd.read_csv(data_file)\n",
        "\n",
        "# Create a list of the new column labels: new_labels\n",
        "new_labels = ['year', 'population']\n",
        "\n",
        "# Read in the file, specifying the header and names parameters: df2\n",
        "df2 = pd.read_csv(data_file, header=0, names=new_labels)\n",
        "\n",
        "# Print both the DataFrames\n",
        "print(df1)\n",
        "print(df2)"
      ],
      "execution_count": 0,
      "outputs": [
        {
          "output_type": "stream",
          "text": [
            "   Year  Total Population\n",
            "0  1960      3.034971e+09\n",
            "1  1970      3.684823e+09\n",
            "2  1980      4.436590e+09\n",
            "3  1990      5.282716e+09\n",
            "4  2000      6.115974e+09\n",
            "5  2010      6.924283e+09\n",
            "   year    population\n",
            "0  1960  3.034971e+09\n",
            "1  1970  3.684823e+09\n",
            "2  1980  4.436590e+09\n",
            "3  1990  5.282716e+09\n",
            "4  2000  6.115974e+09\n",
            "5  2010  6.924283e+09\n"
          ],
          "name": "stdout"
        }
      ]
    },
    {
      "cell_type": "markdown",
      "metadata": {
        "id": "epujtuSlQEG2",
        "colab_type": "text"
      },
      "source": [
        "### Delimiters, headers, and extensions"
      ]
    },
    {
      "cell_type": "code",
      "metadata": {
        "id": "v61WDmEhPbi5",
        "colab_type": "code",
        "outputId": "053591d7-922b-4f4b-9426-25a915bbb4a7",
        "colab": {
          "base_uri": "https://localhost:8080/",
          "height": 410
        }
      },
      "source": [
        "url = 'https://assets.datacamp.com/production/repositories/497/datasets/4e8cdfbf9e125bb723981f9218bee16194c7d869/messy_stock_data.tsv'\n",
        "df = pd.read_csv(url)\n",
        "df"
      ],
      "execution_count": 0,
      "outputs": [
        {
          "output_type": "execute_result",
          "data": {
            "text/html": [
              "<div>\n",
              "<style scoped>\n",
              "    .dataframe tbody tr th:only-of-type {\n",
              "        vertical-align: middle;\n",
              "    }\n",
              "\n",
              "    .dataframe tbody tr th {\n",
              "        vertical-align: top;\n",
              "    }\n",
              "\n",
              "    .dataframe thead th {\n",
              "        text-align: right;\n",
              "    }\n",
              "</style>\n",
              "<table border=\"1\" class=\"dataframe\">\n",
              "  <thead>\n",
              "    <tr style=\"text-align: right;\">\n",
              "      <th></th>\n",
              "      <th>The following stock data was collect on 2016-AUG-25 from an unknown source</th>\n",
              "    </tr>\n",
              "  </thead>\n",
              "  <tbody>\n",
              "    <tr>\n",
              "      <th>These kind of ocmments are not very useful</th>\n",
              "      <td>are they?</td>\n",
              "    </tr>\n",
              "    <tr>\n",
              "      <th>probably should just throw this line away too</th>\n",
              "      <td>but not the next since those are column labels</td>\n",
              "    </tr>\n",
              "    <tr>\n",
              "      <th>name Jan Feb Mar Apr May Jun Jul Aug Sep Oct Nov Dec</th>\n",
              "      <td>NaN</td>\n",
              "    </tr>\n",
              "    <tr>\n",
              "      <th># So that line you just read has all the column headers labels</th>\n",
              "      <td>NaN</td>\n",
              "    </tr>\n",
              "    <tr>\n",
              "      <th>IBM 156.08 160.01 159.81 165.22 172.25 167.15 164.75 152.77 145.36 146.11 137.21 137.96</th>\n",
              "      <td>NaN</td>\n",
              "    </tr>\n",
              "    <tr>\n",
              "      <th>MSFT 45.51 43.08 42.13 43.47 47.53 45.96 45.61 45.51 43.56 48.70 53.88 55.40</th>\n",
              "      <td>NaN</td>\n",
              "    </tr>\n",
              "    <tr>\n",
              "      <th># That MSFT is MicroSoft</th>\n",
              "      <td>NaN</td>\n",
              "    </tr>\n",
              "    <tr>\n",
              "      <th>GOOGLE 512.42 537.99 559.72 540.50 535.24 532.92 590.09 636.84 617.93 663.59 735.39 755.35</th>\n",
              "      <td>NaN</td>\n",
              "    </tr>\n",
              "    <tr>\n",
              "      <th>APPLE 110.64 125.43 125.97 127.29 128.76 127.81 125.34 113.39 112.80 113.36 118.16 111.73</th>\n",
              "      <td>NaN</td>\n",
              "    </tr>\n",
              "    <tr>\n",
              "      <th># Maybe we should have bought some Apple stock in 2008?</th>\n",
              "      <td>NaN</td>\n",
              "    </tr>\n",
              "  </tbody>\n",
              "</table>\n",
              "</div>"
            ],
            "text/plain": [
              "                                                   The following stock data was collect on 2016-AUG-25 from an unknown source\n",
              "These kind of ocmments are not very useful                                                  are they?                        \n",
              "probably should just throw this line away too          but not the next since those are column labels                        \n",
              "name Jan Feb Mar Apr May Jun Jul Aug Sep Oct No...                                                NaN                        \n",
              "# So that line you just read has all the column...                                                NaN                        \n",
              "IBM 156.08 160.01 159.81 165.22 172.25 167.15 1...                                                NaN                        \n",
              "MSFT 45.51 43.08 42.13 43.47 47.53 45.96 45.61 ...                                                NaN                        \n",
              "# That MSFT is MicroSoft                                                                          NaN                        \n",
              "GOOGLE 512.42 537.99 559.72 540.50 535.24 532.9...                                                NaN                        \n",
              "APPLE 110.64 125.43 125.97 127.29 128.76 127.81...                                                NaN                        \n",
              "# Maybe we should have bought some Apple stock ...                                                NaN                        "
            ]
          },
          "metadata": {
            "tags": []
          },
          "execution_count": 36
        }
      ]
    },
    {
      "cell_type": "code",
      "metadata": {
        "id": "JMYD3rnnQFfZ",
        "colab_type": "code",
        "outputId": "433e9604-daf0-4afd-da20-5f4513336954",
        "colab": {
          "base_uri": "https://localhost:8080/",
          "height": 173
        }
      },
      "source": [
        "df2 = pd.read_csv(url, delimiter=' ', header=3, comment='#')\n",
        "df2"
      ],
      "execution_count": 0,
      "outputs": [
        {
          "output_type": "execute_result",
          "data": {
            "text/html": [
              "<div>\n",
              "<style scoped>\n",
              "    .dataframe tbody tr th:only-of-type {\n",
              "        vertical-align: middle;\n",
              "    }\n",
              "\n",
              "    .dataframe tbody tr th {\n",
              "        vertical-align: top;\n",
              "    }\n",
              "\n",
              "    .dataframe thead th {\n",
              "        text-align: right;\n",
              "    }\n",
              "</style>\n",
              "<table border=\"1\" class=\"dataframe\">\n",
              "  <thead>\n",
              "    <tr style=\"text-align: right;\">\n",
              "      <th></th>\n",
              "      <th>name</th>\n",
              "      <th>Jan</th>\n",
              "      <th>Feb</th>\n",
              "      <th>Mar</th>\n",
              "      <th>Apr</th>\n",
              "      <th>May</th>\n",
              "      <th>Jun</th>\n",
              "      <th>Jul</th>\n",
              "      <th>Aug</th>\n",
              "      <th>Sep</th>\n",
              "      <th>Oct</th>\n",
              "      <th>Nov</th>\n",
              "      <th>Dec</th>\n",
              "    </tr>\n",
              "  </thead>\n",
              "  <tbody>\n",
              "    <tr>\n",
              "      <th>0</th>\n",
              "      <td>IBM</td>\n",
              "      <td>156.08</td>\n",
              "      <td>160.01</td>\n",
              "      <td>159.81</td>\n",
              "      <td>165.22</td>\n",
              "      <td>172.25</td>\n",
              "      <td>167.15</td>\n",
              "      <td>164.75</td>\n",
              "      <td>152.77</td>\n",
              "      <td>145.36</td>\n",
              "      <td>146.11</td>\n",
              "      <td>137.21</td>\n",
              "      <td>137.96</td>\n",
              "    </tr>\n",
              "    <tr>\n",
              "      <th>1</th>\n",
              "      <td>MSFT</td>\n",
              "      <td>45.51</td>\n",
              "      <td>43.08</td>\n",
              "      <td>42.13</td>\n",
              "      <td>43.47</td>\n",
              "      <td>47.53</td>\n",
              "      <td>45.96</td>\n",
              "      <td>45.61</td>\n",
              "      <td>45.51</td>\n",
              "      <td>43.56</td>\n",
              "      <td>48.70</td>\n",
              "      <td>53.88</td>\n",
              "      <td>55.40</td>\n",
              "    </tr>\n",
              "    <tr>\n",
              "      <th>2</th>\n",
              "      <td>GOOGLE</td>\n",
              "      <td>512.42</td>\n",
              "      <td>537.99</td>\n",
              "      <td>559.72</td>\n",
              "      <td>540.50</td>\n",
              "      <td>535.24</td>\n",
              "      <td>532.92</td>\n",
              "      <td>590.09</td>\n",
              "      <td>636.84</td>\n",
              "      <td>617.93</td>\n",
              "      <td>663.59</td>\n",
              "      <td>735.39</td>\n",
              "      <td>755.35</td>\n",
              "    </tr>\n",
              "    <tr>\n",
              "      <th>3</th>\n",
              "      <td>APPLE</td>\n",
              "      <td>110.64</td>\n",
              "      <td>125.43</td>\n",
              "      <td>125.97</td>\n",
              "      <td>127.29</td>\n",
              "      <td>128.76</td>\n",
              "      <td>127.81</td>\n",
              "      <td>125.34</td>\n",
              "      <td>113.39</td>\n",
              "      <td>112.80</td>\n",
              "      <td>113.36</td>\n",
              "      <td>118.16</td>\n",
              "      <td>111.73</td>\n",
              "    </tr>\n",
              "  </tbody>\n",
              "</table>\n",
              "</div>"
            ],
            "text/plain": [
              "     name     Jan     Feb     Mar  ...     Sep     Oct     Nov     Dec\n",
              "0     IBM  156.08  160.01  159.81  ...  145.36  146.11  137.21  137.96\n",
              "1    MSFT   45.51   43.08   42.13  ...   43.56   48.70   53.88   55.40\n",
              "2  GOOGLE  512.42  537.99  559.72  ...  617.93  663.59  735.39  755.35\n",
              "3   APPLE  110.64  125.43  125.97  ...  112.80  113.36  118.16  111.73\n",
              "\n",
              "[4 rows x 13 columns]"
            ]
          },
          "metadata": {
            "tags": []
          },
          "execution_count": 37
        }
      ]
    },
    {
      "cell_type": "code",
      "metadata": {
        "id": "d869kjLFQnI-",
        "colab_type": "code",
        "colab": {}
      },
      "source": [
        "df2.to_csv('file_clean.csv', index=False)"
      ],
      "execution_count": 0,
      "outputs": []
    },
    {
      "cell_type": "code",
      "metadata": {
        "id": "arSAAJNXQwSO",
        "colab_type": "code",
        "colab": {}
      },
      "source": [
        "df2.to_excel('file_clean.xlsx', index=False)"
      ],
      "execution_count": 0,
      "outputs": []
    },
    {
      "cell_type": "markdown",
      "metadata": {
        "id": "CtZk2tn8RNYZ",
        "colab_type": "text"
      },
      "source": [
        "## Plotting using pandas"
      ]
    },
    {
      "cell_type": "markdown",
      "metadata": {
        "id": "XynLmqAYRwr7",
        "colab_type": "text"
      },
      "source": [
        "Data visualization is often a very effective first step in gaining a rough understanding of a data set to be analyzed. Pandas provides data visualization by both depending upon and interoperating with the matplotlib library. You will now explore some of the basic plotting mechanics with pandas as well as related matplotlib options.\n",
        "The pandas .plot() method makes calls to matplotlib to construct the plots. "
      ]
    },
    {
      "cell_type": "code",
      "metadata": {
        "id": "9PtuwP2OQ3JL",
        "colab_type": "code",
        "outputId": "106b8d3f-ebd4-4c88-9778-cf5d4e5de87a",
        "colab": {
          "base_uri": "https://localhost:8080/",
          "height": 204
        }
      },
      "source": [
        "arr=[79.0,77.4,76.4,75.7,75.1]\n",
        "df = pd.DataFrame({'Temp':arr})\n",
        "df"
      ],
      "execution_count": 0,
      "outputs": [
        {
          "output_type": "execute_result",
          "data": {
            "text/html": [
              "<div>\n",
              "<style scoped>\n",
              "    .dataframe tbody tr th:only-of-type {\n",
              "        vertical-align: middle;\n",
              "    }\n",
              "\n",
              "    .dataframe tbody tr th {\n",
              "        vertical-align: top;\n",
              "    }\n",
              "\n",
              "    .dataframe thead th {\n",
              "        text-align: right;\n",
              "    }\n",
              "</style>\n",
              "<table border=\"1\" class=\"dataframe\">\n",
              "  <thead>\n",
              "    <tr style=\"text-align: right;\">\n",
              "      <th></th>\n",
              "      <th>Temp</th>\n",
              "    </tr>\n",
              "  </thead>\n",
              "  <tbody>\n",
              "    <tr>\n",
              "      <th>0</th>\n",
              "      <td>79.0</td>\n",
              "    </tr>\n",
              "    <tr>\n",
              "      <th>1</th>\n",
              "      <td>77.4</td>\n",
              "    </tr>\n",
              "    <tr>\n",
              "      <th>2</th>\n",
              "      <td>76.4</td>\n",
              "    </tr>\n",
              "    <tr>\n",
              "      <th>3</th>\n",
              "      <td>75.7</td>\n",
              "    </tr>\n",
              "    <tr>\n",
              "      <th>4</th>\n",
              "      <td>75.1</td>\n",
              "    </tr>\n",
              "  </tbody>\n",
              "</table>\n",
              "</div>"
            ],
            "text/plain": [
              "   Temp\n",
              "0  79.0\n",
              "1  77.4\n",
              "2  76.4\n",
              "3  75.7\n",
              "4  75.1"
            ]
          },
          "metadata": {
            "tags": []
          },
          "execution_count": 40
        }
      ]
    },
    {
      "cell_type": "code",
      "metadata": {
        "id": "vtNPIUO4VRTE",
        "colab_type": "code",
        "colab": {}
      },
      "source": [
        "import matplotlib.pyplot as plt"
      ],
      "execution_count": 0,
      "outputs": []
    },
    {
      "cell_type": "code",
      "metadata": {
        "id": "nG5LIG2rU3AK",
        "colab_type": "code",
        "outputId": "8bf3d911-b636-4756-e9da-bacb95c31853",
        "colab": {
          "base_uri": "https://localhost:8080/",
          "height": 295
        }
      },
      "source": [
        "# Create a plot with color='red'\n",
        "df.plot(color='red')\n",
        "\n",
        "# Add a title\n",
        "plt.title('Temperature in Austin')\n",
        "\n",
        "# Specify the x-axis label\n",
        "plt.xlabel('Hours since midnight August 1, 2010')\n",
        "\n",
        "# Specify the y-axis label\n",
        "plt.ylabel('Temperature (degrees F)')\n",
        "\n",
        "# Display the plot\n",
        "plt.show()"
      ],
      "execution_count": 0,
      "outputs": [
        {
          "output_type": "display_data",
          "data": {
            "image/png": "[encoded data removed]",
            "text/plain": [
              "<Figure size 432x288 with 1 Axes>"
            ]
          },
          "metadata": {
            "tags": []
          }
        }
      ]
    },
    {
      "cell_type": "markdown",
      "metadata": {
        "id": "q4Ksnv59WaCv",
        "colab_type": "text"
      },
      "source": [
        "Comparing data from several columns can be very illuminating. Pandas makes doing so easy with multi-column DataFrames. By default, calling df.plot() will cause pandas to over-plot all column data, with each column as a single line. In this exercise, we have pre-loaded three columns of data from a weather data set - temperature, dew point, and pressure - but the problem is that pressure has different units of measure. The pressure data, measured in Atmospheres, has a different vertical scaling than that of the other two data columns, which are both measured in degrees Fahrenheit.\n",
        "\n",
        "Your job is to plot all columns as a multi-line plot, to see the nature of vertical scaling problem. Then, use a list of column names passed into the DataFrame df[column_list] to limit plotting to just one column, and then just 2 columns of data. When you are finished, you will have created 4 plots. "
      ]
    },
    {
      "cell_type": "code",
      "metadata": {
        "id": "gRykHidcW1m_",
        "colab_type": "code",
        "outputId": "8fd88979-1b58-4596-c07c-17cf612a06e5",
        "colab": {
          "base_uri": "https://localhost:8080/",
          "height": 204
        }
      },
      "source": [
        "url = 'https://assets.datacamp.com/production/repositories/497/datasets/4d7b2bc6b10b527dc297707fb92fa46b10ac1be5/weather_data_austin_2010.csv'\n",
        "df = pd.read_csv(url)\n",
        "df.head()"
      ],
      "execution_count": 0,
      "outputs": [
        {
          "output_type": "execute_result",
          "data": {
            "text/html": [
              "<div>\n",
              "<style scoped>\n",
              "    .dataframe tbody tr th:only-of-type {\n",
              "        vertical-align: middle;\n",
              "    }\n",
              "\n",
              "    .dataframe tbody tr th {\n",
              "        vertical-align: top;\n",
              "    }\n",
              "\n",
              "    .dataframe thead th {\n",
              "        text-align: right;\n",
              "    }\n",
              "</style>\n",
              "<table border=\"1\" class=\"dataframe\">\n",
              "  <thead>\n",
              "    <tr style=\"text-align: right;\">\n",
              "      <th></th>\n",
              "      <th>Temperature</th>\n",
              "      <th>DewPoint</th>\n",
              "      <th>Pressure</th>\n",
              "      <th>Date</th>\n",
              "    </tr>\n",
              "  </thead>\n",
              "  <tbody>\n",
              "    <tr>\n",
              "      <th>0</th>\n",
              "      <td>46.2</td>\n",
              "      <td>37.5</td>\n",
              "      <td>1.0</td>\n",
              "      <td>20100101 00:00</td>\n",
              "    </tr>\n",
              "    <tr>\n",
              "      <th>1</th>\n",
              "      <td>44.6</td>\n",
              "      <td>37.1</td>\n",
              "      <td>1.0</td>\n",
              "      <td>20100101 01:00</td>\n",
              "    </tr>\n",
              "    <tr>\n",
              "      <th>2</th>\n",
              "      <td>44.1</td>\n",
              "      <td>36.9</td>\n",
              "      <td>1.0</td>\n",
              "      <td>20100101 02:00</td>\n",
              "    </tr>\n",
              "    <tr>\n",
              "      <th>3</th>\n",
              "      <td>43.8</td>\n",
              "      <td>36.9</td>\n",
              "      <td>1.0</td>\n",
              "      <td>20100101 03:00</td>\n",
              "    </tr>\n",
              "    <tr>\n",
              "      <th>4</th>\n",
              "      <td>43.5</td>\n",
              "      <td>36.8</td>\n",
              "      <td>1.0</td>\n",
              "      <td>20100101 04:00</td>\n",
              "    </tr>\n",
              "  </tbody>\n",
              "</table>\n",
              "</div>"
            ],
            "text/plain": [
              "   Temperature  DewPoint  Pressure            Date\n",
              "0         46.2      37.5       1.0  20100101 00:00\n",
              "1         44.6      37.1       1.0  20100101 01:00\n",
              "2         44.1      36.9       1.0  20100101 02:00\n",
              "3         43.8      36.9       1.0  20100101 03:00\n",
              "4         43.5      36.8       1.0  20100101 04:00"
            ]
          },
          "metadata": {
            "tags": []
          },
          "execution_count": 46
        }
      ]
    },
    {
      "cell_type": "code",
      "metadata": {
        "id": "QlUdMiZvYEU9",
        "colab_type": "code",
        "outputId": "e6a6ffbb-c68e-4ada-e14d-eaed7fece205",
        "colab": {
          "base_uri": "https://localhost:8080/",
          "height": 269
        }
      },
      "source": [
        "# Plot all columns (default)\n",
        "df.plot()\n",
        "plt.show()"
      ],
      "execution_count": 0,
      "outputs": [
        {
          "output_type": "display_data",
          "data": {
            "image/png": "[encoded data removed]",
            "text/plain": [
              "<Figure size 432x288 with 1 Axes>"
            ]
          },
          "metadata": {
            "tags": []
          }
        }
      ]
    },
    {
      "cell_type": "code",
      "metadata": {
        "id": "2S-0wgtPYGGL",
        "colab_type": "code",
        "outputId": "7f7f856a-857d-4e59-ae83-623562ac3014",
        "colab": {
          "base_uri": "https://localhost:8080/",
          "height": 258
        }
      },
      "source": [
        "# Plot all columns as subplots\n",
        "df.plot(subplots=True)\n",
        "plt.show()"
      ],
      "execution_count": 0,
      "outputs": [
        {
          "output_type": "display_data",
          "data": {
            "image/png": "[encoded data removed]",
            "text/plain": [
              "<Figure size 432x288 with 3 Axes>"
            ]
          },
          "metadata": {
            "tags": []
          }
        }
      ]
    },
    {
      "cell_type": "code",
      "metadata": {
        "id": "zCWdBSovYR-e",
        "colab_type": "code",
        "outputId": "b5767066-4608-48b6-8c75-8270a8bdfaa4",
        "colab": {
          "base_uri": "https://localhost:8080/",
          "height": 269
        }
      },
      "source": [
        "# Plot just the Dew Point data\n",
        "column_list1 = ['DewPoint']\n",
        "df[column_list1].plot()\n",
        "plt.show()"
      ],
      "execution_count": 0,
      "outputs": [
        {
          "output_type": "display_data",
          "data": {
            "image/png": "[encoded data removed]",
            "text/plain": [
              "<Figure size 432x288 with 1 Axes>"
            ]
          },
          "metadata": {
            "tags": []
          }
        }
      ]
    },
    {
      "cell_type": "code",
      "metadata": {
        "id": "1wmF_I73VO5f",
        "colab_type": "code",
        "outputId": "5a1e5f9d-ddf6-41c3-ffc5-00886e805c02",
        "colab": {
          "base_uri": "https://localhost:8080/",
          "height": 269
        }
      },
      "source": [
        "# Plot the Dew Point and Temperature data, but not the Pressure data\n",
        "column_list2 = ['Temperature','DewPoint']\n",
        "df[column_list2].plot()\n",
        "plt.show()"
      ],
      "execution_count": 0,
      "outputs": [
        {
          "output_type": "display_data",
          "data": {
            "image/png": "[encoded data removed]",
            "text/plain": [
              "<Figure size 432x288 with 1 Axes>"
            ]
          },
          "metadata": {
            "tags": []
          }
        }
      ]
    },
    {
      "cell_type": "code",
      "metadata": {
        "id": "claHcRW_X7Wb",
        "colab_type": "code",
        "colab": {}
      },
      "source": [
        ""
      ],
      "execution_count": 0,
      "outputs": []
    },
    {
      "cell_type": "markdown",
      "metadata": {
        "id": "yV2QyjM4Ek9K",
        "colab_type": "text"
      },
      "source": [
        "# Exploratory Data Analysis"
      ]
    },
    {
      "cell_type": "markdown",
      "metadata": {
        "id": "Sh2RnzWwE3tT",
        "colab_type": "text"
      },
      "source": [
        "In the previous chapter, you saw that the .plot() method will place the Index values on the x-axis by default. In this exercise, you'll practice making line plots with specific columns on the x and y axes."
      ]
    },
    {
      "cell_type": "code",
      "metadata": {
        "id": "uDGCBbcPEnC3",
        "colab_type": "code",
        "outputId": "84b7779a-7abf-401a-b0bc-22b9004fab77",
        "colab": {
          "base_uri": "https://localhost:8080/",
          "height": 173
        }
      },
      "source": [
        "url = 'https://assets.datacamp.com/production/repositories/497/datasets/4e8cdfbf9e125bb723981f9218bee16194c7d869/messy_stock_data.tsv'\n",
        "df = pd.read_csv(url,header=3,comment='#',delimiter=' ')\n",
        "df.head()"
      ],
      "execution_count": 0,
      "outputs": [
        {
          "output_type": "execute_result",
          "data": {
            "text/html": [
              "<div>\n",
              "<style scoped>\n",
              "    .dataframe tbody tr th:only-of-type {\n",
              "        vertical-align: middle;\n",
              "    }\n",
              "\n",
              "    .dataframe tbody tr th {\n",
              "        vertical-align: top;\n",
              "    }\n",
              "\n",
              "    .dataframe thead th {\n",
              "        text-align: right;\n",
              "    }\n",
              "</style>\n",
              "<table border=\"1\" class=\"dataframe\">\n",
              "  <thead>\n",
              "    <tr style=\"text-align: right;\">\n",
              "      <th></th>\n",
              "      <th>name</th>\n",
              "      <th>Jan</th>\n",
              "      <th>Feb</th>\n",
              "      <th>Mar</th>\n",
              "      <th>Apr</th>\n",
              "      <th>May</th>\n",
              "      <th>Jun</th>\n",
              "      <th>Jul</th>\n",
              "      <th>Aug</th>\n",
              "      <th>Sep</th>\n",
              "      <th>Oct</th>\n",
              "      <th>Nov</th>\n",
              "      <th>Dec</th>\n",
              "    </tr>\n",
              "  </thead>\n",
              "  <tbody>\n",
              "    <tr>\n",
              "      <th>0</th>\n",
              "      <td>IBM</td>\n",
              "      <td>156.08</td>\n",
              "      <td>160.01</td>\n",
              "      <td>159.81</td>\n",
              "      <td>165.22</td>\n",
              "      <td>172.25</td>\n",
              "      <td>167.15</td>\n",
              "      <td>164.75</td>\n",
              "      <td>152.77</td>\n",
              "      <td>145.36</td>\n",
              "      <td>146.11</td>\n",
              "      <td>137.21</td>\n",
              "      <td>137.96</td>\n",
              "    </tr>\n",
              "    <tr>\n",
              "      <th>1</th>\n",
              "      <td>MSFT</td>\n",
              "      <td>45.51</td>\n",
              "      <td>43.08</td>\n",
              "      <td>42.13</td>\n",
              "      <td>43.47</td>\n",
              "      <td>47.53</td>\n",
              "      <td>45.96</td>\n",
              "      <td>45.61</td>\n",
              "      <td>45.51</td>\n",
              "      <td>43.56</td>\n",
              "      <td>48.70</td>\n",
              "      <td>53.88</td>\n",
              "      <td>55.40</td>\n",
              "    </tr>\n",
              "    <tr>\n",
              "      <th>2</th>\n",
              "      <td>GOOGLE</td>\n",
              "      <td>512.42</td>\n",
              "      <td>537.99</td>\n",
              "      <td>559.72</td>\n",
              "      <td>540.50</td>\n",
              "      <td>535.24</td>\n",
              "      <td>532.92</td>\n",
              "      <td>590.09</td>\n",
              "      <td>636.84</td>\n",
              "      <td>617.93</td>\n",
              "      <td>663.59</td>\n",
              "      <td>735.39</td>\n",
              "      <td>755.35</td>\n",
              "    </tr>\n",
              "    <tr>\n",
              "      <th>3</th>\n",
              "      <td>APPLE</td>\n",
              "      <td>110.64</td>\n",
              "      <td>125.43</td>\n",
              "      <td>125.97</td>\n",
              "      <td>127.29</td>\n",
              "      <td>128.76</td>\n",
              "      <td>127.81</td>\n",
              "      <td>125.34</td>\n",
              "      <td>113.39</td>\n",
              "      <td>112.80</td>\n",
              "      <td>113.36</td>\n",
              "      <td>118.16</td>\n",
              "      <td>111.73</td>\n",
              "    </tr>\n",
              "  </tbody>\n",
              "</table>\n",
              "</div>"
            ],
            "text/plain": [
              "     name     Jan     Feb     Mar  ...     Sep     Oct     Nov     Dec\n",
              "0     IBM  156.08  160.01  159.81  ...  145.36  146.11  137.21  137.96\n",
              "1    MSFT   45.51   43.08   42.13  ...   43.56   48.70   53.88   55.40\n",
              "2  GOOGLE  512.42  537.99  559.72  ...  617.93  663.59  735.39  755.35\n",
              "3   APPLE  110.64  125.43  125.97  ...  112.80  113.36  118.16  111.73\n",
              "\n",
              "[4 rows x 13 columns]"
            ]
          },
          "metadata": {
            "tags": []
          },
          "execution_count": 69
        }
      ]
    },
    {
      "cell_type": "code",
      "metadata": {
        "id": "2x108JjCIij2",
        "colab_type": "code",
        "outputId": "081a7f24-618f-403b-c44f-6693161c60aa",
        "colab": {
          "base_uri": "https://localhost:8080/",
          "height": 34
        }
      },
      "source": [
        "cols = df['name'].values\n",
        "cols"
      ],
      "execution_count": 0,
      "outputs": [
        {
          "output_type": "execute_result",
          "data": {
            "text/plain": [
              "array(['IBM', 'MSFT', 'GOOGLE', 'APPLE'], dtype=object)"
            ]
          },
          "metadata": {
            "tags": []
          },
          "execution_count": 70
        }
      ]
    },
    {
      "cell_type": "code",
      "metadata": {
        "id": "C_2LryBsGkGo",
        "colab_type": "code",
        "colab": {}
      },
      "source": [
        "df = df.loc[:,df.columns!='name'].transpose().reset_index()\n",
        "df.columns=['Month']+list(cols)"
      ],
      "execution_count": 0,
      "outputs": []
    },
    {
      "cell_type": "code",
      "metadata": {
        "id": "DHdP_0FbGnRM",
        "colab_type": "code",
        "outputId": "1fe17aa2-9b4a-400e-facd-7e06664c08c6",
        "colab": {
          "base_uri": "https://localhost:8080/",
          "height": 204
        }
      },
      "source": [
        "df.head()"
      ],
      "execution_count": 0,
      "outputs": [
        {
          "output_type": "execute_result",
          "data": {
            "text/html": [
              "<div>\n",
              "<style scoped>\n",
              "    .dataframe tbody tr th:only-of-type {\n",
              "        vertical-align: middle;\n",
              "    }\n",
              "\n",
              "    .dataframe tbody tr th {\n",
              "        vertical-align: top;\n",
              "    }\n",
              "\n",
              "    .dataframe thead th {\n",
              "        text-align: right;\n",
              "    }\n",
              "</style>\n",
              "<table border=\"1\" class=\"dataframe\">\n",
              "  <thead>\n",
              "    <tr style=\"text-align: right;\">\n",
              "      <th></th>\n",
              "      <th>Month</th>\n",
              "      <th>IBM</th>\n",
              "      <th>MSFT</th>\n",
              "      <th>GOOGLE</th>\n",
              "      <th>APPLE</th>\n",
              "    </tr>\n",
              "  </thead>\n",
              "  <tbody>\n",
              "    <tr>\n",
              "      <th>0</th>\n",
              "      <td>Jan</td>\n",
              "      <td>156.08</td>\n",
              "      <td>45.51</td>\n",
              "      <td>512.42</td>\n",
              "      <td>110.64</td>\n",
              "    </tr>\n",
              "    <tr>\n",
              "      <th>1</th>\n",
              "      <td>Feb</td>\n",
              "      <td>160.01</td>\n",
              "      <td>43.08</td>\n",
              "      <td>537.99</td>\n",
              "      <td>125.43</td>\n",
              "    </tr>\n",
              "    <tr>\n",
              "      <th>2</th>\n",
              "      <td>Mar</td>\n",
              "      <td>159.81</td>\n",
              "      <td>42.13</td>\n",
              "      <td>559.72</td>\n",
              "      <td>125.97</td>\n",
              "    </tr>\n",
              "    <tr>\n",
              "      <th>3</th>\n",
              "      <td>Apr</td>\n",
              "      <td>165.22</td>\n",
              "      <td>43.47</td>\n",
              "      <td>540.50</td>\n",
              "      <td>127.29</td>\n",
              "    </tr>\n",
              "    <tr>\n",
              "      <th>4</th>\n",
              "      <td>May</td>\n",
              "      <td>172.25</td>\n",
              "      <td>47.53</td>\n",
              "      <td>535.24</td>\n",
              "      <td>128.76</td>\n",
              "    </tr>\n",
              "  </tbody>\n",
              "</table>\n",
              "</div>"
            ],
            "text/plain": [
              "  Month     IBM   MSFT  GOOGLE   APPLE\n",
              "0   Jan  156.08  45.51  512.42  110.64\n",
              "1   Feb  160.01  43.08  537.99  125.43\n",
              "2   Mar  159.81  42.13  559.72  125.97\n",
              "3   Apr  165.22  43.47  540.50  127.29\n",
              "4   May  172.25  47.53  535.24  128.76"
            ]
          },
          "metadata": {
            "tags": []
          },
          "execution_count": 72
        }
      ]
    },
    {
      "cell_type": "code",
      "metadata": {
        "id": "7K-ihn4uJ2er",
        "colab_type": "code",
        "colab": {}
      },
      "source": [
        "import matplotlib.pyplot as plt"
      ],
      "execution_count": 0,
      "outputs": []
    },
    {
      "cell_type": "code",
      "metadata": {
        "id": "dDIvR6WJFuKq",
        "colab_type": "code",
        "outputId": "02879577-6704-487a-e605-350dc6de5463",
        "colab": {
          "base_uri": "https://localhost:8080/",
          "height": 295
        }
      },
      "source": [
        "# Create a list of y-axis column names: y_columns\n",
        "y_columns = ['APPLE','IBM']\n",
        "\n",
        "# Generate a line plot\n",
        "df.plot(x='Month', y=y_columns)\n",
        "\n",
        "# Add the title\n",
        "plt.title('Monthly stock prices')\n",
        "\n",
        "# Add the y-axis label\n",
        "plt.ylabel('Price ($US)')\n",
        "\n",
        "# Display the plot\n",
        "plt.show()"
      ],
      "execution_count": 0,
      "outputs": [
        {
          "output_type": "display_data",
          "data": {
            "image/png": "[encoded data removed]",
            "text/plain": [
              "<Figure size 432x288 with 1 Axes>"
            ]
          },
          "metadata": {
            "tags": []
          }
        }
      ]
    },
    {
      "cell_type": "code",
      "metadata": {
        "id": "AbcFNaQ2Iz3V",
        "colab_type": "code",
        "outputId": "a883e932-6c4a-4e96-bb50-cd0a47fa9a7d",
        "colab": {
          "base_uri": "https://localhost:8080/",
          "height": 204
        }
      },
      "source": [
        "url='https://assets.datacamp.com/production/repositories/497/datasets/3ed265bae13db503890f98663c33ac16a041e7a3/auto-mpg.csv'\n",
        "df=pd.read_csv(url)\n",
        "df.head()"
      ],
      "execution_count": 0,
      "outputs": [
        {
          "output_type": "execute_result",
          "data": {
            "text/html": [
              "<div>\n",
              "<style scoped>\n",
              "    .dataframe tbody tr th:only-of-type {\n",
              "        vertical-align: middle;\n",
              "    }\n",
              "\n",
              "    .dataframe tbody tr th {\n",
              "        vertical-align: top;\n",
              "    }\n",
              "\n",
              "    .dataframe thead th {\n",
              "        text-align: right;\n",
              "    }\n",
              "</style>\n",
              "<table border=\"1\" class=\"dataframe\">\n",
              "  <thead>\n",
              "    <tr style=\"text-align: right;\">\n",
              "      <th></th>\n",
              "      <th>mpg</th>\n",
              "      <th>cyl</th>\n",
              "      <th>displ</th>\n",
              "      <th>hp</th>\n",
              "      <th>weight</th>\n",
              "      <th>accel</th>\n",
              "      <th>yr</th>\n",
              "      <th>origin</th>\n",
              "      <th>name</th>\n",
              "    </tr>\n",
              "  </thead>\n",
              "  <tbody>\n",
              "    <tr>\n",
              "      <th>0</th>\n",
              "      <td>18.0</td>\n",
              "      <td>8</td>\n",
              "      <td>307.0</td>\n",
              "      <td>130</td>\n",
              "      <td>3504</td>\n",
              "      <td>12.0</td>\n",
              "      <td>70</td>\n",
              "      <td>US</td>\n",
              "      <td>chevrolet chevelle malibu</td>\n",
              "    </tr>\n",
              "    <tr>\n",
              "      <th>1</th>\n",
              "      <td>15.0</td>\n",
              "      <td>8</td>\n",
              "      <td>350.0</td>\n",
              "      <td>165</td>\n",
              "      <td>3693</td>\n",
              "      <td>11.5</td>\n",
              "      <td>70</td>\n",
              "      <td>US</td>\n",
              "      <td>buick skylark 320</td>\n",
              "    </tr>\n",
              "    <tr>\n",
              "      <th>2</th>\n",
              "      <td>18.0</td>\n",
              "      <td>8</td>\n",
              "      <td>318.0</td>\n",
              "      <td>150</td>\n",
              "      <td>3436</td>\n",
              "      <td>11.0</td>\n",
              "      <td>70</td>\n",
              "      <td>US</td>\n",
              "      <td>plymouth satellite</td>\n",
              "    </tr>\n",
              "    <tr>\n",
              "      <th>3</th>\n",
              "      <td>16.0</td>\n",
              "      <td>8</td>\n",
              "      <td>304.0</td>\n",
              "      <td>150</td>\n",
              "      <td>3433</td>\n",
              "      <td>12.0</td>\n",
              "      <td>70</td>\n",
              "      <td>US</td>\n",
              "      <td>amc rebel sst</td>\n",
              "    </tr>\n",
              "    <tr>\n",
              "      <th>4</th>\n",
              "      <td>17.0</td>\n",
              "      <td>8</td>\n",
              "      <td>302.0</td>\n",
              "      <td>140</td>\n",
              "      <td>3449</td>\n",
              "      <td>10.5</td>\n",
              "      <td>70</td>\n",
              "      <td>US</td>\n",
              "      <td>ford torino</td>\n",
              "    </tr>\n",
              "  </tbody>\n",
              "</table>\n",
              "</div>"
            ],
            "text/plain": [
              "    mpg  cyl  displ   hp  weight  accel  yr origin                       name\n",
              "0  18.0    8  307.0  130    3504   12.0  70     US  chevrolet chevelle malibu\n",
              "1  15.0    8  350.0  165    3693   11.5  70     US          buick skylark 320\n",
              "2  18.0    8  318.0  150    3436   11.0  70     US         plymouth satellite\n",
              "3  16.0    8  304.0  150    3433   12.0  70     US              amc rebel sst\n",
              "4  17.0    8  302.0  140    3449   10.5  70     US                ford torino"
            ]
          },
          "metadata": {
            "tags": []
          },
          "execution_count": 77
        }
      ]
    },
    {
      "cell_type": "code",
      "metadata": {
        "id": "81y94TJmNEVt",
        "colab_type": "code",
        "outputId": "6ea13fd6-3192-4203-e96a-ea82faf23280",
        "colab": {
          "base_uri": "https://localhost:8080/",
          "height": 34
        }
      },
      "source": [
        "len(df)"
      ],
      "execution_count": 0,
      "outputs": [
        {
          "output_type": "execute_result",
          "data": {
            "text/plain": [
              "392"
            ]
          },
          "metadata": {
            "tags": []
          },
          "execution_count": 79
        }
      ]
    },
    {
      "cell_type": "markdown",
      "metadata": {
        "id": "Dx6oZ1NkNGnP",
        "colab_type": "text"
      },
      "source": [
        "The size of each circle is provided as a NumPy array called sizes. This array contains the normalized 'weight' of each automobile in the dataset."
      ]
    },
    {
      "cell_type": "code",
      "metadata": {
        "id": "P57Zkh2IMeo_",
        "colab_type": "code",
        "outputId": "79303d62-01a6-4f32-d4d1-662f9113f1cc",
        "colab": {
          "base_uri": "https://localhost:8080/",
          "height": 34
        }
      },
      "source": [
        "sizes = [ 51.12044694,  56.78387977,  49.15557238,  49.06977358,\n",
        "        49.52823321,  78.4595872 ,  78.93021696,  77.41479205,\n",
        "        81.52541106,  61.71459825,  52.85646225,  54.23007578,\n",
        "        58.89427963,  39.65137852,  23.42587473,  33.41639502,\n",
        "        32.03903011,  27.8650165 ,  18.88972581,  14.0196956 ,\n",
        "        29.72619722,  24.58549713,  23.48516821,  20.77938954,\n",
        "        29.19459189,  88.67676838,  79.72987328,  79.94866084,\n",
        "        93.23005042,  18.88972581,  21.34122243,  20.6679223 ,\n",
        "        28.88670381,  49.24144612,  46.14174741,  45.39631334,\n",
        "        45.01218186,  73.76057586,  82.96880195,  71.84547684,\n",
        "        69.85320595, 102.22421043,  93.78252358, 110.        ,\n",
        "        36.52889673,  24.14234281,  44.84805372,  41.02504618,\n",
        "        20.51976563,  18.765772  ,  17.9095202 ,  17.75442285,\n",
        "        13.08832041,  10.83266174,  14.00441945,  15.91328975,\n",
        "        21.60597587,  18.8188451 ,  21.15311208,  24.14234281,\n",
        "        20.63083317,  76.05635059,  80.05816704,  71.18975117,\n",
        "        70.98330444,  56.13992036,  89.36985382,  84.38736544,\n",
        "        82.6716892 ,  81.4149056 ,  22.60363518,  63.06844313,\n",
        "        69.92143863,  76.76982089,  69.2066568 ,  35.81711267,\n",
        "        26.25184749,  36.94940537,  19.95069229,  23.88237331,\n",
        "        21.79608472,  26.1474042 ,  19.49759118,  18.36136808,\n",
        "        69.98970461,  56.13992036,  66.21810474,  68.02351436,\n",
        "        59.39644014, 102.10046481,  82.96880195,  79.25686195,\n",
        "        74.74521151,  93.34830013, 102.05923292,  60.7883734 ,\n",
        "        40.55589449,  44.7388015 ,  36.11079464,  37.9986264 ,\n",
        "        35.11233175,  15.83199594, 103.96451839, 100.21241654,\n",
        "        90.18186347,  84.27493641,  32.38645967,  21.62494928,\n",
        "        24.00218436,  23.56434276,  18.78345471,  22.21725537,\n",
        "        25.44271071,  21.36007926,  69.37650986,  76.19877818,\n",
        "        14.51292942,  19.38962134,  27.75740889,  34.24717407,\n",
        "        48.10262495,  29.459795  ,  32.80584831,  55.89556844,\n",
        "        40.06360581,  35.03982309,  46.33599903,  15.83199594,\n",
        "        25.01226779,  14.03498009,  26.90404245,  59.52231336,\n",
        "        54.92349014,  54.35035315,  71.39649768,  91.93424995,\n",
        "        82.70879915,  89.56285636,  75.45251972,  20.50128352,\n",
        "        16.04379287,  22.02531454,  11.32159874,  16.70430249,\n",
        "        18.80114574,  18.50153068,  21.00322336,  25.79385418,\n",
        "        23.80266582,  16.65430211,  44.35746794,  49.815853  ,\n",
        "        49.04119063,  41.52318884,  90.72524338,  82.07906251,\n",
        "        84.23747672,  90.29816462,  63.55551901,  63.23059357,\n",
        "        57.92740995,  59.64831981,  38.45278922,  43.19643409,\n",
        "        41.81296121,  19.62393488,  28.99647648,  35.35456858,\n",
        "        27.97283229,  30.39744886,  20.57526193,  26.96758278,\n",
        "        37.07354237,  15.62160631,  42.92863291,  30.21771564,\n",
        "        36.40567571,  36.11079464,  29.70395123,  13.41514444,\n",
        "        25.27829944,  20.51976563,  27.54281821,  21.17188565,\n",
        "        20.18836167,  73.97101962,  73.09614831,  65.35749368,\n",
        "        73.97101962,  43.51889468,  46.80945169,  37.77255674,\n",
        "        39.6256851 ,  17.24230306,  19.49759118,  15.62160631,\n",
        "        13.41514444,  55.49963323,  53.18333207,  55.31736854,\n",
        "        42.44868923,  13.86730874,  16.48817545,  19.33574884,\n",
        "        27.3931002 ,  41.31307817,  64.63368105,  44.52069676,\n",
        "        35.74387954,  60.75655952,  79.87569835,  68.46177648,\n",
        "        62.35745431,  58.70651902,  17.41217694,  19.33574884,\n",
        "        13.86730874,  22.02531454,  15.75091031,  62.68013142,\n",
        "        68.63071356,  71.36201911,  76.80558184,  51.58836621,\n",
        "        48.84134317,  54.86301837,  51.73502816,  74.14661842,\n",
        "        72.22648148,  77.88228247,  78.24284811,  15.67003285,\n",
        "        31.25845963,  21.36007926,  31.60164234,  17.51450098,\n",
        "        17.92679488,  16.40542438,  19.96892459,  32.99310928,\n",
        "        28.14577056,  30.80379718,  16.40542438,  13.48998471,\n",
        "        16.40542438,  17.84050478,  13.48998471,  47.1451025 ,\n",
        "        58.08281541,  53.06435374,  52.02897659,  41.44433489,\n",
        "        36.60292926,  30.80379718,  48.98404972,  42.90189859,\n",
        "        47.56635225,  39.24128299,  54.56115914,  48.41447259,\n",
        "        48.84134317,  49.41341845,  42.76835191,  69.30854366,\n",
        "        19.33574884,  27.28640858,  22.02531454,  20.70504474,\n",
        "        26.33555201,  31.37264569,  33.93740821,  24.08222494,\n",
        "        33.34566004,  41.05118927,  32.52595611,  48.41447259,\n",
        "        16.48817545,  18.97851406,  43.84255439,  37.22278157,\n",
        "        34.77459916,  44.38465193,  47.00510227,  61.39441929,\n",
        "        57.77221268,  65.12675249,  61.07507305,  79.14790534,\n",
        "        68.42801405,  54.10993164,  64.63368105,  15.42864956,\n",
        "        16.24054679,  15.26876826,  29.68171358,  51.88189829,\n",
        "        63.32798377,  42.36896092,  48.6988448 ,  20.15170555,\n",
        "        19.24612787,  16.98905358,  18.88972581,  29.68171358,\n",
        "        28.03762169,  30.35246559,  27.20120517,  19.13885751,\n",
        "        16.12562794,  18.71277385,  16.9722369 ,  29.85984799,\n",
        "        34.29495526,  37.54716158,  47.59450219,  19.93246832,\n",
        "        30.60028577,  26.90404245,  24.66650366,  21.36007926,\n",
        "        18.5366546 ,  32.64243213,  18.5366546 ,  18.09999962,\n",
        "        22.70075058,  36.23351603,  43.97776651,  14.24983724,\n",
        "        19.15671509,  14.17291518,  35.25757392,  24.38356372,\n",
        "        26.02234705,  21.83420642,  25.81458463,  28.90864169,\n",
        "        28.58044785,  30.91715052,  23.6833544 ,  12.82391671,\n",
        "        14.63757021,  12.89709155,  17.75442285,  16.24054679,\n",
        "        17.49742615,  16.40542438,  20.42743834,  17.41217694,\n",
        "        23.58415722,  19.96892459,  20.33531923,  22.99334585,\n",
        "        28.47146626,  28.90864169,  43.43816712,  41.57579979,\n",
        "        35.01567018,  35.74387954,  48.5565546 ,  57.77221268,\n",
        "        38.98605581,  49.98882458,  28.25412762,  29.01845599,\n",
        "        23.88237331,  27.60710798,  26.54539622,  31.14448175,\n",
        "        34.17556473,  16.3228815 ,  17.0732619 ,  16.15842026,\n",
        "        18.80114574,  18.80114574,  19.42557798,  20.2434083 ,\n",
        "        20.98452475,  16.07650192,  16.07650192,  16.57113469,\n",
        "        36.11079464,  37.84783835,  27.82194848,  33.46359332,\n",
        "        29.5706502 ,  23.38638738,  36.23351603,  32.40968826,\n",
        "        18.88972581,  21.92965639,  28.68963762,  30.80379718]\n",
        "\n",
        "len(sizes)"
      ],
      "execution_count": 0,
      "outputs": [
        {
          "output_type": "execute_result",
          "data": {
            "text/plain": [
              "392"
            ]
          },
          "metadata": {
            "tags": []
          },
          "execution_count": 78
        }
      ]
    },
    {
      "cell_type": "code",
      "metadata": {
        "id": "4HEhqAC_NC7P",
        "colab_type": "code",
        "outputId": "582bb857-163c-41e6-9afa-54a97d5d1ec4",
        "colab": {
          "base_uri": "https://localhost:8080/",
          "height": 295
        }
      },
      "source": [
        "\n",
        "# Generate a scatter plot\n",
        "df.plot(kind='scatter', x='hp', y='mpg', s=sizes)\n",
        "\n",
        "# Add the title\n",
        "plt.title('Fuel efficiency vs Horse-power')\n",
        "\n",
        "# Add the x-axis label\n",
        "plt.xlabel('Horse-power')\n",
        "\n",
        "# Add the y-axis label\n",
        "plt.ylabel('Fuel efficiency (mpg)')\n",
        "\n",
        "# Display the plot\n",
        "plt.show()"
      ],
      "execution_count": 0,
      "outputs": [
        {
          "output_type": "display_data",
          "data": {
            "image/png": "[encoded data removed]",
            "text/plain": [
              "<Figure size 432x288 with 1 Axes>"
            ]
          },
          "metadata": {
            "tags": []
          }
        }
      ]
    },
    {
      "cell_type": "code",
      "metadata": {
        "id": "yOX7Hl8nNVvQ",
        "colab_type": "code",
        "outputId": "dcbc3af1-39bc-41e2-9f6d-d5d26b1ec4e5",
        "colab": {
          "base_uri": "https://localhost:8080/",
          "height": 269
        }
      },
      "source": [
        "# Make a list of the column names to be plotted: cols\n",
        "cols = ['weight','mpg']\n",
        "\n",
        "# Generate the box plots\n",
        "df[cols].plot(kind='box',subplots=True)\n",
        "\n",
        "# Display the plot\n",
        "plt.show()"
      ],
      "execution_count": 0,
      "outputs": [
        {
          "output_type": "display_data",
          "data": {
            "image/png": "[encoded data removed]",
            "text/plain": [
              "<Figure size 432x288 with 2 Axes>"
            ]
          },
          "metadata": {
            "tags": []
          }
        }
      ]
    },
    {
      "cell_type": "markdown",
      "metadata": {
        "id": "XVDNeLVSOkDa",
        "colab_type": "text"
      },
      "source": [
        "Pandas relies on the .hist() method to not only generate histograms, but also plots of probability density functions (PDFs) and cumulative density functions (CDFs).Your job is to plot a PDF and CDF for the fraction column of the tips dataset. This column contains information about what fraction of the total bill is comprised of the tip.\n",
        "\n",
        "Remember, when plotting the PDF, you need to specify normed=True in your call to .hist(), and when plotting the CDF, you need to specify cumulative=True in addition to normed=True."
      ]
    },
    {
      "cell_type": "code",
      "metadata": {
        "id": "CBGtB0qiOQQW",
        "colab_type": "code",
        "outputId": "a28e35c0-7bb3-4b08-934d-e582cdcfac1c",
        "colab": {
          "base_uri": "https://localhost:8080/",
          "height": 204
        }
      },
      "source": [
        "url='https://assets.datacamp.com/production/repositories/497/datasets/5d401fe7e4c270da0c3b2f651c73c4a5a8771490/tips.csv'\n",
        "df=pd.read_csv(url)\n",
        "df.head()"
      ],
      "execution_count": 0,
      "outputs": [
        {
          "output_type": "execute_result",
          "data": {
            "text/html": [
              "<div>\n",
              "<style scoped>\n",
              "    .dataframe tbody tr th:only-of-type {\n",
              "        vertical-align: middle;\n",
              "    }\n",
              "\n",
              "    .dataframe tbody tr th {\n",
              "        vertical-align: top;\n",
              "    }\n",
              "\n",
              "    .dataframe thead th {\n",
              "        text-align: right;\n",
              "    }\n",
              "</style>\n",
              "<table border=\"1\" class=\"dataframe\">\n",
              "  <thead>\n",
              "    <tr style=\"text-align: right;\">\n",
              "      <th></th>\n",
              "      <th>total_bill</th>\n",
              "      <th>tip</th>\n",
              "      <th>sex</th>\n",
              "      <th>smoker</th>\n",
              "      <th>day</th>\n",
              "      <th>time</th>\n",
              "      <th>size</th>\n",
              "      <th>fraction</th>\n",
              "    </tr>\n",
              "  </thead>\n",
              "  <tbody>\n",
              "    <tr>\n",
              "      <th>0</th>\n",
              "      <td>16.99</td>\n",
              "      <td>1.01</td>\n",
              "      <td>Female</td>\n",
              "      <td>No</td>\n",
              "      <td>Sun</td>\n",
              "      <td>Dinner</td>\n",
              "      <td>2</td>\n",
              "      <td>0.059447</td>\n",
              "    </tr>\n",
              "    <tr>\n",
              "      <th>1</th>\n",
              "      <td>10.34</td>\n",
              "      <td>1.66</td>\n",
              "      <td>Male</td>\n",
              "      <td>No</td>\n",
              "      <td>Sun</td>\n",
              "      <td>Dinner</td>\n",
              "      <td>3</td>\n",
              "      <td>0.160542</td>\n",
              "    </tr>\n",
              "    <tr>\n",
              "      <th>2</th>\n",
              "      <td>21.01</td>\n",
              "      <td>3.50</td>\n",
              "      <td>Male</td>\n",
              "      <td>No</td>\n",
              "      <td>Sun</td>\n",
              "      <td>Dinner</td>\n",
              "      <td>3</td>\n",
              "      <td>0.166587</td>\n",
              "    </tr>\n",
              "    <tr>\n",
              "      <th>3</th>\n",
              "      <td>23.68</td>\n",
              "      <td>3.31</td>\n",
              "      <td>Male</td>\n",
              "      <td>No</td>\n",
              "      <td>Sun</td>\n",
              "      <td>Dinner</td>\n",
              "      <td>2</td>\n",
              "      <td>0.139780</td>\n",
              "    </tr>\n",
              "    <tr>\n",
              "      <th>4</th>\n",
              "      <td>24.59</td>\n",
              "      <td>3.61</td>\n",
              "      <td>Female</td>\n",
              "      <td>No</td>\n",
              "      <td>Sun</td>\n",
              "      <td>Dinner</td>\n",
              "      <td>4</td>\n",
              "      <td>0.146808</td>\n",
              "    </tr>\n",
              "  </tbody>\n",
              "</table>\n",
              "</div>"
            ],
            "text/plain": [
              "   total_bill   tip     sex smoker  day    time  size  fraction\n",
              "0       16.99  1.01  Female     No  Sun  Dinner     2  0.059447\n",
              "1       10.34  1.66    Male     No  Sun  Dinner     3  0.160542\n",
              "2       21.01  3.50    Male     No  Sun  Dinner     3  0.166587\n",
              "3       23.68  3.31    Male     No  Sun  Dinner     2  0.139780\n",
              "4       24.59  3.61  Female     No  Sun  Dinner     4  0.146808"
            ]
          },
          "metadata": {
            "tags": []
          },
          "execution_count": 83
        }
      ]
    },
    {
      "cell_type": "markdown",
      "metadata": {
        "id": "jcDlfBdSPrCR",
        "colab_type": "text"
      },
      "source": [
        "Plot a PDF for the values in fraction with 30 bins between 0 and 30%. The range has been taken care of for you. ax=axes[0] means that this plot will appear in the first row.\n",
        "Plot a CDF for the values in fraction with 30 bins between 0 and 30%. Again, the range has been specified for you. To make the CDF appear on the second row, you need to specify ax=axes[1]."
      ]
    },
    {
      "cell_type": "code",
      "metadata": {
        "id": "SH2VFupoOyK1",
        "colab_type": "code",
        "outputId": "838c9d48-919e-406a-b688-bb5da4441ebc",
        "colab": {
          "base_uri": "https://localhost:8080/",
          "height": 269
        }
      },
      "source": [
        "\n",
        "# This formats the plots such that they appear on separate rows\n",
        "fig, axes = plt.subplots(nrows=2, ncols=1)\n",
        "\n",
        "# Plot the PDF\n",
        "df.fraction.plot(ax=axes[0], kind='hist', density=True, bins=30, range=(0,.3))\n",
        "# plt.show()\n",
        "\n",
        "# Plot the CDF\n",
        "df.fraction.plot(ax=axes[1], kind='hist', density=True, cumulative=True, bins=30, range=(0,.3))\n",
        "plt.show()\n",
        "\n",
        "#The 'normed' kwarg was deprecated in Matplotlib 2.1 and will be removed in 3.1. Use 'density' instead.\n",
        "#   alternative=\"'density'\""
      ],
      "execution_count": 0,
      "outputs": [
        {
          "output_type": "display_data",
          "data": {
            "image/png": "[encoded data removed]",
            "text/plain": [
              "<Figure size 432x288 with 2 Axes>"
            ]
          },
          "metadata": {
            "tags": []
          }
        }
      ]
    },
    {
      "cell_type": "markdown",
      "metadata": {
        "id": "xQgcjUVkQRuR",
        "colab_type": "text"
      },
      "source": [
        "## Statistical exploratory data analysis\n"
      ]
    },
    {
      "cell_type": "code",
      "metadata": {
        "id": "RvATpNSHPwns",
        "colab_type": "code",
        "outputId": "68cd9a7f-cfe9-4741-9a61-5c3bf510642f",
        "colab": {
          "base_uri": "https://localhost:8080/",
          "height": 306
        }
      },
      "source": [
        "url='https://assets.datacamp.com/production/repositories/497/datasets/5f4f1a9bab95fba4d7fea1ad3c30dcab8f5b9c96/percent-bachelors-degrees-women-usa.csv'\n",
        "df = pd.read_csv(url,index_col=0)\n",
        "df.head()"
      ],
      "execution_count": 0,
      "outputs": [
        {
          "output_type": "execute_result",
          "data": {
            "text/html": [
              "<div>\n",
              "<style scoped>\n",
              "    .dataframe tbody tr th:only-of-type {\n",
              "        vertical-align: middle;\n",
              "    }\n",
              "\n",
              "    .dataframe tbody tr th {\n",
              "        vertical-align: top;\n",
              "    }\n",
              "\n",
              "    .dataframe thead th {\n",
              "        text-align: right;\n",
              "    }\n",
              "</style>\n",
              "<table border=\"1\" class=\"dataframe\">\n",
              "  <thead>\n",
              "    <tr style=\"text-align: right;\">\n",
              "      <th></th>\n",
              "      <th>Agriculture</th>\n",
              "      <th>Architecture</th>\n",
              "      <th>Art and Performance</th>\n",
              "      <th>Biology</th>\n",
              "      <th>Business</th>\n",
              "      <th>Communications and Journalism</th>\n",
              "      <th>Computer Science</th>\n",
              "      <th>Education</th>\n",
              "      <th>Engineering</th>\n",
              "      <th>English</th>\n",
              "      <th>Foreign Languages</th>\n",
              "      <th>Health Professions</th>\n",
              "      <th>Math and Statistics</th>\n",
              "      <th>Physical Sciences</th>\n",
              "      <th>Psychology</th>\n",
              "      <th>Public Administration</th>\n",
              "      <th>Social Sciences and History</th>\n",
              "    </tr>\n",
              "    <tr>\n",
              "      <th>Year</th>\n",
              "      <th></th>\n",
              "      <th></th>\n",
              "      <th></th>\n",
              "      <th></th>\n",
              "      <th></th>\n",
              "      <th></th>\n",
              "      <th></th>\n",
              "      <th></th>\n",
              "      <th></th>\n",
              "      <th></th>\n",
              "      <th></th>\n",
              "      <th></th>\n",
              "      <th></th>\n",
              "      <th></th>\n",
              "      <th></th>\n",
              "      <th></th>\n",
              "      <th></th>\n",
              "    </tr>\n",
              "  </thead>\n",
              "  <tbody>\n",
              "    <tr>\n",
              "      <th>1970</th>\n",
              "      <td>4.229798</td>\n",
              "      <td>11.921005</td>\n",
              "      <td>59.7</td>\n",
              "      <td>29.088363</td>\n",
              "      <td>9.064439</td>\n",
              "      <td>35.3</td>\n",
              "      <td>13.6</td>\n",
              "      <td>74.535328</td>\n",
              "      <td>0.8</td>\n",
              "      <td>65.570923</td>\n",
              "      <td>73.8</td>\n",
              "      <td>77.1</td>\n",
              "      <td>38.0</td>\n",
              "      <td>13.8</td>\n",
              "      <td>44.4</td>\n",
              "      <td>68.4</td>\n",
              "      <td>36.8</td>\n",
              "    </tr>\n",
              "    <tr>\n",
              "      <th>1971</th>\n",
              "      <td>5.452797</td>\n",
              "      <td>12.003106</td>\n",
              "      <td>59.9</td>\n",
              "      <td>29.394403</td>\n",
              "      <td>9.503187</td>\n",
              "      <td>35.5</td>\n",
              "      <td>13.6</td>\n",
              "      <td>74.149204</td>\n",
              "      <td>1.0</td>\n",
              "      <td>64.556485</td>\n",
              "      <td>73.9</td>\n",
              "      <td>75.5</td>\n",
              "      <td>39.0</td>\n",
              "      <td>14.9</td>\n",
              "      <td>46.2</td>\n",
              "      <td>65.5</td>\n",
              "      <td>36.2</td>\n",
              "    </tr>\n",
              "    <tr>\n",
              "      <th>1972</th>\n",
              "      <td>7.420710</td>\n",
              "      <td>13.214594</td>\n",
              "      <td>60.4</td>\n",
              "      <td>29.810221</td>\n",
              "      <td>10.558962</td>\n",
              "      <td>36.6</td>\n",
              "      <td>14.9</td>\n",
              "      <td>73.554520</td>\n",
              "      <td>1.2</td>\n",
              "      <td>63.664263</td>\n",
              "      <td>74.6</td>\n",
              "      <td>76.9</td>\n",
              "      <td>40.2</td>\n",
              "      <td>14.8</td>\n",
              "      <td>47.6</td>\n",
              "      <td>62.6</td>\n",
              "      <td>36.1</td>\n",
              "    </tr>\n",
              "    <tr>\n",
              "      <th>1973</th>\n",
              "      <td>9.653602</td>\n",
              "      <td>14.791613</td>\n",
              "      <td>60.2</td>\n",
              "      <td>31.147915</td>\n",
              "      <td>12.804602</td>\n",
              "      <td>38.4</td>\n",
              "      <td>16.4</td>\n",
              "      <td>73.501814</td>\n",
              "      <td>1.6</td>\n",
              "      <td>62.941502</td>\n",
              "      <td>74.9</td>\n",
              "      <td>77.4</td>\n",
              "      <td>40.9</td>\n",
              "      <td>16.5</td>\n",
              "      <td>50.4</td>\n",
              "      <td>64.3</td>\n",
              "      <td>36.4</td>\n",
              "    </tr>\n",
              "    <tr>\n",
              "      <th>1974</th>\n",
              "      <td>14.074623</td>\n",
              "      <td>17.444688</td>\n",
              "      <td>61.9</td>\n",
              "      <td>32.996183</td>\n",
              "      <td>16.204850</td>\n",
              "      <td>40.5</td>\n",
              "      <td>18.9</td>\n",
              "      <td>73.336811</td>\n",
              "      <td>2.2</td>\n",
              "      <td>62.413412</td>\n",
              "      <td>75.3</td>\n",
              "      <td>77.9</td>\n",
              "      <td>41.8</td>\n",
              "      <td>18.2</td>\n",
              "      <td>52.6</td>\n",
              "      <td>66.1</td>\n",
              "      <td>37.3</td>\n",
              "    </tr>\n",
              "  </tbody>\n",
              "</table>\n",
              "</div>"
            ],
            "text/plain": [
              "      Agriculture  ...  Social Sciences and History\n",
              "Year               ...                             \n",
              "1970     4.229798  ...                         36.8\n",
              "1971     5.452797  ...                         36.2\n",
              "1972     7.420710  ...                         36.1\n",
              "1973     9.653602  ...                         36.4\n",
              "1974    14.074623  ...                         37.3\n",
              "\n",
              "[5 rows x 17 columns]"
            ]
          },
          "metadata": {
            "tags": []
          },
          "execution_count": 92
        }
      ]
    },
    {
      "cell_type": "markdown",
      "metadata": {
        "id": "8svDZvtyROR8",
        "colab_type": "text"
      },
      "source": [
        "In this exercise, you will investigate statistics of the percentage of Bachelor's degrees awarded to women from 1970 to 2011. Data is recorded every year for 17 different fields. This data set was obtained from the Digest of Education Statistics.\n",
        "\n",
        "Your job is to compute the minimum and maximum values of the 'Engineering' column and generate a line plot of the mean value of all 17 academic fields per year. To perform this step, you'll use the .mean() method with the keyword argument axis='columns'. This computes the mean across all columns per row."
      ]
    },
    {
      "cell_type": "code",
      "metadata": {
        "id": "NT2Fln2nQ2VH",
        "colab_type": "code",
        "outputId": "9a563e13-dcfc-4b50-f83f-eaf9dc03ea37",
        "colab": {
          "base_uri": "https://localhost:8080/",
          "height": 317
        }
      },
      "source": [
        "# Print the minimum value of the Engineering column\n",
        "print(df['Engineering'].min())\n",
        "\n",
        "# Print the maximum value of the Engineering column\n",
        "print(df['Engineering'].max())\n",
        "\n",
        "# Construct the mean percentage per year: mean\n",
        "mean = df.mean(axis='columns')\n",
        "# Plot the average percentage per year\n",
        "mean.plot()\n",
        "\n",
        "# Display the plot\n",
        "plt.show()"
      ],
      "execution_count": 0,
      "outputs": [
        {
          "output_type": "stream",
          "text": [
            "0.8\n",
            "19.0\n"
          ],
          "name": "stdout"
        },
        {
          "output_type": "display_data",
          "data": {
            "image/png": "[encoded data removed]",
            "text/plain": [
              "<Figure size 432x288 with 1 Axes>"
            ]
          },
          "metadata": {
            "tags": []
          }
        }
      ]
    },
    {
      "cell_type": "code",
      "metadata": {
        "id": "YXKNZGSMSmiu",
        "colab_type": "code",
        "outputId": "a21f3a5a-08b4-41da-d4a0-59474a37cd05",
        "colab": {
          "base_uri": "https://localhost:8080/",
          "height": 765
        }
      },
      "source": [
        "print(mean)"
      ],
      "execution_count": 0,
      "outputs": [
        {
          "output_type": "stream",
          "text": [
            "Year\n",
            "1970    38.594697\n",
            "1971    38.603481\n",
            "1972    39.066075\n",
            "1973    40.131826\n",
            "1974    41.715916\n",
            "1975    42.373672\n",
            "1976    44.015581\n",
            "1977    45.673823\n",
            "1978    47.308670\n",
            "1979    48.811798\n",
            "1980    49.980583\n",
            "1981    50.974090\n",
            "1982    52.009448\n",
            "1983    52.187399\n",
            "1984    52.474007\n",
            "1985    52.399548\n",
            "1986    52.752830\n",
            "1987    53.169798\n",
            "1988    53.130635\n",
            "1989    53.305542\n",
            "1990    53.737364\n",
            "1991    53.471622\n",
            "1992    53.262399\n",
            "1993    53.199202\n",
            "1994    53.238427\n",
            "1995    53.508401\n",
            "1996    53.941559\n",
            "1997    54.446953\n",
            "1998    55.227195\n",
            "1999    55.971538\n",
            "2000    56.501939\n",
            "2001    56.946913\n",
            "2002    57.181722\n",
            "2003    57.367542\n",
            "2004    57.019094\n",
            "2005    56.723782\n",
            "2006    56.262194\n",
            "2007    56.053781\n",
            "2008    55.903924\n",
            "2009    56.026406\n",
            "2010    55.883043\n",
            "2011    55.999587\n",
            "dtype: float64\n"
          ],
          "name": "stdout"
        }
      ]
    },
    {
      "cell_type": "markdown",
      "metadata": {
        "id": "wM72Utd-T7Al",
        "colab_type": "text"
      },
      "source": [
        "**Quantiles**\n",
        "\n",
        "In this exercise, you'll investigate the probabilities of life expectancy in countries around the world. This dataset contains life expectancy for persons born each year from 1800 to 2015. Since country names change or results are not reported, not every country has values. This dataset was obtained from Gapminder.\n",
        "\n",
        "First, you will determine the number of countries reported in 2015. There are a total of 260 unique countries in the entire dataset. Then, you will compute the 5th and 95th percentiles of life expectancy over the entire dataset. Finally, you will make a box plot of life expectancy every 50 years from 1800 to 2000. Notice the large change in the distributions over this period."
      ]
    },
    {
      "cell_type": "code",
      "metadata": {
        "id": "3wqDx0WeSuD1",
        "colab_type": "code",
        "colab": {}
      },
      "source": [
        "url='https://assets.datacamp.com/production/repositories/497/datasets/162a52b5c1991182d67391cf650bfffb33a47f54/life_expectancy_at_birth.csv'"
      ],
      "execution_count": 0,
      "outputs": []
    },
    {
      "cell_type": "code",
      "metadata": {
        "id": "xfRNMO6IT-dT",
        "colab_type": "code",
        "outputId": "cc4c6707-460e-4d27-fc06-233a0eaf138b",
        "colab": {
          "base_uri": "https://localhost:8080/",
          "height": 287
        }
      },
      "source": [
        "df=pd.read_csv(url,index_col=0)\n",
        "df.head()"
      ],
      "execution_count": 0,
      "outputs": [
        {
          "output_type": "execute_result",
          "data": {
            "text/html": [
              "<div>\n",
              "<style scoped>\n",
              "    .dataframe tbody tr th:only-of-type {\n",
              "        vertical-align: middle;\n",
              "    }\n",
              "\n",
              "    .dataframe tbody tr th {\n",
              "        vertical-align: top;\n",
              "    }\n",
              "\n",
              "    .dataframe thead th {\n",
              "        text-align: right;\n",
              "    }\n",
              "</style>\n",
              "<table border=\"1\" class=\"dataframe\">\n",
              "  <thead>\n",
              "    <tr style=\"text-align: right;\">\n",
              "      <th></th>\n",
              "      <th>Life expectancy</th>\n",
              "      <th>1800</th>\n",
              "      <th>1801</th>\n",
              "      <th>1802</th>\n",
              "      <th>1803</th>\n",
              "      <th>1804</th>\n",
              "      <th>1805</th>\n",
              "      <th>1806</th>\n",
              "      <th>1807</th>\n",
              "      <th>1808</th>\n",
              "      <th>1809</th>\n",
              "      <th>1810</th>\n",
              "      <th>1811</th>\n",
              "      <th>1812</th>\n",
              "      <th>1813</th>\n",
              "      <th>1814</th>\n",
              "      <th>1815</th>\n",
              "      <th>1816</th>\n",
              "      <th>1817</th>\n",
              "      <th>1818</th>\n",
              "      <th>1819</th>\n",
              "      <th>1820</th>\n",
              "      <th>1821</th>\n",
              "      <th>1822</th>\n",
              "      <th>1823</th>\n",
              "      <th>1824</th>\n",
              "      <th>1825</th>\n",
              "      <th>1826</th>\n",
              "      <th>1827</th>\n",
              "      <th>1828</th>\n",
              "      <th>1829</th>\n",
              "      <th>1830</th>\n",
              "      <th>1831</th>\n",
              "      <th>1832</th>\n",
              "      <th>1833</th>\n",
              "      <th>1834</th>\n",
              "      <th>1835</th>\n",
              "      <th>1836</th>\n",
              "      <th>1837</th>\n",
              "      <th>1838</th>\n",
              "      <th>...</th>\n",
              "      <th>1977</th>\n",
              "      <th>1978</th>\n",
              "      <th>1979</th>\n",
              "      <th>1980</th>\n",
              "      <th>1981</th>\n",
              "      <th>1982</th>\n",
              "      <th>1983</th>\n",
              "      <th>1984</th>\n",
              "      <th>1985</th>\n",
              "      <th>1986</th>\n",
              "      <th>1987</th>\n",
              "      <th>1988</th>\n",
              "      <th>1989</th>\n",
              "      <th>1990</th>\n",
              "      <th>1991</th>\n",
              "      <th>1992</th>\n",
              "      <th>1993</th>\n",
              "      <th>1994</th>\n",
              "      <th>1995</th>\n",
              "      <th>1996</th>\n",
              "      <th>1997</th>\n",
              "      <th>1998</th>\n",
              "      <th>1999</th>\n",
              "      <th>2000</th>\n",
              "      <th>2001</th>\n",
              "      <th>2002</th>\n",
              "      <th>2003</th>\n",
              "      <th>2004</th>\n",
              "      <th>2005</th>\n",
              "      <th>2006</th>\n",
              "      <th>2007</th>\n",
              "      <th>2008</th>\n",
              "      <th>2009</th>\n",
              "      <th>2010</th>\n",
              "      <th>2011</th>\n",
              "      <th>2012</th>\n",
              "      <th>2013</th>\n",
              "      <th>2014</th>\n",
              "      <th>2015</th>\n",
              "      <th>2016</th>\n",
              "    </tr>\n",
              "  </thead>\n",
              "  <tbody>\n",
              "    <tr>\n",
              "      <th>0</th>\n",
              "      <td>Abkhazia</td>\n",
              "      <td>NaN</td>\n",
              "      <td>NaN</td>\n",
              "      <td>NaN</td>\n",
              "      <td>NaN</td>\n",
              "      <td>NaN</td>\n",
              "      <td>NaN</td>\n",
              "      <td>NaN</td>\n",
              "      <td>NaN</td>\n",
              "      <td>NaN</td>\n",
              "      <td>NaN</td>\n",
              "      <td>NaN</td>\n",
              "      <td>NaN</td>\n",
              "      <td>NaN</td>\n",
              "      <td>NaN</td>\n",
              "      <td>NaN</td>\n",
              "      <td>NaN</td>\n",
              "      <td>NaN</td>\n",
              "      <td>NaN</td>\n",
              "      <td>NaN</td>\n",
              "      <td>NaN</td>\n",
              "      <td>NaN</td>\n",
              "      <td>NaN</td>\n",
              "      <td>NaN</td>\n",
              "      <td>NaN</td>\n",
              "      <td>NaN</td>\n",
              "      <td>NaN</td>\n",
              "      <td>NaN</td>\n",
              "      <td>NaN</td>\n",
              "      <td>NaN</td>\n",
              "      <td>NaN</td>\n",
              "      <td>NaN</td>\n",
              "      <td>NaN</td>\n",
              "      <td>NaN</td>\n",
              "      <td>NaN</td>\n",
              "      <td>NaN</td>\n",
              "      <td>NaN</td>\n",
              "      <td>NaN</td>\n",
              "      <td>NaN</td>\n",
              "      <td>NaN</td>\n",
              "      <td>...</td>\n",
              "      <td>NaN</td>\n",
              "      <td>NaN</td>\n",
              "      <td>NaN</td>\n",
              "      <td>NaN</td>\n",
              "      <td>NaN</td>\n",
              "      <td>NaN</td>\n",
              "      <td>NaN</td>\n",
              "      <td>NaN</td>\n",
              "      <td>NaN</td>\n",
              "      <td>NaN</td>\n",
              "      <td>NaN</td>\n",
              "      <td>NaN</td>\n",
              "      <td>NaN</td>\n",
              "      <td>NaN</td>\n",
              "      <td>NaN</td>\n",
              "      <td>NaN</td>\n",
              "      <td>NaN</td>\n",
              "      <td>NaN</td>\n",
              "      <td>NaN</td>\n",
              "      <td>NaN</td>\n",
              "      <td>NaN</td>\n",
              "      <td>NaN</td>\n",
              "      <td>NaN</td>\n",
              "      <td>NaN</td>\n",
              "      <td>NaN</td>\n",
              "      <td>NaN</td>\n",
              "      <td>NaN</td>\n",
              "      <td>NaN</td>\n",
              "      <td>NaN</td>\n",
              "      <td>NaN</td>\n",
              "      <td>NaN</td>\n",
              "      <td>NaN</td>\n",
              "      <td>NaN</td>\n",
              "      <td>NaN</td>\n",
              "      <td>NaN</td>\n",
              "      <td>NaN</td>\n",
              "      <td>NaN</td>\n",
              "      <td>NaN</td>\n",
              "      <td>NaN</td>\n",
              "      <td>NaN</td>\n",
              "    </tr>\n",
              "    <tr>\n",
              "      <th>1</th>\n",
              "      <td>Afghanistan</td>\n",
              "      <td>28.21</td>\n",
              "      <td>28.20</td>\n",
              "      <td>28.19</td>\n",
              "      <td>28.18</td>\n",
              "      <td>28.17</td>\n",
              "      <td>28.16</td>\n",
              "      <td>28.15</td>\n",
              "      <td>28.14</td>\n",
              "      <td>28.13</td>\n",
              "      <td>28.12</td>\n",
              "      <td>28.11</td>\n",
              "      <td>28.10</td>\n",
              "      <td>28.09</td>\n",
              "      <td>28.08</td>\n",
              "      <td>28.07</td>\n",
              "      <td>28.06</td>\n",
              "      <td>28.05</td>\n",
              "      <td>28.04</td>\n",
              "      <td>28.03</td>\n",
              "      <td>28.02</td>\n",
              "      <td>28.01</td>\n",
              "      <td>28.00</td>\n",
              "      <td>27.99</td>\n",
              "      <td>27.98</td>\n",
              "      <td>27.97</td>\n",
              "      <td>27.95</td>\n",
              "      <td>27.94</td>\n",
              "      <td>27.93</td>\n",
              "      <td>27.92</td>\n",
              "      <td>27.91</td>\n",
              "      <td>27.90</td>\n",
              "      <td>27.89</td>\n",
              "      <td>27.88</td>\n",
              "      <td>27.87</td>\n",
              "      <td>27.86</td>\n",
              "      <td>27.85</td>\n",
              "      <td>27.84</td>\n",
              "      <td>27.83</td>\n",
              "      <td>27.82</td>\n",
              "      <td>...</td>\n",
              "      <td>40.53</td>\n",
              "      <td>40.98</td>\n",
              "      <td>41.46</td>\n",
              "      <td>41.96</td>\n",
              "      <td>42.51</td>\n",
              "      <td>43.11</td>\n",
              "      <td>43.75</td>\n",
              "      <td>44.45</td>\n",
              "      <td>45.21</td>\n",
              "      <td>46.02</td>\n",
              "      <td>46.87</td>\n",
              "      <td>47.74</td>\n",
              "      <td>48.62</td>\n",
              "      <td>49.5</td>\n",
              "      <td>49.3</td>\n",
              "      <td>49.4</td>\n",
              "      <td>49.5</td>\n",
              "      <td>48.9</td>\n",
              "      <td>49.4</td>\n",
              "      <td>49.7</td>\n",
              "      <td>49.5</td>\n",
              "      <td>48.6</td>\n",
              "      <td>50.0</td>\n",
              "      <td>50.1</td>\n",
              "      <td>50.4</td>\n",
              "      <td>51.0</td>\n",
              "      <td>51.4</td>\n",
              "      <td>51.8</td>\n",
              "      <td>52.0</td>\n",
              "      <td>52.1</td>\n",
              "      <td>52.4</td>\n",
              "      <td>52.8</td>\n",
              "      <td>53.3</td>\n",
              "      <td>53.6</td>\n",
              "      <td>54.0</td>\n",
              "      <td>54.4</td>\n",
              "      <td>54.8</td>\n",
              "      <td>54.9</td>\n",
              "      <td>53.8</td>\n",
              "      <td>52.72</td>\n",
              "    </tr>\n",
              "    <tr>\n",
              "      <th>2</th>\n",
              "      <td>Akrotiri and Dhekelia</td>\n",
              "      <td>NaN</td>\n",
              "      <td>NaN</td>\n",
              "      <td>NaN</td>\n",
              "      <td>NaN</td>\n",
              "      <td>NaN</td>\n",
              "      <td>NaN</td>\n",
              "      <td>NaN</td>\n",
              "      <td>NaN</td>\n",
              "      <td>NaN</td>\n",
              "      <td>NaN</td>\n",
              "      <td>NaN</td>\n",
              "      <td>NaN</td>\n",
              "      <td>NaN</td>\n",
              "      <td>NaN</td>\n",
              "      <td>NaN</td>\n",
              "      <td>NaN</td>\n",
              "      <td>NaN</td>\n",
              "      <td>NaN</td>\n",
              "      <td>NaN</td>\n",
              "      <td>NaN</td>\n",
              "      <td>NaN</td>\n",
              "      <td>NaN</td>\n",
              "      <td>NaN</td>\n",
              "      <td>NaN</td>\n",
              "      <td>NaN</td>\n",
              "      <td>NaN</td>\n",
              "      <td>NaN</td>\n",
              "      <td>NaN</td>\n",
              "      <td>NaN</td>\n",
              "      <td>NaN</td>\n",
              "      <td>NaN</td>\n",
              "      <td>NaN</td>\n",
              "      <td>NaN</td>\n",
              "      <td>NaN</td>\n",
              "      <td>NaN</td>\n",
              "      <td>NaN</td>\n",
              "      <td>NaN</td>\n",
              "      <td>NaN</td>\n",
              "      <td>NaN</td>\n",
              "      <td>...</td>\n",
              "      <td>NaN</td>\n",
              "      <td>NaN</td>\n",
              "      <td>NaN</td>\n",
              "      <td>NaN</td>\n",
              "      <td>NaN</td>\n",
              "      <td>NaN</td>\n",
              "      <td>NaN</td>\n",
              "      <td>NaN</td>\n",
              "      <td>NaN</td>\n",
              "      <td>NaN</td>\n",
              "      <td>NaN</td>\n",
              "      <td>NaN</td>\n",
              "      <td>NaN</td>\n",
              "      <td>NaN</td>\n",
              "      <td>NaN</td>\n",
              "      <td>NaN</td>\n",
              "      <td>NaN</td>\n",
              "      <td>NaN</td>\n",
              "      <td>NaN</td>\n",
              "      <td>NaN</td>\n",
              "      <td>NaN</td>\n",
              "      <td>NaN</td>\n",
              "      <td>NaN</td>\n",
              "      <td>NaN</td>\n",
              "      <td>NaN</td>\n",
              "      <td>NaN</td>\n",
              "      <td>NaN</td>\n",
              "      <td>NaN</td>\n",
              "      <td>NaN</td>\n",
              "      <td>NaN</td>\n",
              "      <td>NaN</td>\n",
              "      <td>NaN</td>\n",
              "      <td>NaN</td>\n",
              "      <td>NaN</td>\n",
              "      <td>NaN</td>\n",
              "      <td>NaN</td>\n",
              "      <td>NaN</td>\n",
              "      <td>NaN</td>\n",
              "      <td>NaN</td>\n",
              "      <td>NaN</td>\n",
              "    </tr>\n",
              "    <tr>\n",
              "      <th>3</th>\n",
              "      <td>Albania</td>\n",
              "      <td>35.40</td>\n",
              "      <td>35.40</td>\n",
              "      <td>35.40</td>\n",
              "      <td>35.40</td>\n",
              "      <td>35.40</td>\n",
              "      <td>35.40</td>\n",
              "      <td>35.40</td>\n",
              "      <td>35.40</td>\n",
              "      <td>35.40</td>\n",
              "      <td>35.40</td>\n",
              "      <td>35.40</td>\n",
              "      <td>35.40</td>\n",
              "      <td>35.40</td>\n",
              "      <td>35.40</td>\n",
              "      <td>35.40</td>\n",
              "      <td>35.40</td>\n",
              "      <td>35.40</td>\n",
              "      <td>35.40</td>\n",
              "      <td>35.40</td>\n",
              "      <td>35.40</td>\n",
              "      <td>35.40</td>\n",
              "      <td>35.40</td>\n",
              "      <td>35.40</td>\n",
              "      <td>35.40</td>\n",
              "      <td>35.40</td>\n",
              "      <td>35.40</td>\n",
              "      <td>35.40</td>\n",
              "      <td>35.40</td>\n",
              "      <td>35.40</td>\n",
              "      <td>35.40</td>\n",
              "      <td>35.40</td>\n",
              "      <td>35.40</td>\n",
              "      <td>35.40</td>\n",
              "      <td>35.40</td>\n",
              "      <td>35.40</td>\n",
              "      <td>35.40</td>\n",
              "      <td>35.40</td>\n",
              "      <td>35.40</td>\n",
              "      <td>35.40</td>\n",
              "      <td>...</td>\n",
              "      <td>70.54</td>\n",
              "      <td>70.86</td>\n",
              "      <td>71.14</td>\n",
              "      <td>71.39</td>\n",
              "      <td>71.63</td>\n",
              "      <td>71.88</td>\n",
              "      <td>72.15</td>\n",
              "      <td>72.42</td>\n",
              "      <td>72.71</td>\n",
              "      <td>72.96</td>\n",
              "      <td>73.14</td>\n",
              "      <td>73.25</td>\n",
              "      <td>73.30</td>\n",
              "      <td>73.3</td>\n",
              "      <td>73.4</td>\n",
              "      <td>73.6</td>\n",
              "      <td>73.6</td>\n",
              "      <td>73.6</td>\n",
              "      <td>73.7</td>\n",
              "      <td>73.8</td>\n",
              "      <td>74.1</td>\n",
              "      <td>74.2</td>\n",
              "      <td>74.2</td>\n",
              "      <td>74.7</td>\n",
              "      <td>75.1</td>\n",
              "      <td>75.5</td>\n",
              "      <td>75.7</td>\n",
              "      <td>75.9</td>\n",
              "      <td>76.2</td>\n",
              "      <td>76.4</td>\n",
              "      <td>76.6</td>\n",
              "      <td>76.8</td>\n",
              "      <td>77.0</td>\n",
              "      <td>77.2</td>\n",
              "      <td>77.4</td>\n",
              "      <td>77.5</td>\n",
              "      <td>77.7</td>\n",
              "      <td>77.9</td>\n",
              "      <td>78.0</td>\n",
              "      <td>78.10</td>\n",
              "    </tr>\n",
              "    <tr>\n",
              "      <th>4</th>\n",
              "      <td>Algeria</td>\n",
              "      <td>28.82</td>\n",
              "      <td>28.82</td>\n",
              "      <td>28.82</td>\n",
              "      <td>28.82</td>\n",
              "      <td>28.82</td>\n",
              "      <td>28.82</td>\n",
              "      <td>28.82</td>\n",
              "      <td>28.82</td>\n",
              "      <td>28.82</td>\n",
              "      <td>28.82</td>\n",
              "      <td>28.82</td>\n",
              "      <td>28.82</td>\n",
              "      <td>28.82</td>\n",
              "      <td>28.82</td>\n",
              "      <td>28.82</td>\n",
              "      <td>28.82</td>\n",
              "      <td>28.82</td>\n",
              "      <td>28.82</td>\n",
              "      <td>28.82</td>\n",
              "      <td>28.82</td>\n",
              "      <td>28.82</td>\n",
              "      <td>28.82</td>\n",
              "      <td>28.82</td>\n",
              "      <td>28.82</td>\n",
              "      <td>28.82</td>\n",
              "      <td>28.82</td>\n",
              "      <td>28.82</td>\n",
              "      <td>28.82</td>\n",
              "      <td>28.82</td>\n",
              "      <td>28.82</td>\n",
              "      <td>28.82</td>\n",
              "      <td>28.82</td>\n",
              "      <td>28.82</td>\n",
              "      <td>28.82</td>\n",
              "      <td>28.82</td>\n",
              "      <td>28.82</td>\n",
              "      <td>28.82</td>\n",
              "      <td>28.82</td>\n",
              "      <td>28.82</td>\n",
              "      <td>...</td>\n",
              "      <td>57.13</td>\n",
              "      <td>58.28</td>\n",
              "      <td>59.56</td>\n",
              "      <td>60.92</td>\n",
              "      <td>62.31</td>\n",
              "      <td>63.69</td>\n",
              "      <td>64.97</td>\n",
              "      <td>66.15</td>\n",
              "      <td>67.18</td>\n",
              "      <td>68.04</td>\n",
              "      <td>68.75</td>\n",
              "      <td>69.33</td>\n",
              "      <td>69.81</td>\n",
              "      <td>70.2</td>\n",
              "      <td>70.5</td>\n",
              "      <td>70.9</td>\n",
              "      <td>71.2</td>\n",
              "      <td>71.4</td>\n",
              "      <td>71.6</td>\n",
              "      <td>72.1</td>\n",
              "      <td>72.4</td>\n",
              "      <td>72.6</td>\n",
              "      <td>73.0</td>\n",
              "      <td>73.3</td>\n",
              "      <td>73.5</td>\n",
              "      <td>73.8</td>\n",
              "      <td>73.9</td>\n",
              "      <td>74.4</td>\n",
              "      <td>74.8</td>\n",
              "      <td>75.0</td>\n",
              "      <td>75.3</td>\n",
              "      <td>75.5</td>\n",
              "      <td>75.7</td>\n",
              "      <td>76.0</td>\n",
              "      <td>76.1</td>\n",
              "      <td>76.2</td>\n",
              "      <td>76.3</td>\n",
              "      <td>76.3</td>\n",
              "      <td>76.4</td>\n",
              "      <td>76.50</td>\n",
              "    </tr>\n",
              "  </tbody>\n",
              "</table>\n",
              "<p>5 rows × 218 columns</p>\n",
              "</div>"
            ],
            "text/plain": [
              "         Life expectancy   1800   1801   1802  ...  2013  2014  2015   2016\n",
              "0               Abkhazia    NaN    NaN    NaN  ...   NaN   NaN   NaN    NaN\n",
              "1            Afghanistan  28.21  28.20  28.19  ...  54.8  54.9  53.8  52.72\n",
              "2  Akrotiri and Dhekelia    NaN    NaN    NaN  ...   NaN   NaN   NaN    NaN\n",
              "3                Albania  35.40  35.40  35.40  ...  77.7  77.9  78.0  78.10\n",
              "4                Algeria  28.82  28.82  28.82  ...  76.3  76.3  76.4  76.50\n",
              "\n",
              "[5 rows x 218 columns]"
            ]
          },
          "metadata": {
            "tags": []
          },
          "execution_count": 98
        }
      ]
    },
    {
      "cell_type": "code",
      "metadata": {
        "id": "t6vrDQxUUBT6",
        "colab_type": "code",
        "outputId": "7046a367-44ea-4c1e-f61b-e114c198158c",
        "colab": {
          "base_uri": "https://localhost:8080/",
          "height": 371
        }
      },
      "source": [
        "\n",
        "# Print the number of countries reported in 2015\n",
        "print(df['2015'].count())\n",
        "\n",
        "# Print the 5th and 95th percentiles\n",
        "print(df.quantile([0.05,0.95]))\n",
        "\n",
        "# Generate a box plot\n",
        "years = ['1800','1850','1900','1950','2000']\n",
        "df[years].plot(kind='box')\n",
        "plt.show()"
      ],
      "execution_count": 0,
      "outputs": [
        {
          "output_type": "stream",
          "text": [
            "208\n",
            "       1800   1801   1802  1803  1804  ...    2012    2013   2014    2015     2016\n",
            "0.05  25.40  25.30  25.20  25.2  25.2  ...  56.335  56.705  56.87  57.855  59.2555\n",
            "0.95  37.92  37.35  38.37  38.0  38.3  ...  81.665  81.830  82.00  82.100  82.1650\n",
            "\n",
            "[2 rows x 217 columns]\n"
          ],
          "name": "stdout"
        },
        {
          "output_type": "display_data",
          "data": {
            "image/png": "[encoded data removed]",
            "text/plain": [
              "<Figure size 432x288 with 1 Axes>"
            ]
          },
          "metadata": {
            "tags": []
          }
        }
      ]
    },
    {
      "cell_type": "markdown",
      "metadata": {
        "id": "gnFlKMBNU_EB",
        "colab_type": "text"
      },
      "source": [
        "## Separating populations with Boolean indexing"
      ]
    },
    {
      "cell_type": "markdown",
      "metadata": {
        "id": "1hGsXhTpWa_0",
        "colab_type": "text"
      },
      "source": [
        "How many automobiles were manufactured in Asia in the automobile dataset? The DataFrame has been provided for you as df. Use filtering and the .count() member method to determine the number of rows where the 'origin' column has the value 'Asia'.\n",
        "\n",
        "As an example, you can extract the rows that contain 'US' as the country of origin using df[df['origin'] == 'US']\n",
        "\n",
        "df[df['origin']=='Asia'].count()"
      ]
    },
    {
      "cell_type": "code",
      "metadata": {
        "id": "uPH7WQwEU-jr",
        "colab_type": "code",
        "colab": {}
      },
      "source": [
        "import numpy as np\n",
        "\n",
        "x={'a':[1,2,3,4,5],\n",
        "'b':[3,4,5,6,np.nan],\n",
        "'c':[1,2,3,1,1]}"
      ],
      "execution_count": 0,
      "outputs": []
    },
    {
      "cell_type": "code",
      "metadata": {
        "id": "Yg7KUBd-Um6x",
        "colab_type": "code",
        "outputId": "1dcdcea5-ab0a-40a6-9339-dbe4f3b0aa81",
        "colab": {
          "base_uri": "https://localhost:8080/",
          "height": 204
        }
      },
      "source": [
        "df = pd.DataFrame(x)\n",
        "df"
      ],
      "execution_count": 0,
      "outputs": [
        {
          "output_type": "execute_result",
          "data": {
            "text/html": [
              "<div>\n",
              "<style scoped>\n",
              "    .dataframe tbody tr th:only-of-type {\n",
              "        vertical-align: middle;\n",
              "    }\n",
              "\n",
              "    .dataframe tbody tr th {\n",
              "        vertical-align: top;\n",
              "    }\n",
              "\n",
              "    .dataframe thead th {\n",
              "        text-align: right;\n",
              "    }\n",
              "</style>\n",
              "<table border=\"1\" class=\"dataframe\">\n",
              "  <thead>\n",
              "    <tr style=\"text-align: right;\">\n",
              "      <th></th>\n",
              "      <th>a</th>\n",
              "      <th>b</th>\n",
              "      <th>c</th>\n",
              "    </tr>\n",
              "  </thead>\n",
              "  <tbody>\n",
              "    <tr>\n",
              "      <th>0</th>\n",
              "      <td>1</td>\n",
              "      <td>3.0</td>\n",
              "      <td>1</td>\n",
              "    </tr>\n",
              "    <tr>\n",
              "      <th>1</th>\n",
              "      <td>2</td>\n",
              "      <td>4.0</td>\n",
              "      <td>2</td>\n",
              "    </tr>\n",
              "    <tr>\n",
              "      <th>2</th>\n",
              "      <td>3</td>\n",
              "      <td>5.0</td>\n",
              "      <td>3</td>\n",
              "    </tr>\n",
              "    <tr>\n",
              "      <th>3</th>\n",
              "      <td>4</td>\n",
              "      <td>6.0</td>\n",
              "      <td>1</td>\n",
              "    </tr>\n",
              "    <tr>\n",
              "      <th>4</th>\n",
              "      <td>5</td>\n",
              "      <td>NaN</td>\n",
              "      <td>1</td>\n",
              "    </tr>\n",
              "  </tbody>\n",
              "</table>\n",
              "</div>"
            ],
            "text/plain": [
              "   a    b  c\n",
              "0  1  3.0  1\n",
              "1  2  4.0  2\n",
              "2  3  5.0  3\n",
              "3  4  6.0  1\n",
              "4  5  NaN  1"
            ]
          },
          "metadata": {
            "tags": []
          },
          "execution_count": 108
        }
      ]
    },
    {
      "cell_type": "code",
      "metadata": {
        "id": "L5QQ1tebXa6G",
        "colab_type": "code",
        "outputId": "5bb1bc35-b907-4f83-fa1a-3b85d3345617",
        "colab": {
          "base_uri": "https://localhost:8080/",
          "height": 85
        }
      },
      "source": [
        "df[df['c']==1].count()"
      ],
      "execution_count": 0,
      "outputs": [
        {
          "output_type": "execute_result",
          "data": {
            "text/plain": [
              "a    3\n",
              "b    2\n",
              "c    3\n",
              "dtype: int64"
            ]
          },
          "metadata": {
            "tags": []
          },
          "execution_count": 109
        }
      ]
    },
    {
      "cell_type": "code",
      "metadata": {
        "id": "pRelqYSWXepF",
        "colab_type": "code",
        "outputId": "a18c9431-d9b8-4ca5-93a4-805c83fc2c7f",
        "colab": {
          "base_uri": "https://localhost:8080/",
          "height": 272
        }
      },
      "source": [
        "url = 'https://assets.datacamp.com/production/repositories/497/datasets/e280ed94bf4539afb57d8b1cbcc14bcf660d3c63/titanic.csv'\n",
        "titanic = pd.read_csv(url)\n",
        "titanic.head()"
      ],
      "execution_count": 0,
      "outputs": [
        {
          "output_type": "execute_result",
          "data": {
            "text/html": [
              "<div>\n",
              "<style scoped>\n",
              "    .dataframe tbody tr th:only-of-type {\n",
              "        vertical-align: middle;\n",
              "    }\n",
              "\n",
              "    .dataframe tbody tr th {\n",
              "        vertical-align: top;\n",
              "    }\n",
              "\n",
              "    .dataframe thead th {\n",
              "        text-align: right;\n",
              "    }\n",
              "</style>\n",
              "<table border=\"1\" class=\"dataframe\">\n",
              "  <thead>\n",
              "    <tr style=\"text-align: right;\">\n",
              "      <th></th>\n",
              "      <th>pclass</th>\n",
              "      <th>survived</th>\n",
              "      <th>name</th>\n",
              "      <th>sex</th>\n",
              "      <th>age</th>\n",
              "      <th>sibsp</th>\n",
              "      <th>parch</th>\n",
              "      <th>ticket</th>\n",
              "      <th>fare</th>\n",
              "      <th>cabin</th>\n",
              "      <th>embarked</th>\n",
              "      <th>boat</th>\n",
              "      <th>body</th>\n",
              "      <th>home.dest</th>\n",
              "    </tr>\n",
              "  </thead>\n",
              "  <tbody>\n",
              "    <tr>\n",
              "      <th>0</th>\n",
              "      <td>1</td>\n",
              "      <td>1</td>\n",
              "      <td>Allen, Miss. Elisabeth Walton</td>\n",
              "      <td>female</td>\n",
              "      <td>29.00</td>\n",
              "      <td>0</td>\n",
              "      <td>0</td>\n",
              "      <td>24160</td>\n",
              "      <td>211.3375</td>\n",
              "      <td>B5</td>\n",
              "      <td>S</td>\n",
              "      <td>2</td>\n",
              "      <td>NaN</td>\n",
              "      <td>St Louis, MO</td>\n",
              "    </tr>\n",
              "    <tr>\n",
              "      <th>1</th>\n",
              "      <td>1</td>\n",
              "      <td>1</td>\n",
              "      <td>Allison, Master. Hudson Trevor</td>\n",
              "      <td>male</td>\n",
              "      <td>0.92</td>\n",
              "      <td>1</td>\n",
              "      <td>2</td>\n",
              "      <td>113781</td>\n",
              "      <td>151.5500</td>\n",
              "      <td>C22 C26</td>\n",
              "      <td>S</td>\n",
              "      <td>11</td>\n",
              "      <td>NaN</td>\n",
              "      <td>Montreal, PQ / Chesterville, ON</td>\n",
              "    </tr>\n",
              "    <tr>\n",
              "      <th>2</th>\n",
              "      <td>1</td>\n",
              "      <td>0</td>\n",
              "      <td>Allison, Miss. Helen Loraine</td>\n",
              "      <td>female</td>\n",
              "      <td>2.00</td>\n",
              "      <td>1</td>\n",
              "      <td>2</td>\n",
              "      <td>113781</td>\n",
              "      <td>151.5500</td>\n",
              "      <td>C22 C26</td>\n",
              "      <td>S</td>\n",
              "      <td>NaN</td>\n",
              "      <td>NaN</td>\n",
              "      <td>Montreal, PQ / Chesterville, ON</td>\n",
              "    </tr>\n",
              "    <tr>\n",
              "      <th>3</th>\n",
              "      <td>1</td>\n",
              "      <td>0</td>\n",
              "      <td>Allison, Mr. Hudson Joshua Creighton</td>\n",
              "      <td>male</td>\n",
              "      <td>30.00</td>\n",
              "      <td>1</td>\n",
              "      <td>2</td>\n",
              "      <td>113781</td>\n",
              "      <td>151.5500</td>\n",
              "      <td>C22 C26</td>\n",
              "      <td>S</td>\n",
              "      <td>NaN</td>\n",
              "      <td>135.0</td>\n",
              "      <td>Montreal, PQ / Chesterville, ON</td>\n",
              "    </tr>\n",
              "    <tr>\n",
              "      <th>4</th>\n",
              "      <td>1</td>\n",
              "      <td>0</td>\n",
              "      <td>Allison, Mrs. Hudson J C (Bessie Waldo Daniels)</td>\n",
              "      <td>female</td>\n",
              "      <td>25.00</td>\n",
              "      <td>1</td>\n",
              "      <td>2</td>\n",
              "      <td>113781</td>\n",
              "      <td>151.5500</td>\n",
              "      <td>C22 C26</td>\n",
              "      <td>S</td>\n",
              "      <td>NaN</td>\n",
              "      <td>NaN</td>\n",
              "      <td>Montreal, PQ / Chesterville, ON</td>\n",
              "    </tr>\n",
              "  </tbody>\n",
              "</table>\n",
              "</div>"
            ],
            "text/plain": [
              "   pclass  survived  ...   body                        home.dest\n",
              "0       1         1  ...    NaN                     St Louis, MO\n",
              "1       1         1  ...    NaN  Montreal, PQ / Chesterville, ON\n",
              "2       1         0  ...    NaN  Montreal, PQ / Chesterville, ON\n",
              "3       1         0  ...  135.0  Montreal, PQ / Chesterville, ON\n",
              "4       1         0  ...    NaN  Montreal, PQ / Chesterville, ON\n",
              "\n",
              "[5 rows x 14 columns]"
            ]
          },
          "metadata": {
            "tags": []
          },
          "execution_count": 113
        }
      ]
    },
    {
      "cell_type": "code",
      "metadata": {
        "id": "lrw4-_-DY67x",
        "colab_type": "code",
        "outputId": "17cb6a28-6ca9-40b5-a269-0566af46ff06",
        "colab": {
          "base_uri": "https://localhost:8080/",
          "height": 269
        }
      },
      "source": [
        "# Display the box plots on 3 separate rows and 1 column\n",
        "fig, axes = plt.subplots(nrows=3, ncols=1)\n",
        "\n",
        "# Generate a box plot of the fare prices for the First passenger class\n",
        "titanic.loc[titanic['pclass'] == 1].plot(ax=axes[0], y='fare', kind='box')\n",
        "\n",
        "# Generate a box plot of the fare prices for the Second passenger class\n",
        "titanic.loc[titanic['pclass'] == 2].plot(ax=axes[1], y='fare', kind='box')\n",
        "\n",
        "# Generate a box plot of the fare prices for the Third passenger class\n",
        "titanic.loc[titanic['pclass'] == 3].plot(ax=axes[2], y='fare', kind='box')\n",
        "\n",
        "# Display the plot\n",
        "plt.show()"
      ],
      "execution_count": 0,
      "outputs": [
        {
          "output_type": "display_data",
          "data": {
            "image/png": "[encoded data removed]",
            "text/plain": [
              "<Figure size 432x288 with 3 Axes>"
            ]
          },
          "metadata": {
            "tags": []
          }
        }
      ]
    },
    {
      "cell_type": "code",
      "metadata": {
        "id": "l4Ey_vveZJXY",
        "colab_type": "code",
        "colab": {}
      },
      "source": [
        ""
      ],
      "execution_count": 0,
      "outputs": []
    },
    {
      "cell_type": "markdown",
      "metadata": {
        "id": "jjDmnTenZjEH",
        "colab_type": "text"
      },
      "source": [
        "# Time Series in Pandas"
      ]
    },
    {
      "cell_type": "markdown",
      "metadata": {
        "id": "Mi1vcYeULaBq",
        "colab_type": "text"
      },
      "source": [
        "For this exercise, we have read in the same data file using three different approaches:\n",
        "\n",
        "- df1 = pd.read_csv(filename)\n",
        "\n",
        "- df2 = pd.read_csv(filename, parse_dates=['Date'])\n",
        "\n",
        "- df3 = pd.read_csv(filename, index_col='Date', parse_dates=True)\n",
        "\n",
        "Use the .head() and .info() methods in the IPython Shell to inspect the DataFrames. Then, try to index each DataFrame with a datetime string. Which of the resulting DataFrames allows you to easily index and slice data by dates using, for example, df1.loc['2010-Aug-01']?\n",
        "\n",
        "\n",
        "- Ans: df1"
      ]
    },
    {
      "cell_type": "markdown",
      "metadata": {
        "id": "LgWTY2MwhQdc",
        "colab_type": "text"
      },
      "source": [
        "### Creating and using a DatetimeIndex\n",
        "\n",
        "\n",
        "The pandas Index is a powerful way to handle time series data, so it is valuable to know how to build one yourself. Pandas provides the pd.to_datetime() function for just this task. For example, if passed the list of strings ['2015-01-01 091234','2015-01-01 091234'] and a format specification variable, such as format='%Y-%m-%d %H%M%S, pandas will parse the string into the proper datetime elements and build the datetime objects.\n",
        "\n",
        "In this exercise, a list of temperature data and a list of date strings has been pre-loaded for you as temperature_list and date_list respectively. Your job is to use the .to_datetime() method to build a DatetimeIndex out of the list of date strings, and to then use it along with the list of temperature data to build a pandas Series."
      ]
    },
    {
      "cell_type": "code",
      "metadata": {
        "colab_type": "code",
        "outputId": "a37533e8-a4cc-4edf-a58e-bed2b6bf392d",
        "id": "SlstouJrhyMi",
        "colab": {
          "base_uri": "https://localhost:8080/",
          "height": 34
        }
      },
      "source": [
        "temperature_list=[46.2,\n",
        " 44.6,\n",
        " 44.1,\n",
        " 43.8,\n",
        " 43.5,\n",
        " 43.0,\n",
        " 43.1,\n",
        " 42.3,\n",
        " 42.5,\n",
        " 45.9,\n",
        " 49.4,\n",
        " 52.4,\n",
        " 54.9,\n",
        " 57.1,\n",
        " 58.4,\n",
        " 59.1,\n",
        " 59.1,\n",
        " 58.0,\n",
        " 54.5]\n",
        "date_list=['20100210 04:00',\n",
        " '20100210 05:00',\n",
        " '20100210 06:00',\n",
        " '20100210 07:00',\n",
        " '20100210 08:00',\n",
        " '20100210 09:00',\n",
        " '20100210 10:00',\n",
        " '20100210 11:00',\n",
        " '20100210 12:00',\n",
        " '20100210 13:00',\n",
        " '20100210 14:00',\n",
        " '20100210 15:00',\n",
        " '20100210 16:00',\n",
        " '20100210 17:00',\n",
        " '20100210 18:00',\n",
        " '20100210 19:00',\n",
        " '20100210 20:00',\n",
        " '20100210 21:00',\n",
        " '20100210 22:00',\n",
        " '20100210 23:00',\n",
        " '20100211 00:00',\n",
        " '20100211 01:00',\n",
        " '20100211 02:00',\n",
        " '20100211 03:00',\n",
        " '20100211 04:00',\n",
        " '20100211 05:00',\n",
        " '20100211 06:00',\n",
        " '20100211 07:00',\n",
        " '20100211 08:00',\n",
        " '20100211 09:00',\n",
        " '20100211 10:00',\n",
        " '20100211 11:00',\n",
        " '20100211 12:00',\n",
        " '20100211 13:00']\n",
        "\n",
        "mn = min(len(date_list),len(temperature_list))\n",
        "\n",
        "date_list=date_list[:mn]\n",
        "temperature_list=temperature_list[:mn]\n",
        "\n",
        "mn"
      ],
      "execution_count": 0,
      "outputs": [
        {
          "output_type": "execute_result",
          "data": {
            "text/plain": [
              "19"
            ]
          },
          "metadata": {
            "tags": []
          },
          "execution_count": 10
        }
      ]
    },
    {
      "cell_type": "code",
      "metadata": {
        "id": "sWfL6A3-i5v7",
        "colab_type": "code",
        "colab": {}
      },
      "source": [
        "import pandas as pd"
      ],
      "execution_count": 0,
      "outputs": []
    },
    {
      "cell_type": "code",
      "metadata": {
        "id": "rsNoDuNniSgW",
        "colab_type": "code",
        "colab": {}
      },
      "source": [
        "# Prepare a format string: time_format\n",
        "time_format = '%Y-%m-%d %H:%M'\n",
        "\n",
        "# Convert date_list into a datetime object: my_datetimes\n",
        "my_datetimes = pd.to_datetime(date_list, format=time_format)  \n",
        "\n",
        "# Construct a pandas Series using temperature_list and my_datetimes: time_series\n",
        "time_series = pd.Series(temperature_list, index=my_datetimes)"
      ],
      "execution_count": 0,
      "outputs": []
    },
    {
      "cell_type": "code",
      "metadata": {
        "id": "9f-Yksx-i4xG",
        "colab_type": "code",
        "outputId": "e1340275-de25-4cc1-d2bd-dad4a5b4dfcb",
        "colab": {
          "base_uri": "https://localhost:8080/",
          "height": 204
        }
      },
      "source": [
        "my_datetimes"
      ],
      "execution_count": 0,
      "outputs": [
        {
          "output_type": "execute_result",
          "data": {
            "text/plain": [
              "DatetimeIndex(['2010-02-10 04:00:00', '2010-02-10 05:00:00',\n",
              "               '2010-02-10 06:00:00', '2010-02-10 07:00:00',\n",
              "               '2010-02-10 08:00:00', '2010-02-10 09:00:00',\n",
              "               '2010-02-10 10:00:00', '2010-02-10 11:00:00',\n",
              "               '2010-02-10 12:00:00', '2010-02-10 13:00:00',\n",
              "               '2010-02-10 14:00:00', '2010-02-10 15:00:00',\n",
              "               '2010-02-10 16:00:00', '2010-02-10 17:00:00',\n",
              "               '2010-02-10 18:00:00', '2010-02-10 19:00:00',\n",
              "               '2010-02-10 20:00:00', '2010-02-10 21:00:00',\n",
              "               '2010-02-10 22:00:00'],\n",
              "              dtype='datetime64[ns]', freq=None)"
            ]
          },
          "metadata": {
            "tags": []
          },
          "execution_count": 9
        }
      ]
    },
    {
      "cell_type": "code",
      "metadata": {
        "id": "OvjpJoj5i9Kq",
        "colab_type": "code",
        "outputId": "00502bcf-1cdf-464e-8806-35815431aa43",
        "colab": {
          "base_uri": "https://localhost:8080/",
          "height": 357
        }
      },
      "source": [
        "time_series"
      ],
      "execution_count": 0,
      "outputs": [
        {
          "output_type": "execute_result",
          "data": {
            "text/plain": [
              "2010-02-10 04:00:00    46.2\n",
              "2010-02-10 05:00:00    44.6\n",
              "2010-02-10 06:00:00    44.1\n",
              "2010-02-10 07:00:00    43.8\n",
              "2010-02-10 08:00:00    43.5\n",
              "2010-02-10 09:00:00    43.0\n",
              "2010-02-10 10:00:00    43.1\n",
              "2010-02-10 11:00:00    42.3\n",
              "2010-02-10 12:00:00    42.5\n",
              "2010-02-10 13:00:00    45.9\n",
              "2010-02-10 14:00:00    49.4\n",
              "2010-02-10 15:00:00    52.4\n",
              "2010-02-10 16:00:00    54.9\n",
              "2010-02-10 17:00:00    57.1\n",
              "2010-02-10 18:00:00    58.4\n",
              "2010-02-10 19:00:00    59.1\n",
              "2010-02-10 20:00:00    59.1\n",
              "2010-02-10 21:00:00    58.0\n",
              "2010-02-10 22:00:00    54.5\n",
              "dtype: float64"
            ]
          },
          "metadata": {
            "tags": []
          },
          "execution_count": 10
        }
      ]
    },
    {
      "cell_type": "markdown",
      "metadata": {
        "id": "-WhHlr_ikSH6",
        "colab_type": "text"
      },
      "source": [
        "### Partial string indexing and slicing\n",
        "Pandas time series support \"partial string\" indexing. What this means is that even when passed only a portion of the datetime, such as the date but not the time, pandas is remarkably good at doing what one would expect. Pandas datetime indexing also supports a wide variety of commonly used datetime string formats, even when mixed.\n",
        "\n",
        "In this exercise, a time series that contains hourly weather data has been pre-loaded for you. This data was read using the parse_dates=True option in read_csv() with index_col=\"Dates\" so that the Index is indeed a DatetimeIndex.\n",
        "\n",
        "All data from the 'Temperature' column has been extracted into the variable ts0. Your job is to use a variety of natural date strings to extract one or more values from ts0.\n",
        "\n",
        "After you are done, you will have three new variables - ts1, ts2, and ts3. You can slice these further to extract only the first and last entries of each. Try doing this after your submission for more practice."
      ]
    },
    {
      "cell_type": "markdown",
      "metadata": {
        "id": "-uy_mMtIkyWW",
        "colab_type": "text"
      },
      "source": [
        "- Extract data from ts0 for a single hour - the hour from 9pm to 10pm on 2010-10-11. Assign it to ts1.\n",
        "- Extract data from ts0 for a single day - July 4th, 2010 - and assign it to ts2.\n",
        "- Extract data from ts0 for the second half of December 2010 - 12/15/2010 to 12/31/2010. Assign it to ts3."
      ]
    },
    {
      "cell_type": "code",
      "metadata": {
        "id": "AEeZPaH9jD-s",
        "colab_type": "code",
        "colab": {}
      },
      "source": [
        "'''\n",
        "MOCK\n",
        "'''\n",
        "\n",
        "# Extract the hour from 9pm to 10pm on '2010-10-11': ts1\n",
        "ts1 = ts0.loc['2010-10-11 21:00:00':'2010-10-11 22:00:00']\n",
        "\n",
        "# Extract '2010-07-04' from ts0: ts2\n",
        "ts2 = ts0.loc['July 4 2010']\n",
        "\n",
        "# Extract data from '2010-12-15' to '2010-12-31': ts3\n",
        "ts3 = ts0.loc['2010-12-15' : '2010-12-31']"
      ],
      "execution_count": 0,
      "outputs": []
    },
    {
      "cell_type": "markdown",
      "metadata": {
        "id": "gfecf8UrlXXr",
        "colab_type": "text"
      },
      "source": [
        "### Reindexing the Index\n",
        "Reindexing is useful in preparation for adding or otherwise combining two time series data sets. To reindex the data, we provide a new index and ask pandas to try and match the old data to the new index. If data is unavailable for one of the new index dates or times, you must tell pandas how to fill it in. Otherwise, pandas will fill with NaN by default.\n",
        "\n",
        "In this exercise, two time series data sets containing daily data have been pre-loaded for you, each indexed by dates. The first, ts1, includes weekends, but the second, ts2, does not. The goal is to combine the two data sets in a sensible way. Your job is to reindex the second data set so that it has weekends as well, and then add it to the first. When you are done, it would be informative to inspect your results."
      ]
    },
    {
      "cell_type": "markdown",
      "metadata": {
        "id": "Vs9XrgPfssJw",
        "colab_type": "text"
      },
      "source": [
        "- Create a new time series ts3 by reindexing ts2 with the index of ts1. To do this, call .reindex() on ts2 and pass in the index of ts1 (ts1.index).\n",
        "- Create another new time series, ts4, by calling the same .reindex() as above, but also specifiying a fill method, using the keyword argument method=\"ffill\" to forward-fill values.\n",
        "- Add ts1 + ts2. Assign the result to sum12.\n",
        "- Add ts1 + ts3. Assign the result to sum13.\n",
        "- Add ts1 + ts4, Assign the result to sum14."
      ]
    },
    {
      "cell_type": "code",
      "metadata": {
        "id": "0-4vYXQgtFT0",
        "colab_type": "code",
        "outputId": "25d48ce9-2f43-4ee8-e707-76a70b557aee",
        "colab": {
          "base_uri": "https://localhost:8080/",
          "height": 170
        }
      },
      "source": [
        "ls = ['2016-07-01',\n",
        "'2016-07-02',\n",
        "'2016-07-03',\n",
        "'2016-07-04',\n",
        "'2016-07-05',\n",
        "'2016-07-06',\n",
        "'2016-07-07',\n",
        "'2016-07-08']\n",
        "\n",
        "date_format = '%Y-%m-%d'\n",
        "\n",
        "\n",
        "ts1 = pd.Series([i for i in range(0,len(ls))], index=pd.to_datetime(ls,format=date_format))\n",
        "ts1"
      ],
      "execution_count": 0,
      "outputs": [
        {
          "output_type": "execute_result",
          "data": {
            "text/plain": [
              "2016-07-01    0\n",
              "2016-07-02    1\n",
              "2016-07-03    2\n",
              "2016-07-04    3\n",
              "2016-07-05    4\n",
              "2016-07-06    5\n",
              "2016-07-07    6\n",
              "2016-07-08    7\n",
              "dtype: int64"
            ]
          },
          "metadata": {
            "tags": []
          },
          "execution_count": 17
        }
      ]
    },
    {
      "cell_type": "code",
      "metadata": {
        "id": "1iagUEofvrvc",
        "colab_type": "code",
        "outputId": "7f00a0a1-c862-4f15-9156-4d45d952fc33",
        "colab": {
          "base_uri": "https://localhost:8080/",
          "height": 119
        }
      },
      "source": [
        "ts2 = ts1.iloc[:5]\n",
        "ts2"
      ],
      "execution_count": 0,
      "outputs": [
        {
          "output_type": "execute_result",
          "data": {
            "text/plain": [
              "2016-07-01    0\n",
              "2016-07-02    1\n",
              "2016-07-03    2\n",
              "2016-07-04    3\n",
              "2016-07-05    4\n",
              "dtype: int64"
            ]
          },
          "metadata": {
            "tags": []
          },
          "execution_count": 19
        }
      ]
    },
    {
      "cell_type": "code",
      "metadata": {
        "id": "eFrg4YiClair",
        "colab_type": "code",
        "colab": {}
      },
      "source": [
        "# Reindex without fill method: ts3\n",
        "ts3 = ts2.reindex(ts1.index)\n",
        "\n",
        "# Reindex with fill method, using forward fill: ts4\n",
        "ts4 = ts2.reindex(ts1.index,method='ffill')\n",
        "\n",
        "# Combine ts1 + ts2: sum12\n",
        "sum12 = ts1 + ts2\n",
        "\n",
        "# Combine ts1 + ts3: sum13\n",
        "sum13 = ts1 + ts3\n",
        "\n",
        "# Combine ts1 + ts4: sum14\n",
        "sum14 = ts1 + ts4"
      ],
      "execution_count": 0,
      "outputs": []
    },
    {
      "cell_type": "code",
      "metadata": {
        "id": "nnSs1fbrv5se",
        "colab_type": "code",
        "outputId": "4c7d2bda-4fc3-4768-dcb2-a3d53fbe25a1",
        "colab": {
          "base_uri": "https://localhost:8080/",
          "height": 170
        }
      },
      "source": [
        "ts3"
      ],
      "execution_count": 0,
      "outputs": [
        {
          "output_type": "execute_result",
          "data": {
            "text/plain": [
              "2016-07-01    0.0\n",
              "2016-07-02    1.0\n",
              "2016-07-03    2.0\n",
              "2016-07-04    3.0\n",
              "2016-07-05    4.0\n",
              "2016-07-06    NaN\n",
              "2016-07-07    NaN\n",
              "2016-07-08    NaN\n",
              "dtype: float64"
            ]
          },
          "metadata": {
            "tags": []
          },
          "execution_count": 21
        }
      ]
    },
    {
      "cell_type": "code",
      "metadata": {
        "id": "UPelo3cJv6-R",
        "colab_type": "code",
        "outputId": "9e302859-f8e8-4da1-b1ec-f763ac92c05a",
        "colab": {
          "base_uri": "https://localhost:8080/",
          "height": 170
        }
      },
      "source": [
        "ts4"
      ],
      "execution_count": 0,
      "outputs": [
        {
          "output_type": "execute_result",
          "data": {
            "text/plain": [
              "2016-07-01    0\n",
              "2016-07-02    1\n",
              "2016-07-03    2\n",
              "2016-07-04    3\n",
              "2016-07-05    4\n",
              "2016-07-06    4\n",
              "2016-07-07    4\n",
              "2016-07-08    4\n",
              "dtype: int64"
            ]
          },
          "metadata": {
            "tags": []
          },
          "execution_count": 22
        }
      ]
    },
    {
      "cell_type": "code",
      "metadata": {
        "id": "s36tPH3dv8l1",
        "colab_type": "code",
        "outputId": "8e7c7030-d028-4b40-b756-af8ba6a4b40d",
        "colab": {
          "base_uri": "https://localhost:8080/",
          "height": 170
        }
      },
      "source": [
        "sum12"
      ],
      "execution_count": 0,
      "outputs": [
        {
          "output_type": "execute_result",
          "data": {
            "text/plain": [
              "2016-07-01    0.0\n",
              "2016-07-02    2.0\n",
              "2016-07-03    4.0\n",
              "2016-07-04    6.0\n",
              "2016-07-05    8.0\n",
              "2016-07-06    NaN\n",
              "2016-07-07    NaN\n",
              "2016-07-08    NaN\n",
              "dtype: float64"
            ]
          },
          "metadata": {
            "tags": []
          },
          "execution_count": 23
        }
      ]
    },
    {
      "cell_type": "code",
      "metadata": {
        "id": "sssdqtQOv_Zh",
        "colab_type": "code",
        "outputId": "3d10a832-23bc-4d0c-a6d7-a65704e46192",
        "colab": {
          "base_uri": "https://localhost:8080/",
          "height": 170
        }
      },
      "source": [
        "sum13"
      ],
      "execution_count": 0,
      "outputs": [
        {
          "output_type": "execute_result",
          "data": {
            "text/plain": [
              "2016-07-01    0.0\n",
              "2016-07-02    2.0\n",
              "2016-07-03    4.0\n",
              "2016-07-04    6.0\n",
              "2016-07-05    8.0\n",
              "2016-07-06    NaN\n",
              "2016-07-07    NaN\n",
              "2016-07-08    NaN\n",
              "dtype: float64"
            ]
          },
          "metadata": {
            "tags": []
          },
          "execution_count": 24
        }
      ]
    },
    {
      "cell_type": "code",
      "metadata": {
        "id": "-y5AVxWywDFG",
        "colab_type": "code",
        "outputId": "464ca76a-211d-4ef6-ee4f-156c8e419d49",
        "colab": {
          "base_uri": "https://localhost:8080/",
          "height": 170
        }
      },
      "source": [
        "sum14"
      ],
      "execution_count": 0,
      "outputs": [
        {
          "output_type": "execute_result",
          "data": {
            "text/plain": [
              "2016-07-01     0\n",
              "2016-07-02     2\n",
              "2016-07-03     4\n",
              "2016-07-04     6\n",
              "2016-07-05     8\n",
              "2016-07-06     9\n",
              "2016-07-07    10\n",
              "2016-07-08    11\n",
              "dtype: int64"
            ]
          },
          "metadata": {
            "tags": []
          },
          "execution_count": 25
        }
      ]
    },
    {
      "cell_type": "markdown",
      "metadata": {
        "id": "MRsNAKeLwMSM",
        "colab_type": "text"
      },
      "source": [
        "### Resampling and frequency\n",
        "Pandas provides methods for resampling time series data. When downsampling or upsampling, the syntax is similar, but the methods called are different. Both use the concept of 'method chaining' - df.method1().method2().method3() - to direct the output from one method call to the input of the next, and so on, as a sequence of operations, one feeding into the next.\n",
        "\n",
        "For example, if you have hourly data, and just need daily data, pandas will not guess how to throw out the 23 of 24 points. You must specify this in the method. One approach, for instance, could be to take the mean, as in df.resample('D').mean().\n",
        "\n",
        "In this exercise, a data set containing hourly temperature data has been pre-loaded for you. Your job is to resample the data using a variety of aggregation methods to answer a few questions."
      ]
    },
    {
      "cell_type": "markdown",
      "metadata": {
        "id": "b3pVkf0Qxy6D",
        "colab_type": "text"
      },
      "source": [
        "Downsample the 'Temperature' column of df to 6 hour data using .resample('6h') and .mean(). Assign the result to df1.\n",
        "Downsample the 'Temperature' column of df to daily data using .resample('D') and then count the number of data points in each day with .count(). Assign the result df2."
      ]
    },
    {
      "cell_type": "code",
      "metadata": {
        "id": "2uKZQNyDwFl-",
        "colab_type": "code",
        "colab": {}
      },
      "source": [
        "url='https://assets.datacamp.com/production/repositories/497/datasets/4d7b2bc6b10b527dc297707fb92fa46b10ac1be5/weather_data_austin_2010.csv'\n",
        "\n",
        "df = pd.read_csv(url,index_col='Date')"
      ],
      "execution_count": 0,
      "outputs": []
    },
    {
      "cell_type": "code",
      "metadata": {
        "id": "9GqSx66JynGE",
        "colab_type": "code",
        "outputId": "8e654668-d98f-4bc2-fadb-c05c52bb9d2b",
        "colab": {
          "base_uri": "https://localhost:8080/",
          "height": 235
        }
      },
      "source": [
        "df.head()"
      ],
      "execution_count": 0,
      "outputs": [
        {
          "output_type": "execute_result",
          "data": {
            "text/html": [
              "<div>\n",
              "<style scoped>\n",
              "    .dataframe tbody tr th:only-of-type {\n",
              "        vertical-align: middle;\n",
              "    }\n",
              "\n",
              "    .dataframe tbody tr th {\n",
              "        vertical-align: top;\n",
              "    }\n",
              "\n",
              "    .dataframe thead th {\n",
              "        text-align: right;\n",
              "    }\n",
              "</style>\n",
              "<table border=\"1\" class=\"dataframe\">\n",
              "  <thead>\n",
              "    <tr style=\"text-align: right;\">\n",
              "      <th></th>\n",
              "      <th>Temperature</th>\n",
              "      <th>DewPoint</th>\n",
              "      <th>Pressure</th>\n",
              "    </tr>\n",
              "    <tr>\n",
              "      <th>Date</th>\n",
              "      <th></th>\n",
              "      <th></th>\n",
              "      <th></th>\n",
              "    </tr>\n",
              "  </thead>\n",
              "  <tbody>\n",
              "    <tr>\n",
              "      <th>20100101 00:00</th>\n",
              "      <td>46.2</td>\n",
              "      <td>37.5</td>\n",
              "      <td>1.0</td>\n",
              "    </tr>\n",
              "    <tr>\n",
              "      <th>20100101 01:00</th>\n",
              "      <td>44.6</td>\n",
              "      <td>37.1</td>\n",
              "      <td>1.0</td>\n",
              "    </tr>\n",
              "    <tr>\n",
              "      <th>20100101 02:00</th>\n",
              "      <td>44.1</td>\n",
              "      <td>36.9</td>\n",
              "      <td>1.0</td>\n",
              "    </tr>\n",
              "    <tr>\n",
              "      <th>20100101 03:00</th>\n",
              "      <td>43.8</td>\n",
              "      <td>36.9</td>\n",
              "      <td>1.0</td>\n",
              "    </tr>\n",
              "    <tr>\n",
              "      <th>20100101 04:00</th>\n",
              "      <td>43.5</td>\n",
              "      <td>36.8</td>\n",
              "      <td>1.0</td>\n",
              "    </tr>\n",
              "  </tbody>\n",
              "</table>\n",
              "</div>"
            ],
            "text/plain": [
              "                Temperature  DewPoint  Pressure\n",
              "Date                                           \n",
              "20100101 00:00         46.2      37.5       1.0\n",
              "20100101 01:00         44.6      37.1       1.0\n",
              "20100101 02:00         44.1      36.9       1.0\n",
              "20100101 03:00         43.8      36.9       1.0\n",
              "20100101 04:00         43.5      36.8       1.0"
            ]
          },
          "metadata": {
            "tags": []
          },
          "execution_count": 27
        }
      ]
    },
    {
      "cell_type": "code",
      "metadata": {
        "id": "lupCCeTUzNZI",
        "colab_type": "code",
        "colab": {}
      },
      "source": [
        "df.index=pd.to_datetime(df.index)"
      ],
      "execution_count": 0,
      "outputs": []
    },
    {
      "cell_type": "code",
      "metadata": {
        "id": "5NtUE--CzSK8",
        "colab_type": "code",
        "outputId": "b4e5ba07-b21c-41ce-f117-91bad38dc807",
        "colab": {
          "base_uri": "https://localhost:8080/",
          "height": 235
        }
      },
      "source": [
        "df.head()"
      ],
      "execution_count": 0,
      "outputs": [
        {
          "output_type": "execute_result",
          "data": {
            "text/html": [
              "<div>\n",
              "<style scoped>\n",
              "    .dataframe tbody tr th:only-of-type {\n",
              "        vertical-align: middle;\n",
              "    }\n",
              "\n",
              "    .dataframe tbody tr th {\n",
              "        vertical-align: top;\n",
              "    }\n",
              "\n",
              "    .dataframe thead th {\n",
              "        text-align: right;\n",
              "    }\n",
              "</style>\n",
              "<table border=\"1\" class=\"dataframe\">\n",
              "  <thead>\n",
              "    <tr style=\"text-align: right;\">\n",
              "      <th></th>\n",
              "      <th>Temperature</th>\n",
              "      <th>DewPoint</th>\n",
              "      <th>Pressure</th>\n",
              "    </tr>\n",
              "    <tr>\n",
              "      <th>Date</th>\n",
              "      <th></th>\n",
              "      <th></th>\n",
              "      <th></th>\n",
              "    </tr>\n",
              "  </thead>\n",
              "  <tbody>\n",
              "    <tr>\n",
              "      <th>2010-01-01 00:00:00</th>\n",
              "      <td>46.2</td>\n",
              "      <td>37.5</td>\n",
              "      <td>1.0</td>\n",
              "    </tr>\n",
              "    <tr>\n",
              "      <th>2010-01-01 01:00:00</th>\n",
              "      <td>44.6</td>\n",
              "      <td>37.1</td>\n",
              "      <td>1.0</td>\n",
              "    </tr>\n",
              "    <tr>\n",
              "      <th>2010-01-01 02:00:00</th>\n",
              "      <td>44.1</td>\n",
              "      <td>36.9</td>\n",
              "      <td>1.0</td>\n",
              "    </tr>\n",
              "    <tr>\n",
              "      <th>2010-01-01 03:00:00</th>\n",
              "      <td>43.8</td>\n",
              "      <td>36.9</td>\n",
              "      <td>1.0</td>\n",
              "    </tr>\n",
              "    <tr>\n",
              "      <th>2010-01-01 04:00:00</th>\n",
              "      <td>43.5</td>\n",
              "      <td>36.8</td>\n",
              "      <td>1.0</td>\n",
              "    </tr>\n",
              "  </tbody>\n",
              "</table>\n",
              "</div>"
            ],
            "text/plain": [
              "                     Temperature  DewPoint  Pressure\n",
              "Date                                                \n",
              "2010-01-01 00:00:00         46.2      37.5       1.0\n",
              "2010-01-01 01:00:00         44.6      37.1       1.0\n",
              "2010-01-01 02:00:00         44.1      36.9       1.0\n",
              "2010-01-01 03:00:00         43.8      36.9       1.0\n",
              "2010-01-01 04:00:00         43.5      36.8       1.0"
            ]
          },
          "metadata": {
            "tags": []
          },
          "execution_count": 32
        }
      ]
    },
    {
      "cell_type": "code",
      "metadata": {
        "id": "ZUMuQg-EyoN_",
        "colab_type": "code",
        "colab": {}
      },
      "source": [
        "# Downsample to 6 hour data and aggregate by mean: df1\n",
        "df1 = df['Temperature'].resample('6h').mean()\n",
        "\n",
        "# Downsample to daily data and count the number of data points: df2\n",
        "df2 = df['Temperature'].resample('D').count()"
      ],
      "execution_count": 0,
      "outputs": []
    },
    {
      "cell_type": "code",
      "metadata": {
        "id": "Zq08u3a6zESQ",
        "colab_type": "code",
        "outputId": "c052a94c-6fd7-429d-9d4e-f65e12fee1e3",
        "colab": {
          "base_uri": "https://localhost:8080/",
          "height": 136
        }
      },
      "source": [
        "df1.head()"
      ],
      "execution_count": 0,
      "outputs": [
        {
          "output_type": "execute_result",
          "data": {
            "text/plain": [
              "Date\n",
              "2010-01-01 00:00:00    44.200000\n",
              "2010-01-01 06:00:00    45.933333\n",
              "2010-01-01 12:00:00    57.766667\n",
              "2010-01-01 18:00:00    49.450000\n",
              "2010-01-02 00:00:00    44.516667\n",
              "Freq: 6H, Name: Temperature, dtype: float64"
            ]
          },
          "metadata": {
            "tags": []
          },
          "execution_count": 34
        }
      ]
    },
    {
      "cell_type": "code",
      "metadata": {
        "id": "dBw1eSrEzWdp",
        "colab_type": "code",
        "outputId": "36630729-7563-4dcb-9d45-99c376737c7d",
        "colab": {
          "base_uri": "https://localhost:8080/",
          "height": 136
        }
      },
      "source": [
        "df2.head()"
      ],
      "execution_count": 0,
      "outputs": [
        {
          "output_type": "execute_result",
          "data": {
            "text/plain": [
              "Date\n",
              "2010-01-01    24\n",
              "2010-01-02    24\n",
              "2010-01-03    24\n",
              "2010-01-04    24\n",
              "2010-01-05    24\n",
              "Freq: D, Name: Temperature, dtype: int64"
            ]
          },
          "metadata": {
            "tags": []
          },
          "execution_count": 35
        }
      ]
    },
    {
      "cell_type": "markdown",
      "metadata": {
        "id": "LOa2kM9fzcsZ",
        "colab_type": "text"
      },
      "source": [
        "### Separating and resampling\n",
        "With pandas, you can resample in different ways on different subsets of your data. For example, resampling different months of data with different aggregations. In this exercise, the data set containing hourly temperature data from the last exercise has been pre-loaded.\n",
        "\n",
        "Your job is to resample the data using a variety of aggregation methods. The DataFrame is available in the workspace as df. You will be working with the 'Temperature' column."
      ]
    },
    {
      "cell_type": "markdown",
      "metadata": {
        "id": "2C3NwAvQ1rVs",
        "colab_type": "text"
      },
      "source": [
        "- Use partial string indexing to extract temperature data for August 2010 into august.\n",
        "- Use the temperature data for August and downsample to find the daily maximum temperatures. Store the result in august_highs.\n",
        "- Use partial string indexing to extract temperature data for February 2010 into february.\n",
        "- Use the temperature data for February and downsample to find the daily minimum temperatures. Store the result in february_lows."
      ]
    },
    {
      "cell_type": "code",
      "metadata": {
        "id": "BneQnWIozXO_",
        "colab_type": "code",
        "colab": {}
      },
      "source": [
        "# Extract temperature data for August: august\n",
        "august = df['Temperature'].loc['2010 August']\n",
        "\n",
        "# Downsample to obtain only the daily highest temperatures in August: august_highs\n",
        "august_highs = august.resample('D').max()\n",
        "\n",
        "# Extract temperature data for February: february\n",
        "february = df['Temperature'].loc['2010 Feb']\n",
        "\n",
        "# Downsample to obtain the daily lowest temperatures in February: february_lows\n",
        "february_lows = february.resample('D').min()"
      ],
      "execution_count": 0,
      "outputs": []
    },
    {
      "cell_type": "code",
      "metadata": {
        "id": "HdXJotFc0oNE",
        "colab_type": "code",
        "outputId": "a839e555-cb90-4044-eb47-7b665511e348",
        "colab": {
          "base_uri": "https://localhost:8080/",
          "height": 578
        }
      },
      "source": [
        "august_highs"
      ],
      "execution_count": 0,
      "outputs": [
        {
          "output_type": "execute_result",
          "data": {
            "text/plain": [
              "Date\n",
              "2010-08-01    95.0\n",
              "2010-08-02    95.0\n",
              "2010-08-03    95.1\n",
              "2010-08-04    95.1\n",
              "2010-08-05    95.1\n",
              "2010-08-06    95.2\n",
              "2010-08-07    95.3\n",
              "2010-08-08    95.2\n",
              "2010-08-09    95.2\n",
              "2010-08-10    95.1\n",
              "2010-08-11    95.0\n",
              "2010-08-12    94.9\n",
              "2010-08-13    95.0\n",
              "2010-08-14    94.9\n",
              "2010-08-15    94.7\n",
              "2010-08-16    94.7\n",
              "2010-08-17    94.8\n",
              "2010-08-18    94.8\n",
              "2010-08-19    94.8\n",
              "2010-08-20    94.8\n",
              "2010-08-21    94.7\n",
              "2010-08-22    94.6\n",
              "2010-08-23    94.5\n",
              "2010-08-24    94.3\n",
              "2010-08-25    94.1\n",
              "2010-08-26    94.0\n",
              "2010-08-27    93.7\n",
              "2010-08-28    93.5\n",
              "2010-08-29    93.3\n",
              "2010-08-30    93.3\n",
              "2010-08-31    93.1\n",
              "Freq: D, Name: Temperature, dtype: float64"
            ]
          },
          "metadata": {
            "tags": []
          },
          "execution_count": 37
        }
      ]
    },
    {
      "cell_type": "code",
      "metadata": {
        "id": "xmZmW5o40pSi",
        "colab_type": "code",
        "outputId": "4216dc5e-46c7-4ab7-b4ba-4ba6032400cf",
        "colab": {
          "base_uri": "https://localhost:8080/",
          "height": 527
        }
      },
      "source": [
        "february_lows"
      ],
      "execution_count": 0,
      "outputs": [
        {
          "output_type": "execute_result",
          "data": {
            "text/plain": [
              "Date\n",
              "2010-02-01    43.8\n",
              "2010-02-02    44.3\n",
              "2010-02-03    44.6\n",
              "2010-02-04    44.5\n",
              "2010-02-05    44.3\n",
              "2010-02-06    44.1\n",
              "2010-02-07    44.3\n",
              "2010-02-08    44.7\n",
              "2010-02-09    44.7\n",
              "2010-02-10    44.9\n",
              "2010-02-11    45.2\n",
              "2010-02-12    45.5\n",
              "2010-02-13    46.0\n",
              "2010-02-14    46.6\n",
              "2010-02-15    46.9\n",
              "2010-02-16    47.1\n",
              "2010-02-17    47.2\n",
              "2010-02-18    47.2\n",
              "2010-02-19    47.4\n",
              "2010-02-20    47.7\n",
              "2010-02-21    47.6\n",
              "2010-02-22    47.7\n",
              "2010-02-23    47.7\n",
              "2010-02-24    48.1\n",
              "2010-02-25    48.4\n",
              "2010-02-26    48.5\n",
              "2010-02-27    48.6\n",
              "2010-02-28    48.6\n",
              "Freq: D, Name: Temperature, dtype: float64"
            ]
          },
          "metadata": {
            "tags": []
          },
          "execution_count": 38
        }
      ]
    },
    {
      "cell_type": "markdown",
      "metadata": {
        "id": "Flt-1RoE1p6a",
        "colab_type": "text"
      },
      "source": [
        "###Rolling mean and frequency\n",
        "In this exercise, some hourly weather data is pre-loaded for you. You will continue to practice resampling, this time using rolling means.\n",
        "\n",
        "Rolling means (or moving averages) are generally used to smooth out short-term fluctuations in time series data and highlight long-term trends. You can read more about them here.\n",
        "\n",
        "To use the .rolling() method, you must always use method chaining, first calling .rolling() and then chaining an aggregation method after it. For example, with a Series hourly_data, hourly_data.rolling(window=24).mean() would compute new values for each hourly point, based on a 24-hour window stretching out behind each point. The frequency of the output data is the same: it is still hourly. Such an operation is useful for smoothing time series data.\n",
        "\n",
        "Your job is to resample the data using the combination of .rolling() and .mean(). You will work with the same DataFrame df from the previous exercise."
      ]
    },
    {
      "cell_type": "markdown",
      "metadata": {
        "id": "XzP7wnMV1znX",
        "colab_type": "text"
      },
      "source": [
        "- Use partial string indexing to extract temperature data from August 1 2010 to August 15 2010. Assign to unsmoothed.\n",
        "- Use .rolling() with a 24 hour window to smooth the mean temperature data. Assign the result to smoothed.\n",
        "- Use a dictionary to create a new DataFrame august with the time series smoothed and unsmoothed as columns.\n",
        "- Plot both the columns of august as line plots using the .plot() method."
      ]
    },
    {
      "cell_type": "code",
      "metadata": {
        "id": "f7ncsZ1Q2jUm",
        "colab_type": "code",
        "colab": {}
      },
      "source": [
        "import matplotlib.pyplot as plt"
      ],
      "execution_count": 0,
      "outputs": []
    },
    {
      "cell_type": "code",
      "metadata": {
        "id": "lyKv4ZDF0qoF",
        "colab_type": "code",
        "outputId": "87929931-8dce-4a7c-d128-f28399cd8088",
        "colab": {
          "base_uri": "https://localhost:8080/",
          "height": 306
        }
      },
      "source": [
        "# Extract data from 2010-Aug-01 to 2010-Aug-15: unsmoothed\n",
        "unsmoothed = df['Temperature']['August 1 2010':'August 15 2010']\n",
        "\n",
        "# Apply a rolling mean with a 24 hour window: smoothed\n",
        "smoothed = unsmoothed.rolling(window=24).mean()\n",
        "\n",
        "# Create a new DataFrame with columns smoothed and unsmoothed: august\n",
        "august = pd.DataFrame({'smoothed':smoothed, 'unsmoothed':unsmoothed})\n",
        "\n",
        "# Plot both smoothed and unsmoothed data using august.plot().\n",
        "august.plot()\n",
        "plt.show()"
      ],
      "execution_count": 0,
      "outputs": [
        {
          "output_type": "display_data",
          "data": {
            "image/png": "[encoded data removed]",
            "text/plain": [
              "<Figure size 432x288 with 1 Axes>"
            ]
          },
          "metadata": {
            "tags": []
          }
        }
      ]
    },
    {
      "cell_type": "markdown",
      "metadata": {
        "id": "Ywvk9x362p3o",
        "colab_type": "text"
      },
      "source": [
        "###Resample and roll with it\n",
        "As of pandas version 0.18.0, the interface for applying rolling transformations to time series has become more consistent and flexible, and feels somewhat like a groupby (If you do not know what a groupby is, don't worry, you will learn about it in the next course!).\n",
        "\n",
        "You can now flexibly chain together resampling and rolling operations. In this exercise, the same weather data from the previous exercises has been pre-loaded for you. Your job is to extract one month of data, resample to find the daily high temperatures, and then use a rolling and aggregation operation to smooth the data."
      ]
    },
    {
      "cell_type": "markdown",
      "metadata": {
        "id": "uOZyxbsP2q_K",
        "colab_type": "text"
      },
      "source": [
        "- Use partial string indexing to extract August 2010 temperature data, and assign to august.\n",
        "- Resample to daily frequency, saving the maximum daily temperatures, and assign the result to daily_highs.\n",
        "- As part of one long method chain, repeat the above resampling (or you can re-use daily_highs) and then combine it with .rolling() to apply a 7 day .mean() (with window=7 inside .rolling()) so as to smooth the daily highs. Assign the result to daily_highs_smoothed and print the result."
      ]
    },
    {
      "cell_type": "code",
      "metadata": {
        "id": "oUZ8tpiN2fcU",
        "colab_type": "code",
        "outputId": "143f6b5d-e484-4b76-d2b8-cc7df5b5eceb",
        "colab": {
          "base_uri": "https://localhost:8080/",
          "height": 318
        }
      },
      "source": [
        "# Extract the August 2010 data: august\n",
        "august = df['Temperature']['2010 August']\n",
        "\n",
        "# Resample to daily data, aggregating by max: daily_highs\n",
        "daily_highs = august.resample('D').max()\n",
        "\n",
        "# Use a rolling 7-day window with method chaining to smooth the daily high temperatures in August\n",
        "daily_highs_smoothed = daily_highs.rolling(window=7).mean()\n",
        "# print(daily_highs_smoothed)\n",
        "pd.DataFrame({'unsmoothed':daily_highs, 'smoothed':daily_highs_smoothed}).plot();"
      ],
      "execution_count": 0,
      "outputs": [
        {
          "output_type": "display_data",
          "data": {
            "image/png": "[encoded data removed]",
            "text/plain": [
              "<Figure size 432x288 with 1 Axes>"
            ]
          },
          "metadata": {
            "tags": []
          }
        }
      ]
    },
    {
      "cell_type": "markdown",
      "metadata": {
        "id": "iTjyQtTO44SE",
        "colab_type": "text"
      },
      "source": [
        "###Method chaining and filtering\n",
        "We've seen that pandas supports method chaining. This technique can be very powerful when cleaning and filtering data.\n",
        "\n",
        "In this exercise, a DataFrame containing flight departure data for a single airline and a single airport for the month of July 2015 has been pre-loaded. Your job is to use .str() filtering and method chaining to generate summary statistics on flight delays each day to Dallas."
      ]
    },
    {
      "cell_type": "markdown",
      "metadata": {
        "id": "R0hvNUQt467B",
        "colab_type": "text"
      },
      "source": [
        "- Use .str.strip() to strip extra whitespace from df.columns. Assign the result back to df.columns.\n",
        "- In the 'Destination Airport' column, extract all entries where Dallas ('DAL') is the destination airport. Use .str.contains('DAL') for this and store the result in dallas.\n",
        "- Resample dallas such that you get the total number of departures each day. Store the result in daily_departures.\n",
        "- Generate summary statistics for daily Dallas departures using .describe(). Store the result in stats."
      ]
    },
    {
      "cell_type": "code",
      "metadata": {
        "id": "eZ_tEtyD3Mkt",
        "colab_type": "code",
        "outputId": "17dae90f-61d9-4326-823f-6496dbf29bf1",
        "colab": {
          "base_uri": "https://localhost:8080/",
          "height": 306
        }
      },
      "source": [
        "url='https://assets.datacamp.com/production/repositories/497/datasets/5b808399816c8dcb8eef08336595ef9b4eb22902/austin_airport_departure_data_2015_july.csv'\n",
        "\n",
        "df = pd.read_csv(url,header=10)\n",
        "df = df.drop(columns='Unnamed: 17')\n",
        "df.index=pd.to_datetime(df['Date (MM/DD/YYYY)'])\n",
        "df = df.drop(columns='Date (MM/DD/YYYY)')\n",
        "df.head()"
      ],
      "execution_count": 0,
      "outputs": [
        {
          "output_type": "execute_result",
          "data": {
            "text/html": [
              "<div>\n",
              "<style scoped>\n",
              "    .dataframe tbody tr th:only-of-type {\n",
              "        vertical-align: middle;\n",
              "    }\n",
              "\n",
              "    .dataframe tbody tr th {\n",
              "        vertical-align: top;\n",
              "    }\n",
              "\n",
              "    .dataframe thead th {\n",
              "        text-align: right;\n",
              "    }\n",
              "</style>\n",
              "<table border=\"1\" class=\"dataframe\">\n",
              "  <thead>\n",
              "    <tr style=\"text-align: right;\">\n",
              "      <th></th>\n",
              "      <th>Carrier Code</th>\n",
              "      <th>Flight Number</th>\n",
              "      <th>Tail Number</th>\n",
              "      <th>Destination Airport</th>\n",
              "      <th>Scheduled Departure Time</th>\n",
              "      <th>Actual Departure Time</th>\n",
              "      <th>Scheduled Elapsed Time(Minutes)</th>\n",
              "      <th>Actual Elapsed Time(Minutes)</th>\n",
              "      <th>Departure Delay(Minutes)</th>\n",
              "      <th>Wheels-off Time</th>\n",
              "      <th>Taxi-out Time(Minutes)</th>\n",
              "      <th>DelayCarrier(Minutes)</th>\n",
              "      <th>DelayWeather(Minutes)</th>\n",
              "      <th>DelayNational Aviation System(Minutes)</th>\n",
              "      <th>DelaySecurity(Minutes)</th>\n",
              "      <th>DelayLate Aircraft Arrival(Minutes)</th>\n",
              "    </tr>\n",
              "    <tr>\n",
              "      <th>Date (MM/DD/YYYY)</th>\n",
              "      <th></th>\n",
              "      <th></th>\n",
              "      <th></th>\n",
              "      <th></th>\n",
              "      <th></th>\n",
              "      <th></th>\n",
              "      <th></th>\n",
              "      <th></th>\n",
              "      <th></th>\n",
              "      <th></th>\n",
              "      <th></th>\n",
              "      <th></th>\n",
              "      <th></th>\n",
              "      <th></th>\n",
              "      <th></th>\n",
              "      <th></th>\n",
              "    </tr>\n",
              "  </thead>\n",
              "  <tbody>\n",
              "    <tr>\n",
              "      <th>2015-07-01</th>\n",
              "      <td>WN</td>\n",
              "      <td>103.0</td>\n",
              "      <td>N8607M</td>\n",
              "      <td>MDW</td>\n",
              "      <td>06:30</td>\n",
              "      <td>06:52</td>\n",
              "      <td>165.0</td>\n",
              "      <td>147.0</td>\n",
              "      <td>22.0</td>\n",
              "      <td>07:01</td>\n",
              "      <td>9.0</td>\n",
              "      <td>0.0</td>\n",
              "      <td>0.0</td>\n",
              "      <td>0.0</td>\n",
              "      <td>0.0</td>\n",
              "      <td>0.0</td>\n",
              "    </tr>\n",
              "    <tr>\n",
              "      <th>2015-07-01</th>\n",
              "      <td>WN</td>\n",
              "      <td>144.0</td>\n",
              "      <td>N8609A</td>\n",
              "      <td>SAN</td>\n",
              "      <td>20:55</td>\n",
              "      <td>20:50</td>\n",
              "      <td>170.0</td>\n",
              "      <td>158.0</td>\n",
              "      <td>-5.0</td>\n",
              "      <td>21:03</td>\n",
              "      <td>13.0</td>\n",
              "      <td>0.0</td>\n",
              "      <td>0.0</td>\n",
              "      <td>0.0</td>\n",
              "      <td>0.0</td>\n",
              "      <td>0.0</td>\n",
              "    </tr>\n",
              "    <tr>\n",
              "      <th>2015-07-01</th>\n",
              "      <td>WN</td>\n",
              "      <td>178.0</td>\n",
              "      <td>N646SW</td>\n",
              "      <td>ELP</td>\n",
              "      <td>20:30</td>\n",
              "      <td>20:45</td>\n",
              "      <td>90.0</td>\n",
              "      <td>80.0</td>\n",
              "      <td>15.0</td>\n",
              "      <td>20:55</td>\n",
              "      <td>10.0</td>\n",
              "      <td>0.0</td>\n",
              "      <td>0.0</td>\n",
              "      <td>0.0</td>\n",
              "      <td>0.0</td>\n",
              "      <td>0.0</td>\n",
              "    </tr>\n",
              "    <tr>\n",
              "      <th>2015-07-01</th>\n",
              "      <td>WN</td>\n",
              "      <td>232.0</td>\n",
              "      <td>N204WN</td>\n",
              "      <td>ATL</td>\n",
              "      <td>05:45</td>\n",
              "      <td>05:49</td>\n",
              "      <td>135.0</td>\n",
              "      <td>137.0</td>\n",
              "      <td>4.0</td>\n",
              "      <td>06:01</td>\n",
              "      <td>12.0</td>\n",
              "      <td>0.0</td>\n",
              "      <td>0.0</td>\n",
              "      <td>0.0</td>\n",
              "      <td>0.0</td>\n",
              "      <td>0.0</td>\n",
              "    </tr>\n",
              "    <tr>\n",
              "      <th>2015-07-01</th>\n",
              "      <td>WN</td>\n",
              "      <td>238.0</td>\n",
              "      <td>N233LV</td>\n",
              "      <td>DAL</td>\n",
              "      <td>12:30</td>\n",
              "      <td>12:34</td>\n",
              "      <td>55.0</td>\n",
              "      <td>48.0</td>\n",
              "      <td>4.0</td>\n",
              "      <td>12:41</td>\n",
              "      <td>7.0</td>\n",
              "      <td>0.0</td>\n",
              "      <td>0.0</td>\n",
              "      <td>0.0</td>\n",
              "      <td>0.0</td>\n",
              "      <td>0.0</td>\n",
              "    </tr>\n",
              "  </tbody>\n",
              "</table>\n",
              "</div>"
            ],
            "text/plain": [
              "                    Carrier Code  ...  DelayLate Aircraft Arrival(Minutes)\n",
              "Date (MM/DD/YYYY)                 ...                                     \n",
              "2015-07-01                    WN  ...                                  0.0\n",
              "2015-07-01                    WN  ...                                  0.0\n",
              "2015-07-01                    WN  ...                                  0.0\n",
              "2015-07-01                    WN  ...                                  0.0\n",
              "2015-07-01                    WN  ...                                  0.0\n",
              "\n",
              "[5 rows x 16 columns]"
            ]
          },
          "metadata": {
            "tags": []
          },
          "execution_count": 61
        }
      ]
    },
    {
      "cell_type": "code",
      "metadata": {
        "id": "R481gUwX5ZUD",
        "colab_type": "code",
        "outputId": "09c65637-1442-4475-f6b4-b93bec258ac6",
        "colab": {
          "base_uri": "https://localhost:8080/",
          "height": 34
        }
      },
      "source": [
        "len(df.columns)"
      ],
      "execution_count": 0,
      "outputs": [
        {
          "output_type": "execute_result",
          "data": {
            "text/plain": [
              "16"
            ]
          },
          "metadata": {
            "tags": []
          },
          "execution_count": 62
        }
      ]
    },
    {
      "cell_type": "code",
      "metadata": {
        "id": "IYnzlCvD66tP",
        "colab_type": "code",
        "outputId": "fd10f3ce-20f6-423e-d54e-37cfdf97741d",
        "colab": {
          "base_uri": "https://localhost:8080/",
          "height": 170
        }
      },
      "source": [
        "# Strip extra whitespace from the column names: df.columns\n",
        "df.columns = df.columns.str.strip()\n",
        "\n",
        "# Extract data for which the destination airport is Dallas: dallas\n",
        "dallas = df['Destination Airport'].str.contains('DAL')\n",
        "\n",
        "# Compute the total number of Dallas departures each day: daily_departures\n",
        "daily_departures = dallas.resample('D').sum()\n",
        "\n",
        "# Generate the summary statistics for daily Dallas departures: stats\n",
        "stats = daily_departures.describe()\n",
        "\n",
        "stats"
      ],
      "execution_count": 0,
      "outputs": [
        {
          "output_type": "execute_result",
          "data": {
            "text/plain": [
              "count    31.000000\n",
              "mean      9.322581\n",
              "std       1.989759\n",
              "min       3.000000\n",
              "25%       9.500000\n",
              "50%      10.000000\n",
              "75%      10.000000\n",
              "max      11.000000\n",
              "dtype: float64"
            ]
          },
          "metadata": {
            "tags": []
          },
          "execution_count": 63
        }
      ]
    },
    {
      "cell_type": "code",
      "metadata": {
        "id": "pZbCfXJZ-0bs",
        "colab_type": "code",
        "outputId": "424708c9-edb2-4e96-c607-87ed4cea347d",
        "colab": {
          "base_uri": "https://localhost:8080/",
          "height": 578
        }
      },
      "source": [
        "daily_departures"
      ],
      "execution_count": 0,
      "outputs": [
        {
          "output_type": "execute_result",
          "data": {
            "text/plain": [
              "Date (MM/DD/YYYY)\n",
              "2015-07-01    10\n",
              "2015-07-02    10\n",
              "2015-07-03    11\n",
              "2015-07-04     3\n",
              "2015-07-05     9\n",
              "2015-07-06    10\n",
              "2015-07-07    10\n",
              "2015-07-08    10\n",
              "2015-07-09    10\n",
              "2015-07-10    11\n",
              "2015-07-11     5\n",
              "2015-07-12     9\n",
              "2015-07-13    10\n",
              "2015-07-14    10\n",
              "2015-07-15    10\n",
              "2015-07-16    10\n",
              "2015-07-17    11\n",
              "2015-07-18     5\n",
              "2015-07-19     9\n",
              "2015-07-20    10\n",
              "2015-07-21    10\n",
              "2015-07-22    10\n",
              "2015-07-23    10\n",
              "2015-07-24    11\n",
              "2015-07-25     5\n",
              "2015-07-26     9\n",
              "2015-07-27    10\n",
              "2015-07-28    10\n",
              "2015-07-29    10\n",
              "2015-07-30    10\n",
              "2015-07-31    11\n",
              "dtype: int64"
            ]
          },
          "metadata": {
            "tags": []
          },
          "execution_count": 64
        }
      ]
    },
    {
      "cell_type": "markdown",
      "metadata": {
        "id": "PavD-DMq--MD",
        "colab_type": "text"
      },
      "source": [
        "###Missing values and interpolation\n",
        "One common application of interpolation in data analysis is to fill in missing data.\n",
        "\n",
        "In this exercise, noisy measured data that has some dropped or otherwise missing values has been loaded. The goal is to compare two time series, and then look at summary statistics of the differences. The problem is that one of the data sets is missing data at some of the times. The pre-loaded data ts1 has value for all times, yet the data set ts2 does not: it is missing data for the weekends.\n",
        "\n",
        "Your job is to first interpolate to fill in the data for all days. Then, compute the differences between the two data sets, now that they both have full support for all times. Finally, generate the summary statistics that describe the distribution of differences."
      ]
    },
    {
      "cell_type": "markdown",
      "metadata": {
        "id": "fTaVXBUW-_K4",
        "colab_type": "text"
      },
      "source": [
        "- Replace the index of ts2 with that of ts1, and then fill in the missing values of ts2 by using .interpolate(how='linear'). Save the result as ts2_interp.\n",
        "- Compute the difference between ts1 and ts2_interp. Take the absolute value of the difference with np.abs(), and assign the result to differences.\n",
        "- Generate and print summary statistics of the differences with .describe() and print()"
      ]
    },
    {
      "cell_type": "code",
      "metadata": {
        "id": "j4D8RyVa-2Ml",
        "colab_type": "code",
        "outputId": "df7e94a3-0eca-4cf4-8314-e56d6ad35b08",
        "colab": {
          "base_uri": "https://localhost:8080/",
          "height": 170
        }
      },
      "source": [
        "ts1"
      ],
      "execution_count": 0,
      "outputs": [
        {
          "output_type": "execute_result",
          "data": {
            "text/plain": [
              "2016-07-01    0\n",
              "2016-07-02    1\n",
              "2016-07-03    2\n",
              "2016-07-04    3\n",
              "2016-07-05    4\n",
              "2016-07-06    5\n",
              "2016-07-07    6\n",
              "2016-07-08    7\n",
              "dtype: int64"
            ]
          },
          "metadata": {
            "tags": []
          },
          "execution_count": 65
        }
      ]
    },
    {
      "cell_type": "code",
      "metadata": {
        "id": "X-gcMSrR_vEo",
        "colab_type": "code",
        "outputId": "b1703292-188a-4d8f-a632-1edaddfbbbff",
        "colab": {
          "base_uri": "https://localhost:8080/",
          "height": 119
        }
      },
      "source": [
        "ts2"
      ],
      "execution_count": 0,
      "outputs": [
        {
          "output_type": "execute_result",
          "data": {
            "text/plain": [
              "2016-07-01    0\n",
              "2016-07-02    1\n",
              "2016-07-03    2\n",
              "2016-07-04    3\n",
              "2016-07-05    4\n",
              "dtype: int64"
            ]
          },
          "metadata": {
            "tags": []
          },
          "execution_count": 66
        }
      ]
    },
    {
      "cell_type": "code",
      "metadata": {
        "id": "NxypqAwrABf7",
        "colab_type": "code",
        "colab": {}
      },
      "source": [
        "import numpy as np"
      ],
      "execution_count": 0,
      "outputs": []
    },
    {
      "cell_type": "code",
      "metadata": {
        "id": "yJK-Oj5w_viw",
        "colab_type": "code",
        "outputId": "c85273f0-a024-4951-be81-88b2e31d979c",
        "colab": {
          "base_uri": "https://localhost:8080/",
          "height": 170
        }
      },
      "source": [
        "# Reset the index of ts2 to ts1, and then use linear interpolation to fill in the NaNs: ts2_interp\n",
        "ts2_interp = ts2.reindex(ts1.index).interpolate(how='linear')\n",
        "\n",
        "# Compute the absolute difference of ts1 and ts2_interp: differences \n",
        "differences = np.abs(ts1 - ts2_interp)\n",
        "\n",
        "# Generate and print summary statistics of the differences\n",
        "print(differences.describe())"
      ],
      "execution_count": 0,
      "outputs": [
        {
          "output_type": "stream",
          "text": [
            "count    8.000000\n",
            "mean     0.750000\n",
            "std      1.164965\n",
            "min      0.000000\n",
            "25%      0.000000\n",
            "50%      0.000000\n",
            "75%      1.250000\n",
            "max      3.000000\n",
            "dtype: float64\n"
          ],
          "name": "stdout"
        }
      ]
    },
    {
      "cell_type": "code",
      "metadata": {
        "id": "wzBkegAPAHfJ",
        "colab_type": "code",
        "outputId": "a1cf2f12-8346-4ac0-a13c-9d0d4a8542c6",
        "colab": {
          "base_uri": "https://localhost:8080/",
          "height": 170
        }
      },
      "source": [
        "ts2_interp"
      ],
      "execution_count": 0,
      "outputs": [
        {
          "output_type": "execute_result",
          "data": {
            "text/plain": [
              "2016-07-01    0.0\n",
              "2016-07-02    1.0\n",
              "2016-07-03    2.0\n",
              "2016-07-04    3.0\n",
              "2016-07-05    4.0\n",
              "2016-07-06    4.0\n",
              "2016-07-07    4.0\n",
              "2016-07-08    4.0\n",
              "dtype: float64"
            ]
          },
          "metadata": {
            "tags": []
          },
          "execution_count": 71
        }
      ]
    },
    {
      "cell_type": "code",
      "metadata": {
        "id": "56BISBvz__Tm",
        "colab_type": "code",
        "outputId": "0cd141b9-9d72-417e-f53a-488bfd1dcf89",
        "colab": {
          "base_uri": "https://localhost:8080/",
          "height": 170
        }
      },
      "source": [
        "differences"
      ],
      "execution_count": 0,
      "outputs": [
        {
          "output_type": "execute_result",
          "data": {
            "text/plain": [
              "2016-07-01    0.0\n",
              "2016-07-02    0.0\n",
              "2016-07-03    0.0\n",
              "2016-07-04    0.0\n",
              "2016-07-05    0.0\n",
              "2016-07-06    1.0\n",
              "2016-07-07    2.0\n",
              "2016-07-08    3.0\n",
              "dtype: float64"
            ]
          },
          "metadata": {
            "tags": []
          },
          "execution_count": 70
        }
      ]
    },
    {
      "cell_type": "markdown",
      "metadata": {
        "id": "G1KS02YUANB-",
        "colab_type": "text"
      },
      "source": [
        "### Time zones and conversion\n",
        "Time zone handling with pandas typically assumes that you are handling the Index of the Series. In this exercise, you will learn how to handle timezones that are associated with datetimes in the column data, and not just the Index.\n",
        "\n",
        "You will work with the flight departure dataset again, and this time you will select Los Angeles ('LAX') as the destination airport.\n",
        "\n",
        "Here we will use a mask to ensure that we only compute on data we actually want. To learn more about Boolean masks, click here!"
      ]
    },
    {
      "cell_type": "markdown",
      "metadata": {
        "id": "xAo-2MNYAN8u",
        "colab_type": "text"
      },
      "source": [
        "\n",
        "- Create a Boolean mask, mask, such that if the 'Destination Airport' column of df equals 'LAX', the result is True, and otherwise, it is False.\n",
        "- Use the mask to filter for only the LAX rows. Assign the result to la.\n",
        "- Concatenate the two columns la['Date (MM/DD/YYYY)'] and la['Wheels-off Time'] with a ' ' space in between. Pass this to pd.to_datetime() to create a datetime array of all the times the LAX-bound flights left the ground.\n",
        "- Use Series.dt.tz_localize() to localize the time to 'US/Central'.\n",
        "- Use the .dt.tz_convert() method to convert datetimes from 'US/Central' to 'US/Pacific'."
      ]
    },
    {
      "cell_type": "code",
      "metadata": {
        "id": "OAq2HendAE4Z",
        "colab_type": "code",
        "colab": {
          "base_uri": "https://localhost:8080/",
          "height": 258
        },
        "outputId": "1d0fb6c7-fc73-46db-f544-327959514c0f"
      },
      "source": [
        "import pandas as pd\n",
        "url='https://assets.datacamp.com/production/repositories/497/datasets/5b808399816c8dcb8eef08336595ef9b4eb22902/austin_airport_departure_data_2015_july.csv'\n",
        "\n",
        "df = pd.read_csv(url,header=10)\n",
        "df = df.drop(columns='Unnamed: 17')\n",
        "df.head()"
      ],
      "execution_count": 4,
      "outputs": [
        {
          "output_type": "execute_result",
          "data": {
            "text/html": [
              "<div>\n",
              "<style scoped>\n",
              "    .dataframe tbody tr th:only-of-type {\n",
              "        vertical-align: middle;\n",
              "    }\n",
              "\n",
              "    .dataframe tbody tr th {\n",
              "        vertical-align: top;\n",
              "    }\n",
              "\n",
              "    .dataframe thead th {\n",
              "        text-align: right;\n",
              "    }\n",
              "</style>\n",
              "<table border=\"1\" class=\"dataframe\">\n",
              "  <thead>\n",
              "    <tr style=\"text-align: right;\">\n",
              "      <th></th>\n",
              "      <th>Carrier Code</th>\n",
              "      <th>Date (MM/DD/YYYY)</th>\n",
              "      <th>Flight Number</th>\n",
              "      <th>Tail Number</th>\n",
              "      <th>Destination Airport</th>\n",
              "      <th>Scheduled Departure Time</th>\n",
              "      <th>Actual Departure Time</th>\n",
              "      <th>Scheduled Elapsed Time(Minutes)</th>\n",
              "      <th>Actual Elapsed Time(Minutes)</th>\n",
              "      <th>Departure Delay(Minutes)</th>\n",
              "      <th>Wheels-off Time</th>\n",
              "      <th>Taxi-out Time(Minutes)</th>\n",
              "      <th>DelayCarrier(Minutes)</th>\n",
              "      <th>DelayWeather(Minutes)</th>\n",
              "      <th>DelayNational Aviation System(Minutes)</th>\n",
              "      <th>DelaySecurity(Minutes)</th>\n",
              "      <th>DelayLate Aircraft Arrival(Minutes)</th>\n",
              "    </tr>\n",
              "  </thead>\n",
              "  <tbody>\n",
              "    <tr>\n",
              "      <th>0</th>\n",
              "      <td>WN</td>\n",
              "      <td>07/01/2015</td>\n",
              "      <td>103.0</td>\n",
              "      <td>N8607M</td>\n",
              "      <td>MDW</td>\n",
              "      <td>06:30</td>\n",
              "      <td>06:52</td>\n",
              "      <td>165.0</td>\n",
              "      <td>147.0</td>\n",
              "      <td>22.0</td>\n",
              "      <td>07:01</td>\n",
              "      <td>9.0</td>\n",
              "      <td>0.0</td>\n",
              "      <td>0.0</td>\n",
              "      <td>0.0</td>\n",
              "      <td>0.0</td>\n",
              "      <td>0.0</td>\n",
              "    </tr>\n",
              "    <tr>\n",
              "      <th>1</th>\n",
              "      <td>WN</td>\n",
              "      <td>07/01/2015</td>\n",
              "      <td>144.0</td>\n",
              "      <td>N8609A</td>\n",
              "      <td>SAN</td>\n",
              "      <td>20:55</td>\n",
              "      <td>20:50</td>\n",
              "      <td>170.0</td>\n",
              "      <td>158.0</td>\n",
              "      <td>-5.0</td>\n",
              "      <td>21:03</td>\n",
              "      <td>13.0</td>\n",
              "      <td>0.0</td>\n",
              "      <td>0.0</td>\n",
              "      <td>0.0</td>\n",
              "      <td>0.0</td>\n",
              "      <td>0.0</td>\n",
              "    </tr>\n",
              "    <tr>\n",
              "      <th>2</th>\n",
              "      <td>WN</td>\n",
              "      <td>07/01/2015</td>\n",
              "      <td>178.0</td>\n",
              "      <td>N646SW</td>\n",
              "      <td>ELP</td>\n",
              "      <td>20:30</td>\n",
              "      <td>20:45</td>\n",
              "      <td>90.0</td>\n",
              "      <td>80.0</td>\n",
              "      <td>15.0</td>\n",
              "      <td>20:55</td>\n",
              "      <td>10.0</td>\n",
              "      <td>0.0</td>\n",
              "      <td>0.0</td>\n",
              "      <td>0.0</td>\n",
              "      <td>0.0</td>\n",
              "      <td>0.0</td>\n",
              "    </tr>\n",
              "    <tr>\n",
              "      <th>3</th>\n",
              "      <td>WN</td>\n",
              "      <td>07/01/2015</td>\n",
              "      <td>232.0</td>\n",
              "      <td>N204WN</td>\n",
              "      <td>ATL</td>\n",
              "      <td>05:45</td>\n",
              "      <td>05:49</td>\n",
              "      <td>135.0</td>\n",
              "      <td>137.0</td>\n",
              "      <td>4.0</td>\n",
              "      <td>06:01</td>\n",
              "      <td>12.0</td>\n",
              "      <td>0.0</td>\n",
              "      <td>0.0</td>\n",
              "      <td>0.0</td>\n",
              "      <td>0.0</td>\n",
              "      <td>0.0</td>\n",
              "    </tr>\n",
              "    <tr>\n",
              "      <th>4</th>\n",
              "      <td>WN</td>\n",
              "      <td>07/01/2015</td>\n",
              "      <td>238.0</td>\n",
              "      <td>N233LV</td>\n",
              "      <td>DAL</td>\n",
              "      <td>12:30</td>\n",
              "      <td>12:34</td>\n",
              "      <td>55.0</td>\n",
              "      <td>48.0</td>\n",
              "      <td>4.0</td>\n",
              "      <td>12:41</td>\n",
              "      <td>7.0</td>\n",
              "      <td>0.0</td>\n",
              "      <td>0.0</td>\n",
              "      <td>0.0</td>\n",
              "      <td>0.0</td>\n",
              "      <td>0.0</td>\n",
              "    </tr>\n",
              "  </tbody>\n",
              "</table>\n",
              "</div>"
            ],
            "text/plain": [
              "    Carrier Code  ... DelayLate Aircraft Arrival(Minutes)\n",
              "0             WN  ...                                 0.0\n",
              "1             WN  ...                                 0.0\n",
              "2             WN  ...                                 0.0\n",
              "3             WN  ...                                 0.0\n",
              "4             WN  ...                                 0.0\n",
              "\n",
              "[5 rows x 17 columns]"
            ]
          },
          "metadata": {
            "tags": []
          },
          "execution_count": 4
        }
      ]
    },
    {
      "cell_type": "code",
      "metadata": {
        "id": "Y3Jc2cUgXksc",
        "colab_type": "code",
        "colab": {}
      },
      "source": [
        "df.columns = df.columns.str.strip()"
      ],
      "execution_count": 0,
      "outputs": []
    },
    {
      "cell_type": "code",
      "metadata": {
        "id": "Fl4PXYpCU4t2",
        "colab_type": "code",
        "colab": {
          "base_uri": "https://localhost:8080/",
          "height": 374
        },
        "outputId": "10ed4af9-ff88-4f38-bbda-7b9b06145d4d"
      },
      "source": [
        "# Build a Boolean mask to filter for the 'LAX' departure flights: mask\n",
        "mask = df['Destination Airport'] == 'LAX'\n",
        "\n",
        "# Use the mask to subset the data: la\n",
        "la = df[mask]\n",
        "\n",
        "# Combine two columns of data to create a datetime series: times_tz_none \n",
        "times_tz_none = pd.to_datetime( la['Date (MM/DD/YYYY)'] +' '+ la['Wheels-off Time'])\n",
        "\n",
        "# Localize the time to US/Central: times_tz_central\n",
        "times_tz_central = times_tz_none.dt.tz_localize('US/Central')\n",
        "\n",
        "# Convert the datetimes from US/Central to US/Pacific\n",
        "times_tz_pacific = times_tz_central.dt.tz_convert('US/Pacific')\n",
        "\n",
        "times_tz_central[:10], times_tz_pacific[:10]"
      ],
      "execution_count": 8,
      "outputs": [
        {
          "output_type": "execute_result",
          "data": {
            "text/plain": [
              "(33    2015-07-01 05:43:00-05:00\n",
              " 55    2015-07-01 16:27:00-05:00\n",
              " 91    2015-07-02 05:47:00-05:00\n",
              " 113   2015-07-02 16:23:00-05:00\n",
              " 134   2015-07-03 05:30:00-05:00\n",
              " 169   2015-07-03 16:04:00-05:00\n",
              " 173   2015-07-04 07:35:00-05:00\n",
              " 209   2015-07-04 17:47:00-05:00\n",
              " 233   2015-07-05 08:13:00-05:00\n",
              " 264   2015-07-05 16:12:00-05:00\n",
              " dtype: datetime64[ns, US/Central], 33    2015-07-01 03:43:00-07:00\n",
              " 55    2015-07-01 14:27:00-07:00\n",
              " 91    2015-07-02 03:47:00-07:00\n",
              " 113   2015-07-02 14:23:00-07:00\n",
              " 134   2015-07-03 03:30:00-07:00\n",
              " 169   2015-07-03 14:04:00-07:00\n",
              " 173   2015-07-04 05:35:00-07:00\n",
              " 209   2015-07-04 15:47:00-07:00\n",
              " 233   2015-07-05 06:13:00-07:00\n",
              " 264   2015-07-05 14:12:00-07:00\n",
              " dtype: datetime64[ns, US/Pacific])"
            ]
          },
          "metadata": {
            "tags": []
          },
          "execution_count": 8
        }
      ]
    },
    {
      "cell_type": "code",
      "metadata": {
        "id": "-gm0b5XBXOyr",
        "colab_type": "code",
        "colab": {
          "base_uri": "https://localhost:8080/",
          "height": 119
        },
        "outputId": "a7a01e96-6872-4d68-da5a-a7011d370936"
      },
      "source": [
        "times_tz_none.head()"
      ],
      "execution_count": 9,
      "outputs": [
        {
          "output_type": "execute_result",
          "data": {
            "text/plain": [
              "33    2015-07-01 05:43:00\n",
              "55    2015-07-01 16:27:00\n",
              "91    2015-07-02 05:47:00\n",
              "113   2015-07-02 16:23:00\n",
              "134   2015-07-03 05:30:00\n",
              "dtype: datetime64[ns]"
            ]
          },
          "metadata": {
            "tags": []
          },
          "execution_count": 9
        }
      ]
    },
    {
      "cell_type": "markdown",
      "metadata": {
        "id": "rpp9iacEYiuN",
        "colab_type": "text"
      },
      "source": [
        "###Plotting time series, datetime indexing\n",
        "Pandas handles datetimes not only in your data, but also in your plotting.\n",
        "\n",
        "In this exercise, some time series data has been pre-loaded. However, we have not parsed the date-like columns nor set the index, as we have done for you in the past!\n",
        "\n",
        "The plot displayed is how pandas renders data with the default integer/positional index. Your job is to convert the 'Date' column from a collection of strings into a collection of datetime objects. Then, you will use this converted 'Date' column as your new index, and re-plot the data, noting the improved datetime awareness. After you are done, you can cycle between the two plots you generated by clicking on the 'Previous Plot' and 'Next Plot' buttons.\n",
        "\n",
        "Before proceeding, look at the plot shown and observe how pandas handles data with the default integer index. Then, inspect the DataFrame df using the .head() method in the IPython Shell to get a feel for its structure.\n",
        "\n",
        "- Use pd.to_datetime() to convert the 'Date' column in df to a collection of datetime objects, and assign back to df.Date.\n",
        "- Set the index to this updated 'Date' column, using df.set_index() with the optional keyword argument inplace=True, so that you don't have to assign the result back to df.\n",
        "- Re-plot the DataFrame to see that the axis is now datetime aware. This code has been written for you."
      ]
    },
    {
      "cell_type": "code",
      "metadata": {
        "id": "cVUZHGmxhahf",
        "colab_type": "code",
        "colab": {}
      },
      "source": [
        "url = 'https://assets.datacamp.com/production/repositories/497/datasets/4d7b2bc6b10b527dc297707fb92fa46b10ac1be5/weather_data_austin_2010.csv'\n",
        "df = pd.read_csv(url)\n",
        "# df.head()"
      ],
      "execution_count": 0,
      "outputs": []
    },
    {
      "cell_type": "code",
      "metadata": {
        "id": "s31b40SHbEbv",
        "colab_type": "code",
        "colab": {
          "base_uri": "https://localhost:8080/",
          "height": 269
        },
        "outputId": "249ea256-0f81-4a3c-e42e-193b63922fff"
      },
      "source": [
        "import matplotlib.pyplot as plt\n",
        "# Plot the raw data before setting the datetime index\n",
        "df.plot()\n",
        "plt.show()"
      ],
      "execution_count": 26,
      "outputs": [
        {
          "output_type": "display_data",
          "data": {
            "image/png": "[encoded data removed]",
            "text/plain": [
              "<Figure size 432x288 with 1 Axes>"
            ]
          },
          "metadata": {
            "tags": []
          }
        }
      ]
    },
    {
      "cell_type": "code",
      "metadata": {
        "id": "G1xq7B7Nbe1q",
        "colab_type": "code",
        "colab": {
          "base_uri": "https://localhost:8080/",
          "height": 281
        },
        "outputId": "cf88cbda-7cc9-43a0-ba17-5a4b951c7fdb"
      },
      "source": [
        "# Convert the 'Date' column into a collection of datetime objects: df.Date\n",
        "df.Date = pd.to_datetime(df.Date)\n",
        "\n",
        "# Set the index to be the converted 'Date' column\n",
        "df.set_index('Date',inplace=True)\n",
        "\n",
        "# Re-plot the DataFrame to see that the axis is now datetime aware!\n",
        "df.plot()\n",
        "plt.show()"
      ],
      "execution_count": 27,
      "outputs": [
        {
          "output_type": "display_data",
          "data": {
            "image/png": "[encoded data removed]",
            "text/plain": [
              "<Figure size 432x288 with 1 Axes>"
            ]
          },
          "metadata": {
            "tags": []
          }
        }
      ]
    },
    {
      "cell_type": "markdown",
      "metadata": {
        "id": "iYeodWNsb4Uh",
        "colab_type": "text"
      },
      "source": [
        "###Plotting date ranges, partial indexing\n",
        "Now that you have set the DatetimeIndex in your DataFrame, you have a much more powerful and flexible set of tools to use when plotting your time series data. Of these, one of the most convenient is partial string indexing and slicing. In this exercise, we've pre-loaded a full year of Austin 2010 weather data, with the index set to be the datetime parsed 'Date' column as shown in the previous exercise.\n",
        "\n",
        "Your job is to use partial string indexing of the dates, in a variety of datetime string formats, to plot all the summer data and just one week of data together. After you are done, you can cycle between the two plots by clicking on the 'Previous Plot' and 'Next Plot' buttons.\n",
        "\n",
        "First, remind yourself how to extract one month of temperature data using 'May 2010' as a key into df.Temperature[], and call head() to inspect the result: df.Temperature['May 2010'].head().\n",
        "\n",
        "\n",
        "- Plot the summer temperatures using method chaining. The summer ranges from the months '2010-Jun' to '2010-Aug'.\n",
        "- Plot the temperatures for one week in June using the same method chaining, but this time indexing with '2010-06-10':'2010-06-17' before you follow up with .plot()."
      ]
    },
    {
      "cell_type": "code",
      "metadata": {
        "id": "SR_YDYeVgeos",
        "colab_type": "code",
        "colab": {
          "base_uri": "https://localhost:8080/",
          "height": 235
        },
        "outputId": "a7ea541b-3d17-4ab5-ff0c-fa25695bf651"
      },
      "source": [
        "df.head()"
      ],
      "execution_count": 28,
      "outputs": [
        {
          "output_type": "execute_result",
          "data": {
            "text/html": [
              "<div>\n",
              "<style scoped>\n",
              "    .dataframe tbody tr th:only-of-type {\n",
              "        vertical-align: middle;\n",
              "    }\n",
              "\n",
              "    .dataframe tbody tr th {\n",
              "        vertical-align: top;\n",
              "    }\n",
              "\n",
              "    .dataframe thead th {\n",
              "        text-align: right;\n",
              "    }\n",
              "</style>\n",
              "<table border=\"1\" class=\"dataframe\">\n",
              "  <thead>\n",
              "    <tr style=\"text-align: right;\">\n",
              "      <th></th>\n",
              "      <th>Temperature</th>\n",
              "      <th>DewPoint</th>\n",
              "      <th>Pressure</th>\n",
              "    </tr>\n",
              "    <tr>\n",
              "      <th>Date</th>\n",
              "      <th></th>\n",
              "      <th></th>\n",
              "      <th></th>\n",
              "    </tr>\n",
              "  </thead>\n",
              "  <tbody>\n",
              "    <tr>\n",
              "      <th>2010-01-01 00:00:00</th>\n",
              "      <td>46.2</td>\n",
              "      <td>37.5</td>\n",
              "      <td>1.0</td>\n",
              "    </tr>\n",
              "    <tr>\n",
              "      <th>2010-01-01 01:00:00</th>\n",
              "      <td>44.6</td>\n",
              "      <td>37.1</td>\n",
              "      <td>1.0</td>\n",
              "    </tr>\n",
              "    <tr>\n",
              "      <th>2010-01-01 02:00:00</th>\n",
              "      <td>44.1</td>\n",
              "      <td>36.9</td>\n",
              "      <td>1.0</td>\n",
              "    </tr>\n",
              "    <tr>\n",
              "      <th>2010-01-01 03:00:00</th>\n",
              "      <td>43.8</td>\n",
              "      <td>36.9</td>\n",
              "      <td>1.0</td>\n",
              "    </tr>\n",
              "    <tr>\n",
              "      <th>2010-01-01 04:00:00</th>\n",
              "      <td>43.5</td>\n",
              "      <td>36.8</td>\n",
              "      <td>1.0</td>\n",
              "    </tr>\n",
              "  </tbody>\n",
              "</table>\n",
              "</div>"
            ],
            "text/plain": [
              "                     Temperature  DewPoint  Pressure\n",
              "Date                                                \n",
              "2010-01-01 00:00:00         46.2      37.5       1.0\n",
              "2010-01-01 01:00:00         44.6      37.1       1.0\n",
              "2010-01-01 02:00:00         44.1      36.9       1.0\n",
              "2010-01-01 03:00:00         43.8      36.9       1.0\n",
              "2010-01-01 04:00:00         43.5      36.8       1.0"
            ]
          },
          "metadata": {
            "tags": []
          },
          "execution_count": 28
        }
      ]
    },
    {
      "cell_type": "code",
      "metadata": {
        "id": "HkPQwCX5busj",
        "colab_type": "code",
        "colab": {
          "base_uri": "https://localhost:8080/",
          "height": 600
        },
        "outputId": "efd1a63a-52a4-4306-cdce-4f3c717afc9e"
      },
      "source": [
        "# Plot the summer data\n",
        "df.Temperature['2010-Jun' : '2010-Aug'].plot()\n",
        "plt.show()\n",
        "plt.clf()\n",
        "\n",
        "# Plot the one week data\n",
        "df.Temperature['2010-06-10':'2010-06-17'].plot()\n",
        "plt.show()\n",
        "plt.clf()"
      ],
      "execution_count": 29,
      "outputs": [
        {
          "output_type": "display_data",
          "data": {
            "image/png": "[encoded data removed]",
            "text/plain": [
              "<Figure size 432x288 with 1 Axes>"
            ]
          },
          "metadata": {
            "tags": []
          }
        },
        {
          "output_type": "display_data",
          "data": {
            "image/png": "[encoded data removed]",
            "text/plain": [
              "<Figure size 432x288 with 1 Axes>"
            ]
          },
          "metadata": {
            "tags": []
          }
        },
        {
          "output_type": "display_data",
          "data": {
            "text/plain": [
              "<Figure size 432x288 with 0 Axes>"
            ]
          },
          "metadata": {
            "tags": []
          }
        }
      ]
    },
    {
      "cell_type": "code",
      "metadata": {
        "id": "IIU_TUsLgPf5",
        "colab_type": "code",
        "colab": {}
      },
      "source": [
        ""
      ],
      "execution_count": 0,
      "outputs": []
    }
  ]
}