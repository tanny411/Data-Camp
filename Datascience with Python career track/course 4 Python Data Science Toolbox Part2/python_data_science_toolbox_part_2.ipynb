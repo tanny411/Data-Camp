{
  "nbformat": 4,
  "nbformat_minor": 0,
  "metadata": {
    "colab": {
      "name": "python-data-science-toolbox-part-2.ipynb",
      "version": "0.3.2",
      "provenance": [],
      "collapsed_sections": [
        "fJzE3ogseJwd"
      ]
    },
    "kernelspec": {
      "name": "python3",
      "display_name": "Python 3"
    }
  },
  "cells": [
    {
      "cell_type": "markdown",
      "metadata": {
        "id": "fJzE3ogseJwd",
        "colab_type": "text"
      },
      "source": [
        "# iterables\n",
        "\n",
        "- anything that has a .iter() method\n",
        "- list, string, dictionary, file connections\n",
        "\n",
        "# iterator\n",
        "\n",
        "-  produces next value with next()\n",
        "- unpack all iterations with *"
      ]
    },
    {
      "cell_type": "code",
      "metadata": {
        "id": "w5tcQGLjeEy9",
        "colab_type": "code",
        "outputId": "f45de864-b33c-4a52-b5ec-fa48e7a5f732",
        "colab": {
          "base_uri": "https://localhost:8080/",
          "height": 68
        }
      },
      "source": [
        "s = 'word'\n",
        "iterator = iter(s)\n",
        "\n",
        "print(next(iterator))\n",
        "print(next(iterator))\n",
        "print(next(iterator))"
      ],
      "execution_count": 0,
      "outputs": [
        {
          "output_type": "stream",
          "text": [
            "w\n",
            "o\n",
            "r\n"
          ],
          "name": "stdout"
        }
      ]
    },
    {
      "cell_type": "code",
      "metadata": {
        "id": "liWTiP0ueuXN",
        "colab_type": "code",
        "outputId": "19470a03-7fcd-452c-a38e-4ac41f41c32d",
        "colab": {
          "base_uri": "https://localhost:8080/",
          "height": 34
        }
      },
      "source": [
        "iterator = iter(s)\n",
        "print(*iterator)"
      ],
      "execution_count": 0,
      "outputs": [
        {
          "output_type": "stream",
          "text": [
            "w o r d\n"
          ],
          "name": "stdout"
        }
      ]
    },
    {
      "cell_type": "code",
      "metadata": {
        "id": "6irGxHhSe87_",
        "colab_type": "code",
        "outputId": "7d929dea-231e-456c-b209-cfa2cd2f74ab",
        "colab": {
          "base_uri": "https://localhost:8080/",
          "height": 34
        }
      },
      "source": [
        "next(iter(range(5)))\n"
      ],
      "execution_count": 0,
      "outputs": [
        {
          "output_type": "execute_result",
          "data": {
            "text/plain": [
              "0"
            ]
          },
          "metadata": {
            "tags": []
          },
          "execution_count": 7
        }
      ]
    },
    {
      "cell_type": "code",
      "metadata": {
        "id": "ceJRYZ6_fspy",
        "colab_type": "code",
        "outputId": "04052003-d3d3-4094-f38a-809d140e712d",
        "colab": {
          "base_uri": "https://localhost:8080/",
          "height": 204
        }
      },
      "source": [
        "'''\n",
        "Recall that range() doesn't actually create the list; instead, it creates a range object with an iterator that produces the values \n",
        "until it reaches the limit (in the example, until the value 4). If range() created the actual list, calling it with a value of 10^100 \n",
        "may not work, especially since a number as big as that may go over a regular computer's memory. The value 10100 is actually what's called a \n",
        "Googol which is a 1 followed by a hundred 0s. That's a huge number!\n",
        "'''\n",
        "# Create an iterator for range(3): small_value\n",
        "small_value = iter(range(3))\n",
        "\n",
        "# Print the values in small_value\n",
        "print(next(small_value))\n",
        "print(next(small_value))\n",
        "print(next(small_value))\n",
        "\n",
        "# Loop over range(3) and print the values\n",
        "for i in range(3):\n",
        "    print(i)\n",
        "\n",
        "\n",
        "# Create an iterator for range(10 ** 100): googol\n",
        "googol = iter(range(10**100))\n",
        "\n",
        "# Print the first 5 values from googol\n",
        "print(next(googol))\n",
        "print(next(googol))\n",
        "print(next(googol))\n",
        "print(next(googol))\n",
        "print(next(googol))"
      ],
      "execution_count": 0,
      "outputs": [
        {
          "output_type": "stream",
          "text": [
            "0\n",
            "1\n",
            "2\n",
            "0\n",
            "1\n",
            "2\n",
            "0\n",
            "1\n",
            "2\n",
            "3\n",
            "4\n"
          ],
          "name": "stdout"
        }
      ]
    },
    {
      "cell_type": "code",
      "metadata": {
        "id": "5FpshYiJgZkI",
        "colab_type": "code",
        "outputId": "c4c38eab-47ee-491d-9893-a8faaef234a6",
        "colab": {
          "base_uri": "https://localhost:8080/",
          "height": 68
        }
      },
      "source": [
        "'''\n",
        "There are also functions that take iterators and iterables as arguments. \n",
        "For example, the list() and sum() functions return a list and the sum of elements, respectively.\n",
        "'''\n",
        "\n",
        "\n",
        "# Create a range object: values\n",
        "values = range(10,21)\n",
        "\n",
        "# Print the range object\n",
        "print(values)\n",
        "\n",
        "# Create a list of integers: values_list\n",
        "values_list = list(values)\n",
        "\n",
        "# Print values_list\n",
        "print(values_list)\n",
        "\n",
        "# Get the sum of values: values_sum\n",
        "values_sum = sum(values)\n",
        "\n",
        "# Print values_sum\n",
        "print(values_sum)\n"
      ],
      "execution_count": 0,
      "outputs": [
        {
          "output_type": "stream",
          "text": [
            "range(10, 21)\n",
            "[10, 11, 12, 13, 14, 15, 16, 17, 18, 19, 20]\n",
            "165\n"
          ],
          "name": "stdout"
        }
      ]
    },
    {
      "cell_type": "markdown",
      "metadata": {
        "id": "CFk7pqNphQyU",
        "colab_type": "text"
      },
      "source": [
        "### zip and enumerate"
      ]
    },
    {
      "cell_type": "code",
      "metadata": {
        "id": "7YyFPQsUg29f",
        "colab_type": "code",
        "outputId": "ad5b1698-0446-4e28-a6e3-8339ae2d613d",
        "colab": {
          "base_uri": "https://localhost:8080/",
          "height": 34
        }
      },
      "source": [
        "x = enumerate(['aysha','kamal','tanny'])\n",
        "x"
      ],
      "execution_count": 0,
      "outputs": [
        {
          "output_type": "execute_result",
          "data": {
            "text/plain": [
              "<enumerate at 0x7fda06279240>"
            ]
          },
          "metadata": {
            "tags": []
          },
          "execution_count": 37
        }
      ]
    },
    {
      "cell_type": "code",
      "metadata": {
        "id": "2iV-6moxhi9-",
        "colab_type": "code",
        "outputId": "61bbda95-5cef-4a79-ff9e-1b2b5660e73c",
        "colab": {
          "base_uri": "https://localhost:8080/",
          "height": 34
        }
      },
      "source": [
        "list(x)"
      ],
      "execution_count": 0,
      "outputs": [
        {
          "output_type": "execute_result",
          "data": {
            "text/plain": [
              "[(0, 'aysha'), (1, 'kamal'), (2, 'tanny')]"
            ]
          },
          "metadata": {
            "tags": []
          },
          "execution_count": 23
        }
      ]
    },
    {
      "cell_type": "code",
      "metadata": {
        "id": "vADqnA9eiQhF",
        "colab_type": "code",
        "outputId": "6a959e51-126b-4791-9f47-c00d9c0b5aa8",
        "colab": {
          "base_uri": "https://localhost:8080/",
          "height": 34
        }
      },
      "source": [
        "print(*x) "
      ],
      "execution_count": 0,
      "outputs": [
        {
          "output_type": "stream",
          "text": [
            "(0, 'aysha') (1, 'kamal') (2, 'tanny')\n"
          ],
          "name": "stdout"
        }
      ]
    },
    {
      "cell_type": "code",
      "metadata": {
        "id": "f1bv-d_EiEBO",
        "colab_type": "code",
        "outputId": "3870386f-fa6f-402f-be10-ae0294124416",
        "colab": {
          "base_uri": "https://localhost:8080/",
          "height": 204
        }
      },
      "source": [
        "# Create a list of strings: mutants\n",
        "mutants = ['charles xavier', \n",
        "            'bobby drake', \n",
        "            'kurt wagner', \n",
        "            'max eisenhardt', \n",
        "            'kitty pryde']\n",
        "\n",
        "# Create a list of tuples: mutant_list\n",
        "mutant_list = list(enumerate(mutants))\n",
        "\n",
        "# Print the list of tuples\n",
        "print(mutant_list)\n",
        "\n",
        "# Unpack and print the tuple pairs\n",
        "for index1,value1 in enumerate(mutants):\n",
        "    print(index1, value1)\n",
        "\n",
        "# Change the start index\n",
        "for index2,value2 in enumerate(mutants,start=1):\n",
        "    print(index2, value2)\n"
      ],
      "execution_count": 0,
      "outputs": [
        {
          "output_type": "stream",
          "text": [
            "[(0, 'charles xavier'), (1, 'bobby drake'), (2, 'kurt wagner'), (3, 'max eisenhardt'), (4, 'kitty pryde')]\n",
            "0 charles xavier\n",
            "1 bobby drake\n",
            "2 kurt wagner\n",
            "3 max eisenhardt\n",
            "4 kitty pryde\n",
            "1 charles xavier\n",
            "2 bobby drake\n",
            "3 kurt wagner\n",
            "4 max eisenhardt\n",
            "5 kitty pryde\n"
          ],
          "name": "stdout"
        }
      ]
    },
    {
      "cell_type": "code",
      "metadata": {
        "id": "a5FrggwChklv",
        "colab_type": "code",
        "outputId": "ed5ca7a8-e647-4579-c1ec-339dd47f6855",
        "colab": {
          "base_uri": "https://localhost:8080/",
          "height": 34
        }
      },
      "source": [
        "me = ['aysha','kamal','tanny']\n",
        "her = ['habiba','kamal','babu']\n",
        "\n",
        "x = zip(me,her)\n",
        "\n",
        "x"
      ],
      "execution_count": 0,
      "outputs": [
        {
          "output_type": "execute_result",
          "data": {
            "text/plain": [
              "<zip at 0x7fda062ea7c8>"
            ]
          },
          "metadata": {
            "tags": []
          },
          "execution_count": 32
        }
      ]
    },
    {
      "cell_type": "code",
      "metadata": {
        "id": "o-OjX_nkh1aP",
        "colab_type": "code",
        "outputId": "2442eb8b-cafa-4e64-b51a-3f972c83de24",
        "colab": {
          "base_uri": "https://localhost:8080/",
          "height": 34
        }
      },
      "source": [
        "# list(x)"
      ],
      "execution_count": 0,
      "outputs": [
        {
          "output_type": "execute_result",
          "data": {
            "text/plain": [
              "[('aysha', 'habiba'), ('kamal', 'kamal'), ('tanny', 'babu')]"
            ]
          },
          "metadata": {
            "tags": []
          },
          "execution_count": 29
        }
      ]
    },
    {
      "cell_type": "code",
      "metadata": {
        "id": "CDKzzMqNh5Xj",
        "colab_type": "code",
        "outputId": "2050db26-b785-4832-a79d-2d36153522ec",
        "colab": {
          "base_uri": "https://localhost:8080/",
          "height": 34
        }
      },
      "source": [
        "x = zip(me,her)\n",
        "print(*x)  #notworking when unpacked in the list()"
      ],
      "execution_count": 0,
      "outputs": [
        {
          "output_type": "stream",
          "text": [
            "('aysha', 'habiba') ('kamal', 'kamal') ('tanny', 'babu')\n"
          ],
          "name": "stdout"
        }
      ]
    },
    {
      "cell_type": "code",
      "metadata": {
        "id": "DCh0TgrwkCys",
        "colab_type": "code",
        "colab": {}
      },
      "source": [
        "x = zip(me,her)\n",
        "\n",
        "me2,her2 = zip(*x)"
      ],
      "execution_count": 0,
      "outputs": []
    },
    {
      "cell_type": "code",
      "metadata": {
        "id": "OPG1r872jOap",
        "colab_type": "code",
        "outputId": "b07057bc-5eec-4935-c1c6-cf3d24b4a835",
        "colab": {
          "base_uri": "https://localhost:8080/",
          "height": 34
        }
      },
      "source": [
        "me2, her2"
      ],
      "execution_count": 0,
      "outputs": [
        {
          "output_type": "execute_result",
          "data": {
            "text/plain": [
              "(('aysha', 'kamal', 'tanny'), ('habiba', 'kamal', 'babu'))"
            ]
          },
          "metadata": {
            "tags": []
          },
          "execution_count": 41
        }
      ]
    },
    {
      "cell_type": "markdown",
      "metadata": {
        "id": "WJhnt1uOmqef",
        "colab_type": "text"
      },
      "source": [
        "# chunking large data"
      ]
    },
    {
      "cell_type": "code",
      "metadata": {
        "id": "vV55F9yqlM0T",
        "colab_type": "code",
        "colab": {}
      },
      "source": [
        "for chunk in pd.read_csv('something.csv',chunksize=100):\n",
        "    print(huh)"
      ],
      "execution_count": 0,
      "outputs": []
    },
    {
      "cell_type": "markdown",
      "metadata": {
        "id": "NrL8qM9NBQBo",
        "colab_type": "text"
      },
      "source": [
        "# list comprehension\n",
        "\n",
        "-  [__expression__ _iterator_ in _iterable_]\n",
        "- [__expression__ forloopClause forloopClause ...] : [(num1,num2) for num1 in nums1 for num2 in nums2]\n",
        "-  [__expression__ _iterator_ in _iterable_ __conditionals__] : [x*x for x in nums if x%2==0]\n",
        "-  [__expression__  __conditionals(with else)__  _iterator_ in _iterable_] : [x*x for x in nums if x%2==0]"
      ]
    },
    {
      "cell_type": "code",
      "metadata": {
        "id": "mzcZ5MD4BSU7",
        "colab_type": "code",
        "colab": {}
      },
      "source": [
        "ls=[1,2,3,4,5,6,67,8]"
      ],
      "execution_count": 0,
      "outputs": []
    },
    {
      "cell_type": "code",
      "metadata": {
        "id": "BdcEW0GFGriy",
        "colab_type": "code",
        "colab": {
          "base_uri": "https://localhost:8080/",
          "height": 34
        },
        "outputId": "c721d163-ddbf-4b22-cd1c-72800d3d0ad0"
      },
      "source": [
        "[x*x for x in ls if x%2==0]"
      ],
      "execution_count": 2,
      "outputs": [
        {
          "output_type": "execute_result",
          "data": {
            "text/plain": [
              "[4, 16, 36, 64]"
            ]
          },
          "metadata": {
            "tags": []
          },
          "execution_count": 2
        }
      ]
    },
    {
      "cell_type": "code",
      "metadata": {
        "id": "wSP7EipwGvp0",
        "colab_type": "code",
        "colab": {
          "base_uri": "https://localhost:8080/",
          "height": 34
        },
        "outputId": "fe1c3cbc-e49e-4dd7-d527-3fa01d80bfe2"
      },
      "source": [
        "[x*x if x%2==0 else 0 for x in ls]"
      ],
      "execution_count": 4,
      "outputs": [
        {
          "output_type": "execute_result",
          "data": {
            "text/plain": [
              "[0, 4, 0, 16, 0, 36, 0, 64]"
            ]
          },
          "metadata": {
            "tags": []
          },
          "execution_count": 4
        }
      ]
    },
    {
      "cell_type": "markdown",
      "metadata": {
        "id": "-uOGPkZRH2XT",
        "colab_type": "text"
      },
      "source": [
        "# dictionary comprehension\n",
        "\n",
        "- {} instead of []\n",
        "- {key:val for key,val in nums}"
      ]
    },
    {
      "cell_type": "code",
      "metadata": {
        "id": "XhCXONbFHB_A",
        "colab_type": "code",
        "colab": {
          "base_uri": "https://localhost:8080/",
          "height": 153
        },
        "outputId": "799fca0e-1983-4155-c40f-1c3347de69b9"
      },
      "source": [
        "{'num'+str(i):i for i in ls}"
      ],
      "execution_count": 5,
      "outputs": [
        {
          "output_type": "execute_result",
          "data": {
            "text/plain": [
              "{'num1': 1,\n",
              " 'num2': 2,\n",
              " 'num3': 3,\n",
              " 'num4': 4,\n",
              " 'num5': 5,\n",
              " 'num6': 6,\n",
              " 'num67': 67,\n",
              " 'num8': 8}"
            ]
          },
          "metadata": {
            "tags": []
          },
          "execution_count": 5
        }
      ]
    },
    {
      "cell_type": "markdown",
      "metadata": {
        "id": "cy263e_qNyv4",
        "colab_type": "text"
      },
      "source": [
        "# Generators:\n",
        "\n",
        "- list comprehension, but with ( ) instead of [ ]\n",
        "- doesnt create a list\n",
        "- doesnt store a list in memory\n",
        "- is a iterable\n",
        "- that generates an item in each iteration"
      ]
    },
    {
      "cell_type": "code",
      "metadata": {
        "id": "INC7VJaOOaUl",
        "colab_type": "code",
        "colab": {
          "base_uri": "https://localhost:8080/",
          "height": 34
        },
        "outputId": "893d7546-65c7-4137-ae24-501b1ff3eb17"
      },
      "source": [
        "ls"
      ],
      "execution_count": 9,
      "outputs": [
        {
          "output_type": "execute_result",
          "data": {
            "text/plain": [
              "[1, 2, 3, 4, 5, 6, 67, 8]"
            ]
          },
          "metadata": {
            "tags": []
          },
          "execution_count": 9
        }
      ]
    },
    {
      "cell_type": "code",
      "metadata": {
        "id": "SsL7NpTFNla8",
        "colab_type": "code",
        "colab": {
          "base_uri": "https://localhost:8080/",
          "height": 34
        },
        "outputId": "eba168b1-51d8-4510-e51f-23a53782c166"
      },
      "source": [
        "s=(x*x if x%2==0 else 0 for x in ls)\n",
        "s"
      ],
      "execution_count": 6,
      "outputs": [
        {
          "output_type": "execute_result",
          "data": {
            "text/plain": [
              "<generator object <genexpr> at 0x7ff3a87de258>"
            ]
          },
          "metadata": {
            "tags": []
          },
          "execution_count": 6
        }
      ]
    },
    {
      "cell_type": "code",
      "metadata": {
        "id": "1I7wfERROWJH",
        "colab_type": "code",
        "colab": {
          "base_uri": "https://localhost:8080/",
          "height": 34
        },
        "outputId": "0d499fb4-f5c6-4046-de6d-53d128e2f9bc"
      },
      "source": [
        "next(s)"
      ],
      "execution_count": 7,
      "outputs": [
        {
          "output_type": "execute_result",
          "data": {
            "text/plain": [
              "0"
            ]
          },
          "metadata": {
            "tags": []
          },
          "execution_count": 7
        }
      ]
    },
    {
      "cell_type": "code",
      "metadata": {
        "id": "JEPytsdoOXjh",
        "colab_type": "code",
        "colab": {
          "base_uri": "https://localhost:8080/",
          "height": 34
        },
        "outputId": "d89ee4ec-14a7-4653-d040-fe8307069e64"
      },
      "source": [
        "next(s)"
      ],
      "execution_count": 8,
      "outputs": [
        {
          "output_type": "execute_result",
          "data": {
            "text/plain": [
              "4"
            ]
          },
          "metadata": {
            "tags": []
          },
          "execution_count": 8
        }
      ]
    },
    {
      "cell_type": "code",
      "metadata": {
        "id": "l6mStHvyOY0g",
        "colab_type": "code",
        "colab": {
          "base_uri": "https://localhost:8080/",
          "height": 34
        },
        "outputId": "143c3c7f-13d2-417b-96e9-1e8bde212fb6"
      },
      "source": [
        "next(s)"
      ],
      "execution_count": 10,
      "outputs": [
        {
          "output_type": "execute_result",
          "data": {
            "text/plain": [
              "0"
            ]
          },
          "metadata": {
            "tags": []
          },
          "execution_count": 10
        }
      ]
    },
    {
      "cell_type": "markdown",
      "metadata": {
        "id": "KeHD-YW6OycI",
        "colab_type": "text"
      },
      "source": [
        "# Generator Function\n",
        "\n",
        "- produce generator objects\n",
        "- instead of return, we use yeild"
      ]
    },
    {
      "cell_type": "code",
      "metadata": {
        "id": "SbndoIw9OcYK",
        "colab_type": "code",
        "colab": {}
      },
      "source": [
        "def fx(n):\n",
        "    for i in range(0,n):\n",
        "        yield i"
      ],
      "execution_count": 0,
      "outputs": []
    },
    {
      "cell_type": "code",
      "metadata": {
        "id": "Xi5mu69KPQS-",
        "colab_type": "code",
        "colab": {
          "base_uri": "https://localhost:8080/",
          "height": 34
        },
        "outputId": "8c91d6a9-a395-4156-8215-1d3b11f6bfc6"
      },
      "source": [
        "itr = fx(7)\n",
        "next(itr) , next(itr) , next(itr) , *itr"
      ],
      "execution_count": 17,
      "outputs": [
        {
          "output_type": "execute_result",
          "data": {
            "text/plain": [
              "(0, 1, 2, 3, 4, 5, 6)"
            ]
          },
          "metadata": {
            "tags": []
          },
          "execution_count": 17
        }
      ]
    },
    {
      "cell_type": "code",
      "metadata": {
        "id": "eVAMMMDpPzmE",
        "colab_type": "code",
        "colab": {
          "base_uri": "https://localhost:8080/",
          "height": 34
        },
        "outputId": "c9fafa68-a16b-4df5-cc67-fdcb9db91387"
      },
      "source": [
        "ls = [1,2,3,4,5]\n",
        "rs = [3,4,68,4,1]\n",
        "\n",
        "dict(zip(ls,rs)) , {x:y for x,y in zip(ls,rs)} ## Same"
      ],
      "execution_count": 19,
      "outputs": [
        {
          "output_type": "execute_result",
          "data": {
            "text/plain": [
              "({1: 3, 2: 4, 3: 68, 4: 4, 5: 1}, {1: 3, 2: 4, 3: 68, 4: 4, 5: 1})"
            ]
          },
          "metadata": {
            "tags": []
          },
          "execution_count": 19
        }
      ]
    },
    {
      "cell_type": "markdown",
      "metadata": {
        "id": "ZPib6K0lY_6u",
        "colab_type": "text"
      },
      "source": [
        "### dataframe from list of dicts (as opposed to dict of lists)"
      ]
    },
    {
      "cell_type": "code",
      "metadata": {
        "id": "xh6eS9uzXDkK",
        "colab_type": "code",
        "colab": {}
      },
      "source": [
        "import pandas as pd\n",
        "\n",
        "ls = [\n",
        "    {'name':'aysha','age':23,'dept':'CSE'},\n",
        "    {'name':'habiba','age':22,'dept':'SCDC'},\n",
        "    {'name':'anis','age':22,'dept':'CSE'}\n",
        "]\n",
        "\n",
        "dc = {\n",
        "    'name' : ['aysha','habiba','anis'],\n",
        "    'age' : [23,22,22],\n",
        "    'dept' : ['CSE', 'SCDC' , 'CSE']\n",
        "}\n",
        "\n",
        "df1 = pd.DataFrame(ls)\n",
        "df2 = pd.DataFrame(dc)"
      ],
      "execution_count": 0,
      "outputs": []
    },
    {
      "cell_type": "code",
      "metadata": {
        "id": "8zgVwxYJZqoF",
        "colab_type": "code",
        "colab": {
          "base_uri": "https://localhost:8080/",
          "height": 142
        },
        "outputId": "152df51c-13e1-453d-fafb-986e41e9e36b"
      },
      "source": [
        "df1.head()"
      ],
      "execution_count": 22,
      "outputs": [
        {
          "output_type": "execute_result",
          "data": {
            "text/html": [
              "<div>\n",
              "<style scoped>\n",
              "    .dataframe tbody tr th:only-of-type {\n",
              "        vertical-align: middle;\n",
              "    }\n",
              "\n",
              "    .dataframe tbody tr th {\n",
              "        vertical-align: top;\n",
              "    }\n",
              "\n",
              "    .dataframe thead th {\n",
              "        text-align: right;\n",
              "    }\n",
              "</style>\n",
              "<table border=\"1\" class=\"dataframe\">\n",
              "  <thead>\n",
              "    <tr style=\"text-align: right;\">\n",
              "      <th></th>\n",
              "      <th>age</th>\n",
              "      <th>dept</th>\n",
              "      <th>name</th>\n",
              "    </tr>\n",
              "  </thead>\n",
              "  <tbody>\n",
              "    <tr>\n",
              "      <th>0</th>\n",
              "      <td>23</td>\n",
              "      <td>CSE</td>\n",
              "      <td>aysha</td>\n",
              "    </tr>\n",
              "    <tr>\n",
              "      <th>1</th>\n",
              "      <td>22</td>\n",
              "      <td>SCDC</td>\n",
              "      <td>habiba</td>\n",
              "    </tr>\n",
              "    <tr>\n",
              "      <th>2</th>\n",
              "      <td>22</td>\n",
              "      <td>CSE</td>\n",
              "      <td>anis</td>\n",
              "    </tr>\n",
              "  </tbody>\n",
              "</table>\n",
              "</div>"
            ],
            "text/plain": [
              "   age  dept    name\n",
              "0   23   CSE   aysha\n",
              "1   22  SCDC  habiba\n",
              "2   22   CSE    anis"
            ]
          },
          "metadata": {
            "tags": []
          },
          "execution_count": 22
        }
      ]
    },
    {
      "cell_type": "code",
      "metadata": {
        "id": "QsVsHWzhZwWw",
        "colab_type": "code",
        "colab": {
          "base_uri": "https://localhost:8080/",
          "height": 142
        },
        "outputId": "7f4779ef-269d-49a6-da73-a59e61378adb"
      },
      "source": [
        "df2.head()"
      ],
      "execution_count": 23,
      "outputs": [
        {
          "output_type": "execute_result",
          "data": {
            "text/html": [
              "<div>\n",
              "<style scoped>\n",
              "    .dataframe tbody tr th:only-of-type {\n",
              "        vertical-align: middle;\n",
              "    }\n",
              "\n",
              "    .dataframe tbody tr th {\n",
              "        vertical-align: top;\n",
              "    }\n",
              "\n",
              "    .dataframe thead th {\n",
              "        text-align: right;\n",
              "    }\n",
              "</style>\n",
              "<table border=\"1\" class=\"dataframe\">\n",
              "  <thead>\n",
              "    <tr style=\"text-align: right;\">\n",
              "      <th></th>\n",
              "      <th>name</th>\n",
              "      <th>age</th>\n",
              "      <th>dept</th>\n",
              "    </tr>\n",
              "  </thead>\n",
              "  <tbody>\n",
              "    <tr>\n",
              "      <th>0</th>\n",
              "      <td>aysha</td>\n",
              "      <td>23</td>\n",
              "      <td>CSE</td>\n",
              "    </tr>\n",
              "    <tr>\n",
              "      <th>1</th>\n",
              "      <td>habiba</td>\n",
              "      <td>22</td>\n",
              "      <td>SCDC</td>\n",
              "    </tr>\n",
              "    <tr>\n",
              "      <th>2</th>\n",
              "      <td>anis</td>\n",
              "      <td>22</td>\n",
              "      <td>CSE</td>\n",
              "    </tr>\n",
              "  </tbody>\n",
              "</table>\n",
              "</div>"
            ],
            "text/plain": [
              "     name  age  dept\n",
              "0   aysha   23   CSE\n",
              "1  habiba   22  SCDC\n",
              "2    anis   22   CSE"
            ]
          },
          "metadata": {
            "tags": []
          },
          "execution_count": 23
        }
      ]
    },
    {
      "cell_type": "markdown",
      "metadata": {
        "id": "m1bEELpme9bM",
        "colab_type": "text"
      },
      "source": [
        "## another way to plot \n",
        "- prev way : plt.scatter(x,y)"
      ]
    },
    {
      "cell_type": "code",
      "metadata": {
        "id": "3kEbdLlpZxgW",
        "colab_type": "code",
        "colab": {}
      },
      "source": [
        "'''\n",
        "df.plot(kind='scatter', x='col1', y='col2')\n",
        "'''"
      ],
      "execution_count": 0,
      "outputs": []
    },
    {
      "cell_type": "code",
      "metadata": {
        "id": "W_N_kWVUfJkx",
        "colab_type": "code",
        "colab": {}
      },
      "source": [
        ""
      ],
      "execution_count": 0,
      "outputs": []
    }
  ]
}