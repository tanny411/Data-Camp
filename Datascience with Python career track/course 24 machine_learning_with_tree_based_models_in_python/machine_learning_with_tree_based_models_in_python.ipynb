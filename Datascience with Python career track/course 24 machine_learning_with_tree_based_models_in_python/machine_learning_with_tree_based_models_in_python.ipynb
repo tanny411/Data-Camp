{
  "nbformat": 4,
  "nbformat_minor": 0,
  "metadata": {
    "colab": {
      "name": "machine-learning-with-tree-based-models-in-python.ipynb",
      "version": "0.3.2",
      "provenance": [],
      "collapsed_sections": [
        "bUPKgKO80x4O",
        "4drAh2eP70s0"
      ]
    },
    "kernelspec": {
      "name": "python3",
      "display_name": "Python 3"
    }
  },
  "cells": [
    {
      "cell_type": "markdown",
      "metadata": {
        "id": "oEmiXMxTdajO",
        "colab_type": "text"
      },
      "source": [
        "# Classification and Regression Trees"
      ]
    },
    {
      "cell_type": "markdown",
      "metadata": {
        "id": "wx-U5-NjdrNQ",
        "colab_type": "text"
      },
      "source": [
        "- trees can capture non-linear features\n",
        "- trees dont require standardization of data (or any feature scaling)\n",
        "- **Decision region:** region in the feature space where all instances are assigned to one class\n",
        "- **Decision Boundary:** surface separating different decision regions\n",
        "- trees form **rectangular** regions"
      ]
    },
    {
      "cell_type": "markdown",
      "metadata": {
        "id": "QKiaY18kp4za",
        "colab_type": "text"
      },
      "source": [
        "## Data"
      ]
    },
    {
      "cell_type": "code",
      "metadata": {
        "id": "V6zD1upqdqvk",
        "colab_type": "code",
        "colab": {}
      },
      "source": [
        "import pandas as pd"
      ],
      "execution_count": 0,
      "outputs": []
    },
    {
      "cell_type": "code",
      "metadata": {
        "id": "Lzq9pK9AdquI",
        "colab_type": "code",
        "colab": {
          "base_uri": "https://localhost:8080/",
          "height": 272
        },
        "outputId": "067dbf4b-b99d-4b46-e7ca-c3635720532f"
      },
      "source": [
        "url='https://assets.datacamp.com/production/repositories/1796/datasets/0eb6987cb9633e4d6aa6cfd11e00993d2387caa4/wbc.csv'\n",
        "wbc = pd.read_csv(url,index_col=0).drop('Unnamed: 32',axis=1)\n",
        "wbc.head()"
      ],
      "execution_count": 13,
      "outputs": [
        {
          "output_type": "execute_result",
          "data": {
            "text/html": [
              "<div>\n",
              "<style scoped>\n",
              "    .dataframe tbody tr th:only-of-type {\n",
              "        vertical-align: middle;\n",
              "    }\n",
              "\n",
              "    .dataframe tbody tr th {\n",
              "        vertical-align: top;\n",
              "    }\n",
              "\n",
              "    .dataframe thead th {\n",
              "        text-align: right;\n",
              "    }\n",
              "</style>\n",
              "<table border=\"1\" class=\"dataframe\">\n",
              "  <thead>\n",
              "    <tr style=\"text-align: right;\">\n",
              "      <th></th>\n",
              "      <th>diagnosis</th>\n",
              "      <th>radius_mean</th>\n",
              "      <th>texture_mean</th>\n",
              "      <th>perimeter_mean</th>\n",
              "      <th>area_mean</th>\n",
              "      <th>smoothness_mean</th>\n",
              "      <th>compactness_mean</th>\n",
              "      <th>concavity_mean</th>\n",
              "      <th>concave points_mean</th>\n",
              "      <th>symmetry_mean</th>\n",
              "      <th>fractal_dimension_mean</th>\n",
              "      <th>radius_se</th>\n",
              "      <th>texture_se</th>\n",
              "      <th>perimeter_se</th>\n",
              "      <th>area_se</th>\n",
              "      <th>smoothness_se</th>\n",
              "      <th>compactness_se</th>\n",
              "      <th>concavity_se</th>\n",
              "      <th>concave points_se</th>\n",
              "      <th>symmetry_se</th>\n",
              "      <th>fractal_dimension_se</th>\n",
              "      <th>radius_worst</th>\n",
              "      <th>texture_worst</th>\n",
              "      <th>perimeter_worst</th>\n",
              "      <th>area_worst</th>\n",
              "      <th>smoothness_worst</th>\n",
              "      <th>compactness_worst</th>\n",
              "      <th>concavity_worst</th>\n",
              "      <th>concave points_worst</th>\n",
              "      <th>symmetry_worst</th>\n",
              "      <th>fractal_dimension_worst</th>\n",
              "    </tr>\n",
              "    <tr>\n",
              "      <th>id</th>\n",
              "      <th></th>\n",
              "      <th></th>\n",
              "      <th></th>\n",
              "      <th></th>\n",
              "      <th></th>\n",
              "      <th></th>\n",
              "      <th></th>\n",
              "      <th></th>\n",
              "      <th></th>\n",
              "      <th></th>\n",
              "      <th></th>\n",
              "      <th></th>\n",
              "      <th></th>\n",
              "      <th></th>\n",
              "      <th></th>\n",
              "      <th></th>\n",
              "      <th></th>\n",
              "      <th></th>\n",
              "      <th></th>\n",
              "      <th></th>\n",
              "      <th></th>\n",
              "      <th></th>\n",
              "      <th></th>\n",
              "      <th></th>\n",
              "      <th></th>\n",
              "      <th></th>\n",
              "      <th></th>\n",
              "      <th></th>\n",
              "      <th></th>\n",
              "      <th></th>\n",
              "      <th></th>\n",
              "    </tr>\n",
              "  </thead>\n",
              "  <tbody>\n",
              "    <tr>\n",
              "      <th>842302</th>\n",
              "      <td>M</td>\n",
              "      <td>17.99</td>\n",
              "      <td>10.38</td>\n",
              "      <td>122.80</td>\n",
              "      <td>1001.0</td>\n",
              "      <td>0.11840</td>\n",
              "      <td>0.27760</td>\n",
              "      <td>0.3001</td>\n",
              "      <td>0.14710</td>\n",
              "      <td>0.2419</td>\n",
              "      <td>0.07871</td>\n",
              "      <td>1.0950</td>\n",
              "      <td>0.9053</td>\n",
              "      <td>8.589</td>\n",
              "      <td>153.40</td>\n",
              "      <td>0.006399</td>\n",
              "      <td>0.04904</td>\n",
              "      <td>0.05373</td>\n",
              "      <td>0.01587</td>\n",
              "      <td>0.03003</td>\n",
              "      <td>0.006193</td>\n",
              "      <td>25.38</td>\n",
              "      <td>17.33</td>\n",
              "      <td>184.60</td>\n",
              "      <td>2019.0</td>\n",
              "      <td>0.1622</td>\n",
              "      <td>0.6656</td>\n",
              "      <td>0.7119</td>\n",
              "      <td>0.2654</td>\n",
              "      <td>0.4601</td>\n",
              "      <td>0.11890</td>\n",
              "    </tr>\n",
              "    <tr>\n",
              "      <th>842517</th>\n",
              "      <td>M</td>\n",
              "      <td>20.57</td>\n",
              "      <td>17.77</td>\n",
              "      <td>132.90</td>\n",
              "      <td>1326.0</td>\n",
              "      <td>0.08474</td>\n",
              "      <td>0.07864</td>\n",
              "      <td>0.0869</td>\n",
              "      <td>0.07017</td>\n",
              "      <td>0.1812</td>\n",
              "      <td>0.05667</td>\n",
              "      <td>0.5435</td>\n",
              "      <td>0.7339</td>\n",
              "      <td>3.398</td>\n",
              "      <td>74.08</td>\n",
              "      <td>0.005225</td>\n",
              "      <td>0.01308</td>\n",
              "      <td>0.01860</td>\n",
              "      <td>0.01340</td>\n",
              "      <td>0.01389</td>\n",
              "      <td>0.003532</td>\n",
              "      <td>24.99</td>\n",
              "      <td>23.41</td>\n",
              "      <td>158.80</td>\n",
              "      <td>1956.0</td>\n",
              "      <td>0.1238</td>\n",
              "      <td>0.1866</td>\n",
              "      <td>0.2416</td>\n",
              "      <td>0.1860</td>\n",
              "      <td>0.2750</td>\n",
              "      <td>0.08902</td>\n",
              "    </tr>\n",
              "    <tr>\n",
              "      <th>84300903</th>\n",
              "      <td>M</td>\n",
              "      <td>19.69</td>\n",
              "      <td>21.25</td>\n",
              "      <td>130.00</td>\n",
              "      <td>1203.0</td>\n",
              "      <td>0.10960</td>\n",
              "      <td>0.15990</td>\n",
              "      <td>0.1974</td>\n",
              "      <td>0.12790</td>\n",
              "      <td>0.2069</td>\n",
              "      <td>0.05999</td>\n",
              "      <td>0.7456</td>\n",
              "      <td>0.7869</td>\n",
              "      <td>4.585</td>\n",
              "      <td>94.03</td>\n",
              "      <td>0.006150</td>\n",
              "      <td>0.04006</td>\n",
              "      <td>0.03832</td>\n",
              "      <td>0.02058</td>\n",
              "      <td>0.02250</td>\n",
              "      <td>0.004571</td>\n",
              "      <td>23.57</td>\n",
              "      <td>25.53</td>\n",
              "      <td>152.50</td>\n",
              "      <td>1709.0</td>\n",
              "      <td>0.1444</td>\n",
              "      <td>0.4245</td>\n",
              "      <td>0.4504</td>\n",
              "      <td>0.2430</td>\n",
              "      <td>0.3613</td>\n",
              "      <td>0.08758</td>\n",
              "    </tr>\n",
              "    <tr>\n",
              "      <th>84348301</th>\n",
              "      <td>M</td>\n",
              "      <td>11.42</td>\n",
              "      <td>20.38</td>\n",
              "      <td>77.58</td>\n",
              "      <td>386.1</td>\n",
              "      <td>0.14250</td>\n",
              "      <td>0.28390</td>\n",
              "      <td>0.2414</td>\n",
              "      <td>0.10520</td>\n",
              "      <td>0.2597</td>\n",
              "      <td>0.09744</td>\n",
              "      <td>0.4956</td>\n",
              "      <td>1.1560</td>\n",
              "      <td>3.445</td>\n",
              "      <td>27.23</td>\n",
              "      <td>0.009110</td>\n",
              "      <td>0.07458</td>\n",
              "      <td>0.05661</td>\n",
              "      <td>0.01867</td>\n",
              "      <td>0.05963</td>\n",
              "      <td>0.009208</td>\n",
              "      <td>14.91</td>\n",
              "      <td>26.50</td>\n",
              "      <td>98.87</td>\n",
              "      <td>567.7</td>\n",
              "      <td>0.2098</td>\n",
              "      <td>0.8663</td>\n",
              "      <td>0.6869</td>\n",
              "      <td>0.2575</td>\n",
              "      <td>0.6638</td>\n",
              "      <td>0.17300</td>\n",
              "    </tr>\n",
              "    <tr>\n",
              "      <th>84358402</th>\n",
              "      <td>M</td>\n",
              "      <td>20.29</td>\n",
              "      <td>14.34</td>\n",
              "      <td>135.10</td>\n",
              "      <td>1297.0</td>\n",
              "      <td>0.10030</td>\n",
              "      <td>0.13280</td>\n",
              "      <td>0.1980</td>\n",
              "      <td>0.10430</td>\n",
              "      <td>0.1809</td>\n",
              "      <td>0.05883</td>\n",
              "      <td>0.7572</td>\n",
              "      <td>0.7813</td>\n",
              "      <td>5.438</td>\n",
              "      <td>94.44</td>\n",
              "      <td>0.011490</td>\n",
              "      <td>0.02461</td>\n",
              "      <td>0.05688</td>\n",
              "      <td>0.01885</td>\n",
              "      <td>0.01756</td>\n",
              "      <td>0.005115</td>\n",
              "      <td>22.54</td>\n",
              "      <td>16.67</td>\n",
              "      <td>152.20</td>\n",
              "      <td>1575.0</td>\n",
              "      <td>0.1374</td>\n",
              "      <td>0.2050</td>\n",
              "      <td>0.4000</td>\n",
              "      <td>0.1625</td>\n",
              "      <td>0.2364</td>\n",
              "      <td>0.07678</td>\n",
              "    </tr>\n",
              "  </tbody>\n",
              "</table>\n",
              "</div>"
            ],
            "text/plain": [
              "         diagnosis  radius_mean  ...  symmetry_worst  fractal_dimension_worst\n",
              "id                               ...                                         \n",
              "842302           M        17.99  ...          0.4601                  0.11890\n",
              "842517           M        20.57  ...          0.2750                  0.08902\n",
              "84300903         M        19.69  ...          0.3613                  0.08758\n",
              "84348301         M        11.42  ...          0.6638                  0.17300\n",
              "84358402         M        20.29  ...          0.2364                  0.07678\n",
              "\n",
              "[5 rows x 31 columns]"
            ]
          },
          "metadata": {
            "tags": []
          },
          "execution_count": 13
        }
      ]
    },
    {
      "cell_type": "code",
      "metadata": {
        "id": "w9CVSlS4dqsF",
        "colab_type": "code",
        "colab": {
          "base_uri": "https://localhost:8080/",
          "height": 204
        },
        "outputId": "2f9a2b29-38d0-4676-d0a0-3922ca923c3a"
      },
      "source": [
        "auto = 'https://assets.datacamp.com/production/repositories/1796/datasets/3781d588cf7b04b1e376c7e9dda489b3e6c7465b/auto.csv'\n",
        "auto = pd.read_csv(auto)\n",
        "auto.head()"
      ],
      "execution_count": 72,
      "outputs": [
        {
          "output_type": "execute_result",
          "data": {
            "text/html": [
              "<div>\n",
              "<style scoped>\n",
              "    .dataframe tbody tr th:only-of-type {\n",
              "        vertical-align: middle;\n",
              "    }\n",
              "\n",
              "    .dataframe tbody tr th {\n",
              "        vertical-align: top;\n",
              "    }\n",
              "\n",
              "    .dataframe thead th {\n",
              "        text-align: right;\n",
              "    }\n",
              "</style>\n",
              "<table border=\"1\" class=\"dataframe\">\n",
              "  <thead>\n",
              "    <tr style=\"text-align: right;\">\n",
              "      <th></th>\n",
              "      <th>mpg</th>\n",
              "      <th>displ</th>\n",
              "      <th>hp</th>\n",
              "      <th>weight</th>\n",
              "      <th>accel</th>\n",
              "      <th>origin</th>\n",
              "      <th>size</th>\n",
              "    </tr>\n",
              "  </thead>\n",
              "  <tbody>\n",
              "    <tr>\n",
              "      <th>0</th>\n",
              "      <td>18.0</td>\n",
              "      <td>250.0</td>\n",
              "      <td>88</td>\n",
              "      <td>3139</td>\n",
              "      <td>14.5</td>\n",
              "      <td>US</td>\n",
              "      <td>15.0</td>\n",
              "    </tr>\n",
              "    <tr>\n",
              "      <th>1</th>\n",
              "      <td>9.0</td>\n",
              "      <td>304.0</td>\n",
              "      <td>193</td>\n",
              "      <td>4732</td>\n",
              "      <td>18.5</td>\n",
              "      <td>US</td>\n",
              "      <td>20.0</td>\n",
              "    </tr>\n",
              "    <tr>\n",
              "      <th>2</th>\n",
              "      <td>36.1</td>\n",
              "      <td>91.0</td>\n",
              "      <td>60</td>\n",
              "      <td>1800</td>\n",
              "      <td>16.4</td>\n",
              "      <td>Asia</td>\n",
              "      <td>10.0</td>\n",
              "    </tr>\n",
              "    <tr>\n",
              "      <th>3</th>\n",
              "      <td>18.5</td>\n",
              "      <td>250.0</td>\n",
              "      <td>98</td>\n",
              "      <td>3525</td>\n",
              "      <td>19.0</td>\n",
              "      <td>US</td>\n",
              "      <td>15.0</td>\n",
              "    </tr>\n",
              "    <tr>\n",
              "      <th>4</th>\n",
              "      <td>34.3</td>\n",
              "      <td>97.0</td>\n",
              "      <td>78</td>\n",
              "      <td>2188</td>\n",
              "      <td>15.8</td>\n",
              "      <td>Europe</td>\n",
              "      <td>10.0</td>\n",
              "    </tr>\n",
              "  </tbody>\n",
              "</table>\n",
              "</div>"
            ],
            "text/plain": [
              "    mpg  displ   hp  weight  accel  origin  size\n",
              "0  18.0  250.0   88    3139   14.5      US  15.0\n",
              "1   9.0  304.0  193    4732   18.5      US  20.0\n",
              "2  36.1   91.0   60    1800   16.4    Asia  10.0\n",
              "3  18.5  250.0   98    3525   19.0      US  15.0\n",
              "4  34.3   97.0   78    2188   15.8  Europe  10.0"
            ]
          },
          "metadata": {
            "tags": []
          },
          "execution_count": 72
        }
      ]
    },
    {
      "cell_type": "code",
      "metadata": {
        "id": "BCUxkNoxdqoO",
        "colab_type": "code",
        "colab": {
          "base_uri": "https://localhost:8080/",
          "height": 204
        },
        "outputId": "12343d27-f343-40bb-d4bc-0a2741a1d242"
      },
      "source": [
        "bike='https://assets.datacamp.com/production/repositories/1796/datasets/594538f54a854b322d6e4c8031f3f31bc522d3e5/bikes.csv'\n",
        "bike = pd.read_csv(bike)\n",
        "bike.head()"
      ],
      "execution_count": 76,
      "outputs": [
        {
          "output_type": "execute_result",
          "data": {
            "text/html": [
              "<div>\n",
              "<style scoped>\n",
              "    .dataframe tbody tr th:only-of-type {\n",
              "        vertical-align: middle;\n",
              "    }\n",
              "\n",
              "    .dataframe tbody tr th {\n",
              "        vertical-align: top;\n",
              "    }\n",
              "\n",
              "    .dataframe thead th {\n",
              "        text-align: right;\n",
              "    }\n",
              "</style>\n",
              "<table border=\"1\" class=\"dataframe\">\n",
              "  <thead>\n",
              "    <tr style=\"text-align: right;\">\n",
              "      <th></th>\n",
              "      <th>hr</th>\n",
              "      <th>holiday</th>\n",
              "      <th>workingday</th>\n",
              "      <th>temp</th>\n",
              "      <th>hum</th>\n",
              "      <th>windspeed</th>\n",
              "      <th>cnt</th>\n",
              "      <th>instant</th>\n",
              "      <th>mnth</th>\n",
              "      <th>yr</th>\n",
              "      <th>Clear to partly cloudy</th>\n",
              "      <th>Light Precipitation</th>\n",
              "      <th>Misty</th>\n",
              "    </tr>\n",
              "  </thead>\n",
              "  <tbody>\n",
              "    <tr>\n",
              "      <th>0</th>\n",
              "      <td>0</td>\n",
              "      <td>0</td>\n",
              "      <td>0</td>\n",
              "      <td>0.76</td>\n",
              "      <td>0.66</td>\n",
              "      <td>0.0000</td>\n",
              "      <td>149</td>\n",
              "      <td>13004</td>\n",
              "      <td>7</td>\n",
              "      <td>1</td>\n",
              "      <td>1</td>\n",
              "      <td>0</td>\n",
              "      <td>0</td>\n",
              "    </tr>\n",
              "    <tr>\n",
              "      <th>1</th>\n",
              "      <td>1</td>\n",
              "      <td>0</td>\n",
              "      <td>0</td>\n",
              "      <td>0.74</td>\n",
              "      <td>0.70</td>\n",
              "      <td>0.1343</td>\n",
              "      <td>93</td>\n",
              "      <td>13005</td>\n",
              "      <td>7</td>\n",
              "      <td>1</td>\n",
              "      <td>1</td>\n",
              "      <td>0</td>\n",
              "      <td>0</td>\n",
              "    </tr>\n",
              "    <tr>\n",
              "      <th>2</th>\n",
              "      <td>2</td>\n",
              "      <td>0</td>\n",
              "      <td>0</td>\n",
              "      <td>0.72</td>\n",
              "      <td>0.74</td>\n",
              "      <td>0.0896</td>\n",
              "      <td>90</td>\n",
              "      <td>13006</td>\n",
              "      <td>7</td>\n",
              "      <td>1</td>\n",
              "      <td>1</td>\n",
              "      <td>0</td>\n",
              "      <td>0</td>\n",
              "    </tr>\n",
              "    <tr>\n",
              "      <th>3</th>\n",
              "      <td>3</td>\n",
              "      <td>0</td>\n",
              "      <td>0</td>\n",
              "      <td>0.72</td>\n",
              "      <td>0.84</td>\n",
              "      <td>0.1343</td>\n",
              "      <td>33</td>\n",
              "      <td>13007</td>\n",
              "      <td>7</td>\n",
              "      <td>1</td>\n",
              "      <td>1</td>\n",
              "      <td>0</td>\n",
              "      <td>0</td>\n",
              "    </tr>\n",
              "    <tr>\n",
              "      <th>4</th>\n",
              "      <td>4</td>\n",
              "      <td>0</td>\n",
              "      <td>0</td>\n",
              "      <td>0.70</td>\n",
              "      <td>0.79</td>\n",
              "      <td>0.1940</td>\n",
              "      <td>4</td>\n",
              "      <td>13008</td>\n",
              "      <td>7</td>\n",
              "      <td>1</td>\n",
              "      <td>1</td>\n",
              "      <td>0</td>\n",
              "      <td>0</td>\n",
              "    </tr>\n",
              "  </tbody>\n",
              "</table>\n",
              "</div>"
            ],
            "text/plain": [
              "   hr  holiday  workingday  ...  Clear to partly cloudy  Light Precipitation  Misty\n",
              "0   0        0           0  ...                       1                    0      0\n",
              "1   1        0           0  ...                       1                    0      0\n",
              "2   2        0           0  ...                       1                    0      0\n",
              "3   3        0           0  ...                       1                    0      0\n",
              "4   4        0           0  ...                       1                    0      0\n",
              "\n",
              "[5 rows x 13 columns]"
            ]
          },
          "metadata": {
            "tags": []
          },
          "execution_count": 76
        }
      ]
    },
    {
      "cell_type": "markdown",
      "metadata": {
        "id": "M2SPyI9lij-n",
        "colab_type": "text"
      },
      "source": [
        "## WBC classification"
      ]
    },
    {
      "cell_type": "code",
      "metadata": {
        "id": "ym7O4_UCiltT",
        "colab_type": "code",
        "colab": {
          "base_uri": "https://localhost:8080/",
          "height": 68
        },
        "outputId": "caae6fdf-1b22-421f-e7eb-a217b8e4f1ed"
      },
      "source": [
        "y = wbc['diagnosis']\n",
        "y.value_counts()"
      ],
      "execution_count": 106,
      "outputs": [
        {
          "output_type": "execute_result",
          "data": {
            "text/plain": [
              "B    357\n",
              "M    212\n",
              "Name: diagnosis, dtype: int64"
            ]
          },
          "metadata": {
            "tags": []
          },
          "execution_count": 106
        }
      ]
    },
    {
      "cell_type": "code",
      "metadata": {
        "id": "iZdTrbc1iu4C",
        "colab_type": "code",
        "colab": {
          "base_uri": "https://localhost:8080/",
          "height": 68
        },
        "outputId": "85599632-d9ba-4512-9ec9-e0b9a58550aa"
      },
      "source": [
        "y = (y=='M').astype(int)\n",
        "y.value_counts()"
      ],
      "execution_count": 107,
      "outputs": [
        {
          "output_type": "execute_result",
          "data": {
            "text/plain": [
              "0    357\n",
              "1    212\n",
              "Name: diagnosis, dtype: int64"
            ]
          },
          "metadata": {
            "tags": []
          },
          "execution_count": 107
        }
      ]
    },
    {
      "cell_type": "code",
      "metadata": {
        "id": "-P2xT5Z6jQa8",
        "colab_type": "code",
        "colab": {
          "base_uri": "https://localhost:8080/",
          "height": 34
        },
        "outputId": "22e8b65c-5cc1-4bbb-f5e7-a011ab38e580"
      },
      "source": [
        "y.shape"
      ],
      "execution_count": 108,
      "outputs": [
        {
          "output_type": "execute_result",
          "data": {
            "text/plain": [
              "(569,)"
            ]
          },
          "metadata": {
            "tags": []
          },
          "execution_count": 108
        }
      ]
    },
    {
      "cell_type": "code",
      "metadata": {
        "id": "6gQGu0uviu1Y",
        "colab_type": "code",
        "colab": {
          "base_uri": "https://localhost:8080/",
          "height": 34
        },
        "outputId": "d1151750-0334-437d-dbb8-b9f158e56712"
      },
      "source": [
        "X = wbc.drop('diagnosis',axis=1)\n",
        "X = X.values\n",
        "X.shape"
      ],
      "execution_count": 109,
      "outputs": [
        {
          "output_type": "execute_result",
          "data": {
            "text/plain": [
              "(569, 30)"
            ]
          },
          "metadata": {
            "tags": []
          },
          "execution_count": 109
        }
      ]
    },
    {
      "cell_type": "code",
      "metadata": {
        "id": "mccdgfy4dqmG",
        "colab_type": "code",
        "colab": {
          "base_uri": "https://localhost:8080/",
          "height": 34
        },
        "outputId": "a6e39fbc-9def-422d-d972-5487af7568dc"
      },
      "source": [
        "from sklearn.model_selection import train_test_split\n",
        "\n",
        "X_train,X_test,y_train,y_test = train_test_split(X,y,stratify=y,test_size=0.2)\n",
        "X_train.shape,X_test.shape,y_train.shape,y_test.shape"
      ],
      "execution_count": 110,
      "outputs": [
        {
          "output_type": "execute_result",
          "data": {
            "text/plain": [
              "((455, 30), (114, 30), (455,), (114,))"
            ]
          },
          "metadata": {
            "tags": []
          },
          "execution_count": 110
        }
      ]
    },
    {
      "cell_type": "code",
      "metadata": {
        "id": "2H72lAcUgvTj",
        "colab_type": "code",
        "colab": {
          "base_uri": "https://localhost:8080/",
          "height": 34
        },
        "outputId": "7fb90453-2f68-4d37-f1f4-ea3d41b8884f"
      },
      "source": [
        "from sklearn.tree import DecisionTreeClassifier\n",
        "\n",
        "# Instantiate a DecisionTreeClassifier 'dt' with a maximum depth of 6\n",
        "SEED=1\n",
        "dt = DecisionTreeClassifier(max_depth=6 , random_state=SEED) \n",
        "#criterion='gini'/'entropy' if you wanna set\n",
        "\n",
        "# Fit dt to the training set\n",
        "dt.fit(X_train, y_train)\n",
        "\n",
        "# Predict test set labels\n",
        "y_pred = dt.predict(X_test)\n",
        "print(y_pred[0:5])"
      ],
      "execution_count": 25,
      "outputs": [
        {
          "output_type": "stream",
          "text": [
            "[0 1 0 1 0]\n"
          ],
          "name": "stdout"
        }
      ]
    },
    {
      "cell_type": "code",
      "metadata": {
        "id": "S3gO9_CKgvR3",
        "colab_type": "code",
        "colab": {
          "base_uri": "https://localhost:8080/",
          "height": 34
        },
        "outputId": "e3befe42-1451-4432-f4d7-ee81ae6f81c3"
      },
      "source": [
        "# Import accuracy_score\n",
        "from sklearn.metrics import accuracy_score\n",
        "\n",
        "# Predict test set labels\n",
        "y_pred = dt.predict(X_test)\n",
        "\n",
        "# Compute test set accuracy  \n",
        "acc = accuracy_score(y_pred,y_test)\n",
        "print(\"Test set accuracy: {:.2f}\".format(acc))"
      ],
      "execution_count": 26,
      "outputs": [
        {
          "output_type": "stream",
          "text": [
            "Test set accuracy: 0.92\n"
          ],
          "name": "stdout"
        }
      ]
    },
    {
      "cell_type": "code",
      "metadata": {
        "id": "KssEybGXgvPB",
        "colab_type": "code",
        "colab": {}
      },
      "source": [
        "# Import LogisticRegression from sklearn.linear_model\n",
        "from sklearn.linear_model import  LogisticRegression\n",
        "\n",
        "# Instatiate logreg\n",
        "logreg = LogisticRegression(random_state=1)\n",
        "\n",
        "# Fit logreg to the training set\n",
        "logreg.fit(X_train,y_train)\n",
        "\n",
        "# Define a list called clfs containing the two classifiers logreg and dt\n",
        "clfs = [logreg, dt]\n",
        "\n",
        "# Review the decision regions of the two classifiers\n",
        "plot_labeled_decision_regions(X_test, y_test, clfs)"
      ],
      "execution_count": 0,
      "outputs": []
    },
    {
      "cell_type": "markdown",
      "metadata": {
        "id": "0-0xI9uMlOK0",
        "colab_type": "text"
      },
      "source": [
        "![image.png](data:image/png;base64,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)"
      ]
    },
    {
      "cell_type": "markdown",
      "metadata": {
        "id": "rbbn4a_Il1y0",
        "colab_type": "text"
      },
      "source": [
        "**Types of nodes**\n",
        "- root and internal nodes have no question and have children\n",
        "- leaf has no questions and just gives the prediction\n",
        "- each leaf will predict a single class(multiple leaves can ofcourse classifiy to same class)\n",
        "- nodes are split by maximizing information gain\n",
        "- `IG(f,sp) = I(parent) - (Nleft/N * I(left) + Nright/N * I(right))`\n",
        "- N is number of samples, f is feature, sp is split point\n",
        "- I(node) can be\n",
        "  - entropy\n",
        "  - Gini index\n",
        "- if IG(node)=0, its a leaf\n",
        "- for contrained trees (where depth is mentioned), at that depth, all nodes will be declated leaf"
      ]
    },
    {
      "cell_type": "markdown",
      "metadata": {
        "id": "ZYpYwN5voU8J",
        "colab_type": "text"
      },
      "source": [
        "### Entropy vs gini"
      ]
    },
    {
      "cell_type": "code",
      "metadata": {
        "id": "8t1OJG2ygvMX",
        "colab_type": "code",
        "colab": {}
      },
      "source": [
        "from sklearn.tree import DecisionTreeClassifier\n",
        "\n",
        "dt_entropy = DecisionTreeClassifier(max_depth=8, criterion='entropy', random_state=1)\n",
        "dt_entropy.fit(X_train, y_train)\n",
        "\n",
        "dt_gini = DecisionTreeClassifier(max_depth=8, criterion='gini', random_state=1)\n",
        "dt_gini.fit(X_train, y_train);"
      ],
      "execution_count": 0,
      "outputs": []
    },
    {
      "cell_type": "code",
      "metadata": {
        "id": "JXv2wQ-sotmf",
        "colab_type": "code",
        "colab": {
          "base_uri": "https://localhost:8080/",
          "height": 51
        },
        "outputId": "610c5136-d426-419d-844b-bfe4601e789a"
      },
      "source": [
        "from sklearn.metrics import accuracy_score\n",
        "\n",
        "y_pred = dt_entropy.predict(X_test)\n",
        "accuracy_entropy = accuracy_score(y_pred, y_test)\n",
        "\n",
        "# Print accuracy_entropy\n",
        "print('Accuracy achieved by using entropy: ', accuracy_entropy)\n",
        "\n",
        "\n",
        "y_pred = dt_gini.predict(X_test)\n",
        "accuracy_gini = accuracy_score(y_pred, y_test)\n",
        "\n",
        "# Print accuracy_gini\n",
        "print('Accuracy achieved by using the gini index: ', accuracy_gini)"
      ],
      "execution_count": 32,
      "outputs": [
        {
          "output_type": "stream",
          "text": [
            "Accuracy achieved by using entropy:  0.9210526315789473\n",
            "Accuracy achieved by using the gini index:  0.9473684210526315\n"
          ],
          "name": "stdout"
        }
      ]
    },
    {
      "cell_type": "markdown",
      "metadata": {
        "id": "b5orHWJwpZub",
        "colab_type": "text"
      },
      "source": [
        "Nice work! Notice how the two models achieve exactly the same accuracy. Most of the time, the gini index and entropy lead to the same results. The gini index is slightly faster to compute and is the default criterion used in the DecisionTreeClassifier model of scikit-learn."
      ]
    },
    {
      "cell_type": "markdown",
      "metadata": {
        "id": "CTG2uppupwoB",
        "colab_type": "text"
      },
      "source": [
        "## Decision tree for regression"
      ]
    },
    {
      "cell_type": "markdown",
      "metadata": {
        "id": "fKF9D2nLqUDK",
        "colab_type": "text"
      },
      "source": [
        "- In regression impurity of a node is measured by mse\n",
        "- I(node) = mse(node) = (1/N)( sum((y-y')**2) )\n",
        "- prediction at any node = average of samples in that node\n",
        "- "
      ]
    },
    {
      "cell_type": "code",
      "metadata": {
        "id": "Ig7Wv_YypZWq",
        "colab_type": "code",
        "colab": {
          "base_uri": "https://localhost:8080/",
          "height": 204
        },
        "outputId": "efad42d0-f5a5-4c41-e446-35e5e42b104a"
      },
      "source": [
        "auto.head()"
      ],
      "execution_count": 33,
      "outputs": [
        {
          "output_type": "execute_result",
          "data": {
            "text/html": [
              "<div>\n",
              "<style scoped>\n",
              "    .dataframe tbody tr th:only-of-type {\n",
              "        vertical-align: middle;\n",
              "    }\n",
              "\n",
              "    .dataframe tbody tr th {\n",
              "        vertical-align: top;\n",
              "    }\n",
              "\n",
              "    .dataframe thead th {\n",
              "        text-align: right;\n",
              "    }\n",
              "</style>\n",
              "<table border=\"1\" class=\"dataframe\">\n",
              "  <thead>\n",
              "    <tr style=\"text-align: right;\">\n",
              "      <th></th>\n",
              "      <th>mpg</th>\n",
              "      <th>displ</th>\n",
              "      <th>hp</th>\n",
              "      <th>weight</th>\n",
              "      <th>accel</th>\n",
              "      <th>origin</th>\n",
              "      <th>size</th>\n",
              "    </tr>\n",
              "  </thead>\n",
              "  <tbody>\n",
              "    <tr>\n",
              "      <th>0</th>\n",
              "      <td>18.0</td>\n",
              "      <td>250.0</td>\n",
              "      <td>88</td>\n",
              "      <td>3139</td>\n",
              "      <td>14.5</td>\n",
              "      <td>US</td>\n",
              "      <td>15.0</td>\n",
              "    </tr>\n",
              "    <tr>\n",
              "      <th>1</th>\n",
              "      <td>9.0</td>\n",
              "      <td>304.0</td>\n",
              "      <td>193</td>\n",
              "      <td>4732</td>\n",
              "      <td>18.5</td>\n",
              "      <td>US</td>\n",
              "      <td>20.0</td>\n",
              "    </tr>\n",
              "    <tr>\n",
              "      <th>2</th>\n",
              "      <td>36.1</td>\n",
              "      <td>91.0</td>\n",
              "      <td>60</td>\n",
              "      <td>1800</td>\n",
              "      <td>16.4</td>\n",
              "      <td>Asia</td>\n",
              "      <td>10.0</td>\n",
              "    </tr>\n",
              "    <tr>\n",
              "      <th>3</th>\n",
              "      <td>18.5</td>\n",
              "      <td>250.0</td>\n",
              "      <td>98</td>\n",
              "      <td>3525</td>\n",
              "      <td>19.0</td>\n",
              "      <td>US</td>\n",
              "      <td>15.0</td>\n",
              "    </tr>\n",
              "    <tr>\n",
              "      <th>4</th>\n",
              "      <td>34.3</td>\n",
              "      <td>97.0</td>\n",
              "      <td>78</td>\n",
              "      <td>2188</td>\n",
              "      <td>15.8</td>\n",
              "      <td>Europe</td>\n",
              "      <td>10.0</td>\n",
              "    </tr>\n",
              "  </tbody>\n",
              "</table>\n",
              "</div>"
            ],
            "text/plain": [
              "    mpg  displ   hp  weight  accel  origin  size\n",
              "0  18.0  250.0   88    3139   14.5      US  15.0\n",
              "1   9.0  304.0  193    4732   18.5      US  20.0\n",
              "2  36.1   91.0   60    1800   16.4    Asia  10.0\n",
              "3  18.5  250.0   98    3525   19.0      US  15.0\n",
              "4  34.3   97.0   78    2188   15.8  Europe  10.0"
            ]
          },
          "metadata": {
            "tags": []
          },
          "execution_count": 33
        }
      ]
    },
    {
      "cell_type": "code",
      "metadata": {
        "colab_type": "code",
        "outputId": "d4791846-7f66-4638-b16a-78cd25f2836e",
        "id": "p-RYCynWrWLi",
        "colab": {
          "base_uri": "https://localhost:8080/",
          "height": 34
        }
      },
      "source": [
        "y = auto['mpg'].values\n",
        "y.shape"
      ],
      "execution_count": 73,
      "outputs": [
        {
          "output_type": "execute_result",
          "data": {
            "text/plain": [
              "(392,)"
            ]
          },
          "metadata": {
            "tags": []
          },
          "execution_count": 73
        }
      ]
    },
    {
      "cell_type": "code",
      "metadata": {
        "colab_type": "code",
        "outputId": "e0f8ccc2-4216-4db7-8ee7-270f7f98e262",
        "id": "IP_YJh7wrWL1",
        "colab": {
          "base_uri": "https://localhost:8080/",
          "height": 34
        }
      },
      "source": [
        "X = pd.concat((auto.drop('mpg',axis=1).drop('origin',axis=1), pd.get_dummies(auto['origin'])), axis=1)\n",
        "X = X.values\n",
        "X.shape"
      ],
      "execution_count": 74,
      "outputs": [
        {
          "output_type": "execute_result",
          "data": {
            "text/plain": [
              "(392, 8)"
            ]
          },
          "metadata": {
            "tags": []
          },
          "execution_count": 74
        }
      ]
    },
    {
      "cell_type": "code",
      "metadata": {
        "id": "NuXlZQdLotjo",
        "colab_type": "code",
        "colab": {
          "base_uri": "https://localhost:8080/",
          "height": 34
        },
        "outputId": "f4c32611-0fc6-4ff3-8d9d-5505ea7a4445"
      },
      "source": [
        "X_train,X_test,y_train,y_test = train_test_split(X,y,test_size=0.2)\n",
        "X_train.shape,X_test.shape,y_train.shape,y_test.shape"
      ],
      "execution_count": 75,
      "outputs": [
        {
          "output_type": "execute_result",
          "data": {
            "text/plain": [
              "((313, 8), (79, 8), (313,), (79,))"
            ]
          },
          "metadata": {
            "tags": []
          },
          "execution_count": 75
        }
      ]
    },
    {
      "cell_type": "code",
      "metadata": {
        "id": "dDIiNNtxothV",
        "colab_type": "code",
        "colab": {
          "base_uri": "https://localhost:8080/",
          "height": 102
        },
        "outputId": "578b1a99-0323-4e4f-bccb-719290ca6245"
      },
      "source": [
        "# Import DecisionTreeRegressor from sklearn.tree\n",
        "from sklearn.tree import DecisionTreeRegressor\n",
        "\n",
        "# Instantiate dt\n",
        "dt = DecisionTreeRegressor(max_depth=8,\n",
        "             min_samples_leaf=0.13, #each leaf shoulhd have atleadt 13% of the dataset\n",
        "            random_state=3)\n",
        "\n",
        "# Fit dt to the training set\n",
        "dt.fit(X_train,y_train)"
      ],
      "execution_count": 43,
      "outputs": [
        {
          "output_type": "execute_result",
          "data": {
            "text/plain": [
              "DecisionTreeRegressor(criterion='mse', max_depth=8, max_features=None,\n",
              "                      max_leaf_nodes=None, min_impurity_decrease=0.0,\n",
              "                      min_impurity_split=None, min_samples_leaf=0.13,\n",
              "                      min_samples_split=2, min_weight_fraction_leaf=0.0,\n",
              "                      presort=False, random_state=3, splitter='best')"
            ]
          },
          "metadata": {
            "tags": []
          },
          "execution_count": 43
        }
      ]
    },
    {
      "cell_type": "code",
      "metadata": {
        "id": "VeXw0F1CuAoM",
        "colab_type": "code",
        "colab": {
          "base_uri": "https://localhost:8080/",
          "height": 34
        },
        "outputId": "28b072e5-1fef-4dd2-93fe-4b70fe286182"
      },
      "source": [
        "# Import mean_squared_error from sklearn.metrics as MSE\n",
        "from sklearn.metrics import mean_squared_error as MSE\n",
        "\n",
        "# Compute y_pred\n",
        "y_pred = dt.predict(X_test)\n",
        "\n",
        "# Compute mse_dt\n",
        "mse_dt = MSE(y_pred, y_test)\n",
        "\n",
        "# Compute rmse_dt\n",
        "rmse_dt = (mse_dt)**(1/2)\n",
        "\n",
        "# Print rmse_dt\n",
        "print(\"Test set RMSE of dt: {:.2f}\".format(rmse_dt))"
      ],
      "execution_count": 44,
      "outputs": [
        {
          "output_type": "stream",
          "text": [
            "Test set RMSE of dt: 4.60\n"
          ],
          "name": "stdout"
        }
      ]
    },
    {
      "cell_type": "markdown",
      "metadata": {
        "id": "YRI_k6kwdaeq",
        "colab_type": "text"
      },
      "source": [
        "# The Bias-Variance Tradeoff"
      ]
    },
    {
      "cell_type": "markdown",
      "metadata": {
        "id": "bUPKgKO80x4O",
        "colab_type": "text"
      },
      "source": [
        "## Bias-variance"
      ]
    },
    {
      "cell_type": "markdown",
      "metadata": {
        "id": "vwUsD01nvGwE",
        "colab_type": "text"
      },
      "source": [
        "- **Overfitting**: fits the training set noise  -------  train error << valid error-------high variance\n",
        "- **Underfitting** : approximated f (f-hat) is not flexible enough to reach real f .---------train error, valid error almost same but both high.-------high bias\n",
        "\n",
        "\n",
        "`Error = bias^2 + varance + irreducable noise`\n",
        "\n",
        "\n",
        "\n",
        "- we cant calculate true error\n",
        "- but, error of test set ~= generalization error\n",
        "- can use K-fold CV\n",
        "- if CV error > train error **high variance**\n",
        "  - reduce complexity\n",
        "  - get more data\n",
        "- if CV error ~= train error >> desired error **high bias**\n",
        "  - increase model complexity\n",
        "  - gather more features for the problem"
      ]
    },
    {
      "cell_type": "code",
      "metadata": {
        "id": "qxGMSZGduovJ",
        "colab_type": "code",
        "colab": {}
      },
      "source": [
        "from sklearn.model_selection import train_test_split\n",
        "\n",
        "### Using auto dataset\n",
        "\n",
        "# Set SEED for reproducibility\n",
        "SEED = 1\n",
        "\n",
        "# Split the data into 70% train and 30% test\n",
        "X_train, X_test, y_train, y_test = train_test_split(X, y, test_size=0.3, random_state=SEED)\n",
        "\n",
        "# Instantiate a DecisionTreeRegressor dt\n",
        "dt = DecisionTreeRegressor(max_depth=4, min_samples_leaf=0.26, random_state=SEED)"
      ],
      "execution_count": 0,
      "outputs": []
    },
    {
      "cell_type": "markdown",
      "metadata": {
        "id": "Kht91jfVzCQy",
        "colab_type": "text"
      },
      "source": [
        "Note that since cross_val_score has only the option of evaluating the negative MSEs, its output should be multiplied by negative one to obtain the MSEs."
      ]
    },
    {
      "cell_type": "code",
      "metadata": {
        "id": "Q_8ZAyrKuopu",
        "colab_type": "code",
        "colab": {
          "base_uri": "https://localhost:8080/",
          "height": 34
        },
        "outputId": "b428d8fc-e982-4320-8271-bba36afb1b88"
      },
      "source": [
        "from sklearn.model_selection import cross_val_score \n",
        "\n",
        "# Compute the array containing the 10-folds CV MSEs\n",
        "MSE_CV_scores = - cross_val_score(dt, X_train, y_train, cv=10, \n",
        "                       scoring='neg_mean_squared_error',\n",
        "                       n_jobs=-1)\n",
        "\n",
        "# Compute the 10-folds CV RMSE\n",
        "RMSE_CV = (MSE_CV_scores.mean())**(1/2)\n",
        "\n",
        "# Print RMSE_CV\n",
        "print('CV RMSE: {:.2f}'.format(RMSE_CV))"
      ],
      "execution_count": 46,
      "outputs": [
        {
          "output_type": "stream",
          "text": [
            "CV RMSE: 5.14\n"
          ],
          "name": "stdout"
        }
      ]
    },
    {
      "cell_type": "code",
      "metadata": {
        "id": "IzgMcJVR0Bol",
        "colab_type": "code",
        "colab": {
          "base_uri": "https://localhost:8080/",
          "height": 34
        },
        "outputId": "7832763c-d07d-425a-e832-357720dd4bc5"
      },
      "source": [
        "from sklearn.metrics import mean_squared_error as MSE\n",
        "\n",
        "# Fit dt to the training set(just to get predictions)\n",
        "dt.fit(X_train,y_train)\n",
        "\n",
        "# Predict the labels of the training set\n",
        "y_pred_train = dt.predict(X_train)\n",
        "\n",
        "# Evaluate the training set RMSE of dt\n",
        "RMSE_train = (MSE(y_train,y_pred_train))**(1/2)\n",
        "\n",
        "# Print RMSE_train\n",
        "print('Train RMSE: {:.2f}'.format(RMSE_train))"
      ],
      "execution_count": 47,
      "outputs": [
        {
          "output_type": "stream",
          "text": [
            "Train RMSE: 5.15\n"
          ],
          "name": "stdout"
        }
      ]
    },
    {
      "cell_type": "code",
      "metadata": {
        "id": "nPM8bh2R0Jm3",
        "colab_type": "code",
        "colab": {}
      },
      "source": [
        "baseline_RMSE=5.1"
      ],
      "execution_count": 0,
      "outputs": []
    },
    {
      "cell_type": "markdown",
      "metadata": {
        "id": "1yI52Upq0r0E",
        "colab_type": "text"
      },
      "source": [
        "dt is indeed underfitting the training set as the model is too constrained to capture the nonlinear dependencies between features and labels"
      ]
    },
    {
      "cell_type": "markdown",
      "metadata": {
        "id": "rOnwYx4t0v6B",
        "colab_type": "text"
      },
      "source": [
        "## Ensemble"
      ]
    },
    {
      "cell_type": "markdown",
      "metadata": {
        "id": "RoUSuPMg1Of-",
        "colab_type": "text"
      },
      "source": [
        "Problems with trees\n",
        "- orthogonal decision boundaries only\n",
        "- sensitive to small variations in training set\n",
        "- unconstrained trees overfit easily\n",
        "- solution :ensemble\n",
        "- best results when we ensemble models that are skilful in different ways"
      ]
    },
    {
      "cell_type": "code",
      "metadata": {
        "id": "Ey7xOEtR01S5",
        "colab_type": "code",
        "colab": {}
      },
      "source": [
        "from sklearn.neighbors import KNeighborsClassifier as KNN\n",
        "from sklearn.linear_model import  LogisticRegression"
      ],
      "execution_count": 0,
      "outputs": []
    },
    {
      "cell_type": "markdown",
      "metadata": {
        "id": "ArFpkRyF81wy",
        "colab_type": "text"
      },
      "source": [
        "Using Breast Cancer Dataset"
      ]
    },
    {
      "cell_type": "code",
      "metadata": {
        "id": "tmFTud5T01RH",
        "colab_type": "code",
        "colab": {}
      },
      "source": [
        "# Set seed for reproducibility\n",
        "SEED=1\n",
        "\n",
        "# Instantiate lr\n",
        "lr = LogisticRegression(random_state=SEED)\n",
        "\n",
        "# Instantiate knn\n",
        "knn = KNN(n_neighbors=27)\n",
        "\n",
        "# Instantiate dt\n",
        "dt = DecisionTreeClassifier(min_samples_leaf=0.13, random_state=SEED)\n",
        "\n",
        "# Define the list classifiers\n",
        "classifiers = [('Logistic Regression', lr), ('K Nearest Neighbours', knn), ('Classification Tree', dt)]"
      ],
      "execution_count": 0,
      "outputs": []
    },
    {
      "cell_type": "code",
      "metadata": {
        "id": "UNEa7n1301N2",
        "colab_type": "code",
        "colab": {
          "base_uri": "https://localhost:8080/",
          "height": 122
        },
        "outputId": "a948cfa7-6a0d-4dd6-9d2d-e39306f6d5f9"
      },
      "source": [
        "\n",
        "# Iterate over the pre-defined list of classifiers\n",
        "for clf_name, clf in classifiers:    \n",
        " \n",
        "    # Fit clf to the training set\n",
        "    clf.fit(X_train, y_train)    \n",
        "   \n",
        "    # Predict y_pred\n",
        "    y_pred = clf.predict(X_test)\n",
        "    \n",
        "    # Calculate accuracy\n",
        "    accuracy = accuracy_score(y_pred, y_test) \n",
        "   \n",
        "    # Evaluate clf's accuracy on the test set\n",
        "    print('{:s} : {:.3f}'.format(clf_name, accuracy))"
      ],
      "execution_count": 60,
      "outputs": [
        {
          "output_type": "stream",
          "text": [
            "Logistic Regression : 0.939\n",
            "K Nearest Neighbours : 0.912\n",
            "Classification Tree : 0.895\n"
          ],
          "name": "stdout"
        },
        {
          "output_type": "stream",
          "text": [
            "/usr/local/lib/python3.6/dist-packages/sklearn/linear_model/logistic.py:432: FutureWarning: Default solver will be changed to 'lbfgs' in 0.22. Specify a solver to silence this warning.\n",
            "  FutureWarning)\n"
          ],
          "name": "stderr"
        }
      ]
    },
    {
      "cell_type": "code",
      "metadata": {
        "id": "QvqRIx4q5HXi",
        "colab_type": "code",
        "colab": {
          "base_uri": "https://localhost:8080/",
          "height": 88
        },
        "outputId": "7812755e-397f-48a1-c6ef-01e2717ba44d"
      },
      "source": [
        "from sklearn.ensemble import VotingClassifier\n",
        "\n",
        "# Instantiate a VotingClassifier vc\n",
        "vc = VotingClassifier(estimators=classifiers)     \n",
        "\n",
        "# Fit vc to the training set\n",
        "vc.fit(X_train,y_train)   \n",
        "\n",
        "# Evaluate the test set predictions\n",
        "y_pred = vc.predict(X_test)\n",
        "\n",
        "# Calculate accuracy score\n",
        "accuracy = accuracy_score(y_pred,y_test)\n",
        "print('Voting Classifier: {:.3f}'.format(accuracy))"
      ],
      "execution_count": 61,
      "outputs": [
        {
          "output_type": "stream",
          "text": [
            "Voting Classifier: 0.921\n"
          ],
          "name": "stdout"
        },
        {
          "output_type": "stream",
          "text": [
            "/usr/local/lib/python3.6/dist-packages/sklearn/linear_model/logistic.py:432: FutureWarning: Default solver will be changed to 'lbfgs' in 0.22. Specify a solver to silence this warning.\n",
            "  FutureWarning)\n"
          ],
          "name": "stderr"
        }
      ]
    },
    {
      "cell_type": "markdown",
      "metadata": {
        "id": "DNfut5kZdace",
        "colab_type": "text"
      },
      "source": [
        "# Bagging and Random Forests"
      ]
    },
    {
      "cell_type": "markdown",
      "metadata": {
        "id": "4drAh2eP70s0",
        "colab_type": "text"
      },
      "source": [
        "## Bagging\n",
        "- boostrap aggregation\n",
        "- Training several times on different subsets of the dataset with replacement\n",
        "- bagging has the effect of reducing variance of individual model in the ensemble\n",
        "- here ensable is of a single algo but trained on bootstraped datasets\n",
        "- final prediction\n",
        "  - classification: majority voting\n",
        "  - regression: averaging"
      ]
    },
    {
      "cell_type": "code",
      "metadata": {
        "id": "xxr9SsZA8xck",
        "colab_type": "code",
        "colab": {
          "base_uri": "https://localhost:8080/",
          "height": 34
        },
        "outputId": "1c4f3cff-6311-4ee1-da10-ec6597ddfdd0"
      },
      "source": [
        "X_train.shape, wbc.shape #breast cancer dataset"
      ],
      "execution_count": 63,
      "outputs": [
        {
          "output_type": "execute_result",
          "data": {
            "text/plain": [
              "((455, 30), (569, 31))"
            ]
          },
          "metadata": {
            "tags": []
          },
          "execution_count": 63
        }
      ]
    },
    {
      "cell_type": "code",
      "metadata": {
        "id": "jl5NXihi5coO",
        "colab_type": "code",
        "colab": {}
      },
      "source": [
        "# Import DecisionTreeClassifier\n",
        "from sklearn.tree import DecisionTreeClassifier\n",
        "\n",
        "# Import BaggingClassifier\n",
        "from sklearn.ensemble import BaggingClassifier\n",
        "\n",
        "# Instantiate dt\n",
        "dt = DecisionTreeClassifier(random_state=1)\n",
        "\n",
        "# Instantiate bc, 50 trees\n",
        "bc = BaggingClassifier(base_estimator=dt, n_estimators=50, random_state=1)"
      ],
      "execution_count": 0,
      "outputs": []
    },
    {
      "cell_type": "code",
      "metadata": {
        "id": "-q1t9X6r5cmT",
        "colab_type": "code",
        "colab": {
          "base_uri": "https://localhost:8080/",
          "height": 34
        },
        "outputId": "1f38d7a6-4f36-486a-fba2-8f7ccd3b8887"
      },
      "source": [
        "# Fit bc to the training set\n",
        "bc.fit(X_train,y_train)\n",
        "\n",
        "# Predict test set labels\n",
        "y_pred = bc.predict(X_test)\n",
        "\n",
        "# Evaluate acc_test\n",
        "acc_test = accuracy_score(y_pred, y_test)\n",
        "print('Test set accuracy of bc: {:.2f}'.format(acc_test)) "
      ],
      "execution_count": 68,
      "outputs": [
        {
          "output_type": "stream",
          "text": [
            "Test set accuracy of bc: 0.93\n"
          ],
          "name": "stdout"
        }
      ]
    },
    {
      "cell_type": "code",
      "metadata": {
        "id": "JNLo3RXN5ckI",
        "colab_type": "code",
        "colab": {
          "base_uri": "https://localhost:8080/",
          "height": 34
        },
        "outputId": "9459ef3c-6382-4ea5-d659-4697c5754ee9"
      },
      "source": [
        "# Fit bc to the training set\n",
        "dt.fit(X_train,y_train)\n",
        "\n",
        "# Predict test set labels\n",
        "y_pred = dt.predict(X_test)\n",
        "\n",
        "# Evaluate acc_test\n",
        "acc_test = accuracy_score(y_pred, y_test)\n",
        "print('Test set accuracy of single tree: {:.2f}'.format(acc_test)) "
      ],
      "execution_count": 69,
      "outputs": [
        {
          "output_type": "stream",
          "text": [
            "Test set accuracy of single tree: 0.93\n"
          ],
          "name": "stdout"
        }
      ]
    },
    {
      "cell_type": "markdown",
      "metadata": {
        "id": "aIrKDHx1-X0o",
        "colab_type": "text"
      },
      "source": [
        "in this case it doesnt look different, but in the exercise, with liver dataset, there was 8% improvement\n"
      ]
    },
    {
      "cell_type": "markdown",
      "metadata": {
        "id": "ik2cAaYQ-pqz",
        "colab_type": "text"
      },
      "source": [
        "## OOB\n",
        "- in bagging some samples are samples multiple times, some not at all\n",
        "- on avg 64% are sampled\n",
        "- others are called OOB(out of bag) samples\n",
        "- instead of CV, we can use these OOB instances to perform validation\n",
        "- oob score of each model is the evaluation of that model on the oob instances\n",
        "- then oob score of the entire model is the avg of all oob scores\n",
        "- oob scores can be reasonable estimates of the CV accuracies/scores\n",
        "\n",
        "\n",
        "![oob](oob.png)"
      ]
    },
    {
      "cell_type": "code",
      "metadata": {
        "id": "l5p-Q3ME-VmX",
        "colab_type": "code",
        "colab": {}
      },
      "source": [
        "### Breast Cancer Dataset\n",
        "\n",
        "# Import DecisionTreeClassifier\n",
        "from sklearn.tree import DecisionTreeClassifier\n",
        "\n",
        "# Import BaggingClassifier\n",
        "from sklearn.ensemble import BaggingClassifier\n",
        "\n",
        "# Instantiate dt\n",
        "dt = DecisionTreeClassifier(min_samples_leaf=8, random_state=1)\n",
        "\n",
        "# Instantiate bc\n",
        "bc = BaggingClassifier(base_estimator=dt, \n",
        "            n_estimators=50,\n",
        "            oob_score=True,\n",
        "            random_state=1)"
      ],
      "execution_count": 0,
      "outputs": []
    },
    {
      "cell_type": "code",
      "metadata": {
        "id": "wKUNtf565cgw",
        "colab_type": "code",
        "colab": {
          "base_uri": "https://localhost:8080/",
          "height": 34
        },
        "outputId": "6a799bfe-ade7-4b40-d3e3-0eab900ab916"
      },
      "source": [
        "# Fit bc to the training set \n",
        "bc.fit(X_train,y_train)\n",
        "\n",
        "# Predict test set labels\n",
        "y_pred = bc.predict(X_test)\n",
        "\n",
        "# Evaluate test set accuracy\n",
        "acc_test = accuracy_score(y_pred,y_test)\n",
        "\n",
        "# Evaluate OOB accuracy\n",
        "acc_oob = bc.oob_score_\n",
        "\n",
        "# Print acc_test and acc_oob\n",
        "print('Test set accuracy: {:.3f}, OOB accuracy: {:.3f}'.format(acc_test, acc_oob))"
      ],
      "execution_count": 71,
      "outputs": [
        {
          "output_type": "stream",
          "text": [
            "Test set accuracy: 0.930, OOB accuracy: 0.943\n"
          ],
          "name": "stdout"
        }
      ]
    },
    {
      "cell_type": "markdown",
      "metadata": {
        "id": "uWFIZP2dAfvd",
        "colab_type": "text"
      },
      "source": [
        "## Random Forests"
      ]
    },
    {
      "cell_type": "markdown",
      "metadata": {
        "id": "I7WNfJZyAqrB",
        "colab_type": "text"
      },
      "source": [
        "In random forest\n",
        "- base estimator = decision tree\n",
        "- bootstraping dome with sampled training set, size of which is same as the traniing set\n",
        "- d features are sampled at each node without replacement\n",
        "- In short: **Every training set is different, and trained of a different decision tree(cause different features)**\n",
        "- d defaults to the sqrt(num of features)\n",
        "- random forest achieves a lower variance than individual trees\n",
        "- **Feature Importance** can be assesed from tree based models from `model.feature_importance_`\n",
        "- Types:\n",
        "  - RandomForestRegressor\n",
        "  - RandomForestClassifier"
      ]
    },
    {
      "cell_type": "markdown",
      "metadata": {
        "id": "Z6W5zNZyCq95",
        "colab_type": "text"
      },
      "source": [
        "**Bike Dataset Used**"
      ]
    },
    {
      "cell_type": "code",
      "metadata": {
        "id": "Wz3jlPT5AidJ",
        "colab_type": "code",
        "colab": {
          "base_uri": "https://localhost:8080/",
          "height": 204
        },
        "outputId": "4c08a413-9f4e-490b-a4eb-f2b9a101e18a"
      },
      "source": [
        "bike.head()"
      ],
      "execution_count": 77,
      "outputs": [
        {
          "output_type": "execute_result",
          "data": {
            "text/html": [
              "<div>\n",
              "<style scoped>\n",
              "    .dataframe tbody tr th:only-of-type {\n",
              "        vertical-align: middle;\n",
              "    }\n",
              "\n",
              "    .dataframe tbody tr th {\n",
              "        vertical-align: top;\n",
              "    }\n",
              "\n",
              "    .dataframe thead th {\n",
              "        text-align: right;\n",
              "    }\n",
              "</style>\n",
              "<table border=\"1\" class=\"dataframe\">\n",
              "  <thead>\n",
              "    <tr style=\"text-align: right;\">\n",
              "      <th></th>\n",
              "      <th>hr</th>\n",
              "      <th>holiday</th>\n",
              "      <th>workingday</th>\n",
              "      <th>temp</th>\n",
              "      <th>hum</th>\n",
              "      <th>windspeed</th>\n",
              "      <th>cnt</th>\n",
              "      <th>instant</th>\n",
              "      <th>mnth</th>\n",
              "      <th>yr</th>\n",
              "      <th>Clear to partly cloudy</th>\n",
              "      <th>Light Precipitation</th>\n",
              "      <th>Misty</th>\n",
              "    </tr>\n",
              "  </thead>\n",
              "  <tbody>\n",
              "    <tr>\n",
              "      <th>0</th>\n",
              "      <td>0</td>\n",
              "      <td>0</td>\n",
              "      <td>0</td>\n",
              "      <td>0.76</td>\n",
              "      <td>0.66</td>\n",
              "      <td>0.0000</td>\n",
              "      <td>149</td>\n",
              "      <td>13004</td>\n",
              "      <td>7</td>\n",
              "      <td>1</td>\n",
              "      <td>1</td>\n",
              "      <td>0</td>\n",
              "      <td>0</td>\n",
              "    </tr>\n",
              "    <tr>\n",
              "      <th>1</th>\n",
              "      <td>1</td>\n",
              "      <td>0</td>\n",
              "      <td>0</td>\n",
              "      <td>0.74</td>\n",
              "      <td>0.70</td>\n",
              "      <td>0.1343</td>\n",
              "      <td>93</td>\n",
              "      <td>13005</td>\n",
              "      <td>7</td>\n",
              "      <td>1</td>\n",
              "      <td>1</td>\n",
              "      <td>0</td>\n",
              "      <td>0</td>\n",
              "    </tr>\n",
              "    <tr>\n",
              "      <th>2</th>\n",
              "      <td>2</td>\n",
              "      <td>0</td>\n",
              "      <td>0</td>\n",
              "      <td>0.72</td>\n",
              "      <td>0.74</td>\n",
              "      <td>0.0896</td>\n",
              "      <td>90</td>\n",
              "      <td>13006</td>\n",
              "      <td>7</td>\n",
              "      <td>1</td>\n",
              "      <td>1</td>\n",
              "      <td>0</td>\n",
              "      <td>0</td>\n",
              "    </tr>\n",
              "    <tr>\n",
              "      <th>3</th>\n",
              "      <td>3</td>\n",
              "      <td>0</td>\n",
              "      <td>0</td>\n",
              "      <td>0.72</td>\n",
              "      <td>0.84</td>\n",
              "      <td>0.1343</td>\n",
              "      <td>33</td>\n",
              "      <td>13007</td>\n",
              "      <td>7</td>\n",
              "      <td>1</td>\n",
              "      <td>1</td>\n",
              "      <td>0</td>\n",
              "      <td>0</td>\n",
              "    </tr>\n",
              "    <tr>\n",
              "      <th>4</th>\n",
              "      <td>4</td>\n",
              "      <td>0</td>\n",
              "      <td>0</td>\n",
              "      <td>0.70</td>\n",
              "      <td>0.79</td>\n",
              "      <td>0.1940</td>\n",
              "      <td>4</td>\n",
              "      <td>13008</td>\n",
              "      <td>7</td>\n",
              "      <td>1</td>\n",
              "      <td>1</td>\n",
              "      <td>0</td>\n",
              "      <td>0</td>\n",
              "    </tr>\n",
              "  </tbody>\n",
              "</table>\n",
              "</div>"
            ],
            "text/plain": [
              "   hr  holiday  workingday  ...  Clear to partly cloudy  Light Precipitation  Misty\n",
              "0   0        0           0  ...                       1                    0      0\n",
              "1   1        0           0  ...                       1                    0      0\n",
              "2   2        0           0  ...                       1                    0      0\n",
              "3   3        0           0  ...                       1                    0      0\n",
              "4   4        0           0  ...                       1                    0      0\n",
              "\n",
              "[5 rows x 13 columns]"
            ]
          },
          "metadata": {
            "tags": []
          },
          "execution_count": 77
        }
      ]
    },
    {
      "cell_type": "code",
      "metadata": {
        "id": "KhmKm1v8DE4m",
        "colab_type": "code",
        "colab": {
          "base_uri": "https://localhost:8080/",
          "height": 255
        },
        "outputId": "d2b51fd0-7d1d-42ef-caa8-9bfd2a6d3f63"
      },
      "source": [
        "bike.dtypes"
      ],
      "execution_count": 78,
      "outputs": [
        {
          "output_type": "execute_result",
          "data": {
            "text/plain": [
              "hr                          int64\n",
              "holiday                     int64\n",
              "workingday                  int64\n",
              "temp                      float64\n",
              "hum                       float64\n",
              "windspeed                 float64\n",
              "cnt                         int64\n",
              "instant                     int64\n",
              "mnth                        int64\n",
              "yr                          int64\n",
              "Clear to partly cloudy      int64\n",
              "Light Precipitation         int64\n",
              "Misty                       int64\n",
              "dtype: object"
            ]
          },
          "metadata": {
            "tags": []
          },
          "execution_count": 78
        }
      ]
    },
    {
      "cell_type": "code",
      "metadata": {
        "id": "32rPlz-5Aiba",
        "colab_type": "code",
        "colab": {
          "base_uri": "https://localhost:8080/",
          "height": 442
        },
        "outputId": "02b71778-d587-4209-810a-d287e090fedf"
      },
      "source": [
        "bike.hr.value_counts()"
      ],
      "execution_count": 83,
      "outputs": [
        {
          "output_type": "execute_result",
          "data": {
            "text/plain": [
              "23    62\n",
              "22    62\n",
              "1     62\n",
              "2     62\n",
              "3     62\n",
              "4     62\n",
              "5     62\n",
              "6     62\n",
              "7     62\n",
              "8     62\n",
              "9     62\n",
              "10    62\n",
              "11    62\n",
              "12    62\n",
              "13    62\n",
              "14    62\n",
              "15    62\n",
              "16    62\n",
              "17    62\n",
              "18    62\n",
              "19    62\n",
              "20    62\n",
              "21    62\n",
              "0     62\n",
              "Name: hr, dtype: int64"
            ]
          },
          "metadata": {
            "tags": []
          },
          "execution_count": 83
        }
      ]
    },
    {
      "cell_type": "code",
      "metadata": {
        "id": "9uZIJp-cC9sS",
        "colab_type": "code",
        "colab": {
          "base_uri": "https://localhost:8080/",
          "height": 34
        },
        "outputId": "53105b54-7844-4a75-a100-197e57d5c4b0"
      },
      "source": [
        "y = bike.hr\n",
        "X = bike.drop('hr',axis=1)\n",
        "X.shape, y.shape"
      ],
      "execution_count": 115,
      "outputs": [
        {
          "output_type": "execute_result",
          "data": {
            "text/plain": [
              "((1488, 12), (1488,))"
            ]
          },
          "metadata": {
            "tags": []
          },
          "execution_count": 115
        }
      ]
    },
    {
      "cell_type": "code",
      "metadata": {
        "id": "uT_WWby5C9pL",
        "colab_type": "code",
        "colab": {}
      },
      "source": [
        "X_train,X_test,y_train,y_test = train_test_split(X,y,stratify=y,test_size=0.2)"
      ],
      "execution_count": 0,
      "outputs": []
    },
    {
      "cell_type": "code",
      "metadata": {
        "id": "2-_YbvIlAiXy",
        "colab_type": "code",
        "colab": {
          "base_uri": "https://localhost:8080/",
          "height": 136
        },
        "outputId": "380613e6-34e5-416a-95f0-6f61b7acce04"
      },
      "source": [
        "# Import RandomForestRegressor\n",
        "from sklearn.ensemble import RandomForestRegressor\n",
        "\n",
        "# Instantiate rf\n",
        "rf = RandomForestRegressor(n_estimators=25,\n",
        "            random_state=2)\n",
        "            \n",
        "# Fit rf to the training set    \n",
        "rf.fit(X_train,y_train) "
      ],
      "execution_count": 84,
      "outputs": [
        {
          "output_type": "execute_result",
          "data": {
            "text/plain": [
              "RandomForestRegressor(bootstrap=True, criterion='mse', max_depth=None,\n",
              "                      max_features='auto', max_leaf_nodes=None,\n",
              "                      min_impurity_decrease=0.0, min_impurity_split=None,\n",
              "                      min_samples_leaf=1, min_samples_split=2,\n",
              "                      min_weight_fraction_leaf=0.0, n_estimators=25,\n",
              "                      n_jobs=None, oob_score=False, random_state=2, verbose=0,\n",
              "                      warm_start=False)"
            ]
          },
          "metadata": {
            "tags": []
          },
          "execution_count": 84
        }
      ]
    },
    {
      "cell_type": "code",
      "metadata": {
        "id": "NmoapMsyD1qB",
        "colab_type": "code",
        "colab": {
          "base_uri": "https://localhost:8080/",
          "height": 34
        },
        "outputId": "ec7d3f86-c792-45a8-fd0d-8c53fcb21dcb"
      },
      "source": [
        "from sklearn.metrics import mean_squared_error as MSE\n",
        "\n",
        "# Predict the test set labels\n",
        "y_pred = rf.predict(X_test)\n",
        "\n",
        "# Evaluate the test set RMSE\n",
        "rmse_test = MSE(y_test,y_pred)**(1/2)\n",
        "\n",
        "# Print rmse_test\n",
        "print('Test set RMSE of rf: {:.2f}'.format(rmse_test))"
      ],
      "execution_count": 85,
      "outputs": [
        {
          "output_type": "stream",
          "text": [
            "Test set RMSE of rf: 4.66\n"
          ],
          "name": "stdout"
        }
      ]
    },
    {
      "cell_type": "code",
      "metadata": {
        "id": "lSRrATkPEgvd",
        "colab_type": "code",
        "colab": {}
      },
      "source": [
        "import matplotlib.pyplot as plt"
      ],
      "execution_count": 0,
      "outputs": []
    },
    {
      "cell_type": "code",
      "metadata": {
        "id": "RCFL9aRhD1m2",
        "colab_type": "code",
        "colab": {
          "base_uri": "https://localhost:8080/",
          "height": 281
        },
        "outputId": "7946de06-68cb-4144-d5de-b72ebecacbe3"
      },
      "source": [
        "# Create a pd.Series of features importances\n",
        "importances = pd.Series(data=rf.feature_importances_,\n",
        "                        index= X_train.columns)\n",
        "\n",
        "# Sort importances\n",
        "importances_sorted = importances.sort_values()\n",
        "\n",
        "# Draw a horizontal barplot of importances_sorted\n",
        "importances_sorted.plot(kind='barh', color='lightgreen')\n",
        "plt.title('Features Importances')\n",
        "plt.show()"
      ],
      "execution_count": 89,
      "outputs": [
        {
          "output_type": "display_data",
          "data": {
            "image/png": "[encoded data removed]",
            "text/plain": [
              "<Figure size 432x288 with 1 Axes>"
            ]
          },
          "metadata": {
            "tags": []
          }
        }
      ]
    },
    {
      "cell_type": "markdown",
      "metadata": {
        "id": "z0hlytSbdaa8",
        "colab_type": "text"
      },
      "source": [
        "# Boosting"
      ]
    },
    {
      "cell_type": "markdown",
      "metadata": {
        "id": "24SK5Oa8EqhM",
        "colab_type": "text"
      },
      "source": [
        "- Many predictors are trained, and each learns from its predecessor\n",
        "- Many weak learners are combined to form a strong learner\n",
        "- training an enseble sequentially, next one trying to correct the previous one\n",
        "\n",
        "### AdaBoost\n",
        "- the training samples are **weighted**, based on being wrongly predicted\n",
        "- important parameter is eta\n",
        "- eta=[0,1] used to shrink the value of alpha(the weight that will be applied to wrong predictions in next predictor)\n",
        "- there is a tradeoff between eta and the number of estimators\n",
        "- smaller eta should be compensated by larger number of estimators\n",
        "- types:\n",
        "  - AdaBoostClassifier : by weighted majority voting of all the predictors\n",
        "  - AdaBoostRegressor : weighted avg\n",
        "\n",
        "\n",
        "![ada1.png](ada1.png)\n",
        "\n",
        "![ada2.png](ada2.png)\n",
        "\n",
        "![ada3.png](ada3.png)"
      ]
    },
    {
      "cell_type": "markdown",
      "metadata": {
        "id": "e6_5V7HhG8GS",
        "colab_type": "text"
      },
      "source": [
        "**Using Breast Cancer Dataset**\n",
        "In addition, given that this dataset is imbalanced(liver dataset), you'll be using the ROC AUC score as a metric instead of accuracy"
      ]
    },
    {
      "cell_type": "code",
      "metadata": {
        "id": "_2UphE_lG7xJ",
        "colab_type": "code",
        "colab": {}
      },
      "source": [
        "# Import DecisionTreeClassifier\n",
        "from sklearn.tree import DecisionTreeClassifier\n",
        "\n",
        "# Import AdaBoostClassifier\n",
        "from sklearn.ensemble import AdaBoostClassifier\n",
        "\n",
        "# Instantiate dt\n",
        "dt = DecisionTreeClassifier(max_depth=2, random_state=1)\n",
        "\n",
        "# Instantiate ada\n",
        "ada = AdaBoostClassifier(base_estimator=dt, n_estimators=180, random_state=1)"
      ],
      "execution_count": 0,
      "outputs": []
    },
    {
      "cell_type": "code",
      "metadata": {
        "id": "YTPz-qV8G7t3",
        "colab_type": "code",
        "colab": {}
      },
      "source": [
        "# Fit ada to the training set\n",
        "ada.fit(X_train,y_train)\n",
        "# Compute the probabilities of obtaining the positive class\n",
        "y_pred_proba = ada.predict_proba(X_test)[:,1]"
      ],
      "execution_count": 0,
      "outputs": []
    },
    {
      "cell_type": "markdown",
      "metadata": {
        "id": "JbIHUW2eHu1n",
        "colab_type": "text"
      },
      "source": [
        "ROC AUC score of a binary classifier can be determined using the roc_auc_score() function from sklearn.metrics."
      ]
    },
    {
      "cell_type": "code",
      "metadata": {
        "id": "GOaN_Ck3HrET",
        "colab_type": "code",
        "colab": {
          "base_uri": "https://localhost:8080/",
          "height": 34
        },
        "outputId": "fa354028-7f35-4efd-a314-0e5efb436b9a"
      },
      "source": [
        "# Import roc_auc_score\n",
        "from sklearn.metrics import roc_auc_score\n",
        "\n",
        "# Evaluate test-set roc_auc_score\n",
        "ada_roc_auc = roc_auc_score(y_test,y_pred_proba)\n",
        "\n",
        "# Print roc_auc_score\n",
        "print('ROC AUC score: {:.2f}'.format(ada_roc_auc))"
      ],
      "execution_count": 97,
      "outputs": [
        {
          "output_type": "stream",
          "text": [
            "ROC AUC score: 1.00\n"
          ],
          "name": "stdout"
        }
      ]
    },
    {
      "cell_type": "markdown",
      "metadata": {
        "id": "rMGoRKcBIMH6",
        "colab_type": "text"
      },
      "source": [
        "## Gradient Boosting\n",
        "- has won many ML competition\n",
        "- also sequencial ensemble training\n",
        "- but the weights of the data are not tweaked\n",
        "- instead the residual errors are treated as labels in the next model\n",
        "- an important parameter is shrinkage (eta)\n",
        "- here also eta=[0,1] and had tradeoff with number of estimators\n",
        "- final prediction  = `y1 + eta*y2 + eta*y3 +...`\n",
        "- types:\n",
        "  - GradientBoostingRegressor\n",
        "  - GradientBoostingClassifier\n",
        "- base classifier is decision trees\n",
        "\n",
        "![gr1.png](gr1.png)\n",
        "\n",
        "![gr2.png](gr2.png)\n",
        "\n",
        "![gr3.png](gr3.png)"
      ]
    },
    {
      "cell_type": "markdown",
      "metadata": {
        "id": "rO6uUtLINlGW",
        "colab_type": "text"
      },
      "source": [
        "**Bike Dataset**"
      ]
    },
    {
      "cell_type": "code",
      "metadata": {
        "id": "Y1-sYi9gHrAc",
        "colab_type": "code",
        "colab": {}
      },
      "source": [
        "# Import GradientBoostingRegressor\n",
        "from sklearn.ensemble import GradientBoostingRegressor\n",
        "\n",
        "# Instantiate gb\n",
        "## notice no separate prector mentioned\n",
        "gb = GradientBoostingRegressor(max_depth=4, \n",
        "            n_estimators=200,\n",
        "            random_state=2)"
      ],
      "execution_count": 0,
      "outputs": []
    },
    {
      "cell_type": "code",
      "metadata": {
        "id": "wU1FSw4zObP1",
        "colab_type": "code",
        "colab": {}
      },
      "source": [
        "# Fit gb to the training set\n",
        "gb.fit(X_train,y_train)\n",
        "\n",
        "# Predict test set labels\n",
        "y_pred = gb.predict(X_test)"
      ],
      "execution_count": 0,
      "outputs": []
    },
    {
      "cell_type": "code",
      "metadata": {
        "id": "h0KsGdlkObNM",
        "colab_type": "code",
        "colab": {
          "base_uri": "https://localhost:8080/",
          "height": 34
        },
        "outputId": "19a88e7c-020a-431c-a1d5-839c97cd738b"
      },
      "source": [
        "# Import mean_squared_error as MSE\n",
        "from sklearn.metrics import mean_squared_error as MSE\n",
        "\n",
        "# Compute MSE\n",
        "mse_test = MSE(y_test,y_pred)\n",
        "\n",
        "# Compute RMSE\n",
        "rmse_test = mse_test**(1/2)\n",
        "\n",
        "# Print RMSE\n",
        "print('Test set RMSE of gb: {:.3f}'.format(rmse_test))"
      ],
      "execution_count": 102,
      "outputs": [
        {
          "output_type": "stream",
          "text": [
            "Test set RMSE of gb: 4.203\n"
          ],
          "name": "stdout"
        }
      ]
    },
    {
      "cell_type": "markdown",
      "metadata": {
        "id": "kS5-zSIrPEaB",
        "colab_type": "text"
      },
      "source": [
        "## Stochastic Gradient Boosting\n",
        "- GB is an extensive search procedure, that may end up using the same features and split points for several trees\n",
        "- in stochastic GB, each tree uses a random subset(.4 to .8) of the training set, without replacement\n",
        "- features are also sampled (without replacement)\n",
        "- this creates further ensemble diversity\n",
        "- effect: creates more variance in the ensemble\n",
        "\n",
        "![sgb.png](sgb.png)"
      ]
    },
    {
      "cell_type": "code",
      "metadata": {
        "id": "0qxqDmXzObK8",
        "colab_type": "code",
        "colab": {}
      },
      "source": [
        "# Import GradientBoostingRegressor\n",
        "from sklearn.ensemble import GradientBoostingRegressor\n",
        "\n",
        "# Instantiate sgbr\n",
        "sgbr = GradientBoostingRegressor(max_depth=4, \n",
        "            subsample=0.9, #what percent of data to sample\n",
        "            max_features=0.75, #what percent of feature to consider in each split\n",
        "            n_estimators=200,                                \n",
        "            random_state=2)"
      ],
      "execution_count": 0,
      "outputs": []
    },
    {
      "cell_type": "code",
      "metadata": {
        "id": "o6V5ubsSRjaQ",
        "colab_type": "code",
        "colab": {}
      },
      "source": [
        "# Fit sgbr to the training set\n",
        "sgbr.fit(X_train,y_train)\n",
        "\n",
        "# Predict test set labels\n",
        "y_pred = sgbr.predict(X_test)"
      ],
      "execution_count": 0,
      "outputs": []
    },
    {
      "cell_type": "code",
      "metadata": {
        "id": "GyYl2Xv0RjT1",
        "colab_type": "code",
        "colab": {
          "base_uri": "https://localhost:8080/",
          "height": 34
        },
        "outputId": "6b46714b-44b0-4f47-ac2a-3d857ecfd235"
      },
      "source": [
        "# Import mean_squared_error as MSE\n",
        "from sklearn.metrics import mean_squared_error as MSE\n",
        "\n",
        "# Compute test set MSE\n",
        "mse_test = MSE(y_test,y_pred)\n",
        "\n",
        "# Compute test set RMSE\n",
        "rmse_test = mse_test**(1/2)\n",
        "\n",
        "# Print rmse_test\n",
        "print('Test set RMSE of sgbr: {:.3f}'.format(rmse_test))"
      ],
      "execution_count": 105,
      "outputs": [
        {
          "output_type": "stream",
          "text": [
            "Test set RMSE of sgbr: 4.210\n"
          ],
          "name": "stdout"
        }
      ]
    },
    {
      "cell_type": "markdown",
      "metadata": {
        "id": "XzycY2aCSJ87",
        "colab_type": "text"
      },
      "source": [
        "Exercise: The stochastic gradient boosting regressor achieves a lower test set RMSE(49.979) than the gradient boosting regressor (which was 52.065)!"
      ]
    },
    {
      "cell_type": "markdown",
      "metadata": {
        "id": "ACBHJhoAdaWx",
        "colab_type": "text"
      },
      "source": [
        "# Model Tuning"
      ]
    },
    {
      "cell_type": "markdown",
      "metadata": {
        "id": "u7Z5bCW6UHqt",
        "colab_type": "text"
      },
      "source": [
        "- dt.get_params()\n",
        "- grid.best_params_\n",
        "- grid.best_estimator_\n",
        "- "
      ]
    },
    {
      "cell_type": "markdown",
      "metadata": {
        "id": "zHEwqhgqVjx9",
        "colab_type": "text"
      },
      "source": [
        "**Using Breast Cancer Dataset**\n",
        "\n",
        "## Grid Search on DT"
      ]
    },
    {
      "cell_type": "code",
      "metadata": {
        "id": "jD6FHVS0S3Np",
        "colab_type": "code",
        "colab": {}
      },
      "source": [
        "# Define params_dt\n",
        "params_dt = {'max_depth':[2,3,4],'min_samples_leaf':[ 0.12, 0.14, 0.16, 0.18]}"
      ],
      "execution_count": 0,
      "outputs": []
    },
    {
      "cell_type": "code",
      "metadata": {
        "id": "-sf2UvusS3Iu",
        "colab_type": "code",
        "colab": {}
      },
      "source": [
        "# Import GridSearchCV\n",
        "from sklearn.model_selection import GridSearchCV\n",
        "\n",
        "# Instantiate grid_dt\n",
        "grid_dt = GridSearchCV(estimator=dt,\n",
        "                       param_grid=params_dt,\n",
        "                       scoring='roc_auc',               ## for imbalanced dataset\n",
        "                       cv=5,\n",
        "                       n_jobs=-1)"
      ],
      "execution_count": 0,
      "outputs": []
    },
    {
      "cell_type": "code",
      "metadata": {
        "id": "eMjFVPORWfBt",
        "colab_type": "code",
        "colab": {
          "base_uri": "https://localhost:8080/",
          "height": 306
        },
        "outputId": "1b9cff8f-c310-4b11-af7f-3102bcfddc0a"
      },
      "source": [
        "grid_dt.fit(X_train, y_train)"
      ],
      "execution_count": 113,
      "outputs": [
        {
          "output_type": "execute_result",
          "data": {
            "text/plain": [
              "GridSearchCV(cv=5, error_score='raise-deprecating',\n",
              "             estimator=DecisionTreeClassifier(class_weight=None,\n",
              "                                              criterion='gini', max_depth=2,\n",
              "                                              max_features=None,\n",
              "                                              max_leaf_nodes=None,\n",
              "                                              min_impurity_decrease=0.0,\n",
              "                                              min_impurity_split=None,\n",
              "                                              min_samples_leaf=1,\n",
              "                                              min_samples_split=2,\n",
              "                                              min_weight_fraction_leaf=0.0,\n",
              "                                              presort=False, random_state=1,\n",
              "                                              splitter='best'),\n",
              "             iid='warn', n_jobs=-1,\n",
              "             param_grid={'max_depth': [2, 3, 4],\n",
              "                         'min_samples_leaf': [0.12, 0.14, 0.16, 0.18]},\n",
              "             pre_dispatch='2*n_jobs', refit=True, return_train_score=False,\n",
              "             scoring='roc_auc', verbose=0)"
            ]
          },
          "metadata": {
            "tags": []
          },
          "execution_count": 113
        }
      ]
    },
    {
      "cell_type": "code",
      "metadata": {
        "id": "i2Paaau8WiLP",
        "colab_type": "code",
        "colab": {
          "base_uri": "https://localhost:8080/",
          "height": 34
        },
        "outputId": "edf7dcd0-f20b-4277-c693-9ada770311df"
      },
      "source": [
        "# Import roc_auc_score from sklearn.metrics\n",
        "from sklearn.metrics import roc_auc_score\n",
        "\n",
        "# Extract the best estimator\n",
        "best_model = grid_dt.best_estimator_\n",
        "\n",
        "# Predict the test set probabilities of the positive class\n",
        "y_pred_proba = grid_dt.predict_proba(X_test)[:,1]\n",
        "\n",
        "# Compute test_roc_auc\n",
        "test_roc_auc = roc_auc_score(y_test,y_pred_proba)\n",
        "\n",
        "# Print test_roc_auc\n",
        "print('Test set ROC AUC score: {:.3f}'.format(test_roc_auc))"
      ],
      "execution_count": 114,
      "outputs": [
        {
          "output_type": "stream",
          "text": [
            "Test set ROC AUC score: 0.967\n"
          ],
          "name": "stdout"
        }
      ]
    },
    {
      "cell_type": "markdown",
      "metadata": {
        "id": "khsicNEOXL0H",
        "colab_type": "text"
      },
      "source": [
        "## Grid Search on Ensemble\n",
        "**On bike dataset**"
      ]
    },
    {
      "cell_type": "markdown",
      "metadata": {
        "id": "x7aPu_7PXZIg",
        "colab_type": "text"
      },
      "source": [
        "![hp.png](hp.png)"
      ]
    },
    {
      "cell_type": "code",
      "metadata": {
        "id": "1cANKUAZXLdf",
        "colab_type": "code",
        "colab": {}
      },
      "source": [
        "# Define the dictionary 'params_rf'\n",
        "params_rf = {'n_estimators':[100,350,500],'max_features':['log2', 'auto', 'sqrt'],'min_samples_leaf':[2,10,30]}"
      ],
      "execution_count": 0,
      "outputs": []
    },
    {
      "cell_type": "code",
      "metadata": {
        "id": "fKc9KFHHrC0F",
        "colab_type": "code",
        "colab": {}
      },
      "source": [
        "rf = RandomForestRegressor(n_estimators=25,random_state=2)"
      ],
      "execution_count": 0,
      "outputs": []
    },
    {
      "cell_type": "code",
      "metadata": {
        "id": "vvkJE9hrXBD0",
        "colab_type": "code",
        "colab": {}
      },
      "source": [
        "# Import GridSearchCV\n",
        "from sklearn.model_selection import GridSearchCV\n",
        "\n",
        "# Instantiate grid_rf\n",
        "grid_rf = GridSearchCV(estimator=rf,\n",
        "                       param_grid=params_rf,\n",
        "                       scoring='neg_mean_squared_error',\n",
        "                       cv=3,\n",
        "                       verbose=1,\n",
        "                       n_jobs=-1)"
      ],
      "execution_count": 0,
      "outputs": []
    },
    {
      "cell_type": "markdown",
      "metadata": {
        "id": "cmYb83pBqg9D",
        "colab_type": "text"
      },
      "source": [
        "Note that because grid search is an exhaustive search process, it may take a lot time to train the model. "
      ]
    },
    {
      "cell_type": "code",
      "metadata": {
        "id": "4cKT5y0jqhPZ",
        "colab_type": "code",
        "colab": {
          "base_uri": "https://localhost:8080/",
          "height": 462
        },
        "outputId": "f1fff2d4-2504-4260-a54f-1a5b1698d08e"
      },
      "source": [
        "grid_rf.fit(X_train, y_train)"
      ],
      "execution_count": 121,
      "outputs": [
        {
          "output_type": "stream",
          "text": [
            "Fitting 3 folds for each of 27 candidates, totalling 81 fits\n"
          ],
          "name": "stdout"
        },
        {
          "output_type": "stream",
          "text": [
            "[Parallel(n_jobs=-1)]: Using backend LokyBackend with 2 concurrent workers.\n",
            "[Parallel(n_jobs=-1)]: Done  46 tasks      | elapsed:   17.7s\n",
            "[Parallel(n_jobs=-1)]: Done  81 out of  81 | elapsed:   27.4s finished\n",
            "/usr/local/lib/python3.6/dist-packages/sklearn/model_selection/_search.py:814: DeprecationWarning: The default of the `iid` parameter will change from True to False in version 0.22 and will be removed in 0.24. This will change numeric results when test-set sizes are unequal.\n",
            "  DeprecationWarning)\n"
          ],
          "name": "stderr"
        },
        {
          "output_type": "execute_result",
          "data": {
            "text/plain": [
              "GridSearchCV(cv=3, error_score='raise-deprecating',\n",
              "             estimator=RandomForestRegressor(bootstrap=True, criterion='mse',\n",
              "                                             max_depth=None,\n",
              "                                             max_features='auto',\n",
              "                                             max_leaf_nodes=None,\n",
              "                                             min_impurity_decrease=0.0,\n",
              "                                             min_impurity_split=None,\n",
              "                                             min_samples_leaf=1,\n",
              "                                             min_samples_split=2,\n",
              "                                             min_weight_fraction_leaf=0.0,\n",
              "                                             n_estimators=25, n_jobs=None,\n",
              "                                             oob_score=False, random_state=2,\n",
              "                                             verbose=0, warm_start=False),\n",
              "             iid='warn', n_jobs=-1,\n",
              "             param_grid={'max_features': ['log2', 'auto', 'sqrt'],\n",
              "                         'min_samples_leaf': [2, 10, 30],\n",
              "                         'n_estimators': [100, 350, 500]},\n",
              "             pre_dispatch='2*n_jobs', refit=True, return_train_score=False,\n",
              "             scoring='neg_mean_squared_error', verbose=1)"
            ]
          },
          "metadata": {
            "tags": []
          },
          "execution_count": 121
        }
      ]
    },
    {
      "cell_type": "code",
      "metadata": {
        "id": "T67I2XB_rwiK",
        "colab_type": "code",
        "colab": {
          "base_uri": "https://localhost:8080/",
          "height": 34
        },
        "outputId": "41b15563-1b0f-4122-8048-3c5c5722dcd2"
      },
      "source": [
        "# Import mean_squared_error from sklearn.metrics as MSE \n",
        "from sklearn.metrics import mean_squared_error as MSE\n",
        "\n",
        "# Extract the best estimator\n",
        "best_model = grid_rf.best_estimator_\n",
        "\n",
        "# Predict test set labels\n",
        "y_pred = best_model.predict(X_test)\n",
        "\n",
        "# Compute rmse_test\n",
        "rmse_test = MSE(y_test,y_pred)**(1/2)\n",
        "\n",
        "# Print rmse_test\n",
        "print('Test RMSE of best model: {:.3f}'.format(rmse_test)) "
      ],
      "execution_count": 122,
      "outputs": [
        {
          "output_type": "stream",
          "text": [
            "Test RMSE of best model: 4.378\n"
          ],
          "name": "stdout"
        }
      ]
    },
    {
      "cell_type": "markdown",
      "metadata": {
        "id": "BSgeB683seHk",
        "colab_type": "text"
      },
      "source": [
        "Previously it was 4.66 (just rf)"
      ]
    },
    {
      "cell_type": "code",
      "metadata": {
        "id": "vIP9Xv-jsWOC",
        "colab_type": "code",
        "colab": {}
      },
      "source": [
        ""
      ],
      "execution_count": 0,
      "outputs": []
    }
  ]
}