{
  "nbformat": 4,
  "nbformat_minor": 0,
  "metadata": {
    "colab": {
      "name": "introduction-to-joins.ipynb",
      "version": "0.3.2",
      "provenance": [],
      "collapsed_sections": []
    },
    "kernelspec": {
      "name": "python3",
      "display_name": "Python 3"
    }
  },
  "cells": [
    {
      "cell_type": "markdown",
      "metadata": {
        "id": "ch6CsGvX-WiN",
        "colab_type": "text"
      },
      "source": [
        "**Not python codes. Just notes.**"
      ]
    },
    {
      "cell_type": "markdown",
      "metadata": {
        "id": "vhZpC-qN-jwy",
        "colab_type": "text"
      },
      "source": [
        "# Introduction to joins\n"
      ]
    },
    {
      "cell_type": "markdown",
      "metadata": {
        "id": "iVWEbZrcDd0v",
        "colab_type": "text"
      },
      "source": [
        "### Inner Joins\n",
        "\n",
        "**inner join**\n",
        "```\n",
        "SELECT *\n",
        "FROM left_table\n",
        "INNER JOIN right_table\n",
        "ON left_table.id = right_table.id;\n",
        "```\n",
        "**aliasing**\n",
        "```\n",
        "SELECT c1.name AS city, c2.name AS country\n",
        "FROM cities AS c1\n",
        "INNER JOIN countries AS c2\n",
        "ON c1.country_code = c2.code;\n",
        "```\n",
        "**multiple joins**\n",
        "```\n",
        "SELECT *\n",
        "FROM left_table\n",
        "  INNER JOIN right_table\n",
        "    ON left_table.id = right_table.id\n",
        "  INNER JOIN another_table\n",
        "    ON left_table.id = another_table.id;\n",
        "```"
      ]
    },
    {
      "cell_type": "code",
      "metadata": {
        "id": "MX8Wj54vNyzx",
        "colab_type": "code",
        "colab": {}
      },
      "source": [
        "-- 6. Select fields\n",
        "SELECT c.code, name, region, e.year, fertility_rate, unemployment_rate\n",
        "  -- 1. From countries (alias as c)\n",
        "  FROM countries AS c\n",
        "  -- 2. Join to populations (as p)\n",
        "  INNER JOIN populations AS p\n",
        "    -- 3. Match on country code\n",
        "    ON c.code = p.country_code\n",
        "  -- 4. Join to economies (as e)\n",
        "  INNER JOIN economies AS e\n",
        "    -- 5. Match on country code and year\n",
        "    on e.code=c.code and e.year=p.year\n",
        "\n",
        "## had to match year also, because various meaningless combinations were being made"
      ],
      "execution_count": 0,
      "outputs": []
    },
    {
      "cell_type": "markdown",
      "metadata": {
        "id": "Qsa2O7g_Ddxv",
        "colab_type": "text"
      },
      "source": [
        "**using**\n",
        "- if the 'on' matching key is same in both table, we can use 'using' clause\n",
        "\n",
        "\n",
        "When joining tables with a common field name, e.g.\n",
        "```\n",
        "SELECT *\n",
        "FROM countries\n",
        "  INNER JOIN economies\n",
        "    ON countries.code = economies.code\n",
        "```\n",
        "You can use USING as a shortcut:\n",
        "```\n",
        "SELECT *\n",
        "FROM countries\n",
        "  INNER JOIN economies\n",
        "    USING(code)\n",
        "```"
      ]
    },
    {
      "cell_type": "code",
      "metadata": {
        "id": "enozqS84Pqy-",
        "colab_type": "code",
        "colab": {}
      },
      "source": [
        "-- 4. Select fields\n",
        "select c.name as country, continent, l.name as language, official\n",
        "  -- 1. From countries (alias as c)\n",
        "  from countries as c\n",
        "  -- 2. Join to languages (as l)\n",
        "  inner join languages as l\n",
        "    -- 3. Match using code\n",
        "    using (code)"
      ],
      "execution_count": 0,
      "outputs": []
    },
    {
      "cell_type": "markdown",
      "metadata": {
        "id": "uv3oyigKDduE",
        "colab_type": "text"
      },
      "source": [
        "### Self-ish joins\n",
        "- Extend the ON in your query to include only those records where the p1.year (2010) matches with p2.year - 5 (2015 - 5 = 2010). This will omit the three entries per country_code that you aren't interested in."
      ]
    },
    {
      "cell_type": "code",
      "metadata": {
        "id": "V5s6bBX3TWKZ",
        "colab_type": "code",
        "colab": {}
      },
      "source": [
        "SELECT p1.country_code,\n",
        "       p1.size AS size2010, \n",
        "       p2.size AS size2015,\n",
        "       -- 1. calculate growth_perc\n",
        "       ((p2.size - p1.size)/p1.size * 100.0) AS growth_perc\n",
        "-- 2. From populations (alias as p1)\n",
        "FROM populations AS p1\n",
        "  -- 3. Join to itself (alias as p2)\n",
        "  INNER JOIN populations AS p2\n",
        "    -- 4. Match on country code\n",
        "    ON p1.country_code = p2.country_code\n",
        "        -- 5. and year (with calculation)\n",
        "        AND p1.year = p2.year - 5;"
      ],
      "execution_count": 0,
      "outputs": []
    },
    {
      "cell_type": "markdown",
      "metadata": {
        "id": "EokZVC2lTbpk",
        "colab_type": "text"
      },
      "source": [
        "### Case when and then\n",
        "Often it's useful to look at a numerical field not as raw data, but instead as being in different categories or groups.\n",
        "\n",
        "You can use CASE with WHEN, THEN, ELSE, and END to define a new grouping field."
      ]
    },
    {
      "cell_type": "code",
      "metadata": {
        "id": "bpEBmFluUGjR",
        "colab_type": "code",
        "colab": {}
      },
      "source": [
        "SELECT name, continent, code, surface_area,\n",
        "    -- 1. First case\n",
        "    CASE WHEN surface_area > 2000000 THEN 'large'\n",
        "        -- 2. Second case\n",
        "        WHEN surface_area > 350000 THEN 'medium'\n",
        "        -- 3. Else clause + end\n",
        "        ELSE 'small' END\n",
        "        -- 4. Alias name\n",
        "        AS geosize_group\n",
        "-- 5. From table\n",
        "FROM countries;\n",
        "\n",
        "## geosize_group is added as a column"
      ],
      "execution_count": 0,
      "outputs": []
    },
    {
      "cell_type": "markdown",
      "metadata": {
        "id": "PvfUj818UuBx",
        "colab_type": "text"
      },
      "source": [
        "### Inner challenge\n",
        "The table you created with the added geosize_group field has been loaded for you here with the name countries_plus. Observe the use of (and the placement of) the INTO command to create this countries_plus table:\n",
        "```\n",
        "SELECT name, continent, code, surface_area,\n",
        "    CASE WHEN surface_area > 2000000\n",
        "            THEN 'large'\n",
        "       WHEN surface_area > 350000\n",
        "            THEN 'medium'\n",
        "       ELSE 'small' END\n",
        "       AS geosize_group\n",
        "INTO countries_plus\n",
        "FROM countries;\n",
        "```"
      ]
    },
    {
      "cell_type": "markdown",
      "metadata": {
        "id": "DdOOIGm0-jsh",
        "colab_type": "text"
      },
      "source": [
        "# Outer joins and cross joins\n"
      ]
    },
    {
      "cell_type": "markdown",
      "metadata": {
        "id": "HdBfGd4tV2CV",
        "colab_type": "text"
      },
      "source": [
        "Outer joins\n",
        "  - left\n",
        "  - right\n",
        "  - full"
      ]
    },
    {
      "cell_type": "markdown",
      "metadata": {
        "id": "KkayzH85G4Fw",
        "colab_type": "text"
      },
      "source": [
        "### left join"
      ]
    },
    {
      "cell_type": "code",
      "metadata": {
        "id": "XhiVRCO77ZP0",
        "colab_type": "code",
        "colab": {}
      },
      "source": [
        "SELECT c1.name AS city, code, c2.name AS country,\n",
        "       region, city_proper_pop\n",
        "FROM cities AS c1\n",
        "  -- 1. Join right table (with alias)\n",
        "  left JOIN countries AS c2\n",
        "    -- 2. Match on country code\n",
        "    ON c1.country_code = c2.code\n",
        "-- 3. Order by descending country code\n",
        "ORDER BY code DESC;"
      ],
      "execution_count": 0,
      "outputs": []
    },
    {
      "cell_type": "markdown",
      "metadata": {
        "id": "M0fdmzH8G6n4",
        "colab_type": "text"
      },
      "source": [
        "### right join"
      ]
    },
    {
      "cell_type": "code",
      "metadata": {
        "id": "p2txWmZXBv3k",
        "colab_type": "code",
        "colab": {}
      },
      "source": [
        "-- convert this code to use RIGHT JOINs instead of LEFT JOINs\n",
        "/*\n",
        "SELECT cities.name AS city, urbanarea_pop, countries.name AS country,\n",
        "       indep_year, languages.name AS language, percent\n",
        "FROM cities\n",
        "  LEFT JOIN countries\n",
        "    ON cities.country_code = countries.code\n",
        "  LEFT JOIN languages\n",
        "    ON countries.code = languages.code\n",
        "ORDER BY city, language;\n",
        "*/\n",
        "\n",
        "SELECT cities.name AS city, urbanarea_pop, countries.name AS country,\n",
        "       indep_year, languages.name AS language, percent\n",
        "FROM languages\n",
        "right JOIN countries\n",
        "    ON countries.code = languages.code\n",
        "  right JOIN cities\n",
        "    ON cities.country_code = countries.code\n",
        "ORDER BY city, language;"
      ],
      "execution_count": 0,
      "outputs": []
    },
    {
      "cell_type": "markdown",
      "metadata": {
        "id": "11slRn2jByMb",
        "colab_type": "text"
      },
      "source": [
        "```\n",
        "left         |      right\n",
        "\n",
        "cities       |      languages\n",
        "\n",
        "countries    |      countries\n",
        "\n",
        "languages    |       cities\n",
        "```"
      ]
    },
    {
      "cell_type": "markdown",
      "metadata": {
        "id": "5mig3RNRG_Eu",
        "colab_type": "text"
      },
      "source": [
        "### full join"
      ]
    },
    {
      "cell_type": "code",
      "metadata": {
        "id": "e0bnb4b9HA2m",
        "colab_type": "code",
        "colab": {}
      },
      "source": [
        "SELECT name AS country, code, region, basic_unit\n",
        "-- 3. From countries\n",
        "FROM countries\n",
        "  -- 4. Join to currencies\n",
        "  FULL JOIN currencies\n",
        "    -- 5. Match on code\n",
        "    USING (code)\n",
        "-- 1. Where region is North America or null\n",
        "WHERE region = 'North America ' OR region IS NULL\n",
        "-- 2. Order by region\n",
        "ORDER BY region;"
      ],
      "execution_count": 0,
      "outputs": []
    },
    {
      "cell_type": "code",
      "metadata": {
        "id": "Deoj_YaudH48",
        "colab_type": "code",
        "colab": {}
      },
      "source": [
        "-- 7. Select fields (with aliases)\n",
        "SELECT c1.name AS country, region, l.name as language,\n",
        "       basic_unit, frac_unit\n",
        "-- 1. From countries (alias as c1)\n",
        "FROM countries AS c1\n",
        "  -- 2. Join with languages (alias as l)\n",
        "  FULL JOIN languages AS l\n",
        "    -- 3. Match on code\n",
        "    USING (code)\n",
        "  -- 4. Join with currencies (alias as c2)\n",
        "  FULL JOIN currencies AS c2\n",
        "    -- 5. Match on code\n",
        "    USING (code)\n",
        "-- 6. Where region like Melanesia and Micronesia\n",
        "WHERE region LIKE 'M%esia';"
      ],
      "execution_count": 0,
      "outputs": []
    },
    {
      "cell_type": "markdown",
      "metadata": {
        "id": "QkjYBsURdzqk",
        "colab_type": "text"
      },
      "source": [
        "### cross join\n",
        "-  (Recall that cross joins do not use ON or USING.)\n",
        "- produces all possible combinations of the two table"
      ]
    },
    {
      "cell_type": "code",
      "metadata": {
        "id": "m9aO9KWXec6y",
        "colab_type": "code",
        "colab": {}
      },
      "source": [
        "-- 4. Select fields\n",
        "SELECT c.name AS city, l.name AS language\n",
        "-- 1. From cities (alias as c)\n",
        "FROM cities AS c        \n",
        "  -- 2. Join to languages (alias as l)\n",
        "  CROSS JOIN languages AS l\n",
        "-- 3. Where c.name like Hyderabad\n",
        "WHERE c.name LIKE 'Hyder%';"
      ],
      "execution_count": 0,
      "outputs": []
    },
    {
      "cell_type": "markdown",
      "metadata": {
        "id": "GFk4Z9Pa-jqI",
        "colab_type": "text"
      },
      "source": [
        "# Set theory clauses"
      ]
    },
    {
      "cell_type": "markdown",
      "metadata": {
        "id": "h-XM2lkhfoFA",
        "colab_type": "text"
      },
      "source": [
        "### unions:\n",
        "- union = normal one\n",
        "- union all = normal union but the intersention is counted twice\n",
        "- union does not do any look up or matching like joins do, tey just stack records on top of each other.\n",
        "- the first mentioned set of fields will be the set of fields to display\n",
        "\n",
        "![alt text](sets.png)"
      ]
    },
    {
      "cell_type": "code",
      "metadata": {
        "id": "Nu9jJkpaiBTH",
        "colab_type": "code",
        "colab": {}
      },
      "source": [
        "-- Select fields from 2010 table\n",
        "select *\n",
        "  -- From 2010 table\n",
        "  from economies2010\n",
        "\t-- Set theory clause\n",
        "\tunion\n",
        "-- Select fields from 2015 table\n",
        "select *\n",
        "  -- From 2015 table\n",
        "  from economies2015\n",
        "-- Order by code and year\n",
        "order by code,year;"
      ],
      "execution_count": 0,
      "outputs": []
    },
    {
      "cell_type": "markdown",
      "metadata": {
        "id": "Git-Uxs9iLAh",
        "colab_type": "text"
      },
      "source": [
        "UNION can also be used to determine all occurrences of a field across multiple tables."
      ]
    },
    {
      "cell_type": "code",
      "metadata": {
        "id": "1ucUESIZiL5D",
        "colab_type": "code",
        "colab": {}
      },
      "source": [
        "-- Select fields\n",
        "SELECT code, year\n",
        "  -- From economies\n",
        "  FROM economies\n",
        "\t-- Set theory clause\n",
        "\tunion all\n",
        "-- Select fields\n",
        "SELECT country_code, year\n",
        "  -- From populations\n",
        "  FROM populations\n",
        "-- Order by code, year\n",
        "ORDER BY code, year;"
      ],
      "execution_count": 0,
      "outputs": []
    },
    {
      "cell_type": "markdown",
      "metadata": {
        "id": "M6aN2zqzfoAo",
        "colab_type": "text"
      },
      "source": [
        "### Intersect\n",
        "- only includes those records that are common to both tables and field selected"
      ]
    },
    {
      "cell_type": "code",
      "metadata": {
        "id": "Xg4tnDndj_H-",
        "colab_type": "code",
        "colab": {}
      },
      "source": [
        "-- Select fields\n",
        "SELECT code, year\n",
        "  -- From economies\n",
        "  FROM economies\n",
        "\t-- Set theory clause\n",
        "\tintersect\n",
        "-- Select fields\n",
        "SELECT country_code, year\n",
        "  -- From populations\n",
        "  FROM populations\n",
        "-- Order by code, year\n",
        "ORDER BY code, year;"
      ],
      "execution_count": 0,
      "outputs": []
    },
    {
      "cell_type": "markdown",
      "metadata": {
        "id": "OivE7zXBm-K3",
        "colab_type": "text"
      },
      "source": [
        "### Except\n",
        "- allows to include things that are on one table and not in the other"
      ]
    },
    {
      "cell_type": "code",
      "metadata": {
        "id": "CHqTfAvyoIN2",
        "colab_type": "code",
        "colab": {}
      },
      "source": [
        "-- Get the names of cities in cities which are not noted as capital cities in countries as a single field result.\n",
        "-- Select field\n",
        "SELECT name\n",
        "  -- From cities\n",
        "  FROM cities\n",
        "\t-- Set theory clause\n",
        "\texcept\n",
        "-- Select field\n",
        "SELECT capital\n",
        "  -- From countries\n",
        "  FROM countries\n",
        "-- Order by result\n",
        "ORDER BY name;"
      ],
      "execution_count": 0,
      "outputs": []
    },
    {
      "cell_type": "markdown",
      "metadata": {
        "id": "QBEPJwzKpIYg",
        "colab_type": "text"
      },
      "source": [
        "### semi-join\n",
        "- using sub query\n",
        "- chose the records if the condition is met for the second table(sub query)\n",
        "\n",
        "### anti-join\n",
        "- chose the recors if the condition is not met in the subquery"
      ]
    },
    {
      "cell_type": "markdown",
      "metadata": {
        "id": "3nbv2J-WrM38",
        "colab_type": "text"
      },
      "source": [
        "You are now going to use the concept of a semi-join to identify languages spoken in the Middle East.\n"
      ]
    },
    {
      "cell_type": "code",
      "metadata": {
        "id": "qLv71SclrN5w",
        "colab_type": "code",
        "colab": {}
      },
      "source": [
        "-- Select distinct fields\n",
        "select distinct name\n",
        "  -- From languages\n",
        "  from languages\n",
        "-- Where in statement\n",
        "WHERE code IN\n",
        "  -- Subquery\n",
        "  (select code\n",
        "   from countries\n",
        "   where region='Middle East')\n",
        "-- Order by name\n",
        "order by name;"
      ],
      "execution_count": 0,
      "outputs": []
    },
    {
      "cell_type": "markdown",
      "metadata": {
        "id": "p6C8fEPcrbcm",
        "colab_type": "text"
      },
      "source": [
        "### Relating semi-join to a tweaked inner join\n",
        "Let's revisit the code from the previous exercise, which retrieves languages spoken in the Middle East.\n",
        "```\n",
        "SELECT DISTINCT name\n",
        "FROM languages\n",
        "WHERE code IN\n",
        "  (SELECT code\n",
        "   FROM countries\n",
        "   WHERE region = 'Middle East')\n",
        "ORDER BY name;\n",
        "```\n",
        "Sometimes problems solved with semi-joins can also be solved using an inner join.\n",
        "```\n",
        "SELECT languages.name AS language\n",
        "FROM languages\n",
        "INNER JOIN countries\n",
        "ON languages.code = countries.code\n",
        "WHERE region = 'Middle East'\n",
        "ORDER BY language;\n",
        "```\n",
        "This inner join isn't quite right. What is missing from this second code block to get it to match with the correct answer produced by the first block?\n",
        "\n",
        "```\n",
        "  Ans: DISTINCT\n",
        "```"
      ]
    },
    {
      "cell_type": "markdown",
      "metadata": {
        "id": "29E9lAzGtBS2",
        "colab_type": "text"
      },
      "source": [
        "all countries in Oceania were not listed in the resulting inner join with currencies. Use an anti-join to determine which countries were not included!"
      ]
    },
    {
      "cell_type": "code",
      "metadata": {
        "id": "BFsPrGA7tDdq",
        "colab_type": "code",
        "colab": {}
      },
      "source": [
        "-- 3. Select fields\n",
        "select code,name\n",
        "  -- 4. From Countries\n",
        "  from countries\n",
        "  -- 5. Where continent is Oceania\n",
        "  where continent='Oceania'\n",
        "  \t-- 1. And code not in\n",
        "  \tand code not in\n",
        "  \t-- 2. Subquery\n",
        "  \t(select code\n",
        "  \t from currencies);"
      ],
      "execution_count": 0,
      "outputs": []
    },
    {
      "cell_type": "markdown",
      "metadata": {
        "id": "ppFtC-UuuJc_",
        "colab_type": "text"
      },
      "source": [
        "Identify the country codes that are included in either economies or currencies but not in populations.\n",
        "Use that result to determine the names of cities in the countries that match the specification in the previous instruction."
      ]
    },
    {
      "cell_type": "code",
      "metadata": {
        "id": "3RgdVPZ3u4Sa",
        "colab_type": "code",
        "colab": {}
      },
      "source": [
        "-- Select the city name\n",
        "select name\n",
        "  -- Alias the table where city name resides\n",
        "  from cities AS c1\n",
        "  -- Choose only records matching the result of multiple set theory clauses\n",
        "  WHERE country_code IN\n",
        "(\n",
        "    -- Select appropriate field from economies AS e\n",
        "    SELECT e.code\n",
        "    FROM economies AS e\n",
        "    -- Get all additional (unique) values of the field from currencies AS c2  \n",
        "    union\n",
        "    SELECT c2.code\n",
        "    FROM currencies AS c2\n",
        "    -- Exclude those appearing in populations AS p\n",
        "    except\n",
        "    SELECT p.country_code\n",
        "    FROM populations AS p\n",
        ");"
      ],
      "execution_count": 0,
      "outputs": []
    },
    {
      "cell_type": "markdown",
      "metadata": {
        "id": "WUgv9cKj-jn0",
        "colab_type": "text"
      },
      "source": [
        "# Subqueries"
      ]
    },
    {
      "cell_type": "markdown",
      "metadata": {
        "id": "WrqwpeDJu5nN",
        "colab_type": "text"
      },
      "source": [
        "### Subquery inside where\n",
        "You'll now try to figure out which countries had high average life expectancies (at the country level) in 2015.\n",
        "\n",
        "Select all fields from populations with records corresponding to larger than 1.15 times the average you calculated in the first task for 2015."
      ]
    },
    {
      "cell_type": "code",
      "metadata": {
        "id": "Jv8MKycLyFDr",
        "colab_type": "code",
        "colab": {}
      },
      "source": [
        "-- Select fields\n",
        "select *\n",
        "  -- From populations\n",
        "  from populations\n",
        "-- Where life_expectancy is greater than\n",
        "where year=2015 and\n",
        "  -- 1.15 * subquery\n",
        "  life_expectancy > 1.15*\n",
        "   (select avg(life_expectancy)\n",
        "   from populations\n",
        "  where year=2015);"
      ],
      "execution_count": 0,
      "outputs": []
    },
    {
      "cell_type": "markdown",
      "metadata": {
        "id": "s6iMmkcRu5jL",
        "colab_type": "text"
      },
      "source": [
        "### Subquery inside select\n",
        "In this exercise, you'll see how some queries can be written using either a join or a subquery.\n",
        "\n",
        "You have seen previously how to use GROUP BY with aggregate functions and an inner join to get summarized information from multiple tables.\n",
        "\n",
        "The code given in query.sql selects the top nine countries in terms of number of cities appearing in the cities table. Recall that this corresponds to the most populous cities in the world. Your task will be to convert the commented out code to get the same result as the code shown."
      ]
    },
    {
      "cell_type": "code",
      "metadata": {
        "id": "yO0CoctPzYlZ",
        "colab_type": "code",
        "colab": {}
      },
      "source": [
        "SELECT countries.name AS country, COUNT(*) AS cities_num\n",
        "  FROM cities\n",
        "    INNER JOIN countries\n",
        "    ON countries.code = cities.country_code\n",
        "GROUP BY country\n",
        "ORDER BY cities_num DESC, country\n",
        "LIMIT 9;\n",
        "\n",
        "/* \n",
        "SELECT ___ AS ___,\n",
        "  (SELECT ___\n",
        "   FROM ___\n",
        "   WHERE countries.code = cities.country_code) AS cities_num\n",
        "FROM ___\n",
        "ORDER BY ___ ___, ___\n",
        "LIMIT 9;\n",
        "*/"
      ],
      "execution_count": 0,
      "outputs": []
    },
    {
      "cell_type": "code",
      "metadata": {
        "id": "VLtfZFp_0J0b",
        "colab_type": "code",
        "colab": {}
      },
      "source": [
        "-- Ans\n",
        "\n",
        "SELECT countries.name AS country,\n",
        "  (SELECT count(*)\n",
        "   FROM cities\n",
        "   WHERE countries.code = cities.country_code) AS cities_num\n",
        "FROM countries\n",
        "ORDER BY cities_num DESC, country\n",
        "LIMIT 9;"
      ],
      "execution_count": 0,
      "outputs": []
    },
    {
      "cell_type": "markdown",
      "metadata": {
        "id": "xM2NSyot06-D",
        "colab_type": "text"
      },
      "source": [
        "### Subquery inside from\n",
        "The last type of subquery you will work with is one inside of FROM.\n",
        "\n",
        "You will use this to determine the number of languages spoken for each country, identified by the country's local name! (Note this may be different than the name field and is stored in the local_name field.)"
      ]
    },
    {
      "cell_type": "code",
      "metadata": {
        "id": "oC9beBtv07kF",
        "colab_type": "code",
        "colab": {}
      },
      "source": [
        "-- Select fields\n",
        "select local_name, lang_num\n",
        "  -- From countries\n",
        "  from countries,\n",
        "  \t-- Subquery (alias as subquery)\n",
        "  \t(select code, count(*) as lang_num\n",
        "  \t from languages\n",
        "  \t group by code) AS subquery\n",
        "  -- Where codes match\n",
        "  where countries.code=subquery.code\n",
        "-- Order by descending number of languages\n",
        "order by lang_num desc"
      ],
      "execution_count": 0,
      "outputs": []
    },
    {
      "cell_type": "markdown",
      "metadata": {
        "id": "ZO061qV56BpM",
        "colab_type": "text"
      },
      "source": [
        "Determine the maximum inflation rate for each continent in 2015"
      ]
    },
    {
      "cell_type": "code",
      "metadata": {
        "id": "0X9etm0o6CPS",
        "colab_type": "code",
        "colab": {}
      },
      "source": [
        "-- Select fields\n",
        "select max(inflation_rate) as max_inf\n",
        "  -- Subquery using FROM (alias as subquery)\n",
        "  FROM (select name, continent, inflation_rate\n",
        "        from countries\n",
        "      \tinner join economies\n",
        "        using(code)\n",
        "        where year=2015) AS subquery\n",
        "-- Group by continent\n",
        "group by continent;"
      ],
      "execution_count": 0,
      "outputs": []
    },
    {
      "cell_type": "markdown",
      "metadata": {
        "id": "OGTmhFMB6qIM",
        "colab_type": "text"
      },
      "source": [
        "Obtain the name of the country, its continent, and the maximum inflation rate for each continent in 2015. "
      ]
    },
    {
      "cell_type": "code",
      "metadata": {
        "id": "OgzcRy0J6rpW",
        "colab_type": "code",
        "colab": {}
      },
      "source": [
        "-- Select fields\n",
        "select name, continent, inflation_rate\n",
        "  -- From countries\n",
        "  from countries\n",
        "\t-- Join to economies\n",
        "\tinner join economies\n",
        "\t-- Match on code\n",
        "\ton countries.code=economies.code\n",
        "  -- Where year is 2015\n",
        "  where year=2015 and inflation_rate in\n",
        "    -- And inflation rate in subquery (alias as subquery)\n",
        "    (select max(inflation_rate) as max_inf\n",
        "      FROM (select name, continent, inflation_rate\n",
        "            from countries\n",
        "          \tinner join economies\n",
        "            using(code)\n",
        "            where year=2015) AS subquery\n",
        "    group by continent);"
      ],
      "execution_count": 0,
      "outputs": []
    },
    {
      "cell_type": "markdown",
      "metadata": {
        "id": "reUyyeQh98zC",
        "colab_type": "text"
      },
      "source": [
        "### subquery in ON statement\n",
        "In this exercise, you'll need to get the country names and other 2015 data in the economies table and the countries table for Central American countries with an official language."
      ]
    },
    {
      "cell_type": "code",
      "metadata": {
        "id": "Dd9vAmq799pK",
        "colab_type": "code",
        "colab": {}
      },
      "source": [
        "-- Select fields\n",
        "SELECT DISTINCT name, total_investment, imports\n",
        "  -- From table (with alias)\n",
        "  FROM countries AS c\n",
        "    -- Join with table (with alias)\n",
        "    LEFT JOIN economies AS e\n",
        "      -- Match on code\n",
        "      ON (c.code = e.code\n",
        "      -- and code in Subquery\n",
        "        AND c.code IN (\n",
        "          SELECT l.code\n",
        "          FROM languages AS l\n",
        "          WHERE official = 'true'\n",
        "        ) )\n",
        "  -- Where region and year are correct\n",
        "  WHERE region = 'Central America' AND year = 2015 \n",
        "-- Order by field\n",
        "ORDER BY name;"
      ],
      "execution_count": 0,
      "outputs": []
    },
    {
      "cell_type": "markdown",
      "metadata": {
        "id": "Cna0tgcSAeDG",
        "colab_type": "text"
      },
      "source": [
        "You are now tasked with determining the top 10 capital cities in Europe and the Americas in terms of a calculated percentage using city_proper_pop and metroarea_pop in cities."
      ]
    },
    {
      "cell_type": "code",
      "metadata": {
        "id": "7lvdYr3XAefF",
        "colab_type": "code",
        "colab": {}
      },
      "source": [
        "SELECT name, country_code, city_proper_pop, metroarea_pop,  \n",
        "      -- Calculate city_perc\n",
        "      city_proper_pop / metroarea_pop * 100 AS city_perc\n",
        "  -- From appropriate table\n",
        "  FROM cities\n",
        "  -- Where \n",
        "  WHERE name IN\n",
        "    -- Subquery\n",
        "    (SELECT capital\n",
        "     FROM countries\n",
        "     WHERE (continent = 'Europe'\n",
        "        OR continent LIKE '%America%'))\n",
        "       AND metroarea_pop IS not null\n",
        "-- Order appropriately\n",
        "ORDER BY city_perc desc\n",
        "-- Limit amount\n",
        "limit 10;"
      ],
      "execution_count": 0,
      "outputs": []
    }
  ]
}