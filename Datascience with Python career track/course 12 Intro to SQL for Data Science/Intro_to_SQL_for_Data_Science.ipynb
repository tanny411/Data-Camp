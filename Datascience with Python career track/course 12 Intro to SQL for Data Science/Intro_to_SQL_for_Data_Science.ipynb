{
  "nbformat": 4,
  "nbformat_minor": 0,
  "metadata": {
    "colab": {
      "name": "Intro to SQL for Data Science.ipynb",
      "version": "0.3.2",
      "provenance": [],
      "collapsed_sections": [
        "A9x9p34F_Q0k",
        "JBB-dk3y_fNZ",
        "9zTJVTSWA75-",
        "CbVhlUQBB0lB",
        "k8ZZGjR_B4Ig",
        "HWhCGVsBB4Ex",
        "Ny7CteZyDgUP",
        "1BACu7j2_Yh-",
        "LMnxTjMeFSKm",
        "Fdc874JyFSG4",
        "znyUKvGcFSEY",
        "Cspb_g-HKQtj",
        "-ZNJHd46LwJa",
        "xiRKBVzUMWyt",
        "q8khD8PaNNVI",
        "ODcT1Qnc_Yfg",
        "jfWhGyFEN4oG",
        "3Ww3-hjcN4kJ",
        "-PNQk68hN4h0",
        "MKKxgAc5_Yck",
        "drqocxXuczQJ",
        "7IJgI308czIP",
        "GLRWnr1Clpmh",
        "SfR2-DgKlpi4",
        "fHGdXrxHtxtV",
        "edGxrA8FxuPR",
        "MDmdDi21yi1W",
        "rL7TZmgCC_rO"
      ]
    },
    "kernelspec": {
      "name": "python3",
      "display_name": "Python 3"
    }
  },
  "cells": [
    {
      "cell_type": "markdown",
      "metadata": {
        "id": "kjdFmUrUfiEX",
        "colab_type": "text"
      },
      "source": [
        "**These are not python codes**"
      ]
    },
    {
      "cell_type": "markdown",
      "metadata": {
        "id": "A9x9p34F_Q0k",
        "colab_type": "text"
      },
      "source": [
        "# Selecting columns"
      ]
    },
    {
      "cell_type": "markdown",
      "metadata": {
        "id": "FNzZ3bBZBQ4f",
        "colab_type": "text"
      },
      "source": [
        "- SELECT 'DataCamp &lt;3 SQL'\n",
        "AS result;\n",
        "  - just the string is the result"
      ]
    },
    {
      "cell_type": "markdown",
      "metadata": {
        "id": "JBB-dk3y_fNZ",
        "colab_type": "text"
      },
      "source": [
        "## Beginning your SQL journey\n",
        "Now that you're familiar with the interface, let's get straight into it.\n",
        "\n",
        "SQL, which stands for Structured Query Language, is a language for interacting with data stored in something called a relational database.\n",
        "\n",
        "You can think of a relational database as a collection of tables. A table is just a set of rows and columns, like a spreadsheet, which represents exactly one type of entity. For example, a table might represent employees in a company or purchases made, but not both.\n",
        "\n",
        "Each row, or record, of a table contains information about a single entity. For example, in a table representing employees, each row represents a single person. Each column, or field, of a table contains a single attribute for all rows in the table. For example, in a table representing employees, we might have a column containing first and last names for all employees.\n",
        "\n",
        "The table of employees might look something like this:\n",
        "```\n",
        "id\tname\t age\tnationality\n",
        "-------------------------------\n",
        "1\tJessica\t22\tIreland\n",
        "2\tGabriel\t48\tFrance\n",
        "3\tLaura\t  36\tUSA\n",
        "```"
      ]
    },
    {
      "cell_type": "markdown",
      "metadata": {
        "id": "9zTJVTSWA75-",
        "colab_type": "text"
      },
      "source": [
        "## SELECTing single columns\n",
        "A query is a request for data from a database table (or combination of tables). Querying is an essential skill for a data scientist, since the data you need for your analyses will often live in databases.\n",
        "In SQL, you can select data from a table using a SELECT statement. For example, the following query selects the name column from the people table:\n",
        "```\n",
        "SELECT name\n",
        "FROM people;\n",
        "```\n",
        "In this query, SELECT and FROM are called keywords. In SQL, keywords are not case-sensitive, which means you can write the same query as:\n",
        "```\n",
        "select name\n",
        "from people;\n",
        "```\n",
        "That said, it's good practice to make SQL keywords uppercase to distinguish them from other parts of your query, like column and table names.\n",
        "\n",
        "It's also good practice (but not necessary for the exercises in this course) to include a semicolon at the end of your query. This tells SQL where the end of your query is!"
      ]
    },
    {
      "cell_type": "markdown",
      "metadata": {
        "id": "CbVhlUQBB0lB",
        "colab_type": "text"
      },
      "source": [
        "## SELECTing multiple columns\n",
        "Well done! Now you know how to select single columns.\n",
        "\n",
        "In the real world, you will often want to select multiple columns. Luckily, SQL makes this really easy. To select multiple columns from a table, simply separate the column names with commas!\n",
        "\n",
        "For example, this query selects two columns, name and birthdate, from the people table:\n",
        "```\n",
        "SELECT name, birthdate\n",
        "FROM people;\n",
        "```\n",
        "Sometimes, you may want to select all columns from a table. Typing out every column name would be a pain, so there's a handy shortcut:\n",
        "```\n",
        "SELECT *\n",
        "FROM people;\n",
        "```\n",
        "If you only want to return a certain number of results, you can use the LIMIT keyword to limit the number of rows returned:\n",
        "```\n",
        "SELECT *\n",
        "FROM people\n",
        "LIMIT 10;\n",
        "```"
      ]
    },
    {
      "cell_type": "markdown",
      "metadata": {
        "id": "k8ZZGjR_B4Ig",
        "colab_type": "text"
      },
      "source": [
        "## SELECT DISTINCT\n",
        "Often your results will include many duplicate values. If you want to select all the unique values from a column, you can use the DISTINCT keyword.\n",
        "\n",
        "This might be useful if, for example, you're interested in knowing which languages are represented in the films table:\n",
        "```\n",
        "SELECT DISTINCT language\n",
        "FROM films;\n",
        "```"
      ]
    },
    {
      "cell_type": "markdown",
      "metadata": {
        "id": "HWhCGVsBB4Ex",
        "colab_type": "text"
      },
      "source": [
        "## Learning to COUNT\n",
        "What if you want to count the number of employees in your employees table? The COUNT statement lets you do this by returning the number of rows in one or more columns.\n",
        "\n",
        "For example, this code gives the number of rows in the people table:\n",
        "\n",
        "```\n",
        "SELECT COUNT(*)\n",
        "FROM people;\n",
        "```"
      ]
    },
    {
      "cell_type": "markdown",
      "metadata": {
        "id": "Ny7CteZyDgUP",
        "colab_type": "text"
      },
      "source": [
        "## Practice with COUNT\n",
        "As you've seen, COUNT(*) tells you how many rows are in a table. However, if you want to count the number of non-missing values in a particular column, you can call COUNT on just that column.\n",
        "\n",
        "For example, to count the number of birth dates present in the people table:\n",
        "```\n",
        "SELECT COUNT(birthdate)\n",
        "FROM people;\n",
        "```\n",
        "It's also common to combine COUNT with DISTINCT to count the number of distinct values in a column.\n",
        "\n",
        "For example, this query counts the number of distinct birth dates contained in the people table:\n",
        "```\n",
        "SELECT COUNT(DISTINCT birthdate)\n",
        "FROM people;\n",
        "```"
      ]
    },
    {
      "cell_type": "markdown",
      "metadata": {
        "id": "1BACu7j2_Yh-",
        "colab_type": "text"
      },
      "source": [
        "# Filtering rows"
      ]
    },
    {
      "cell_type": "markdown",
      "metadata": {
        "id": "LMnxTjMeFSKm",
        "colab_type": "text"
      },
      "source": [
        "## Filtering results\n",
        "In SQL, the WHERE keyword allows you to filter based on both text and numeric values in a table. There are a few different comparison operators you can use:\n",
        "\n",
        "- = equal\n",
        "- <> not equal\n",
        "- &lt; less than\n",
        "- &gt; greater than\n",
        "- &lt;= less than or equal to\n",
        "- &gt;= greater than or equal to\n",
        "\n",
        "For example, you can filter text records such as title. The following code returns all films with the title 'Metropolis':\n",
        "\n",
        "```\n",
        "SELECT title\n",
        "FROM films\n",
        "WHERE title = 'Metropolis';\n",
        "```\n",
        "\n",
        "Notice that the WHERE clause always comes after the FROM statement!\n",
        "\n",
        "**We will use <> and not != for the not equal operator, as per the SQL standard.**\n",
        "\n",
        "**Important: in PostgreSQL, you must use single quotes with WHERE.**"
      ]
    },
    {
      "cell_type": "markdown",
      "metadata": {
        "id": "Fdc874JyFSG4",
        "colab_type": "text"
      },
      "source": [
        "## WHERE AND\n",
        "Often, you'll want to select data based on multiple conditions. You can build up your WHERE queries by combining multiple conditions with the AND keyword.\n",
        "\n",
        "For example,\n",
        "```\n",
        "SELECT title\n",
        "FROM films\n",
        "WHERE release_year > 1994\n",
        "AND release_year < 2000;\n",
        "```\n",
        "gives you the titles of films released between 1994 and 2000.\n",
        "\n",
        "Note that you need to specify the column name separately for every AND condition, so the following would be invalid:\n",
        "```\n",
        "SELECT title\n",
        "FROM films\n",
        "WHERE release_year > 1994 AND < 2000;\n",
        "```\n",
        "You can add as many AND conditions as you need!"
      ]
    },
    {
      "cell_type": "markdown",
      "metadata": {
        "id": "znyUKvGcFSEY",
        "colab_type": "text"
      },
      "source": [
        "## WHERE AND OR\n",
        "What if you want to select rows based on multiple conditions where some but not all of the conditions need to be met? For this, SQL has the OR operator.\n",
        "\n",
        "For example, the following returns all films released in either 1994 or 2000:\n",
        "```\n",
        "SELECT title\n",
        "FROM films\n",
        "WHERE release_year = 1994\n",
        "OR release_year = 2000;\n",
        "```\n",
        "Note that you need to specify the column for every OR condition, so the following is invalid:\n",
        "```\n",
        "SELECT title\n",
        "FROM films\n",
        "WHERE release_year = 1994 OR 2000;\n",
        "```\n",
        "When combining AND and OR, be sure to enclose the individual clauses in parentheses, like so:\n",
        "```\n",
        "SELECT title\n",
        "FROM films\n",
        "WHERE (release_year = 1994 OR release_year = 1995)\n",
        "AND (certification = 'PG' OR certification = 'R');\n",
        "```\n",
        "Otherwise, due to SQL's precedence rules, you may not get the results you're expecting!"
      ]
    },
    {
      "cell_type": "code",
      "metadata": {
        "id": "j1GNerm3KPjl",
        "colab_type": "code",
        "colab": {}
      },
      "source": [
        "SELECT title,release_year FROM films WHERE release_year>=1990 AND release_year<2000 AND (language='French' OR language='Spanish') AND gross>2000000"
      ],
      "execution_count": 0,
      "outputs": []
    },
    {
      "cell_type": "markdown",
      "metadata": {
        "id": "Cspb_g-HKQtj",
        "colab_type": "text"
      },
      "source": [
        "## BETWEEN\n",
        "As you've learned, you can use the following query to get titles of all films released in and between 1994 and 2000:\n",
        "```\n",
        "SELECT title\n",
        "FROM films\n",
        "WHERE release_year >= 1994\n",
        "AND release_year <= 2000;\n",
        "```\n",
        "Checking for ranges like this is very common, so in SQL the BETWEEN keyword provides a useful shorthand for filtering values within a specified range. This query is equivalent to the one above:\n",
        "```\n",
        "SELECT title\n",
        "FROM films\n",
        "WHERE release_year\n",
        "BETWEEN 1994 AND 2000;\n",
        "```\n",
        "It's important to remember that BETWEEN is inclusive, meaning the beginning and end values are included in the results!\n",
        "\n",
        "Similar to the WHERE clause, the BETWEEN clause can be used with multiple AND and OR operators, so you can build up your queries and make them even more powerful!\n",
        "```\n",
        "SELECT title,release_year from films where release_year between 1990 and 2000 and budget>100000000 and (language='Spanish' or language='French')\n",
        "```"
      ]
    },
    {
      "cell_type": "markdown",
      "metadata": {
        "id": "-ZNJHd46LwJa",
        "colab_type": "text"
      },
      "source": [
        "## WHERE IN\n",
        "As you've seen, WHERE is very useful for filtering results. However, if you want to filter based on many conditions, WHERE can get unwieldy. For example:\n",
        "```\n",
        "SELECT name\n",
        "FROM kids\n",
        "WHERE age = 2\n",
        "OR age = 4\n",
        "OR age = 6\n",
        "OR age = 8\n",
        "OR age = 10;\n",
        "```\n",
        "Enter the IN operator! The IN operator allows you to specify multiple values in a WHERE clause, making it easier and quicker to specify multiple OR conditions! Neat, right?\n",
        "\n",
        "So, the above example would become simply:\n",
        "```\n",
        "SELECT name\n",
        "FROM kids\n",
        "WHERE age IN (2, 4, 6, 8, 10);\n",
        "```"
      ]
    },
    {
      "cell_type": "markdown",
      "metadata": {
        "id": "xiRKBVzUMWyt",
        "colab_type": "text"
      },
      "source": [
        "## Introduction to NULL and IS NULL\n",
        "In SQL, NULL represents a missing or unknown value. You can check for NULL values using the expression IS NULL. For example, to count the number of missing birth dates in the people table:\n",
        "```\n",
        "SELECT COUNT(*)\n",
        "FROM people\n",
        "WHERE birthdate IS NULL;\n",
        "```\n",
        "As you can see, IS NULL is useful when combined with WHERE to figure out what data you're missing.\n",
        "\n",
        "Sometimes, you'll want to filter out missing values so you only get results which are not NULL. To do this, you can use the IS NOT NULL operator.\n",
        "\n",
        "For example, this query gives the names of all people whose birth dates are not missing in the people table.\n",
        "```\n",
        "SELECT name\n",
        "FROM people\n",
        "WHERE birthdate IS NOT NULL;\n",
        "```"
      ]
    },
    {
      "cell_type": "markdown",
      "metadata": {
        "id": "q8khD8PaNNVI",
        "colab_type": "text"
      },
      "source": [
        "## LIKE and NOT LIKE\n",
        "As you've seen, the WHERE clause can be used to filter text data. However, so far you've only been able to filter by specifying the exact text you're interested in. In the real world, often you'll want to search for a pattern rather than a specific text string.\n",
        "\n",
        "In SQL, the LIKE operator can be used in a WHERE clause to search for a pattern in a column. To accomplish this, you use something called a wildcard as a placeholder for some other values. There are two wildcards you can use with LIKE:\n",
        "\n",
        "The % wildcard will match zero, one, or many characters in text. For example, the following query matches companies like 'Data', 'DataC' 'DataCamp', 'DataMind', and so on:\n",
        "```\n",
        "SELECT name\n",
        "FROM companies\n",
        "WHERE name LIKE 'Data%';\n",
        "```\n",
        "The _ wildcard will match a single character. For example, the following query matches companies like 'DataCamp', 'DataComp', and so on:\n",
        "```\n",
        "SELECT name\n",
        "FROM companies\n",
        "WHERE name LIKE 'DataC_mp';\n",
        "```\n",
        "You can also use the NOT LIKE operator to find records that don't match the pattern you specify."
      ]
    },
    {
      "cell_type": "markdown",
      "metadata": {
        "id": "ODcT1Qnc_Yfg",
        "colab_type": "text"
      },
      "source": [
        "# Aggregate Functions"
      ]
    },
    {
      "cell_type": "markdown",
      "metadata": {
        "id": "jfWhGyFEN4oG",
        "colab_type": "text"
      },
      "source": [
        "## Aggregate functions\n",
        "Often, you will want to perform some calculation on the data in a database. SQL provides a few functions, called aggregate functions, to help you out with this.\n",
        "\n",
        "For example,\n",
        "```\n",
        "SELECT AVG(budget)\n",
        "FROM films;\n",
        "```\n",
        "gives you the average value from the budget column of the films table. Similarly, the MAX function returns the highest budget:\n",
        "```\n",
        "SELECT MAX(budget)\n",
        "FROM films;\n",
        "```\n",
        "The SUM function returns the result of adding up the numeric values in a column:\n",
        "```\n",
        "SELECT SUM(budget)\n",
        "FROM films;\n",
        "```\n",
        "You can probably guess what the MIN function does!"
      ]
    },
    {
      "cell_type": "markdown",
      "metadata": {
        "id": "3Ww3-hjcN4kJ",
        "colab_type": "text"
      },
      "source": [
        "## A note on arithmetic\n",
        "In addition to using aggregate functions, you can perform basic arithmetic with symbols like +, -, *, and /.\n",
        "\n",
        "So, for example, this gives a result of 12:\n",
        "\n",
        "`SELECT (4 * 3);`\n",
        "\n",
        "However, the following gives a result of 1:\n",
        "\n",
        "`SELECT (4 / 3);`\n",
        "\n",
        "What's going on here?\n",
        "\n",
        "SQL assumes that if you divide an integer by an integer, you want to get an integer back. So be careful when dividing!\n",
        "\n",
        "If you want more precision when dividing, you can add decimal places to your numbers. For example,\n",
        "\n",
        "`SELECT (4.0 / 3.0) AS result;`\n",
        "\n",
        "gives you the result you would expect: 1.333."
      ]
    },
    {
      "cell_type": "markdown",
      "metadata": {
        "id": "-PNQk68hN4h0",
        "colab_type": "text"
      },
      "source": [
        "## It's AS simple AS aliasing\n",
        "You may have noticed in the first exercise of this chapter that the column name of your result was just the name of the function you used. For example,\n",
        "```\n",
        "SELECT MAX(budget)\n",
        "FROM films;\n",
        "```\n",
        "gives you a result with one column, named max. But what if you use two functions like this?\n",
        "```\n",
        "SELECT MAX(budget), MAX(duration)\n",
        "FROM films;\n",
        "```\n",
        "Well, then you'd have two columns named max, which isn't very useful!\n",
        "\n",
        "To avoid situations like this, SQL allows you to do something called aliasing. Aliasing simply means you assign a temporary name to something. To alias, you use the AS keyword, which you've already seen earlier in this course.\n",
        "\n",
        "For example, in the above example we could use aliases to make the result clearer:\n",
        "```\n",
        "SELECT MAX(budget) AS max_budget,\n",
        "       MAX(duration) AS max_duration\n",
        "FROM films;\n",
        "```\n",
        "Aliases are helpful for making results more readable!"
      ]
    },
    {
      "cell_type": "code",
      "metadata": {
        "id": "94ap_QO3Zy-u",
        "colab_type": "code",
        "colab": {}
      },
      "source": [
        "select title , gross-budget as net_profit from films"
      ],
      "execution_count": 0,
      "outputs": []
    },
    {
      "cell_type": "code",
      "metadata": {
        "id": "Srjgz43ubMFM",
        "colab_type": "code",
        "colab": {}
      },
      "source": [
        "select AVG(duration)/60.0 as avg_duration_hours from films"
      ],
      "execution_count": 0,
      "outputs": []
    },
    {
      "cell_type": "markdown",
      "metadata": {
        "id": "iD5jpePFcCoN",
        "colab_type": "text"
      },
      "source": [
        "Get the percentage of people who are no longer alive. Alias the result as percentage_dead. Remember to use 100.0 and not 100!"
      ]
    },
    {
      "cell_type": "code",
      "metadata": {
        "id": "6sfzweAycCBN",
        "colab_type": "code",
        "colab": {}
      },
      "source": [
        "select count(deathdate)*100.0/count(*) as percentage_dead from people"
      ],
      "execution_count": 0,
      "outputs": []
    },
    {
      "cell_type": "markdown",
      "metadata": {
        "id": "MKKxgAc5_Yck",
        "colab_type": "text"
      },
      "source": [
        "# Sorting, grouping and joins"
      ]
    },
    {
      "cell_type": "markdown",
      "metadata": {
        "id": "drqocxXuczQJ",
        "colab_type": "text"
      },
      "source": [
        "## ORDER BY\n",
        "In SQL, the ORDER BY keyword is used to sort results in ascending or descending order according to the values of one or more columns.\n",
        "\n",
        "By default ORDER BY will sort in ascending order. If you want to sort the results in descending order, you can use the DESC keyword. For example,\n",
        "```\n",
        "SELECT title\n",
        "FROM films\n",
        "ORDER BY release_year DESC;\n",
        "```\n",
        "gives you the titles of films sorted by release year, from newest to oldest."
      ]
    },
    {
      "cell_type": "markdown",
      "metadata": {
        "id": "bGaAtQyfczN_",
        "colab_type": "text"
      },
      "source": [
        "Get the title of films released in 2000 or 2012, in the order they were released."
      ]
    },
    {
      "cell_type": "code",
      "metadata": {
        "id": "QLD-dVIlfOZ9",
        "colab_type": "code",
        "colab": {}
      },
      "source": [
        "select title from films where release_year in (2000,2012) order by release_year"
      ],
      "execution_count": 0,
      "outputs": []
    },
    {
      "cell_type": "markdown",
      "metadata": {
        "id": "Te-fR5x8czLB",
        "colab_type": "text"
      },
      "source": [
        "Get all details for all films except those released in 2015 and order them by duration."
      ]
    },
    {
      "cell_type": "code",
      "metadata": {
        "id": "AcOy3HDPfd12",
        "colab_type": "code",
        "colab": {}
      },
      "source": [
        "select * from films where release_year<>2015 order by duration"
      ],
      "execution_count": 0,
      "outputs": []
    },
    {
      "cell_type": "markdown",
      "metadata": {
        "id": "7IJgI308czIP",
        "colab_type": "text"
      },
      "source": [
        "## Sorting multiple columns\n",
        "ORDER BY can also be used to sort on multiple columns. It will sort by the first column specified, then sort by the next, then the next, and so on. For example,\n",
        "```\n",
        "SELECT birthdate, name\n",
        "FROM people\n",
        "ORDER BY birthdate, name;\n",
        "```\n",
        "sorts on birth dates first (oldest to newest) and then sorts on the names in alphabetical order. \n",
        "**The order of columns is important!**"
      ]
    },
    {
      "cell_type": "markdown",
      "metadata": {
        "id": "GLRWnr1Clpmh",
        "colab_type": "text"
      },
      "source": [
        "## GROUP BY\n",
        "Now you know how to sort results! Often you'll need to aggregate results. For example, you might want to count the number of male and female employees in your company. Here, what you want is to group all the males together and count them, and group all the females together and count them. In SQL, GROUP BY allows you to group a result by one or more columns, like so:\n",
        "```\n",
        "SELECT sex, count(*)\n",
        "FROM employees\n",
        "GROUP BY sex;\n",
        "This might give, for example:\n",
        "```\n",
        "```\n",
        "sex\tcount\n",
        "-----------\n",
        "male\t  15 \n",
        "female\t19\n",
        "```\n",
        "Commonly, GROUP BY is used with aggregate functions like COUNT() or MAX(). **Note that GROUP BY always goes after the FROM clause!**"
      ]
    },
    {
      "cell_type": "markdown",
      "metadata": {
        "id": "SfR2-DgKlpi4",
        "colab_type": "text"
      },
      "source": [
        "## GROUP BY practice\n",
        "As you've just seen, combining aggregate functions with GROUP BY can yield some powerful results!\n",
        "\n",
        "**A word of warning:** SQL will return an error if you try to SELECT a field that is not in your GROUP BY clause without using it to calculate some kind of value about the entire group.\n",
        "\n",
        "Note that you can combine GROUP BY with ORDER BY to group your results, calculate something about them, and then order your results. For example,\n",
        "```\n",
        "SELECT sex, count(*)\n",
        "FROM employees\n",
        "GROUP BY sex\n",
        "ORDER BY count DESC;\n",
        "might return something like\n",
        "```\n",
        "```\n",
        "sex\tcount\n",
        "---------\n",
        "female\t19\n",
        "male\t  15\n",
        "```\n",
        "because there are more females at our company than males. Note also that **ORDER BY always goes after GROUP BY**. You can't sort values that you haven't calculated yet!"
      ]
    },
    {
      "cell_type": "markdown",
      "metadata": {
        "id": "vpbdQ9OZtqJO",
        "colab_type": "text"
      },
      "source": [
        "Get the release year, country, and highest budget spent making a film for each year, for each country. Sort your results by release year and country."
      ]
    },
    {
      "cell_type": "code",
      "metadata": {
        "id": "G3DM-1gXtxHa",
        "colab_type": "code",
        "colab": {}
      },
      "source": [
        "select release_year,country, max(budget) from films \n",
        "group by release_year,country \n",
        "order by release_year,country"
      ],
      "execution_count": 0,
      "outputs": []
    },
    {
      "cell_type": "markdown",
      "metadata": {
        "id": "fHGdXrxHtxtV",
        "colab_type": "text"
      },
      "source": [
        "## HAVING a great time\n",
        "In SQL, aggregate functions can't be used in WHERE clauses. For example, the following query is invalid:\n",
        "```\n",
        "SELECT release_year\n",
        "FROM films\n",
        "GROUP BY release_year\n",
        "WHERE COUNT(title) > 10;\n",
        "```\n",
        "This means that if you want to filter based on the result of an aggregate function, you need another way! That's where the HAVING clause comes in. For example,\n",
        "```\n",
        "SELECT release_year\n",
        "FROM films\n",
        "GROUP BY release_year\n",
        "HAVING COUNT(title) > 10;\n",
        "```\n",
        "shows only those years in which more than 10 films were released."
      ]
    },
    {
      "cell_type": "markdown",
      "metadata": {
        "id": "vyP79VfNuiKw",
        "colab_type": "text"
      },
      "source": [
        "In how many different years were more than 200 movies released?"
      ]
    },
    {
      "cell_type": "code",
      "metadata": {
        "id": "zWzQorcEuhFx",
        "colab_type": "code",
        "colab": {}
      },
      "source": [
        "Select count(yr) from\n",
        "(SELECT release_year as yr\n",
        "FROM films\n",
        "GROUP BY release_year\n",
        "HAVING COUNT(title) > 200) as subquery;"
      ],
      "execution_count": 0,
      "outputs": []
    },
    {
      "cell_type": "markdown",
      "metadata": {
        "id": "pFSv-3n6wciz",
        "colab_type": "text"
      },
      "source": [
        "Now you're going to write a query that returns the average budget and average gross earnings for films in each year after 1990, if the average budget is greater than $60 million."
      ]
    },
    {
      "cell_type": "code",
      "metadata": {
        "id": "NRoowVktwYp5",
        "colab_type": "code",
        "colab": {}
      },
      "source": [
        "select release_year,avg(budget) as avg_budget,avg(gross) as avg_gross from films\n",
        "group by release_year\n",
        "having release_year>1990 and avg(budget)>60000000\n",
        "order by avg(gross) desc"
      ],
      "execution_count": 0,
      "outputs": []
    },
    {
      "cell_type": "markdown",
      "metadata": {
        "id": "5Kmmf2NMwoUc",
        "colab_type": "text"
      },
      "source": [
        "Get the country, average budget, and average gross take of countries that have made more than 10 films. Order the result by country name, and limit the number of results displayed to 5. You should alias the averages as avg_budget and avg_gross respectively."
      ]
    },
    {
      "cell_type": "code",
      "metadata": {
        "id": "gUEqwQjYwqXn",
        "colab_type": "code",
        "colab": {}
      },
      "source": [
        "# -- select country, average budget, average gross\n",
        "# -- from the films table\n",
        "# -- group by country \n",
        "# -- where the country has more than 10 titles\n",
        "# -- order by country\n",
        "# -- limit to only show 5 results\n",
        "\n",
        "select country,avg(budget) as avg_budget,avg(gross) as avg_gross\n",
        "from films\n",
        "group by country\n",
        "having count(country)>10\n",
        "order by country\n",
        "limit 5"
      ],
      "execution_count": 0,
      "outputs": []
    },
    {
      "cell_type": "markdown",
      "metadata": {
        "id": "edGxrA8FxuPR",
        "colab_type": "text"
      },
      "source": [
        "## A taste of things to come (JOIN)\n",
        "Congrats on making it to the end of the course! By now you should have a good understanding of the basics of SQL.\n",
        "\n",
        "There's one more concept we're going to introduce. You may have noticed that all your results so far have been from just one table, e.g. films or people.\n",
        "\n",
        "In the real world however, you will often want to query multiple tables. For example, what if you want to see the IMDB score for a particular movie?\n",
        "\n",
        "In this case, you'd want to get the ID of the movie from the films table and then use it to get IMDB information from the reviews table. In SQL, this concept is known as a join, and a basic join is shown in the editor to the right.\n",
        "\n",
        "The query in the editor gets the IMDB score for the film To Kill a Mockingbird! Cool right?\n",
        "\n",
        "As you can see, joins are incredibly useful and important to understand for anyone using SQL.\n",
        "\n",
        "We have a whole follow-up course dedicated to them called [Joining Data in PostgreSQL](https://www.datacamp.com/courses/joining-data-in-postgresql) for you to hone your database skills further!"
      ]
    },
    {
      "cell_type": "markdown",
      "metadata": {
        "id": "MDmdDi21yi1W",
        "colab_type": "text"
      },
      "source": [
        "# Keywords\n"
      ]
    },
    {
      "cell_type": "markdown",
      "metadata": {
        "id": "rL7TZmgCC_rO",
        "colab_type": "text"
      },
      "source": [
        "## selecting\n",
        "- SELECT\n",
        "- FROM\n",
        "- *\n",
        "- LIMIT\n",
        "- DISTINCT\n",
        "- COUNT(*)\n",
        "- COUNT(col) #(non-missing)\n",
        "- COUNT(DISTINCT col)\n",
        "\n",
        "## filtering\n",
        "- WHERE\n",
        "- WHERE AND/OR\n",
        "- WHERE col BETWEEN 10 AND 20\n",
        "- WHERE age IN (22,25,30)\n",
        "- IS NULL, IS NOT NULL\n",
        "- LIKE and NOT LIKE\n",
        "\n",
        "## aggregate\n",
        "- AVG, SUM, MIN, MAX\n",
        "- alising AS\n",
        "\n",
        "## sort, join, groupby\n",
        "- ORDER BY col\n",
        "- ORDER BY col1,col2\n",
        "- GROUP BY\n",
        "- FROM-> GROUP BY-> ORDER BY\n",
        "- FROM-> GROUP BY-> HAVING\n",
        "- JOIN table2 ON table1.id=table2.some_id"
      ]
    },
    {
      "cell_type": "code",
      "metadata": {
        "id": "B6zHwGVa_OcR",
        "colab_type": "code",
        "colab": {}
      },
      "source": [
        ""
      ],
      "execution_count": 0,
      "outputs": []
    }
  ]
}